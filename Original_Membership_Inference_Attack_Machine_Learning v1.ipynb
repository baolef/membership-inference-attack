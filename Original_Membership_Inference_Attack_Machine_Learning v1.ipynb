{
  "nbformat": 4,
  "nbformat_minor": 0,
  "metadata": {
    "colab": {
      "provenance": []
    },
    "kernelspec": {
      "name": "python3",
      "display_name": "Python 3"
    },
    "language_info": {
      "name": "python"
    },
    "accelerator": "GPU",
    "gpuClass": "standard",
    "widgets": {
      "application/vnd.jupyter.widget-state+json": {
        "5ac9151b0a8c4d1192fe2b2cae882576": {
          "model_module": "@jupyter-widgets/controls",
          "model_name": "HBoxModel",
          "model_module_version": "1.5.0",
          "state": {
            "_dom_classes": [],
            "_model_module": "@jupyter-widgets/controls",
            "_model_module_version": "1.5.0",
            "_model_name": "HBoxModel",
            "_view_count": null,
            "_view_module": "@jupyter-widgets/controls",
            "_view_module_version": "1.5.0",
            "_view_name": "HBoxView",
            "box_style": "",
            "children": [
              "IPY_MODEL_ec73f6ddc1224b66848a10541ea9d26f",
              "IPY_MODEL_9fa40a262adc4bc48c5402b01b5cbfe2",
              "IPY_MODEL_e8989598b4654cc7b18823825643f032"
            ],
            "layout": "IPY_MODEL_bb3b2b19f50f48a69913c54712f9ab17"
          }
        },
        "ec73f6ddc1224b66848a10541ea9d26f": {
          "model_module": "@jupyter-widgets/controls",
          "model_name": "HTMLModel",
          "model_module_version": "1.5.0",
          "state": {
            "_dom_classes": [],
            "_model_module": "@jupyter-widgets/controls",
            "_model_module_version": "1.5.0",
            "_model_name": "HTMLModel",
            "_view_count": null,
            "_view_module": "@jupyter-widgets/controls",
            "_view_module_version": "1.5.0",
            "_view_name": "HTMLView",
            "description": "",
            "description_tooltip": null,
            "layout": "IPY_MODEL_240994702f3d41d1a3ec424a283d8ef0",
            "placeholder": "​",
            "style": "IPY_MODEL_4020a06640534aca8a26c4345c0051f1",
            "value": "Downloading (…)ain/hyperparams.yaml: 100%"
          }
        },
        "9fa40a262adc4bc48c5402b01b5cbfe2": {
          "model_module": "@jupyter-widgets/controls",
          "model_name": "FloatProgressModel",
          "model_module_version": "1.5.0",
          "state": {
            "_dom_classes": [],
            "_model_module": "@jupyter-widgets/controls",
            "_model_module_version": "1.5.0",
            "_model_name": "FloatProgressModel",
            "_view_count": null,
            "_view_module": "@jupyter-widgets/controls",
            "_view_module_version": "1.5.0",
            "_view_name": "ProgressView",
            "bar_style": "success",
            "description": "",
            "description_tooltip": null,
            "layout": "IPY_MODEL_e3551fd17e204903a9896ef4b1aba6de",
            "max": 1920,
            "min": 0,
            "orientation": "horizontal",
            "style": "IPY_MODEL_035fd8964c124f9e99e7edcb344975e1",
            "value": 1920
          }
        },
        "e8989598b4654cc7b18823825643f032": {
          "model_module": "@jupyter-widgets/controls",
          "model_name": "HTMLModel",
          "model_module_version": "1.5.0",
          "state": {
            "_dom_classes": [],
            "_model_module": "@jupyter-widgets/controls",
            "_model_module_version": "1.5.0",
            "_model_name": "HTMLModel",
            "_view_count": null,
            "_view_module": "@jupyter-widgets/controls",
            "_view_module_version": "1.5.0",
            "_view_name": "HTMLView",
            "description": "",
            "description_tooltip": null,
            "layout": "IPY_MODEL_ebd8435c413f45e7b3327d6a9ff17efd",
            "placeholder": "​",
            "style": "IPY_MODEL_d0da09c122b94c8c8bf02cec5277a32a",
            "value": " 1.92k/1.92k [00:00&lt;00:00, 80.2kB/s]"
          }
        },
        "bb3b2b19f50f48a69913c54712f9ab17": {
          "model_module": "@jupyter-widgets/base",
          "model_name": "LayoutModel",
          "model_module_version": "1.2.0",
          "state": {
            "_model_module": "@jupyter-widgets/base",
            "_model_module_version": "1.2.0",
            "_model_name": "LayoutModel",
            "_view_count": null,
            "_view_module": "@jupyter-widgets/base",
            "_view_module_version": "1.2.0",
            "_view_name": "LayoutView",
            "align_content": null,
            "align_items": null,
            "align_self": null,
            "border": null,
            "bottom": null,
            "display": null,
            "flex": null,
            "flex_flow": null,
            "grid_area": null,
            "grid_auto_columns": null,
            "grid_auto_flow": null,
            "grid_auto_rows": null,
            "grid_column": null,
            "grid_gap": null,
            "grid_row": null,
            "grid_template_areas": null,
            "grid_template_columns": null,
            "grid_template_rows": null,
            "height": null,
            "justify_content": null,
            "justify_items": null,
            "left": null,
            "margin": null,
            "max_height": null,
            "max_width": null,
            "min_height": null,
            "min_width": null,
            "object_fit": null,
            "object_position": null,
            "order": null,
            "overflow": null,
            "overflow_x": null,
            "overflow_y": null,
            "padding": null,
            "right": null,
            "top": null,
            "visibility": null,
            "width": null
          }
        },
        "240994702f3d41d1a3ec424a283d8ef0": {
          "model_module": "@jupyter-widgets/base",
          "model_name": "LayoutModel",
          "model_module_version": "1.2.0",
          "state": {
            "_model_module": "@jupyter-widgets/base",
            "_model_module_version": "1.2.0",
            "_model_name": "LayoutModel",
            "_view_count": null,
            "_view_module": "@jupyter-widgets/base",
            "_view_module_version": "1.2.0",
            "_view_name": "LayoutView",
            "align_content": null,
            "align_items": null,
            "align_self": null,
            "border": null,
            "bottom": null,
            "display": null,
            "flex": null,
            "flex_flow": null,
            "grid_area": null,
            "grid_auto_columns": null,
            "grid_auto_flow": null,
            "grid_auto_rows": null,
            "grid_column": null,
            "grid_gap": null,
            "grid_row": null,
            "grid_template_areas": null,
            "grid_template_columns": null,
            "grid_template_rows": null,
            "height": null,
            "justify_content": null,
            "justify_items": null,
            "left": null,
            "margin": null,
            "max_height": null,
            "max_width": null,
            "min_height": null,
            "min_width": null,
            "object_fit": null,
            "object_position": null,
            "order": null,
            "overflow": null,
            "overflow_x": null,
            "overflow_y": null,
            "padding": null,
            "right": null,
            "top": null,
            "visibility": null,
            "width": null
          }
        },
        "4020a06640534aca8a26c4345c0051f1": {
          "model_module": "@jupyter-widgets/controls",
          "model_name": "DescriptionStyleModel",
          "model_module_version": "1.5.0",
          "state": {
            "_model_module": "@jupyter-widgets/controls",
            "_model_module_version": "1.5.0",
            "_model_name": "DescriptionStyleModel",
            "_view_count": null,
            "_view_module": "@jupyter-widgets/base",
            "_view_module_version": "1.2.0",
            "_view_name": "StyleView",
            "description_width": ""
          }
        },
        "e3551fd17e204903a9896ef4b1aba6de": {
          "model_module": "@jupyter-widgets/base",
          "model_name": "LayoutModel",
          "model_module_version": "1.2.0",
          "state": {
            "_model_module": "@jupyter-widgets/base",
            "_model_module_version": "1.2.0",
            "_model_name": "LayoutModel",
            "_view_count": null,
            "_view_module": "@jupyter-widgets/base",
            "_view_module_version": "1.2.0",
            "_view_name": "LayoutView",
            "align_content": null,
            "align_items": null,
            "align_self": null,
            "border": null,
            "bottom": null,
            "display": null,
            "flex": null,
            "flex_flow": null,
            "grid_area": null,
            "grid_auto_columns": null,
            "grid_auto_flow": null,
            "grid_auto_rows": null,
            "grid_column": null,
            "grid_gap": null,
            "grid_row": null,
            "grid_template_areas": null,
            "grid_template_columns": null,
            "grid_template_rows": null,
            "height": null,
            "justify_content": null,
            "justify_items": null,
            "left": null,
            "margin": null,
            "max_height": null,
            "max_width": null,
            "min_height": null,
            "min_width": null,
            "object_fit": null,
            "object_position": null,
            "order": null,
            "overflow": null,
            "overflow_x": null,
            "overflow_y": null,
            "padding": null,
            "right": null,
            "top": null,
            "visibility": null,
            "width": null
          }
        },
        "035fd8964c124f9e99e7edcb344975e1": {
          "model_module": "@jupyter-widgets/controls",
          "model_name": "ProgressStyleModel",
          "model_module_version": "1.5.0",
          "state": {
            "_model_module": "@jupyter-widgets/controls",
            "_model_module_version": "1.5.0",
            "_model_name": "ProgressStyleModel",
            "_view_count": null,
            "_view_module": "@jupyter-widgets/base",
            "_view_module_version": "1.2.0",
            "_view_name": "StyleView",
            "bar_color": null,
            "description_width": ""
          }
        },
        "ebd8435c413f45e7b3327d6a9ff17efd": {
          "model_module": "@jupyter-widgets/base",
          "model_name": "LayoutModel",
          "model_module_version": "1.2.0",
          "state": {
            "_model_module": "@jupyter-widgets/base",
            "_model_module_version": "1.2.0",
            "_model_name": "LayoutModel",
            "_view_count": null,
            "_view_module": "@jupyter-widgets/base",
            "_view_module_version": "1.2.0",
            "_view_name": "LayoutView",
            "align_content": null,
            "align_items": null,
            "align_self": null,
            "border": null,
            "bottom": null,
            "display": null,
            "flex": null,
            "flex_flow": null,
            "grid_area": null,
            "grid_auto_columns": null,
            "grid_auto_flow": null,
            "grid_auto_rows": null,
            "grid_column": null,
            "grid_gap": null,
            "grid_row": null,
            "grid_template_areas": null,
            "grid_template_columns": null,
            "grid_template_rows": null,
            "height": null,
            "justify_content": null,
            "justify_items": null,
            "left": null,
            "margin": null,
            "max_height": null,
            "max_width": null,
            "min_height": null,
            "min_width": null,
            "object_fit": null,
            "object_position": null,
            "order": null,
            "overflow": null,
            "overflow_x": null,
            "overflow_y": null,
            "padding": null,
            "right": null,
            "top": null,
            "visibility": null,
            "width": null
          }
        },
        "d0da09c122b94c8c8bf02cec5277a32a": {
          "model_module": "@jupyter-widgets/controls",
          "model_name": "DescriptionStyleModel",
          "model_module_version": "1.5.0",
          "state": {
            "_model_module": "@jupyter-widgets/controls",
            "_model_module_version": "1.5.0",
            "_model_name": "DescriptionStyleModel",
            "_view_count": null,
            "_view_module": "@jupyter-widgets/base",
            "_view_module_version": "1.2.0",
            "_view_name": "StyleView",
            "description_width": ""
          }
        },
        "9a4d6d074416455f8366cc77d02ef3d2": {
          "model_module": "@jupyter-widgets/controls",
          "model_name": "HBoxModel",
          "model_module_version": "1.5.0",
          "state": {
            "_dom_classes": [],
            "_model_module": "@jupyter-widgets/controls",
            "_model_module_version": "1.5.0",
            "_model_name": "HBoxModel",
            "_view_count": null,
            "_view_module": "@jupyter-widgets/controls",
            "_view_module_version": "1.5.0",
            "_view_name": "HBoxView",
            "box_style": "",
            "children": [
              "IPY_MODEL_b17c4eb0f9f648408ad835692cc14379",
              "IPY_MODEL_85af7fdde64347a48d20fe6ef17de45d",
              "IPY_MODEL_dd04b4f487f94ea094319234a8e92440"
            ],
            "layout": "IPY_MODEL_18ed0bcdb1434dc6b534f38989111ae8"
          }
        },
        "b17c4eb0f9f648408ad835692cc14379": {
          "model_module": "@jupyter-widgets/controls",
          "model_name": "HTMLModel",
          "model_module_version": "1.5.0",
          "state": {
            "_dom_classes": [],
            "_model_module": "@jupyter-widgets/controls",
            "_model_module_version": "1.5.0",
            "_model_name": "HTMLModel",
            "_view_count": null,
            "_view_module": "@jupyter-widgets/controls",
            "_view_module_version": "1.5.0",
            "_view_name": "HTMLView",
            "description": "",
            "description_tooltip": null,
            "layout": "IPY_MODEL_6354bed770944badb6d2b9373bf2fd43",
            "placeholder": "​",
            "style": "IPY_MODEL_a1a69e01d972493aae4ca0a0d55ffc13",
            "value": "Downloading embedding_model.ckpt: 100%"
          }
        },
        "85af7fdde64347a48d20fe6ef17de45d": {
          "model_module": "@jupyter-widgets/controls",
          "model_name": "FloatProgressModel",
          "model_module_version": "1.5.0",
          "state": {
            "_dom_classes": [],
            "_model_module": "@jupyter-widgets/controls",
            "_model_module_version": "1.5.0",
            "_model_name": "FloatProgressModel",
            "_view_count": null,
            "_view_module": "@jupyter-widgets/controls",
            "_view_module_version": "1.5.0",
            "_view_name": "ProgressView",
            "bar_style": "success",
            "description": "",
            "description_tooltip": null,
            "layout": "IPY_MODEL_fbbf1dbe458c43bdbc6ad46534e39ba2",
            "max": 83316686,
            "min": 0,
            "orientation": "horizontal",
            "style": "IPY_MODEL_77a5457e82fc4ba9a9574899e3673e34",
            "value": 83316686
          }
        },
        "dd04b4f487f94ea094319234a8e92440": {
          "model_module": "@jupyter-widgets/controls",
          "model_name": "HTMLModel",
          "model_module_version": "1.5.0",
          "state": {
            "_dom_classes": [],
            "_model_module": "@jupyter-widgets/controls",
            "_model_module_version": "1.5.0",
            "_model_name": "HTMLModel",
            "_view_count": null,
            "_view_module": "@jupyter-widgets/controls",
            "_view_module_version": "1.5.0",
            "_view_name": "HTMLView",
            "description": "",
            "description_tooltip": null,
            "layout": "IPY_MODEL_d0dad6ecf8c64a69a498b556a0951820",
            "placeholder": "​",
            "style": "IPY_MODEL_b8c9e427a41649ae8d06f46f426aaa9a",
            "value": " 83.3M/83.3M [00:01&lt;00:00, 84.8MB/s]"
          }
        },
        "18ed0bcdb1434dc6b534f38989111ae8": {
          "model_module": "@jupyter-widgets/base",
          "model_name": "LayoutModel",
          "model_module_version": "1.2.0",
          "state": {
            "_model_module": "@jupyter-widgets/base",
            "_model_module_version": "1.2.0",
            "_model_name": "LayoutModel",
            "_view_count": null,
            "_view_module": "@jupyter-widgets/base",
            "_view_module_version": "1.2.0",
            "_view_name": "LayoutView",
            "align_content": null,
            "align_items": null,
            "align_self": null,
            "border": null,
            "bottom": null,
            "display": null,
            "flex": null,
            "flex_flow": null,
            "grid_area": null,
            "grid_auto_columns": null,
            "grid_auto_flow": null,
            "grid_auto_rows": null,
            "grid_column": null,
            "grid_gap": null,
            "grid_row": null,
            "grid_template_areas": null,
            "grid_template_columns": null,
            "grid_template_rows": null,
            "height": null,
            "justify_content": null,
            "justify_items": null,
            "left": null,
            "margin": null,
            "max_height": null,
            "max_width": null,
            "min_height": null,
            "min_width": null,
            "object_fit": null,
            "object_position": null,
            "order": null,
            "overflow": null,
            "overflow_x": null,
            "overflow_y": null,
            "padding": null,
            "right": null,
            "top": null,
            "visibility": null,
            "width": null
          }
        },
        "6354bed770944badb6d2b9373bf2fd43": {
          "model_module": "@jupyter-widgets/base",
          "model_name": "LayoutModel",
          "model_module_version": "1.2.0",
          "state": {
            "_model_module": "@jupyter-widgets/base",
            "_model_module_version": "1.2.0",
            "_model_name": "LayoutModel",
            "_view_count": null,
            "_view_module": "@jupyter-widgets/base",
            "_view_module_version": "1.2.0",
            "_view_name": "LayoutView",
            "align_content": null,
            "align_items": null,
            "align_self": null,
            "border": null,
            "bottom": null,
            "display": null,
            "flex": null,
            "flex_flow": null,
            "grid_area": null,
            "grid_auto_columns": null,
            "grid_auto_flow": null,
            "grid_auto_rows": null,
            "grid_column": null,
            "grid_gap": null,
            "grid_row": null,
            "grid_template_areas": null,
            "grid_template_columns": null,
            "grid_template_rows": null,
            "height": null,
            "justify_content": null,
            "justify_items": null,
            "left": null,
            "margin": null,
            "max_height": null,
            "max_width": null,
            "min_height": null,
            "min_width": null,
            "object_fit": null,
            "object_position": null,
            "order": null,
            "overflow": null,
            "overflow_x": null,
            "overflow_y": null,
            "padding": null,
            "right": null,
            "top": null,
            "visibility": null,
            "width": null
          }
        },
        "a1a69e01d972493aae4ca0a0d55ffc13": {
          "model_module": "@jupyter-widgets/controls",
          "model_name": "DescriptionStyleModel",
          "model_module_version": "1.5.0",
          "state": {
            "_model_module": "@jupyter-widgets/controls",
            "_model_module_version": "1.5.0",
            "_model_name": "DescriptionStyleModel",
            "_view_count": null,
            "_view_module": "@jupyter-widgets/base",
            "_view_module_version": "1.2.0",
            "_view_name": "StyleView",
            "description_width": ""
          }
        },
        "fbbf1dbe458c43bdbc6ad46534e39ba2": {
          "model_module": "@jupyter-widgets/base",
          "model_name": "LayoutModel",
          "model_module_version": "1.2.0",
          "state": {
            "_model_module": "@jupyter-widgets/base",
            "_model_module_version": "1.2.0",
            "_model_name": "LayoutModel",
            "_view_count": null,
            "_view_module": "@jupyter-widgets/base",
            "_view_module_version": "1.2.0",
            "_view_name": "LayoutView",
            "align_content": null,
            "align_items": null,
            "align_self": null,
            "border": null,
            "bottom": null,
            "display": null,
            "flex": null,
            "flex_flow": null,
            "grid_area": null,
            "grid_auto_columns": null,
            "grid_auto_flow": null,
            "grid_auto_rows": null,
            "grid_column": null,
            "grid_gap": null,
            "grid_row": null,
            "grid_template_areas": null,
            "grid_template_columns": null,
            "grid_template_rows": null,
            "height": null,
            "justify_content": null,
            "justify_items": null,
            "left": null,
            "margin": null,
            "max_height": null,
            "max_width": null,
            "min_height": null,
            "min_width": null,
            "object_fit": null,
            "object_position": null,
            "order": null,
            "overflow": null,
            "overflow_x": null,
            "overflow_y": null,
            "padding": null,
            "right": null,
            "top": null,
            "visibility": null,
            "width": null
          }
        },
        "77a5457e82fc4ba9a9574899e3673e34": {
          "model_module": "@jupyter-widgets/controls",
          "model_name": "ProgressStyleModel",
          "model_module_version": "1.5.0",
          "state": {
            "_model_module": "@jupyter-widgets/controls",
            "_model_module_version": "1.5.0",
            "_model_name": "ProgressStyleModel",
            "_view_count": null,
            "_view_module": "@jupyter-widgets/base",
            "_view_module_version": "1.2.0",
            "_view_name": "StyleView",
            "bar_color": null,
            "description_width": ""
          }
        },
        "d0dad6ecf8c64a69a498b556a0951820": {
          "model_module": "@jupyter-widgets/base",
          "model_name": "LayoutModel",
          "model_module_version": "1.2.0",
          "state": {
            "_model_module": "@jupyter-widgets/base",
            "_model_module_version": "1.2.0",
            "_model_name": "LayoutModel",
            "_view_count": null,
            "_view_module": "@jupyter-widgets/base",
            "_view_module_version": "1.2.0",
            "_view_name": "LayoutView",
            "align_content": null,
            "align_items": null,
            "align_self": null,
            "border": null,
            "bottom": null,
            "display": null,
            "flex": null,
            "flex_flow": null,
            "grid_area": null,
            "grid_auto_columns": null,
            "grid_auto_flow": null,
            "grid_auto_rows": null,
            "grid_column": null,
            "grid_gap": null,
            "grid_row": null,
            "grid_template_areas": null,
            "grid_template_columns": null,
            "grid_template_rows": null,
            "height": null,
            "justify_content": null,
            "justify_items": null,
            "left": null,
            "margin": null,
            "max_height": null,
            "max_width": null,
            "min_height": null,
            "min_width": null,
            "object_fit": null,
            "object_position": null,
            "order": null,
            "overflow": null,
            "overflow_x": null,
            "overflow_y": null,
            "padding": null,
            "right": null,
            "top": null,
            "visibility": null,
            "width": null
          }
        },
        "b8c9e427a41649ae8d06f46f426aaa9a": {
          "model_module": "@jupyter-widgets/controls",
          "model_name": "DescriptionStyleModel",
          "model_module_version": "1.5.0",
          "state": {
            "_model_module": "@jupyter-widgets/controls",
            "_model_module_version": "1.5.0",
            "_model_name": "DescriptionStyleModel",
            "_view_count": null,
            "_view_module": "@jupyter-widgets/base",
            "_view_module_version": "1.2.0",
            "_view_name": "StyleView",
            "description_width": ""
          }
        },
        "47155cd777cc4ad7b0f1b79842c0ba76": {
          "model_module": "@jupyter-widgets/controls",
          "model_name": "HBoxModel",
          "model_module_version": "1.5.0",
          "state": {
            "_dom_classes": [],
            "_model_module": "@jupyter-widgets/controls",
            "_model_module_version": "1.5.0",
            "_model_name": "HBoxModel",
            "_view_count": null,
            "_view_module": "@jupyter-widgets/controls",
            "_view_module_version": "1.5.0",
            "_view_name": "HBoxView",
            "box_style": "",
            "children": [
              "IPY_MODEL_02e8a3cf814f4a13a254da53f61e67f3",
              "IPY_MODEL_92db4878923e49c09d7c4b3beb9470e6",
              "IPY_MODEL_f7f64dc079b7456f9c51b8c342cc5aba"
            ],
            "layout": "IPY_MODEL_9f4b91c574984fc3ae31fd35bba1f2c0"
          }
        },
        "02e8a3cf814f4a13a254da53f61e67f3": {
          "model_module": "@jupyter-widgets/controls",
          "model_name": "HTMLModel",
          "model_module_version": "1.5.0",
          "state": {
            "_dom_classes": [],
            "_model_module": "@jupyter-widgets/controls",
            "_model_module_version": "1.5.0",
            "_model_name": "HTMLModel",
            "_view_count": null,
            "_view_module": "@jupyter-widgets/controls",
            "_view_module_version": "1.5.0",
            "_view_name": "HTMLView",
            "description": "",
            "description_tooltip": null,
            "layout": "IPY_MODEL_2b9f027134e4479b8a5ca3d2b47ecbf8",
            "placeholder": "​",
            "style": "IPY_MODEL_6960fc3ca09c479db6337916f9c2d8e3",
            "value": "Downloading (…)an_var_norm_emb.ckpt: 100%"
          }
        },
        "92db4878923e49c09d7c4b3beb9470e6": {
          "model_module": "@jupyter-widgets/controls",
          "model_name": "FloatProgressModel",
          "model_module_version": "1.5.0",
          "state": {
            "_dom_classes": [],
            "_model_module": "@jupyter-widgets/controls",
            "_model_module_version": "1.5.0",
            "_model_name": "FloatProgressModel",
            "_view_count": null,
            "_view_module": "@jupyter-widgets/controls",
            "_view_module_version": "1.5.0",
            "_view_name": "ProgressView",
            "bar_style": "success",
            "description": "",
            "description_tooltip": null,
            "layout": "IPY_MODEL_0078cf3ba5314c1297e82219892bf970",
            "max": 1921,
            "min": 0,
            "orientation": "horizontal",
            "style": "IPY_MODEL_ba55558432344afa99fd360e4f32ddba",
            "value": 1921
          }
        },
        "f7f64dc079b7456f9c51b8c342cc5aba": {
          "model_module": "@jupyter-widgets/controls",
          "model_name": "HTMLModel",
          "model_module_version": "1.5.0",
          "state": {
            "_dom_classes": [],
            "_model_module": "@jupyter-widgets/controls",
            "_model_module_version": "1.5.0",
            "_model_name": "HTMLModel",
            "_view_count": null,
            "_view_module": "@jupyter-widgets/controls",
            "_view_module_version": "1.5.0",
            "_view_name": "HTMLView",
            "description": "",
            "description_tooltip": null,
            "layout": "IPY_MODEL_7bbfbe27e6b24170a6f4e71727a999ed",
            "placeholder": "​",
            "style": "IPY_MODEL_f8772a34be0346c4a71438569712f9d0",
            "value": " 1.92k/1.92k [00:00&lt;00:00, 62.5kB/s]"
          }
        },
        "9f4b91c574984fc3ae31fd35bba1f2c0": {
          "model_module": "@jupyter-widgets/base",
          "model_name": "LayoutModel",
          "model_module_version": "1.2.0",
          "state": {
            "_model_module": "@jupyter-widgets/base",
            "_model_module_version": "1.2.0",
            "_model_name": "LayoutModel",
            "_view_count": null,
            "_view_module": "@jupyter-widgets/base",
            "_view_module_version": "1.2.0",
            "_view_name": "LayoutView",
            "align_content": null,
            "align_items": null,
            "align_self": null,
            "border": null,
            "bottom": null,
            "display": null,
            "flex": null,
            "flex_flow": null,
            "grid_area": null,
            "grid_auto_columns": null,
            "grid_auto_flow": null,
            "grid_auto_rows": null,
            "grid_column": null,
            "grid_gap": null,
            "grid_row": null,
            "grid_template_areas": null,
            "grid_template_columns": null,
            "grid_template_rows": null,
            "height": null,
            "justify_content": null,
            "justify_items": null,
            "left": null,
            "margin": null,
            "max_height": null,
            "max_width": null,
            "min_height": null,
            "min_width": null,
            "object_fit": null,
            "object_position": null,
            "order": null,
            "overflow": null,
            "overflow_x": null,
            "overflow_y": null,
            "padding": null,
            "right": null,
            "top": null,
            "visibility": null,
            "width": null
          }
        },
        "2b9f027134e4479b8a5ca3d2b47ecbf8": {
          "model_module": "@jupyter-widgets/base",
          "model_name": "LayoutModel",
          "model_module_version": "1.2.0",
          "state": {
            "_model_module": "@jupyter-widgets/base",
            "_model_module_version": "1.2.0",
            "_model_name": "LayoutModel",
            "_view_count": null,
            "_view_module": "@jupyter-widgets/base",
            "_view_module_version": "1.2.0",
            "_view_name": "LayoutView",
            "align_content": null,
            "align_items": null,
            "align_self": null,
            "border": null,
            "bottom": null,
            "display": null,
            "flex": null,
            "flex_flow": null,
            "grid_area": null,
            "grid_auto_columns": null,
            "grid_auto_flow": null,
            "grid_auto_rows": null,
            "grid_column": null,
            "grid_gap": null,
            "grid_row": null,
            "grid_template_areas": null,
            "grid_template_columns": null,
            "grid_template_rows": null,
            "height": null,
            "justify_content": null,
            "justify_items": null,
            "left": null,
            "margin": null,
            "max_height": null,
            "max_width": null,
            "min_height": null,
            "min_width": null,
            "object_fit": null,
            "object_position": null,
            "order": null,
            "overflow": null,
            "overflow_x": null,
            "overflow_y": null,
            "padding": null,
            "right": null,
            "top": null,
            "visibility": null,
            "width": null
          }
        },
        "6960fc3ca09c479db6337916f9c2d8e3": {
          "model_module": "@jupyter-widgets/controls",
          "model_name": "DescriptionStyleModel",
          "model_module_version": "1.5.0",
          "state": {
            "_model_module": "@jupyter-widgets/controls",
            "_model_module_version": "1.5.0",
            "_model_name": "DescriptionStyleModel",
            "_view_count": null,
            "_view_module": "@jupyter-widgets/base",
            "_view_module_version": "1.2.0",
            "_view_name": "StyleView",
            "description_width": ""
          }
        },
        "0078cf3ba5314c1297e82219892bf970": {
          "model_module": "@jupyter-widgets/base",
          "model_name": "LayoutModel",
          "model_module_version": "1.2.0",
          "state": {
            "_model_module": "@jupyter-widgets/base",
            "_model_module_version": "1.2.0",
            "_model_name": "LayoutModel",
            "_view_count": null,
            "_view_module": "@jupyter-widgets/base",
            "_view_module_version": "1.2.0",
            "_view_name": "LayoutView",
            "align_content": null,
            "align_items": null,
            "align_self": null,
            "border": null,
            "bottom": null,
            "display": null,
            "flex": null,
            "flex_flow": null,
            "grid_area": null,
            "grid_auto_columns": null,
            "grid_auto_flow": null,
            "grid_auto_rows": null,
            "grid_column": null,
            "grid_gap": null,
            "grid_row": null,
            "grid_template_areas": null,
            "grid_template_columns": null,
            "grid_template_rows": null,
            "height": null,
            "justify_content": null,
            "justify_items": null,
            "left": null,
            "margin": null,
            "max_height": null,
            "max_width": null,
            "min_height": null,
            "min_width": null,
            "object_fit": null,
            "object_position": null,
            "order": null,
            "overflow": null,
            "overflow_x": null,
            "overflow_y": null,
            "padding": null,
            "right": null,
            "top": null,
            "visibility": null,
            "width": null
          }
        },
        "ba55558432344afa99fd360e4f32ddba": {
          "model_module": "@jupyter-widgets/controls",
          "model_name": "ProgressStyleModel",
          "model_module_version": "1.5.0",
          "state": {
            "_model_module": "@jupyter-widgets/controls",
            "_model_module_version": "1.5.0",
            "_model_name": "ProgressStyleModel",
            "_view_count": null,
            "_view_module": "@jupyter-widgets/base",
            "_view_module_version": "1.2.0",
            "_view_name": "StyleView",
            "bar_color": null,
            "description_width": ""
          }
        },
        "7bbfbe27e6b24170a6f4e71727a999ed": {
          "model_module": "@jupyter-widgets/base",
          "model_name": "LayoutModel",
          "model_module_version": "1.2.0",
          "state": {
            "_model_module": "@jupyter-widgets/base",
            "_model_module_version": "1.2.0",
            "_model_name": "LayoutModel",
            "_view_count": null,
            "_view_module": "@jupyter-widgets/base",
            "_view_module_version": "1.2.0",
            "_view_name": "LayoutView",
            "align_content": null,
            "align_items": null,
            "align_self": null,
            "border": null,
            "bottom": null,
            "display": null,
            "flex": null,
            "flex_flow": null,
            "grid_area": null,
            "grid_auto_columns": null,
            "grid_auto_flow": null,
            "grid_auto_rows": null,
            "grid_column": null,
            "grid_gap": null,
            "grid_row": null,
            "grid_template_areas": null,
            "grid_template_columns": null,
            "grid_template_rows": null,
            "height": null,
            "justify_content": null,
            "justify_items": null,
            "left": null,
            "margin": null,
            "max_height": null,
            "max_width": null,
            "min_height": null,
            "min_width": null,
            "object_fit": null,
            "object_position": null,
            "order": null,
            "overflow": null,
            "overflow_x": null,
            "overflow_y": null,
            "padding": null,
            "right": null,
            "top": null,
            "visibility": null,
            "width": null
          }
        },
        "f8772a34be0346c4a71438569712f9d0": {
          "model_module": "@jupyter-widgets/controls",
          "model_name": "DescriptionStyleModel",
          "model_module_version": "1.5.0",
          "state": {
            "_model_module": "@jupyter-widgets/controls",
            "_model_module_version": "1.5.0",
            "_model_name": "DescriptionStyleModel",
            "_view_count": null,
            "_view_module": "@jupyter-widgets/base",
            "_view_module_version": "1.2.0",
            "_view_name": "StyleView",
            "description_width": ""
          }
        },
        "fed51948668c4fd685b68d47491dc029": {
          "model_module": "@jupyter-widgets/controls",
          "model_name": "HBoxModel",
          "model_module_version": "1.5.0",
          "state": {
            "_dom_classes": [],
            "_model_module": "@jupyter-widgets/controls",
            "_model_module_version": "1.5.0",
            "_model_name": "HBoxModel",
            "_view_count": null,
            "_view_module": "@jupyter-widgets/controls",
            "_view_module_version": "1.5.0",
            "_view_name": "HBoxView",
            "box_style": "",
            "children": [
              "IPY_MODEL_bc07accc2d02485094186f5272d859c6",
              "IPY_MODEL_3e8d35973f4a44db9a3c336372fb1f1a",
              "IPY_MODEL_8cbfa911a8c346cba3e77ba3df659679"
            ],
            "layout": "IPY_MODEL_44062bc899bf4efba8b4fafc48c98209"
          }
        },
        "bc07accc2d02485094186f5272d859c6": {
          "model_module": "@jupyter-widgets/controls",
          "model_name": "HTMLModel",
          "model_module_version": "1.5.0",
          "state": {
            "_dom_classes": [],
            "_model_module": "@jupyter-widgets/controls",
            "_model_module_version": "1.5.0",
            "_model_name": "HTMLModel",
            "_view_count": null,
            "_view_module": "@jupyter-widgets/controls",
            "_view_module_version": "1.5.0",
            "_view_name": "HTMLView",
            "description": "",
            "description_tooltip": null,
            "layout": "IPY_MODEL_eaf975fc93d34d388b9fc2021bcd3e49",
            "placeholder": "​",
            "style": "IPY_MODEL_20fdad3f252a446ea8ee00559471dbf4",
            "value": "Downloading classifier.ckpt: 100%"
          }
        },
        "3e8d35973f4a44db9a3c336372fb1f1a": {
          "model_module": "@jupyter-widgets/controls",
          "model_name": "FloatProgressModel",
          "model_module_version": "1.5.0",
          "state": {
            "_dom_classes": [],
            "_model_module": "@jupyter-widgets/controls",
            "_model_module_version": "1.5.0",
            "_model_name": "FloatProgressModel",
            "_view_count": null,
            "_view_module": "@jupyter-widgets/controls",
            "_view_module_version": "1.5.0",
            "_view_name": "ProgressView",
            "bar_style": "success",
            "description": "",
            "description_tooltip": null,
            "layout": "IPY_MODEL_b0d15a74ef6f41d3812a97e4f29847b9",
            "max": 5534328,
            "min": 0,
            "orientation": "horizontal",
            "style": "IPY_MODEL_d2cdfbf258a94e319fa51fc2ea5c52c7",
            "value": 5534328
          }
        },
        "8cbfa911a8c346cba3e77ba3df659679": {
          "model_module": "@jupyter-widgets/controls",
          "model_name": "HTMLModel",
          "model_module_version": "1.5.0",
          "state": {
            "_dom_classes": [],
            "_model_module": "@jupyter-widgets/controls",
            "_model_module_version": "1.5.0",
            "_model_name": "HTMLModel",
            "_view_count": null,
            "_view_module": "@jupyter-widgets/controls",
            "_view_module_version": "1.5.0",
            "_view_name": "HTMLView",
            "description": "",
            "description_tooltip": null,
            "layout": "IPY_MODEL_982e1e2c539c4edcb7f57608a662d195",
            "placeholder": "​",
            "style": "IPY_MODEL_07e41e08bdc14f7abbd1f3ed48ee2510",
            "value": " 5.53M/5.53M [00:00&lt;00:00, 26.5MB/s]"
          }
        },
        "44062bc899bf4efba8b4fafc48c98209": {
          "model_module": "@jupyter-widgets/base",
          "model_name": "LayoutModel",
          "model_module_version": "1.2.0",
          "state": {
            "_model_module": "@jupyter-widgets/base",
            "_model_module_version": "1.2.0",
            "_model_name": "LayoutModel",
            "_view_count": null,
            "_view_module": "@jupyter-widgets/base",
            "_view_module_version": "1.2.0",
            "_view_name": "LayoutView",
            "align_content": null,
            "align_items": null,
            "align_self": null,
            "border": null,
            "bottom": null,
            "display": null,
            "flex": null,
            "flex_flow": null,
            "grid_area": null,
            "grid_auto_columns": null,
            "grid_auto_flow": null,
            "grid_auto_rows": null,
            "grid_column": null,
            "grid_gap": null,
            "grid_row": null,
            "grid_template_areas": null,
            "grid_template_columns": null,
            "grid_template_rows": null,
            "height": null,
            "justify_content": null,
            "justify_items": null,
            "left": null,
            "margin": null,
            "max_height": null,
            "max_width": null,
            "min_height": null,
            "min_width": null,
            "object_fit": null,
            "object_position": null,
            "order": null,
            "overflow": null,
            "overflow_x": null,
            "overflow_y": null,
            "padding": null,
            "right": null,
            "top": null,
            "visibility": null,
            "width": null
          }
        },
        "eaf975fc93d34d388b9fc2021bcd3e49": {
          "model_module": "@jupyter-widgets/base",
          "model_name": "LayoutModel",
          "model_module_version": "1.2.0",
          "state": {
            "_model_module": "@jupyter-widgets/base",
            "_model_module_version": "1.2.0",
            "_model_name": "LayoutModel",
            "_view_count": null,
            "_view_module": "@jupyter-widgets/base",
            "_view_module_version": "1.2.0",
            "_view_name": "LayoutView",
            "align_content": null,
            "align_items": null,
            "align_self": null,
            "border": null,
            "bottom": null,
            "display": null,
            "flex": null,
            "flex_flow": null,
            "grid_area": null,
            "grid_auto_columns": null,
            "grid_auto_flow": null,
            "grid_auto_rows": null,
            "grid_column": null,
            "grid_gap": null,
            "grid_row": null,
            "grid_template_areas": null,
            "grid_template_columns": null,
            "grid_template_rows": null,
            "height": null,
            "justify_content": null,
            "justify_items": null,
            "left": null,
            "margin": null,
            "max_height": null,
            "max_width": null,
            "min_height": null,
            "min_width": null,
            "object_fit": null,
            "object_position": null,
            "order": null,
            "overflow": null,
            "overflow_x": null,
            "overflow_y": null,
            "padding": null,
            "right": null,
            "top": null,
            "visibility": null,
            "width": null
          }
        },
        "20fdad3f252a446ea8ee00559471dbf4": {
          "model_module": "@jupyter-widgets/controls",
          "model_name": "DescriptionStyleModel",
          "model_module_version": "1.5.0",
          "state": {
            "_model_module": "@jupyter-widgets/controls",
            "_model_module_version": "1.5.0",
            "_model_name": "DescriptionStyleModel",
            "_view_count": null,
            "_view_module": "@jupyter-widgets/base",
            "_view_module_version": "1.2.0",
            "_view_name": "StyleView",
            "description_width": ""
          }
        },
        "b0d15a74ef6f41d3812a97e4f29847b9": {
          "model_module": "@jupyter-widgets/base",
          "model_name": "LayoutModel",
          "model_module_version": "1.2.0",
          "state": {
            "_model_module": "@jupyter-widgets/base",
            "_model_module_version": "1.2.0",
            "_model_name": "LayoutModel",
            "_view_count": null,
            "_view_module": "@jupyter-widgets/base",
            "_view_module_version": "1.2.0",
            "_view_name": "LayoutView",
            "align_content": null,
            "align_items": null,
            "align_self": null,
            "border": null,
            "bottom": null,
            "display": null,
            "flex": null,
            "flex_flow": null,
            "grid_area": null,
            "grid_auto_columns": null,
            "grid_auto_flow": null,
            "grid_auto_rows": null,
            "grid_column": null,
            "grid_gap": null,
            "grid_row": null,
            "grid_template_areas": null,
            "grid_template_columns": null,
            "grid_template_rows": null,
            "height": null,
            "justify_content": null,
            "justify_items": null,
            "left": null,
            "margin": null,
            "max_height": null,
            "max_width": null,
            "min_height": null,
            "min_width": null,
            "object_fit": null,
            "object_position": null,
            "order": null,
            "overflow": null,
            "overflow_x": null,
            "overflow_y": null,
            "padding": null,
            "right": null,
            "top": null,
            "visibility": null,
            "width": null
          }
        },
        "d2cdfbf258a94e319fa51fc2ea5c52c7": {
          "model_module": "@jupyter-widgets/controls",
          "model_name": "ProgressStyleModel",
          "model_module_version": "1.5.0",
          "state": {
            "_model_module": "@jupyter-widgets/controls",
            "_model_module_version": "1.5.0",
            "_model_name": "ProgressStyleModel",
            "_view_count": null,
            "_view_module": "@jupyter-widgets/base",
            "_view_module_version": "1.2.0",
            "_view_name": "StyleView",
            "bar_color": null,
            "description_width": ""
          }
        },
        "982e1e2c539c4edcb7f57608a662d195": {
          "model_module": "@jupyter-widgets/base",
          "model_name": "LayoutModel",
          "model_module_version": "1.2.0",
          "state": {
            "_model_module": "@jupyter-widgets/base",
            "_model_module_version": "1.2.0",
            "_model_name": "LayoutModel",
            "_view_count": null,
            "_view_module": "@jupyter-widgets/base",
            "_view_module_version": "1.2.0",
            "_view_name": "LayoutView",
            "align_content": null,
            "align_items": null,
            "align_self": null,
            "border": null,
            "bottom": null,
            "display": null,
            "flex": null,
            "flex_flow": null,
            "grid_area": null,
            "grid_auto_columns": null,
            "grid_auto_flow": null,
            "grid_auto_rows": null,
            "grid_column": null,
            "grid_gap": null,
            "grid_row": null,
            "grid_template_areas": null,
            "grid_template_columns": null,
            "grid_template_rows": null,
            "height": null,
            "justify_content": null,
            "justify_items": null,
            "left": null,
            "margin": null,
            "max_height": null,
            "max_width": null,
            "min_height": null,
            "min_width": null,
            "object_fit": null,
            "object_position": null,
            "order": null,
            "overflow": null,
            "overflow_x": null,
            "overflow_y": null,
            "padding": null,
            "right": null,
            "top": null,
            "visibility": null,
            "width": null
          }
        },
        "07e41e08bdc14f7abbd1f3ed48ee2510": {
          "model_module": "@jupyter-widgets/controls",
          "model_name": "DescriptionStyleModel",
          "model_module_version": "1.5.0",
          "state": {
            "_model_module": "@jupyter-widgets/controls",
            "_model_module_version": "1.5.0",
            "_model_name": "DescriptionStyleModel",
            "_view_count": null,
            "_view_module": "@jupyter-widgets/base",
            "_view_module_version": "1.2.0",
            "_view_name": "StyleView",
            "description_width": ""
          }
        },
        "08723e3c97c445029280e9cd82b37324": {
          "model_module": "@jupyter-widgets/controls",
          "model_name": "HBoxModel",
          "model_module_version": "1.5.0",
          "state": {
            "_dom_classes": [],
            "_model_module": "@jupyter-widgets/controls",
            "_model_module_version": "1.5.0",
            "_model_name": "HBoxModel",
            "_view_count": null,
            "_view_module": "@jupyter-widgets/controls",
            "_view_module_version": "1.5.0",
            "_view_name": "HBoxView",
            "box_style": "",
            "children": [
              "IPY_MODEL_6c1d537255d840a2b95817fc28199974",
              "IPY_MODEL_b84578895664480cbe14ec5865b557d9",
              "IPY_MODEL_d0ad6c243f3c4a9ba1479800e5649a1a"
            ],
            "layout": "IPY_MODEL_88618e1592c8448ab898d7d23dd25fa6"
          }
        },
        "6c1d537255d840a2b95817fc28199974": {
          "model_module": "@jupyter-widgets/controls",
          "model_name": "HTMLModel",
          "model_module_version": "1.5.0",
          "state": {
            "_dom_classes": [],
            "_model_module": "@jupyter-widgets/controls",
            "_model_module_version": "1.5.0",
            "_model_name": "HTMLModel",
            "_view_count": null,
            "_view_module": "@jupyter-widgets/controls",
            "_view_module_version": "1.5.0",
            "_view_name": "HTMLView",
            "description": "",
            "description_tooltip": null,
            "layout": "IPY_MODEL_207a3d7262a54db2a337833d58ea7ff6",
            "placeholder": "​",
            "style": "IPY_MODEL_29f5387a3e934dc8940b3f45bbea40e5",
            "value": "Downloading (…)in/label_encoder.txt: 100%"
          }
        },
        "b84578895664480cbe14ec5865b557d9": {
          "model_module": "@jupyter-widgets/controls",
          "model_name": "FloatProgressModel",
          "model_module_version": "1.5.0",
          "state": {
            "_dom_classes": [],
            "_model_module": "@jupyter-widgets/controls",
            "_model_module_version": "1.5.0",
            "_model_name": "FloatProgressModel",
            "_view_count": null,
            "_view_module": "@jupyter-widgets/controls",
            "_view_module_version": "1.5.0",
            "_view_name": "ProgressView",
            "bar_style": "success",
            "description": "",
            "description_tooltip": null,
            "layout": "IPY_MODEL_a61085bf1a7a497b94e42a8f01018937",
            "max": 128619,
            "min": 0,
            "orientation": "horizontal",
            "style": "IPY_MODEL_b0e795d756c1408ca2c0140e2047b77a",
            "value": 128619
          }
        },
        "d0ad6c243f3c4a9ba1479800e5649a1a": {
          "model_module": "@jupyter-widgets/controls",
          "model_name": "HTMLModel",
          "model_module_version": "1.5.0",
          "state": {
            "_dom_classes": [],
            "_model_module": "@jupyter-widgets/controls",
            "_model_module_version": "1.5.0",
            "_model_name": "HTMLModel",
            "_view_count": null,
            "_view_module": "@jupyter-widgets/controls",
            "_view_module_version": "1.5.0",
            "_view_name": "HTMLView",
            "description": "",
            "description_tooltip": null,
            "layout": "IPY_MODEL_c04d399fb757472c83ce515690f86eb0",
            "placeholder": "​",
            "style": "IPY_MODEL_760d69dbc08a427d8a47abff9fb85d82",
            "value": " 129k/129k [00:00&lt;00:00, 2.14MB/s]"
          }
        },
        "88618e1592c8448ab898d7d23dd25fa6": {
          "model_module": "@jupyter-widgets/base",
          "model_name": "LayoutModel",
          "model_module_version": "1.2.0",
          "state": {
            "_model_module": "@jupyter-widgets/base",
            "_model_module_version": "1.2.0",
            "_model_name": "LayoutModel",
            "_view_count": null,
            "_view_module": "@jupyter-widgets/base",
            "_view_module_version": "1.2.0",
            "_view_name": "LayoutView",
            "align_content": null,
            "align_items": null,
            "align_self": null,
            "border": null,
            "bottom": null,
            "display": null,
            "flex": null,
            "flex_flow": null,
            "grid_area": null,
            "grid_auto_columns": null,
            "grid_auto_flow": null,
            "grid_auto_rows": null,
            "grid_column": null,
            "grid_gap": null,
            "grid_row": null,
            "grid_template_areas": null,
            "grid_template_columns": null,
            "grid_template_rows": null,
            "height": null,
            "justify_content": null,
            "justify_items": null,
            "left": null,
            "margin": null,
            "max_height": null,
            "max_width": null,
            "min_height": null,
            "min_width": null,
            "object_fit": null,
            "object_position": null,
            "order": null,
            "overflow": null,
            "overflow_x": null,
            "overflow_y": null,
            "padding": null,
            "right": null,
            "top": null,
            "visibility": null,
            "width": null
          }
        },
        "207a3d7262a54db2a337833d58ea7ff6": {
          "model_module": "@jupyter-widgets/base",
          "model_name": "LayoutModel",
          "model_module_version": "1.2.0",
          "state": {
            "_model_module": "@jupyter-widgets/base",
            "_model_module_version": "1.2.0",
            "_model_name": "LayoutModel",
            "_view_count": null,
            "_view_module": "@jupyter-widgets/base",
            "_view_module_version": "1.2.0",
            "_view_name": "LayoutView",
            "align_content": null,
            "align_items": null,
            "align_self": null,
            "border": null,
            "bottom": null,
            "display": null,
            "flex": null,
            "flex_flow": null,
            "grid_area": null,
            "grid_auto_columns": null,
            "grid_auto_flow": null,
            "grid_auto_rows": null,
            "grid_column": null,
            "grid_gap": null,
            "grid_row": null,
            "grid_template_areas": null,
            "grid_template_columns": null,
            "grid_template_rows": null,
            "height": null,
            "justify_content": null,
            "justify_items": null,
            "left": null,
            "margin": null,
            "max_height": null,
            "max_width": null,
            "min_height": null,
            "min_width": null,
            "object_fit": null,
            "object_position": null,
            "order": null,
            "overflow": null,
            "overflow_x": null,
            "overflow_y": null,
            "padding": null,
            "right": null,
            "top": null,
            "visibility": null,
            "width": null
          }
        },
        "29f5387a3e934dc8940b3f45bbea40e5": {
          "model_module": "@jupyter-widgets/controls",
          "model_name": "DescriptionStyleModel",
          "model_module_version": "1.5.0",
          "state": {
            "_model_module": "@jupyter-widgets/controls",
            "_model_module_version": "1.5.0",
            "_model_name": "DescriptionStyleModel",
            "_view_count": null,
            "_view_module": "@jupyter-widgets/base",
            "_view_module_version": "1.2.0",
            "_view_name": "StyleView",
            "description_width": ""
          }
        },
        "a61085bf1a7a497b94e42a8f01018937": {
          "model_module": "@jupyter-widgets/base",
          "model_name": "LayoutModel",
          "model_module_version": "1.2.0",
          "state": {
            "_model_module": "@jupyter-widgets/base",
            "_model_module_version": "1.2.0",
            "_model_name": "LayoutModel",
            "_view_count": null,
            "_view_module": "@jupyter-widgets/base",
            "_view_module_version": "1.2.0",
            "_view_name": "LayoutView",
            "align_content": null,
            "align_items": null,
            "align_self": null,
            "border": null,
            "bottom": null,
            "display": null,
            "flex": null,
            "flex_flow": null,
            "grid_area": null,
            "grid_auto_columns": null,
            "grid_auto_flow": null,
            "grid_auto_rows": null,
            "grid_column": null,
            "grid_gap": null,
            "grid_row": null,
            "grid_template_areas": null,
            "grid_template_columns": null,
            "grid_template_rows": null,
            "height": null,
            "justify_content": null,
            "justify_items": null,
            "left": null,
            "margin": null,
            "max_height": null,
            "max_width": null,
            "min_height": null,
            "min_width": null,
            "object_fit": null,
            "object_position": null,
            "order": null,
            "overflow": null,
            "overflow_x": null,
            "overflow_y": null,
            "padding": null,
            "right": null,
            "top": null,
            "visibility": null,
            "width": null
          }
        },
        "b0e795d756c1408ca2c0140e2047b77a": {
          "model_module": "@jupyter-widgets/controls",
          "model_name": "ProgressStyleModel",
          "model_module_version": "1.5.0",
          "state": {
            "_model_module": "@jupyter-widgets/controls",
            "_model_module_version": "1.5.0",
            "_model_name": "ProgressStyleModel",
            "_view_count": null,
            "_view_module": "@jupyter-widgets/base",
            "_view_module_version": "1.2.0",
            "_view_name": "StyleView",
            "bar_color": null,
            "description_width": ""
          }
        },
        "c04d399fb757472c83ce515690f86eb0": {
          "model_module": "@jupyter-widgets/base",
          "model_name": "LayoutModel",
          "model_module_version": "1.2.0",
          "state": {
            "_model_module": "@jupyter-widgets/base",
            "_model_module_version": "1.2.0",
            "_model_name": "LayoutModel",
            "_view_count": null,
            "_view_module": "@jupyter-widgets/base",
            "_view_module_version": "1.2.0",
            "_view_name": "LayoutView",
            "align_content": null,
            "align_items": null,
            "align_self": null,
            "border": null,
            "bottom": null,
            "display": null,
            "flex": null,
            "flex_flow": null,
            "grid_area": null,
            "grid_auto_columns": null,
            "grid_auto_flow": null,
            "grid_auto_rows": null,
            "grid_column": null,
            "grid_gap": null,
            "grid_row": null,
            "grid_template_areas": null,
            "grid_template_columns": null,
            "grid_template_rows": null,
            "height": null,
            "justify_content": null,
            "justify_items": null,
            "left": null,
            "margin": null,
            "max_height": null,
            "max_width": null,
            "min_height": null,
            "min_width": null,
            "object_fit": null,
            "object_position": null,
            "order": null,
            "overflow": null,
            "overflow_x": null,
            "overflow_y": null,
            "padding": null,
            "right": null,
            "top": null,
            "visibility": null,
            "width": null
          }
        },
        "760d69dbc08a427d8a47abff9fb85d82": {
          "model_module": "@jupyter-widgets/controls",
          "model_name": "DescriptionStyleModel",
          "model_module_version": "1.5.0",
          "state": {
            "_model_module": "@jupyter-widgets/controls",
            "_model_module_version": "1.5.0",
            "_model_name": "DescriptionStyleModel",
            "_view_count": null,
            "_view_module": "@jupyter-widgets/base",
            "_view_module_version": "1.2.0",
            "_view_name": "StyleView",
            "description_width": ""
          }
        }
      }
    }
  },
  "cells": [
    {
      "cell_type": "markdown",
      "metadata": {
        "id": "HND7bB_1S07R"
      },
      "source": [
        "## Installing Dependencies"
      ]
    },
    {
      "cell_type": "code",
      "source": [
        "from google.colab import drive\n",
        "drive.mount('/content/drive')"
      ],
      "metadata": {
        "colab": {
          "base_uri": "https://localhost:8080/"
        },
        "id": "AvhcIZZJiG4E",
        "outputId": "4a16a781-b4ce-4d01-84be-d01c51056f96"
      },
      "execution_count": null,
      "outputs": [
        {
          "output_type": "stream",
          "name": "stdout",
          "text": [
            "Drive already mounted at /content/drive; to attempt to forcibly remount, call drive.mount(\"/content/drive\", force_remount=True).\n"
          ]
        }
      ]
    },
    {
      "cell_type": "code",
      "source": [
        "!unzip /content/drive/MyDrive/vox1_dev_wav.zip -d /content/wav_files"
      ],
      "metadata": {
        "colab": {
          "base_uri": "https://localhost:8080/"
        },
        "id": "lbDDW8VriLrx",
        "outputId": "6afcb11d-1769-4efa-92d3-b7c945568889"
      },
      "execution_count": null,
      "outputs": [
        {
          "output_type": "stream",
          "name": "stdout",
          "text": [
            "Archive:  /content/drive/MyDrive/vox1_dev_wav.zip\n",
            "replace /content/wav_files/wav/id10092/LbVIZMrQGmQ/00001.wav? [y]es, [n]o, [A]ll, [N]one, [r]ename: "
          ]
        }
      ]
    },
    {
      "cell_type": "code",
      "source": [
        "%%capture\n",
        "# Local installation\n",
        "!git clone https://github.com/speechbrain/speechbrain/\n",
        "%cd /content/speechbrain/\n",
        "!pip install -r requirements.txt\n",
        "!pip install -e ."
      ],
      "metadata": {
        "id": "BAzQuVzl6ww1"
      },
      "execution_count": null,
      "outputs": []
    },
    {
      "cell_type": "code",
      "source": [
        "%%capture\n",
        "!pip install speechbrain"
      ],
      "metadata": {
        "id": "BP-Orw6Q63em"
      },
      "execution_count": null,
      "outputs": []
    },
    {
      "cell_type": "code",
      "source": [
        "!pip install tqdm"
      ],
      "metadata": {
        "colab": {
          "base_uri": "https://localhost:8080/"
        },
        "id": "0L94JV25RxWI",
        "outputId": "319ca923-ca3d-4b12-9f8b-3a20814871d3"
      },
      "execution_count": null,
      "outputs": [
        {
          "output_type": "stream",
          "name": "stdout",
          "text": [
            "Looking in indexes: https://pypi.org/simple, https://us-python.pkg.dev/colab-wheels/public/simple/\n",
            "Requirement already satisfied: tqdm in /usr/local/lib/python3.9/dist-packages (4.65.0)\n"
          ]
        }
      ]
    },
    {
      "cell_type": "code",
      "source": [
        "!pip install gdown "
      ],
      "metadata": {
        "colab": {
          "base_uri": "https://localhost:8080/"
        },
        "id": "kDPRjPNpJEYK",
        "outputId": "8e6b7c75-4621-4e97-c0a4-0c5e246864a1"
      },
      "execution_count": null,
      "outputs": [
        {
          "output_type": "stream",
          "name": "stdout",
          "text": [
            "Looking in indexes: https://pypi.org/simple, https://us-python.pkg.dev/colab-wheels/public/simple/\n",
            "Requirement already satisfied: gdown in /usr/local/lib/python3.9/dist-packages (4.6.6)\n",
            "Requirement already satisfied: six in /usr/local/lib/python3.9/dist-packages (from gdown) (1.16.0)\n",
            "Requirement already satisfied: requests[socks] in /usr/local/lib/python3.9/dist-packages (from gdown) (2.27.1)\n",
            "Requirement already satisfied: filelock in /usr/local/lib/python3.9/dist-packages (from gdown) (3.10.7)\n",
            "Requirement already satisfied: tqdm in /usr/local/lib/python3.9/dist-packages (from gdown) (4.65.0)\n",
            "Requirement already satisfied: beautifulsoup4 in /usr/local/lib/python3.9/dist-packages (from gdown) (4.11.2)\n",
            "Requirement already satisfied: soupsieve>1.2 in /usr/local/lib/python3.9/dist-packages (from beautifulsoup4->gdown) (2.4)\n",
            "Requirement already satisfied: certifi>=2017.4.17 in /usr/local/lib/python3.9/dist-packages (from requests[socks]->gdown) (2022.12.7)\n",
            "Requirement already satisfied: urllib3<1.27,>=1.21.1 in /usr/local/lib/python3.9/dist-packages (from requests[socks]->gdown) (1.26.15)\n",
            "Requirement already satisfied: charset-normalizer~=2.0.0 in /usr/local/lib/python3.9/dist-packages (from requests[socks]->gdown) (2.0.12)\n",
            "Requirement already satisfied: idna<4,>=2.5 in /usr/local/lib/python3.9/dist-packages (from requests[socks]->gdown) (3.4)\n",
            "Requirement already satisfied: PySocks!=1.5.7,>=1.5.6 in /usr/local/lib/python3.9/dist-packages (from requests[socks]->gdown) (1.7.1)\n"
          ]
        }
      ]
    },
    {
      "cell_type": "code",
      "source": [
        "import gdown \n",
        "gdown.download_folder('https://drive.google.com/drive/u/1/folders/1TmDAnOxqLdaCpPCBCeN3Hi3B5MyM_CTY', quiet=True)"
      ],
      "metadata": {
        "colab": {
          "base_uri": "https://localhost:8080/"
        },
        "id": "6SzrQScfJGHo",
        "outputId": "de080d54-ab8a-42bb-ea7d-b4dc5cad5009"
      },
      "execution_count": null,
      "outputs": [
        {
          "output_type": "execute_result",
          "data": {
            "text/plain": [
              "['/content/speechbrain/MI Attack files/losses_test.npy',\n",
              " '/content/speechbrain/MI Attack files/losses_train.npy',\n",
              " '/content/speechbrain/MI Attack files/losses_val.npy',\n",
              " '/content/speechbrain/MI Attack files/test_confidences.npy',\n",
              " '/content/speechbrain/MI Attack files/test.csv',\n",
              " '/content/speechbrain/MI Attack files/train_confidences.npy',\n",
              " '/content/speechbrain/MI Attack files/train.csv',\n",
              " '/content/speechbrain/MI Attack files/val_confidences.npy',\n",
              " '/content/speechbrain/MI Attack files/val.csv']"
            ]
          },
          "metadata": {},
          "execution_count": 15
        }
      ]
    },
    {
      "cell_type": "code",
      "source": [
        "import torchaudio\n",
        "from speechbrain.pretrained import EncoderClassifier\n",
        "from sklearn.linear_model import LogisticRegression\n",
        "import numpy as np\n",
        "from sklearn.metrics import classification_report\n",
        "import pandas as pd\n",
        "import os\n",
        "from tqdm import tqdm"
      ],
      "metadata": {
        "id": "q1VCPBLiEcOA"
      },
      "execution_count": null,
      "outputs": []
    },
    {
      "cell_type": "code",
      "source": [
        "#!unzip -l /content/drive/MyDrive/vox1_dev_wav.zip"
      ],
      "metadata": {
        "id": "z_GIHNiyp9Fg"
      },
      "execution_count": null,
      "outputs": []
    },
    {
      "cell_type": "code",
      "source": [],
      "metadata": {
        "id": "TKX9lJ7Zqjia"
      },
      "execution_count": null,
      "outputs": []
    },
    {
      "cell_type": "code",
      "source": [
        "#!unzip /content/drive/MyDrive/vox1_dev_wav.zip wav/id11076/86bF4UAieZ0/00007.wav\n"
      ],
      "metadata": {
        "id": "XJ23NYA8qOPd"
      },
      "execution_count": null,
      "outputs": []
    },
    {
      "cell_type": "code",
      "source": [
        "train_df = pd.read_csv('/content/speechbrain/MI Attack files/train.csv')\n",
        "test_df = pd.read_csv('/content/speechbrain/MI Attack files/test.csv')\n",
        "val_df = pd.read_csv('/content/speechbrain/MI Attack files/val.csv')\n"
      ],
      "metadata": {
        "id": "Oadfkx_gEy7Z"
      },
      "execution_count": null,
      "outputs": []
    },
    {
      "cell_type": "code",
      "source": [
        "train_df"
      ],
      "metadata": {
        "colab": {
          "base_uri": "https://localhost:8080/",
          "height": 423
        },
        "id": "FJFLWPV7ekBD",
        "outputId": "aa047baf-85fe-4fd1-b95a-88d25f184541"
      },
      "execution_count": null,
      "outputs": [
        {
          "output_type": "execute_result",
          "data": {
            "text/plain": [
              "       Unnamed: 0                                    ID   duration  \\\n",
              "0         1770953   id10974--HQCxuj-_IEI--00002_300_600   6.360062   \n",
              "1         1879771     id11027--cnzoLtP8scQ--00002_0_300  25.920063   \n",
              "2         1356812     id10899--jEQUmGeTxAA--00002_0_300   4.680063   \n",
              "3         1642033     id11210--7xaAmL5lPFs--00016_0_300   8.560063   \n",
              "4          816212     id10561--EK-mIWZ1hWI--00012_0_300   5.040063   \n",
              "...           ...                                   ...        ...   \n",
              "19995       45658     id10858--8uAVUnozxKQ--00001_0_300   5.800063   \n",
              "19996      207798   id10530--vDN3b85G3N8--00001_600_900  15.160063   \n",
              "19997       13283   id10609--Gv3w08FRAbs--00001_300_600   8.120062   \n",
              "19998       24973     id10067--LWet2zhWjBg--00024_0_300   4.240062   \n",
              "19999       28060  id10553--os_DOjLq7t4--00006_900_1200  13.440062   \n",
              "\n",
              "                                                     wav   start    stop  \\\n",
              "0      /localscratch/voxceleb1/wav/id10974/HQCxuj-_IE...   48000   96000   \n",
              "1      /localscratch/voxceleb1/wav/id11027/cnzoLtP8sc...       0   48000   \n",
              "2      /localscratch/voxceleb1/wav/id10899/jEQUmGeTxA...       0   48000   \n",
              "3      /localscratch/voxceleb1/wav/id11210/7xaAmL5lPF...       0   48000   \n",
              "4      /localscratch/voxceleb1/wav/id10561/EK-mIWZ1hW...       0   48000   \n",
              "...                                                  ...     ...     ...   \n",
              "19995  /localscratch/voxceleb1/wav/id10858/8uAVUnozxK...       0   48000   \n",
              "19996  /localscratch/voxceleb1/wav/id10530/vDN3b85G3N...   96000  144000   \n",
              "19997  /localscratch/voxceleb1/wav/id10609/Gv3w08FRAb...   48000   96000   \n",
              "19998  /localscratch/voxceleb1/wav/id10067/LWet2zhWjB...       0   48000   \n",
              "19999  /localscratch/voxceleb1/wav/id10553/os_DOjLq7t...  144000  192000   \n",
              "\n",
              "        spk_id  present_label  \n",
              "0      id10974           True  \n",
              "1      id11027           True  \n",
              "2      id10899           True  \n",
              "3      id11210           True  \n",
              "4      id10561           True  \n",
              "...        ...            ...  \n",
              "19995  id10858          False  \n",
              "19996  id10530          False  \n",
              "19997  id10609          False  \n",
              "19998  id10067          False  \n",
              "19999  id10553          False  \n",
              "\n",
              "[20000 rows x 8 columns]"
            ],
            "text/html": [
              "\n",
              "  <div id=\"df-46761762-c49e-4bcf-8244-8a53afe0b81c\">\n",
              "    <div class=\"colab-df-container\">\n",
              "      <div>\n",
              "<style scoped>\n",
              "    .dataframe tbody tr th:only-of-type {\n",
              "        vertical-align: middle;\n",
              "    }\n",
              "\n",
              "    .dataframe tbody tr th {\n",
              "        vertical-align: top;\n",
              "    }\n",
              "\n",
              "    .dataframe thead th {\n",
              "        text-align: right;\n",
              "    }\n",
              "</style>\n",
              "<table border=\"1\" class=\"dataframe\">\n",
              "  <thead>\n",
              "    <tr style=\"text-align: right;\">\n",
              "      <th></th>\n",
              "      <th>Unnamed: 0</th>\n",
              "      <th>ID</th>\n",
              "      <th>duration</th>\n",
              "      <th>wav</th>\n",
              "      <th>start</th>\n",
              "      <th>stop</th>\n",
              "      <th>spk_id</th>\n",
              "      <th>present_label</th>\n",
              "    </tr>\n",
              "  </thead>\n",
              "  <tbody>\n",
              "    <tr>\n",
              "      <th>0</th>\n",
              "      <td>1770953</td>\n",
              "      <td>id10974--HQCxuj-_IEI--00002_300_600</td>\n",
              "      <td>6.360062</td>\n",
              "      <td>/localscratch/voxceleb1/wav/id10974/HQCxuj-_IE...</td>\n",
              "      <td>48000</td>\n",
              "      <td>96000</td>\n",
              "      <td>id10974</td>\n",
              "      <td>True</td>\n",
              "    </tr>\n",
              "    <tr>\n",
              "      <th>1</th>\n",
              "      <td>1879771</td>\n",
              "      <td>id11027--cnzoLtP8scQ--00002_0_300</td>\n",
              "      <td>25.920063</td>\n",
              "      <td>/localscratch/voxceleb1/wav/id11027/cnzoLtP8sc...</td>\n",
              "      <td>0</td>\n",
              "      <td>48000</td>\n",
              "      <td>id11027</td>\n",
              "      <td>True</td>\n",
              "    </tr>\n",
              "    <tr>\n",
              "      <th>2</th>\n",
              "      <td>1356812</td>\n",
              "      <td>id10899--jEQUmGeTxAA--00002_0_300</td>\n",
              "      <td>4.680063</td>\n",
              "      <td>/localscratch/voxceleb1/wav/id10899/jEQUmGeTxA...</td>\n",
              "      <td>0</td>\n",
              "      <td>48000</td>\n",
              "      <td>id10899</td>\n",
              "      <td>True</td>\n",
              "    </tr>\n",
              "    <tr>\n",
              "      <th>3</th>\n",
              "      <td>1642033</td>\n",
              "      <td>id11210--7xaAmL5lPFs--00016_0_300</td>\n",
              "      <td>8.560063</td>\n",
              "      <td>/localscratch/voxceleb1/wav/id11210/7xaAmL5lPF...</td>\n",
              "      <td>0</td>\n",
              "      <td>48000</td>\n",
              "      <td>id11210</td>\n",
              "      <td>True</td>\n",
              "    </tr>\n",
              "    <tr>\n",
              "      <th>4</th>\n",
              "      <td>816212</td>\n",
              "      <td>id10561--EK-mIWZ1hWI--00012_0_300</td>\n",
              "      <td>5.040063</td>\n",
              "      <td>/localscratch/voxceleb1/wav/id10561/EK-mIWZ1hW...</td>\n",
              "      <td>0</td>\n",
              "      <td>48000</td>\n",
              "      <td>id10561</td>\n",
              "      <td>True</td>\n",
              "    </tr>\n",
              "    <tr>\n",
              "      <th>...</th>\n",
              "      <td>...</td>\n",
              "      <td>...</td>\n",
              "      <td>...</td>\n",
              "      <td>...</td>\n",
              "      <td>...</td>\n",
              "      <td>...</td>\n",
              "      <td>...</td>\n",
              "      <td>...</td>\n",
              "    </tr>\n",
              "    <tr>\n",
              "      <th>19995</th>\n",
              "      <td>45658</td>\n",
              "      <td>id10858--8uAVUnozxKQ--00001_0_300</td>\n",
              "      <td>5.800063</td>\n",
              "      <td>/localscratch/voxceleb1/wav/id10858/8uAVUnozxK...</td>\n",
              "      <td>0</td>\n",
              "      <td>48000</td>\n",
              "      <td>id10858</td>\n",
              "      <td>False</td>\n",
              "    </tr>\n",
              "    <tr>\n",
              "      <th>19996</th>\n",
              "      <td>207798</td>\n",
              "      <td>id10530--vDN3b85G3N8--00001_600_900</td>\n",
              "      <td>15.160063</td>\n",
              "      <td>/localscratch/voxceleb1/wav/id10530/vDN3b85G3N...</td>\n",
              "      <td>96000</td>\n",
              "      <td>144000</td>\n",
              "      <td>id10530</td>\n",
              "      <td>False</td>\n",
              "    </tr>\n",
              "    <tr>\n",
              "      <th>19997</th>\n",
              "      <td>13283</td>\n",
              "      <td>id10609--Gv3w08FRAbs--00001_300_600</td>\n",
              "      <td>8.120062</td>\n",
              "      <td>/localscratch/voxceleb1/wav/id10609/Gv3w08FRAb...</td>\n",
              "      <td>48000</td>\n",
              "      <td>96000</td>\n",
              "      <td>id10609</td>\n",
              "      <td>False</td>\n",
              "    </tr>\n",
              "    <tr>\n",
              "      <th>19998</th>\n",
              "      <td>24973</td>\n",
              "      <td>id10067--LWet2zhWjBg--00024_0_300</td>\n",
              "      <td>4.240062</td>\n",
              "      <td>/localscratch/voxceleb1/wav/id10067/LWet2zhWjB...</td>\n",
              "      <td>0</td>\n",
              "      <td>48000</td>\n",
              "      <td>id10067</td>\n",
              "      <td>False</td>\n",
              "    </tr>\n",
              "    <tr>\n",
              "      <th>19999</th>\n",
              "      <td>28060</td>\n",
              "      <td>id10553--os_DOjLq7t4--00006_900_1200</td>\n",
              "      <td>13.440062</td>\n",
              "      <td>/localscratch/voxceleb1/wav/id10553/os_DOjLq7t...</td>\n",
              "      <td>144000</td>\n",
              "      <td>192000</td>\n",
              "      <td>id10553</td>\n",
              "      <td>False</td>\n",
              "    </tr>\n",
              "  </tbody>\n",
              "</table>\n",
              "<p>20000 rows × 8 columns</p>\n",
              "</div>\n",
              "      <button class=\"colab-df-convert\" onclick=\"convertToInteractive('df-46761762-c49e-4bcf-8244-8a53afe0b81c')\"\n",
              "              title=\"Convert this dataframe to an interactive table.\"\n",
              "              style=\"display:none;\">\n",
              "        \n",
              "  <svg xmlns=\"http://www.w3.org/2000/svg\" height=\"24px\"viewBox=\"0 0 24 24\"\n",
              "       width=\"24px\">\n",
              "    <path d=\"M0 0h24v24H0V0z\" fill=\"none\"/>\n",
              "    <path d=\"M18.56 5.44l.94 2.06.94-2.06 2.06-.94-2.06-.94-.94-2.06-.94 2.06-2.06.94zm-11 1L8.5 8.5l.94-2.06 2.06-.94-2.06-.94L8.5 2.5l-.94 2.06-2.06.94zm10 10l.94 2.06.94-2.06 2.06-.94-2.06-.94-.94-2.06-.94 2.06-2.06.94z\"/><path d=\"M17.41 7.96l-1.37-1.37c-.4-.4-.92-.59-1.43-.59-.52 0-1.04.2-1.43.59L10.3 9.45l-7.72 7.72c-.78.78-.78 2.05 0 2.83L4 21.41c.39.39.9.59 1.41.59.51 0 1.02-.2 1.41-.59l7.78-7.78 2.81-2.81c.8-.78.8-2.07 0-2.86zM5.41 20L4 18.59l7.72-7.72 1.47 1.35L5.41 20z\"/>\n",
              "  </svg>\n",
              "      </button>\n",
              "      \n",
              "  <style>\n",
              "    .colab-df-container {\n",
              "      display:flex;\n",
              "      flex-wrap:wrap;\n",
              "      gap: 12px;\n",
              "    }\n",
              "\n",
              "    .colab-df-convert {\n",
              "      background-color: #E8F0FE;\n",
              "      border: none;\n",
              "      border-radius: 50%;\n",
              "      cursor: pointer;\n",
              "      display: none;\n",
              "      fill: #1967D2;\n",
              "      height: 32px;\n",
              "      padding: 0 0 0 0;\n",
              "      width: 32px;\n",
              "    }\n",
              "\n",
              "    .colab-df-convert:hover {\n",
              "      background-color: #E2EBFA;\n",
              "      box-shadow: 0px 1px 2px rgba(60, 64, 67, 0.3), 0px 1px 3px 1px rgba(60, 64, 67, 0.15);\n",
              "      fill: #174EA6;\n",
              "    }\n",
              "\n",
              "    [theme=dark] .colab-df-convert {\n",
              "      background-color: #3B4455;\n",
              "      fill: #D2E3FC;\n",
              "    }\n",
              "\n",
              "    [theme=dark] .colab-df-convert:hover {\n",
              "      background-color: #434B5C;\n",
              "      box-shadow: 0px 1px 3px 1px rgba(0, 0, 0, 0.15);\n",
              "      filter: drop-shadow(0px 1px 2px rgba(0, 0, 0, 0.3));\n",
              "      fill: #FFFFFF;\n",
              "    }\n",
              "  </style>\n",
              "\n",
              "      <script>\n",
              "        const buttonEl =\n",
              "          document.querySelector('#df-46761762-c49e-4bcf-8244-8a53afe0b81c button.colab-df-convert');\n",
              "        buttonEl.style.display =\n",
              "          google.colab.kernel.accessAllowed ? 'block' : 'none';\n",
              "\n",
              "        async function convertToInteractive(key) {\n",
              "          const element = document.querySelector('#df-46761762-c49e-4bcf-8244-8a53afe0b81c');\n",
              "          const dataTable =\n",
              "            await google.colab.kernel.invokeFunction('convertToInteractive',\n",
              "                                                     [key], {});\n",
              "          if (!dataTable) return;\n",
              "\n",
              "          const docLinkHtml = 'Like what you see? Visit the ' +\n",
              "            '<a target=\"_blank\" href=https://colab.research.google.com/notebooks/data_table.ipynb>data table notebook</a>'\n",
              "            + ' to learn more about interactive tables.';\n",
              "          element.innerHTML = '';\n",
              "          dataTable['output_type'] = 'display_data';\n",
              "          await google.colab.output.renderOutput(dataTable, element);\n",
              "          const docLink = document.createElement('div');\n",
              "          docLink.innerHTML = docLinkHtml;\n",
              "          element.appendChild(docLink);\n",
              "        }\n",
              "      </script>\n",
              "    </div>\n",
              "  </div>\n",
              "  "
            ]
          },
          "metadata": {},
          "execution_count": 17
        }
      ]
    },
    {
      "cell_type": "code",
      "source": [
        "for f in train_df['wav']:\n",
        "  l = f.split('/')[3:]\n",
        "  l = [s+'/' for s in l]\n",
        "  l[-1] = l[-1][:-1] \n",
        "  l = ''.join(l)\n",
        "  "
      ],
      "metadata": {
        "id": "rIT3snDRqOVI"
      },
      "execution_count": null,
      "outputs": []
    },
    {
      "cell_type": "code",
      "metadata": {
        "id": "_pC-98RDOqPq"
      },
      "source": [
        "%%capture\n",
        "import speechbrain \n",
        "# here we download the material needed for this tutorial: images and an example based on mini-librispeech\n",
        "!wget https://www.dropbox.com/s/b61lo6gkpuplanq/MiniLibriSpeechTutorial.tar.gz?dl=0\n",
        "!tar -xvzf MiniLibriSpeechTutorial.tar.gz?dl=0\n",
        "# downloading mini_librispeech dev data\n",
        "!wget https://www.openslr.org/resources/31/dev-clean-2.tar.gz\n",
        "!tar -xvzf dev-clean-2.tar.gz"
      ],
      "execution_count": null,
      "outputs": []
    },
    {
      "cell_type": "markdown",
      "source": [
        "# Logistic Regression"
      ],
      "metadata": {
        "id": "coGJTKi9zY5u"
      }
    },
    {
      "cell_type": "code",
      "source": [
        "target_model = EncoderClassifier.from_hparams(source=\"speechbrain/spkrec-ecapa-voxceleb\", savedir=\"./pretrained_ecapa\", run_opts={\"device\": \"cuda\"},)"
      ],
      "metadata": {
        "id": "6jDQbEpr1lWs",
        "colab": {
          "base_uri": "https://localhost:8080/",
          "height": 177,
          "referenced_widgets": [
            "5ac9151b0a8c4d1192fe2b2cae882576",
            "ec73f6ddc1224b66848a10541ea9d26f",
            "9fa40a262adc4bc48c5402b01b5cbfe2",
            "e8989598b4654cc7b18823825643f032",
            "bb3b2b19f50f48a69913c54712f9ab17",
            "240994702f3d41d1a3ec424a283d8ef0",
            "4020a06640534aca8a26c4345c0051f1",
            "e3551fd17e204903a9896ef4b1aba6de",
            "035fd8964c124f9e99e7edcb344975e1",
            "ebd8435c413f45e7b3327d6a9ff17efd",
            "d0da09c122b94c8c8bf02cec5277a32a",
            "9a4d6d074416455f8366cc77d02ef3d2",
            "b17c4eb0f9f648408ad835692cc14379",
            "85af7fdde64347a48d20fe6ef17de45d",
            "dd04b4f487f94ea094319234a8e92440",
            "18ed0bcdb1434dc6b534f38989111ae8",
            "6354bed770944badb6d2b9373bf2fd43",
            "a1a69e01d972493aae4ca0a0d55ffc13",
            "fbbf1dbe458c43bdbc6ad46534e39ba2",
            "77a5457e82fc4ba9a9574899e3673e34",
            "d0dad6ecf8c64a69a498b556a0951820",
            "b8c9e427a41649ae8d06f46f426aaa9a",
            "47155cd777cc4ad7b0f1b79842c0ba76",
            "02e8a3cf814f4a13a254da53f61e67f3",
            "92db4878923e49c09d7c4b3beb9470e6",
            "f7f64dc079b7456f9c51b8c342cc5aba",
            "9f4b91c574984fc3ae31fd35bba1f2c0",
            "2b9f027134e4479b8a5ca3d2b47ecbf8",
            "6960fc3ca09c479db6337916f9c2d8e3",
            "0078cf3ba5314c1297e82219892bf970",
            "ba55558432344afa99fd360e4f32ddba",
            "7bbfbe27e6b24170a6f4e71727a999ed",
            "f8772a34be0346c4a71438569712f9d0",
            "fed51948668c4fd685b68d47491dc029",
            "bc07accc2d02485094186f5272d859c6",
            "3e8d35973f4a44db9a3c336372fb1f1a",
            "8cbfa911a8c346cba3e77ba3df659679",
            "44062bc899bf4efba8b4fafc48c98209",
            "eaf975fc93d34d388b9fc2021bcd3e49",
            "20fdad3f252a446ea8ee00559471dbf4",
            "b0d15a74ef6f41d3812a97e4f29847b9",
            "d2cdfbf258a94e319fa51fc2ea5c52c7",
            "982e1e2c539c4edcb7f57608a662d195",
            "07e41e08bdc14f7abbd1f3ed48ee2510",
            "08723e3c97c445029280e9cd82b37324",
            "6c1d537255d840a2b95817fc28199974",
            "b84578895664480cbe14ec5865b557d9",
            "d0ad6c243f3c4a9ba1479800e5649a1a",
            "88618e1592c8448ab898d7d23dd25fa6",
            "207a3d7262a54db2a337833d58ea7ff6",
            "29f5387a3e934dc8940b3f45bbea40e5",
            "a61085bf1a7a497b94e42a8f01018937",
            "b0e795d756c1408ca2c0140e2047b77a",
            "c04d399fb757472c83ce515690f86eb0",
            "760d69dbc08a427d8a47abff9fb85d82"
          ]
        },
        "outputId": "9ef39d15-57d0-44a6-841b-9a52b3d8e6e1"
      },
      "execution_count": null,
      "outputs": [
        {
          "output_type": "display_data",
          "data": {
            "text/plain": [
              "Downloading (…)ain/hyperparams.yaml:   0%|          | 0.00/1.92k [00:00<?, ?B/s]"
            ],
            "application/vnd.jupyter.widget-view+json": {
              "version_major": 2,
              "version_minor": 0,
              "model_id": "5ac9151b0a8c4d1192fe2b2cae882576"
            }
          },
          "metadata": {}
        },
        {
          "output_type": "display_data",
          "data": {
            "text/plain": [
              "Downloading embedding_model.ckpt:   0%|          | 0.00/83.3M [00:00<?, ?B/s]"
            ],
            "application/vnd.jupyter.widget-view+json": {
              "version_major": 2,
              "version_minor": 0,
              "model_id": "9a4d6d074416455f8366cc77d02ef3d2"
            }
          },
          "metadata": {}
        },
        {
          "output_type": "display_data",
          "data": {
            "text/plain": [
              "Downloading (…)an_var_norm_emb.ckpt:   0%|          | 0.00/1.92k [00:00<?, ?B/s]"
            ],
            "application/vnd.jupyter.widget-view+json": {
              "version_major": 2,
              "version_minor": 0,
              "model_id": "47155cd777cc4ad7b0f1b79842c0ba76"
            }
          },
          "metadata": {}
        },
        {
          "output_type": "display_data",
          "data": {
            "text/plain": [
              "Downloading classifier.ckpt:   0%|          | 0.00/5.53M [00:00<?, ?B/s]"
            ],
            "application/vnd.jupyter.widget-view+json": {
              "version_major": 2,
              "version_minor": 0,
              "model_id": "fed51948668c4fd685b68d47491dc029"
            }
          },
          "metadata": {}
        },
        {
          "output_type": "display_data",
          "data": {
            "text/plain": [
              "Downloading (…)in/label_encoder.txt:   0%|          | 0.00/129k [00:00<?, ?B/s]"
            ],
            "application/vnd.jupyter.widget-view+json": {
              "version_major": 2,
              "version_minor": 0,
              "model_id": "08723e3c97c445029280e9cd82b37324"
            }
          },
          "metadata": {}
        }
      ]
    },
    {
      "cell_type": "code",
      "source": [
        "shadow_model = EncoderClassifier.from_hparams(source=\"speechbrain/spkrec-ecapa-voxceleb\", savedir=\"./pretrained_ecapa\", run_opts={\"device\": \"cuda\"},)"
      ],
      "metadata": {
        "id": "-GUy9HIp8d-Q"
      },
      "execution_count": null,
      "outputs": []
    },
    {
      "cell_type": "code",
      "source": [
        "from speechbrain.nnet.losses import LogSoftmaxWrapper, AdditiveAngularMargin\n"
      ],
      "metadata": {
        "id": "rU2EyA1kX2tH"
      },
      "execution_count": null,
      "outputs": []
    },
    {
      "cell_type": "code",
      "source": [
        "class MIAttack_train:\n",
        "  def __init__(self, target_model, shadow_model, classifier): \n",
        "    self.target_model = target_model\n",
        "    self.shadow_model = shadow_model\n",
        "    self.classifier = classifier\n",
        "\n",
        "\n",
        "  def query(self, signal, label = None):  #input: signal, fs = torchaudio.load(\"tests/samples/single-mic/example1.wav\")\n",
        "    embeddings = self.shadow_model.encode_batch(signal)\n",
        "    output_probs, score, index, text_lab = self.shadow_model.classify_batch(signal)\n",
        "    #loss = self.loss_func(output_probs, label)\n",
        "    loss = 0\n",
        "    #print(len(loss[0]))\n",
        "    return score, loss\n",
        "\n",
        "  def get_queried_res(self, data_csv): #input - .wav files\n",
        "    data_files = data_csv['wav']\n",
        "    self.labels = []\n",
        "    \n",
        "\n",
        "    scores = []\n",
        "    losses = []\n",
        "    for i in tqdm(range(len(data_files))):\n",
        "      f = data_files[i]\n",
        "      labels = data_csv['present_label']\n",
        "      f = f.replace(\"/localscratch/voxceleb1/\", \"/content/wav_files/\")\n",
        "      try:\n",
        "        signal, _ = torchaudio.load(f)\n",
        "        score, loss = self.query(signal, labels[i])\n",
        "        scores.append([score.item()])\n",
        "        losses.append([0])\n",
        "        self.labels.append(labels[i])\n",
        "      except:\n",
        "        continue\n",
        "      \n",
        "    self.scores = scores\n",
        "    self.losses = losses\n",
        "    #self.queries = np.array(self.queries)\n",
        "    #self.labels = np.array(self.labels)\n",
        "    return self.scores, self.losses, self.labels \n",
        "\n",
        "  def train_classifier(self, data, criteria = 'confidence'):\n",
        "    scores, losses, labels = self.get_queried_res(data)\n",
        "    print(scores, losses, labels)\n",
        "    if criteria=='confidence':\n",
        "      self.clf = self.classifier.fit(scores, labels )\n",
        "    else:\n",
        "      self.clf = self.classifier.fit(losses, labels )\n",
        "    return self.clf\n"
      ],
      "metadata": {
        "id": "tpB2cQSTzfUc"
      },
      "execution_count": null,
      "outputs": []
    },
    {
      "cell_type": "code",
      "source": [
        "class MIAttack_test:\n",
        "  def __init__(self, target_model, classifier): \n",
        "    self.target_model = target_model\n",
        "    self.shadow_model = shadow_model\n",
        "    self.classifier = classifier\n",
        "    self.loss_func= AdditiveAngularMargin()\n",
        "\n",
        "  def query(self, signal, label = None):  #input: signal, fs = torchaudio.load(\"tests/samples/single-mic/example1.wav\")\n",
        "    embeddings = self.shadow_model.encode_batch(signal)\n",
        "    output_probs, score, index, text_lab = self.shadow_model.classify_batch(signal)\n",
        "    #loss = self.loss_func(output_probs, label)\n",
        "    loss =0 \n",
        "    return score, loss\n",
        "\n",
        "  def get_queried_res(self, data_csv): #input - .wav files\n",
        "    data_files = data_csv['wav']\n",
        "    labels = data_csv['present_label']\n",
        "    self.labels = []\n",
        "    scores = []\n",
        "    losses = []\n",
        "    for i in tqdm(range(len(data_files))):\n",
        "      f = data_files[i]\n",
        "      f = f.replace(\"/localscratch/voxceleb1/\", \"/content/wav_files/\")\n",
        "      try:\n",
        "        signal, _ = torchaudio.load(f)\n",
        "        score, loss = self.query(signal)\n",
        "        scores.append([score.item()])\n",
        "        losses.append([0])\n",
        "        self.labels.append(labels[i])\n",
        "      except:\n",
        "        continue\n",
        "      \n",
        "      \n",
        "      \n",
        "    self.scores = scores\n",
        "    self.losses = losses\n",
        "    #self.queries = np.array(self.queries)\n",
        "    #self.labels = np.array(self.labels)\n",
        "    return self.scores, self.losses, self.labels \n",
        "\n",
        "\n",
        "  def test_classifier(self, data, criteria='confidence'):\n",
        "    scores, losses, labels = self.get_queried_res(data)\n",
        "    if criteria=='confidence':\n",
        "      res = self.classifier.predict(scores)\n",
        "    else:\n",
        "      res = self.classifier.predict(labels)\n",
        "    #score = classifier.score(queries, labels)\n",
        "    score = classification_report(res, labels)\n",
        "    return res, score"
      ],
      "metadata": {
        "id": "tYbH5qcSQqVE"
      },
      "execution_count": null,
      "outputs": []
    },
    {
      "cell_type": "code",
      "source": [
        "d = {'wav':['/content/speechbrain/tests/samples/single-mic/example1.wav', '/content/speechbrain/tests/samples/single-mic/example1.wav'], 'present_label':[True, False]}"
      ],
      "metadata": {
        "id": "5yrN-3Wr8fdy"
      },
      "execution_count": null,
      "outputs": []
    },
    {
      "cell_type": "code",
      "source": [
        "clf = LogisticRegression(max_iter=1000)"
      ],
      "metadata": {
        "id": "TX1UOcsi7uQ9"
      },
      "execution_count": null,
      "outputs": []
    },
    {
      "cell_type": "code",
      "source": [
        "criteria = 'confidence'\n",
        "percentages = [0.2, 0.5, 1]\n",
        "\n",
        "import numpy as np\n",
        "chosen_idx = np.random.choice(len(train_df), replace=False, size=int(len(train_df)))\n",
        "len(chosen_idx)\n",
        "df1 = train_df.iloc[chosen_idx]\n",
        "\n",
        "clf = LogisticRegression(random_state=0, max_iter=500) \n",
        "mi_train = MIAttack_train(target_model, shadow_model, clf)\n",
        "trained_classifier = mi_train.train_classifier(df1.reset_index())\n",
        "mi_test = MIAttack_test(target_model, trained_classifier )\n",
        "res, score = mi_test.test_classifier(test_df)"
      ],
      "metadata": {
        "colab": {
          "base_uri": "https://localhost:8080/"
        },
        "id": "4YDWg5C_EoNp",
        "outputId": "3d4c91bc-72c0-44fa-fc1d-4ef800d3dc5a"
      },
      "execution_count": null,
      "outputs": [
        {
          "output_type": "stream",
          "name": "stderr",
          "text": [
            "100%|██████████| 20000/20000 [14:17<00:00, 23.32it/s]\n"
          ]
        },
        {
          "output_type": "stream",
          "name": "stdout",
          "text": [
            "[[0.7084888219833374], [0.7954687476158142], [0.8826690912246704], [0.5281796455383301], [0.7668464183807373], [0.8500983715057373], [0.7777146100997925], [0.7438521385192871], [0.7681501507759094], [0.6714156866073608], [0.8238263726234436], [0.7274799942970276], [0.7945000529289246], [0.8301717638969421], [0.749549388885498], [0.824113130569458], [0.7602047324180603], [0.8015329241752625], [0.7925829291343689], [0.7527070641517639], [0.8551550507545471], [0.7762241363525391], [0.8915523290634155], [0.8542624711990356], [0.8384540677070618], [0.7055705189704895], [0.7497384548187256], [0.8310770988464355], [0.7611984610557556], [0.8001548051834106], [0.7991031408309937], [0.8085125684738159], [0.6506051421165466], [0.713378369808197], [0.6995487809181213], [0.7531952857971191], [0.8373554348945618], [0.8528879284858704], [0.7137693762779236], [0.7008523344993591], [0.7684946656227112], [0.8349029421806335], [0.8654372692108154], [0.7722771167755127], [0.819158673286438], [0.7632418870925903], [0.8350535035133362], [0.5550471544265747], [0.7157480120658875], [0.8594275712966919], [0.7538763284683228], [0.8149162530899048], [0.8107292652130127], [0.6733925342559814], [0.6764806509017944], [0.7974874377250671], [0.6742181181907654], [0.7066888809204102], [0.839242160320282], [0.8061075806617737], [0.6208579540252686], [0.8313486576080322], [0.8635781407356262], [0.8523228764533997], [0.9037163257598877], [0.8639479875564575], [0.7837289571762085], [0.8302794098854065], [0.6877167820930481], [0.8468574285507202], [0.8112167119979858], [0.694983959197998], [0.745164155960083], [0.8924902677536011], [0.6373428702354431], [0.8192639946937561], [0.8346463441848755], [0.6429461240768433], [0.8002651929855347], [0.7974606156349182], [0.8056702017784119], [0.8627766370773315], [0.7533813118934631], [0.7492314577102661], [0.7558305263519287], [0.9138484001159668], [0.747123122215271], [0.8707734942436218], [0.8094677925109863], [0.8783465027809143], [0.8610738515853882], [0.76565021276474], [0.8541718125343323], [0.649457573890686], [0.7322555184364319], [0.7654553055763245], [0.8574849367141724], [0.7448333501815796], [0.7632073163986206], [0.6590803861618042], [0.7915304899215698], [0.7703786492347717], [0.7810642719268799], [0.7473737001419067], [0.7993719577789307], [0.7947320342063904], [0.7704392671585083], [0.8514266014099121], [0.774301290512085], [0.623323917388916], [0.7777454853057861], [0.8321027159690857], [0.8231926560401917], [0.6406703591346741], [0.7366735339164734], [0.8773677945137024], [0.7968544960021973], [0.83680659532547], [0.83334881067276], [0.8643162846565247], [0.8314530253410339], [0.7198411822319031], [0.7652593851089478], [0.49145859479904175], [0.8451375365257263], [0.8216721415519714], [0.8069354295730591], [0.9039240479469299], [0.8024873733520508], [0.7377524971961975], [0.7988139986991882], [0.8407458066940308], [0.8016821146011353], [0.7912099361419678], [0.7101181149482727], [0.7632388472557068], [0.7723592519760132], [0.830585241317749], [0.6114330887794495], [0.7064842581748962], [0.706917941570282], [0.7666299939155579], [0.8291116952896118], [0.7579096555709839], [0.7605644464492798], [0.7387678027153015], [0.7992192506790161], [0.7358962893486023], [0.8180420398712158], [0.7578294277191162], [0.7483959794044495], [0.6816677451133728], [0.8829492926597595], [0.7252430319786072], [0.749783992767334], [0.8396292328834534], [0.8345795273780823], [0.8067899346351624], [0.6001919507980347], [0.7803874015808105], [0.8458054065704346], [0.7948790788650513], [0.7423185706138611], [0.8155972361564636], [0.8378452658653259], [0.810819149017334], [0.6324517130851746], [0.8230863213539124], [0.7854903340339661], [0.8921729326248169], [0.6698764562606812], [0.8371880650520325], [0.7723633050918579], [0.8523052930831909], [0.8567125201225281], [0.7978363037109375], [0.5643635392189026], [0.8397197127342224], [0.7807207107543945], [0.721717357635498], [0.8527002334594727], [0.7586982250213623], [0.804786741733551], [0.7875370383262634], [0.8236715793609619], [0.7228079438209534], [0.7889664173126221], [0.8535173535346985], [0.6868278980255127], [0.7074671983718872], [0.7338916659355164], [0.825943648815155], [0.842890202999115], [0.8397550582885742], [0.7892082333564758], [0.7105088233947754], [0.6757532358169556], [0.7606809139251709], [0.7897749543190002], [0.7384504675865173], [0.7932919859886169], [0.7193319201469421], [0.710530698299408], [0.8637011051177979], [0.7400085926055908], [0.7951173782348633], [0.8296332955360413], [0.7419673800468445], [0.7721014618873596], [0.7863692045211792], [0.7984054684638977], [0.8388916254043579], [0.7816230654716492], [0.8178399205207825], [0.8329708576202393], [0.7022688388824463], [0.7859489321708679], [0.7745378017425537], [0.6678224205970764], [0.6922063231468201], [0.8412904143333435], [0.7275918126106262], [0.7766665816307068], [0.7802618145942688], [0.8225090503692627], [0.6775515675544739], [0.7922260761260986], [0.7941263914108276], [0.863489031791687], [0.7533233165740967], [0.8319087028503418], [0.7701758742332458], [0.7299962043762207], [0.5940974950790405], [0.7660978436470032], [0.6816668510437012], [0.7119874358177185], [0.7787699699401855], [0.8358725905418396], [0.6129980087280273], [0.835696816444397], [0.8579947352409363], [0.7709128856658936], [0.846668541431427], [0.787118136882782], [0.7676208019256592], [0.7533555030822754], [0.8237878680229187], [0.8289179801940918], [0.6534590721130371], [0.7901895642280579], [0.8488740921020508], [0.6239289045333862], [0.7638074159622192], [0.7494803071022034], [0.7449293732643127], [0.7561241388320923], [0.7149378061294556], [0.8456208109855652], [0.4286442697048187], [0.7960827946662903], [0.8697497844696045], [0.7273377180099487], [0.6812100410461426], [0.7913356423377991], [0.828037679195404], [0.7624020576477051], [0.8303852677345276], [0.8450946807861328], [0.674666166305542], [0.7515537142753601], [0.8675771951675415], [0.8023887276649475], [0.7859199643135071], [0.6574432253837585], [0.7985587120056152], [0.8264580368995667], [0.8109316825866699], [0.8258114457130432], [0.7687562108039856], [0.7407097220420837], [0.40124064683914185], [0.8239548802375793], [0.7539487481117249], [0.7743978500366211], [0.8269124031066895], [0.8232304453849792], [0.882125973701477], [0.7002896666526794], [0.7829701900482178], [0.8253406882286072], [0.7764425873756409], [0.7917195558547974], [0.6807754039764404], [0.8702121376991272], [0.8144738674163818], [0.6907885074615479], [0.7826342582702637], [0.8021094799041748], [0.6839415431022644], [0.8085083365440369], [0.8626443147659302], [0.8162349462509155], [0.7690276503562927], [0.7251408100128174], [0.8697989583015442], [0.7224077582359314], [0.8172950744628906], [0.8284070491790771], [0.5797565579414368], [0.8032890558242798], [0.7123067378997803], [0.7828378677368164], [0.6985982060432434], [0.7820149660110474], [0.7908573150634766], [0.7611275911331177], [0.7395791411399841], [0.5967880487442017], [0.860994279384613], [0.7942994236946106], [0.6693702936172485], [0.8516412377357483], [0.8144711256027222], [0.7476170063018799], [0.7990153431892395], [0.8635098934173584], [0.6417918801307678], [0.7613607048988342], [0.8310344219207764], [0.7455169558525085], [0.7273037433624268], [0.7788697481155396], [0.7700705528259277], [0.7898187041282654], [0.7638917565345764], [0.774415910243988], [0.8637011051177979], [0.6102719902992249], [0.843571662902832], [0.6172162294387817], [0.8281992077827454], [0.7101695537567139], [0.7886817455291748], [0.7831446528434753], [0.8603178858757019], [0.6956788897514343], [0.7832355499267578], [0.8411047458648682], [0.7647035121917725], [0.7833682894706726], [0.7283992767333984], [0.7184457778930664], [0.82844078540802], [0.6748597025871277], [0.6998022198677063], [0.7314708828926086], [0.8223512768745422], [0.8358505964279175], [0.7702314853668213], [0.7397106885910034], [0.6968703866004944], [0.538628339767456], [0.8541346788406372], [0.8018589615821838], [0.8061826229095459], [0.8227213025093079], [0.7940904498100281], [0.7618741989135742], [0.7221584320068359], [0.7964445352554321], [0.737123429775238], [0.674029529094696], [0.8615154027938843], [0.6110203266143799], [0.8391648530960083], [0.8196065425872803], [0.7642917037010193], [0.6208273768424988], [0.8636979460716248], [0.8511888980865479], [0.8379831910133362], [0.6511848568916321], [0.7854903340339661], [0.74116450548172], [0.7902116775512695], [0.8191322684288025], [0.7340434789657593], [0.6420813202857971], [0.7863692045211792], [0.819479763507843], [0.8466805815696716], [0.8019229173660278], [0.746455729007721], [0.7160041928291321], [0.7813916206359863], [0.8068497180938721], [0.8352230787277222], [0.8179506063461304], [0.7659978270530701], [0.7405691146850586], [0.7878218293190002], [0.8256224393844604], [0.8373554348945618], [0.7187312245368958], [0.8777430057525635], [0.7161111831665039], [0.7600674033164978], [0.8543599843978882], [0.7834040522575378], [0.8074353337287903], [0.8597864508628845], [0.6865946650505066], [0.8188453912734985], [0.7102647423744202], [0.7715802192687988], [0.7954123020172119], [0.7482295036315918], [0.8271987438201904], [0.725798487663269], [0.804332971572876], [0.7830232977867126], [0.8670137524604797], [0.7852922081947327], [0.7873042821884155], [0.8466207385063171], [0.6840006113052368], [0.8583399653434753], [0.6592426896095276], [0.8114854693412781], [0.831500768661499], [0.8731557130813599], [0.6412206888198853], [0.7973276376724243], [0.7433065176010132], [0.8301129937171936], [0.7356929779052734], [0.7295928001403809], [0.8135555982589722], [0.8070335388183594], [0.8057258725166321], [0.7509289383888245], [0.759797215461731], [0.8390441536903381], [0.7439872622489929], [0.8040937185287476], [0.7341117858886719], [0.8218072652816772], [0.750725507736206], [0.6869519948959351], [0.8180293440818787], [0.8338896036148071], [0.7663500308990479], [0.6568798422813416], [0.7503644227981567], [0.8421950936317444], [0.7303694486618042], [0.4073146879673004], [0.8417566418647766], [0.8453813791275024], [0.6771032214164734], [0.7956979870796204], [0.8542895317077637], [0.8333195447921753], [0.8430783748626709], [0.7449964284896851], [0.8069576621055603], [0.8451943397521973], [0.7351762652397156], [0.8219432830810547], [0.7897531986236572], [0.7375741600990295], [0.6452887058258057], [0.7000829577445984], [0.7767974734306335], [0.8230187892913818], [0.7536407709121704], [0.8000437617301941], [0.5813090801239014], [0.745281994342804], [0.7578476071357727], [0.8512465953826904], [0.758683979511261], [0.9083373546600342], [0.7785248756408691], [0.7830232977867126], [0.7364273071289062], [0.7740529775619507], [0.7899089455604553], [0.7776869535446167], [0.790646493434906], [0.7670853734016418], [0.7361082434654236], [0.7830392718315125], [0.7719585299491882], [0.7210378646850586], [0.8206368684768677], [0.7954671382904053], [0.7989554405212402], [0.6509377360343933], [0.7536409497261047], [0.7248034477233887], [0.8234109878540039], [0.8182094693183899], [0.771964430809021], [0.8153666257858276], [0.7540836930274963], [0.8386399149894714], [0.7180975079536438], [0.7994080781936646], [0.6891315579414368], [0.8056389689445496], [0.6063345074653625], [0.6157783269882202], [0.8013629913330078], [0.8275353908538818], [0.5409992337226868], [0.7256262302398682], [0.696198046207428], [0.6485761404037476], [0.6792508363723755], [0.797855019569397], [0.7108030319213867], [0.7028700113296509], [0.7682255506515503], [0.8245290517807007], [0.8862980604171753], [0.7199195027351379], [0.7256819605827332], [0.6475449204444885], [0.6876853108406067], [0.7840293645858765], [0.5637402534484863], [0.8327589631080627], [0.5631094574928284], [0.6413496136665344], [0.8169555068016052], [0.6224024295806885], [0.7895940542221069], [0.7494180798530579], [0.6492014527320862], [0.8312956094741821], [0.7909384369850159], [0.7051271796226501], [0.7826217412948608], [0.6573460102081299], [0.8133308291435242], [0.6694713234901428], [0.7019347548484802], [0.8345354199409485], [0.670930027961731], [0.8110091686248779], [0.6910923719406128], [0.794405996799469], [0.7291402220726013], [0.7235145568847656], [0.8077014684677124], [0.6483644843101501], [0.6078732013702393], [0.8542406558990479], [0.7425244450569153], [0.7327839136123657], [0.871324360370636], [0.8023271560668945], [0.7754752039909363], [0.6802223920822144], [0.8399463295936584], [0.8002029061317444], [0.6075363755226135], [0.7974277138710022], [0.8386632800102234], [0.7368630766868591], [0.7042191624641418], [0.8290262222290039], [0.7257964015007019], [0.8130068778991699], [0.8489272594451904], [0.7626773715019226], [0.7353404760360718], [0.6854102611541748], [0.8458677530288696], [0.7601524591445923], [0.862212598323822], [0.759268581867218], [0.7728946805000305], [0.8738815784454346], [0.6754283308982849], [0.7041732668876648], [0.7827051877975464], [0.7185670137405396], [0.7430452704429626], [0.8065266013145447], [0.7886146306991577], [0.4940686821937561], [0.8861045241355896], [0.7712158560752869], [0.7035760879516602], [0.7484812140464783], [0.8389459848403931], [0.7494910955429077], [0.6240877509117126], [0.8833441138267517], [0.7322143912315369], [0.5226409435272217], [0.8386399149894714], [0.8050503134727478], [0.6900047659873962], [0.830407977104187], [0.8822270035743713], [0.8268091678619385], [0.7744626998901367], [0.8822665214538574], [0.8009940385818481], [0.796742856502533], [0.7838919758796692], [0.8379298448562622], [0.7800545692443848], [0.8149001598358154], [0.7413457036018372], [0.7589111328125], [0.8021712303161621], [0.7344695329666138], [0.7770955562591553], [0.8400161862373352], [0.7487272620201111], [0.7363213300704956], [0.7722763419151306], [0.7729473114013672], [0.7893275618553162], [0.775274932384491], [0.7426907420158386], [0.601729154586792], [0.6950533986091614], [0.861186146736145], [0.749922513961792], [0.8524287939071655], [0.7424787878990173], [0.7799626588821411], [0.7394099235534668], [0.7247786521911621], [0.8050380349159241], [0.7952514290809631], [0.818821132183075], [0.7352215051651001], [0.7297993898391724], [0.7371988296508789], [0.7963652610778809], [0.75126713514328], [0.7751976251602173], [0.6695904731750488], [0.8196825981140137], [0.8733654022216797], [0.8040122389793396], [0.8168857097625732], [0.8375940322875977], [0.760098934173584], [0.7646621465682983], [0.6866453289985657], [0.7141795754432678], [0.686286211013794], [0.7772427797317505], [0.8378618359565735], [0.6506984829902649], [0.7646826505661011], [0.7957223653793335], [0.826899528503418], [0.7535052299499512], [0.8003479838371277], [0.6192622184753418], [0.8359108567237854], [0.6909388899803162], [0.7832122445106506], [0.8024660348892212], [0.7502461075782776], [0.6049489974975586], [0.8129894137382507], [0.8006300926208496], [0.8052011132240295], [0.7152002453804016], [0.8452337384223938], [0.8849073052406311], [0.8302890062332153], [0.8220555186271667], [0.8811452388763428], [0.7929192781448364], [0.7153865098953247], [0.6399754285812378], [0.6491668224334717], [0.6899353861808777], [0.5709295272827148], [0.8459857702255249], [0.7797361612319946], [0.8340437412261963], [0.6525203585624695], [0.5708125829696655], [0.8524739146232605], [0.7342566847801208], [0.7384360432624817], [0.8930967450141907], [0.7159578204154968], [0.8478464484214783], [0.7196276187896729], [0.6952804327011108], [0.6883716583251953], [0.7548989057540894], [0.8723495602607727], [0.7210375070571899], [0.7764577269554138], [0.8537891507148743], [0.8118107318878174], [0.8573001623153687], [0.8380997180938721], [0.7548431754112244], [0.5829402208328247], [0.851561963558197], [0.7754930853843689], [0.7898848056793213], [0.8341078758239746], [0.8385870456695557], [0.7820969223976135], [0.7362635731697083], [0.8242269158363342], [0.722658634185791], [0.7267906069755554], [0.8376049995422363], [0.8198257684707642], [0.8262546062469482], [0.8430304527282715], [0.7127062082290649], [0.7797467112541199], [0.7716449499130249], [0.9036058783531189], [0.8350412845611572], [0.7502279281616211], [0.8290860056877136], [0.7269526124000549], [0.6222426295280457], [0.6481803059577942], [0.8038167357444763], [0.7928992509841919], [0.6916369199752808], [0.7989669442176819], [0.8507890105247498], [0.8584352135658264], [0.7278888821601868], [0.7447786927223206], [0.672893226146698], [0.8418512940406799], [0.7342036366462708], [0.8041356801986694], [0.8493946194648743], [0.8636264204978943], [0.8076847791671753], [0.8000790476799011], [0.7351229786872864], [0.8379035592079163], [0.8427091240882874], [0.5077498555183411], [0.8194133043289185], [0.7339657545089722], [0.7945000529289246], [0.7269818782806396], [0.8409152030944824], [0.8719961643218994], [0.6967061161994934], [0.7057190537452698], [0.8537795543670654], [0.6736310124397278], [0.6729700565338135], [0.6470879316329956], [0.6878840923309326], [0.6971212029457092], [0.7514412999153137], [0.6642878651618958], [0.7582026720046997], [0.7924759984016418], [0.7603903412818909], [0.8002251386642456], [0.7415582537651062], [0.7241523861885071], [0.8139938116073608], [0.8312597274780273], [0.7871467471122742], [0.8538221716880798], [0.8514171242713928], [0.794882595539093], [0.8590423464775085], [0.6584522128105164], [0.8399109244346619], [0.8194312453269958], [0.781686007976532], [0.6940449476242065], [0.8010620474815369], [0.7650830149650574], [0.80317223072052], [0.714360773563385], [0.6781439781188965], [0.7207230925559998], [0.79719078540802], [0.8437857031822205], [0.7705294489860535], [0.7451819181442261], [0.7823752164840698], [0.7800894379615784], [0.7953264117240906], [0.6869411468505859], [0.8625187873840332], [0.8664143681526184], [0.6546742916107178], [0.7558462619781494], [0.7850573062896729], [0.7712036967277527], [0.8091329336166382], [0.6938175559043884], [0.619138777256012], [0.8205311894416809], [0.8005089163780212], [0.8330330848693848], [0.829968273639679], [0.7845829725265503], [0.8308471441268921], [0.7408867478370667], [0.7012396454811096], [0.8000901937484741], [0.6881974935531616], [0.8594202399253845], [0.6330140829086304], [0.7526353597640991], [0.7716941237449646], [0.7192559838294983], [0.7800545692443848], [0.6383092999458313], [0.7496874928474426], [0.7898411154747009], [0.737429141998291], [0.8166266679763794], [0.7051271796226501], [0.7707943916320801], [0.6892395615577698], [0.7609492540359497], [0.8050503134727478], [0.860619306564331], [0.7594506740570068], [0.8785366415977478], [0.8397387266159058], [0.6523759961128235], [0.8051881790161133], [0.8544719815254211], [0.6504398584365845], [0.7723280191421509], [0.781420111656189], [0.8132748603820801], [0.6472865343093872], [0.8047984838485718], [0.8219621181488037], [0.7948253154754639], [0.8358844518661499], [0.7904835343360901], [0.7058662176132202], [0.8097471594810486], [0.781798243522644], [0.8537898659706116], [0.7364157438278198], [0.7845703363418579], [0.6500716209411621], [0.7364912629127502], [0.7442069053649902], [0.7240650653839111], [0.8446422815322876], [0.7794355154037476], [0.8230088949203491], [0.8053494095802307], [0.7738651037216187], [0.8209457993507385], [0.7606809139251709], [0.8551030158996582], [0.6648635864257812], [0.7657546997070312], [0.7451977133750916], [0.8197603225708008], [0.58997642993927], [0.7548199892044067], [0.7267667651176453], [0.7205557823181152], [0.8414711952209473], [0.8545024394989014], [0.7321568131446838], [0.7182836532592773], [0.8087345957756042], [0.7008177638053894], [0.7190237045288086], [0.6589875221252441], [0.8287183046340942], [0.6104510426521301], [0.8312597274780273], [0.749312698841095], [0.6546451449394226], [0.81986004114151], [0.695719838142395], [0.7848538756370544], [0.8614780306816101], [0.5064994692802429], [0.7918004393577576], [0.8553183674812317], [0.6965813636779785], [0.6946834921836853], [0.7888769507408142], [0.743556797504425], [0.7821899652481079], [0.6317150592803955], [0.6097400784492493], [0.769646167755127], [0.7328331470489502], [0.8323246836662292], [0.75452721118927], [0.7982950806617737], [0.6775802969932556], [0.7554617524147034], [0.8277247548103333], [0.7201513648033142], [0.5779181718826294], [0.7882000207901001], [0.8861045241355896], [0.8108078241348267], [0.7632034420967102], [0.7390506863594055], [0.760098934173584], [0.8339322209358215], [0.7660740613937378], [0.795587420463562], [0.8279297947883606], [0.7936582565307617], [0.7856854796409607], [0.7815038561820984], [0.7699788212776184], [0.773623526096344], [0.8222706913948059], [0.4818539321422577], [0.8402218818664551], [0.821945071220398], [0.6525655388832092], [0.7866482138633728], [0.8641777634620667], [0.8031322956085205], [0.7686353325843811], [0.7326592206954956], [0.7556537985801697], [0.6358056664466858], [0.8664824366569519], [0.7204544544219971], [0.7312830090522766], [0.6203600168228149], [0.6448145508766174], [0.8471704721450806], [0.7808395028114319], [0.7397960424423218], [0.7729294300079346], [0.7715041637420654], [0.6520066261291504], [0.7327129244804382], [0.6379886865615845], [0.735232949256897], [0.4297531545162201], [0.7762110233306885], [0.8590898513793945], [0.7496868968009949], [0.8278483748435974], [0.833899199962616], [0.7245060205459595], [0.8315219283103943], [0.7546423673629761], [0.7441338300704956], [0.8076294660568237], [0.8039889931678772], [0.7910332679748535], [0.7104232907295227], [0.597542941570282], [0.7057392597198486], [0.786887526512146], [0.8723617792129517], [0.6792256236076355], [0.7115935683250427], [0.8063892722129822], [0.7493028044700623], [0.8010358810424805], [0.7756596207618713], [0.8248175978660583], [0.6809985041618347], [0.6067728400230408], [0.8062999248504639], [0.7636067271232605], [0.7281448841094971], [0.8610591888427734], [0.8119560480117798], [0.7678933143615723], [0.7501718997955322], [0.6717541217803955], [0.7610475420951843], [0.8057411313056946], [0.7276356816291809], [0.7765718102455139], [0.6407514214515686], [0.7123163938522339], [0.7124017477035522], [0.8312597274780273], [0.7776201367378235], [0.7962872982025146], [0.8083927035331726], [0.6782503724098206], [0.7484846711158752], [0.751365602016449], [0.781855046749115], [0.7637402415275574], [0.755329966545105], [0.8482120633125305], [0.8083070516586304], [0.7130140662193298], [0.8030301928520203], [0.8254396319389343], [0.5668014287948608], [0.6566024422645569], [0.8201347589492798], [0.6834518909454346], [0.8299355506896973], [0.8597884774208069], [0.7606975436210632], [0.6771684885025024], [0.8079922795295715], [0.8065332174301147], [0.8312956094741821], [0.8466311693191528], [0.7086118459701538], [0.7872670888900757], [0.7903831601142883], [0.5585405826568604], [0.756104588508606], [0.8003779649734497], [0.7654093503952026], [0.749037504196167], [0.7633112072944641], [0.8540508151054382], [0.7291886806488037], [0.701845109462738], [0.795343816280365], [0.8129553198814392], [0.6967334747314453], [0.8190761804580688], [0.8581894636154175], [0.7102420926094055], [0.749556303024292], [0.7346987724304199], [0.6318175196647644], [0.7042362093925476], [0.7407898306846619], [0.7309842705726624], [0.7300401329994202], [0.8079673647880554], [0.7943179607391357], [0.8279664516448975], [0.7567062973976135], [0.8401039838790894], [0.7756589651107788], [0.8189687132835388], [0.8501706123352051], [0.6850382685661316], [0.7879195213317871], [0.8356265425682068], [0.6810225248336792], [0.7948760986328125], [0.5426526665687561], [0.8423444032669067], [0.8274097442626953], [0.6428671479225159], [0.6762422323226929], [0.7587543725967407], [0.7533495426177979], [0.859203577041626], [0.736260712146759], [0.7751168608665466], [0.7016406655311584], [0.7769696116447449], [0.6881205439567566], [0.7415058016777039], [0.7253385782241821], [0.6758180856704712], [0.8196906447410583], [0.76591557264328], [0.7109195590019226], [0.747010350227356], [0.8440644145011902], [0.7971267104148865], [0.796140730381012], [0.7228820323944092], [0.781337320804596], [0.6180612444877625], [0.7884029150009155], [0.7865080237388611], [0.6857281923294067], [0.7845599055290222], [0.7055562138557434], [0.8105868101119995], [0.6328885555267334], [0.595090925693512], [0.7945597171783447], [0.8375148773193359], [0.7858400344848633], [0.7403446435928345], [0.7366735339164734], [0.7271971106529236], [0.7492544651031494], [0.7233322858810425], [0.6232207417488098], [0.6311178207397461], [0.8207473158836365], [0.6892442107200623], [0.7196336388587952], [0.6116665601730347], [0.7862510085105896], [0.7457407712936401], [0.8491379618644714], [0.8364081382751465], [0.8087978363037109], [0.7604764103889465], [0.7950150966644287], [0.7163928747177124], [0.7060853242874146], [0.718163251876831], [0.8292253613471985], [0.7436798214912415], [0.845334529876709], [0.7437665462493896], [0.8127831220626831], [0.782451868057251], [0.8541414737701416], [0.7417716979980469], [0.7345303297042847], [0.7401610612869263], [0.6353446245193481], [0.8482373952865601], [0.6847460269927979], [0.8234280347824097], [0.7766665816307068], [0.7934467792510986], [0.8998172283172607], [0.7640655040740967], [0.8919384479522705], [0.8160994648933411], [0.7344203591346741], [0.5687139630317688], [0.3179570436477661], [0.6666961312294006], [0.7148322463035583], [0.8523228764533997], [0.5864959955215454], [0.7816224098205566], [0.6973380446434021], [0.8038594722747803], [0.8284831047058105], [0.8857440948486328], [0.8101648092269897], [0.8225873708724976], [0.7943100333213806], [0.8021049499511719], [0.5988128781318665], [0.8171114325523376], [0.6682005524635315], [0.8510041832923889], [0.8101564049720764], [0.8438832759857178], [0.8279100060462952], [0.7167060375213623], [0.7552603483200073], [0.7832878828048706], [0.7956055998802185], [0.8511081337928772], [0.6403775811195374], [0.7936220169067383], [0.7652661800384521], [0.8374122381210327], [0.6388456225395203], [0.8010620474815369], [0.8720148801803589], [0.8134604692459106], [0.9004283547401428], [0.7392749786376953], [0.8414387702941895], [0.8178454041481018], [0.6575453877449036], [0.7945785522460938], [0.8425965309143066], [0.7947254180908203], [0.7757484316825867], [0.7778318524360657], [0.7466247081756592], [0.858892560005188], [0.778263509273529], [0.8497834205627441], [0.888469398021698], [0.7934926152229309], [0.7593828439712524], [0.7838088274002075], [0.8132947087287903], [0.8336091637611389], [0.7726997137069702], [0.8335760235786438], [0.8339619040489197], [0.8099765777587891], [0.8400043845176697], [0.836352527141571], [0.8268247842788696], [0.7390722036361694], [0.7124840021133423], [0.7627035975456238], [0.7122909426689148], [0.6700584888458252], [0.7199352383613586], [0.8324904441833496], [0.6472252011299133], [0.8172883987426758], [0.6325775980949402], [0.8067389130592346], [0.8301033973693848], [0.8060740232467651], [0.6788507103919983], [0.7790670990943909], [0.8038132786750793], [0.7294595241546631], [0.9038782715797424], [0.6097967624664307], [0.7651387453079224], [0.7547122836112976], [0.7749809622764587], [0.6240877509117126], [0.7637863159179688], [0.7815038561820984], [0.7989177107810974], [0.6929477453231812], [0.7614433765411377], [0.6913905143737793], [0.7632721662521362], [0.7390352487564087], [0.8015972375869751], [0.684988260269165], [0.8109090924263], [0.7693126797676086], [0.8767725825309753], [0.8098456859588623], [0.8580799698829651], [0.817617654800415], [0.8437857031822205], [0.7967610955238342], [0.7817198634147644], [0.7518783807754517], [0.7774233222007751], [0.796730637550354], [0.7711049914360046], [0.7870968580245972], [0.6555285453796387], [0.7676599621772766], [0.8423216342926025], [0.794049084186554], [0.7916938066482544], [0.8104166984558105], [0.6943657994270325], [0.8071253299713135], [0.7916589379310608], [0.7788492441177368], [0.8424447774887085], [0.6885712146759033], [0.789837658405304], [0.8054460287094116], [0.7824413180351257], [0.6742501258850098], [0.5328750610351562], [0.8319146633148193], [0.8519872426986694], [0.8107223510742188], [0.8267841935157776], [0.6902851462364197], [0.8175997138023376], [0.6389076709747314], [0.8499122858047485], [0.7509109973907471], [0.7925328016281128], [0.707801342010498], [0.8175575137138367], [0.5440621376037598], [0.8389681577682495], [0.6497249007225037], [0.8438414931297302], [0.7999724745750427], [0.7098241448402405], [0.44754379987716675], [0.6990181803703308], [0.5991811156272888], [0.6598620414733887], [0.8270637392997742], [0.7430742979049683], [0.7074776887893677], [0.7475303411483765], [0.7230087518692017], [0.8164087533950806], [0.654240608215332], [0.7685374617576599], [0.8147918581962585], [0.6917644739151001], [0.8225628137588501], [0.7406396269798279], [0.7730797529220581], [0.7392454147338867], [0.6161890625953674], [0.8291751146316528], [0.8517307043075562], [0.7044486999511719], [0.780139148235321], [0.8231926560401917], [0.7666401863098145], [0.7534295320510864], [0.8649930953979492], [0.6432322263717651], [0.7541500329971313], [0.7271679639816284], [0.7790389060974121], [0.8125734329223633], [0.7500796318054199], [0.8230718374252319], [0.5914511680603027], [0.7154098153114319], [0.7241519689559937], [0.7053454518318176], [0.6983880996704102], [0.7287417054176331], [0.7016406655311584], [0.6928073763847351], [0.8900038003921509], [0.818407416343689], [0.7733734250068665], [0.8904608488082886], [0.7171334624290466], [0.826715886592865], [0.5909094214439392], [0.6064612865447998], [0.8094987869262695], [0.7915304899215698], [0.7318832278251648], [0.6602228283882141], [0.7561241388320923], [0.7436792254447937], [0.7871901988983154], [0.7180517315864563], [0.848289966583252], [0.722230851650238], [0.8044305443763733], [0.7943354249000549], [0.779034435749054], [0.8636979460716248], [0.6154730916023254], [0.7865948677062988], [0.8025146722793579], [0.7152799367904663], [0.7671670317649841], [0.8515797853469849], [0.8347423076629639], [0.7267535328865051], [0.8080112338066101], [0.8445865511894226], [0.7689117789268494], [0.7179160714149475], [0.8166961669921875], [0.8068839311599731], [0.8135826587677002], [0.8732208013534546], [0.7730797529220581], [0.7706261873245239], [0.8671402335166931], [0.7990881204605103], [0.7987788915634155], [0.8661335706710815], [0.7530316710472107], [0.8258623480796814], [0.7667255997657776], [0.7581863403320312], [0.7224934697151184], [0.7565270662307739], [0.8072713613510132], [0.8402270078659058], [0.862522304058075], [0.7533195614814758], [0.7152734398841858], [0.7429205775260925], [0.712083101272583], [0.654502809047699], [0.7954520583152771], [0.7159906625747681], [0.7642205357551575], [0.7185373902320862], [0.645313560962677], [0.8120545744895935], [0.8269819021224976], [0.739558219909668], [0.726173460483551], [0.7557350993156433], [0.8164659738540649], [0.8191539645195007], [0.7990972399711609], [0.7439199090003967], [0.8170250058174133], [0.6913573741912842], [0.7446100115776062], [0.6214629411697388], [0.6424134969711304], [0.842972993850708], [0.8439419269561768], [0.6923578381538391], [0.6791263222694397], [0.7767441868782043], [0.7399486899375916], [0.7898938655853271], [0.6525318026542664], [0.8646697998046875], [0.6591991186141968], [0.786857008934021], [0.7887833714485168], [0.686648428440094], [0.8465063571929932], [0.7533079981803894], [0.8133081793785095], [0.7596113085746765], [0.6544002294540405], [0.7311356067657471], [0.8605703115463257], [0.738983690738678], [0.7929216623306274], [0.5719006657600403], [0.6879029273986816], [0.7881948351860046], [0.7958210706710815], [0.8097360730171204], [0.7414515018463135], [0.8656136393547058], [0.8030067682266235], [0.6305229663848877], [0.7981812953948975], [0.8274175524711609], [0.8445865511894226], [0.6670781373977661], [0.61020827293396], [0.6970498561859131], [0.7244476079940796], [0.8164858222007751], [0.8443397283554077], [0.8645737767219543], [0.718120276927948], [0.804073691368103], [0.7696026563644409], [0.8148897886276245], [0.8644193410873413], [0.8100480437278748], [0.791743814945221], [0.5307471752166748], [0.7210646271705627], [0.7251276969909668], [0.7440412640571594], [0.7808411717414856], [0.7372087240219116], [0.7202460169792175], [0.735465943813324], [0.7634310126304626], [0.7739644646644592], [0.7939255833625793], [0.8145558834075928], [0.7587954998016357], [0.7735826969146729], [0.7676606774330139], [0.8398463129997253], [0.71490079164505], [0.7958434224128723], [0.7865241765975952], [0.8138211369514465], [0.6873538494110107], [0.8194177746772766], [0.7175652980804443], [0.7785248756408691], [0.8814860582351685], [0.8345484137535095], [0.7639566659927368], [0.8363553881645203], [0.8190242052078247], [0.8009637594223022], [0.7443439960479736], [0.6814659833908081], [0.7277488708496094], [0.8440170288085938], [0.7621325254440308], [0.8223941326141357], [0.7885076403617859], [0.7127370834350586], [0.5735573172569275], [0.8466311693191528], [0.7207845449447632], [0.8032039999961853], [0.7112568616867065], [0.7210375070571899], [0.8659245371818542], [0.7344847321510315], [0.8019832968711853], [0.8182319402694702], [0.7908639907836914], [0.6295440793037415], [0.7798058390617371], [0.7936673164367676], [0.7841796875], [0.8638828992843628], [0.7504180073738098], [0.7159722447395325], [0.7152636051177979], [0.8207342028617859], [0.7304480075836182], [0.7280896306037903], [0.6973013877868652], [0.8061450123786926], [0.7703050971031189], [0.8603484630584717], [0.8170820474624634], [0.8832077980041504], [0.7068889737129211], [0.841797411441803], [0.8380332589149475], [0.775238037109375], [0.7657585144042969], [0.7493323683738708], [0.8014698028564453], [0.8581679463386536], [0.6469136476516724], [0.837966799736023], [0.7209042310714722], [0.8711383938789368], [0.7954716682434082], [0.6879009008407593], [0.8239632844924927], [0.7794028520584106], [0.7026950716972351], [0.6462928652763367], [0.5839390754699707], [0.7264437675476074], [0.687669038772583], [0.8439419269561768], [0.8000150322914124], [0.7230792045593262], [0.7746872305870056], [0.7549581527709961], [0.7071496248245239], [0.7789431214332581], [0.7607564926147461], [0.7464302182197571], [0.8451902270317078], [0.805109441280365], [0.7340840101242065], [0.8129553198814392], [0.6940619945526123], [0.8064345717430115], [0.6745260953903198], [0.834015429019928], [0.8330078125], [0.8053944706916809], [0.6492919921875], [0.5989389419555664], [0.7478866577148438], [0.7758961915969849], [0.7469820380210876], [0.8155331611633301], [0.8882828950881958], [0.731313169002533], [0.7649294137954712], [0.7264291048049927], [0.8439626097679138], [0.8267592191696167], [0.7479687333106995], [0.7474660277366638], [0.8195906281471252], [0.7510292530059814], [0.809515655040741], [0.8106393218040466], [0.7948065996170044], [0.711841344833374], [0.7169066667556763], [0.8551180362701416], [0.852785050868988], [0.7153763771057129], [0.781700074672699], [0.691132128238678], [0.7053335309028625], [0.7392354607582092], [0.8070335388183594], [0.7264291048049927], [0.7376868724822998], [0.8004727959632874], [0.8158281445503235], [0.7286027669906616], [0.756282389163971], [0.7059740424156189], [0.7895668148994446], [0.6968845129013062], [0.8062150478363037], [0.8973690867424011], [0.717756450176239], [0.8115535378456116], [0.7875421643257141], [0.8164675831794739], [0.7901127338409424], [0.7523622512817383], [0.8109508156776428], [0.8354365825653076], [0.8357677459716797], [0.7562137246131897], [0.7872835397720337], [0.8083897829055786], [0.6846210360527039], [0.5278627276420593], [0.8128046989440918], [0.7765975594520569], [0.838016927242279], [0.7729586362838745], [0.8648728132247925], [0.7567694187164307], [0.81453937292099], [0.832538366317749], [0.8622336387634277], [0.7669515609741211], [0.8518058657646179], [0.8225353360176086], [0.8862980604171753], [0.5528187155723572], [0.7778825163841248], [0.7771691679954529], [0.7407582402229309], [0.81833815574646], [0.8293812870979309], [0.5238389372825623], [0.8086035847663879], [0.8123122453689575], [0.8289605975151062], [0.7729350328445435], [0.704169750213623], [0.8543936610221863], [0.7520979642868042], [0.7269476652145386], [0.841914176940918], [0.8515229225158691], [0.4838939309120178], [0.8097435235977173], [0.8096667528152466], [0.7364820241928101], [0.7902122139930725], [0.7625529766082764], [0.7778056263923645], [0.7939562201499939], [0.7696459889411926], [0.5427173972129822], [0.664303719997406], [0.8555388450622559], [0.844539999961853], [0.8152489066123962], [0.6822603940963745], [0.8220239877700806], [0.7506507039070129], [0.7074896097183228], [0.7668464183807373], [0.7957527041435242], [0.7552329301834106], [0.8523228764533997], [0.655968189239502], [0.7752159237861633], [0.8923931121826172], [0.8614909052848816], [0.9055074453353882], [0.8153560161590576], [0.6290091872215271], [0.7653834819793701], [0.5878168940544128], [0.7318118214607239], [0.8032039999961853], [0.7887277603149414], [0.7962872982025146], [0.6690693497657776], [0.8223602175712585], [0.7444732785224915], [0.7973276376724243], [0.6416932344436646], [0.4504711627960205], [0.7150419354438782], [0.8138112425804138], [0.7956979870796204], [0.882211446762085], [0.6160584688186646], [0.7625187039375305], [0.7378065586090088], [0.6692972779273987], [0.7975282669067383], [0.7742246985435486], [0.7123717069625854], [0.8675771951675415], [0.7746872305870056], [0.6155024766921997], [0.7401610612869263], [0.8020100593566895], [0.8133081793785095], [0.7432155013084412], [0.8398239612579346], [0.7901797890663147], [0.7987385988235474], [0.8008225560188293], [0.7677012085914612], [0.8364760875701904], [0.8191322684288025], [0.7353707551956177], [0.7222874164581299], [0.7954587936401367], [0.7308797240257263], [0.7508533000946045], [0.7436707019805908], [0.6981394290924072], [0.7385455965995789], [0.7932004928588867], [0.8700082302093506], [0.772102415561676], [0.6006569862365723], [0.8386868834495544], [0.729617178440094], [0.846070408821106], [0.8588753342628479], [0.7748975157737732], [0.7727894186973572], [0.8051611185073853], [0.8456770777702332], [0.6794754862785339], [0.6883788108825684], [0.7673331499099731], [0.868725597858429], [0.8659733533859253], [0.7164711356163025], [0.8184601664543152], [0.776676595211029], [0.7591686248779297], [0.6682352423667908], [0.8502253890037537], [0.5823740363121033], [0.7067046761512756], [0.7724000811576843], [0.7550584077835083], [0.6752522587776184], [0.7535943984985352], [0.7555626034736633], [0.7592571377754211], [0.7199781537055969], [0.6360293626785278], [0.7359408736228943], [0.8310711979866028], [0.7601176500320435], [0.8128932118415833], [0.7784781455993652], [0.7684652209281921], [0.7383688688278198], [0.7461948394775391], [0.8337600231170654], [0.7231324315071106], [0.7274104356765747], [0.6979923248291016], [0.7910234928131104], [0.8701418042182922], [0.7882600426673889], [0.8282871842384338], [0.794222891330719], [0.7740345597267151], [0.7958932518959045], [0.7701646089553833], [0.7140161991119385], [0.6374502182006836], [0.7561406493186951], [0.8124200105667114], [0.7036359310150146], [0.8468984961509705], [0.7977194786071777], [0.8450642824172974], [0.7753284573554993], [0.69802325963974], [0.6916210651397705], [0.7011913061141968], [0.6934491395950317], [0.7910720109939575], [0.7414570450782776], [0.8288175463676453], [0.8697649240493774], [0.8013629913330078], [0.6684365272521973], [0.6892302632331848], [0.6492226719856262], [0.8194583058357239], [0.6484589576721191], [0.7252492904663086], [0.7975359559059143], [0.7762337327003479], [0.7594589591026306], [0.8088513016700745], [0.7504230737686157], [0.8227157592773438], [0.8246665596961975], [0.8303048014640808], [0.7291886806488037], [0.7930952310562134], [0.7958927750587463], [0.854872465133667], [0.6052875518798828], [0.8588753342628479], [0.8045792579650879], [0.8658187389373779], [0.7204012274742126], [0.7892172336578369], [0.6560153961181641], [0.765278697013855], [0.5132389664649963], [0.7772268652915955], [0.8809120059013367], [0.8564496636390686], [0.7550995349884033], [0.8565239310264587], [0.7497352957725525], [0.621074378490448], [0.8018534183502197], [0.8343350887298584], [0.813155472278595], [0.682796835899353], [0.6969437599182129], [0.7819668054580688], [0.8059369921684265], [0.7968544960021973], [0.6625978946685791], [0.6959142088890076], [0.7777204513549805], [0.8105868101119995], [0.675719141960144], [0.8173273801803589], [0.7741408944129944], [0.7381227612495422], [0.37953510880470276], [0.839513897895813], [0.489133358001709], [0.730952799320221], [0.782694935798645], [0.8045089244842529], [0.75203537940979], [0.7276785373687744], [0.6515058875083923], [0.7951374053955078], [0.7167158722877502], [0.7534991502761841], [0.7684933543205261], [0.7963652610778809], [0.6718471050262451], [0.7184882164001465], [0.7413134574890137], [0.8646620512008667], [0.8468360900878906], [0.8670738339424133], [0.8292821645736694], [0.8588984608650208], [0.6635679602622986], [0.7373998761177063], [0.756587028503418], [0.8527893424034119], [0.6935634016990662], [0.8266102075576782], [0.7230255603790283], [0.7082659602165222], [0.819454550743103], [0.8062769770622253], [0.7935188412666321], [0.8649458885192871], [0.8594409227371216], [0.8479551076889038], [0.7769266963005066], [0.7662848234176636], [0.8102353811264038], [0.8113067150115967], [0.8350017666816711], [0.7479552626609802], [0.5665283799171448], [0.7898156046867371], [0.8376384377479553], [0.8222708702087402], [0.8239096999168396], [0.7890875935554504], [0.759162962436676], [0.7853498458862305], [0.7787731289863586], [0.7765868902206421], [0.7966684103012085], [0.7949227690696716], [0.6581634879112244], [0.40004676580429077], [0.6617476940155029], [0.7503217458724976], [0.7634839415550232], [0.8649930953979492], [0.844698429107666], [0.6120648980140686], [0.8235415816307068], [0.675571620464325], [0.7420660853385925], [0.8096084594726562], [0.8357548117637634], [0.8657381534576416], [0.7056397795677185], [0.8333195447921753], [0.6921001672744751], [0.8184803128242493], [0.8143535852432251], [0.8651700019836426], [0.8877467513084412], [0.7881474494934082], [0.7507706880569458], [0.6682119369506836], [0.767340898513794], [0.7584940195083618], [0.8351090550422668], [0.6469429731369019], [0.6860970258712769], [0.7385886907577515], [0.868281900882721], [0.8129593133926392], [0.6462076306343079], [0.8181337714195251], [0.7839166522026062], [0.7375100255012512], [0.7579357624053955], [0.7939562201499939], [0.6274418234825134], [0.6227009892463684], [0.5606921911239624], [0.7397940754890442], [0.800933301448822], [0.8321027159690857], [0.8332846760749817], [0.7912219166755676], [0.8237736225128174], [0.7830111384391785], [0.8228498697280884], [0.7862939238548279], [0.7921962738037109], [0.8322640657424927], [0.8183102011680603], [0.6501734852790833], [0.8384920358657837], [0.8748577833175659], [0.7696826457977295], [0.6789675951004028], [0.8334933519363403], [0.8244845271110535], [0.834103524684906], [0.777267336845398], [0.6945237517356873], [0.7973606586456299], [0.7017961740493774], [0.7071548700332642], [0.6077581644058228], [0.7539856433868408], [0.6017115712165833], [0.8392451405525208], [0.7237928509712219], [0.7829315662384033], [0.8398054838180542], [0.8054245114326477], [0.8094211220741272], [0.6960137486457825], [0.7576573491096497], [0.7791401743888855], [0.5863518714904785], [0.6549516320228577], [0.5219301581382751], [0.7489023208618164], [0.768138587474823], [0.6371163725852966], [0.7496461272239685], [0.8507552742958069], [0.7228458523750305], [0.7286412119865417], [0.751448929309845], [0.8657259345054626], [0.7626064419746399], [0.8605692982673645], [0.7740675210952759], [0.7964638471603394], [0.8089486956596375], [0.7745230197906494], [0.8172883987426758], [0.7476747035980225], [0.7219465374946594], [0.7217588424682617], [0.8505945205688477], [0.8118107318878174], [0.7647953629493713], [0.8488740921020508], [0.8275676369667053], [0.7590130567550659], [0.7861826419830322], [0.731313169002533], [0.8129292130470276], [0.8377411365509033], [0.734844446182251], [0.8094885349273682], [0.873702347278595], [0.7660669684410095], [0.8549925088882446], [0.8066188097000122], [0.7752195596694946], [0.843264102935791], [0.7180480360984802], [0.7540370225906372], [0.7934015393257141], [0.6895692944526672], [0.7803139686584473], [0.7053123712539673], [0.8455893397331238], [0.8060585856437683], [0.6893856525421143], [0.8088064193725586], [0.7751846313476562], [0.7449353933334351], [0.9166399836540222], [0.7496144771575928], [0.8138555288314819], [0.7890349626541138], [0.7714300751686096], [0.7594007253646851], [0.872901439666748], [0.806929886341095], [0.8331822752952576], [0.7593157291412354], [0.8032890558242798], [0.7317709922790527], [0.7043089866638184], [0.8607427477836609], [0.7710617780685425], [0.7842320203781128], [0.8601499199867249], [0.8494048118591309], [0.6992794275283813], [0.8931179046630859], [0.750056803226471], [0.8667097091674805], [0.8507890105247498], [0.8137187361717224], [0.6598722338676453], [0.6930402517318726], [0.637237012386322], [0.6660490036010742], [0.8706621527671814], [0.7759659290313721], [0.7630791068077087], [0.7791401743888855], [0.694514274597168], [0.7206616997718811], [0.7620883584022522], [0.7676478624343872], [0.7095859050750732], [0.768447995185852], [0.7489356994628906], [0.8194863200187683], [0.7840849161148071], [0.6580575704574585], [0.7494750022888184], [0.7647904753684998], [0.7382393479347229], [0.7918058633804321], [0.8501424193382263], [0.8551044464111328], [0.7686060070991516], [0.8058777451515198], [0.7305676937103271], [0.8213375210762024], [0.7838026285171509], [0.7626773715019226], [0.7481219172477722], [0.7618168592453003], [0.7883527874946594], [0.6739765405654907], [0.6508784294128418], [0.7579003572463989], [0.6853832602500916], [0.8014245629310608], [0.6716047525405884], [0.8816946148872375], [0.7107072472572327], [0.7746275067329407], [0.8380712866783142], [0.6092557907104492], [0.7540332674980164], [0.8224022388458252], [0.7479434013366699], [0.789777934551239], [0.6018118858337402], [0.6128148436546326], [0.7830232977867126], [0.7745740413665771], [0.7784743905067444], [0.7796705961227417], [0.8343377709388733], [0.8322640657424927], [0.8218198418617249], [0.7929314374923706], [0.8672142624855042], [0.7581273317337036], [0.7274149656295776], [0.7868273258209229], [0.8322347402572632], [0.79393470287323], [0.7963942289352417], [0.7210177183151245], [0.7051331400871277], [0.7435036897659302], [0.8348932266235352], [0.8664858341217041], [0.6114144325256348], [0.7781035900115967], [0.8383166193962097], [0.8518122434616089], [0.8021742105484009], [0.7761387228965759], [0.7739994525909424], [0.8084982633590698], [0.8295302391052246], [0.781091570854187], [0.8071849942207336], [0.5576909780502319], [0.6520516276359558], [0.8126246929168701], [0.7422675490379333], [0.7253941297531128], [0.8015780448913574], [0.7211740016937256], [0.8253055214881897], [0.7953930497169495], [0.8205380439758301], [0.792229950428009], [0.6540536284446716], [0.729695200920105], [0.810717761516571], [0.69973224401474], [0.7749420404434204], [0.8420877456665039], [0.8138587474822998], [0.5242394208908081], [0.7522239089012146], [0.7451622486114502], [0.6255086660385132], [0.7211303114891052], [0.7618495225906372], [0.8177870512008667], [0.7817070484161377], [0.8386569619178772], [0.8286651968955994], [0.8556896448135376], [0.7598400712013245], [0.7938219308853149], [0.7596213221549988], [0.8585709929466248], [0.8392181992530823], [0.8696787357330322], [0.5537919402122498], [0.8065186142921448], [0.7535980343818665], [0.8311382532119751], [0.8279115557670593], [0.6706089973449707], [0.8639810681343079], [0.7878804802894592], [0.6583576798439026], [0.860837459564209], [0.7976570129394531], [0.8249506950378418], [0.7528398036956787], [0.7023186683654785], [0.7849254608154297], [0.7542176246643066], [0.697935163974762], [0.776483416557312], [0.7597516775131226], [0.7896528840065002], [0.7431913614273071], [0.5145387649536133], [0.7734715342521667], [0.7514005303382874], [0.777616560459137], [0.8085934519767761], [0.7853111624717712], [0.7513611316680908], [0.7997150421142578], [0.7464402914047241], [0.8737030029296875], [0.784126877784729], [0.7941591143608093], [0.6940662264823914], [0.6943981647491455], [0.7686300873756409], [0.5981389880180359], [0.7188047170639038], [0.6208421587944031], [0.680358350276947], [0.7396164536476135], [0.7863692045211792], [0.7646775245666504], [0.853305995464325], [0.6871294975280762], [0.7578901648521423], [0.7849212288856506], [0.4619729518890381], [0.7227330207824707], [0.7627413272857666], [0.7534171938896179], [0.776436448097229], [0.6546950936317444], [0.7653920650482178], [0.7538623213768005], [0.6641477942466736], [0.7585302591323853], [0.8613227009773254], [0.7865948677062988], [0.7057896852493286], [0.8352329730987549], [0.6809765696525574], [0.8449240922927856], [0.7119643092155457], [0.7608668208122253], [0.7611294984817505], [0.8046932220458984], [0.7632438540458679], [0.7905985713005066], [0.6740068197250366], [0.866300642490387], [0.7811152338981628], [0.6958335638046265], [0.8371708989143372], [0.7399498820304871], [0.7951965928077698], [0.8132863640785217], [0.6653650403022766], [0.7334184050559998], [0.721302330493927], [0.8271540999412537], [0.7215172052383423], [0.8471367359161377], [0.6823004484176636], [0.7287989854812622], [0.6971807479858398], [0.6228045225143433], [0.8658382296562195], [0.725795328617096], [0.7819362878799438], [0.7546362280845642], [0.5807172656059265], [0.8627550601959229], [0.8204697966575623], [0.8283017873764038], [0.8439984917640686], [0.7767866849899292], [0.8702792525291443], [0.7965749502182007], [0.7195658087730408], [0.8269942402839661], [0.8512208461761475], [0.7588569521903992], [0.6947736740112305], [0.7681541442871094], [0.6961599588394165], [0.7479766607284546], [0.7611131072044373], [0.785082221031189], [0.7100949883460999], [0.79367995262146], [0.8379035592079163], [0.8060525059700012], [0.81805419921875], [0.8257972598075867], [0.7681694626808167], [0.7678548693656921], [0.7904114127159119], [0.6910173892974854], [0.8124059438705444], [0.8185229301452637], [0.7986837029457092], [0.7618482708930969], [0.8063313364982605], [0.819605827331543], [0.6752522587776184], [0.8550207018852234], [0.7414147853851318], [0.8451527953147888], [0.7973387241363525], [0.8002282381057739], [0.8622706532478333], [0.7813540697097778], [0.7041400074958801], [0.7972699999809265], [0.7672080397605896], [0.8425396084785461], [0.6468794941902161], [0.8310684561729431], [0.6557238101959229], [0.8010620474815369], [0.8636975884437561], [0.8125184178352356], [0.7696349024772644], [0.8007069826126099], [0.7950498461723328], [0.7530912160873413], [0.7148739695549011], [0.8183574080467224], [0.7962226867675781], [0.7689151763916016], [0.8933870792388916], [0.8307528495788574], [0.6576369404792786], [0.7784743905067444], [0.8065186142921448], [0.7715884447097778], [0.778515100479126], [0.8235296607017517], [0.8038573265075684], [0.7680329084396362], [0.7883250117301941], [0.7747664451599121], [0.7656506299972534], [0.6308932304382324], [0.7552456855773926], [0.8315819501876831], [0.7697591781616211], [0.6912379860877991], [0.8600660562515259], [0.8597306609153748], [0.6055132746696472], [0.8626415729522705], [0.4901152551174164], [0.7835412621498108], [0.7852943539619446], [0.5213589668273926], [0.7604193687438965], [0.6900874972343445], [0.6501719951629639], [0.7146090865135193], [0.8432959914207458], [0.8316301107406616], [0.7509403824806213], [0.8446255922317505], [0.790366530418396], [0.7107586860656738], [0.7661125063896179], [0.8062769770622253], [0.7702314853668213], [0.7324644327163696], [0.827003538608551], [0.8209560513496399], [0.8121845722198486], [0.8420076966285706], [0.7792978286743164], [0.7938696146011353], [0.8083135485649109], [0.7354217171669006], [0.8087353110313416], [0.6851748824119568], [0.7806214690208435], [0.7010987401008606], [0.8111497759819031], [0.870177686214447], [0.7067701816558838], [0.805576503276825], [0.6811990737915039], [0.7708883881568909], [0.7617951035499573], [0.742954432964325], [0.8617396950721741], [0.6908404231071472], [0.7476142048835754], [0.7959113717079163], [0.8385388255119324], [0.7333044409751892], [0.760002851486206], [0.8140102624893188], [0.7547335624694824], [0.7323898077011108], [0.8365926742553711], [0.6783519983291626], [0.7152277231216431], [0.6693499684333801], [0.7375600934028625], [0.6474760174751282], [0.735803484916687], [0.6504569053649902], [0.8446021676063538], [0.6450590491294861], [0.5746429562568665], [0.87227463722229], [0.8087418079376221], [0.8087978363037109], [0.5343629121780396], [0.6557252407073975], [0.7447656393051147], [0.8123878240585327], [0.8033857345581055], [0.8110238313674927], [0.7667624950408936], [0.8603991270065308], [0.7790127992630005], [0.7545610666275024], [0.8401075005531311], [0.836549699306488], [0.8753648996353149], [0.8219935894012451], [0.6888899803161621], [0.8502010107040405], [0.7214756011962891], [0.6363552212715149], [0.8333195447921753], [0.8024103045463562], [0.8147727847099304], [0.7412590384483337], [0.6013664603233337], [0.7077062129974365], [0.7902194857597351], [0.7991513609886169], [0.766001284122467], [0.8169634342193604], [0.7044343948364258], [0.7486382722854614], [0.7202726006507874], [0.6719205975532532], [0.522192656993866], [0.8054409027099609], [0.7511032819747925], [0.8055481314659119], [0.49065592885017395], [0.7842791080474854], [0.8666552901268005], [0.836705207824707], [0.8173112273216248], [0.8324949145317078], [0.7738134264945984], [0.8070335388183594], [0.877360463142395], [0.7631255388259888], [0.8629411458969116], [0.7801187038421631], [0.7784290909767151], [0.7627285122871399], [0.7831388115882874], [0.5560835003852844], [0.8207326531410217], [0.8332846760749817], [0.8032273650169373], [0.8049161434173584], [0.8100360631942749], [0.8152338862419128], [0.7609434127807617], [0.8354238271713257], [0.8647624850273132], [0.788864254951477], [0.6752632260322571], [0.8180293440818787], [0.7076460123062134], [0.8437330722808838], [0.7413855791091919], [0.788459062576294], [0.7876508235931396], [0.8420877456665039], [0.6718465685844421], [0.6454838514328003], [0.8023886680603027], [0.8753648996353149], [0.7552359104156494], [0.7800070643424988], [0.8222842216491699], [0.8018414378166199], [0.7840568423271179], [0.7720941305160522], [0.844664990901947], [0.7497735619544983], [0.8561999797821045], [0.755831241607666], [0.8824359774589539], [0.7249205112457275], [0.7058374285697937], [0.6203118562698364], [0.872831404209137], [0.8849073052406311], [0.6838212013244629], [0.8605064749717712], [0.8281853795051575], [0.8134443759918213], [0.7708873748779297], [0.80748051404953], [0.826415479183197], [0.8621380925178528], [0.8351162075996399], [0.7228912115097046], [0.7943089008331299], [0.845081627368927], [0.8018745183944702], [0.8274175524711609], [0.6815139651298523], [0.7875257730484009], [0.8436575531959534], [0.7530128359794617], [0.8092331290245056], [0.8548996448516846], [0.8170397877693176], [0.6850317716598511], [0.7745740413665771], [0.6717469096183777], [0.82471764087677], [0.623682975769043], [0.7696467041969299], [0.8225610256195068], [0.8306007981300354], [0.8079208731651306], [0.8486032485961914], [0.7787221670150757], [0.7110430002212524], [0.7140331268310547], [0.7449806928634644], [0.8077439069747925], [0.8412131071090698], [0.885553240776062], [0.5707350373268127], [0.5671377182006836], [0.6761003732681274], [0.6661120653152466], [0.7989550232887268], [0.7764512896537781], [0.750999391078949], [0.791572093963623], [0.7379505634307861], [0.881302535533905], [0.7679131031036377], [0.7481177449226379], [0.8043985366821289], [0.8388521671295166], [0.7377655506134033], [0.8749662637710571], [0.7349159717559814], [0.719657301902771], [0.8597413897514343], [0.8877467513084412], [0.753823459148407], [0.8175997138023376], [0.7401963472366333], [0.6076090335845947], [0.8281210660934448], [0.7806463837623596], [0.7991684675216675], [0.8157376050949097], [0.8727028965950012], [0.8505944013595581], [0.7984113097190857], [0.8345484137535095], [0.7366844415664673], [0.7708049416542053], [0.774969756603241], [0.766063392162323], [0.6534239053726196], [0.8781198263168335], [0.8549925088882446], [0.7820965051651001], [0.7614332437515259], [0.8389310836791992], [0.7542176246643066], [0.8624541759490967], [0.8588984608650208], [0.8176822662353516], [0.775149941444397], [0.7443836331367493], [0.8397387266159058], [0.6054742932319641], [0.6343396902084351], [0.6485083699226379], [0.8287820219993591], [0.7879793643951416], [0.674898624420166], [0.8071998953819275], [0.8049105405807495], [0.7322158813476562], [0.8225090503692627], [0.7307338118553162], [0.7898602485656738], [0.8406476974487305], [0.8386353254318237], [0.8675771951675415], [0.7715316414833069], [0.8681281805038452], [0.560176432132721], [0.7087522745132446], [0.8002315163612366], [0.8348128795623779], [0.6569608449935913], [0.815571665763855], [0.6962314248085022], [0.7481177449226379], [0.7919645309448242], [0.7045683860778809], [0.6696541905403137], [0.8562592267990112], [0.7636376619338989], [0.8548440337181091], [0.769237220287323], [0.8770504593849182], [0.8209560513496399], [0.8045792579650879], [0.8205696940422058], [0.7571003437042236], [0.8777673840522766], [0.6232370138168335], [0.8167324066162109], [0.721286952495575], [0.8439438343048096], [0.8419086933135986], [0.6925791501998901], [0.8649930953979492], [0.824476420879364], [0.721147358417511], [0.7232977747917175], [0.8489948511123657], [0.6810356974601746], [0.8058831691741943], [0.8544089198112488], [0.7973606586456299], [0.6320601105690002], [0.7816669940948486], [0.8192068934440613], [0.7736710906028748], [0.6588643789291382], [0.8313716053962708], [0.853053867816925], [0.8230155110359192], [0.8483272790908813], [0.7943947911262512], [0.8280251622200012], [0.8355041742324829], [0.7198047041893005], [0.6029433012008667], [0.7580482959747314], [0.8266025185585022], [0.7860535979270935], [0.8994975090026855], [0.6309024095535278], [0.7443752288818359], [0.7002912759780884], [0.7820850610733032], [0.7797673344612122], [0.7896841168403625], [0.7607085108757019], [0.8122076392173767], [0.740424394607544], [0.6146119236946106], [0.6875474452972412], [0.7729054093360901], [0.8712054491043091], [0.871056854724884], [0.8139127492904663], [0.7183265089988708], [0.799636960029602], [0.836549699306488], [0.8004719614982605], [0.7907756567001343], [0.7558290958404541], [0.748075544834137], [0.7398720979690552], [0.798027515411377], [0.7065041065216064], [0.8417195081710815], [0.7831936478614807], [0.6115689873695374], [0.6834603548049927], [0.7242416143417358], [0.80317223072052], [0.7325635552406311], [0.7692596316337585], [0.6371062994003296], [0.734463632106781], [0.8201347589492798], [0.580149233341217], [0.690742552280426], [0.6896025538444519], [0.6299828290939331], [0.8189271688461304], [0.826016902923584], [0.8267808556556702], [0.8082770109176636], [0.6960483193397522], [0.8148980736732483], [0.7379351258277893], [0.8758777379989624], [0.8265026807785034], [0.7904826998710632], [0.8296898007392883], [0.7390297651290894], [0.7943358421325684], [0.807016134262085], [0.6403017640113831], [0.8033466339111328], [0.7591717839241028], [0.8215170502662659], [0.8039326667785645], [0.7266461849212646], [0.834015965461731], [0.7960283160209656], [0.8344187140464783], [0.8445865511894226], [0.6196662783622742], [0.7296110987663269], [0.7227209806442261], [0.8227044343948364], [0.7738649249076843], [0.783957302570343], [0.8904776573181152], [0.7713415622711182], [0.8055933117866516], [0.7508236169815063], [0.780936062335968], [0.8082728385925293], [0.739546000957489], [0.7484287619590759], [0.7195630073547363], [0.808439314365387], [0.5573598146438599], [0.7891049385070801], [0.8080215454101562], [0.8539530038833618], [0.7108540534973145], [0.8725987672805786], [0.8292830586433411], [0.8459857702255249], [0.7247899770736694], [0.7925602197647095], [0.737970769405365], [0.7808411717414856], [0.6220249533653259], [0.7191672325134277], [0.7370467185974121], [0.8354791402816772], [0.6888195276260376], [0.8080723881721497], [0.8067285418510437], [0.680878221988678], [0.7678456902503967], [0.7953200340270996], [0.8277930617332458], [0.809730589389801], [0.7355993986129761], [0.9006954431533813], [0.783201277256012], [0.8142911195755005], [0.8048370480537415], [0.8367634415626526], [0.775544285774231], [0.7044137716293335], [0.7885866761207581], [0.7227383255958557], [0.6650807857513428], [0.7664117813110352], [0.762264609336853], [0.6295689344406128], [0.8345683813095093], [0.797757089138031], [0.7646775245666504], [0.8193122148513794], [0.7263789176940918], [0.856221079826355], [0.6347787976264954], [0.6777499914169312], [0.8207069039344788], [0.7446750402450562], [0.7986643314361572], [0.8215170502662659], [0.7597943544387817], [0.6224520802497864], [0.7640103101730347], [0.7106876373291016], [0.8086631894111633], [0.521408200263977], [0.8620225191116333], [0.7302730083465576], [0.7557064294815063], [0.7020035982131958], [0.689176082611084], [0.8268194794654846], [0.7999724745750427], [0.46239322423934937], [0.885167121887207], [0.8640730977058411], [0.8351435661315918], [0.8279664516448975], [0.8219718337059021], [0.6740289926528931], [0.8716520667076111], [0.8459780216217041], [0.7351117134094238], [0.8288385272026062], [0.75382399559021], [0.7630462646484375], [0.8129791021347046], [0.7925187349319458], [0.7959746718406677], [0.8427059054374695], [0.4926076829433441], [0.840370237827301], [0.7025419473648071], [0.8095370531082153], [0.7559153437614441], [0.7803319692611694], [0.7786722779273987], [0.7346581816673279], [0.8744884729385376], [0.7629135847091675], [0.8046291470527649], [0.7661173939704895], [0.7415872812271118], [0.8620584011077881], [0.7955500483512878], [0.7641043663024902], [0.6637024283409119], [0.8459107279777527], [0.6644077897071838], [0.8653969764709473], [0.6543484926223755], [0.7992897629737854], [0.7614420056343079], [0.7859489321708679], [0.7188867330551147], [0.8225892186164856], [0.703488826751709], [0.774975061416626], [0.7272006869316101], [0.7613388895988464], [0.8513189554214478], [0.8036209344863892], [0.8012540936470032], [0.8088012933731079], [0.7909873723983765], [0.7798185348510742], [0.873768150806427], [0.7309914827346802], [0.6649504899978638], [0.6987268924713135], [0.7373674511909485], [0.7039780616760254], [0.8577502369880676], [0.76151442527771], [0.5586031079292297], [0.8343377709388733], [0.5564250349998474], [0.8533458113670349], [0.7528010606765747], [0.6298259496688843], [0.8637011051177979], [0.8330330848693848], [0.7917842268943787], [0.8632338643074036], [0.6956700086593628], [0.8098852634429932], [0.7782832384109497], [0.7637438774108887], [0.8033987879753113], [0.8222859501838684], [0.6808512210845947], [0.8484491109848022], [0.8452438712120056], [0.7115306258201599], [0.6407892107963562], [0.7611294984817505], [0.8401934504508972], [0.779365599155426], [0.7927656769752502], [0.6385540962219238], [0.795728325843811], [0.7183588743209839], [0.7243592739105225], [0.8060821890830994], [0.7216991186141968], [0.7212054133415222], [0.8446267247200012], [0.85343337059021], [0.7852943539619446], [0.8394163250923157], [0.7817190885543823], [0.6915391087532043], [0.8619552850723267], [0.8581218719482422], [0.7616018056869507], [0.8522077202796936], [0.7869678139686584], [0.5972462296485901], [0.8023497462272644], [0.7673129439353943], [0.835544764995575], [0.7655918598175049], [0.6528159976005554], [0.8733654022216797], [0.7656210064888], [0.6024954915046692], [0.796829104423523], [0.71262526512146], [0.6927682161331177], [0.7497320175170898], [0.7104672789573669], [0.7562834024429321], [0.7205029129981995], [0.8551339507102966], [0.7793527841567993], [0.8659245371818542], [0.8562077879905701], [0.7764110565185547], [0.6263520121574402], [0.8380332589149475], [0.686822235584259], [0.7414785623550415], [0.7123717069625854], [0.7503217458724976], [0.8321672677993774], [0.8169994950294495], [0.6184183359146118], [0.6912015080451965], [0.8272847533226013], [0.8029153943061829], [0.7352725267410278], [0.7486799955368042], [0.8301129937171936], [0.7838869690895081], [0.8416130542755127], [0.8305163383483887], [0.7792060971260071], [0.63312828540802], [0.8400978446006775], [0.8297103643417358], [0.7157748937606812], [0.6569108963012695], [0.674706757068634], [0.8193618655204773], [0.871056854724884], [0.7863574624061584], [0.6553325057029724], [0.4173533022403717], [0.8260737657546997], [0.6997075080871582], [0.8140847682952881], [0.843264102935791], [0.6768196225166321], [0.8329321146011353], [0.7612432837486267], [0.8311321139335632], [0.8006033897399902], [0.7558807134628296], [0.7452446222305298], [0.8086631894111633], [0.8331867456436157], [0.858849287033081], [0.7638976573944092], [0.7935248613357544], [0.8097673654556274], [0.7536376714706421], [0.7205823659896851], [0.7539847493171692], [0.7759659290313721], [0.7499564290046692], [0.7382118701934814], [0.7548364996910095], [0.6335414052009583], [0.8781198263168335], [0.8328495621681213], [0.7923318147659302], [0.852524995803833], [0.8255515694618225], [0.7763766050338745], [0.7998489141464233], [0.8367149233818054], [0.8163820505142212], [0.6444094181060791], [0.6961003541946411], [0.7493698000907898], [0.7484229803085327], [0.8262214064598083], [0.7614401578903198], [0.8727258443832397], [0.7970350384712219], [0.7787436246871948], [0.8027534484863281], [0.7715228796005249], [0.670421838760376], [0.7623676061630249], [0.8158895969390869], [0.6975557208061218], [0.865119993686676], [0.7769255638122559], [0.8748117685317993], [0.8182620406150818], [0.8203290700912476], [0.8437423706054688], [0.7535926103591919], [0.7468835115432739], [0.660652756690979], [0.8149426579475403], [0.8817757368087769], [0.7962653636932373], [0.7360556125640869], [0.8148107528686523], [0.796316921710968], [0.7168796062469482], [0.7231936454772949], [0.794066846370697], [0.6424973011016846], [0.8819162845611572], [0.7221923470497131], [0.8021944761276245], [0.8005417585372925], [0.6907006502151489], [0.6939496397972107], [0.8033768534660339], [0.8373356461524963], [0.8417412042617798], [0.5397779941558838], [0.8272738456726074], [0.7126582860946655], [0.6207635998725891], [0.7488906383514404], [0.703380286693573], [0.8461317420005798], [0.6760298609733582], [0.7839850783348083], [0.7488135695457458], [0.6223064064979553], [0.8319621682167053], [0.7421261072158813], [0.8249557614326477], [0.9079399704933167], [0.7455653548240662], [0.8247655630111694], [0.8299412727355957], [0.7572274208068848], [0.68599933385849], [0.661624014377594], [0.7044410705566406], [0.8282057642936707], [0.7920189499855042], [0.7608133554458618], [0.8225945234298706], [0.8215376734733582], [0.8078861832618713], [0.7317063808441162], [0.7214147448539734], [0.846668541431427], [0.6928463578224182], [0.7916362881660461], [0.7324501276016235], [0.84288489818573], [0.8406854271888733], [0.802680492401123], [0.6938140988349915], [0.7923635840415955], [0.7688067555427551], [0.8444280028343201], [0.8125481605529785], [0.721601128578186], [0.8094133734703064], [0.7943354249000549], [0.6980957388877869], [0.7886406183242798], [0.8467813730239868], [0.7612425088882446], [0.7673187255859375], [0.7103400230407715], [0.8310111165046692], [0.8263645768165588], [0.8196531534194946], [0.7885991334915161], [0.7577812075614929], [0.6898249387741089], [0.7861592769622803], [0.815575897693634], [0.637173056602478], [0.7354699969291687], [0.8047984838485718], [0.6976247429847717], [0.634429395198822], [0.7625426054000854], [0.7587056159973145], [0.8347020745277405], [0.7740023136138916], [0.8273953199386597], [0.7482547163963318], [0.8772462606430054], [0.8290735483169556], [0.9055074453353882], [0.6615309119224548], [0.7723190784454346], [0.8696266412734985], [0.7471233606338501], [0.7255934476852417], [0.828593373298645], [0.7228659987449646], [0.8107223510742188], [0.7858392000198364], [0.790930986404419], [0.785857617855072], [0.8452881574630737], [0.7247909307479858], [0.7629773020744324], [0.752181351184845], [0.7572966814041138], [0.7446515560150146], [0.8513873815536499], [0.7882580161094666], [0.7483959794044495], [0.7910853028297424], [0.7900040745735168], [0.8106844425201416], [0.6590644121170044], [0.788850724697113], [0.63968425989151], [0.7804128527641296], [0.7516030073165894], [0.8229149580001831], [0.7082725763320923], [0.7057049870491028], [0.6466938853263855], [0.781686007976532], [0.673961877822876], [0.8585455417633057], [0.798592209815979], [0.8106393218040466], [0.7939849495887756], [0.7464856505393982], [0.7956074476242065], [0.7876114845275879], [0.7133628726005554], [0.7953570485115051], [0.8391154408454895], [0.7496753334999084], [0.796140730381012], [0.8602764010429382], [0.7583708167076111], [0.5834161639213562], [0.6627883315086365], [0.7238699793815613], [0.8236376047134399], [0.8350162506103516], [0.7383183836936951], [0.8002251386642456], [0.8681276440620422], [0.8134597539901733], [0.6602264642715454], [0.7888792157173157], [0.8354305028915405], [0.4722750782966614], [0.6910975575447083], [0.8463383316993713], [0.8342837691307068], [0.7725868821144104], [0.804768443107605], [0.7000208497047424], [0.7713609933853149], [0.7046892046928406], [0.7626414895057678], [0.8214255571365356], [0.6982705593109131], [0.7849657535552979], [0.809748113155365], [0.7250475883483887], [0.623996376991272], [0.7582670450210571], [0.729586124420166], [0.7959883213043213], [0.8147103786468506], [0.8009558320045471], [0.7690632343292236], [0.7317994832992554], [0.8045603036880493], [0.8172956705093384], [0.7083113193511963], [0.8271987438201904], [0.7755297422409058], [0.8113564252853394], [0.7488023042678833], [0.7530766129493713], [0.663554847240448], [0.5071824789047241], [0.7168126106262207], [0.750999391078949], [0.8426612019538879], [0.7406545281410217], [0.7821524739265442], [0.7067965269088745], [0.7386505007743835], [0.7168381810188293], [0.7578362226486206], [0.8031861782073975], [0.6786503195762634], [0.8877196311950684], [0.7868063449859619], [0.7085789442062378], [0.5719537138938904], [0.8071930408477783], [0.6116665601730347], [0.7889037132263184], [0.3640024662017822], [0.8274515271186829], [0.7041471600532532], [0.797372579574585], [0.8274089694023132], [0.74391108751297], [0.781231701374054], [0.8016366362571716], [0.7586365342140198], [0.8107197284698486], [0.81297367811203], [0.7621381878852844], [0.7738854289054871], [0.5620977282524109], [0.823607861995697], [0.8246666789054871], [0.8656231164932251], [0.7442998290061951], [0.6970356702804565], [0.6864637732505798], [0.7979244589805603], [0.8014551401138306], [0.7578942775726318], [0.8516412377357483], [0.8744884729385376], [0.6490704417228699], [0.7186137437820435], [0.7827193737030029], [0.7587899565696716], [0.8523294925689697], [0.6653644442558289], [0.765815019607544], [0.8830744028091431], [0.6933715343475342], [0.6826503872871399], [0.5832797288894653], [0.7841656804084778], [0.7036672234535217], [0.8310529589653015], [0.9138484001159668], [0.8302724957466125], [0.777798056602478], [0.8590614199638367], [0.5917075872421265], [0.7850160598754883], [0.8665376901626587], [0.6230117678642273], [0.6606680750846863], [0.7931573987007141], [0.6674893498420715], [0.8626443147659302], [0.7368746995925903], [0.7178249359130859], [0.7778582572937012], [0.7885626554489136], [0.6575095057487488], [0.8548996448516846], [0.7210218906402588], [0.8465853333473206], [0.8072376251220703], [0.7096415758132935], [0.7170920968055725], [0.6700078248977661], [0.7786709070205688], [0.7996562123298645], [0.8133668899536133], [0.7321553230285645], [0.49536624550819397], [0.7526353597640991], [0.8464363813400269], [0.6257311105728149], [0.6181871891021729], [0.729927659034729], [0.7965872883796692], [0.7434301972389221], [0.8243868947029114], [0.7688960433006287], [0.7639538645744324], [0.7145058512687683], [0.720545768737793], [0.843099057674408], [0.7936686873435974], [0.7920034527778625], [0.6828192472457886], [0.727925717830658], [0.8577567934989929], [0.7336328029632568], [0.8556429743766785], [0.7108540534973145], [0.730034589767456], [0.8611945509910583], [0.8291390538215637], [0.8386399149894714], [0.77860027551651], [0.8804121613502502], [0.8295717835426331], [0.9042534232139587], [0.8064954280853271], [0.7527421712875366], [0.8470526933670044], [0.7497619986534119], [0.75068199634552], [0.667708694934845], [0.8237625956535339], [0.741619884967804], [0.8042734265327454], [0.6276957392692566], [0.6845355033874512], [0.8763309121131897], [0.819199800491333], [0.8320732116699219], [0.7693735957145691], [0.43729472160339355], [0.8612594604492188], [0.7759994268417358], [0.8545490503311157], [0.7613888382911682], [0.798552393913269], [0.8297841548919678], [0.8100562691688538], [0.784088134765625], [0.7903831601142883], [0.8172990083694458], [0.718120276927948], [0.7342771887779236], [0.6913853287696838], [0.6714411973953247], [0.798966109752655], [0.7069434523582458], [0.7820965051651001], [0.8572677373886108], [0.730422854423523], [0.7198047041893005], [0.6362924575805664], [0.7919479608535767], [0.8027232885360718], [0.8307316303253174], [0.81668621301651], [0.734639048576355], [0.7027127146720886], [0.6753756403923035], [0.8363174796104431], [0.7406994700431824], [0.75263911485672], [0.7387515902519226], [0.6308311820030212], [0.6259735822677612], [0.8041452169418335], [0.748796820640564], [0.71942538022995], [0.8440644145011902], [0.7284850478172302], [0.7943100333213806], [0.8714095950126648], [0.7541953325271606], [0.7707817554473877], [0.7579987049102783], [0.8555388450622559], [0.6990894675254822], [0.7522063255310059], [0.6722519397735596], [0.7735618352890015], [0.750238835811615], [0.7085399627685547], [0.8071426749229431], [0.7994899749755859], [0.816916286945343], [0.8482682704925537], [0.7201955318450928], [0.7986461520195007], [0.8542062640190125], [0.7763111591339111], [0.8191013336181641], [0.8399698138237], [0.31510674953460693], [0.8605945110321045], [0.83417809009552], [0.7760970592498779], [0.6759475469589233], [0.8415714502334595], [0.7510054707527161], [0.782024621963501], [0.767665445804596], [0.7923613786697388], [0.7609074711799622], [0.8804799914360046], [0.7230796813964844], [0.6639959216117859], [0.6947423219680786], [0.8166985511779785], [0.818932056427002], [0.7529510259628296], [0.7486454844474792], [0.7526589632034302], [0.7619872689247131], [0.7484537363052368], [0.8417566418647766], [0.8015015125274658], [0.8251656889915466], [0.8125671744346619], [0.7839454412460327], [0.7891022562980652], [0.6721718907356262], [0.7109347581863403], [0.7460782527923584], [0.8824251890182495], [0.7992165684700012], [0.8269324898719788], [0.8311681747436523], [0.8614479303359985], [0.8189283013343811], [0.802107572555542], [0.8152421712875366], [0.6762872934341431], [0.8257009983062744], [0.7640426158905029], [0.8035963177680969], [0.7506718635559082], [0.8527201414108276], [0.7225795388221741], [0.8147289752960205], [0.759617805480957], [0.8616492748260498], [0.7429361939430237], [0.8509232401847839], [0.8610738515853882], [0.7956074476242065], [0.7614070773124695], [0.793442964553833], [0.7801671028137207], [0.6458317041397095], [0.807515561580658], [0.7181321978569031], [0.7901895642280579], [0.8449240922927856], [0.818008303642273], [0.7035278081893921], [0.7840242385864258], [0.7805352210998535], [0.8008720278739929], [0.48254501819610596], [0.8457682132720947], [0.6600401997566223], [0.8467758297920227], [0.8367634415626526], [0.8377931118011475], [0.787691056728363], [0.7934467792510986], [0.7029323577880859], [0.8183518052101135], [0.8329010009765625], [0.7726128697395325], [0.8125337362289429], [0.7315146923065186], [0.8065186142921448], [0.8407922983169556], [0.8501907587051392], [0.902759313583374], [0.6444472074508667], [0.8097471594810486], [0.7687593102455139], [0.8278369903564453], [0.8159769177436829], [0.8372713923454285], [0.8255992531776428], [0.7260531187057495], [0.6927196383476257], [0.8097360730171204], [0.807616114616394], [0.83694988489151], [0.8057782053947449], [0.7731301188468933], [0.8122878074645996], [0.8372607231140137], [0.744499921798706], [0.8355497717857361], [0.6481466293334961], [0.7299156785011292], [0.758175790309906], [0.7731301188468933], [0.9066390991210938], [0.7639392018318176], [0.7816129922866821], [0.6609429121017456], [0.848029375076294], [0.7490522861480713], [0.7541150450706482], [0.8128517270088196], [0.7543647289276123], [0.7665849328041077], [0.8350464701652527], [0.6713635921478271], [0.8164815902709961], [0.7349005937576294], [0.6611555814743042], [0.8242269158363342], [0.7591637372970581], [0.7415096759796143], [0.7330778241157532], [0.7681230902671814], [0.7537661194801331], [0.6925978064537048], [0.7979244589805603], [0.6367740035057068], [0.5936328768730164], [0.6960322260856628], [0.8330515623092651], [0.6962207555770874], [0.7851031422615051], [0.7127239108085632], [0.8350017666816711], [0.8204031586647034], [0.5778843760490417], [0.8104293346405029], [0.7481470704078674], [0.7970921993255615], [0.6372196078300476], [0.6660054922103882], [0.8224336504936218], [0.8063328266143799], [0.6385540962219238], [0.7552244067192078], [0.7992111444473267], [0.8316709399223328], [0.8156386017799377], [0.8216043710708618], [0.6679278612136841], [0.8527893424034119], [0.8372713923454285], [0.7838919758796692], [0.814326286315918], [0.8849073052406311], [0.7437059879302979], [0.8089231252670288], [0.6851406097412109], [0.8244170546531677], [0.677005410194397], [0.8244819641113281], [0.8042087554931641], [0.766110897064209], [0.8000901937484741], [0.7318592071533203], [0.7868043184280396], [0.7766690254211426], [0.6592690348625183], [0.8085578680038452], [0.8359768986701965], [0.7573550343513489], [0.8110734820365906], [0.7788515090942383], [0.6952561140060425], [0.7782138586044312], [0.7530883550643921], [0.849655032157898], [0.739279568195343], [0.9107709527015686], [0.788864254951477], [0.8376095294952393], [0.5631408095359802], [0.6715419888496399], [0.7874606251716614], [0.7844414710998535], [0.7688360810279846], [0.7265802621841431], [0.7334948778152466], [0.8587053418159485], [0.8743138909339905], [0.8267815709114075], [0.780739963054657], [0.8233211636543274], [0.7264155745506287], [0.7549732327461243], [0.8211125135421753], [0.8582289814949036], [0.6067104339599609], [0.7835683822631836], [0.7280640602111816], [0.8001845479011536], [0.8185192942619324], [0.5779486298561096], [0.8849073052406311], [0.8605703711509705], [0.830720067024231], [0.7197657823562622], [0.8833836317062378], [0.8125337362289429], [0.8591853380203247], [0.8496860861778259], [0.8407665491104126], [0.7504903674125671], [0.6302595734596252], [0.8298911452293396], [0.7343173623085022], [0.744976818561554], [0.744611918926239], [0.7007225155830383], [0.764432430267334], [0.8230583071708679], [0.6271687746047974], [0.6092557907104492], [0.752458393573761], [0.8209002017974854], [0.8483686447143555], [0.736598789691925], [0.7427365779876709], [0.7213493585586548], [0.7469707131385803], [0.8158895969390869], [0.7047520279884338], [0.7062483429908752], [0.8339683413505554], [0.8384150862693787], [0.7707199454307556], [0.765893280506134], [0.7057203054428101], [0.7756665945053101], [0.8440510034561157], [0.7868207097053528], [0.7143588662147522], [0.771696150302887], [0.8018906712532043], [0.786636471748352], [0.7318592071533203], [0.8583807945251465], [0.7240100502967834], [0.7953862547874451], [0.771952748298645], [0.6664128303527832], [0.9047194123268127], [0.7412466406822205], [0.8674736022949219], [0.828221321105957], [0.7526801824569702], [0.8322640657424927], [0.7955500483512878], [0.8925694227218628], [0.7060643434524536], [0.6804439425468445], [0.7145851850509644], [0.8417832851409912], [0.8428921699523926], [0.8645457029342651], [0.7777764797210693], [0.7092223167419434], [0.8950266242027283], [0.8777955770492554], [0.8421861529350281], [0.82841956615448], [0.8363009691238403], [0.782841682434082], [0.7568655014038086], [0.836138904094696], [0.8374354839324951], [0.878968358039856], [0.7774200439453125], [0.6364191174507141], [0.8208488821983337], [0.79600590467453], [0.7941263914108276], [0.7266973853111267], [0.8076674342155457], [0.7661570310592651], [0.8067994117736816], [0.7647910118103027], [0.8185823559761047], [0.6068034172058105], [0.8594275712966919], [0.8308045268058777], [0.8185089826583862], [0.7176206707954407], [0.8034631609916687], [0.7503527402877808], [0.7819848656654358], [0.85886549949646], [0.7052201628684998], [0.8125481605529785], [0.8910136222839355], [0.7576242089271545], [0.7270309329032898], [0.7073443531990051], [0.7981423139572144], [0.7742449045181274], [0.7965551614761353], [0.8144640326499939], [0.7702314853668213], [0.6795017123222351], [0.7314494252204895], [0.7938804626464844], [0.6700136661529541], [0.7123717069625854], [0.8431713581085205], [0.749151349067688], [0.8154553771018982], [0.5359067320823669], [0.7134395241737366], [0.7899121046066284], [0.8738934397697449], [0.7066391706466675], [0.7067693471908569], [0.8904575109481812], [0.7780348658561707], [0.6626608967781067], [0.8385195136070251], [0.7686601877212524], [0.7168481945991516], [0.6869380474090576], [0.720679759979248], [0.7681541442871094], [0.7634426355361938], [0.6842442750930786], [0.874586820602417], [0.6380360126495361], [0.8000003695487976], [0.6772696375846863], [0.806730329990387], [0.7800176739692688], [0.7632587552070618], [0.8639810681343079], [0.6754711270332336], [0.6382520198822021], [0.6610978245735168], [0.7425235509872437], [0.7567684054374695], [0.8600297570228577], [0.8654372692108154], [0.7421875596046448], [0.8405400514602661], [0.8512089848518372], [0.763614296913147], [0.720045268535614], [0.8143154978752136], [0.8221227526664734], [0.6794323921203613], [0.5856583714485168], [0.8189694285392761], [0.7280896306037903], [0.8515062928199768], [0.7258841395378113], [0.7870051264762878], [0.7156088948249817], [0.7487447261810303], [0.7956010103225708], [0.6942840814590454], [0.6826279759407043], [0.7530176043510437], [0.7872758507728577], [0.829617440700531], [0.8252904415130615], [0.8284933567047119], [0.7978122234344482], [0.8295302391052246], [0.7783441543579102], [0.546500027179718], [0.8537891507148743], [0.7619293928146362], [0.7715435028076172], [0.8613515496253967], [0.8264216184616089], [0.8707427382469177], [0.5542298555374146], [0.8391648530960083], [0.5368108749389648], [0.787405788898468], [0.7151750326156616], [0.7883527874946594], [0.7377863526344299], [0.7762718200683594], [0.7667807936668396], [0.7437381744384766], [0.6573599576950073], [0.681814432144165], [0.812762439250946], [0.6072995662689209], [0.7845599055290222], [0.7489752769470215], [0.8106525540351868], [0.8030047416687012], [0.7176095843315125], [0.7616786956787109], [0.7815045118331909], [0.7309010624885559], [0.8143141269683838], [0.7633407115936279], [0.6955286264419556], [0.783438503742218], [0.6227519512176514], [0.6643951535224915], [0.8021186590194702], [0.7282244563102722], [0.8583807945251465], [0.6674819588661194], [0.7292320132255554], [0.6060477495193481], [0.7958182692527771], [0.612307608127594], [0.7808345556259155], [0.555984616279602], [0.802646279335022], [0.8537891507148743], [0.7305638194084167], [0.8396404981613159], [0.7601988315582275], [0.7315452694892883], [0.8504810333251953], [0.7036632895469666], [0.6907885074615479], [0.764463484287262], [0.7319937944412231], [0.8328539729118347], [0.6993385553359985], [0.7934949398040771], [0.7525076270103455], [0.7143331170082092], [0.8390227556228638], [0.6350510120391846], [0.6763944625854492], [0.7676027417182922], [0.7336555123329163], [0.7407984733581543], [0.7657674551010132], [0.7277936935424805], [0.6710375547409058], [0.6536532044410706], [0.730034589767456], [0.743302583694458], [0.8459884524345398], [0.8906724452972412], [0.8888815641403198], [0.7323898077011108], [0.7636532783508301], [0.79393470287323], [0.7983369827270508], [0.8043498396873474], [0.6891297698020935], [0.810950756072998], [0.7852922081947327], [0.8007176518440247], [0.5164121985435486], [0.7727449536323547], [0.7584909796714783], [0.8333960771560669], [0.7981591820716858], [0.8280787467956543], [0.8164815902709961], [0.7257166504859924], [0.7989897727966309], [0.9046758413314819], [0.7466249465942383], [0.7687375545501709], [0.8034220337867737], [0.5482221245765686], [0.8037785887718201], [0.7489970922470093], [0.5790777206420898], [0.7410361170768738], [0.6823464632034302], [0.8692949414253235], [0.4775451123714447], [0.735572874546051], [0.874586820602417], [0.7556740641593933], [0.4368664026260376], [0.7790403962135315], [0.79719078540802], [0.657136082649231], [0.7895986437797546], [0.8483983278274536], [0.7453911304473877], [0.8148209452629089], [0.7095499038696289], [0.7716469168663025], [0.8004727959632874], [0.7650176286697388], [0.7402644157409668], [0.7801389694213867], [0.7589111328125], [0.7315078377723694], [0.6765058636665344], [0.6566024422645569], [0.8343393802642822], [0.6351508498191833], [0.8305343985557556], [0.8104189038276672], [0.8655689358711243], [0.8106393218040466], [0.7274055480957031], [0.7957914471626282], [0.8413636684417725], [0.7106276750564575], [0.7612152099609375], [0.7819750308990479], [0.8439682722091675], [0.7583757638931274], [0.8287180662155151], [0.8096349239349365], [0.729826807975769], [0.8227589726448059], [0.7103331089019775], [0.8229582905769348], [0.8105038404464722], [0.7273949980735779], [0.7330375909805298], [0.8025264739990234], [0.6901759505271912], [0.6801249980926514], [0.8394819498062134], [0.8368221521377563], [0.5000677108764648], [0.8618448376655579], [0.7349280714988708], [0.8324019908905029], [0.7707138061523438], [0.627027153968811], [0.7730238437652588], [0.7056134939193726], [0.8341060876846313], [0.8146992921829224], [0.8647754192352295], [0.7980332374572754], [0.7068713903427124], [0.8114482164382935], [0.872112512588501], [0.8270987868309021], [0.8035638928413391], [0.8131438493728638], [0.742384672164917], [0.838511049747467], [0.7664952278137207], [0.8029220700263977], [0.8450356125831604], [0.7860004901885986], [0.7811776995658875], [0.6955681443214417], [0.7247962951660156], [0.8459107279777527], [0.8472031950950623], [0.7438400387763977], [0.7453373074531555], [0.7840321660041809], [0.7884492874145508], [0.7743978500366211], [0.7303101420402527], [0.7656717300415039], [0.8290305137634277], [0.8232749700546265], [0.7662374377250671], [0.8529477715492249], [0.6454023718833923], [0.7813737392425537], [0.8079549074172974], [0.8478434681892395], [0.807756781578064], [0.8266143202781677], [0.8628566265106201], [0.6875565648078918], [0.7787412405014038], [0.8295941352844238], [0.8352269530296326], [0.845334529876709], [0.7568884491920471], [0.8649930953979492], [0.7914782166481018], [0.7747371792793274], [0.8656231164932251], [0.8744884729385376], [0.7847387790679932], [0.8180911540985107], [0.7103874683380127], [0.5071014165878296], [0.8045244216918945], [0.7980533838272095], [0.7867689728736877], [0.6527590751647949], [0.7736872434616089], [0.6323466897010803], [0.6903356909751892], [0.7762371301651001], [0.6496044397354126], [0.8326935172080994], [0.8335805535316467], [0.8177810907363892], [0.8600137829780579], [0.831002950668335], [0.7435163855552673], [0.8169102668762207], [0.8283017873764038], [0.7147530317306519], [0.7765672206878662], [0.7911021113395691], [0.8402828574180603], [0.7529605627059937], [0.8349281549453735], [0.7694540619850159], [0.8541718125343323], [0.8300142288208008], [0.673322856426239], [0.8141933083534241], [0.8241682648658752], [0.7389346361160278], [0.76350337266922], [0.7469895482063293], [0.8143710494041443], [0.7764089107513428], [0.6899528503417969], [0.789777934551239], [0.6031504273414612], [0.8091070055961609], [0.6216543316841125], [0.7472004294395447], [0.8427798748016357], [0.8426991105079651], [0.8522931933403015], [0.7932332158088684], [0.7751342058181763], [0.8282655477523804], [0.7692055106163025], [0.9204935431480408], [0.7008882164955139], [0.8572438955307007], [0.7815038561820984], [0.773548424243927], [0.8038541078567505], [0.7299156188964844], [0.8065314292907715], [0.7183011770248413], [0.7751666307449341], [0.9114970564842224], [0.8272349238395691], [0.82758629322052], [0.8023271560668945], [0.8310111165046692], [0.7397960424423218], [0.72934889793396], [0.5614292025566101], [0.8512316346168518], [0.785099983215332], [0.7655613422393799], [0.7190735340118408], [0.8414429426193237], [0.7123097777366638], [0.769646167755127], [0.7587863206863403], [0.7018433213233948], [0.6677052974700928], [0.7072170376777649], [0.9107709527015686], [0.8039876222610474], [0.7690529823303223], [0.8263831734657288], [0.7788492441177368], [0.7460616230964661], [0.7773071527481079], [0.7510511875152588], [0.7776686549186707], [0.7217421531677246], [0.8025540709495544], [0.8565626740455627], [0.7086699604988098], [0.7861806154251099], [0.6696850657463074], [0.8078609704971313], [0.5111492276191711], [0.7869832515716553], [0.7924057245254517], [0.8363680243492126], [0.84766685962677], [0.8661388754844666], [0.7470942735671997], [0.874411940574646], [0.6924293637275696], [0.8463221192359924], [0.8549306988716125], [0.7699630856513977], [0.7112435102462769], [0.7696771621704102], [0.7208137512207031], [0.8392600417137146], [0.7318914532661438], [0.5877711772918701], [0.8726123571395874], [0.8910424709320068], [0.7650176286697388], [0.7773786187171936], [0.7927090525627136], [0.8636816143989563], [0.7808395028114319], [0.8464597463607788], [0.7257459163665771], [0.825943648815155], [0.7540332674980164], [0.8343377709388733], [0.8362467885017395], [0.6505085229873657], [0.6057058572769165], [0.7274738550186157], [0.8070672750473022], [0.7152734398841858], [0.8052041530609131], [0.8067389130592346], [0.6250885128974915], [0.8241404294967651], [0.7568610906600952], [0.8482190370559692], [0.7994985580444336], [0.8070161938667297], [0.7486050128936768], [0.7860929369926453], [0.8401297926902771], [0.797122597694397], [0.7031256556510925], [0.7558610439300537], [0.806311309337616], [0.8266143202781677], [0.6536011695861816], [0.7401624917984009], [0.8320732116699219], [0.8542406558990479], [0.8095459342002869], [0.7783990502357483], [0.8447909355163574], [0.6660863161087036], [0.725286602973938], [0.6797745227813721], [0.8414928913116455], [0.7728290557861328], [0.8277230858802795], [0.8351435661315918], [0.7854865193367004], [0.8127345442771912], [0.6944095492362976], [0.7952157258987427], [0.7988777756690979], [0.8583722114562988], [0.8142920136451721], [0.6451656818389893], [0.8018078804016113], [0.7653056979179382], [0.7499005198478699], [0.8484210968017578], [0.7341518998146057], [0.8159573674201965], [0.8129593729972839], [0.7776820659637451], [0.6865026950836182], [0.7853261828422546], [0.6889588832855225], [0.6963312029838562], [0.7672562003135681], [0.7664728164672852], [0.6895096898078918], [0.8335805535316467], [0.8840487003326416], [0.6023478507995605], [0.7641393542289734], [0.8182111382484436], [0.7870103120803833], [0.8528879284858704], [0.846839964389801], [0.8161231875419617], [0.7288410067558289], [0.8546063303947449], [0.7570617198944092], [0.7402196526527405], [0.7847406268119812], [0.7559925317764282], [0.7921411991119385], [0.7409737706184387], [0.524365246295929], [0.6329714059829712], [0.7713713645935059], [0.7740644216537476], [0.7326088547706604], [0.7835865020751953], [0.5812423229217529], [0.7854601740837097], [0.7984359264373779], [0.8387121558189392], [0.8456208109855652], [0.8481150269508362], [0.63954758644104], [0.7449806928634644], [0.7844064235687256], [0.9181194305419922], [0.7712658643722534], [0.7756727933883667], [0.8243693709373474], [0.7924962639808655], [0.8036631345748901], [0.8205380439758301], [0.8411744832992554], [0.6594675779342651], [0.7623676061630249], [0.607994794845581], [0.6927184462547302], [0.7515438199043274], [0.8740411996841431], [0.7865591049194336], [0.8474471569061279], [0.7595914006233215], [0.7516224980354309], [0.779087245464325], [0.6913965940475464], [0.8340936303138733], [0.8171876072883606], [0.6801266074180603], [0.8611558079719543], [0.6641451120376587], [0.8264414072036743], [0.7319085597991943], [0.4348728358745575], [0.8366622924804688], [0.7581093907356262], [0.8434649705886841], [0.8514708280563354], [0.6581427454948425], [0.7942994832992554], [0.830369234085083], [0.7446515560150146], [0.7800894379615784], [0.8269236087799072], [0.7547109723091125], [0.7232284545898438], [0.644378125667572], [0.719926655292511], [0.8008720278739929], [0.8310344219207764], [0.7580375075340271], [0.8117786645889282], [0.8592238426208496], [0.7532473206520081], [0.6135500073432922], [0.74632728099823], [0.8269585371017456], [0.7110625505447388], [0.7762806415557861], [0.7581818103790283], [0.6682091355323792], [0.715146541595459], [0.7078368663787842], [0.8286651968955994], [0.8485673069953918], [0.6994653344154358], [0.7132211327552795], [0.7830813527107239], [0.8614099025726318], [0.7750080823898315], [0.744645893573761], [0.750052809715271], [0.6971330642700195], [0.7944818735122681], [0.7824957966804504], [0.7324539422988892], [0.791161298751831], [0.7652944326400757], [0.8161829113960266], [0.7793810963630676], [0.5990002155303955], [0.8121914267539978], [0.6973579525947571], [0.7389476895332336], [0.6280125379562378], [0.7717465162277222], [0.3601888120174408], [0.8780977129936218], [0.8597043752670288], [0.8093267679214478], [0.788122296333313], [0.753456175327301], [0.6923729777336121], [0.8267841935157776], [0.8147915601730347], [0.8904575109481812], [0.8109229803085327], [0.8438121676445007], [0.7847450375556946], [0.7828378677368164], [0.8642324805259705], [0.8307148814201355], [0.856899619102478], [0.7380234599113464], [0.6551195979118347], [0.7662813067436218], [0.7978052496910095], [0.7321553230285645], [0.8544952273368835], [0.7838919758796692], [0.7250769734382629], [0.6251287460327148], [0.8632578253746033], [0.8255841732025146], [0.8041017651557922], [0.8542960286140442], [0.7409105896949768], [0.7831388115882874], [0.7471404075622559], [0.8338046073913574], [0.8085998892784119], [0.8235119581222534], [0.7726678252220154], [0.633064329624176], [0.7435139417648315], [0.7826140522956848], [0.7732796669006348], [0.5532121658325195], [0.7505896091461182], [0.7323899269104004], [0.8077014684677124], [0.7276558876037598], [0.796140730381012], [0.8111846446990967], [0.5148047208786011], [0.7822344899177551], [0.6794132590293884], [0.7238285541534424], [0.7765139937400818], [0.7822439074516296], [0.7366420030593872], [0.7335953712463379], [0.7606200575828552], [0.815592885017395], [0.7194288969039917], [0.8197153210639954], [0.6848809123039246], [0.7150108814239502], [0.5535473227500916], [0.7328153252601624], [0.7007852792739868], [0.7761951088905334], [0.7347291111946106], [0.7013062238693237], [0.7013549208641052], [0.8118772506713867], [0.7861035466194153], [0.8037630319595337], [0.7649223208427429], [0.572390079498291], [0.7962740659713745], [0.7216544151306152], [0.8095148801803589], [0.7317103147506714], [0.8303852677345276], [0.841724157333374], [0.7284559607505798], [0.7827820777893066], [0.7770947813987732], [0.8224853873252869], [0.7360007166862488], [0.784088134765625], [0.7302054762840271], [0.696662962436676], [0.7893998622894287], [0.48777472972869873], [0.773364245891571], [0.8680129051208496], [0.7719484567642212], [0.7022306323051453], [0.7669133543968201], [0.672360360622406], [0.8027496337890625], [0.7598853707313538], [0.8626992106437683], [0.6360293626785278], [0.7338514924049377], [0.8129593133926392], [0.8736953735351562], [0.6110995411872864], [0.6235538721084595], [0.5903795957565308], [0.5341359972953796], [0.7507898807525635], [0.7692010998725891], [0.7543995380401611], [0.5815406441688538], [0.7799031734466553], [0.8333433270454407], [0.7144650220870972], [0.7674168944358826], [0.7705395221710205], [0.8285232186317444], [0.8577908277511597], [0.7896372675895691], [0.6564577221870422], [0.8763918280601501], [0.8388849496841431], [0.799267590045929], [0.7552285194396973], [0.7576180696487427], [0.7473623156547546], [0.8651506900787354], [0.8368221521377563], [0.8755274415016174], [0.6804439425468445], [0.7635453343391418], [0.824000358581543], [0.8017735481262207], [0.65621018409729], [0.7668596506118774], [0.7876092791557312], [0.7252861261367798], [0.7882505655288696], [0.7646304368972778], [0.6781463027000427], [0.8398140072822571], [0.6919704079627991], [0.7301957011222839], [0.8002413511276245], [0.8744884729385376], [0.8258594274520874], [0.8485134243965149], [0.7532982230186462], [0.8039774894714355], [0.5664077401161194], [0.5485064387321472], [0.8616616129875183], [0.7575269937515259], [0.7659174799919128], [0.7999966144561768], [0.8153500556945801], [0.7836224436759949], [0.7780154347419739], [0.7741472721099854], [0.8067838549613953], [0.7080697417259216], [0.7572015523910522], [0.6857744455337524], [0.7437869310379028], [0.7700705528259277], [0.863010048866272], [0.7406604290008545], [0.7034175992012024], [0.8048370480537415], [0.7106941342353821], [0.7445319294929504], [0.8068785071372986], [0.7536298036575317], [0.7514665722846985], [0.6505780220031738], [0.7449951171875], [0.7156124114990234], [0.7211180329322815], [0.5866073369979858], [0.774192214012146], [0.8029935956001282], [0.8172438740730286], [0.8151867985725403], [0.7407059073448181], [0.8086118698120117], [0.8047887682914734], [0.7430146932601929], [0.8828691840171814], [0.7615154981613159], [0.8025146722793579], [0.7737955451011658], [0.838417649269104], [0.6657862663269043], [0.8200986981391907], [0.7399148941040039], [0.8350412845611572], [0.8328597545623779], [0.8119736313819885], [0.7643897533416748], [0.6891199350357056], [0.6239127516746521], [0.7523667812347412], [0.7045889496803284], [0.8379849195480347], [0.6041196584701538], [0.7777048349380493], [0.5539373755455017], [0.7174782752990723], [0.8021944761276245], [0.8054022789001465], [0.8066828846931458], [0.7714143395423889], [0.8100360631942749], [0.8255796432495117], [0.7284186482429504], [0.7893275618553162], [0.7528343796730042], [0.6114803552627563], [0.7931064963340759], [0.7066446542739868], [0.6582685708999634], [0.8004502058029175], [0.7910408973693848], [0.7956979870796204], [0.7901895642280579], [0.7454922795295715], [0.7683079242706299], [0.8646912574768066], [0.8245856761932373], [0.7132555246353149], [0.7204122543334961], [0.7180303931236267], [0.816156268119812], [0.8387485146522522], [0.7019273042678833], [0.8291390538215637], [0.8443397283554077], [0.6290958523750305], [0.8169047236442566], [0.8371880650520325], [0.7061437368392944], [0.8810784220695496], [0.7679290771484375], [0.8419390916824341], [0.7247804403305054], [0.830298662185669], [0.7856603860855103], [0.7105446457862854], [0.6863616704940796], [0.8548031449317932], [0.8423216342926025], [0.8743420839309692], [0.8264316320419312], [0.8798666000366211], [0.7750912308692932], [0.7897501587867737], [0.6942030191421509], [0.7898631691932678], [0.6945278644561768], [0.7690919637680054], [0.8205311894416809], [0.8016192317008972], [0.7107483744621277], [0.6774821877479553], [0.7549909353256226], [0.8350017666816711], [0.6627333164215088], [0.7582889199256897], [0.7552291750907898], [0.808388888835907], [0.7861477136611938], [0.7992897629737854], [0.7700382471084595], [0.7899302244186401], [0.8478023409843445], [0.7619364857673645], [0.7775968909263611], [0.747765064239502], [0.6604596972465515], [0.7489234805107117], [0.6819327473640442], [0.7747664451599121], [0.7501904368400574], [0.7618902325630188], [0.800230860710144], [0.6849757432937622], [0.7812770009040833], [0.6995438933372498], [0.8391154408454895], [0.8750807046890259], [0.8497517704963684], [0.8206189870834351], [0.8143588900566101], [0.7201597094535828], [0.6932408213615417], [0.7645823955535889], [0.584468424320221], [0.8130068778991699], [0.8498339056968689], [0.8447331786155701], [0.755125105381012], [0.8163748979568481], [0.7651131749153137], [0.757492184638977], [0.7396328449249268], [0.6320328712463379], [0.6068171858787537], [0.8314672112464905], [0.8088380098342896], [0.7064743041992188], [0.8236376047134399], [0.8681051731109619], [0.7113860249519348], [0.7681541442871094], [0.793346643447876], [0.7736722230911255], [0.8151307106018066], [0.798346757888794], [0.7314791679382324], [0.7426907420158386], [0.7460875511169434], [0.8148868083953857], [0.6782514452934265], [0.7760869860649109], [0.7606200575828552], [0.7851598858833313], [0.8054746985435486], [0.7871155142784119], [0.7820929884910583], [0.8670137524604797], [0.7581819295883179], [0.5563588738441467], [0.5979885458946228], [0.8312990665435791], [0.7164654731750488], [0.7329392433166504], [0.656701385974884], [0.8716250658035278], [0.7888798117637634], [0.7530143857002258], [0.8524739146232605], [0.8417832851409912], [0.7885052561759949], [0.7998929619789124], [0.7797286510467529], [0.8149120807647705], [0.7883508205413818], [0.6420012712478638], [0.6254035830497742], [0.8341894149780273], [0.7515188455581665], [0.7998602390289307], [0.7764008045196533], [0.6070888042449951], [0.6552087068557739], [0.7410943508148193], [0.7763475179672241], [0.8412064909934998], [0.7388274073600769], [0.7564878463745117], [0.7417657375335693], [0.7602680325508118], [0.8279067277908325], [0.7377848625183105], [0.7477297186851501], [0.7345178127288818], [0.7697151899337769], [0.7538889050483704], [0.7612128257751465], [0.8018864393234253], [0.7625505924224854], [0.796744704246521], [0.7573456764221191], [0.7529646158218384], [0.7550702095031738], [0.6673135161399841], [0.7716642022132874], [0.8843737244606018], [0.703586757183075], [0.8762750029563904], [0.7190993428230286], [0.8653365969657898], [0.845936119556427], [0.8057597875595093], [0.6505863666534424], [0.7267852425575256], [0.8318725228309631], [0.6971443891525269], [0.7852970361709595], [0.8351162075996399], [0.7799485921859741], [0.6893451809883118], [0.8220988512039185], [0.7646808624267578], [0.7254482507705688], [0.8326596021652222], [0.830259382724762], [0.8490574359893799], [0.7463150024414062], [0.6986054182052612], [0.7748975157737732], [0.5266982913017273], [0.7878661751747131], [0.7368264198303223], [0.8705999851226807], [0.8239161372184753], [0.7620195150375366], [0.7475160360336304], [0.7431265711784363], [0.8324609994888306], [0.6523936986923218], [0.7860939502716064], [0.8265315294265747], [0.618249237537384], [0.8424435257911682], [0.803237795829773], [0.8265026807785034], [0.8040767908096313], [0.8439626097679138], [0.770455002784729], [0.6193559169769287], [0.7520525455474854], [0.7534196376800537], [0.7320583462715149], [0.7055315971374512], [0.787830114364624], [0.7997770309448242], [0.8238263726234436], [0.7061491012573242], [0.7262222766876221], [0.8567695617675781], [0.8881263136863708], [0.7835683822631836], [0.6895216107368469], [0.806826651096344], [0.6745999455451965], [0.7773551344871521], [0.7414570450782776], [0.5661299824714661], [0.7311815619468689], [0.8463317155838013], [0.8310344219207764], [0.6049489974975586], [0.7696771621704102], [0.8324099779129028], [0.8153531551361084], [0.8664154410362244], [0.7428327798843384], [0.7894148230552673], [0.7692598104476929], [0.6664229035377502], [0.7535006999969482], [0.7649785280227661], [0.7999724745750427], [0.7670789957046509], [0.7865080237388611], [0.6346192955970764], [0.7899108529090881], [0.804985761642456], [0.6930186748504639], [0.8100562691688538], [0.7648200988769531], [0.8128615617752075], [0.6984493136405945], [0.8534699082374573], [0.7622793912887573], [0.8477127552032471], [0.811043918132782], [0.7934701442718506], [0.5918459892272949], [0.8779253363609314], [0.7043717503547668], [0.7287380695343018], [0.734675943851471], [0.8335015773773193], [0.7825288772583008], [0.7864794135093689], [0.8149223327636719], [0.6261106729507446], [0.7010437250137329], [0.7309740781784058], [0.7828953266143799], [0.7432294487953186], [0.8816503286361694], [0.6741288304328918], [0.7878227233886719], [0.8024340271949768], [0.8402218818664551], [0.7848157286643982], [0.6666988134384155], [0.7621932625770569], [0.4188838303089142], [0.7387823462486267], [0.6508539915084839], [0.8318135738372803], [0.8872026205062866], [0.7773460745811462], [0.7230502367019653], [0.8564496636390686], [0.8396317958831787], [0.7389345169067383], [0.7795511484146118], [0.7151264548301697], [0.7835386991500854], [0.7691461443901062], [0.7117788791656494], [0.868725597858429], [0.7950578927993774], [0.8035030364990234], [0.8175422549247742], [0.7855490446090698], [0.7843700051307678], [0.8584306836128235], [0.6995314359664917], [0.7617917060852051], [0.7026600241661072], [0.806929886341095], [0.4818539321422577], [0.7983492016792297], [0.7581310272216797], [0.5514580011367798], [0.7862812876701355], [0.8204019069671631], [0.6971474885940552], [0.55497807264328], [0.7762709856033325], [0.6978965401649475], [0.7907050848007202], [0.7257459163665771], [0.8122076392173767], [0.8521211743354797], [0.7348224520683289], [0.7987471222877502], [0.873702347278595], [0.7089065313339233], [0.7463595867156982], [0.8112600445747375], [0.8056356310844421], [0.751454770565033], [0.8145282864570618], [0.7550234198570251], [0.7928445339202881], [0.828989565372467], [0.5282610058784485], [0.7516818046569824], [0.7587999105453491], [0.814557671546936], [0.7914481163024902], [0.7335125207901001], [0.7725844979286194], [0.7693318724632263], [0.8017073273658752], [0.7572274208068848], [0.5716003775596619], [0.611164391040802], [0.8467837572097778], [0.8434649705886841], [0.8460702896118164], [0.7770892381668091], [0.7998260259628296], [0.7490130662918091], [0.8152819275856018], [0.7221922278404236], [0.785976231098175], [0.6766381859779358], [0.8073516488075256], [0.3602100610733032], [0.6808754801750183], [0.7782976627349854], [0.8267728090286255], [0.8291410207748413], [0.6787114143371582], [0.8155738115310669], [0.8144823908805847], [0.5672617554664612], [0.6455545425415039], [0.7321553230285645], [0.7772427797317505], [0.8595697283744812], [0.7829360961914062], [0.6846949458122253], [0.8108877539634705], [0.8836033940315247], [0.6551668643951416], [0.7786722779273987], [0.7548304796218872], [0.6504892706871033], [0.8099372386932373], [0.6546115279197693], [0.6459044218063354], [0.8062637448310852], [0.7376885414123535], [0.6561414003372192], [0.7209159135818481], [0.6772727370262146], [0.8110960125923157], [0.6892302632331848], [0.8447772860527039], [0.7037360668182373], [0.8154656887054443], [0.7978521585464478], [0.7108139395713806], [0.7198158502578735], [0.7145520448684692], [0.7681419253349304], [0.8270663619041443], [0.8507983684539795], [0.7441989183425903], [0.6093662977218628], [0.7661967873573303], [0.35673436522483826], [0.7212309241294861], [0.7356269359588623], [0.6763021945953369], [0.7790402173995972], [0.7990984320640564], [0.7756702303886414], [0.8835191130638123], [0.765815019607544], [0.840108335018158], [0.8136695027351379], [0.8188987970352173], [0.7442886233329773], [0.8174681663513184], [0.8520347476005554], [0.8221904039382935], [0.8064322471618652], [0.7129531502723694], [0.8331822752952576], [0.733035683631897], [0.7742337584495544], [0.7101339101791382], [0.72276771068573], [0.7274182438850403], [0.7113860249519348], [0.8403905630111694], [0.8326627612113953], [0.7849214673042297], [0.8519489169120789], [0.7446764707565308], [0.7818344235420227], [0.7935645580291748], [0.7271974086761475], [0.5920063853263855], [0.6693854331970215], [0.8072389960289001], [0.8448642492294312], [0.69804447889328], [0.8163458108901978], [0.759617805480957], [0.7875458598136902], [0.7460616230964661], [0.7427197694778442], [0.8005188703536987], [0.8396275639533997], [0.8792638182640076], [0.6092816591262817], [0.765442430973053], [0.639259397983551], [0.7307201623916626], [0.8566421270370483], [0.6541373133659363], [0.7468497157096863], [0.7778422236442566], [0.7736789584159851], [0.7864862084388733], [0.8426032662391663], [0.7183961868286133], [0.8397643566131592], [0.8625507950782776], [0.6791303753852844], [0.8815584778785706], [0.6076750755310059], [0.8078292608261108], [0.7774469256401062], [0.8152634501457214], [0.8189687132835388], [0.6741504669189453], [0.8239763379096985], [0.4812581241130829], [0.8339656591415405], [0.8907200694084167], [0.7256468534469604], [0.6162728071212769], [0.7219884395599365], [0.7713611721992493], [0.8876284956932068], [0.708683967590332], [0.8818583488464355], [0.6653136014938354], [0.6566712260246277], [0.6980260014533997], [0.7981650829315186], [0.7484846711158752], [0.7562435865402222], [0.798393189907074], [0.7165963649749756], [0.7579803466796875], [0.841962993144989], [0.6903446912765503], [0.8414579629898071], [0.6928210258483887], [0.791580855846405], [0.7671791315078735], [0.7067049145698547], [0.7425244450569153], [0.5384118556976318], [0.9134054183959961], [0.8329920172691345], [0.8583781123161316], [0.8494511246681213], [0.7947254180908203], [0.8269798755645752], [0.634918212890625], [0.7464746236801147], [0.8439136147499084], [0.8168507814407349], [0.687454342842102], [0.7867117524147034], [0.7455653548240662], [0.7994659543037415], [0.7634503245353699], [0.8795547485351562], [0.7141749858856201], [0.6352464556694031], [0.8639529943466187], [0.7426636815071106], [0.7582404017448425], [0.750238835811615], [0.7289700508117676], [0.7744513154029846], [0.6451323628425598], [0.7746819853782654], [0.7107399106025696], [0.7510034441947937], [0.8352459073066711], [0.7565000653266907], [0.8051335215568542], [0.8245500922203064], [0.7342081665992737], [0.7978963851928711], [0.8119215369224548], [0.8029165267944336], [0.8360965251922607], [0.7551525235176086], [0.814028263092041], [0.8041107654571533], [0.7622877955436707], [0.7736160755157471], [0.7188441753387451], [0.7661516666412354], [0.770455002784729], [0.6867696642875671], [0.7370151281356812], [0.7562674283981323], [0.7920034527778625], [0.712522566318512], [0.8243117332458496], [0.7273864150047302], [0.8870105743408203], [0.785417914390564], [0.8269585371017456], [0.73416668176651], [0.7188441753387451], [0.8291264176368713], [0.7497780919075012], [0.7537606358528137], [0.7922906875610352], [0.6003193259239197], [0.7848538756370544], [0.6181492805480957], [0.7696349024772644], [0.7257118225097656], [0.7828508615493774], [0.7336068153381348], [0.7891753315925598], [0.8023411631584167], [0.7864028215408325], [0.7885542511940002], [0.763451099395752], [0.8081188201904297], [0.7298529744148254], [0.846109926700592], [0.8427894711494446], [0.8538064956665039], [0.7761304378509521], [0.8213983774185181], [0.7180137038230896], [0.9113704562187195], [0.8466355204582214], [0.8638307452201843], [0.8072364926338196], [0.7412200570106506], [0.7014256715774536], [0.7922971844673157], [0.6064569354057312], [0.7859416604042053], [0.761111319065094], [0.8123055100440979], [0.8182867765426636], [0.8475944399833679], [0.8500131368637085], [0.8183390498161316], [0.7378471493721008], [0.6382269859313965], [0.7736972570419312], [0.7085415720939636], [0.7692455053329468], [0.7517292499542236], [0.6837396621704102], [0.7710814476013184], [0.6916216611862183], [0.8520766496658325], [0.7996793389320374], [0.7509218454360962], [0.8196369409561157], [0.7980868816375732], [0.8632106781005859], [0.7819969654083252], [0.6846157908439636], [0.8058561086654663], [0.8223146796226501], [0.6185982823371887], [0.8446694612503052], [0.7273197174072266], [0.7896374464035034], [0.9037163257598877], [0.8376142978668213], [0.7890077829360962], [0.7771742939949036], [0.6814330816268921], [0.8324642181396484], [0.7534169554710388], [0.7929205894470215], [0.7287772297859192], [0.7643479108810425], [0.8245787024497986], [0.8496873378753662], [0.7704436182975769], [0.7993673086166382], [0.7144435048103333], [0.8629264235496521], [0.7566428184509277], [0.7592952251434326], [0.83694988489151], [0.8432890176773071], [0.8021872043609619], [0.7657116651535034], [0.8648683428764343], [0.6158068776130676], [0.6968619227409363], [0.7871155142784119], [0.7048983573913574], [0.7977494597434998], [0.7364667654037476], [0.8114587068557739], [0.8245514631271362], [0.7677096724510193], [0.7130320072174072], [0.8047678470611572], [0.831841230392456], [0.6890568137168884], [0.7818698287010193], [0.6270004510879517], [0.8224979639053345], [0.8191553354263306], [0.8234269618988037], [0.8001390695571899], [0.7961286306381226], [0.7699630856513977], [0.7967778444290161], [0.8057900667190552], [0.8009843826293945], [0.8666683435440063], [0.7481439709663391], [0.7373431921005249], [0.7448942065238953], [0.7748444080352783], [0.8136801719665527], [0.7981812953948975], [0.8423185348510742], [0.6774716973304749], [0.7525650262832642], [0.7477216720581055], [0.7827820777893066], [0.8626705408096313], [0.8093341588973999], [0.7701590657234192], [0.8822281956672668], [0.5678208470344543], [0.8186686038970947], [0.8523191213607788], [0.742520809173584], [0.7447482943534851], [0.7351967692375183], [0.7420141696929932], [0.7166817784309387], [0.7560815811157227], [0.7516208291053772], [0.8629063963890076], [0.7803842425346375], [0.7629438638687134], [0.7804471254348755], [0.706671416759491], [0.7656210064888], [0.7426907420158386], [0.8175252079963684], [0.7427856922149658], [0.6895692944526672], [0.6579092144966125], [0.7366502285003662], [0.8314862251281738], [0.8312501907348633], [0.8216043710708618], [0.7430778741836548], [0.8389752507209778], [0.5266083478927612], [0.8125362396240234], [0.7159818410873413], [0.8022942543029785], [0.5991181135177612], [0.8627605438232422], [0.8333872556686401], [0.8390859365463257], [0.6436551213264465], [0.8778113722801208], [0.8076297640800476], [0.6575337052345276], [0.6733688116073608], [0.781337320804596], [0.6125468015670776], [0.8115535378456116], [0.6325196623802185], [0.8452337384223938], [0.7715316414833069], [0.5641456246376038], [0.7777366638183594], [0.8553570508956909], [0.8157376050949097], [0.7852712869644165], [0.7475697994232178], [0.7787845730781555], [0.8377209901809692], [0.8763669729232788], [0.69767826795578], [0.8496873378753662], [0.6915448307991028], [0.6693772077560425], [0.6964569091796875], [0.7661269307136536], [0.8701517581939697], [0.8366034626960754], [0.8072177767753601], [0.8272522687911987], [0.7433689832687378], [0.7546206116676331], [0.6809070110321045], [0.7695930004119873], [0.6181864738464355], [0.8160330653190613], [0.8611450791358948], [0.7208584547042847], [0.6662469506263733], [0.6980498433113098], [0.8020962476730347], [0.7945812940597534], [0.7808101177215576], [0.8459132313728333], [0.7568415403366089], [0.8697497844696045], [0.9208229780197144], [0.8827097415924072], [0.8626859784126282], [0.8059333562850952], [0.8147915601730347], [0.7806402444839478], [0.6696087718009949], [0.6617476940155029], [0.8109151124954224], [0.8459780216217041], [0.6695026159286499], [0.8242865800857544], [0.725937008857727], [0.7799031734466553], [0.697651743888855], [0.8020647168159485], [0.7766004800796509], [0.7204544544219971], [0.8677982091903687], [0.8319363594055176], [0.834103524684906], [0.6929637789726257], [0.8443909883499146], [0.7192873358726501], [0.5755080580711365], [0.8678725957870483], [0.5818817615509033], [0.753975510597229], [0.7547865509986877], [0.7593226432800293], [0.7865896224975586], [0.6843782067298889], [0.728886067867279], [0.8904575109481812], [0.8105109333992004], [0.8297852277755737], [0.5854420065879822], [0.7561528086662292], [0.7236367464065552], [0.7441614270210266], [0.7148460149765015], [0.7440284490585327], [0.7363868951797485], [0.6727741956710815], [0.6592156887054443], [0.803297758102417], [0.5488088130950928], [0.7294762134552002], [0.7537083029747009], [0.8413116931915283], [0.7919236421585083], [0.8344801068305969], [0.8234858512878418], [0.8697497844696045], [0.6717926859855652], [0.8697324395179749], [0.810202956199646], [0.8535796403884888], [0.7011231184005737], [0.7529320120811462], [0.8253055214881897], [0.8518122434616089], [0.730787456035614], [0.8419390916824341], [0.7134396433830261], [0.652999758720398], [0.7828115224838257], [0.7324715852737427], [0.8580957651138306], [0.7390702366828918], [0.8878211379051208], [0.8189687132835388], [0.7011860609054565], [0.7501945495605469], [0.7954606413841248], [0.8109198808670044], [0.8307700157165527], [0.5931074619293213], [0.6860199570655823], [0.8293360471725464], [0.7637380957603455], [0.6609429121017456], [0.8089420199394226], [0.8296998739242554], [0.8421950936317444], [0.8110673427581787], [0.8364760875701904], [0.751114010810852], [0.8377870917320251], [0.8088948726654053], [0.7322068214416504], [0.784237802028656], [0.5843474864959717], [0.7731166481971741], [0.6616103649139404], [0.5258635878562927], [0.7623788118362427], [0.7977361679077148], [0.8580211997032166], [0.8199719190597534], [0.8579385876655579], [0.7157513499259949], [0.7039063572883606], [0.8274717330932617], [0.798935055732727], [0.6597665548324585], [0.7705294489860535], [0.8016722202301025], [0.8229582905769348], [0.8255656361579895], [0.8610436916351318], [0.7507706880569458], [0.7720481157302856], [0.7980312705039978], [0.787948727607727], [0.7246658802032471], [0.8195112347602844], [0.6983247995376587], [0.7572816610336304], [0.7756589651107788], [0.8527893424034119], [0.7695003747940063], [0.6979497671127319], [0.8166338205337524], [0.7574284076690674], [0.5934664607048035], [0.6901018023490906], [0.7566059231758118], [0.6963587999343872], [0.7728515863418579], [0.6186766028404236], [0.7998887896537781], [0.7684869766235352], [0.719688355922699], [0.6427196264266968], [0.605991542339325], [0.7953460216522217], [0.8328616619110107], [0.6503394842147827], [0.8478915691375732], [0.8460943698883057], [0.7812371253967285], [0.820263147354126], [0.5952613949775696], [0.6439024806022644], [0.8056938648223877], [0.8718053102493286], [0.8535770177841187], [0.7709338665008545], [0.7725489139556885], [0.7458724975585938], [0.8364830017089844], [0.6419951915740967], [0.7035692930221558], [0.7685585618019104], [0.8699361085891724], [0.853737473487854], [0.7764232754707336], [0.6582735776901245], [0.689701497554779], [0.8755123019218445], [0.644690215587616], [0.7366807460784912], [0.8610436916351318], [0.839414119720459], [0.6087169647216797], [0.7553554773330688], [0.8371744751930237], [0.7414570450782776], [0.7335139513015747], [0.7311760187149048], [0.853053867816925], [0.8363245129585266], [0.7252245545387268], [0.8092501759529114], [0.7061281800270081], [0.8143953680992126], [0.8006991744041443], [0.6551428437232971], [0.7560815811157227], [0.7866777777671814], [0.7374347448348999], [0.8055002093315125], [0.8335703015327454], [0.7479302883148193], [0.7357645034790039], [0.8237625956535339], [0.8534928560256958], [0.7885071635246277], [0.7291077971458435], [0.7817023396492004], [0.7512805461883545], [0.8157376050949097], [0.8059032559394836], [0.8166985511779785], [0.7471194267272949], [0.7475284337997437], [0.8235415816307068], [0.7905108332633972], [0.7996924519538879], [0.7890921831130981], [0.8161470293998718], [0.7917033433914185], [0.727100133895874], [0.6985357999801636], [0.5421096086502075], [0.7565021514892578], [0.7446852326393127], [0.7074896097183228], [0.6384837627410889], [0.7162399888038635], [0.6793450117111206], [0.6951431632041931], [0.7544646263122559], [0.8017489314079285], [0.7663217186927795], [0.7448639869689941], [0.6811370849609375], [0.7793771624565125], [0.8301033973693848], [0.6807070970535278], [0.8498101234436035], [0.7454134225845337], [0.8419517278671265], [0.7538712620735168], [0.785319447517395], [0.8223632574081421], [0.705086350440979], [0.7187653183937073], [0.5744273066520691], [0.6855525374412537], [0.9009340405464172], [0.8265941143035889], [0.8515797853469849], [0.8370196223258972], [0.6992250084877014], [0.661624014377594], [0.7067693471908569], [0.6298001408576965], [0.7119592428207397], [0.8077564239501953], [0.7415472865104675], [0.5813877582550049], [0.7156164646148682], [0.7889037132263184], [0.7998896837234497], [0.7791913747787476], [0.8651506900787354], [0.8620225191116333], [0.7491247653961182], [0.7534295320510864], [0.6262221336364746], [0.7082443237304688], [0.8473776578903198], [0.652738094329834], [0.7954687476158142], [0.8290143013000488], [0.8532840609550476], [0.653801441192627], [0.6698412895202637], [0.8513908982276917], [0.7183534502983093], [0.7956979870796204], [0.8508437871932983], [0.800387442111969], [0.5352257490158081], [0.7833260893821716], [0.6380677223205566], [0.7701724767684937], [0.7636759281158447], [0.8508837223052979], [0.7715231776237488], [0.7485730051994324], [0.7741036415100098], [0.7768924236297607], [0.8134604692459106], [0.7757323384284973], [0.796027660369873], [0.7826865315437317], [0.7168689370155334], [0.850166916847229], [0.7101316452026367], [0.70457923412323], [0.7407537698745728], [0.7678999900817871], [0.7470237612724304], [0.7869678139686584], [0.7545822858810425], [0.7974594831466675], [0.7959777116775513], [0.797763466835022], [0.7819934487342834], [0.8467813730239868], [0.6643951535224915], [0.8826977014541626], [0.831214189529419], [0.8033382296562195], [0.8173112273216248], [0.6946442723274231], [0.78044193983078], [0.7637171149253845], [0.7400808930397034], [0.8898699283599854], [0.8284114599227905], [0.6747502684593201], [0.7504903674125671], [0.799363911151886], [0.8588642477989197], [0.7180830836296082], [0.7966855764389038], [0.7441825270652771], [0.8476000428199768], [0.6258272528648376], [0.8723495602607727], [0.7882580161094666], [0.8196906447410583], [0.6067336797714233], [0.7613388895988464], [0.8390855193138123], [0.691138744354248], [0.8322774767875671], [0.7667848467826843], [0.7930434942245483], [0.8075662851333618], [0.8162785768508911], [0.7531656622886658], [0.8527824282646179], [0.8246281743049622], [0.8082232475280762], [0.7497668266296387], [0.8286630511283875], [0.77860027551651], [0.6474838256835938], [0.6780248284339905], [0.7374603152275085], [0.7999331951141357], [0.6636391878128052], [0.7544056177139282], [0.7850701212882996], [0.7297341823577881], [0.7428172826766968], [0.6968862414360046], [0.7652541995048523], [0.8124698996543884], [0.81986004114151], [0.8351090550422668], [0.6929003000259399], [0.7196269035339355], [0.8696266412734985], [0.8252553939819336], [0.8165721893310547], [0.6326912641525269], [0.7620355486869812], [0.8401814103126526], [0.8420255780220032], [0.8124200105667114], [0.8104280233383179], [0.8559136390686035], [0.804925799369812], [0.7986351251602173], [0.7318791151046753], [0.761405348777771], [0.7593880295753479], [0.7933499813079834], [0.7556684017181396], [0.7335887551307678], [0.8324136137962341], [0.7420753836631775], [0.7604193687438965], [0.8040454387664795], [0.671983003616333], [0.8164494633674622], [0.7504336833953857], [0.7951366901397705], [0.5186735987663269], [0.6839737296104431], [0.8743425607681274], [0.6853272318840027], [0.7034783959388733], [0.5759668946266174], [0.8471424579620361], [0.7916039824485779], [0.756358802318573], [0.7563222646713257], [0.7778905630111694], [0.7359995245933533], [0.7672401070594788], [0.7059122920036316], [0.5656223297119141], [0.7662888169288635], [0.8083438873291016], [0.7451770305633545], [0.6662008166313171], [0.883833646774292], [0.6930502653121948], [0.7982360124588013], [0.8109628558158875], [0.749582827091217], [0.8711686730384827], [0.8400180339813232], [0.5379835367202759], [0.6331126093864441], [0.8603081703186035], [0.5884742140769958], [0.8016733527183533], [0.6198699474334717], [0.8877196311950684], [0.7265167236328125], [0.6806799173355103], [0.7726979851722717], [0.7346584796905518], [0.8343169093132019], [0.7499287128448486], [0.8340010643005371], [0.8536663055419922], [0.8246221542358398], [0.8315333127975464], [0.8069601058959961], [0.8567689061164856], [0.8264601826667786], [0.7192613482475281], [0.9075692892074585], [0.8854185342788696], [0.8490241169929504], [0.6535382866859436], [0.7278100848197937], [0.8803253173828125], [0.7524957060813904], [0.6835082173347473], [0.7179960608482361], [0.7771123051643372], [0.6076840162277222], [0.7518408298492432], [0.764756441116333], [0.83694988489151], [0.7737829685211182], [0.8321458101272583], [0.8164815902709961], [0.7676827311515808], [0.8250491619110107], [0.8006466627120972], [0.5805518627166748], [0.7333409190177917], [0.6954404711723328], [0.709370493888855], [0.8177943825721741], [0.770455002784729], [0.7822678089141846], [0.8532519340515137], [0.6950679421424866], [0.7625486850738525], [0.703512966632843], [0.8718556761741638], [0.6505014300346375], [0.6491662263870239], [0.7742066383361816], [0.7881371974945068], [0.7515438199043274], [0.8000003695487976], [0.8226528763771057], [0.8110525608062744], [0.7746879458427429], [0.7812770009040833], [0.799150288105011], [0.808456301689148], [0.7336713075637817], [0.7167229056358337], [0.7548224329948425], [0.7219712734222412], [0.6914199590682983], [0.832163393497467], [0.8181005120277405], [0.8779253363609314], [0.8564574718475342], [0.8335760235786438], [0.8188290596008301], [0.8054245114326477], [0.6236720085144043], [0.8465547561645508], [0.7723261117935181], [0.8269124031066895], [0.76125568151474], [0.7239561676979065], [0.7472646236419678], [0.7157963514328003], [0.8362939953804016], [0.7309842705726624], [0.7996036410331726], [0.7844697833061218], [0.7749658226966858], [0.841646134853363], [0.7569470405578613], [0.7636306285858154], [0.622022271156311], [0.7677488923072815], [0.7483705878257751], [0.7222715020179749], [0.8086631894111633], [0.7427875995635986], [0.8452438712120056], [0.8066926598548889], [0.774897575378418], [0.7230986952781677], [0.85247802734375], [0.7960878610610962], [0.7303527593612671], [0.7991657257080078], [0.781498908996582], [0.7333647012710571], [0.8057800531387329], [0.7505679130554199], [0.6797507405281067], [0.8384140729904175], [0.8439890742301941], [0.8202271461486816], [0.6019851565361023], [0.7379088401794434], [0.7993913888931274], [0.7216057181358337], [0.6521879434585571], [0.7186529636383057], [0.8023527264595032], [0.8099689483642578], [0.7203572392463684], [0.6979368329048157], [0.76405930519104], [0.8267467021942139], [0.8463265895843506], [0.6556570529937744], [0.7272198796272278], [0.7036632895469666], [0.8398054838180542], [0.5848842859268188], [0.7521468997001648], [0.8163174390792847], [0.8095226883888245], [0.753940999507904], [0.6826320290565491], [0.6773954033851624], [0.5977757573127747], [0.8159998655319214], [0.8271137475967407], [0.746435284614563], [0.8067389130592346], [0.8615771532058716], [0.8311763405799866], [0.7749809622764587], [0.9006954431533813], [0.838498592376709], [0.7942001223564148], [0.8150985240936279], [0.8235218524932861], [0.6063505411148071], [0.8408467173576355], [0.6236720085144043], [0.7060832977294922], [0.7975752353668213], [0.6958504915237427], [0.8631373643875122], [0.668584942817688], [0.8293518424034119], [0.8057037591934204], [0.7445276975631714], [0.771555483341217], [0.8073559999465942], [0.6774333119392395], [0.8692949414253235], [0.7777048349380493], [0.8580434918403625], [0.8153695464134216], [0.6237484216690063], [0.7501538991928101], [0.8167493343353271], [0.6153414249420166], [0.8377529382705688], [0.7421911954879761], [0.7124689221382141], [0.8519272208213806], [0.7716512680053711], [0.8336560130119324], [0.6784500479698181], [0.8495967984199524], [0.7852381467819214], [0.7835949063301086], [0.7506158947944641], [0.7431653141975403], [0.7688559293746948], [0.7443089485168457], [0.7343026995658875], [0.7507609724998474], [0.6716858744621277], [0.5722607374191284], [0.8628249168395996], [0.8234765529632568], [0.8380516767501831], [0.834086537361145], [0.7698600888252258], [0.7978052496910095], [0.7537162899971008], [0.7185267210006714], [0.7531822323799133], [0.6961599588394165], [0.7671670317649841], [0.7077671885490417], [0.7220929861068726], [0.6986371874809265], [0.85242760181427], [0.7589377164840698], [0.8579487800598145], [0.7850764989852905], [0.8440369367599487], [0.80857914686203], [0.7389702200889587], [0.7235597372055054], [0.8450167179107666], [0.7250493168830872], [0.7712948322296143], [0.6733758449554443], [0.6873538494110107], [0.5923458933830261], [0.7624614834785461], [0.7556166648864746], [0.754029393196106], [0.7980867028236389], [0.7700154185295105], [0.7401890754699707], [0.81573885679245], [0.8063254952430725], [0.5770614147186279], [0.6946976184844971], [0.5729420185089111], [0.8058831691741943], [0.6130192279815674], [0.7762051820755005], [0.797802209854126], [0.6240907907485962], [0.795402467250824], [0.8150368332862854], [0.8762688636779785], [0.8199136853218079], [0.7210073471069336], [0.7994746565818787], [0.7331458926200867], [0.8468360900878906], [0.760783314704895], [0.8353269100189209], [0.7679348587989807], [0.6923328638076782], [0.8024762868881226], [0.6832937598228455], [0.7684670686721802], [0.7870878577232361], [0.661432683467865], [0.7949600219726562], [0.7979924082756042], [0.7465643882751465], [0.8899461627006531], [0.8067389130592346], [0.6042845845222473], [0.7323898077011108], [0.8481578230857849], [0.8256703615188599], [0.7994480133056641], [0.7577403783798218], [0.6386035680770874], [0.5090153813362122], [0.7513863444328308], [0.7896139025688171], [0.6218128204345703], [0.8219858407974243], [0.7195990681648254], [0.8313208818435669], [0.6052677035331726], [0.8137058615684509], [0.6807979941368103], [0.8718790411949158], [0.6534759998321533], [0.6799822449684143], [0.8061195015907288], [0.8367149233818054], [0.7638031244277954], [0.8308228254318237], [0.6968923807144165], [0.8253651261329651], [0.620851993560791], [0.8656231164932251], [0.7700808644294739], [0.8134180307388306], [0.733057975769043], [0.851057767868042], [0.792650580406189], [0.8001213073730469], [0.7715898752212524], [0.3868253827095032], [0.7448506355285645], [0.7644608020782471], [0.7749599814414978], [0.7468972206115723], [0.7330256104469299], [0.7343083620071411], [0.6760298609733582], [0.7515649795532227], [0.7274214625358582], [0.7211731672286987], [0.6550023555755615], [0.703035831451416], [0.7217445969581604], [0.8032054901123047], [0.8262170553207397], [0.8330241441726685], [0.6764583587646484], [0.7587899565696716], [0.7756883502006531], [0.7631602883338928], [0.7229540348052979], [0.8027984499931335], [0.8197603225708008], [0.741936445236206], [0.8152549862861633], [0.8904575109481812], [0.8465063571929932], [0.785857617855072], [0.76517254114151], [0.8601283431053162], [0.747077465057373], [0.8497128486633301], [0.8216109871864319], [0.7222416400909424], [0.7143800258636475], [0.7926779985427856], [0.7848538160324097], [0.7951965928077698], [0.8065518140792847], [0.8279832005500793], [0.6299436688423157], [0.7608139514923096], [0.7271493077278137], [0.8042439818382263], [0.7798511981964111], [0.7714146971702576], [0.703877866268158], [0.7280295491218567], [0.8292654156684875], [0.7942644953727722], [0.7983052730560303], [0.856855034828186], [0.815224289894104], [0.8239161372184753], [0.748299241065979], [0.6704332232475281], [0.834103524684906], [0.7281740307807922], [0.6664472222328186], [0.788853645324707], [0.7442911267280579], [0.846668541431427], [0.8480502367019653], [0.7440922260284424], [0.6839269995689392], [0.8333096504211426], [0.7632281184196472], [0.7231667637825012], [0.6713191866874695], [0.7807802557945251], [0.7224946618080139], [0.6060477495193481], [0.7051339745521545], [0.6765534281730652], [0.7960200309753418], [0.8870105743408203], [0.7894110679626465], [0.566291332244873], [0.8062157034873962], [0.5427824258804321], [0.8639529943466187], [0.6704438924789429], [0.7653392553329468], [0.5863396525382996], [0.7876863479614258], [0.5940974950790405], [0.8086035847663879], [0.8507595658302307], [0.7789168357849121], [0.7712344527244568], [0.832169771194458], [0.830486536026001], [0.7676694989204407], [0.7005118131637573], [0.8572137355804443], [0.8260758519172668], [0.8470370769500732], [0.784237802028656], [0.7505009174346924], [0.7213096022605896], [0.8173112273216248], [0.8066828846931458], [0.7581690549850464], [0.8221362829208374], [0.7068052887916565], [0.7788697481155396], [0.6945582628250122], [0.8466145396232605], [0.7573317289352417], [0.6240120530128479], [0.7557374238967896], [0.7935022711753845], [0.8007069826126099], [0.782709538936615], [0.784242570400238], [0.7080235481262207], [0.8132665753364563], [0.6598337888717651], [0.6449519991874695], [0.7579839825630188], [0.8316642045974731], [0.7293716073036194], [0.6996195316314697], [0.7213072776794434], [0.7940514087677002], [0.8496382832527161], [0.8367486000061035], [0.7995055317878723], [0.841724157333374], [0.7297687530517578], [0.6918630599975586], [0.7288077473640442], [0.7564360499382019], [0.7776994109153748], [0.656883955001831], [0.8239632844924927], [0.7341634631156921], [0.848864734172821], [0.8526573777198792], [0.8107295036315918], [0.7538760900497437], [0.8322915434837341], [0.7829368114471436], [0.7690757513046265], [0.7720458507537842], [0.8188380002975464], [0.6690560579299927], [0.9046758413314819], [0.8086460828781128], [0.7636058330535889], [0.7195927500724792], [0.8110133409500122], [0.6740654706954956], [0.6171598434448242], [0.6588436365127563], [0.829376220703125], [0.7106676697731018], [0.8297852277755737], [0.7455801367759705], [0.8696209192276001], [0.8957631587982178], [0.5964117050170898], [0.5424044132232666], [0.8499225378036499], [0.8116625547409058], [0.7890710234642029], [0.8086755275726318], [0.7797167301177979], [0.8633158802986145], [0.6184706687927246], [0.7525430917739868], [0.6450952887535095], [0.737045407295227], [0.820081889629364], [0.799302875995636], [0.8594229817390442], [0.7954902052879333], [0.6553882360458374], [0.8695423603057861], [0.816927433013916], [0.7682924866676331], [0.7957496047019958], [0.6982684135437012], [0.7247899770736694], [0.7854305505752563], [0.8401039838790894], [0.8331822752952576], [0.8024520874023438], [0.61383056640625], [0.7945961952209473], [0.6710465550422668], [0.6574432253837585], [0.7768191695213318], [0.8628566265106201], [0.7960416674613953], [0.9038782715797424], [0.7470340728759766], [0.8045727610588074], [0.8177762627601624], [0.7833544611930847], [0.7617378234863281], [0.6977872252464294], [0.6076090335845947], [0.7971775531768799], [0.8110906481742859], [0.8535575270652771], [0.6770901679992676], [0.6678816080093384], [0.8168932795524597], [0.6720714569091797], [0.6647999286651611], [0.8654372692108154], [0.702051043510437], [0.8249028325080872], [0.6521251797676086], [0.6935617923736572], [0.7156088948249817], [0.8579126596450806], [0.7608681917190552], [0.7530204653739929], [0.7667021155357361], [0.8293360471725464], [0.8123407363891602], [0.8094987869262695], [0.6844992637634277], [0.7971482276916504], [0.7421674132347107], [0.8321073055267334], [0.737435519695282], [0.8192335367202759], [0.8701080679893494], [0.7345582246780396], [0.6350119113922119], [0.8403704166412354], [0.8564196228981018], [0.7871173024177551], [0.6489461660385132], [0.7456809878349304], [0.8144055008888245], [0.7904307246208191], [0.8143664598464966], [0.6834959387779236], [0.7701972126960754], [0.8654372692108154], [0.6888121366500854], [0.8204944133758545], [0.8476147055625916], [0.8071398138999939], [0.7406545281410217], [0.7064242362976074], [0.7510560750961304], [0.8220988512039185], [0.8266629576683044], [0.8359507322311401], [0.687597393989563], [0.7801258563995361], [0.8217347264289856], [0.8213497996330261], [0.6417865753173828], [0.8024892807006836], [0.7883527874946594], [0.8009973168373108], [0.8714290857315063], [0.8323490023612976], [0.6500257253646851], [0.8034969568252563], [0.7300740480422974], [0.8346095085144043], [0.5699076056480408], [0.7542915940284729], [0.7137318253517151], [0.7936214804649353], [0.7908016443252563], [0.7931064963340759], [0.8430518507957458], [0.6314184665679932], [0.5993248224258423], [0.8216262459754944], [0.8261016011238098], [0.6955286264419556], [0.7323220372200012], [0.8186482787132263], [0.8001044988632202], [0.8070054650306702], [0.8041396737098694], [0.7942179441452026], [0.5607402920722961], [0.8817399740219116], [0.7489422559738159], [0.8486185073852539], [0.7677488923072815], [0.78058922290802], [0.8251039385795593], [0.8078782558441162], [0.7703359127044678], [0.7564824819564819], [0.7835660576820374], [0.7700222134590149], [0.8701418042182922], [0.8306065797805786], [0.7959113717079163], [0.5824691653251648], [0.6260563135147095], [0.6006157994270325], [0.8369175791740417], [0.7782052159309387], [0.7902263402938843], [0.8835917711257935], [0.7884652614593506], [0.688689649105072], [0.8183591365814209], [0.7339885830879211], [0.8250218033790588], [0.8296332955360413], [0.8281828761100769], [0.841886043548584], [0.7547784447669983], [0.8486880660057068], [0.8055002093315125], [0.7610475420951843], [0.5606218576431274], [0.8584207892417908], [0.5766232013702393], [0.6830635666847229], [0.8432872295379639], [0.775047779083252], [0.6968593001365662], [0.732266902923584], [0.8444128632545471], [0.6400073170661926], [0.8665376901626587], [0.792650580406189], [0.8497128486633301], [0.8137592673301697], [0.7524346113204956], [0.8653375506401062], [0.7680723667144775], [0.7500183582305908], [0.7519028186798096], [0.6824471950531006], [0.8248834609985352], [0.768138587474823], [0.8363546133041382], [0.7563003301620483], [0.776595950126648], [0.8310516476631165], [0.7286903262138367], [0.7688239216804504], [0.6975436806678772], [0.5341359972953796], [0.7857516407966614], [0.707251787185669], [0.6674255728721619], [0.8269124031066895], [0.6447640657424927], [0.8482510447502136], [0.8436675667762756], [0.857151985168457], [0.7587577700614929], [0.7143949866294861], [0.7127628326416016], [0.8330515623092651], [0.7803986072540283], [0.7529107332229614], [0.828030526638031], [0.8665255904197693], [0.703488826751709], [0.8267841935157776], [0.8588219285011292], [0.7351104617118835], [0.79576575756073], [0.6600125432014465], [0.8162693381309509], [0.616844117641449], [0.7756161093711853], [0.7926229238510132], [0.7941818833351135], [0.8049394488334656], [0.7811774015426636], [0.7707590460777283], [0.7033801078796387], [0.81829833984375], [0.7763159871101379], [0.6901384592056274], [0.6879090070724487], [0.5971085429191589], [0.7005875706672668], [0.8029492497444153], [0.7753417491912842], [0.7418267130851746], [0.7862939238548279], [0.6358056664466858], [0.7337518930435181], [0.836062490940094], [0.7815818786621094], [0.7646434903144836], [0.855006992816925], [0.7761584520339966], [0.7982901930809021], [0.761966347694397], [0.8737310767173767], [0.8302724957466125], [0.7727180123329163], [0.737123429775238], [0.7869142293930054], [0.7160944938659668], [0.7299829721450806], [0.7993757128715515], [0.6859747767448425], [0.8113930225372314], [0.8542895317077637], [0.8298922777175903], [0.6610133647918701], [0.797186553478241], [0.7119841575622559], [0.7979800701141357], [0.7328153252601624], [0.8181806802749634], [0.7864154577255249], [0.6877725720405579], [0.8199771642684937], [0.6668069362640381], [0.6029554605484009], [0.8390334844589233], [0.7535256743431091], [0.7871546149253845], [0.7902037501335144], [0.7567408084869385], [0.7187745571136475], [0.7805410027503967], [0.8180327415466309], [0.8069245219230652], [0.8315666913986206], [0.6857894659042358], [0.8381264209747314], [0.7694637179374695], [0.738072395324707], [0.7618038058280945], [0.7881793975830078], [0.7941516041755676], [0.8717404007911682], [0.7371381521224976], [0.8067828416824341], [0.846668541431427], [0.8706693649291992], [0.7997117638587952], [0.8681691884994507], [0.736430287361145], [0.7935050129890442], [0.5635103583335876], [0.901519238948822], [0.8127758502960205], [0.7647541761398315], [0.7325431108474731], [0.7249205112457275], [0.8936235308647156], [0.756912887096405], [0.6576147079467773], [0.8278961777687073], [0.7739644646644592], [0.7470910549163818], [0.7934755682945251], [0.7055273056030273], [0.7330660223960876], [0.902759313583374], [0.7687916159629822], [0.7338184118270874], [0.6130746603012085], [0.8569667339324951], [0.7590193748474121], [0.8267262578010559], [0.8003779649734497], [0.6598852276802063], [0.7863011956214905], [0.7633763551712036], [0.6085094213485718], [0.6651594638824463], [0.8548226356506348], [0.5771888494491577], [0.8330515623092651], [0.6730330586433411], [0.48760491609573364], [0.8365345001220703], [0.7288668751716614], [0.8533526062965393], [0.8280075788497925], [0.8569227457046509], [0.8099467754364014], [0.8694568276405334], [0.7788001894950867], [0.8215659856796265], [0.7241235971450806], [0.7324651479721069], [0.6772070527076721], [0.8200771808624268], [0.6259490251541138], [0.7244885563850403], [0.8450731039047241], [0.878176748752594], [0.694027304649353], [0.8082804083824158], [0.7790388464927673], [0.7839791774749756], [0.6504454016685486], [0.8010166883468628], [0.6965813636779785], [0.7757735252380371], [0.7994080781936646], [0.7780122756958008], [0.8596808314323425], [0.6798262596130371], [0.8053494095802307], [0.8238263726234436], [0.6619981527328491], [0.7694540619850159], [0.6437948942184448], [0.7095997929573059], [0.6721607446670532], [0.7726142406463623], [0.7820814251899719], [0.7769123911857605], [0.7089446783065796], [0.8037739396095276], [0.8289791941642761], [0.8259522318840027], [0.8824530243873596], [0.8294087648391724], [0.7224719524383545], [0.7729325890541077], [0.8458014726638794], [0.6875298023223877], [0.7799786925315857], [0.5918087363243103], [0.7807586789131165], [0.8033053278923035], [0.8206499814987183], [0.4793267846107483], [0.7339814901351929], [0.7992356419563293], [0.6640178561210632], [0.654225766658783], [0.7384353876113892], [0.7201513648033142], [0.7018052339553833], [0.7761760354042053], [0.8405400514602661], [0.5485705733299255], [0.6442738175392151], [0.7575548887252808], [0.6817131042480469], [0.8680261373519897], [0.8072509765625], [0.8209987282752991], [0.8100740909576416], [0.8664695620536804], [0.8177289962768555], [0.8558444976806641], [0.6827295422554016], [0.842868983745575], [0.6903356909751892], [0.6356948018074036], [0.8446347713470459], [0.7907639741897583], [0.7981331944465637], [0.8856201767921448], [0.6808682680130005], [0.7736982107162476], [0.7607506513595581], [0.8350864052772522], [0.6359476447105408], [0.8321139216423035], [0.7107864022254944], [0.6024072170257568], [0.8042750358581543], [0.7326666116714478], [0.6984341740608215], [0.7115652561187744], [0.6237800717353821], [0.7824509143829346], [0.8071426749229431], [0.738914966583252], [0.7328917980194092], [0.7295861840248108], [0.5779266953468323], [0.7825288772583008], [0.858892560005188], [0.7384905815124512], [0.8465113639831543], [0.7329856157302856], [0.8190070986747742], [0.7715228796005249], [0.8122578263282776], [0.7922906875610352], [0.8033090233802795], [0.719404935836792], [0.8273872137069702], [0.8181203603744507], [0.7925496101379395], [0.832801103591919], [0.8728128671646118], [0.6327039003372192], [0.6864100098609924], [0.7297443151473999], [0.5817724466323853], [0.8637840747833252], [0.6624082326889038], [0.8087418079376221], [0.8325942158699036], [0.8686144948005676], [0.6650065779685974], [0.7703553438186646], [0.7191227078437805], [0.7941752076148987], [0.8970013856887817], [0.7274497151374817], [0.8143993616104126], [0.8718754649162292], [0.7594007253646851], [0.7906626462936401], [0.7797135710716248], [0.8599874973297119], [0.7738280892372131], [0.7350652813911438], [0.8326860666275024], [0.7534295320510864], [0.7459955215454102], [0.8208909630775452], [0.8412851095199585], [0.8344403505325317], [0.8438495993614197], [0.7599544525146484], [0.715262234210968], [0.7990766167640686], [0.8399677276611328], [0.653223991394043], [0.8124710917472839], [0.7724040746688843], [0.8360179662704468], [0.7838765382766724], [0.6781721711158752], [0.7614492774009705], [0.7417055368423462], [0.7512456178665161], [0.7684228420257568], [0.8183470368385315], [0.8283810615539551], [0.6986607313156128], [0.7324263453483582], [0.8306257724761963], [0.8013352155685425], [0.8093616962432861], [0.6764481067657471], [0.7577358484268188], [0.7763445377349854], [0.8266430497169495], [0.5881356000900269], [0.6396565437316895], [0.7328910827636719], [0.6970253586769104], [0.7933019399642944], [0.8036126494407654], [0.6841513514518738], [0.8144693374633789], [0.595894455909729], [0.8227851390838623], [0.7486475706100464], [0.7559400796890259], [0.8452844023704529], [0.8626475930213928], [0.7572323083877563], [0.8481338024139404], [0.7570790648460388], [0.8462135791778564], [0.7313444018363953], [0.7373566627502441], [0.7999721169471741], [0.7879087924957275], [0.7216498851776123], [0.6958469152450562], [0.7579672336578369], [0.7660845518112183], [0.6936242580413818], [0.8315078020095825], [0.8262214064598083], [0.8186945915222168], [0.7015811800956726], [0.7933692932128906], [0.704475998878479], [0.5801861882209778], [0.7085691690444946], [0.7756675481796265], [0.8760497570037842], [0.8045603036880493], [0.8220947980880737], [0.7096724510192871], [0.716242253780365], [0.8666325807571411], [0.7426056861877441], [0.7504837512969971], [0.7536409497261047], [0.8104408383369446], [0.7965961694717407], [0.8707569241523743], [0.808089554309845], [0.7829814553260803], [0.7115625143051147], [0.7741173505783081], [0.7971885800361633], [0.7534991502761841], [0.6557037830352783], [0.6135247349739075], [0.6753243803977966], [0.8138304948806763], [0.8293222784996033], [0.8361220359802246], [0.6941991448402405], [0.7640421390533447], [0.8255079984664917], [0.7864862084388733], [0.5273952484130859], [0.7623676061630249], [0.8087353110313416], [0.7467412948608398], [0.7471430897712708], [0.8381444215774536], [0.8255603909492493], [0.5755080580711365], [0.8156518340110779], [0.8782166838645935], [0.5613532066345215], [0.8826408982276917], [0.9013780355453491], [0.7695003747940063], [0.7959883213043213], [0.6877011060714722], [0.8469724655151367], [0.7637781500816345], [0.7163676023483276], [0.7935640215873718], [0.8300169706344604], [0.7475154995918274], [0.850717306137085], [0.747642993927002], [0.7793823480606079], [0.864560604095459], [0.8158516883850098], [0.8090099692344666], [0.7691701054573059], [0.8030621409416199], [0.7886636257171631], [0.7407546043395996], [0.8376935124397278], [0.8347423076629639], [0.7757255434989929], [0.7744762301445007], [0.8142103552818298], [0.7882751226425171], [0.8007580637931824], [0.7650182843208313], [0.6740528345108032], [0.792698860168457], [0.797057569026947], [0.7688660025596619], [0.7696107029914856], [0.7321553230285645], [0.8740652203559875], [0.7125862240791321], [0.6754971742630005], [0.8639810681343079], [0.8321027159690857], [0.8420634269714355], [0.7672157287597656], [0.7072262167930603], [0.6881830096244812], [0.7524536848068237], [0.834015429019928], [0.8128758668899536], [0.6077325940132141], [0.7802832722663879], [0.7078067064285278], [0.8507588505744934], [0.7501538991928101], [0.641436755657196], [0.8363368511199951], [0.8573172688484192], [0.807750403881073], [0.708765983581543], [0.690742552280426], [0.7099118828773499], [0.6646215915679932], [0.6243395805358887], [0.8276395797729492], [0.7933117747306824], [0.7332796454429626], [0.7693918347358704], [0.7840088605880737], [0.7871494889259338], [0.8080737590789795], [0.5673918724060059], [0.7611783146858215], [0.8050245642662048], [0.5801969170570374], [0.8035963177680969], [0.7544465065002441], [0.7415110468864441], [0.842787504196167], [0.7500743865966797], [0.6958950757980347], [0.8754761219024658], [0.7442449927330017], [0.8764654397964478], [0.7830279469490051], [0.8539223074913025], [0.828593373298645], [0.7160208225250244], [0.7919180989265442], [0.6244697570800781], [0.780052125453949], [0.7254589796066284], [0.9181194305419922], [0.7659647464752197], [0.8509584665298462], [0.6308248043060303], [0.6553308963775635], [0.7603836059570312], [0.7424989342689514], [0.4200792908668518], [0.6485179662704468], [0.7950775027275085], [0.7836779356002808], [0.8229819536209106], [0.8207069039344788], [0.8743138909339905], [0.5863396525382996], [0.802680492401123], [0.8904575109481812], [0.7871155142784119], [0.7031633853912354], [0.8084589838981628], [0.6859908699989319], [0.559779167175293], [0.9002773761749268], [0.8421419858932495], [0.75049889087677], [0.7620087265968323], [0.7456508874893188], [0.8131034970283508], [0.5887485146522522], [0.763658881187439], [0.7425451874732971], [0.8452438712120056], [0.7463716864585876], [0.8524050116539001], [0.7863637804985046], [0.7234229445457458], [0.779107928276062], [0.6790295839309692], [0.7641339302062988], [0.7888177037239075], [0.7436118125915527], [0.8377411365509033], [0.7855592370033264], [0.8320863842964172], [0.7588870525360107], [0.8346982598304749], [0.8426991105079651], [0.7934198975563049], [0.7660845518112183], [0.8005850911140442], [0.7564878463745117], [0.8380759954452515], [0.8381444215774536], [0.7884718775749207], [0.7929267883300781], [0.754516065120697], [0.8526185154914856], [0.6388434171676636], [0.8814860582351685], [0.700676441192627], [0.7911021113395691], [0.8094494342803955], [0.8729710578918457], [0.7538760900497437], [0.8162349462509155], [0.7632910013198853], [0.8074378967285156], [0.7304039001464844], [0.6812006235122681], [0.7023924589157104], [0.7560974359512329], [0.7938975095748901], [0.8998172283172607], [0.8741043210029602], [0.8211818337440491], [0.7097097635269165], [0.7648281455039978], [0.7487447261810303], [0.6245588064193726], [0.83694988489151], [0.542045533657074], [0.7691168189048767], [0.7960416674613953], [0.7541429996490479], [0.8456723690032959], [0.8222745656967163], [0.7861958146095276], [0.8373855352401733], [0.749778151512146], [0.650176465511322], [0.7709417939186096], [0.7560815811157227], [0.8488611578941345], [0.728513777256012], [0.7422261238098145], [0.6184240579605103], [0.8403177261352539], [0.803320050239563], [0.8403905630111694], [0.7554677128791809], [0.693608283996582], [0.6751740574836731], [0.8278369903564453], [0.7457067966461182], [0.8684587478637695], [0.7826515436172485], [0.8575785160064697], [0.8228421211242676], [0.8061510920524597], [0.6670467853546143], [0.7677488923072815], [0.81614750623703], [0.6493967175483704], [0.8175997138023376], [0.6146283149719238], [0.7581599354743958], [0.7578691840171814], [0.8188595771789551], [0.7282714247703552], [0.7466557025909424], [0.5823740363121033], [0.7626978754997253], [0.7814757823944092], [0.8092501759529114], [0.867832362651825], [0.8358721137046814], [0.8349913954734802], [0.8700966835021973], [0.7617917060852051], [0.6761743426322937], [0.8122076392173767], [0.840665340423584], [0.8140847682952881], [0.7341518998146057], [0.7140462398529053], [0.8090977072715759], [0.6950921416282654], [0.6677833795547485], [0.7662243843078613], [0.7972315549850464], [0.6432397961616516], [0.7446509003639221], [0.724107027053833], [0.7907922863960266], [0.7085010409355164], [0.6191877126693726], [0.7843794822692871], [0.815571665763855], [0.7047867178916931], [0.8425664901733398], [0.78193598985672], [0.8739956617355347], [0.6778267621994019], [0.7082559466362], [0.7750126719474792], [0.7044562697410583], [0.882211446762085], [0.859260618686676], [0.8720691204071045], [0.7690757513046265], [0.8690940737724304], [0.7646621465682983], [0.7639460563659668], [0.829317033290863], [0.8054143786430359], [0.7675925493240356], [0.520848274230957], [0.8077645301818848], [0.726739764213562], [0.8164229989051819], [0.7884008288383484], [0.7397485971450806], [0.7186932563781738], [0.7679575085639954], [0.7276406288146973], [0.7134689092636108], [0.813319981098175], [0.7831834554672241], [0.5256534814834595], [0.8243728876113892], [0.750718355178833], [0.7498340606689453], [0.7384117245674133], [0.7551396489143372], [0.7860614657402039], [0.8354754447937012], [0.856855034828186], [0.7946036458015442], [0.6912943720817566], [0.7954232692718506], [0.7473565340042114], [0.8102258443832397], [0.7265305519104004], [0.802505612373352], [0.7375195026397705], [0.6813368797302246], [0.6483798027038574], [0.7923705577850342], [0.8617342114448547], [0.8496320247650146], [0.8961005210876465], [0.6940711140632629], [0.7483540177345276], [0.7602216005325317], [0.8596553206443787], [0.7889509797096252], [0.7964147925376892], [0.7223836779594421], [0.673721432685852], [0.6839584708213806], [0.7963794469833374], [0.6208081841468811], [0.76270592212677], [0.6752462387084961], [0.8652986288070679], [0.7194324135780334], [0.590190589427948], [0.7258671522140503], [0.8782166838645935], [0.5633944869041443], [0.7227585315704346], [0.7373867630958557], [0.7387791872024536], [0.6964623928070068], [0.7750308513641357], [0.8121591210365295], [0.7417718172073364], [0.6277185082435608], [0.7724239826202393], [0.6934612989425659], [0.873921811580658], [0.7303407192230225], [0.666037380695343], [0.8839737772941589], [0.7925887703895569], [0.7904114127159119], [0.6445580124855042], [0.65279620885849], [0.8163144588470459], [0.7465039491653442], [0.8829492926597595], [0.6290184259414673], [0.8077333569526672], [0.6358689069747925], [0.790367066860199], [0.7616332173347473], [0.7497242093086243], [0.7795006036758423], [0.8420255780220032], [0.8453799486160278], [0.8740178942680359], [0.5904442667961121], [0.8291390538215637], [0.795831561088562], [0.8383699059486389], [0.8690940737724304], [0.844539999961853], [0.8534506559371948], [0.7953038811683655], [0.6400871872901917], [0.8651506900787354], [0.8271597027778625], [0.7391763925552368], [0.7467559576034546], [0.8051435947418213], [0.7088637948036194], [0.7660208940505981], [0.7805898785591125], [0.7578372955322266], [0.8273277282714844], [0.7977827787399292], [0.6633447408676147], [0.6684186458587646], [0.7756589651107788], [0.867940366268158], [0.8176345229148865], [0.8537121415138245], [0.7803512811660767], [0.8067389130592346], [0.7087033987045288], [0.7022748589515686], [0.7418363690376282], [0.7854454517364502], [0.719987154006958], [0.7465046644210815], [0.8692821860313416], [0.7626294493675232], [0.6659916043281555], [0.8290262222290039], [0.639585018157959], [0.7294027209281921], [0.660080075263977], [0.7958335280418396], [0.772850513458252], [0.6241338849067688], [0.8606022596359253], [0.75192791223526], [0.7177891135215759], [0.7665444016456604], [0.889349639415741], [0.6938172578811646], [0.7943947911262512], [0.6732615828514099], [0.5511530041694641], [0.6846665740013123], [0.7560893893241882], [0.7937625646591187], [0.7238765358924866], [0.805496335029602], [0.8072943091392517], [0.7755213975906372], [0.7046854496002197], [0.8872026205062866], [0.7713194489479065], [0.6983186602592468], [0.7927789688110352], [0.8982372283935547], [0.861670732498169], [0.8272836208343506], [0.7566700577735901], [0.6884979009628296], [0.8316725492477417], [0.7784743905067444], [0.6860873103141785], [0.7791643142700195], [0.7672792077064514], [0.7988669872283936], [0.841662585735321], [0.75067538022995], [0.7048242092132568], [0.8156721591949463], [0.8431846499443054], [0.6018721461296082], [0.66483473777771], [0.8444330096244812], [0.7500743865966797], [0.7993062138557434], [0.5764155387878418], [0.7817492485046387], [0.6644415855407715], [0.8384140729904175], [0.7653723955154419], [0.7569732069969177], [0.8384140729904175], [0.7962346076965332], [0.8075223565101624], [0.7757384777069092], [0.7645016312599182], [0.8309227228164673], [0.8350027203559875], [0.6225372552871704], [0.8529940843582153], [0.7188887596130371], [0.7887052893638611], [0.6621972918510437], [0.7964811325073242], [0.7778286337852478], [0.7057982683181763], [0.7716291546821594], [0.7543194890022278], [0.8170854449272156], [0.7944512367248535], [0.8029951453208923], [0.6620122790336609], [0.7809292078018188], [0.7287379503250122], [0.8062649369239807], [0.7196276187896729], [0.7345103025436401], [0.7512456178665161], [0.6150904893875122], [0.8147811889648438], [0.8645436763763428], [0.8232304453849792], [0.7902257442474365], [0.8205474019050598], [0.5859512686729431], [0.7594578266143799], [0.7388588786125183], [0.8064845204353333], [0.7075780630111694], [0.7743439078330994], [0.7365128397941589], [0.7098793983459473], [0.7310550212860107], [0.8760497570037842], [0.6260102391242981], [0.8405205607414246], [0.8375239968299866], [0.8233099579811096], [0.8513225317001343], [0.5949139595031738], [0.8324570059776306], [0.8695126175880432], [0.8339336514472961], [0.8000437617301941], [0.7534991502761841], [0.7703898549079895], [0.6291595101356506], [0.7354544997215271], [0.6801272630691528], [0.6472486257553101], [0.6923729777336121], [0.7502605319023132], [0.679014265537262], [0.7574284076690674], [0.7051997184753418], [0.7611294984817505], [0.5828115940093994], [0.7963002324104309], [0.719404935836792], [0.789759635925293], [0.8765712976455688], [0.8633158802986145], [0.8077918291091919], [0.7808288335800171], [0.8061282634735107], [0.7646796107292175], [0.8162044882774353], [0.7641813158988953], [0.6563248038291931], [0.8666552901268005], [0.6794690489768982], [0.8309904932975769], [0.42624279856681824], [0.7571380734443665], [0.7698673009872437], [0.721981406211853], [0.7303994297981262], [0.7533813118934631], [0.7649081945419312], [0.7477508783340454], [0.535166323184967], [0.7700967192649841], [0.7754765748977661], [0.778934121131897], [0.6742250919342041], [0.7096105217933655], [0.6856099367141724], [0.5324018597602844], [0.7721014618873596], [0.466142863035202], [0.7633919715881348], [0.7223623394966125], [0.8243924975395203], [0.7400494813919067], [0.6522268056869507], [0.79485023021698], [0.8363270163536072], [0.8353248834609985], [0.6973579525947571], [0.8152506351470947], [0.7466781735420227], [0.8204980492591858], [0.8249303698539734], [0.7579096555709839], [0.6526997685432434], [0.6981337070465088], [0.7460784912109375], [0.7879449725151062], [0.8177512884140015], [0.8144009113311768], [0.755815327167511], [0.6805762052536011], [0.756996214389801], [0.74813312292099], [0.616835355758667], [0.8733450770378113], [0.708702564239502], [0.6839292049407959], [0.7986124157905579], [0.8335788249969482], [0.7889399528503418], [0.7919115424156189], [0.7673782110214233], [0.8216874003410339], [0.83680659532547], [0.8402698040008545], [0.6943488121032715], [0.7949995398521423], [0.7711159586906433], [0.8416686058044434], [0.6778267621994019], [0.5854131579399109], [0.7180817127227783], [0.7692188024520874], [0.7202506065368652], [0.90047287940979], [0.7176666259765625], [0.8379831910133362], [0.8260262608528137], [0.6569255590438843], [0.6391790509223938], [0.8202146291732788], [0.700127363204956], [0.7896786332130432], [0.32905715703964233], [0.7719746232032776], [0.7950878739356995], [0.8096021413803101], [0.7715277075767517], [0.7368630766868591], [0.7050238847732544], [0.8314333558082581], [0.6245588064193726], [0.761795163154602], [0.8289469480514526], [0.7672341465950012], [0.8100562691688538], [0.8583757281303406], [0.8443629145622253], [0.8321073055267334], [0.7772842645645142], [0.818008303642273], [0.8077365159988403], [0.7792335152626038], [0.8216262459754944], [0.797846257686615], [0.8467813730239868], [0.6965593099594116], [0.8519672751426697], [0.7973940372467041], [0.823514461517334], [0.7531397938728333], [0.7944818735122681], [0.8714290857315063], [0.835358738899231], [0.7356987595558167], [0.8729710578918457], [0.6707121133804321], [0.8282057642936707], [0.7425578832626343], [0.6067728400230408], [0.7601988315582275], [0.7953510284423828], [0.7553665041923523], [0.8282807469367981], [0.7311466932296753], [0.5157338380813599], [0.826641857624054], [0.6958644390106201], [0.58997642993927], [0.8321619033813477], [0.8032407760620117], [0.7239854335784912], [0.6894778609275818], [0.8350412845611572], [0.8300940990447998], [0.8542895317077637], [0.7812800407409668], [0.8549306988716125], [0.7951327562332153], [0.7893275618553162], [0.7953510284423828], [0.7641639709472656], [0.7577523589134216], [0.6957829594612122], [0.8227481245994568], [0.844184398651123], [0.7530143857002258], [0.8480144739151001], [0.7673003673553467], [0.5348219275474548], [0.7321553230285645], [0.618586003780365], [0.7746900320053101], [0.7771353721618652], [0.753653347492218], [0.7016406655311584], [0.8273216485977173], [0.7235125303268433], [0.9037163257598877], [0.7097240090370178], [0.599625289440155], [0.8104487657546997], [0.8094987869262695], [0.8337423801422119], [0.689810574054718], [0.713810920715332], [0.8719961643218994], [0.6882481575012207], [0.7558677792549133], [0.7632390856742859], [0.7946236729621887], [0.7848802804946899], [0.6834152936935425], [0.8394907712936401], [0.7849493026733398], [0.7701366543769836], [0.6616610884666443], [0.7484460473060608], [0.8463913798332214], [0.7887639999389648], [0.7847771644592285], [0.8106393218040466], [0.8371343016624451], [0.6766519546508789], [0.8629739880561829], [0.8313316702842712], [0.7654353976249695], [0.7565126419067383], [0.7012889385223389], [0.8207048177719116], [0.7527146339416504], [0.7895525693893433], [0.6599489450454712], [0.8068158030509949], [0.7824121117591858], [0.8397300243377686], [0.7347343564033508], [0.720788836479187], [0.7805783748626709], [0.7545320391654968], [0.7041400074958801], [0.8636881113052368], [0.8169994950294495], [0.7442362308502197], [0.8465870022773743], [0.7215961217880249], [0.7757236361503601], [0.7124162316322327], [0.7492929100990295], [0.766018271446228], [0.7787907123565674], [0.7600164413452148], [0.7714601159095764], [0.7953510284423828], [0.7699117660522461], [0.8620288372039795], [0.7218090295791626], [0.8523228764533997], [0.6736829876899719], [0.7570153474807739], [0.8294338583946228], [0.6696419715881348], [0.7178249359130859], [0.830407977104187], [0.8375148773193359], [0.7558610439300537], [0.7935588955879211], [0.7392617464065552], [0.7756161093711853], [0.6394857168197632], [0.7974410057067871], [0.8452438712120056], [0.7514403462409973], [0.776595950126648], [0.729826807975769], [0.7203572392463684], [0.8417765498161316], [0.8461317420005798], [0.738332986831665], [0.6620721817016602], [0.7691887021064758], [0.7690911889076233], [0.7910853028297424], [0.8453026413917542], [0.8045109510421753], [0.7527588605880737], [0.8317692279815674], [0.6500511765480042], [0.8324304223060608], [0.7894082069396973], [0.7235504388809204], [0.6583206057548523], [0.7322807312011719], [0.7549780607223511], [0.5495258569717407], [0.770008385181427], [0.7732622623443604], [0.6455713510513306], [0.717134952545166], [0.8667938709259033], [0.7474966049194336], [0.754101574420929], [0.8169047236442566], [0.7715432047843933], [0.5910346508026123], [0.8329160213470459], [0.6921877861022949], [0.7613961100578308], [0.7575111985206604], [0.6839584708213806], [0.7603806853294373], [0.7981960773468018], [0.842782735824585], [0.7219839692115784], [0.7896139025688171], [0.8548504710197449], [0.8045027852058411], [0.6548675894737244], [0.7893015146255493], [0.7828536033630371], [0.7867707014083862], [0.7108864188194275], [0.7840368151664734], [0.73902428150177], [0.7257548570632935], [0.8322101831436157], [0.8236376047134399], [0.7815786004066467], [0.6520346999168396], [0.8140847682952881], [0.7949983477592468], [0.6416412591934204], [0.6857537031173706], [0.8163049221038818], [0.8070335388183594], [0.7614296078681946], [0.8168987035751343], [0.8027817606925964], [0.543776273727417], [0.7769618630409241], [0.7417582273483276], [0.8204335570335388], [0.7411206960678101], [0.7323746085166931], [0.7803801894187927], [0.7458256483078003], [0.6957963705062866], [0.7116228938102722], [0.7660074830055237], [0.8837395906448364], [0.7324610948562622], [0.7504948973655701], [0.7951366901397705], [0.8115046620368958], [0.7359915971755981], [0.8064190149307251], [0.825193464756012], [0.6251526474952698], [0.8453509211540222], [0.8570789694786072], [0.8461659550666809], [0.848045825958252], [0.8475583791732788], [0.7939891815185547], [0.6813817620277405], [0.7398415207862854], [0.8689937591552734], [0.7688942551612854], [0.8246809840202332], [0.781681478023529], [0.7491180300712585], [0.8188378214836121], [0.7131779193878174], [0.7944400906562805], [0.7719885110855103], [0.6689188480377197], [0.7903831601142883], [0.7338067293167114], [0.7889722585678101], [0.7185530662536621], [0.8079096674919128], [0.8821569681167603], [0.844178318977356], [0.7372572422027588], [0.7150017619132996], [0.7806447148323059], [0.8067068457603455], [0.8140102624893188], [0.608173131942749], [0.7634581923484802], [0.8477160334587097], [0.8071253299713135], [0.7911583185195923], [0.8290735483169556], [0.8504804968833923], [0.6924799084663391], [0.8003140687942505], [0.8372527360916138], [0.8279566764831543], [0.7997689843177795], [0.7811264395713806], [0.7842329144477844], [0.7681246995925903], [0.7632600665092468], [0.7817190885543823], [0.8049044013023376], [0.7602680325508118], [0.7617378234863281], [0.7774895429611206], [0.8165556192398071], [0.8027606010437012], [0.7267592549324036], [0.6949605345726013], [0.7719149589538574], [0.7729473114013672], [0.835136353969574], [0.8987578749656677], [0.7355525493621826], [0.7162041664123535], [0.7990788221359253], [0.6940914988517761], [0.6991319060325623], [0.838016927242279], [0.708702564239502], [0.6623668670654297], [0.81341552734375], [0.8153780102729797], [0.6966925859451294], [0.7800163626670837], [0.8501150608062744], [0.8364760875701904], [0.8704595565795898], [0.7557039260864258], [0.6915103197097778], [0.9134054183959961], [0.8020996451377869], [0.6963589191436768], [0.6011161804199219], [0.8072514533996582], [0.7411268949508667], [0.6961346864700317], [0.7872133255004883], [0.7981351017951965], [0.7586541771888733], [0.8305343985557556], [0.8571046590805054], [0.5840928554534912], [0.8198574781417847], [0.7666183710098267], [0.825920045375824], [0.7038596868515015], [0.66959148645401], [0.520664632320404], [0.772612452507019], [0.8706621527671814], [0.7264395952224731], [0.8481863737106323], [0.7868303060531616], [0.8236035108566284], [0.8452591896057129], [0.7741644382476807], [0.8630794286727905], [0.836549699306488], [0.8013781905174255], [0.8352341651916504], [0.6236720085144043], [0.8372607231140137], [0.873702347278595], [0.8743252158164978], [0.794407844543457], [0.755115270614624], [0.7620030641555786], [0.7988595366477966], [0.74749755859375], [0.8043498396873474], [0.7871546149253845], [0.798724353313446], [0.6153357625007629], [0.759039580821991], [0.839653730392456], [0.8093535304069519], [0.844178318977356], [0.7405152320861816], [0.7178642153739929], [0.8655207753181458], [0.766780436038971], [0.8382195830345154], [0.8131232857704163], [0.6911872029304504], [0.6429873704910278], [0.646474301815033], [0.7371100187301636], [0.6920623779296875], [0.7336328029632568], [0.8370591402053833], [0.797416627407074], [0.8303048014640808], [0.7886543869972229], [0.6920765042304993], [0.8184592127799988], [0.7848190069198608], [0.7833572030067444], [0.662442147731781], [0.7825288772583008], [0.806361973285675], [0.6804042458534241], [0.6205236315727234], [0.7330448627471924], [0.5693067312240601], [0.8469921946525574], [0.7555504441261292], [0.6854795217514038], [0.8427091240882874], [0.7249182462692261], [0.8550940155982971], [0.8196906447410583], [0.7496601343154907], [0.8132665753364563], [0.7248420715332031], [0.88238126039505], [0.6994874477386475], [0.6852542757987976], [0.8611717224121094], [0.8196729421615601], [0.8351162075996399], [0.8385635614395142], [0.7074767351150513], [0.7100692391395569], [0.725460946559906], [0.7859999537467957], [0.8265218138694763], [0.8608080744743347], [0.7600440979003906], [0.8960896134376526], [0.5398800373077393], [0.8226528763771057], [0.74880051612854], [0.8115535378456116], [0.7098723649978638], [0.7775602340698242], [0.6471602916717529], [0.7806981205940247], [0.7038404941558838], [0.8136284351348877], [0.7789431214332581], [0.5644770860671997], [0.7745519280433655], [0.8459780216217041], [0.7856342196464539], [0.7984301447868347], [0.7757384777069092], [0.843264102935791], [0.8440644145011902], [0.8553065657615662], [0.8680818676948547], [0.8269277215003967], [0.7035760879516602], [0.8468078374862671], [0.8236473202705383], [0.8172883987426758], [0.8211904764175415], [0.7656901478767395], [0.813381016254425], [0.822595477104187], [0.7845383882522583], [0.8425396084785461], [0.7344577312469482], [0.6852860450744629], [0.8203977346420288], [0.6457626819610596], [0.7257131338119507], [0.7131736874580383], [0.7074980139732361], [0.786774754524231], [0.6506015062332153], [0.7228155136108398], [0.7920846343040466], [0.6672913432121277], [0.753437876701355], [0.8523454070091248], [0.8368713855743408], [0.8638849258422852], [0.6989973783493042], [0.8571315407752991], [0.769080638885498], [0.7228915095329285], [0.8492860198020935], [0.902137041091919], [0.7817575335502625], [0.8018708229064941], [0.7159020900726318], [0.743960976600647], [0.7142308354377747], [0.7699158191680908], [0.8592257499694824], [0.7914331555366516], [0.8216652274131775], [0.7619810700416565], [0.8479551076889038], [0.7579188942909241], [0.7772388458251953], [0.7172163128852844], [0.7999011874198914], [0.8656136393547058], [0.8544551134109497], [0.7762526273727417], [0.7343189120292664], [0.8172268271446228], [0.8950266242027283], [0.7569493055343628], [0.8567695617675781], [0.8136613965034485], [0.8024103045463562], [0.7757918834686279], [0.890481173992157], [0.5649639368057251], [0.7513078451156616], [0.7914445400238037], [0.81341552734375], [0.79263836145401], [0.8826949596405029], [0.8054103851318359], [0.800790011882782], [0.7744700312614441], [0.7020382881164551], [0.8312501907348633], [0.7324776649475098], [0.8582020401954651], [0.8424165844917297], [0.7116379737854004], [0.8617203235626221], [0.847854733467102], [0.7457492351531982], [0.7628246545791626], [0.769835889339447], [0.8504775762557983], [0.8486896753311157], [0.8301219940185547], [0.8293536901473999], [0.7185407876968384], [0.7812554240226746], [0.806460976600647], [0.701453447341919], [0.7834112644195557], [0.7775040864944458], [0.6558309197425842], [0.8022342324256897], [0.6382425427436829], [0.8182706832885742], [0.8888275623321533], [0.7389346361160278], [0.8601775765419006], [0.8209143877029419], [0.3713456392288208], [0.7023103833198547], [0.8497771620750427], [0.8010620474815369], [0.8696808815002441], [0.7067965269088745], [0.7426875233650208], [0.8321008086204529], [0.8010166883468628], [0.7920809388160706], [0.8199878931045532], [0.7998771071434021], [0.8148107528686523], [0.730211615562439], [0.8133609294891357], [0.7569871544837952], [0.8782166838645935], [0.8008171916007996], [0.6632930040359497], [0.8198023438453674], [0.8165556192398071], [0.8161280751228333], [0.8036128282546997], [0.7889149188995361], [0.6879392862319946], [0.6590175032615662], [0.6641278266906738], [0.7429764270782471], [0.6913853287696838], [0.7984835505485535], [0.7851598858833313], [0.640162467956543], [0.7634598016738892], [0.5541599988937378], [0.7245917320251465], [0.4351259171962738], [0.8397550582885742], [0.7788623571395874], [0.7472004294395447], [0.7186008095741272], [0.8329669833183289], [0.8579126596450806], [0.7972351908683777], [0.8357548117637634], [0.7491522431373596], [0.8274644017219543], [0.7849482893943787], [0.7805382013320923], [0.6802223920822144], [0.7327004671096802], [0.6897096633911133], [0.8215850591659546], [0.8060525059700012], [0.798545241355896], [0.6029554605484009], [0.8371343016624451], [0.7854896187782288], [0.6920155882835388], [0.798346757888794], [0.7466367483139038], [0.7617917060852051], [0.7632728815078735], [0.7997936606407166], [0.6525900959968567], [0.8106314539909363], [0.6583377122879028], [0.7780858278274536], [0.7722668647766113], [0.6014599204063416], [0.6734687089920044], [0.7640509605407715], [0.7756694555282593], [0.7404269576072693], [0.8600221872329712], [0.788345992565155], [0.8023942112922668], [0.794988214969635], [0.6855756044387817], [0.8375221490859985], [0.710517942905426], [0.6154439449310303], [0.7764089107513428], [0.8476740717887878], [0.7264716625213623], [0.6844377517700195], [0.8430008292198181], [0.843350887298584], [0.7955237030982971], [0.8278430700302124], [0.5981236100196838], [0.7830908298492432], [0.7433566451072693], [0.7239854335784912], [0.7693021893501282], [0.8062956929206848], [0.8699980974197388], [0.8491713404655457], [0.8029464483261108], [0.7693918347358704], [0.8153511881828308], [0.8326690196990967], [0.8255411982536316], [0.7907702922821045], [0.8734931945800781], [0.6972869038581848], [0.8422233462333679], [0.6772727370262146], [0.6787086129188538], [0.8438832759857178], [0.6788277626037598], [0.7289129495620728], [0.8385503888130188], [0.8530208468437195], [0.8182560205459595], [0.806405246257782], [0.8063756227493286], [0.8258867263793945], [0.8994975090026855], [0.7733345031738281], [0.7676364779472351], [0.8292830586433411], [0.8814318776130676], [0.813141942024231], [0.8706621527671814], [0.8524215221405029], [0.7955043911933899], [0.7584980726242065], [0.7659096717834473], [0.7946469783782959], [0.8531143665313721], [0.6845467686653137], [0.8553183674812317], [0.8665255904197693], [0.8158563375473022], [0.8917800784111023], [0.7719836235046387], [0.7886296510696411], [0.7876361012458801], [0.7309483885765076], [0.5696904063224792], [0.7077527046203613], [0.7354263663291931], [0.784709632396698], [0.844318687915802], [0.8415830135345459], [0.7125507593154907], [0.6730470061302185], [0.7536738514900208], [0.8737576007843018], [0.8066906929016113], [0.6861324310302734], [0.7917194366455078], [0.839828610420227], [0.8037440180778503], [0.7553753852844238], [0.8325676321983337], [0.7557496428489685], [0.6963029503822327], [0.8396215438842773], [0.7422832250595093], [0.7907248735427856], [0.7993673086166382], [0.7526999115943909], [0.7099743485450745], [0.6225439310073853], [0.5891545414924622], [0.7351651191711426], [0.8689578771591187], [0.5346629023551941], [0.8616669178009033], [0.8130613565444946], [0.7850171327590942], [0.7891305685043335], [0.772257387638092], [0.8277247548103333], [0.8156301975250244], [0.8552111983299255], [0.782724142074585], [0.7350205779075623], [0.856899619102478], [0.707461416721344], [0.7599614858627319], [0.7797030210494995], [0.7751773595809937], [0.6816030144691467], [0.8168932795524597], [0.7805994153022766], [0.7400073409080505], [0.8327204585075378], [0.6793954968452454], [0.7087703943252563], [0.6713672876358032], [0.8221775889396667], [0.7285560369491577], [0.781798243522644], [0.6760298609733582], [0.698885977268219], [0.8163737654685974], [0.8421261310577393], [0.8229819536209106], [0.7680634260177612], [0.8016185164451599], [0.8430764675140381], [0.7680899500846863], [0.6828603148460388], [0.7031256556510925], [0.8100587129592896], [0.8428356051445007], [0.755105197429657], [0.796105146408081], [0.824661135673523], [0.710017740726471], [0.7450655698776245], [0.7524511218070984], [0.7961764335632324], [0.6406063437461853], [0.8528165221214294], [0.8177810907363892], [0.8519148230552673], [0.6421957015991211], [0.6546462774276733], [0.7399689555168152], [0.8238139152526855], [0.6674689650535583], [0.7606416940689087], [0.7660012245178223], [0.6654483675956726], [0.7839698195457458], [0.7561241388320923], [0.8352450728416443], [0.7288848161697388], [0.8211103677749634], [0.8542895317077637], [0.6679676175117493], [0.6173896193504333], [0.8765373229980469], [0.9015656113624573], [0.7762565612792969], [0.611454427242279], [0.7620916962623596], [0.719696044921875], [0.6550800204277039], [0.8269104957580566], [0.8711124658584595], [0.7839096188545227], [0.8032287955284119], [0.7605128884315491], [0.8664154410362244], [0.8485509157180786], [0.7035712003707886], [0.830270528793335], [0.7850609421730042], [0.828037679195404], [0.7960453033447266], [0.8527292013168335], [0.7997770309448242], [0.7769060134887695], [0.8216874003410339], [0.7248028516769409], [0.7293227314949036], [0.6770297288894653], [0.8048484325408936], [0.7893651723861694], [0.8154113292694092], [0.7814557552337646], [0.7970301508903503], [0.7334349751472473], [0.7799031734466553], [0.7646826505661011], [0.7781659960746765], [0.3347289264202118], [0.6669772863388062], [0.8571131825447083], [0.7805289626121521], [0.8153718113899231], [0.814115047454834], [0.8320406079292297], [0.6562005877494812], [0.8415848612785339], [0.6943488121032715], [0.8588984608650208], [0.8165206909179688], [0.7541816234588623], [0.8058831691741943], [0.698494553565979], [0.7503217458724976], [0.7857455015182495], [0.7815566062927246], [0.7921236753463745], [0.8010625839233398], [0.7514774799346924], [0.7460703253746033], [0.7676364779472351], [0.8117395639419556], [0.7748975157737732], [0.8281992077827454], [0.7817541360855103], [0.6892052292823792], [0.6526801586151123], [0.7385815978050232], [0.7867510318756104], [0.8266791105270386], [0.7640655040740967], [0.7536409497261047], [0.8026915788650513], [0.8208455443382263], [0.830406904220581], [0.7357533574104309], [0.8144136667251587], [0.7336601614952087], [0.5455355048179626], [0.718588650226593], [0.7997291684150696], [0.7203572392463684], [0.6321250796318054], [0.8904575109481812], [0.7960982322692871], [0.7365369200706482], [0.776436448097229], [0.7958434224128723], [0.8590536117553711], [0.7997239828109741], [0.653897762298584], [0.8255781531333923], [0.7851115465164185], [0.7943570613861084], [0.8327867388725281], [0.7950084805488586], [0.5710247159004211], [0.7108179330825806], [0.8659245371818542], [0.7195044755935669], [0.7366807460784912], [0.7534105181694031], [0.6359211206436157], [0.8290351629257202], [0.8177258372306824], [0.7971482276916504], [0.7178249359130859], [0.8184712529182434], [0.8747255802154541], [0.7771052718162537], [0.8450946807861328], [0.83334881067276], [0.8474332690238953], [0.7473864555358887], [0.7617980241775513], [0.7018994688987732], [0.6654366254806519], [0.7204253077507019], [0.8387748599052429], [0.7768510580062866], [0.8950266242027283], [0.6974053978919983], [0.7997661828994751], [0.7941402792930603], [0.6088359951972961], [0.794353187084198], [0.768156111240387], [0.8390447497367859], [0.7633570432662964], [0.677893340587616], [0.784639298915863], [0.8660058975219727], [0.784048318862915], [0.7911309599876404], [0.7587617635726929], [0.8363773822784424], [0.6895933151245117], [0.7868767380714417], [0.8293871283531189], [0.8947088718414307], [0.7281008958816528], [0.7750054001808167], [0.6440418362617493], [0.8545164465904236], [0.8200913071632385], [0.8445240259170532], [0.7406703233718872], [0.8529425263404846], [0.5660914778709412], [0.7039571404457092], [0.7124492526054382], [0.8584306836128235], [0.7026508450508118], [0.7770213484764099], [0.7028205990791321], [0.7015421986579895], [0.7534175515174866], [0.8197634816169739], [0.6991970539093018], [0.8050380349159241], [0.7552285194396973], [0.8354570865631104], [0.7731627821922302], [0.7978671193122864], [0.7639392018318176], [0.6269670724868774], [0.8743664026260376], [0.7081817388534546], [0.3417864441871643], [0.7805813550949097], [0.6497700214385986], [0.6576347947120667], [0.7978052496910095], [0.6885914206504822], [0.7971906661987305], [0.8073226809501648], [0.8733654022216797], [0.8473776578903198], [0.8125226497650146], [0.7976524829864502], [0.8210684657096863], [0.846871018409729], [0.8533526062965393], [0.7495918273925781], [0.6843804121017456], [0.6998687386512756], [0.783807098865509], [0.8004923462867737], [0.8534629940986633], [0.8293549418449402], [0.7496778964996338], [0.824162483215332], [0.7696548700332642], [0.8168798685073853], [0.7134755253791809], [0.7775034308433533], [0.8346573114395142], [0.7999011874198914], [0.7786247730255127], [0.7593089938163757], [0.7229626774787903], [0.7841243743896484], [0.7429382801055908], [0.7664157748222351], [0.7642917037010193], [0.7324726581573486], [0.8270846009254456], [0.7474660277366638], [0.7876740097999573], [0.803972065448761], [0.742128849029541], [0.8318008184432983], [0.6851375699043274], [0.6330024600028992], [0.7463595867156982], [0.8366295695304871], [0.6095558404922485], [0.8283017873764038], [0.7278064489364624], [0.9042395353317261], [0.8092464804649353], [0.7430667281150818], [0.5511530041694641], [0.6891880035400391], [0.7734084725379944], [0.604221522808075], [0.7610704302787781], [0.7899886965751648], [0.8781198263168335], [0.43886059522628784], [0.6685507893562317], [0.7012889385223389], [0.8115772008895874], [0.8830744028091431], [0.8524145483970642], [0.7189883589744568], [0.7231811881065369], [0.7470873594284058], [0.8210435509681702], [0.6839984059333801], [0.7901105880737305], [0.8468078374862671], [0.7353439331054688], [0.7318649888038635], [0.7995214462280273], [0.8167296051979065], [0.8252842426300049], [0.8140725493431091], [0.7534295320510864], [0.7070043087005615], [0.858199417591095], [0.5834416151046753], [0.8503536581993103], [0.6792980432510376], [0.7786071300506592], [0.6684284806251526], [0.574546217918396], [0.8543345332145691], [0.8213781118392944], [0.6801191568374634], [0.6599220633506775], [0.8299451470375061], [0.785686731338501], [0.6959142088890076], [0.8094472289085388], [0.7761760354042053], [0.7710683941841125], [0.6886720657348633], [0.7188622355461121], [0.6991533637046814], [0.8379849195480347], [0.7525076270103455], [0.8349503874778748], [0.819712221622467], [0.7609492540359497], [0.7858957052230835], [0.7085691690444946], [0.857151985168457], [0.8226094841957092], [0.6238998174667358], [0.7635948657989502], [0.8226528763771057], [0.7076414823532104], [0.8421803116798401], [0.6726788878440857], [0.7731546759605408], [0.7593148350715637], [0.8694298267364502], [0.7983023524284363], [0.8605703711509705], [0.773120641708374], [0.7834314703941345], [0.8297932744026184], [0.787118136882782], [0.8145045042037964], [0.7216544151306152], [0.6932386159896851], [0.7407573461532593], [0.8748577833175659], [0.8828403949737549], [0.74556565284729], [0.8213288187980652], [0.7853450775146484], [0.7383733987808228], [0.8106350898742676], [0.8475415706634521], [0.6791458129882812], [0.8820131421089172], [0.6253564357757568], [0.7712764739990234], [0.7937411069869995], [0.7602525353431702], [0.831500768661499], [0.8454751968383789], [0.876611053943634], [0.8508837223052979], [0.8149362206459045], [0.7962026596069336], [0.8037782311439514], [0.842645525932312], [0.4589376151561737], [0.856855034828186], [0.8357514142990112], [0.799888551235199], [0.7022576332092285], [0.6571876406669617], [0.6174864768981934], [0.7243798971176147], [0.5489657521247864], [0.8117560148239136], [0.7178646326065063], [0.7227293252944946], [0.8108553290367126], [0.7011860609054565], [0.7398586869239807], [0.781985878944397], [0.7551766633987427], [0.7842320203781128], [0.7835660576820374], [0.8268029093742371], [0.807515561580658], [0.7936124801635742], [0.7967778444290161], [0.7047250270843506], [0.8069625496864319], [0.7542003989219666], [0.6971838474273682], [0.7140269875526428], [0.6829321384429932], [0.7833021283149719], [0.8594202399253845], [0.8331822752952576], [0.7720127105712891], [0.839195191860199], [0.7172427177429199], [0.8588753342628479], [0.8761237263679504], [0.8527646064758301], [0.7760229110717773], [0.8132542371749878], [0.7712318301200867], [0.867630660533905], [0.6703272461891174], [0.8243690729141235], [0.7769123911857605], [0.7697895169258118], [0.7673403024673462], [0.797456681728363], [0.7680634260177612], [0.7831870913505554], [0.8846359252929688], [0.6155257821083069], [0.7637781500816345], [0.8001676797866821], [0.7073246836662292], [0.8938611745834351], [0.6608068943023682], [0.6487109065055847], [0.7748968005180359], [0.8073066473007202], [0.7717013955116272], [0.7398059964179993], [0.7356987595558167], [0.6551228761672974], [0.8283364176750183], [0.7734353542327881], [0.8331380486488342], [0.7820522785186768], [0.8335898518562317], [0.7303416728973389], [0.8492860198020935], [0.893994927406311], [0.8165449500083923], [0.7102647423744202], [0.7587863802909851], [0.7125827670097351], [0.7898631691932678], [0.7737959623336792], [0.8077221512794495], [0.8336419463157654], [0.7719088196754456], [0.7576466202735901], [0.7467410564422607], [0.8337333798408508], [0.822383463382721], [0.6558505296707153], [0.6910499334335327], [0.8632866740226746], [0.721147358417511], [0.7637991309165955], [0.812367856502533], [0.8459309935569763], [0.5834450721740723], [0.8258834481239319], [0.8485673069953918], [0.7339814901351929], [0.8122150301933289], [0.6975337266921997], [0.7816224098205566], [0.8257932662963867], [0.8225316405296326], [0.8153193593025208], [0.48099973797798157], [0.7176545262336731], [0.47926047444343567], [0.8008760213851929], [0.7447457313537598], [0.8241536617279053], [0.8540508151054382], [0.6496453881263733], [0.7261292338371277], [0.606526255607605], [0.8416959643363953], [0.7831292152404785], [0.8719356656074524], [0.8430764675140381], [0.7904725670814514], [0.7812768220901489], [0.5750202536582947], [0.7866548299789429], [0.8017024397850037], [0.806826651096344], [0.8109706044197083], [0.7737959623336792], [0.8337600231170654], [0.7025006413459778], [0.8703345656394958], [0.8376968502998352], [0.6946109533309937], [0.6860067844390869], [0.8680151104927063], [0.83694988489151], [0.8110673427581787], [0.7588870525360107], [0.8504244685173035], [0.8082728385925293], [0.6844746470451355], [0.8290448188781738], [0.7570061683654785], [0.8244819641113281], [0.816453754901886], [0.6334885954856873], [0.6492906212806702], [0.7642925977706909], [0.8279664516448975], [0.6588749885559082], [0.7624020576477051], [0.7543586492538452], [0.8625035881996155], [0.8160317540168762], [0.8166540861129761], [0.7492382526397705], [0.8434649705886841], [0.7397583723068237], [0.8573905825614929], [0.6703381538391113], [0.8286651968955994], [0.7422375679016113], [0.756594181060791], [0.7618333697319031], [0.8273953199386597], [0.7407994270324707], [0.697642982006073], [0.7463716864585876], [0.7168481945991516], [0.831204891204834], [0.8240856528282166], [0.7517292499542236], [0.7108061909675598], [0.8102720379829407], [0.8512473702430725], [0.7754685878753662], [0.8271929621696472], [0.721953272819519], [0.8190315365791321], [0.7839321494102478], [0.7436315417289734], [0.8520599603652954], [0.8463913798332214], [0.5535190105438232], [0.8502103090286255], [0.7003127336502075], [0.7488436102867126], [0.8164876699447632], [0.8053568005561829], [0.7823446989059448], [0.6821087598800659], [0.721513032913208], [0.7628926038742065], [0.7408364415168762], [0.8122878074645996], [0.6633209586143494], [0.8459424376487732], [0.8580957651138306], [0.7817484736442566], [0.8476444482803345], [0.7099416851997375], [0.6915172934532166], [0.4631515145301819], [0.8051992654800415], [0.5586340427398682], [0.7164217233657837], [0.8792638182640076], [0.8003038167953491], [0.7638671398162842], [0.7702606320381165], [0.8599638938903809], [0.8124200105667114], [0.820263147354126], [0.7769134044647217], [0.8682108521461487], [0.8684587478637695], [0.7383455038070679], [0.6961368322372437], [0.7501830458641052], [0.8493808507919312], [0.7904826402664185], [0.7168481945991516], [0.8562244176864624], [0.853053867816925], [0.6981062293052673], [0.79398113489151], [0.7692415118217468], [0.798966109752655], [0.7680106163024902], [0.7569963932037354], [0.811583399772644], [0.894631564617157], [0.6385523080825806], [0.7463207244873047], [0.8327952027320862], [0.8098897933959961], [0.7032464742660522], [0.746340811252594], [0.7052338719367981], [0.797744870185852], [0.7567694187164307], [0.6899306178092957], [0.8367598652839661], [0.7081970572471619], [0.7848919630050659], [0.7769618630409241], [0.6684337854385376], [0.6999845504760742], [0.717911958694458], [0.7540836930274963], [0.5872924327850342], [0.8398948311805725], [0.769237220287323], [0.7582237720489502], [0.8216701149940491], [0.7638511061668396], [0.8450167179107666], [0.8569360971450806], [0.8539633750915527], [0.8643162846565247], [0.7761016488075256], [0.8572828769683838], [0.8682320713996887], [0.771247148513794], [0.849146842956543], [0.7050055265426636], [0.798757016658783], [0.781273603439331], [0.8036103248596191], [0.6986650228500366], [0.8491379618644714], [0.8099069595336914], [0.859260618686676], [0.6210881471633911], [0.7709760069847107], [0.7739288806915283], [0.6947736740112305], [0.8016961216926575], [0.7602992057800293], [0.5434715747833252], [0.8213287591934204], [0.8066653609275818], [0.8019382953643799], [0.7575111985206604], [0.8912162780761719], [0.6056773662567139], [0.8955211639404297], [0.725926399230957], [0.8800218105316162], [0.8781886696815491], [0.7661967873573303], [0.7624640464782715], [0.7405089139938354], [0.8219432830810547], [0.6541309952735901], [0.6328306794166565], [0.760634183883667], [0.7532510161399841], [0.6382842063903809], [0.7990953922271729], [0.7044052481651306], [0.8573035597801208], [0.8411508202552795], [0.8067389130592346], [0.6494689583778381], [0.7915527820587158], [0.7207891941070557], [0.8373355865478516], [0.7054211497306824], [0.7931528091430664], [0.565613865852356], [0.7316749691963196], [0.8315866589546204], [0.7264820337295532], [0.8497771620750427], [0.7051435708999634], [0.7897531986236572], [0.7812114357948303], [0.7955500483512878], [0.7962002754211426], [0.6516205668449402], [0.8003140687942505], [0.8283899426460266], [0.5694613456726074], [0.8420877456665039], [0.8525845408439636], [0.8092597723007202], [0.8588753342628479], [0.7711228132247925], [0.7855985164642334], [0.5783082246780396], [0.6130434274673462], [0.8572166562080383], [0.8016893863677979], [0.8377929329872131], [0.8610436916351318], [0.7817150950431824], [0.7275768518447876], [0.7101526856422424], [0.7186529636383057], [0.6621166467666626], [0.7274370789527893], [0.7898195385932922], [0.88482266664505], [0.7470942735671997], [0.6914103031158447], [0.807259738445282], [0.7123717069625854], [0.7608069777488708], [0.7462872266769409], [0.8933196663856506], [0.7916141152381897], [0.6738384366035461], [0.7843836545944214], [0.7827231287956238], [0.8392181992530823], [0.7274370789527893], [0.7398781776428223], [0.8364638686180115], [0.7270102500915527], [0.8603484630584717], [0.8615152835845947], [0.8424290418624878], [0.8379238843917847], [0.7197139263153076], [0.7584909796714783], [0.8021971583366394], [0.75068199634552], [0.6976300477981567], [0.7239371538162231], [0.6948713660240173], [0.8193992376327515], [0.8595746755599976], [0.5427924990653992], [0.7895416617393494], [0.32905715703964233], [0.864483654499054], [0.8665278553962708], [0.8770609498023987], [0.8339104652404785], [0.6896317601203918], [0.8167099356651306], [0.8058340549468994], [0.7926816940307617], [0.7783393859863281], [0.8258400559425354], [0.806320309638977], [0.7540196776390076], [0.799204409122467], [0.8224022388458252], [0.8216043710708618], [0.8113006353378296], [0.8367149233818054], [0.8610436916351318], [0.8248874545097351], [0.8166927695274353], [0.7891709208488464], [0.8293549418449402], [0.7923200726509094], [0.8739326000213623], [0.8438462018966675], [0.7715305089950562], [0.6781179904937744], [0.6842442750930786], [0.7515649795532227], [0.7607547640800476], [0.8890047073364258], [0.8486096262931824], [0.7962592840194702], [0.7474735975265503], [0.522192656993866], [0.8445539474487305], [0.7605016231536865], [0.8382766842842102], [0.6087431311607361], [0.7911556363105774], [0.7272018790245056], [0.764458179473877], [0.8310571312904358], [0.7637781500816345], [0.6712509989738464], [0.8501390218734741], [0.8567695617675781], [0.7901261448860168], [0.8130907416343689], [0.6691350936889648], [0.7624857425689697], [0.8184121251106262], [0.7799031734466553], [0.7390217185020447], [0.7456135749816895], [0.850835919380188], [0.851871132850647], [0.5887813568115234], [0.8287990689277649], [0.7467602491378784], [0.8514353632926941], [0.8319363594055176], [0.6914067268371582], [0.7792108654975891], [0.7867987751960754], [0.6550704836845398], [0.874750554561615], [0.8032220005989075], [0.8343262076377869], [0.7418272495269775], [0.6970291137695312], [0.865073025226593], [0.7020969986915588], [0.5637698173522949], [0.7900084853172302], [0.8189283013343811], [0.8114627003669739], [0.8907200694084167], [0.8509232401847839], [0.8082947731018066], [0.7146136164665222], [0.8512641191482544], [0.6504892706871033], [0.6467280983924866], [0.8936981558799744], [0.6543028950691223], [0.7772177457809448], [0.7963137030601501], [0.7301380634307861], [0.8201921582221985], [0.7852706909179688], [0.63914954662323], [0.8102036714553833], [0.7101039886474609], [0.7359729409217834], [0.6877617239952087], [0.8252062797546387], [0.7328575253486633], [0.827928364276886], [0.7436636686325073], [0.6676805019378662], [0.8741422891616821], [0.6469648480415344], [0.7796356678009033], [0.8290735483169556], [0.6993078589439392], [0.7269460558891296], [0.8353248834609985], [0.6030480265617371], [0.7063663005828857], [0.6808809638023376], [0.7528319358825684], [0.799636960029602], [0.74290531873703], [0.6083498001098633], [0.8890247344970703], [0.6823004484176636], [0.6935900449752808], [0.7774494290351868], [0.36082980036735535], [0.7809655666351318], [0.8396474719047546], [0.7973206639289856], [0.7751495838165283], [0.8257367610931396], [0.8816946148872375], [0.821281909942627], [0.8218380212783813], [0.8269585371017456], [0.7338274717330933], [0.6254194378852844], [0.7287843823432922], [0.7931450605392456], [0.7833654880523682], [0.804332971572876], [0.8414429426193237], [0.8156740665435791], [0.7172797918319702], [0.8348174691200256], [0.8032649159431458], [0.8659948706626892], [0.7191721796989441], [0.745281994342804], [0.7140659093856812], [0.6595059633255005], [0.7513074278831482], [0.771957516670227], [0.805469274520874], [0.6953086853027344], [0.7958986759185791], [0.7962502241134644], [0.8431647419929504], [0.8363773822784424], [0.719702959060669], [0.8178867697715759], [0.7830232977867126], [0.7719762921333313], [0.7313541769981384], [0.7608133554458618], [0.760206937789917], [0.761053204536438], [0.7793155908584595], [0.7854560613632202], [0.6722630858421326], [0.8030749559402466], [0.6852057576179504], [0.8743252158164978], [0.6985234022140503], [0.8183819055557251], [0.7014967203140259], [0.7502979636192322], [0.8259817957878113], [0.5261576175689697], [0.7971325516700745], [0.6759198307991028], [0.7670005559921265], [0.6848856210708618], [0.7742194533348083], [0.5217615962028503], [0.7254239320755005], [0.8979817032814026], [0.9002773761749268], [0.7755928039550781], [0.8526893854141235], [0.8592700362205505], [0.7558651566505432], [0.8467789888381958], [0.720859169960022], [0.8052912950515747], [0.7348014712333679], [0.7770289778709412], [0.653897762298584], [0.7664374709129333], [0.8099856376647949], [0.8330457210540771], [0.7443881630897522], [0.7867971658706665], [0.778886616230011], [0.7769618630409241], [0.8206263780593872], [0.6956973671913147], [0.6108204126358032], [0.7798058390617371], [0.8846758604049683], [0.7076816558837891], [0.7071748971939087], [0.7901583909988403], [0.7577300071716309], [0.776322603225708], [0.8446347713470459], [0.6104655861854553], [0.7728674411773682], [0.7546133995056152], [0.7759622931480408], [0.7816224098205566], [0.6360457539558411], [0.6933673024177551], [0.8719961643218994], [0.8744884729385376], [0.7769991159439087], [0.841780424118042], [0.8594202399253845], [0.7742915153503418], [0.797434389591217], [0.8238263726234436], [0.7220369577407837], [0.6096636652946472], [0.6791602969169617], [0.4918179214000702], [0.8598794341087341], [0.7124643921852112], [0.8169047236442566], [0.7700620889663696], [0.6021172404289246], [0.8655943870544434], [0.7012020945549011], [0.8296898007392883], [0.6326725482940674], [0.7182930707931519], [0.8065872192382812], [0.4022395610809326], [0.7390464544296265], [0.7321553230285645], [0.7287276983261108], [0.859828531742096], [0.7404824495315552], [0.496946781873703], [0.8390470147132874], [0.806826651096344], [0.6990163922309875], [0.7876282930374146], [0.8442477583885193], [0.7133164405822754], [0.8456953167915344], [0.7792863845825195], [0.721490740776062], [0.634870707988739], [0.7180685997009277], [0.8500906825065613], [0.7234938740730286], [0.8270975947380066], [0.7675004601478577], [0.8777955770492554], [0.6505123972892761], [0.780663013458252], [0.8075340986251831], [0.7321007251739502], [0.6057870984077454], [0.7588812112808228], [0.8096280694007874], [0.8185368180274963], [0.7790447473526001], [0.8360578417778015], [0.7786704897880554], [0.7533696293830872], [0.8021466732025146], [0.7648905515670776], [0.8740178942680359], [0.6571059226989746], [0.8062769770622253], [0.7577657103538513], [0.7333790063858032], [0.8538203239440918], [0.7008618116378784], [0.7955500483512878], [0.743431031703949], [0.7032963633537292], [0.833625078201294], [0.6968690752983093], [0.7868998646736145], [0.6202905178070068], [0.795857846736908], [0.8125481605529785], [0.8718754649162292], [0.8209986686706543], [0.7763193249702454], [0.7756578922271729], [0.733257532119751], [0.8455158472061157], [0.8700966835021973], [0.8447909355163574], [0.8644034266471863], [0.807016134262085], [0.7011850476264954], [0.8580434918403625], [0.790473461151123], [0.769237220287323], [0.5721877813339233], [0.8427722454071045], [0.7633112072944641], [0.6651516556739807], [0.7160089612007141], [0.7711159586906433], [0.8216598629951477], [0.8626443147659302], [0.7817162275314331], [0.8376023769378662], [0.7724241018295288], [0.8131232857704163], [0.7259216904640198], [0.7430667281150818], [0.78489089012146], [0.7333407998085022], [0.7955299615859985], [0.7557496428489685], [0.7808257341384888], [0.7188303470611572], [0.8131963610649109], [0.7727848887443542], [0.8321027159690857], [0.7846193313598633], [0.8216720819473267], [0.7302986979484558], [0.8073378801345825], [0.7086118459701538], [0.7702515721321106], [0.7554574012756348], [0.8225642442703247], [0.6198535561561584], [0.7976374626159668], [0.7931064963340759], [0.7706277966499329], [0.7081354260444641], [0.7000858783721924], [0.6005816459655762], [0.8023390769958496], [0.8250716924667358], [0.7471916675567627], [0.8856201767921448], [0.6210114359855652], [0.7557350993156433], [0.8159898519515991], [0.7162075042724609], [0.7224104404449463], [0.7197331190109253], [0.6442726850509644], [0.8104385733604431], [0.7867957353591919], [0.6795315146446228], [0.8294479846954346], [0.7447786927223206], [0.892975389957428], [0.8262504935264587], [0.8241682648658752], [0.7984308004379272], [0.8082482814788818], [0.8348174691200256], [0.7365201115608215], [0.8747862577438354], [0.8054103851318359], [0.669189989566803], [0.8511888980865479], [0.8016794919967651], [0.6783435940742493], [0.8090928792953491], [0.8411047458648682], [0.8121756911277771], [0.7175298929214478], [0.7361348271369934], [0.8149349689483643], [0.8583000898361206], [0.7604297995567322], [0.8159789443016052], [0.8140707612037659], [0.7280416488647461], [0.7963646054267883], [0.6616610884666443], [0.668584942817688], [0.7837632894515991], [0.7092066407203674], [0.8111752867698669], [0.7797210216522217], [0.8076836466789246], [0.7559857964515686], [0.7785465121269226], [0.8656803965568542], [0.8374354839324951], [0.7800285816192627], [0.8737022280693054], [0.812263548374176], [0.7703801989555359], [0.8114309310913086], [0.6409150958061218], [0.7731546759605408], [0.7381880283355713], [0.7358520030975342], [0.7441709637641907], [0.7988684773445129], [0.7936673164367676], [0.7329651713371277], [0.8508837223052979], [0.7252784371376038], [0.8294963836669922], [0.7568241953849792], [0.7703012228012085], [0.8297432661056519], [0.8081306219100952], [0.7581678032875061], [0.7637171149253845], [0.6411009430885315], [0.7419977188110352], [0.7631565928459167], [0.7670351266860962], [0.8504810333251953], [0.727430522441864], [0.8210297226905823], [0.7484670877456665], [0.6922687888145447], [0.7777901887893677], [0.8284114599227905], [0.7873238921165466], [0.7693318724632263], [0.6013664603233337], [0.6500028967857361], [0.7924732565879822], [0.8020647168159485], [0.7639392018318176], [0.7867987751960754], [0.7804076075553894], [0.7182629704475403], [0.8029921650886536], [0.7086105942726135], [0.7530006766319275], [0.8115535378456116], [0.8845927715301514], [0.8153473734855652], [0.8209418654441833], [0.7807130813598633], [0.8527002334594727], [0.8513873815536499], [0.8136568069458008], [0.6938093304634094], [0.7595738172531128], [0.7806134223937988], [0.3838103711605072], [0.8324609994888306], [0.6240877509117126], [0.73222416639328], [0.8268455862998962], [0.8039900660514832], [0.7935050129890442], [0.6772613525390625], [0.7188841104507446], [0.8302428722381592], [0.833304762840271], [0.8122534155845642], [0.6922654509544373], [0.8002855777740479], [0.717756450176239], [0.8583480715751648], [0.7668396830558777], [0.5946409702301025], [0.839540421962738], [0.7429447770118713], [0.8530450463294983], [0.7967352867126465], [0.7172157764434814], [0.7447587847709656], [0.8237443566322327], [0.7692163586616516], [0.7811489701271057], [0.5749363303184509], [0.7968904376029968], [0.8573684692382812], [0.7271906733512878], [0.8217442035675049], [0.6970692873001099], [0.830585241317749], [0.8284768462181091], [0.7113800644874573], [0.7117475271224976], [0.646670937538147], [0.6408228874206543], [0.8087418079376221], [0.8562244176864624], [0.6979459524154663], [0.8617342114448547], [0.7227209806442261], [0.7754635214805603], [0.7489970922470093], [0.6871634721755981], [0.7867904901504517], [0.6883683800697327], [0.7640509605407715], [0.7568778991699219], [0.6325557231903076], [0.8009805083274841], [0.8314262628555298], [0.7287989854812622], [0.8620225191116333], [0.8239096999168396], [0.790065348148346], [0.7092849612236023], [0.730218768119812], [0.7941415309906006], [0.7618851661682129], [0.8046239018440247], [0.7226889729499817], [0.8256977796554565], [0.7541428208351135], [0.8849073052406311], [0.7988612055778503], [0.773350715637207], [0.6781923770904541], [0.8938341736793518], [0.8370196223258972], [0.7919690012931824], [0.6311669945716858], [0.8075194954872131], [0.8182620406150818], [0.8468351364135742], [0.7000514268875122], [0.8681731224060059], [0.8250901699066162], [0.7759672403335571], [0.8648664951324463], [0.8201442360877991], [0.6839449405670166], [0.7997195720672607], [0.8265000581741333], [0.5853003859519958], [0.7066917419433594], [0.7517662644386292], [0.7897672057151794], [0.7025488018989563], [0.7849482893943787], [0.7276558876037598], [0.5402446389198303], [0.7469387054443359], [0.741901159286499], [0.5118280649185181], [0.7414974570274353], [0.8453026413917542], [0.8067838549613953], [0.618341326713562], [0.8044759631156921], [0.6962411403656006], [0.8490433692932129], [0.8263983726501465], [0.7386316061019897], [0.6958897709846497], [0.7205332517623901], [0.8743420839309692], [0.8843737244606018], [0.7459203004837036], [0.8837738037109375], [0.8583807945251465], [0.8085514903068542], [0.7790427207946777], [0.6758550405502319], [0.6181506514549255], [0.7925291657447815], [0.8580141067504883], [0.8192729949951172], [0.7430828809738159], [0.7781659960746765], [0.8189586400985718], [0.7165424823760986], [0.8240220546722412], [0.8670137524604797], [0.743892252445221], [0.708846390247345], [0.8023698329925537], [0.7830361127853394], [0.7382205128669739], [0.8349913954734802], [0.6800951957702637], [0.8515797853469849], [0.8628566265106201], [0.7850634455680847], [0.7136355042457581], [0.8225316405296326], [0.7257548570632935], [0.7799031734466553], [0.7767230272293091], [0.8154266476631165], [0.6600388288497925], [0.7675986886024475], [0.6559051275253296], [0.6796702742576599], [0.63157057762146], [0.8764646649360657], [0.7390015721321106], [0.5937696695327759], [0.5494205355644226], [0.6809765696525574], [0.7711218595504761], [0.6776013374328613], [0.8525845408439636], [0.7123717069625854], [0.7317183017730713], [0.45823606848716736], [0.7840088605880737], [0.8320040702819824], [0.7353642582893372], [0.7636550664901733], [0.7341261506080627], [0.7834485769271851], [0.6589688658714294], [0.8690366148948669], [0.7887903451919556], [0.8427196145057678], [0.7218053340911865], [0.7348092794418335], [0.6721909046173096], [0.800361156463623], [0.8904776573181152], [0.6897647380828857], [0.7344139814376831], [0.7245758175849915], [0.4942651391029358], [0.8083702325820923], [0.6300665140151978], [0.8351497054100037], [0.8327924013137817], [0.8357277512550354], [0.8086342215538025], [0.7133253812789917], [0.6744785308837891], [0.7309637069702148], [0.7547317147254944], [0.7458839416503906], [0.7420753836631775], [0.8295740485191345], [0.7689613103866577], [0.7085691690444946], [0.7745141983032227], [0.9006954431533813], [0.8082482814788818], [0.8204355835914612], [0.7889863848686218], [0.8083432912826538], [0.8284205794334412], [0.8207326531410217], [0.7863215804100037], [0.6807250380516052], [0.8357548117637634], [0.655047595500946], [0.7599652409553528], [0.7125734686851501], [0.7751697301864624], [0.7881941795349121], [0.7545161247253418], [0.678328812122345], [0.8299355506896973], [0.7178317904472351], [0.7625213265419006], [0.8087781667709351], [0.8461180925369263], [0.8196609616279602], [0.7649785280227661], [0.6979923248291016], [0.8491505980491638], [0.8210745453834534], [0.7876362204551697], [0.7304874658584595], [0.8212714791297913], [0.6961495876312256], [0.8571310043334961], [0.7740468382835388], [0.8327204585075378], [0.6837517619132996], [0.7766824960708618], [0.780850887298584], [0.8324825167655945], [0.7404321432113647], [0.6797325611114502], [0.7327602505683899], [0.6995487809181213], [0.7690989971160889], [0.8442866206169128], [0.8075433373451233], [0.695455014705658], [0.6976155638694763], [0.6240877509117126], [0.7356657385826111], [0.7693549394607544], [0.7546480298042297], [0.776882529258728], [0.6916167736053467], [0.7636249661445618], [0.748299241065979], [0.6967255473136902], [0.8543723821640015], [0.587497889995575], [0.7431730031967163], [0.8502893447875977], [0.7856618762016296], [0.6530927419662476], [0.7197112441062927], [0.7697591781616211], [0.7898738384246826], [0.8363840579986572], [0.9016025066375732], [0.7848802804946899], [0.8389042615890503], [0.8165337443351746], [0.622489869594574], [0.7300863265991211], [0.6718465685844421], [0.6873865723609924], [0.7155737280845642], [0.8431455492973328], [0.7750561833381653], [0.6677812337875366], [0.831229567527771], [0.7333744764328003], [0.7786722779273987], [0.86245197057724], [0.7748621106147766], [0.8077221512794495], [0.8517868518829346], [0.7581700682640076], [0.8162625432014465], [0.8392181992530823], [0.7899279594421387], [0.8139735460281372], [0.7878619432449341], [0.7047408819198608], [0.7814328074455261], [0.6218059062957764], [0.6877301931381226], [0.8465870022773743], [0.6224753856658936], [0.8193951845169067], [0.8590423464775085], [0.8327952027320862], [0.752467930316925], [0.7372152209281921], [0.8137187361717224], [0.8238953351974487], [0.8196906447410583], [0.7469123601913452], [0.7768078446388245], [0.7828270196914673], [0.8206045031547546], [0.815904438495636], [0.6893188953399658], [0.8274850845336914], [0.7475227117538452], [0.5664492845535278], [0.8105566501617432], [0.7346584796905518], [0.8348128795623779], [0.7520505785942078], [0.7036210298538208], [0.8245067596435547], [0.6560348272323608], [0.7538378834724426], [0.7945809960365295], [0.8135825395584106], [0.771284282207489], [0.781700074672699], [0.8019353151321411], [0.7995229959487915], [0.7786398530006409], [0.708537220954895], [0.8570210337638855], [0.7287573218345642], [0.7300634980201721], [0.7288588881492615], [0.7073328495025635], [0.8245471715927124], [0.6974923610687256], [0.7437548637390137], [0.8655744194984436], [0.7204851508140564], [0.6414809823036194], [0.8474169969558716], [0.6992193460464478], [0.7472676038742065], [0.804073691368103], [0.8123121857643127], [0.858129620552063], [0.8395050168037415], [0.8231218457221985], [0.8016442656517029], [0.7677012085914612], [0.8163717985153198], [0.7651123404502869], [0.6185540556907654], [0.8521820306777954], [0.7468951940536499], [0.7500743865966797], [0.7901929616928101], [0.6797063946723938], [0.7619794011116028], [0.7071370482444763], [0.637567400932312], [0.6530594229698181], [0.6026883125305176], [0.7447496652603149], [0.799636960029602], [0.6872380971908569], [0.7653506398200989], [0.7759562134742737], [0.8488740921020508], [0.8003779649734497], [0.8032772541046143], [0.6130473017692566], [0.8236388564109802], [0.7921451330184937], [0.7715803980827332], [0.8690940737724304], [0.8397728204727173], [0.7148137092590332], [0.8394238352775574], [0.7882500886917114], [0.7678074836730957], [0.6865479350090027], [0.7791454792022705], [0.8179735541343689], [0.7336221933364868], [0.7312472462654114], [0.7871155142784119], [0.7045786380767822], [0.6663418412208557], [0.7441470623016357], [0.7661967873573303], [0.7607106566429138], [0.8256863951683044], [0.7313702702522278], [0.7628360390663147], [0.7325389385223389], [0.8352647423744202], [0.7902037501335144], [0.6792240738868713], [0.8316133618354797], [0.8120326995849609], [0.8166074752807617], [0.7493447065353394], [0.6852057576179504], [0.8173718452453613], [0.6499965190887451], [0.6826138496398926], [0.8294079303741455], [0.8744884729385376], [0.771104097366333], [0.7491440773010254], [0.826282262802124], [0.7943727970123291], [0.8401524424552917], [0.7461144328117371], [0.8615308403968811], [0.7929747104644775], [0.7597594261169434], [0.8319087028503418], [0.7500914335250854], [0.8494051694869995], [0.8404760360717773], [0.7852922081947327], [0.8475168347358704], [0.7593843340873718], [0.7780122756958008], [0.7135816216468811], [0.8080534338951111], [0.6444448828697205], [0.6193863153457642], [0.6978579759597778], [0.8272379040718079], [0.7794421911239624], [0.8135826587677002], [0.6907464265823364], [0.7668238878250122], [0.7410285472869873], [0.815268874168396], [0.7150182127952576], [0.7317063808441162], [0.7342165112495422], [0.7252880334854126], [0.8159882426261902], [0.7573795318603516], [0.8375221490859985], [0.8309677243232727], [0.7702574133872986], [0.7029160261154175], [0.8795731067657471], [0.7576781511306763], [0.8071849346160889], [0.7247899770736694], [0.7105600237846375], [0.8110939860343933], [0.7381097078323364], [0.8138542771339417], [0.8239632844924927], [0.7709852457046509], [0.7876879572868347], [0.7082179188728333], [0.8276150226593018], [0.6301447153091431], [0.8969900608062744], [0.6565394401550293], [0.8425118327140808], [0.708537220954895], [0.7088189721107483], [0.595588207244873], [0.5319823026657104], [0.7249854207038879], [0.8177914023399353], [0.7808411717414856], [0.7679722309112549], [0.8561362028121948], [0.6933197379112244], [0.7698037028312683], [0.792759358882904], [0.7909913063049316], [0.7960636615753174], [0.760634183883667], [0.7318270206451416], [0.7314774394035339], [0.6811062693595886], [0.7011686563491821], [0.8357126116752625], [0.758016049861908], [0.86296147108078], [0.7387362122535706], [0.7940255999565125], [0.8594577312469482], [0.8619552850723267], [0.7151495814323425], [0.7321366667747498], [0.7420777082443237], [0.7044410705566406], [0.5993046164512634], [0.5673609375953674], [0.8348657488822937], [0.8245856761932373], [0.8134640455245972], [0.6873940229415894], [0.74076908826828], [0.7365555167198181], [0.6437259316444397], [0.8000379800796509], [0.7426477074623108], [0.6527148485183716], [0.8347916603088379], [0.6453493237495422], [0.8105606436729431], [0.8211864829063416], [0.810717761516571], [0.8223885893821716], [0.8364638686180115], [0.8390721082687378], [0.7235243916511536], [0.7892084121704102], [0.8361220359802246], [0.6562657356262207], [0.8129085898399353], [0.6956712007522583], [0.7957481145858765], [0.5867282748222351], [0.6912519335746765], [0.8585709929466248], [0.8284988403320312], [0.7741533517837524], [0.7979599237442017], [0.7383363246917725], [0.7640716433525085], [0.8036523461341858], [0.7238863110542297], [0.7124215960502625], [0.7244716286659241], [0.7578080296516418], [0.8336346745491028], [0.8357514142990112], [0.6892214417457581], [0.8684587478637695], [0.7858871817588806], [0.7947320938110352], [0.7800056338310242], [0.4076870083808899], [0.7678999900817871], [0.8010322451591492], [0.7271792888641357], [0.8086035847663879], [0.7891635894775391], [0.7865822911262512], [0.8325725793838501], [0.8151186108589172], [0.7811452150344849], [0.7880917191505432], [0.7232728004455566], [0.8449626564979553], [0.7461472749710083], [0.7483506202697754], [0.7327734231948853], [0.7361072301864624], [0.7224084138870239], [0.8129918575286865], [0.8164412975311279], [0.7149393558502197], [0.7344009280204773], [0.6538702249526978], [0.8205959796905518], [0.7058839201927185], [0.84004807472229], [0.7354989051818848], [0.7452366352081299], [0.7756589651107788], [0.7037031054496765], [0.7848854064941406], [0.8116891384124756], [0.6757605671882629], [0.7332057356834412], [0.8326930403709412], [0.8261317610740662], [0.6801884174346924], [0.674322247505188], [0.7418805956840515], [0.7575411796569824], [0.892869770526886], [0.6939007043838501], [0.8047678470611572], [0.7767353057861328], [0.756675660610199], [0.8463597893714905], [0.834887683391571], [0.7812208533287048], [0.8379997611045837], [0.8288763761520386], [0.7498599290847778], [0.710402250289917], [0.7849569320678711], [0.6824988722801208], [0.8382195830345154], [0.6542879343032837], [0.8131438493728638], [0.8222138285636902], [0.8422753810882568], [0.771716296672821], [0.8675895929336548], [0.8397643566131592], [0.786665141582489], [0.7421678900718689], [0.799760639667511], [0.7507061958312988], [0.7841681241989136], [0.8243117332458496], [0.5380282998085022], [0.6982498168945312], [0.8096775412559509], [0.8320847153663635], [0.7268017530441284], [0.7791668772697449], [0.7358962893486023], [0.6777132749557495], [0.7185171842575073], [0.8221296072006226], [0.7581989765167236], [0.8037782311439514], [0.4355332851409912], [0.8009966015815735], [0.6240887641906738], [0.8024687767028809], [0.6777132749557495], [0.6693854331970215], [0.6902851462364197], [0.846668541431427], [0.7559195160865784], [0.7838078141212463], [0.7828748226165771], [0.8712870478630066], [0.7802408337593079], [0.7849071025848389], [0.8132805228233337], [0.7796053290367126], [0.6951684355735779], [0.7871546149253845], [0.32905715703964233], [0.5884701609611511], [0.8042312860488892], [0.7795758247375488], [0.6930828094482422], [0.740315318107605], [0.789939284324646], [0.687979519367218], [0.7097137570381165], [0.6384018659591675], [0.7784693837165833], [0.7581196427345276], [0.7133933305740356], [0.7859721779823303], [0.8467408418655396], [0.8604124188423157], [0.7659963369369507], [0.6224423050880432], [0.755897581577301], [0.7581819295883179], [0.8583000898361206], [0.7264820337295532], [0.8294591903686523], [0.8249120116233826], [0.7997075319290161], [0.5218185186386108], [0.7768510580062866], [0.8502010107040405], [0.8300946950912476], [0.7268273234367371], [0.6114983558654785], [0.8720687031745911], [0.7543672919273376], [0.7697845101356506], [0.7956693768501282], [0.6729822158813477], [0.5481124520301819], [0.802729070186615], [0.6792240738868713], [0.8010296821594238], [0.8119579553604126], [0.6255775690078735], [0.7867707014083862], [0.7090500593185425], [0.8083702325820923], [0.8027879595756531], [0.7823017239570618], [0.8406279683113098], [0.6677217483520508], [0.7384182214736938], [0.7176662683486938], [0.7878463268280029], [0.6555336713790894], [0.8532141447067261], [0.7281529903411865], [0.785082221031189], [0.7703651189804077], [0.8392425775527954], [0.7797946929931641], [0.9037163257598877], [0.8998172283172607], [0.7602348923683167], [0.7964677810668945], [0.8045244216918945], [0.7306371927261353], [0.8310344219207764], [0.7800083160400391], [0.7858738303184509], [0.6629495024681091], [0.7665882706642151], [0.8332090377807617], [0.7976164221763611], [0.7783055305480957], [0.6783506870269775], [0.6477032899856567], [0.6939260959625244], [0.7832122445106506], [0.6950007677078247], [0.8255861401557922], [0.8681276440620422], [0.7917072176933289], [0.5455822944641113], [0.8229268789291382], [0.7816224098205566], [0.7578080296516418], [0.8413116931915283], [0.8297247886657715], [0.8457642197608948], [0.8495098948478699], [0.6685507893562317], [0.7876635789871216], [0.7596371173858643], [0.6699846982955933], [0.8545916676521301], [0.7319042682647705], [0.7592460513114929], [0.6508017778396606], [0.7167039513587952], [0.7555837035179138], [0.7360171675682068], [0.8245389461517334], [0.8086235523223877], [0.7159690856933594], [0.8368179202079773], [0.7123810052871704], [0.8939447402954102], [0.823266863822937], [0.8506471514701843], [0.820705771446228], [0.8110939860343933], [0.8321073055267334], [0.7415872812271118], [0.8237251043319702], [0.8533526062965393], [0.7210320234298706], [0.8585709929466248], [0.7261257767677307], [0.8351404666900635], [0.8504138588905334], [0.8569227457046509], [0.6745896339416504], [0.6720193028450012], [0.7974457740783691], [0.7854896187782288], [0.8594202399253845], [0.6263749599456787], [0.6300414204597473], [0.7423218488693237], [0.7826642990112305], [0.7423506379127502], [0.8885904550552368], [0.7854678630828857], [0.8096068501472473], [0.7644831538200378], [0.7870175838470459], [0.6601988077163696], [0.6945945024490356], [0.7931330800056458], [0.7748896479606628], [0.7490501999855042], [0.7701801061630249], [0.6755478978157043], [0.8254269361495972], [0.8173527121543884], [0.7807032465934753], [0.7901313900947571], [0.791172444820404], [0.8098123073577881], [0.8315786719322205], [0.795622706413269], [0.7110636830329895], [0.7706261873245239], [0.794935941696167], [0.7394307851791382], [0.6970291137695312], [0.759028971195221], [0.8683643937110901], [0.8202638030052185], [0.7585251331329346], [0.7725430727005005], [0.7091308832168579], [0.7306644916534424], [0.7771953344345093], [0.8415600061416626], [0.8052956461906433], [0.7860998511314392], [0.7253941297531128], [0.7436710596084595], [0.7052459120750427], [0.8300104141235352], [0.6597424149513245], [0.785247802734375], [0.6979923248291016], [0.7686353325843811], [0.7388744950294495], [0.7558807134628296], [0.8569360971450806], [0.8144394755363464], [0.8292253613471985], [0.8171547055244446], [0.8010001182556152], [0.8421047329902649], [0.8328415751457214], [0.7195630073547363], [0.7047179937362671], [0.7472717761993408], [0.8059369921684265], [0.7299228310585022], [0.7534531354904175], [0.8681638240814209], [0.7288668751716614], [0.844178318977356], [0.8351090550422668], [0.8768101334571838], [0.7574878334999084], [0.6088829040527344], [0.7401368618011475], [0.7788623571395874], [0.8584290146827698], [0.7354956865310669], [0.7702547907829285], [0.7542349100112915], [0.8465768694877625], [0.7596420049667358], [0.7815902829170227], [0.7992192506790161], [0.7560727000236511], [0.7429167032241821], [0.7987436056137085], [0.8609947562217712], [0.8210567235946655], [0.7943495512008667], [0.6753314137458801], [0.8399749398231506], [0.8196741342544556], [0.7660074830055237], [0.8353248834609985], [0.7939168810844421], [0.6121167540550232], [0.778673529624939], [0.8310344219207764], [0.7108115553855896], [0.7740851640701294], [0.759694516658783], [0.790344774723053], [0.813715934753418], [0.8024687767028809], [0.868849515914917], [0.7931034564971924], [0.7553326487541199], [0.8001364469528198], [0.7068673968315125], [0.8602884411811829], [0.3913816511631012], [0.7817530632019043], [0.8284114599227905], [0.7952125072479248], [0.6505762934684753], [0.7134168148040771], [0.7879688143730164], [0.7851648330688477], [0.7227464914321899], [0.778948187828064], [0.770455002784729], [0.827764630317688], [0.7482518553733826], [0.6492981314659119], [0.8629411458969116], [0.7245617508888245], [0.7979825735092163], [0.8063127994537354], [0.6398841142654419], [0.8704280257225037], [0.7798683643341064], [0.7978889346122742], [0.79116290807724], [0.6876911520957947], [0.8452544808387756], [0.7425634860992432], [0.752065122127533], [0.8411300778388977], [0.7535660862922668], [0.8498294949531555], [0.7451066374778748], [0.7416599988937378], [0.7896743416786194], [0.5408840775489807], [0.7325245141983032], [0.8237019181251526], [0.7535508871078491], [0.8383715748786926], [0.8143664598464966], [0.7882054448127747], [0.7606841921806335], [0.5453145503997803], [0.8446267247200012], [0.7466418147087097], [0.7929314374923706], [0.7784121632575989], [0.8191322684288025], [0.5951538681983948], [0.8249680995941162], [0.8099709153175354], [0.7437479496002197], [0.7909918427467346], [0.7012054324150085], [0.7555505633354187], [0.8748174905776978], [0.698741614818573], [0.7930752635002136], [0.7237770557403564], [0.8027089834213257], [0.7489550709724426], [0.7822368741035461], [0.6003916263580322], [0.8119814991950989], [0.803004264831543], [0.7330663204193115], [0.46527087688446045], [0.6873227953910828], [0.5949139595031738], [0.6181062459945679], [0.7881208062171936], [0.8023567199707031], [0.8308659791946411], [0.7396565079689026], [0.7457352876663208], [0.8562522530555725], [0.6473054885864258], [0.8264316320419312], [0.7235243916511536], [0.7665901184082031], [0.8278483748435974], [0.7959883213043213], [0.7607957720756531], [0.8782925605773926], [0.8166338205337524], [0.7821813225746155], [0.7074743509292603], [0.9022659659385681], [0.6363195776939392], [0.7657238841056824], [0.7502381801605225], [0.795850932598114], [0.664075493812561], [0.8157899379730225], [0.8437852263450623], [0.7792722582817078], [0.812762439250946], [0.7758053541183472], [0.47172385454177856], [0.8194183111190796], [0.7509191036224365], [0.7291402220726013], [0.7250475883483887], [0.8258400559425354], [0.6983658671379089], [0.7338274717330933], [0.8249303698539734], [0.8326014876365662], [0.8264117240905762], [0.7280092835426331], [0.7579839825630188], [0.6455509662628174], [0.7588067650794983], [0.7883527874946594], [0.7600648403167725], [0.8493403196334839], [0.8354137539863586], [0.8370456695556641], [0.8816697597503662], [0.7950079441070557], [0.681241512298584], [0.7833727598190308], [0.7565126419067383], [0.8453023433685303], [0.8320804834365845], [0.7812985777854919], [0.8234730362892151], [0.7673501968383789], [0.7863597273826599], [0.5424017906188965], [0.6733758449554443], [0.8030991554260254], [0.7783572673797607], [0.788926899433136], [0.7541019320487976], [0.7073730230331421], [0.8434649705886841], [0.7344847321510315], [0.7434999346733093], [0.8194047212600708], [0.7812768220901489], [0.8007628917694092], [0.8821249604225159], [0.8098335862159729], [0.6523759961128235], [0.8358725905418396], [0.738168478012085], [0.7507869601249695], [0.8772942423820496], [0.8073463439941406], [0.7411591410636902], [0.8764654397964478], [0.860943078994751], [0.8396317958831787], [0.7973276376724243], [0.8429820537567139], [0.6066855788230896], [0.7159906625747681], [0.8353341221809387], [0.7246555089950562], [0.5799557566642761], [0.8214640021324158], [0.807515561580658], [0.7920435667037964], [0.7858617305755615], [0.5323993563652039], [0.774913489818573], [0.8038875460624695], [0.7626659274101257], [0.7206971645355225], [0.872288703918457], [0.7593828439712524], [0.7164667844772339], [0.7354699969291687], [0.7529617547988892], [0.7168053388595581], [0.8402830362319946], [0.7245060205459595], [0.7120205163955688], [0.714915931224823], [0.8594771027565002], [0.7517277002334595], [0.8574826717376709], [0.7935624718666077], [0.7597964406013489], [0.7903127074241638], [0.6219130754470825], [0.8644744753837585], [0.7335081100463867], [0.7126227617263794], [0.8712054491043091], [0.768247127532959], [0.8347517251968384], [0.8386868834495544], [0.8289791941642761], [0.7794638872146606], [0.7895476818084717], [0.761256754398346], [0.7947254180908203], [0.777812659740448], [0.832508385181427], [0.851476788520813], [0.8512316346168518], [0.7220929861068726], [0.8146019577980042], [0.8079909086227417], [0.7415118217468262], [0.826899528503418], [0.8290574550628662], [0.80608069896698], [0.7879502773284912], [0.79019695520401], [0.8401814103126526], [0.6713650226593018], [0.7822840213775635], [0.7987489700317383], [0.5678801536560059], [0.7112997770309448], [0.8108553290367126], [0.7824121117591858], [0.7028630375862122], [0.7960615754127502], [0.8163354396820068], [0.6780230402946472], [0.8439558744430542], [0.8032890558242798], [0.8429648280143738], [0.6379886865615845], [0.7101535797119141], [0.8002809286117554], [0.8268247842788696], [0.8280353546142578], [0.7840973734855652], [0.7490725517272949], [0.6774904727935791], [0.7571132183074951], [0.8118639588356018], [0.8262814283370972], [0.7915111780166626], [0.7722721099853516], [0.7498844265937805], [0.830585241317749], [0.8136204481124878], [0.8152399659156799], [0.7874775528907776], [0.7852706909179688], [0.7824751138687134], [0.8286310434341431], [0.7988669872283936], [0.7611674070358276], [0.8359584808349609], [0.7089040875434875], [0.6400776505470276], [0.7692188024520874], [0.9248619675636292], [0.7061850428581238], [0.7841320633888245], [0.7693549394607544], [0.8397320508956909], [0.7570366263389587], [0.7965749502182007], [0.8102637529373169], [0.7896009087562561], [0.7737471461296082], [0.6822842955589294], [0.7080210447311401], [0.7415615916252136], [0.7384833693504333], [0.8110673427581787], [0.7835388779640198], [0.7567643523216248], [0.7658922076225281], [0.6879796385765076], [0.7960879802703857], [0.7845250964164734], [0.7095997929573059], [0.8351820111274719], [0.639695942401886], [0.7305676937103271], [0.5974454879760742], [0.7731547355651855], [0.8354710340499878], [0.7800056338310242], [0.8305163383483887], [0.8010166883468628], [0.7857317924499512], [0.8286863565444946], [0.7069683074951172], [0.8362339735031128], [0.7791531085968018], [0.6645373106002808], [0.707747757434845], [0.8859691619873047], [0.6371399760246277], [0.7916315793991089], [0.7446469664573669], [0.6713635921478271], [0.8509225249290466], [0.7199781537055969], [0.7701799273490906], [0.8457971811294556], [0.8722814917564392], [0.7380555272102356], [0.7539728879928589], [0.7952269911766052], [0.8475306034088135], [0.7019273042678833], [0.7649365067481995], [0.7051577568054199], [0.7802632451057434], [0.7109744548797607], [0.7416707277297974], [0.7593357563018799], [0.7813737392425537], [0.7523390054702759], [0.6893256306648254], [0.6559450626373291], [0.7364028692245483], [0.7351117730140686], [0.773352324962616], [0.7912099361419678], [0.8040428161621094], [0.761854350566864], [0.8355298042297363], [0.7872260808944702], [0.7995800375938416], [0.7874215245246887], [0.8112043142318726], [0.7529104351997375], [0.7202506065368652], [0.7949802875518799], [0.7720349431037903], [0.7711327075958252], [0.7381569743156433], [0.7853953242301941], [0.5280076265335083], [0.7400888800621033], [0.759617805480957], [0.842936098575592], [0.702356219291687], [0.792074978351593], [0.8156406879425049], [0.7207378149032593], [0.8357102870941162], [0.6683725118637085], [0.883833646774292], [0.8040223717689514], [0.8656137585639954], [0.8046161532402039], [0.8066926002502441], [0.7454996705055237], [0.6181358098983765], [0.8078583478927612], [0.7850016951560974], [0.6491260528564453], [0.7392913699150085], [0.7592257857322693], [0.7056492567062378], [0.7663290500640869], [0.8381204605102539], [0.7442365884780884], [0.727504312992096], [0.7725455164909363], [0.695719838142395], [0.8709030151367188], [0.6506184935569763], [0.7390154004096985], [0.7499141097068787], [0.7103351354598999], [0.8076704740524292], [0.8357224464416504], [0.7493950128555298], [0.8763225078582764], [0.8422900438308716], [0.8129354119300842], [0.7793281674385071], [0.7134749293327332], [0.735060453414917], [0.693314790725708], [0.7771493792533875], [0.8189457058906555], [0.7194700837135315], [0.7471194267272949], [0.6966122984886169], [0.7574446797370911], [0.7677291631698608], [0.6844788789749146], [0.6117018461227417], [0.7858617305755615], [0.7986509799957275], [0.8813260793685913], [0.8261404633522034], [0.7313580513000488], [0.6469429731369019], [0.742392361164093], [0.8511403203010559], [0.7960621118545532], [0.7733446359634399], [0.8486063480377197], [0.871549129486084], [0.6543028950691223], [0.7239241003990173], [0.8172805309295654], [0.8466184735298157], [0.6916627883911133], [0.722230851650238], [0.6685137152671814], [0.6985909938812256], [0.7702906131744385], [0.7850335836410522], [0.8814860582351685], [0.7275768518447876], [0.6307527422904968], [0.8295730352401733], [0.8267799615859985], [0.7302259802818298], [0.6675834059715271], [0.7475236058235168], [0.7702606320381165], [0.5800491571426392], [0.8694568276405334], [0.6706784963607788], [0.7048501372337341], [0.7575806379318237], [0.8615152835845947], [0.8608682155609131], [0.820676326751709], [0.8354740142822266], [0.8646620512008667], [0.7930777072906494], [0.758298933506012], [0.7665882706642151], [0.5880247354507446], [0.6833868622779846], [0.6420472860336304], [0.7867971658706665], [0.744439959526062], [0.6493041515350342], [0.8084142804145813], [0.8321098685264587], [0.7954363226890564], [0.6278516054153442], [0.7341089248657227], [0.7998260259628296], [0.8918254971504211], [0.6335427761077881], [0.622858464717865], [0.7027135491371155], [0.6643502712249756], [0.8183596730232239], [0.5984680652618408], [0.8512306213378906], [0.8455597758293152], [0.7148340940475464], [0.7094929218292236], [0.8188843727111816], [0.8157275319099426], [0.713968813419342], [0.7684763669967651], [0.8565239310264587], [0.8504138588905334], [0.7180371880531311], [0.6877856850624084], [0.8209547400474548], [0.6362009048461914], [0.8062157034873962], [0.7663087844848633], [0.7109864950180054], [0.7034623622894287], [0.6214163899421692], [0.8077014684677124], [0.7031436562538147], [0.8287180662155151], [0.6644816398620605], [0.7870753407478333], [0.43042799830436707], [0.7034094929695129], [0.8262209892272949], [0.7517287731170654], [0.6610360145568848], [0.8064032196998596], [0.6975226998329163], [0.8533458113670349], [0.8529119491577148], [0.7619748115539551], [0.7653411626815796], [0.7076674103736877], [0.7568623423576355], [0.7038773894309998], [0.7028824090957642], [0.7387409806251526], [0.8278740644454956], [0.6837437748908997], [0.7782321572303772], [0.8568369150161743], [0.6891348958015442], [0.8401060104370117], [0.6703799962997437], [0.8694568276405334], [0.6592226624488831], [0.7898091673851013], [0.7900497317314148], [0.7552359104156494], [0.8450731039047241], [0.7651689052581787], [0.7139946818351746], [0.8016192317008972], [0.7834550142288208], [0.8586642742156982], [0.8821249604225159], [0.7117102146148682], [0.6145743727684021], [0.6336163878440857], [0.7340222001075745], [0.7767353057861328], [0.7010980248451233], [0.6365063190460205], [0.6348837614059448], [0.7927656769752502], [0.7866384387016296], [0.8041377067565918], [0.8692418336868286], [0.7397960424423218], [0.7211731672286987], [0.8044062852859497], [0.7489023208618164], [0.8145558834075928], [0.8044902682304382], [0.7258684039115906], [0.8646087646484375], [0.7963259220123291], [0.8083438873291016], [0.7311605215072632], [0.5406959652900696], [0.7172641158103943], [0.7429454922676086], [0.6758963465690613], [0.8145559430122375], [0.6696541905403137], [0.653759241104126], [0.781700074672699], [0.6919704079627991], [0.8059158325195312], [0.7213493585586548], [0.7875387072563171], [0.8339359164237976], [0.512694239616394], [0.8185859322547913], [0.8109090924263], [0.8350924253463745], [0.8546351194381714], [0.7657238841056824], [0.7499425411224365], [0.7515209913253784], [0.8139938116073608], [0.7973939180374146], [0.8398537635803223], [0.8632935285568237], [0.8461776971817017], [0.7859569787979126], [0.7460993528366089], [0.8285642862319946], [0.7294595241546631], [0.7292035222053528], [0.7894282341003418], [0.6725674271583557], [0.6829338669776917], [0.7342411875724792], [0.621192455291748], [0.8071286082267761], [0.7853097319602966], [0.8320564031600952], [0.7844516634941101], [0.7429094314575195], [0.7902037501335144], [0.8599455952644348], [0.7911944389343262], [0.7100000381469727], [0.8024103045463562], [0.7276090383529663], [0.8035338521003723], [0.7471375465393066], [0.770940363407135], [0.795396089553833], [0.7221411466598511], [0.7445641160011292], [0.5586340427398682], [0.7891305685043335], [0.7656210064888], [0.7316537499427795], [0.8080148696899414], [0.7345178127288818], [0.7483536005020142], [0.7382132411003113], [0.8396275639533997], [0.8184620141983032], [0.8626443147659302], [0.8824530243873596], [0.7694042325019836], [0.7532484531402588], [0.820997416973114], [0.605100154876709], [0.7553046941757202], [0.8639810681343079], [0.6872536540031433], [0.8498095273971558], [0.5863862037658691], [0.750657320022583], [0.7195078730583191], [0.6645373106002808], [0.8085439205169678], [0.7774547338485718], [0.7312613129615784], [0.7990740537643433], [0.60152268409729], [0.7868571877479553], [0.7120298743247986], [0.781449019908905], [0.7333654165267944], [0.8470816612243652], [0.7835534811019897], [0.5981236100196838], [0.7530917525291443], [0.8308428525924683], [0.7858400344848633], [0.8278657793998718], [0.8774365186691284], [0.7914124727249146], [0.8290262222290039], [0.8764654397964478], [0.7800710201263428], [0.83842533826828], [0.6891601085662842], [0.7278611660003662], [0.8201442360877991], [0.8214611411094666], [0.7138757705688477], [0.7350451946258545], [0.8231475949287415], [0.7143514752388], [0.6880096197128296], [0.8294046521186829], [0.7323424220085144], [0.7210038304328918], [0.7846238613128662], [0.6404722929000854], [0.8445590734481812], [0.7905396223068237], [0.6674872040748596], [0.7188959717750549], [0.9077244997024536], [0.8330330848693848], [0.733535885810852], [0.8368179202079773], [0.7659522891044617], [0.7834362983703613], [0.7056636214256287], [0.7833569049835205], [0.8466355204582214], [0.8525673747062683], [0.8744884729385376], [0.7456404566764832], [0.8564496636390686], [0.8069334030151367], [0.836642861366272], [0.8592238426208496], [0.7359729409217834], [0.827042281627655], [0.8813260793685913], [0.7495427131652832], [0.8061321377754211], [0.8632578253746033], [0.5782207250595093], [0.7417716979980469], [0.8494516015052795], [0.8200458288192749], [0.7139425873756409], [0.7920002341270447], [0.7831291556358337], [0.7825672030448914], [0.7389929294586182], [0.7867165803909302], [0.8448642492294312], [0.723149836063385], [0.8453026413917542], [0.6750795841217041], [0.8641825914382935], [0.5559601187705994], [0.8327952027320862], [0.7720164656639099], [0.8734820485115051], [0.8412380218505859], [0.7770957350730896], [0.8165449500083923], [0.7345807552337646], [0.8311763405799866], [0.7574766874313354], [0.6133118271827698], [0.7125959992408752], [0.8635098934173584], [0.838162899017334], [0.8806211948394775], [0.6357406973838806], [0.8425788283348083], [0.6176886558532715], [0.6872233152389526], [0.7102420926094055], [0.6766035556793213], [0.8500694036483765], [0.7703837156295776], [0.8149434924125671], [0.8075381517410278], [0.7137644290924072], [0.6393275856971741], [0.7773430943489075], [0.8597767353057861], [0.7899236679077148], [0.8016822338104248], [0.779770016670227], [0.6792742013931274], [0.7791441082954407], [0.7075444459915161], [0.7744137048721313], [0.7094933986663818], [0.8360507488250732], [0.7446075081825256], [0.7631562948226929], [0.7947599291801453], [0.7639188766479492], [0.8079019784927368], [0.6742794513702393], [0.8044499754905701], [0.7704436182975769], [0.7614608407020569], [0.8078798055648804], [0.8452438712120056], [0.47876042127609253], [0.7845977544784546], [0.7784566879272461], [0.7987727522850037], [0.6375702619552612], [0.846668541431427], [0.8598958849906921], [0.7953146696090698], [0.7156305313110352], [0.7207825183868408], [0.7195641994476318], [0.8201587796211243], [0.7286101579666138], [0.7790116667747498], [0.8498294949531555], [0.7760114073753357], [0.7756032347679138], [0.8327327966690063], [0.8348599076271057], [0.7640199661254883], [0.8243444561958313], [0.6698412895202637], [0.8514113426208496], [0.7407537698745728], [0.7852541208267212], [0.728490948677063], [0.8487823009490967], [0.7324539422988892], [0.7863480448722839], [0.8603458404541016], [0.7191507816314697], [0.8237280249595642], [0.7947320938110352], [0.8155572414398193], [0.840104341506958], [0.8492580652236938], [0.48189303278923035], [0.7102046608924866], [0.7727751135826111], [0.8071379065513611], [0.8615438938140869], [0.8463906645774841], [0.7677788734436035], [0.7836608290672302], [0.7939883470535278], [0.6567710638046265], [0.8322640657424927], [0.8093577027320862], [0.6320996880531311], [0.7006980776786804], [0.6829954385757446], [0.7391273975372314], [0.7598278522491455], [0.7609622478485107], [0.8267467021942139], [0.7208961248397827], [0.7668641805648804], [0.7971267104148865], [0.8790842294692993], [0.7877693176269531], [0.8396411538124084], [0.8013430833816528], [0.6938408613204956], [0.7585246562957764], [0.741143524646759], [0.8237251043319702], [0.7676504254341125], [0.8141323924064636], [0.7235504388809204], [0.7140039205551147], [0.7718154191970825], [0.5823501348495483], [0.5806754231452942], [0.5285241603851318], [0.768498420715332], [0.7671228647232056], [0.8029484748840332], [0.8024340271949768], [0.8978126645088196], [0.6576347947120667], [0.8213288187980652], [0.7998285293579102], [0.7841811180114746], [0.7165080904960632], [0.6282928586006165], [0.8545916676521301], [0.7213096022605896], [0.8427175879478455], [0.6913166046142578], [0.7832794785499573], [0.7799544334411621], [0.8293227553367615], [0.7664039134979248], [0.8279664516448975], [0.8057597875595093], [0.6364520788192749], [0.6029801368713379], [0.7321366667747498], [0.8016923666000366], [0.7843090295791626], [0.6653109192848206], [0.849146842956543], [0.7981773018836975], [0.7702314853668213], [0.716943085193634], [0.8729391098022461], [0.6221370697021484], [0.6318027973175049], [0.7394931316375732], [0.6703272461891174], [0.6844045519828796], [0.754342794418335], [0.8821569681167603], [0.5872598886489868], [0.776889979839325], [0.8030862808227539], [0.8229864835739136], [0.8140097260475159], [0.7651387453079224], [0.7770417928695679], [0.8492342233657837], [0.8545411825180054], [0.7598907947540283], [0.7397750616073608], [0.7665815353393555], [0.737116277217865], [0.8632866740226746], [0.7339885830879211], [0.7757028341293335], [0.7159401774406433], [0.6598722338676453], [0.7604297995567322], [0.5781984925270081], [0.715286374092102], [0.8138473629951477], [0.8313208818435669], [0.8332496285438538], [0.8636829257011414], [0.8743419647216797], [0.7672560811042786], [0.492859810590744], [0.7493605017662048], [0.8637823462486267], [0.8145116567611694], [0.7844623327255249], [0.6990184187889099], [0.7535198330879211], [0.7317765355110168], [0.7910099029541016], [0.8456770777702332], [0.744955837726593], [0.8359550833702087], [0.8076645731925964], [0.9204935431480408], [0.6890618801116943], [0.7867719531059265], [0.5705702304840088], [0.7857849597930908], [0.7537113428115845], [0.6212888956069946], [0.7015244364738464], [0.7865768074989319], [0.48857641220092773], [0.8218380212783813], [0.7562870979309082], [0.830371081829071], [0.804317057132721], [0.7956840991973877], [0.8270205855369568], [0.8994975090026855], [0.7052363753318787], [0.7465221285820007], [0.7574474811553955], [0.85216224193573], [0.784126877784729], [0.7429745197296143], [0.7849569320678711], [0.8702073693275452], [0.7140269875526428], [0.8488138914108276], [0.7043144106864929], [0.8316677808761597], [0.8437907695770264], [0.755116879940033], [0.8597043752670288], [0.7591490149497986], [0.6922511458396912], [0.719688355922699], [0.860943078994751], [0.7585433721542358], [0.7778494954109192], [0.6837051510810852], [0.7568550109863281], [0.7975950837135315], [0.8664858341217041], [0.7693509459495544], [0.711806058883667], [0.719269871711731], [0.847467303276062], [0.7584959268569946], [0.7793963551521301], [0.7927116751670837], [0.8109055161476135], [0.7121145129203796], [0.7769060134887695], [0.8088064193725586], [0.8367598652839661], [0.7378092408180237], [0.7334612011909485], [0.8112399578094482], [0.8461126685142517], [0.750659704208374], [0.6682442426681519], [0.825943648815155], [0.679183304309845], [0.8352762460708618], [0.7903327345848083], [0.7101233005523682], [0.8473823666572571], [0.7592952251434326], [0.8267641663551331], [0.6573421955108643], [0.8094674944877625], [0.7979635000228882], [0.8616839647293091], [0.7240546345710754], [0.7742957472801208], [0.7876462340354919], [0.8358178734779358], [0.8166961669921875], [0.6962819695472717], [0.8424165844917297], [0.799001157283783], [0.7761307954788208], [0.8058396577835083], [0.6302595734596252], [0.6931547522544861], [0.7236319184303284], [0.7964935302734375], [0.7158371806144714], [0.6239009499549866], [0.7294883728027344], [0.7593375444412231], [0.7659686207771301], [0.8464215993881226], [0.8005097508430481], [0.7411565184593201], [0.7360408902168274], [0.7344792485237122], [0.7138155102729797], [0.8802123665809631], [0.8495924472808838], [0.8308659791946411], [0.6982961893081665], [0.854764461517334], [0.8006662130355835], [0.859203577041626], [0.8316725492477417], [0.8115789294242859], [0.7551212906837463], [0.8003140687942505], [0.5799570083618164], [0.8544994592666626], [0.6814552545547485], [0.708702564239502], [0.6207064390182495], [0.854351818561554], [0.792726457118988], [0.7066285014152527], [0.7712002992630005], [0.7695677876472473], [0.7796037793159485], [0.6362090706825256], [0.8114309310913086], [0.7654918432235718], [0.7667914628982544], [0.703316330909729], [0.8707734942436218], [0.7505339980125427], [0.8344869017601013], [0.9022659659385681], [0.8051153421401978], [0.8789690732955933], [0.8382173776626587], [0.8259677886962891], [0.6985129117965698], [0.71837317943573], [0.840629518032074], [0.8213708400726318], [0.8542458415031433], [0.8174713253974915], [0.7107040882110596], [0.8585709929466248], [0.7237057685852051], [0.7127454876899719], [0.8106698393821716], [0.7943354249000549], [0.7036652565002441], [0.7620525360107422], [0.7523007392883301], [0.7757630944252014], [0.7463961839675903], [0.6812488436698914], [0.7886636257171631], [0.7039660811424255], [0.8609219193458557], [0.7484821081161499], [0.826068639755249], [0.6938788890838623], [0.7827008962631226], [0.758989691734314], [0.6421729922294617], [0.7529628872871399], [0.8150177001953125], [0.7795758247375488], [0.8602519631385803], [0.7807630896568298], [0.7179547548294067], [0.6975851655006409], [0.8075335025787354], [0.8911868929862976], [0.7264213562011719], [0.733780026435852], [0.731518566608429], [0.8791136741638184], [0.7296220064163208], [0.6620053052902222], [0.7906371355056763], [0.8413650393486023], [0.8418323397636414], [0.8445664048194885], [0.8202300071716309], [0.6933715343475342], [0.7997969388961792], [0.623095691204071], [0.6039361953735352], [0.9075692892074585], [0.893386721611023], [0.8310516476631165], [0.8527299761772156], [0.7235361337661743], [0.7522580027580261], [0.7526724338531494], [0.8425118923187256], [0.683942973613739], [0.8848068714141846], [0.750999391078949], [0.7799414396286011], [0.6406703591346741], [0.8290735483169556], [0.7036590576171875], [0.6922511458396912], [0.7517277002334595], [0.3512858748435974], [0.8111178278923035], [0.6834518909454346], [0.6748785376548767], [0.7845703363418579], [0.6635844707489014], [0.8128247857093811], [0.7739222645759583], [0.7536835074424744], [0.5900244116783142], [0.8505188226699829], [0.8154371976852417], [0.7324423789978027], [0.8144072890281677], [0.6287502646446228], [0.8073559999465942], [0.8477301597595215], [0.7913616895675659], [0.8648024201393127], [0.8574641942977905], [0.7343341112136841], [0.860994279384613], [0.7424792647361755], [0.596065878868103], [0.8643854856491089], [0.7907050848007202], [0.8077918291091919], [0.8813432455062866], [0.7968464493751526], [0.7700182199478149], [0.827588677406311], [0.8245787024497986], [0.7654291987419128], [0.7701797485351562], [0.7602126002311707], [0.8358844518661499], [0.6058264970779419], [0.8299412727355957], [0.608414351940155], [0.8516129851341248], [0.7681609988212585], [0.7103542685508728], [0.7417685389518738], [0.8414429426193237], [0.7407195568084717], [0.8776903748512268], [0.7998929619789124], [0.6860558390617371], [0.7331930994987488], [0.8036922216415405], [0.878665030002594], [0.8265738487243652], [0.8453799486160278], [0.7982153296470642], [0.8388916254043579], [0.7530056834220886], [0.36825019121170044], [0.8690940737724304], [0.8345545530319214], [0.7618798613548279], [0.799267590045929], [0.8074020147323608], [0.7339367270469666], [0.7952924370765686], [0.812412679195404], [0.8569227457046509], [0.8238263726234436], [0.8896072506904602], [0.6771655082702637], [0.5302777290344238], [0.7837251424789429], [0.6215590238571167], [0.8237019181251526], [0.7414145469665527], [0.7355952858924866], [0.8248104453086853], [0.7599264979362488], [0.8374305367469788], [0.7032963633537292], [0.8524739146232605], [0.8024687767028809], [0.7776461839675903], [0.8039135336875916], [0.7913491129875183], [0.7969729900360107], [0.7955953478813171], [0.5972462296485901], [0.7148751020431519], [0.5677973031997681], [0.6581671833992004], [0.847796618938446], [0.7825586795806885], [0.8033494353294373], [0.7634839415550232], [0.8459309935569763], [0.7894676923751831], [0.7886291146278381], [0.6338128447532654], [0.8203484416007996], [0.7488357424736023], [0.8258400559425354], [0.7753763794898987], [0.7419744729995728], [0.8381012082099915], [0.7123995423316956], [0.8586548566818237], [0.8115772008895874], [0.6082603335380554], [0.7134965062141418], [0.7507822513580322], [0.7590134143829346], [0.7060563564300537], [0.872714102268219], [0.8401039838790894], [0.7727677226066589], [0.8124983310699463], [0.7856730222702026], [0.8483686447143555], [0.8016244173049927], [0.8290735483169556], [0.7453698515892029], [0.8038994073867798], [0.5903989672660828], [0.7610496282577515], [0.8143822550773621], [0.7897070050239563], [0.795158863067627], [0.6839588284492493], [0.8267061114311218], [0.7764478921890259], [0.8510041832923889], [0.8031519651412964], [0.7062501907348633], [0.7375059723854065], [0.863942563533783], [0.7686060070991516], [0.7963200807571411], [0.8648545742034912], [0.735711932182312], [0.7419461011886597], [0.7745717763900757], [0.7752195596694946], [0.8763104677200317], [0.853305995464325], [0.7594642043113708], [0.7240807414054871], [0.7512023448944092], [0.7319620847702026], [0.8042495846748352], [0.8078917264938354], [0.7744513154029846], [0.7916001081466675], [0.7991514801979065], [0.8008248209953308], [0.7924502491950989], [0.7087094783782959], [0.5741704702377319], [0.5742446780204773], [0.5940936803817749], [0.7459405660629272], [0.7965391874313354], [0.8148254752159119], [0.7871176600456238], [0.8558059930801392], [0.6836585998535156], [0.7206757664680481], [0.8456770777702332], [0.8157376050949097], [0.7978521585464478], [0.9054005742073059], [0.7009052038192749], [0.8502893447875977], [0.8463946580886841], [0.8743664026260376], [0.7905108332633972], [0.8119703531265259], [0.8375221490859985], [0.8429598808288574], [0.7460533380508423], [0.84031081199646], [0.7858959436416626], [0.687454104423523], [0.7875421643257141], [0.8021087050437927], [0.7894081473350525], [0.8461492657661438], [0.8439815044403076], [0.7892082333564758], [0.8047757744789124], [0.8097360730171204], [0.7289129495620728], [0.7791770696640015], [0.742954432964325], [0.7883527874946594], [0.8285244703292847], [0.8272148966789246], [0.7200902104377747], [0.8094674944877625], [0.7942633628845215], [0.675343930721283], [0.8763505816459656], [0.6613341569900513], [0.7162699103355408], [0.7487097978591919], [0.49331456422805786], [0.8187081217765808], [0.883833646774292], [0.7391644716262817], [0.741049587726593], [0.8483272790908813], [0.7807630896568298], [0.785999059677124], [0.8535796403884888], [0.6540462970733643], [0.8050053119659424], [0.8504810333251953], [0.8495098948478699], [0.8206425905227661], [0.663194477558136], [0.8396317958831787], [0.772796094417572], [0.8375496864318848], [0.7510488629341125], [0.7194029688835144], [0.8166984915733337], [0.8307491540908813], [0.8007628917694092], [0.7749608159065247], [0.7406703233718872], [0.6529572606086731], [0.8098688721656799], [0.6975077986717224], [0.7113891243934631], [0.8109942078590393], [0.6791348457336426], [0.6244920492172241], [0.7250879406929016], [0.8938611745834351], [0.8904575109481812], [0.8845927715301514], [0.7541778087615967], [0.7405528426170349], [0.7876158356666565], [0.6701758503913879], [0.8316595554351807], [0.7247533202171326], [0.6422552466392517], [0.8564618825912476], [0.8258400559425354], [0.8565626740455627], [0.6584277749061584], [0.7739002704620361], [0.799888551235199], [0.8351435661315918], [0.7065174579620361], [0.7356061935424805], [0.8502597212791443], [0.8002734184265137], [0.7958213686943054], [0.7056030631065369], [0.4832517206668854], [0.7538110017776489], [0.7388333678245544], [0.7558287978172302], [0.8004757165908813], [0.7012732625007629], [0.7421565651893616], [0.7579886317253113], [0.7503990530967712], [0.8181200623512268], [0.841827929019928], [0.6595131158828735], [0.6879775524139404], [0.7695587873458862], [0.8512962460517883], [0.8202192783355713], [0.6829174160957336], [0.871044933795929], [0.7293227314949036], [0.695719838142395], [0.8514266014099121], [0.7317071557044983], [0.7792350649833679], [0.6706394553184509], [0.7745943665504456], [0.6996164321899414], [0.8509023189544678], [0.6956910490989685], [0.7662787437438965], [0.8087625503540039], [0.8005039095878601], [0.7406467795372009], [0.7763955593109131], [0.8284325003623962], [0.6401023268699646], [0.6747502684593201], [0.8040454387664795], [0.8028358817100525], [0.857947587966919], [0.8045535683631897], [0.8432789444923401], [0.739072322845459], [0.7399714589118958], [0.7912655472755432], [0.8372713923454285], [0.8363174796104431], [0.8453900814056396], [0.7276327013969421], [0.8582020401954651], [0.8110880255699158], [0.7459109425544739], [0.801517903804779], [0.8002098798751831], [0.7000149488449097], [0.7597905993461609], [0.7367446422576904], [0.851099967956543], [0.7338184118270874], [0.7560078501701355], [0.767400860786438], [0.7467237114906311], [0.6705349087715149], [0.7776700854301453], [0.7058839201927185], [0.6350997090339661], [0.78082674741745], [0.849768340587616], [0.8025078773498535], [0.8097421526908875], [0.7852884531021118], [0.8474007248878479], [0.7555460929870605], [0.8174812197685242], [0.7186996936798096], [0.8334407210350037], [0.8053711652755737], [0.7287840247154236], [0.8075741529464722], [0.8400524854660034], [0.806717574596405], [0.7685176134109497], [0.8044487237930298], [0.715896487236023], [0.7793527841567993], [0.7373837232589722], [0.6497881412506104], [0.7386752963066101], [0.8131232857704163], [0.8255796432495117], [0.6274418234825134], [0.8594202399253845], [0.8471431136131287], [0.7989324331283569], [0.7460023164749146], [0.7490695118904114], [0.4580281376838684], [0.8066081404685974], [0.8000124096870422], [0.7609136700630188], [0.635576069355011], [0.7321269512176514], [0.7736982107162476], [0.7929192781448364], [0.7828179597854614], [0.7218306064605713], [0.8127330541610718], [0.8999607563018799], [0.8243444561958313], [0.8214383125305176], [0.7351762056350708], [0.8316642045974731], [0.6762422323226929], [0.7616018056869507], [0.7999724745750427], [0.6973513960838318], [0.7533094882965088], [0.7301539182662964], [0.7446906566619873], [0.7651387453079224], [0.8193540573120117], [0.8113341927528381], [0.8166927695274353], [0.7688413858413696], [0.791572093963623], [0.8833836317062378], [0.8452337384223938], [0.7307419180870056], [0.7694370150566101], [0.8624974489212036], [0.7643148899078369], [0.8177810907363892], [0.8744330406188965], [0.687264621257782], [0.8317927122116089], [0.7036466002464294], [0.8470421433448792], [0.7106085419654846], [0.7156174182891846], [0.8606464862823486], [0.763583779335022], [0.6368231177330017], [0.36525672674179077], [0.8522728085517883], [0.7614885568618774], [0.8670137524604797], [0.7120298743247986], [0.7089876532554626], [0.7341634631156921], [0.7454352974891663], [0.8287497758865356], [0.7479792237281799], [0.7965165376663208], [0.7656210064888], [0.7263904809951782], [0.7808009386062622], [0.8530293107032776], [0.8137469291687012], [0.8142315149307251], [0.6611641049385071], [0.8503664135932922], [0.8578712344169617], [0.8160082697868347], [0.8459407091140747], [0.8468955755233765], [0.8239496350288391], [0.8207260966300964], [0.7883527874946594], [0.750083863735199], [0.7016918659210205], [0.6722757816314697], [0.8468955755233765], [0.7949115037918091], [0.32905715703964233], [0.7864862084388733], [0.8636816143989563], [0.7369215488433838], [0.7734007835388184], [0.8092514872550964], [0.8129285573959351], [0.8079505562782288], [0.8340070247650146], [0.6531802415847778], [0.73396235704422], [0.8291735053062439], [0.8308045268058777], [0.7406206130981445], [0.8003479838371277], [0.7845157384872437], [0.8318737745285034], [0.6146352887153625], [0.6698705554008484], [0.7895838618278503], [0.7050238847732544], [0.6747502684593201], [0.7963709235191345], [0.7442630529403687], [0.7849506735801697], [0.6698893904685974], [0.8632338643074036], [0.8551667332649231], [0.7016083002090454], [0.7215388417243958], [0.8159068822860718], [0.7866688370704651], [0.7997117638587952], [0.8654310703277588], [0.8368389010429382], [0.7666105628013611], [0.8537891507148743], [0.7946942448616028], [0.7013143301010132], [0.8302724957466125], [0.8275911211967468], [0.7560011744499207], [0.7516030073165894], [0.8183022737503052], [0.8333872556686401], [0.8222426176071167], [0.7762411832809448], [0.8439682722091675], [0.8415772318840027], [0.6761700510978699], [0.7048383951187134], [0.783213198184967], [0.7877294421195984], [0.6684365272521973], [0.8008852005004883], [0.8337100148200989], [0.7467994093894958], [0.8762750029563904], [0.7378036975860596], [0.9352103471755981], [0.7531940937042236], [0.7342476844787598], [0.7375059723854065], [0.6756309866905212], [0.6654432415962219], [0.7001047134399414], [0.7895610928535461], [0.7069834470748901], [0.8539358973503113], [0.7780019640922546], [0.7797041535377502], [0.7964377403259277], [0.8313758373260498], [0.6389076709747314], [0.8180293440818787], [0.7775217890739441], [0.6358156204223633], [0.8548615574836731], [0.716920793056488], [0.8236531615257263], [0.7952255606651306], [0.7235236763954163], [0.7753750681877136], [0.8304672241210938], [0.7943655252456665], [0.7656309604644775], [0.8182661533355713], [0.7994080781936646], [0.7338500618934631], [0.7566074132919312], [0.7016297578811646], [0.8449968099594116], [0.7115806937217712], [0.7023693323135376], [0.8492860198020935], [0.8431455492973328], [0.7118657827377319], [0.7442365884780884], [0.7708637714385986], [0.8491619825363159], [0.7739081978797913], [0.8172739744186401], [0.7488422393798828], [0.667708694934845], [0.7064294815063477], [0.7027771472930908], [0.6965166926383972], [0.8300451040267944], [0.8046337962150574], [0.791668176651001], [0.7327842116355896], [0.8358646035194397], [0.8094835877418518], [0.8457971811294556], [0.7787059545516968], [0.8478280901908875], [0.6489592790603638], [0.8174763321876526], [0.8365965485572815], [0.7332850098609924], [0.7454416155815125], [0.8455158472061157], [0.8522576093673706], [0.778069794178009], [0.7089016437530518], [0.8099709153175354], [0.8122076392173767], [0.7826342582702637], [0.6834152936935425], [0.840707004070282], [0.7586636543273926], [0.7189363241195679], [0.8107718825340271], [0.7987450957298279], [0.7133738994598389], [0.8267078995704651], [0.829042375087738], [0.6152406334877014], [0.6703311204910278], [0.811711311340332], [0.6915103197097778], [0.7073715329170227], [0.7505679130554199], [0.8038185238838196], [0.8221775889396667], [0.8421663045883179], [0.8266143202781677], [0.831002950668335], [0.7627468109130859], [0.7800561189651489], [0.8259241580963135], [0.7754022479057312], [0.8058419227600098], [0.7290485501289368], [0.827141284942627], [0.8320863842964172], [0.6792729496955872], [0.8004994988441467], [0.8200932145118713], [0.7840569615364075], [0.785960853099823], [0.8130600452423096], [0.7921551465988159], [0.6836005449295044], [0.716159999370575], [0.8248874545097351], [0.7955043911933899], [0.7725966572761536], [0.8441714644432068], [0.8228875994682312], [0.8251371383666992], [0.8081125617027283], [0.7990256547927856], [0.7575817108154297], [0.7661701440811157], [0.7905671000480652], [0.6537479758262634], [0.697178840637207], [0.7305304408073425], [0.8294046521186829], [0.8330211639404297], [0.8152819275856018], [0.8653375506401062], [0.850495457649231], [0.7976424098014832], [0.719688355922699], [0.887805700302124], [0.8474605083465576], [0.6643903851509094], [0.8491262197494507], [0.8206290006637573], [0.7134749293327332], [0.7478649020195007], [0.8571153283119202], [0.8392379879951477], [0.5347162485122681], [0.727617621421814], [0.7493947148323059], [0.8598339557647705], [0.7894904017448425], [0.818776547908783], [0.6960760354995728], [0.8033663630485535], [0.8584306836128235], [0.8464160561561584], [0.7543743252754211], [0.6654971837997437], [0.744472324848175], [0.7612353563308716], [0.6965492963790894], [0.7704154849052429], [0.7120298743247986], [0.8779253363609314], [0.8528759479522705], [0.6511108875274658], [0.630165159702301], [0.7890164256095886], [0.795240581035614], [0.7325023412704468], [0.6912534832954407], [0.7423754334449768], [0.7901369333267212], [0.8601499199867249], [0.8742111325263977], [0.7956712245941162], [0.6927136182785034], [0.7868714928627014], [0.8244800567626953], [0.826468825340271], [0.7756438851356506], [0.8290664553642273], [0.7889664173126221], [0.8237230181694031], [0.615105152130127], [0.6451656818389893], [0.8048370480537415], [0.7739173173904419], [0.7641644477844238], [0.7776579260826111], [0.7729944586753845], [0.6243261098861694], [0.7183164358139038], [0.7495222091674805], [0.7807630896568298], [0.8080209493637085], [0.8173250555992126], [0.7525581121444702], [0.76517254114151], [0.7791668772697449], [0.8597632050514221], [0.8394565582275391], [0.7566434741020203], [0.4690327048301697], [0.7404200434684753], [0.7750360369682312], [0.7319892048835754], [0.5940976738929749], [0.7450413703918457], [0.743867814540863], [0.7411830425262451], [0.808944046497345], [0.7566234469413757], [0.622268795967102], [0.8173564672470093], [0.7828115224838257], [0.6672037839889526], [0.8391292095184326], [0.8503664135932922], [0.817006528377533], [0.7706798911094666], [0.8241425156593323], [0.7541115880012512], [0.7108004093170166], [0.7771953344345093], [0.7288459539413452], [0.7717686295509338], [0.7424944639205933], [0.7527146339416504], [0.7002896666526794], [0.6808440089225769], [0.7923272252082825], [0.6717926859855652], [0.5575740337371826], [0.8701517581939697], [0.6623847484588623], [0.8150985240936279], [0.8317382335662842], [0.807750403881073], [0.7483580708503723], [0.8764256238937378], [0.867630660533905], [0.6999975442886353], [0.7020965218544006], [0.8770343661308289], [0.8610591888427734], [0.6996164321899414], [0.7455653548240662], [0.8214250206947327], [0.8576992154121399], [0.7313377261161804], [0.635854959487915], [0.7504476308822632], [0.7982068061828613], [0.767711341381073], [0.8091809153556824], [0.7939562201499939], [0.7385035157203674], [0.7959784269332886], [0.7704012393951416], [0.669914186000824], [0.7020965218544006], [0.7630348801612854], [0.6821442246437073], [0.6847527623176575], [0.8537942171096802], [0.6874856948852539], [0.778084933757782], [0.7323656678199768], [0.6737298965454102], [0.8448767066001892], [0.8808523416519165], [0.7809621095657349], [0.8180953860282898], [0.8304930329322815], [0.7620187401771545], [0.8107906579971313], [0.7612442374229431], [0.6070296764373779], [0.812317967414856], [0.6353446245193481], [0.8326277732849121], [0.8154371976852417], [0.7723073959350586], [0.75481116771698], [0.8744330406188965], [0.8059520721435547], [0.7663419842720032], [0.6715624332427979], [0.8579836487770081], [0.7927135229110718], [0.6971021890640259], [0.7589718103408813], [0.728116512298584], [0.7625894546508789], [0.7295227646827698], [0.6686070561408997], [0.7459540367126465], [0.617481529712677], [0.828030526638031], [0.7444851994514465], [0.718565046787262], [0.654502809047699], [0.8260590434074402], [0.7477297186851501], [0.7285159230232239], [0.8215460181236267], [0.8310220837593079], [0.8363029956817627], [0.8082213997840881], [0.8646590709686279], [0.8078640699386597], [0.8492512106895447], [0.8053610324859619], [0.7746703624725342], [0.832046627998352], [0.7648187279701233], [0.8273255825042725], [0.8001815676689148], [0.6799181699752808], [0.808532178401947], [0.792761504650116], [0.7072227597236633], [0.8299451470375061], [0.8324264287948608], [0.826405942440033], [0.7838485240936279], [0.7352192997932434], [0.8523975610733032], [0.8453026413917542], [0.6934274435043335], [0.794049084186554], [0.6590790748596191], [0.7503344416618347], [0.7734063267707825], [0.5965986251831055], [0.8381204605102539], [0.6833269000053406], [0.7163916230201721], [0.5194715261459351], [0.8085578680038452], [0.8274499177932739], [0.8028810620307922], [0.8188968300819397], [0.7713748216629028], [0.8565706610679626], [0.7704037427902222], [0.7787845730781555], [0.8305950164794922], [0.866498589515686], [0.7273004055023193], [0.7944378852844238], [0.7421241402626038], [0.6411811113357544], [0.8295242786407471], [0.7820839285850525], [0.7637292146682739], [0.7762677073478699], [0.8228439688682556], [0.71147221326828], [0.6875540018081665], [0.6602264642715454], [0.8251371383666992], [0.8411047458648682], [0.8180199265480042], [0.769086480140686], [0.7440778017044067], [0.8339750170707703], [0.9013859033584595], [0.7466263771057129], [0.8307455778121948], [0.6237484216690063], [0.841629683971405], [0.8439682722091675], [0.7943655252456665], [0.8083432912826538], [0.7835440039634705], [0.7778070569038391], [0.8568881750106812], [0.7846459150314331], [0.8115535378456116], [0.8135883808135986], [0.710530698299408], [0.7655248045921326], [0.713378369808197], [0.78448486328125], [0.7341518998146057], [0.8232707381248474], [0.828101396560669], [0.7238747477531433], [0.8588753342628479], [0.798640787601471], [0.7179502844810486], [0.8136115074157715], [0.8114587068557739], [0.772480845451355], [0.7014776468276978], [0.8610436916351318], [0.8768101334571838], [0.572682797908783], [0.8222744464874268], [0.8489325642585754], [0.8138649463653564], [0.768760085105896], [0.7723633050918579], [0.7896009087562561], [0.6372605562210083], [0.8264408111572266], [0.732111930847168], [0.7956533432006836], [0.503598690032959], [0.5590948462486267], [0.8570238351821899], [0.44649118185043335], [0.6067231297492981], [0.7682616114616394], [0.813606858253479], [0.7461158037185669], [0.8142507076263428], [0.8250463604927063], [0.5226409435272217], [0.7970682382583618], [0.7383298873901367], [0.7637797594070435], [0.6576347947120667], [0.6292024850845337], [0.74781334400177], [0.8014292120933533], [0.6452086567878723], [0.7136453986167908], [0.7454912662506104], [0.7644859552383423], [0.8645305633544922], [0.8182852864265442], [0.7090394496917725], [0.7623928785324097], [0.8131914138793945], [0.7305743098258972], [0.6508371829986572], [0.6989891529083252], [0.8469430804252625], [0.6733532547950745], [0.7632728815078735], [0.8202115893363953], [0.8383715748786926], [0.7883527874946594], [0.8151079416275024], [0.8537891507148743], [0.6930957436561584], [0.7062255144119263], [0.767418622970581], [0.8952910900115967], [0.7534171938896179], [0.7493042945861816], [0.8141323924064636], [0.6646735072135925], [0.7064275145530701], [0.8068625926971436], [0.7838503122329712], [0.7943931818008423], [0.736260712146759], [0.8081201910972595], [0.7109577059745789], [0.760851263999939], [0.7771331071853638], [0.7220892906188965], [0.6242083311080933], [0.7174502015113831], [0.7913356423377991], [0.8654310703277588], [0.798479437828064], [0.8756749033927917], [0.8744884729385376], [0.7442604303359985], [0.8500934839248657], [0.8363106846809387], [0.6892178058624268], [0.8631479740142822], [0.8080921173095703], [0.7386752963066101], [0.7649365067481995], [0.7386091351509094], [0.8553659319877625], [0.5078092813491821], [0.8200597763061523], [0.7936893701553345], [0.7757630944252014], [0.8567942976951599], [0.6684653162956238], [0.8342777490615845], [0.8375239968299866], [0.780177891254425], [0.6980513334274292], [0.5168227553367615], [0.7388318777084351], [0.7175298929214478], [0.830407977104187], [0.6698705554008484], [0.7982160449028015], [0.7825990319252014], [0.7039797306060791], [0.735663652420044], [0.7449265122413635], [0.7556537985801697], [0.7497040033340454], [0.7718154191970825], [0.7526353597640991], [0.7392544150352478], [0.71914142370224], [0.7265162467956543], [0.8564496636390686], [0.7613307237625122], [0.7622101902961731], [0.4200792908668518], [0.6094474792480469], [0.7648480534553528], [0.849971354007721], [0.7178959846496582], [0.6884241104125977], [0.7757918834686279], [0.7308862805366516], [0.8899097442626953], [0.7102647423744202], [0.6679064035415649], [0.7887052893638611], [0.6059103012084961], [0.764813244342804], [0.8314672112464905], [0.8302273750305176], [0.7600250840187073], [0.7403192520141602], [0.8729802966117859], [0.8456953167915344], [0.7778257727622986], [0.581552267074585], [0.8696808815002441], [0.759617805480957], [0.7383567690849304], [0.8697649240493774], [0.8037002086639404], [0.8264049887657166], [0.8355115652084351], [0.7558046579360962], [0.6115780472755432], [0.8297722935676575], [0.8383092880249023], [0.7577842473983765], [0.8551359176635742], [0.79044109582901], [0.8166961669921875], [0.7547914385795593], [0.7987805604934692], [0.833625078201294], [0.7259010672569275], [0.8632935285568237], [0.8532840609550476], [0.7000158429145813], [0.8339762687683105], [0.8048311471939087], [0.7562603950500488], [0.7532484531402588], [0.8135826587677002], [0.7836878895759583], [0.657172679901123], [0.8148868083953857], [0.7664874792098999], [0.7799031734466553], [0.7811214327812195], [0.6620113849639893], [0.8408657312393188], [0.8535006046295166], [0.7714077234268188], [0.7971076369285583], [0.8225703835487366], [0.7271822094917297], [0.8172942399978638], [0.7095150351524353], [0.8071255087852478], [0.7425602078437805], [0.6523759961128235], [0.7910569310188293], [0.6534502506256104], [0.7561549544334412], [0.8420290946960449], [0.8044706583023071], [0.8913448452949524], [0.7889983057975769], [0.7723261117935181], [0.8435827493667603], [0.7637420296669006], [0.854010283946991], [0.6684186458587646], [0.7333381175994873], [0.7694551348686218], [0.7496865391731262], [0.8324609994888306], [0.6692771315574646], [0.8690940737724304], [0.7674689888954163], [0.8195700645446777], [0.8028576374053955], [0.7554677128791809], [0.7841796875], [0.7722704410552979], [0.7383543252944946], [0.8229819536209106], [0.6576138734817505], [0.826469898223877], [0.7555773854255676], [0.7648200988769531], [0.7860013842582703], [0.7879087924957275], [0.8256224393844604], [0.8238263726234436], [0.8317134380340576], [0.8743419647216797], [0.7689216732978821], [0.7811912298202515], [0.7746763229370117], [0.7152093052864075], [0.7293765544891357], [0.7908715009689331], [0.7543124556541443], [0.8681638240814209], [0.7254357933998108], [0.8630947470664978], [0.798825740814209], [0.7923790812492371], [0.7107352018356323], [0.8165337443351746], [0.8148053288459778], [0.7753632664680481], [0.8337496519088745], [0.7627294063568115], [0.7853795289993286], [0.7087926864624023], [0.7440196871757507], [0.8743138909339905], [0.8430042266845703], [0.6948032379150391], [0.6915191411972046], [0.7772427797317505], [0.6538802981376648], [0.8011762499809265], [0.830406904220581], [0.7570605874061584], [0.836138904094696], [0.7473565340042114], [0.8777445554733276], [0.7592257857322693], [0.8813977241516113], [0.8154772520065308], [0.735362708568573], [0.7793514728546143], [0.8265000581741333], [0.7466253042221069], [0.7165067791938782], [0.7586145997047424], [0.654767632484436], [0.8312682509422302], [0.7904431223869324], [0.6915448307991028], [0.6507413983345032], [0.8856471180915833], [0.8267130851745605], [0.7273245453834534], [0.8375221490859985], [0.7769266963005066], [0.7400743365287781], [0.8048370480537415], [0.735244870185852], [0.8181058764457703], [0.8185381293296814], [0.6271615028381348], [0.6867664456367493], [0.8312902450561523], [0.8037941455841064], [0.7367640137672424], [0.7505598664283752], [0.7758408188819885], [0.7449806928634644], [0.8225316405296326], [0.8029780387878418], [0.67778080701828], [0.8618876934051514], [0.7592231035232544], [0.7694100141525269], [0.8950266242027283], [0.7264660596847534], [0.8158895969390869], [0.7066519856452942], [0.7989873290061951], [0.7924404144287109], [0.8146342039108276], [0.7612618803977966], [0.771497905254364], [0.8338274955749512], [0.6953036785125732], [0.6029421091079712], [0.5597326159477234], [0.730797529220581], [0.821140706539154], [0.7815445065498352], [0.7882879972457886], [0.7664812803268433], [0.8507780432701111], [0.8610436916351318], [0.802680492401123], [0.8853455185890198], [0.8123290538787842], [0.8591503500938416], [0.7075997591018677], [0.8302550315856934], [0.8186777234077454], [0.8120921850204468], [0.7380943298339844], [0.6764583587646484], [0.6536011695861816], [0.8365897536277771], [0.7225555181503296], [0.7513611316680908], [0.6224625110626221], [0.6693499684333801], [0.7647470831871033], [0.8229864835739136], [0.756574273109436], [0.7838364839553833], [0.7295096516609192], [0.7483453750610352], [0.8060320615768433], [0.7514271140098572], [0.7094781994819641], [0.774202287197113], [0.6834518909454346], [0.8394336104393005], [0.7787935137748718], [0.683017373085022], [0.8632106781005859], [0.7525581121444702], [0.7920384407043457], [0.7094271183013916], [0.8008248209953308], [0.8341696858406067], [0.7749883532524109], [0.7749977111816406], [0.8213574886322021], [0.7371650338172913], [0.7235261797904968], [0.7206777930259705], [0.7794820666313171], [0.8299412727355957], [0.828856348991394], [0.796344518661499], [0.6945574283599854], [0.8135980367660522], [0.8007692694664001], [0.4697932302951813], [0.793117880821228], [0.7963467836380005], [0.8162192106246948], [0.8059520721435547], [0.7730334401130676], [0.7774266600608826], [0.9068050980567932], [0.8489272594451904], [0.8006166219711304], [0.6334885954856873], [0.6132492423057556], [0.7691377401351929], [0.7365649938583374], [0.8305374979972839], [0.836549699306488], [0.7298106551170349], [0.857947587966919], [0.7710524797439575], [0.8308707475662231], [0.8344457745552063], [0.690742552280426], [0.8365926742553711], [0.7594584226608276], [0.8330487608909607], [0.69969242811203], [0.7895475029945374], [0.7163382172584534], [0.8148868083953857], [0.7454336285591125], [0.7609896659851074], [0.7643897533416748], [0.8486238718032837], [0.729786217212677], [0.7751773595809937], [0.7117690443992615], [0.8184236288070679], [0.8227918148040771], [0.665520191192627], [0.762451708316803], [0.765753984451294], [0.8020647168159485], [0.7784345149993896], [0.5802781581878662], [0.7354082465171814], [0.8130790591239929], [0.7363101840019226], [0.8485134243965149], [0.8149001598358154], [0.8189976811408997], [0.8009843826293945], [0.572243332862854], [0.7635948657989502], [0.8277519941329956], [0.6324540972709656], [0.6827484965324402], [0.8586548566818237], [0.7454147338867188], [0.8291116952896118], [0.661324679851532], [0.7870176434516907], [0.8143141269683838], [0.7377394437789917], [0.6692199110984802], [0.8285642862319946], [0.8264316320419312], [0.8250218033790588], [0.7828378677368164], [0.7648884654045105], [0.7274618744850159], [0.7744629383087158], [0.8518298864364624], [0.7990153431892395], [0.7195782661437988], [0.776882529258728], [0.6323080658912659], [0.7872835397720337], [0.8316642045974731], [0.7700547575950623], [0.7586160898208618], [0.8068625926971436], [0.7957165837287903], [0.7373867630958557], [0.8629264235496521], [0.8175420165061951], [0.709276020526886], [0.8336576819419861], [0.8210954666137695], [0.6701724529266357], [0.8237754702568054], [0.6614329814910889], [0.7141608595848083], [0.8496833443641663], [0.8579053282737732], [0.7989435791969299], [0.7625865936279297], [0.8200780153274536], [0.8238239288330078], [0.7569470405578613], [0.8678528070449829], [0.843351423740387], [0.7603750824928284], [0.8352230787277222], [0.8904575109481812], [0.8249754309654236], [0.7462566494941711], [0.76517254114151], [0.7922971844673157], [0.7872509956359863], [0.7213519811630249], [0.8072364926338196], [0.8002411127090454], [0.7025691866874695], [0.7631145119667053], [0.7194077372550964], [0.7444871068000793], [0.8213610053062439], [0.7818500399589539], [0.7980473041534424], [0.7411752343177795], [0.8143082857131958], [0.7014262676239014], [0.7405152320861816], [0.7776443362236023], [0.7692601680755615], [0.8735873699188232], [0.8178399205207825], [0.7681870460510254], [0.7770957350730896], [0.761232852935791], [0.728323757648468], [0.7870992422103882], [0.78263258934021], [0.6768350005149841], [0.8594738245010376], [0.8052158951759338], [0.7991002202033997], [0.7672497034072876], [0.8743138909339905], [0.8381012082099915], [0.7482544779777527], [0.7784693837165833], [0.8384311199188232], [0.8449626564979553], [0.7816669940948486], [0.689810574054718], [0.7181315422058105], [0.8656136393547058], [0.6498945951461792], [0.8881147503852844], [0.8086118698120117], [0.7866856455802917], [0.8502893447875977], [0.6996824741363525], [0.8687955141067505], [0.8468574285507202], [0.746435284614563], [0.674968421459198], [0.7435139417648315], [0.8205600380897522], [0.8324099779129028], [0.6877356767654419], [0.7352067232131958], [0.8276441693305969], [0.8036887645721436], [0.8391087651252747], [0.828030526638031], [0.8347214460372925], [0.8264854550361633], [0.6820501685142517], [0.8171388506889343], [0.8125772476196289], [0.7615777850151062], [0.7059765458106995], [0.7653458714485168], [0.6220313310623169], [0.7400888800621033], [0.7784743905067444], [0.8196969628334045], [0.8087613582611084], [0.8694568276405334], [0.6991708874702454], [0.7246102094650269], [0.7216240167617798], [0.7838919758796692], [0.6921001672744751], [0.8484364151954651], [0.7564747929573059], [0.8066096901893616], [0.8386763334274292], [0.6671728491783142], [0.685245156288147], [0.774677038192749], [0.8033987879753113], [0.808303713798523], [0.7678933143615723], [0.8570243716239929], [0.8613483309745789], [0.8674197793006897], [0.8037782311439514], [0.7373992204666138], [0.6318129301071167], [0.8325625658035278], [0.797122597694397], [0.7991189956665039], [0.8397314548492432], [0.664058268070221], [0.5310054421424866], [0.7726173400878906], [0.7875841856002808], [0.8573077917098999], [0.7904521226882935], [0.6801780462265015], [0.7892020344734192], [0.6538020372390747], [0.7737442255020142], [0.8217347264289856], [0.772480845451355], [0.8341546058654785], [0.7635766267776489], [0.7892112731933594], [0.7715805768966675], [0.8084835410118103], [0.8192140460014343], [0.7515709400177002], [0.8031837940216064], [0.72519850730896], [0.744075357913971], [0.7661746740341187], [0.650144636631012], [0.8021945357322693], [0.5330348014831543], [0.6367518901824951], [0.7917200326919556], [0.7764939665794373], [0.7633689641952515], [0.6397913694381714], [0.8273216485977173], [0.772795557975769], [0.7466502785682678], [0.7637797594070435], [0.7336958646774292], [0.8077439069747925], [0.817428708076477], [0.7590137124061584], [0.6776683330535889], [0.7134395241737366], [0.6308248043060303], [0.8485673069953918], [0.7066446542739868], [0.827576220035553], [0.594137966632843], [0.7144290804862976], [0.7499512434005737], [0.7537670135498047], [0.6125742793083191], [0.8090721964836121], [0.7970622181892395], [0.8565239310264587], [0.7335854172706604], [0.6797507405281067], [0.7298694252967834], [0.7363598346710205], [0.7758309841156006], [0.6525203585624695], [0.5939749479293823], [0.8305927515029907], [0.714633584022522], [0.8644744753837585], [0.851057767868042], [0.7939375042915344], [0.7317497730255127], [0.7468160390853882], [0.7230910062789917], [0.6751406192779541], [0.7972315549850464], [0.8005188703536987], [0.7776059508323669], [0.748403012752533], [0.795188844203949], [0.6831833720207214], [0.6543028950691223], [0.7106063365936279], [0.5903989672660828], [0.8458492159843445], [0.882211446762085], [0.8152819275856018], [0.7619913816452026], [0.7554794549942017], [0.8732819557189941], [0.7969998121261597], [0.8000437617301941], [0.7952451705932617], [0.7707145810127258], [0.727477490901947], [0.8091961145401001], [0.8579869270324707], [0.7901197671890259], [0.7067821621894836], [0.8274644017219543], [0.8001722097396851], [0.6526709794998169], [0.7951270341873169], [0.8519148230552673], [0.6408633589744568], [0.8013629913330078], [0.8056964874267578], [0.7440825700759888], [0.8211904764175415], [0.661624014377594], [0.7004292011260986], [0.7958899736404419], [0.664058268070221], [0.840832531452179], [0.7529460787773132], [0.7587019801139832], [0.8089434504508972], [0.7503530383110046], [0.8611993789672852], [0.7928308248519897], [0.7735939025878906], [0.7982045412063599], [0.8525845408439636], [0.7956377267837524], [0.7361330389976501], [0.7941415309906006], [0.6806799173355103], [0.7185365557670593], [0.6809728741645813], [0.7357216477394104], [0.8424447774887085], [0.7214864492416382], [0.8535006046295166], [0.751341700553894], [0.8458158373832703], [0.8137975931167603], [0.8013703227043152], [0.7321568131446838], [0.7530767321586609], [0.7231548428535461], [0.8446422815322876], [0.775883674621582], [0.7548816800117493], [0.8610591888427734], [0.8388487100601196], [0.834216296672821], [0.8160082697868347], [0.7778878211975098], [0.3980914056301117], [0.7916315793991089], [0.8230750560760498], [0.8833836317062378], [0.8583807945251465], [0.8072623014450073], [0.8062150478363037], [0.7271499633789062], [0.6131523847579956], [0.7766217589378357], [0.7432155013084412], [0.7760881185531616], [0.8680818676948547], [0.7455801367759705], [0.8209183216094971], [0.8834376335144043], [0.7438571453094482], [0.7429094314575195], [0.7291966676712036], [0.7135077714920044], [0.7648187279701233], [0.8836033940315247], [0.8657484650611877], [0.7744591236114502], [0.6713539361953735], [0.7548702359199524], [0.8626705408096313], [0.8072591423988342], [0.8070937991142273], [0.7711159586906433], [0.6857889890670776], [0.7751773595809937], [0.8135713934898376], [0.8617342114448547], [0.6524317264556885], [0.7195807099342346], [0.7594597935676575], [0.772447407245636], [0.7865346670150757], [0.7876872420310974], [0.8075345158576965], [0.7240276336669922], [0.8582020401954651], [0.768375039100647], [0.7252880334854126], [0.7671499252319336], [0.8096237778663635], [0.7967727780342102], [0.7819576263427734], [0.7865768074989319], [0.7949918508529663], [0.7747265696525574], [0.7460920810699463], [0.7731559872627258], [0.6982446908950806], [0.7801586389541626], [0.6105185747146606], [0.8331597447395325], [0.7601524591445923], [0.7907570600509644], [0.7469417452812195], [0.8345795273780823], [0.7679290771484375], [0.8170250058174133], [0.6626492738723755], [0.7618399858474731], [0.6827295422554016], [0.7274612188339233], [0.7749040722846985], [0.8656231164932251], [0.6531119346618652], [0.7881794571876526], [0.8850700855255127], [0.7829315662384033], [0.7483224868774414], [0.8550296425819397], [0.7507680058479309], [0.8478199243545532], [0.6843761801719666], [0.8170415163040161], [0.8592238426208496], [0.78624027967453], [0.7272254228591919], [0.744813859462738], [0.8380332589149475], [0.8099302053451538], [0.7832237482070923], [0.8603484630584717], [0.8161897659301758], [0.7988595366477966], [0.8531108498573303], [0.7044410705566406], [0.7912824749946594], [0.687196671962738], [0.6267034411430359], [0.8178574442863464], [0.8036583662033081], [0.7368693351745605], [0.6088816523551941], [0.7513871192932129], [0.7464004755020142], [0.7552499771118164], [0.6873767971992493], [0.785082221031189], [0.7733446359634399], [0.8104513883590698], [0.7459841370582581], [0.5645490288734436], [0.7934761047363281], [0.6537505984306335], [0.7652593851089478], [0.8524050116539001], [0.8697324395179749], [0.826899528503418], [0.6892178058624268], [0.7844353914260864], [0.7591342329978943], [0.8181871771812439], [0.722183108329773], [0.7479585409164429], [0.7248194217681885], [0.7518202066421509], [0.8414414525032043], [0.8276500701904297], [0.6847471594810486], [0.7582207322120667], [0.6974923610687256], [0.8177792429924011], [0.7838606238365173], [0.6404858231544495], [0.6482454538345337], [0.709062397480011], [0.8440151810646057], [0.6722519397735596], [0.6795274019241333], [0.7992449402809143], [0.7795817852020264], [0.6657796502113342], [0.7802747488021851], [0.7428855895996094], [0.5744463205337524], [0.7399244904518127], [0.8494285345077515], [0.6913350224494934], [0.8266791105270386], [0.6761090755462646], [0.5660192966461182], [0.8382490873336792], [0.7007688879966736], [0.746879518032074], [0.6968255043029785], [0.7813234329223633], [0.7103303670883179], [0.7106231451034546], [0.8719961643218994], [0.7781285643577576], [0.8432890176773071], [0.5904064178466797], [0.662177324295044], [0.4918179214000702], [0.833922266960144], [0.8496822118759155], [0.8003779649734497], [0.7833378911018372], [0.7804862260818481], [0.8656136393547058], [0.8502229452133179], [0.8330330848693848], [0.8023908734321594], [0.750999391078949], [0.8107710480690002], [0.8361893892288208], [0.7054211497306824], [0.8398054838180542], [0.8337543606758118], [0.6229909658432007], [0.791469395160675], [0.8001977205276489], [0.6049746870994568], [0.7508163452148438], [0.5247457027435303], [0.7110323905944824], [0.7727767825126648], [0.8385230898857117], [0.8047393560409546], [0.8045774698257446], [0.7134749293327332], [0.7463950514793396], [0.764907956123352], [0.7924502491950989], [0.7690483927726746], [0.7738997936248779], [0.887580394744873], [0.7204340696334839], [0.6576347947120667], [0.6922759413719177], [0.8220239877700806], [0.7991532683372498], [0.7745519280433655], [0.6872832179069519], [0.7558098435401917], [0.7784348726272583], [0.8054051995277405], [0.8122878074645996], [0.7419744729995728], [0.4624420702457428], [0.818008303642273], [0.7343609929084778], [0.7398781776428223], [0.690502941608429], [0.8564030528068542], [0.8162822127342224], [0.8404387831687927], [0.7605804204940796], [0.6997043490409851], [0.8094900250434875], [0.8440878391265869], [0.7531952857971191], [0.6515131592750549], [0.830379843711853], [0.856221079826355], [0.7472216486930847], [0.7838947772979736], [0.5447021126747131], [0.7929068207740784], [0.6957095861434937], [0.7104378938674927], [0.8196184635162354], [0.8145814538002014], [0.7797167301177979], [0.7066446542739868], [0.6744785308837891], [0.8466157913208008], [0.8065332174301147], [0.7922031283378601], [0.8546901345252991], [0.8287404179573059], [0.6289704442024231], [0.8385493755340576], [0.836979329586029], [0.754939079284668], [0.843264102935791], [0.7642691135406494], [0.7081354260444641], [0.7623289227485657], [0.5968520641326904], [0.8506353497505188], [0.8917021751403809], [0.7619996070861816], [0.39672690629959106], [0.8488536477088928], [0.7275242209434509], [0.8562244176864624], [0.854703426361084], [0.7537664175033569], [0.8181502223014832], [0.5842472314834595], [0.8142856359481812], [0.7743693590164185], [0.7384166121482849], [0.8758090138435364], [0.8094835877418518], [0.7920161485671997], [0.8036365509033203], [0.8272245526313782], [0.772339940071106], [0.7983804941177368], [0.8154371976852417], [0.6818430423736572], [0.8239096999168396], [0.7407159209251404], [0.7191745638847351], [0.7404824495315552], [0.840819239616394], [0.7739884257316589], [0.7369760870933533], [0.8079575300216675], [0.7909273505210876], [0.7238830924034119], [0.788328230381012], [0.7906028032302856], [0.7241342663764954], [0.8586471676826477], [0.8786635994911194], [0.8204335570335388], [0.7195221185684204], [0.5535473227500916], [0.8175255060195923], [0.7512023448944092], [0.8141869306564331], [0.7722692489624023], [0.7799330949783325], [0.7548933625221252], [0.8363246917724609], [0.669416069984436], [0.6436373591423035], [0.7878211140632629], [0.789035439491272], [0.738024890422821], [0.7360408902168274], [0.6027516722679138], [0.8295297026634216], [0.5325449109077454], [0.8101208209991455], [0.8565239310264587], [0.7838678359985352], [0.6997120976448059], [0.683017373085022], [0.8254801034927368], [0.7593880295753479], [0.41315701603889465], [0.8027880191802979], [0.8760497570037842], [0.5746446847915649], [0.7406604290008545], [0.8375221490859985], [0.7343381643295288], [0.7431263327598572], [0.9039240479469299], [0.7896742224693298], [0.5924269556999207], [0.6969123482704163], [0.7308636903762817], [0.8675895929336548], [0.7587218880653381], [0.8048263192176819], [0.7729125022888184], [0.8065332174301147], [0.5044512152671814], [0.626494288444519], [0.7186070680618286], [0.7320871949195862], [0.8116225004196167], [0.7673943042755127], [0.6790295839309692], [0.734695553779602], [0.8333624601364136], [0.7455605268478394], [0.7655138373374939], [0.8321000933647156], [0.8225702047348022], [0.8546543717384338], [0.6916167736053467], [0.8742833733558655], [0.7232446074485779], [0.6943036913871765], [0.6523563265800476], [0.810717761516571], [0.9046758413314819], [0.6751942038536072], [0.8250777721405029], [0.8115095496177673], [0.8117414116859436], [0.7152284979820251], [0.7163277864456177], [0.7856952548027039], [0.8493403196334839], [0.774345874786377], [0.7575265169143677], [0.5589807629585266], [0.7032763957977295], [0.8227105736732483], [0.8172383904457092], [0.7830798029899597], [0.8059864640235901], [0.7258963584899902], [0.8182218074798584], [0.847406804561615], [0.8079549074172974], [0.7119123339653015], [0.7317183017730713], [0.8481863737106323], [0.750718891620636], [0.7090295553207397], [0.8763669729232788], [0.7618640065193176], [0.8452544808387756], [0.6759845018386841], [0.7106063365936279], [0.8076645731925964], [0.7116119861602783], [0.8294793367385864], [0.7041307687759399], [0.8096596598625183], [0.6541562080383301], [0.7301159501075745], [0.8178620338439941], [0.8264316320419312], [0.7783572673797607], [0.7870753407478333], [0.8286651968955994], [0.8778133392333984], [0.8209125399589539], [0.8565626740455627], [0.8613681793212891], [0.8382195830345154], [0.5421307682991028], [0.8104166984558105], [0.7276356816291809], [0.8720687031745911], [0.8348531723022461], [0.7829402089118958], [0.6763578057289124], [0.8534427881240845], [0.70885169506073], [0.7364189624786377], [0.7194007039070129], [0.7454971075057983], [0.7994343638420105], [0.7667914628982544], [0.7738783359527588], [0.8041017651557922], [0.8038457632064819], [0.8105026483535767], [0.6761471033096313], [0.8154772520065308], [0.5748142600059509], [0.7107531428337097], [0.8592238426208496], [0.8349913954734802], [0.7961583137512207], [0.7982990145683289], [0.7823017239570618], [0.7710277438163757], [0.8051034808158875], [0.7096973657608032], [0.812762439250946], [0.7543124556541443], [0.8293154239654541], [0.7975084185600281], [0.7280970811843872], [0.7460781335830688], [0.8256775140762329], [0.8028569221496582], [0.9079399704933167], [0.6855988502502441], [0.8023567199707031], [0.7715316414833069], [0.804175078868866], [0.8389373421669006], [0.7784416079521179], [0.7458638548851013], [0.8468955755233765], [0.7998300790786743], [0.5660192966461182], [0.692585289478302], [0.818791925907135], [0.6707320213317871], [0.7102487683296204], [0.7464004755020142], [0.8289786577224731], [0.776589035987854], [0.8786920309066772], [0.8341078758239746], [0.7329133152961731], [0.4399688243865967], [0.8204458951950073], [0.7798710465431213], [0.7826209664344788], [0.6988846063613892], [0.7247729897499084], [0.7662745118141174], [0.8647021651268005], [0.6869916915893555], [0.607668399810791], [0.804985761642456], [0.7522063255310059], [0.9005373120307922], [0.7584349513053894], [0.8492860198020935], [0.6593862175941467], [0.8178192377090454], [0.8279168605804443], [0.8469502329826355], [0.7637425065040588], [0.7884844541549683], [0.7449806928634644], [0.8456953167915344], [0.7048917412757874], [0.8787171840667725], [0.7882269024848938], [0.6428605914115906], [0.8610810041427612], [0.8125389218330383], [0.6130434274673462], [0.8763077855110168], [0.8121897578239441], [0.8465802669525146], [0.8317346572875977], [0.7134912610054016], [0.797186553478241], [0.7686540484428406], [0.784171998500824], [0.7188979387283325], [0.6680403351783752], [0.8082232475280762], [0.8148555755615234], [0.6352476477622986], [0.8015780448913574], [0.6514796614646912], [0.6124051809310913], [0.7467811107635498], [0.790406346321106], [0.7623846530914307], [0.8375221490859985], [0.8127622008323669], [0.7172496914863586], [0.8182358145713806], [0.8437275886535645], [0.8419566750526428], [0.8545490503311157], [0.7642205357551575], [0.6151638031005859], [0.7852944135665894], [0.7379127740859985], [0.5715330839157104], [0.6719647645950317], [0.7732254266738892], [0.6428471803665161], [0.7357216477394104], [0.7696548700332642], [0.7147880792617798], [0.6576347947120667], [0.7370968461036682], [0.7649785280227661], [0.8078917264938354], [0.7961052060127258], [0.866073727607727], [0.6618096232414246], [0.7184574604034424], [0.7565312385559082], [0.836549699306488], [0.7921551465988159], [0.7854305505752563], [0.8084506988525391], [0.8396292328834534], [0.8196906447410583], [0.833098292350769], [0.8910214304924011], [0.7302346229553223], [0.7544899582862854], [0.7216596007347107], [0.7687947750091553], [0.7487753629684448], [0.6592968702316284], [0.7928992509841919], [0.7227557897567749], [0.8144738674163818], [0.8592238426208496], [0.8021127581596375], [0.7480503916740417], [0.7344577312469482], [0.8603991270065308], [0.799558162689209], [0.8850870132446289], [0.7510131597518921], [0.7651607394218445], [0.7703900337219238], [0.7195221185684204], [0.8443171381950378], [0.855398416519165], [0.6571918725967407], [0.7838362455368042], [0.7555504441261292], [0.814314067363739], [0.6109166741371155], [0.7082659602165222], [0.8594202399253845], [0.7761633992195129], [0.764685332775116], [0.7951642870903015], [0.8363773822784424], [0.6313289403915405], [0.6876091361045837], [0.7075101137161255], [0.8430004715919495], [0.7965012788772583], [0.7112568616867065], [0.8171291351318359], [0.6589575409889221], [0.6803942918777466], [0.6909163594245911], [0.7613071799278259], [0.7968544960021973], [0.7132388353347778], [0.7796092629432678], [0.8043947219848633], [0.713378369808197], [0.8219543695449829], [0.8305587768554688], [0.653283953666687], [0.7533724904060364], [0.7305638194084167], [0.7565124034881592], [0.8516412377357483], [0.713565468788147], [0.7223005294799805], [0.8398463129997253], [0.7197253108024597], [0.8411047458648682], [0.7531549334526062], [0.7722668647766113], [0.656578540802002], [0.7616959810256958], [0.8641777634620667], [0.8318929672241211], [0.8155560493469238], [0.7777801156044006], [0.7317063808441162], [0.7838919758796692], [0.5159571170806885], [0.6940921545028687], [0.8523191213607788], [0.7594267129898071], [0.7700547575950623], [0.6520893573760986], [0.5845122337341309], [0.7392886877059937], [0.8375221490859985], [0.8375557065010071], [0.7330831289291382], [0.742567777633667], [0.7957004904747009], [0.7983052730560303], [0.8142619132995605], [0.8178650140762329], [0.7953534126281738], [0.8319087028503418], [0.7124180793762207], [0.7839402556419373], [0.7956722974777222], [0.8241541981697083], [0.7899279594421387], [0.6176960468292236], [0.7449806928634644], [0.7923166751861572], [0.8164412975311279], [0.7269777655601501], [0.7779330611228943], [0.8031579852104187], [0.42740771174430847], [0.782283365726471], [0.7509734630584717], [0.808339536190033], [0.8076212406158447], [0.8281853795051575], [0.791488766670227], [0.7323898077011108], [0.8033974170684814], [0.8286630511283875], [0.641948938369751], [0.8215669989585876], [0.8177846670150757], [0.8160994648933411], [0.8374122381210327], [0.7351420521736145], [0.7518125772476196], [0.6859962940216064], [0.7734864950180054], [0.6126396656036377], [0.7512689828872681], [0.7659359574317932], [0.7869678139686584], [0.775445282459259], [0.6199073791503906], [0.8152852654457092], [0.8162192106246948], [0.8569360971450806], [0.779494047164917], [0.8376095294952393], [0.8106310367584229], [0.8610591888427734], [0.7527070641517639], [0.8345286846160889], [0.8367149233818054], [0.6992268562316895], [0.7958932518959045], [0.8080837726593018], [0.8033663630485535], [0.8396679759025574], [0.76651930809021], [0.8508850336074829], [0.7239561676979065], [0.8123466968536377], [0.8197317123413086], [0.754086434841156], [0.7530078887939453], [0.7884652614593506], [0.890481173992157], [0.8809065818786621], [0.7219954133033752], [0.7820522785186768], [0.7242215871810913], [0.8232104182243347], [0.7870968580245972], [0.7501877546310425], [0.8102155327796936], [0.7161548733711243], [0.7419120669364929], [0.7281740307807922], [0.6192165017127991], [0.7671788334846497], [0.7406703233718872], [0.7673187255859375], [0.8041356801986694], [0.7987841367721558], [0.7075444459915161], [0.7095632553100586], [0.7904605269432068], [0.641700267791748], [0.780876874923706], [0.6932434439659119], [0.8331507444381714], [0.6763680577278137], [0.6497249007225037], [0.8165449500083923], [0.7775217890739441], [0.7118079662322998], [0.7414494156837463], [0.7658527493476868], [0.8517916202545166], [0.6101440787315369], [0.6831026673316956], [0.8633466362953186], [0.8662403225898743], [0.6414415836334229], [0.8032832145690918], [0.7960416674613953], [0.8295214772224426], [0.7849075794219971], [0.8284325003623962], [0.8651067018508911], [0.8081954717636108], [0.7022620439529419], [0.6647264957427979], [0.7830232977867126], [0.862008810043335], [0.7440922260284424], [0.6752707362174988], [0.8102770447731018], [0.8228969573974609], [0.8180689215660095], [0.845984160900116], [0.6061534881591797], [0.6775208115577698], [0.7405868768692017], [0.798479437828064], [0.5020710229873657], [0.7726022005081177], [0.7870359420776367], [0.8305222392082214], [0.8565763235092163], [0.7735826969146729], [0.7532484531402588], [0.7260092496871948], [0.7642258405685425], [0.7998260259628296], [0.7492544651031494], [0.739592969417572], [0.8380451202392578], [0.6655387878417969], [0.8099302053451538], [0.770002007484436], [0.7412450909614563], [0.7569597959518433], [0.8132885098457336], [0.6441100835800171], [0.688838005065918], [0.7884340286254883], [0.8489968180656433], [0.8559527397155762], [0.8153780102729797], [0.847841203212738], [0.5311028957366943], [0.6927128434181213], [0.7743887901306152], [0.7735896110534668], [0.832444965839386], [0.8099637627601624], [0.7310731410980225], [0.7788713574409485], [0.7548021674156189], [0.7260081171989441], [0.7778217792510986], [0.782508909702301], [0.7532510161399841], [0.7681357860565186], [0.8471572995185852], [0.8526893854141235], [0.6885687112808228], [0.7296491861343384], [0.7863874435424805], [0.7566735148429871], [0.5657694935798645], [0.7403814196586609], [0.7608668208122253], [0.836940348148346], [0.8320732116699219], [0.6455713510513306], [0.8090977072715759], [0.6620320081710815], [0.6594004034996033], [0.8089768886566162], [0.758561909198761], [0.8012499213218689], [0.8555713891983032], [0.8354305028915405], [0.8325759768486023], [0.8073179721832275], [0.6669785380363464], [0.8129904270172119], [0.7204122543334961], [0.8778133392333984], [0.7157312631607056], [0.7938230037689209], [0.7196916341781616], [0.8322466611862183], [0.7369540333747864], [0.773557722568512], [0.8269462585449219], [0.856899619102478], [0.8180293440818787], [0.7032963633537292], [0.7305368185043335], [0.8028003573417664], [0.8658409714698792], [0.8076294660568237], [0.7228458523750305], [0.795396089553833], [0.8233510851860046], [0.7303178906440735], [0.7742341160774231], [0.7841949462890625], [0.8219181299209595], [0.835974931716919], [0.7181052565574646], [0.7211966514587402], [0.7533402442932129], [0.6544474959373474], [0.7605594396591187], [0.7626852989196777], [0.7725489139556885], [0.6777014136314392], [0.6966122984886169], [0.7049016356468201], [0.6984471678733826], [0.6544308066368103], [0.667708694934845], [0.7150017619132996], [0.7438122034072876], [0.504035472869873], [0.7629135847091675], [0.8249303698539734], [0.8497679829597473], [0.8134180307388306], [0.7960284352302551], [0.791391909122467], [0.8156417608261108], [0.603780210018158], [0.7039535641670227], [0.8233128786087036], [0.7777901887893677], [0.7890564203262329], [0.7025691866874695], [0.7744513154029846], [0.6861531734466553], [0.6397913694381714], [0.7353796362876892], [0.7484169602394104], [0.8320732116699219], [0.8247517347335815], [0.7061868906021118], [0.6236720085144043], [0.7985864877700806], [0.8649641275405884], [0.8718754649162292], [0.6982295513153076], [0.8245014548301697], [0.7210383415222168], [0.7368693351745605], [0.7059984803199768], [0.7714561820030212], [0.7310525178909302], [0.787942111492157], [0.7216544151306152], [0.9107709527015686], [0.7842846512794495], [0.653897762298584], [0.8272245526313782], [0.7603778839111328], [0.7683731913566589], [0.6741593480110168], [0.8277247548103333], [0.8407901525497437], [0.7070780992507935], [0.7116519212722778], [0.806940495967865], [0.7177649736404419], [0.869430661201477], [0.7585076093673706], [0.8518125414848328], [0.8242269158363342], [0.5842980742454529], [0.43865031003952026], [0.7844032645225525], [0.8197552561759949], [0.8278430700302124], [0.8290988206863403], [0.8678528070449829], [0.7256295084953308], [0.7106941342353821], [0.7524957060813904], [0.806929886341095], [0.8244819641113281], [0.8340954184532166], [0.6674906015396118], [0.8507156372070312], [0.7234911322593689], [0.8020996451377869], [0.7890188097953796], [0.8371343016624451], [0.8527201414108276], [0.8487823009490967], [0.7901778221130371], [0.8833565711975098], [0.7881941795349121], [0.7607547640800476], [0.6129112243652344], [0.8014551401138306], [0.8748174905776978], [0.7901614308357239], [0.8379955887794495], [0.8198479413986206], [0.7655749917030334], [0.7520555853843689], [0.7915957570075989], [0.8344869017601013], [0.6973579525947571], [0.8401727080345154], [0.7812629342079163], [0.8045535683631897], [0.7979244589805603], [0.7917296886444092], [0.8284229040145874], [0.7646923661231995], [0.7423151135444641], [0.8646064400672913], [0.8435369729995728], [0.5476326942443848], [0.7222569584846497], [0.8000075221061707], [0.7653558850288391], [0.7540961503982544], [0.8729710578918457], [0.679004430770874], [0.7981694340705872], [0.795158863067627], [0.7936425805091858], [0.7932157516479492], [0.8060740232467651], [0.854872465133667], [0.6581867933273315], [0.7930619120597839], [0.7821383476257324], [0.7443366050720215], [0.8293227553367615], [0.7305638194084167], [0.7529080510139465], [0.833979070186615], [0.8471424579620361], [0.8065482378005981], [0.8279247879981995], [0.704169750213623], [0.8184681534767151], [0.75801020860672], [0.7455605268478394], [0.8057900667190552], [0.7669843435287476], [0.7827255725860596], [0.8193122148513794], [0.7278503179550171], [0.8078329563140869], [0.8100045919418335], [0.7983174920082092], [0.7799080610275269], [0.7564360499382019], [0.6202757954597473], [0.8385418653488159], [0.7347343564033508], [0.8020647168159485], [0.756118893623352], [0.7484460473060608], [0.7161282300949097], [0.6317542195320129], [0.6913173198699951], [0.8169358372688293], [0.7296913266181946], [0.6712142825126648], [0.7020951509475708], [0.7009839415550232], [0.6075695753097534], [0.6804125308990479], [0.7581819295883179], [0.7014967203140259], [0.797129213809967], [0.682361364364624], [0.8523253798484802], [0.6371082067489624], [0.8104189038276672], [0.8249006867408752], [0.8276313543319702], [0.7720799446105957], [0.7600817680358887], [0.7750663757324219], [0.5533387064933777], [0.8328539729118347], [0.7661516666412354], [0.5689762830734253], [0.9037163257598877], [0.7021884918212891], [0.8124710917472839], [0.8330776691436768], [0.8524050116539001], [0.7816091179847717], [0.694105327129364], [0.8128517270088196], [0.7997075319290161], [0.8192387819290161], [0.7337350845336914], [0.779849648475647], [0.6994163393974304], [0.6754229068756104], [0.7373496294021606], [0.7462477684020996], [0.6155713796615601], [0.7305475473403931], [0.664391040802002], [0.7798436284065247], [0.7959746718406677], [0.7178374528884888], [0.8398431539535522], [0.7928445339202881], [0.8459424376487732], [0.8202279806137085], [0.6978045701980591], [0.78116774559021], [0.8034443259239197], [0.7443065643310547], [0.8047984838485718], [0.799858033657074], [0.85666823387146], [0.7986643314361572], [0.8068361878395081], [0.6977213621139526], [0.7198976278305054], [0.8560229539871216], [0.7656826972961426], [0.8615923523902893], [0.7963259220123291], [0.8762688636779785], [0.8106571435928345], [0.7607317566871643], [0.820773720741272], [0.8457971811294556], [0.7392067909240723], [0.6719602942466736], [0.798757016658783], [0.8414414525032043], [0.6981379985809326], [0.790920078754425], [0.79367995262146], [0.7864246368408203], [0.6133918762207031], [0.7376259565353394], [0.7979931831359863], [0.8254115581512451], [0.8075569868087769], [0.8053711652755737], [0.7802978754043579], [0.7326701879501343], [0.8547360301017761], [0.6988509297370911], [0.8280270099639893], [0.7852943539619446], [0.7210818529129028], [0.8110734820365906], [0.8603991270065308], [0.883833646774292], [0.7867810726165771], [0.8397643566131592], [0.7479531168937683], [0.8143588900566101], [0.7647470831871033], [0.742653489112854], [0.8134331703186035], [0.7222715020179749], [0.7554414868354797], [0.8201587796211243], [0.8579126596450806], [0.7924759984016418], [0.7833704948425293], [0.6433761119842529], [0.7967641949653625], [0.8169316053390503], [0.8274644017219543], [0.6857220530509949], [0.7029410004615784], [0.885887086391449], [0.8213610053062439], [0.6836098432540894], [0.7745313048362732], [0.8013174533843994], [0.859360933303833], [0.6196683645248413], [0.6217944622039795], [0.7720869779586792], [0.8217347264289856], [0.7764012217521667], [0.7372305393218994], [0.8003779649734497], [0.8149001598358154], [0.7369443774223328], [0.8348174691200256], [0.5954738259315491], [0.8618448376655579], [0.8102884292602539], [0.45823606848716736], [0.7185530662536621], [0.7326611876487732], [0.7509403824806213], [0.7043421268463135], [0.8241332173347473], [0.8803880214691162], [0.8041887283325195], [0.7158921360969543], [0.7994374632835388], [0.8382383584976196], [0.7712374329566956], [0.7687665820121765], [0.775274932384491], [0.8040335178375244], [0.7449964284896851], [0.7509304285049438], [0.8482612371444702], [0.8247221112251282], [0.719599723815918], [0.8393906950950623], [0.5954272150993347], [0.7184028029441833], [0.7854540944099426], [0.7179547548294067], [0.7294970154762268], [0.8140725493431091], [0.7041307687759399], [0.7382569313049316], [0.8159528970718384], [0.564939022064209], [0.8045774698257446], [0.7131590247154236], [0.7137542366981506], [0.8015520572662354], [0.8736164569854736], [0.7151192426681519], [0.6036316156387329], [0.9006954431533813], [0.609734296798706], [0.7611499428749084], [0.7631387114524841], [0.5473226308822632], [0.7225437760353088], [0.7224975228309631], [0.7816517949104309], [0.5955885648727417], [0.8260104656219482], [0.8269215226173401], [0.8162485361099243], [0.8711287379264832], [0.7961215972900391], [0.8421091437339783], [0.8565763235092163], [0.8024103045463562], [0.698422372341156], [0.7405170202255249], [0.7306320667266846], [0.7736872434616089], [0.841914176940918], [0.8570401668548584], [0.7586979269981384], [0.7299628853797913], [0.8091369867324829], [0.8097111582756042], [0.6663920879364014], [0.8646716475486755], [0.7140953540802002], [0.8294005990028381], [0.8497771620750427], [0.8246045112609863], [0.6067104339599609], [0.8827097415924072], [0.8057546615600586], [0.7006542086601257], [0.7037771940231323], [0.8188290596008301], [0.6152263283729553], [0.8596267700195312], [0.8220256567001343], [0.7894031405448914], [0.7654229402542114], [0.8379529714584351], [0.7358632683753967], [0.838016927242279], [0.8407683968544006], [0.6758963465690613], [0.8170813918113708], [0.6758454442024231], [0.7397130727767944], [0.8454798460006714], [0.7728828191757202], [0.848000705242157], [0.662018358707428], [0.7200381755828857], [0.7531549334526062], [0.7351653575897217], [0.7302237749099731], [0.7610870003700256], [0.699315071105957], [0.7966955304145813], [0.6386988759040833], [0.7624344825744629], [0.7430952787399292], [0.7041029930114746], [0.7260081171989441], [0.7876015901565552], [0.8191581964492798], [0.7819969654083252], [0.8279590606689453], [0.74317866563797], [0.7222715020179749], [0.8129553198814392], [0.7001704573631287], [0.8223084807395935], [0.7903921604156494], [0.6741408109664917], [0.7491247653961182], [0.7836694121360779], [0.8417215943336487], [0.6953672766685486], [0.8839737772941589], [0.7220369577407837], [0.8256162405014038], [0.8154758214950562], [0.7812320590019226], [0.8441308736801147], [0.8540508151054382], [0.6752790808677673], [0.6389094591140747], [0.7550830841064453], [0.7341753244400024], [0.7856396436691284], [0.8063832521438599], [0.6916767358779907], [0.8299355506896973], [0.7647953629493713], [0.8185555934906006], [0.8933765888214111], [0.8184574842453003], [0.8170856237411499], [0.827216625213623], [0.8632338643074036], [0.8372677564620972], [0.7301539182662964], [0.543127715587616], [0.8414071798324585], [0.8445865511894226], [0.7336946129798889], [0.7921451330184937], [0.7031882405281067], [0.6615239381790161], [0.8008524179458618], [0.8128363490104675], [0.8098688721656799], [0.7140269875526428], [0.7611783146858215], [0.8065215945243835], [0.7029564380645752], [0.7119746804237366], [0.8310098648071289], [0.8228570222854614], [0.7198507785797119], [0.7708956003189087], [0.7830708026885986], [0.7373581528663635], [0.8083640336990356], [0.7978628277778625], [0.749427080154419], [0.7918784022331238], [0.8793505430221558], [0.7744513154029846], [0.6922964453697205], [0.8202638030052185], [0.8605703711509705], [0.7623788118362427], [0.7061087489128113], [0.8277908563613892], [0.7213493585586548], [0.8497679829597473], [0.7971504926681519], [0.7566434741020203], [0.8012397885322571], [0.7098149657249451], [0.8375481963157654], [0.7531113028526306], [0.7467182278633118], [0.8789690732955933], [0.8883627653121948], [0.7015758752822876], [0.7537088990211487], [0.7235888242721558], [0.7268005013465881], [0.7800431847572327], [0.8075599074363708], [0.7716275453567505], [0.7886162400245667], [0.4742971956729889], [0.7227365374565125], [0.6776666641235352], [0.7700355648994446], [0.8632367849349976], [0.686862051486969], [0.8566363453865051], [0.8687995672225952], [0.669140636920929], [0.6561218500137329], [0.7322988510131836], [0.7772411704063416], [0.8330515623092651], [0.7308797240257263], [0.7678402066230774], [0.803297758102417], [0.7971565127372742], [0.8404760360717773], [0.8221248984336853], [0.763172447681427], [0.849158763885498], [0.7620525360107422], [0.601921021938324], [0.6421495079994202], [0.7962043285369873], [0.774677038192749], [0.6209591627120972], [0.8543433547019958], [0.7351502776145935], [0.846668541431427], [0.7641258835792542], [0.5841547846794128], [0.8743138909339905], [0.8046301603317261], [0.7869850397109985], [0.781063437461853], [0.8732349872589111], [0.7587954998016357], [0.7533637881278992], [0.7171988487243652], [0.7839850783348083], [0.7702087163925171], [0.7709122896194458], [0.7264536619186401], [0.701599657535553], [0.6988040804862976], [0.6539832949638367], [0.7177865505218506], [0.7621527910232544], [0.8168028593063354], [0.6720101237297058], [0.6924819946289062], [0.8017789125442505], [0.618457555770874], [0.6330640912055969], [0.8733452558517456], [0.8310344219207764], [0.6816469430923462], [0.8261566162109375], [0.7614680528640747], [0.7861046195030212], [0.7535999417304993], [0.8063584566116333], [0.8187670111656189], [0.7871173024177551], [0.8062524795532227], [0.8166961669921875], [0.6417080163955688], [0.7394284009933472], [0.7777546048164368], [0.7207348942756653], [0.8673216700553894], [0.9024457335472107], [0.6803708076477051], [0.7709437608718872], [0.7629438638687134], [0.8603941798210144], [0.7264536619186401], [0.8335295915603638], [0.6889821290969849], [0.7612146735191345], [0.8327475190162659], [0.7677266597747803], [0.8019351959228516], [0.8850530385971069], [0.7283700704574585], [0.656455397605896], [0.8682166337966919], [0.5667178630828857], [0.7328153252601624], [0.7889530658721924], [0.7325910329818726], [0.7464856505393982], [0.6949431896209717], [0.7920640707015991], [0.8678898215293884], [0.8018534183502197], [0.8088828921318054], [0.8080723881721497], [0.6911557912826538], [0.8626443147659302], [0.794049084186554], [0.7830392718315125], [0.7667731046676636], [0.7464426159858704], [0.8185381293296814], [0.8010620474815369], [0.7373560070991516], [0.7905314564704895], [0.7992111444473267], [0.8617396950721741], [0.6867077350616455], [0.810149610042572], [0.722156286239624], [0.6909201145172119], [0.8494285345077515], [0.8223667144775391], [0.7706692218780518], [0.8546668887138367], [0.8006033897399902], [0.7342075109481812], [0.847297191619873], [0.7981812953948975], [0.8340772390365601], [0.7966980934143066], [0.8200071454048157], [0.8008225560188293], [0.842318058013916], [0.6961795091629028], [0.7895610928535461], [0.9037163257598877], [0.7546977996826172], [0.8651700019836426], [0.7243716716766357], [0.7945533990859985], [0.7747016549110413], [0.737116277217865], [0.7855726480484009], [0.7955362796783447], [0.7449026107788086], [0.611014723777771], [0.7759265303611755], [0.6870378255844116], [0.6751945614814758], [0.7202173471450806], [0.8038638234138489], [0.8863910436630249], [0.7565670609474182], [0.7821500301361084], [0.8542895317077637], [0.7993757128715515], [0.8414390087127686], [0.8519927263259888], [0.7821870446205139], [0.7628360390663147], [0.7120116353034973], [0.7763823866844177], [0.8497771620750427], [0.6156812310218811], [0.8006699681282043], [0.7706277966499329], [0.6105185747146606], [0.7168053388595581], [0.6524317264556885], [0.806194543838501], [0.7629729509353638], [0.7929471731185913], [0.8297722935676575], [0.7797709703445435], [0.7199311852455139], [0.7859926819801331], [0.7624533176422119], [0.8211376667022705], [0.653283953666687], [0.8260758519172668], [0.810149610042572], [0.7861457467079163], [0.8386399149894714], [0.7869986891746521], [0.8415874242782593], [0.8067389130592346], [0.6287163496017456], [0.7956464290618896], [0.8064050078392029], [0.7620720267295837], [0.7880257964134216], [0.8038488626480103], [0.7850017547607422], [0.7770273089408875], [0.8351404666900635], [0.6578221321105957], [0.8588753342628479], [0.7031256556510925], [0.7958335280418396], [0.8290143013000488], [0.8821569681167603], [0.7272072434425354], [0.7859926819801331], [0.739928662776947], [0.8140552043914795], [0.7288293838500977], [0.6538755893707275], [0.6365916728973389], [0.8141323924064636], [0.6069436073303223], [0.7688889503479004], [0.7854896187782288], [0.7898703813552856], [0.8037941455841064], [0.7930105328559875], [0.7862247228622437], [0.7716130018234253], [0.8795547485351562], [0.7974580526351929], [0.751773476600647], [0.752933144569397], [0.8629572987556458], [0.6826728582382202], [0.8485302925109863], [0.8055679202079773], [0.8166879415512085], [0.8402828574180603], [0.7667800784111023], [0.7403642535209656], [0.7188979387283325], [0.8333641886711121], [0.8367003798484802], [0.7867376208305359], [0.812762439250946], [0.742500364780426], [0.8523454070091248], [0.7734870910644531], [0.66179358959198], [0.8396472930908203], [0.834103524684906], [0.7271803021430969], [0.8213497996330261], [0.8061466813087463], [0.7289344072341919], [0.796044111251831], [0.7646800875663757], [0.7193331122398376], [0.7508058547973633], [0.7399320006370544], [0.6711440086364746], [0.8083432912826538], [0.6704975962638855], [0.7660416960716248], [0.8061800003051758], [0.7815080285072327], [0.7961006760597229], [0.8598855137825012], [0.8377209901809692], [0.9025347828865051], [0.8548996448516846], [0.7736222743988037], [0.8255515694618225], [0.7891641855239868], [0.7366420030593872], [0.786921501159668], [0.8283315300941467], [0.8130600452423096], [0.7877906560897827], [0.6935768127441406], [0.6980878114700317], [0.7185407876968384], [0.7682361006736755], [0.8975103497505188], [0.7713127136230469], [0.81341552734375], [0.7301082015037537], [0.7263979911804199], [0.5958414673805237], [0.7468910813331604], [0.6571077704429626], [0.7961562871932983], [0.7362380027770996], [0.7195889353752136], [0.7263124585151672], [0.7447611689567566], [0.7536344528198242], [0.830559492111206], [0.7113466858863831], [0.8596267700195312], [0.7392617464065552], [0.7319939136505127], [0.7833682894706726], [0.7807788252830505], [0.7933019399642944], [0.8694568276405334], [0.7812629342079163], [0.6760543584823608], [0.7310901880264282], [0.8090737462043762], [0.8283315300941467], [0.7781374454498291], [0.7879878878593445], [0.7029204368591309], [0.719914436340332], [0.6665418148040771], [0.8189722299575806], [0.7686371803283691], [0.719696044921875], [0.8004580140113831], [0.6461848616600037], [0.6593387126922607], [0.8450537323951721], [0.8115179538726807], [0.748299241065979], [0.879165530204773], [0.7733446359634399], [0.7810818552970886], [0.8318712711334229], [0.6628961563110352], [0.8045027852058411], [0.7888177037239075], [0.7646229863166809], [0.6415066719055176], [0.8255861401557922], [0.7466418147087097], [0.8876284956932068], [0.7847583293914795], [0.7618734836578369], [0.7346277236938477], [0.7832230925559998], [0.6602228283882141], [0.8065332174301147], [0.849146842956543], [0.6195301413536072], [0.8294572830200195], [0.8099848628044128], [0.49534401297569275], [0.8314672112464905], [0.7474660277366638], [0.5937696695327759], [0.7128950953483582], [0.8514353632926941], [0.6603386402130127], [0.8030619025230408], [0.8141666650772095], [0.8366529941558838], [0.6994163393974304], [0.719688355922699], [0.8365228772163391], [0.8227851390838623], [0.5758348703384399], [0.7067776322364807], [0.8328405618667603], [0.8392493724822998], [0.6948208212852478], [0.6733644604682922], [0.7308351993560791], [0.8533006906509399], [0.7359041571617126], [0.6814263463020325], [0.8052414059638977], [0.6482454538345337], [0.7191745638847351], [0.7560909986495972], [0.733553946018219], [0.7108179330825806], [0.7785850763320923], [0.8453562259674072], [0.7992165684700012], [0.7576802968978882], [0.7531656622886658], [0.7579018473625183], [0.6977123022079468], [0.7666312456130981], [0.7761879563331604], [0.7539013028144836], [0.6277109980583191], [0.8399243950843811], [0.7097097635269165], [0.6492729783058167], [0.7990953922271729], [0.8491619825363159], [0.7098723649978638], [0.8056706190109253], [0.7531960010528564], [0.7059059143066406], [0.759773313999176], [0.7919479608535767], [0.6651356220245361], [0.6214629411697388], [0.7056030631065369], [0.7123717069625854], [0.8777955770492554], [0.7029990553855896], [0.5996444821357727], [0.8096246123313904], [0.5719263553619385], [0.6553643941879272], [0.7607277631759644], [0.88238126039505], [0.7663290500640869], [0.7785214185714722], [0.7925752997398376], [0.7784416079521179], [0.7392354607582092], [0.6912534832954407], [0.6037958264350891], [0.7162699699401855], [0.8483272790908813], [0.8696044683456421], [0.7451977133750916], [0.8194010853767395], [0.7366807460784912], [0.7198822498321533], [0.7448942065238953], [0.8318197131156921], [0.6917019486427307], [0.7718572616577148], [0.6887497305870056], [0.8232442140579224], [0.8488740921020508], [0.7221493721008301], [0.7958939075469971], [0.7964071035385132], [0.5718215703964233], [0.6294640302658081], [0.684070348739624], [0.7710689902305603], [0.8054116368293762], [0.7461209297180176], [0.6569608449935913], [0.8361220359802246], [0.79921555519104], [0.7766824960708618], [0.6852520108222961], [0.7402933835983276], [0.782599687576294], [0.8733654022216797], [0.8168938755989075], [0.7315633296966553], [0.8548309206962585], [0.7488183379173279], [0.8016821146011353], [0.7742413282394409], [0.782192587852478], [0.8343393802642822], [0.8209866881370544], [0.844539999961853], [0.6324414610862732], [0.6873865723609924], [0.707071840763092], [0.623144805431366], [0.8300451040267944], [0.7086699604988098], [0.7848793268203735], [0.5523395538330078], [0.8176361918449402], [0.8442949056625366], [0.7453665733337402], [0.8534506559371948], [0.8572166562080383], [0.8846758604049683], [0.6956090331077576], [0.45176494121551514], [0.7815383076667786], [0.8031364679336548], [0.7915261387825012], [0.6926974654197693], [0.8302937746047974], [0.8151723146438599], [0.7298516631126404], [0.8541019558906555], [0.8183022737503052], [0.8207343220710754], [0.8137041330337524], [0.873702347278595], [0.7683361768722534], [0.8073378801345825], [0.8109194040298462], [0.8072903156280518], [0.7508507370948792], [0.7811055183410645], [0.7921353578567505], [0.6925944685935974], [0.8094646334648132], [0.7023054361343384], [0.8463565707206726], [0.6233873963356018], [0.7692490220069885], [0.7559153437614441], [0.7556740641593933], [0.8077276349067688], [0.7682666182518005], [0.8289786577224731], [0.7614187598228455], [0.5444932579994202], [0.6383894681930542], [0.842318058013916], [0.8197307586669922], [0.7534295320510864], [0.5879310369491577], [0.8171162605285645], [0.8112803101539612], [0.8470799922943115], [0.7446852326393127], [0.7776826620101929], [0.7244786620140076], [0.6925860047340393], [0.8293518424034119], [0.8300169706344604], [0.8359584808349609], [0.7586972117424011], [0.9066749811172485], [0.7889530658721924], [0.6638617515563965], [0.737574577331543], [0.7356140613555908], [0.8044056296348572], [0.7474176287651062], [0.8834157586097717], [0.7437548637390137], [0.7227290868759155], [0.8321141600608826], [0.8830744028091431], [0.7807433009147644], [0.7962471842765808], [0.8570789694786072], [0.6816447973251343], [0.7346932888031006], [0.7472935914993286], [0.7592952251434326], [0.7351927757263184], [0.7789903283119202], [0.6518228054046631], [0.7250992655754089], [0.8501595854759216], [0.7703759670257568], [0.8433470129966736], [0.7472754716873169], [0.9006954431533813], [0.8502636551856995], [0.8326243162155151], [0.839508056640625], [0.7754752039909363], [0.8011437058448792], [0.7460703253746033], [0.7746535539627075], [0.8537795543670654], [0.7779186964035034], [0.7489456534385681], [0.8242795467376709], [0.6627411246299744], [0.7956979870796204], [0.6638611555099487], [0.5232547521591187], [0.8193982839584351], [0.7556163668632507], [0.822592556476593], [0.8295740485191345], [0.8323262333869934], [0.8695712089538574], [0.5451583862304688], [0.7504959106445312], [0.887580394744873], [0.8792638182640076], [0.7405745983123779], [0.725872814655304], [0.8667133450508118], [0.7105221152305603], [0.815904438495636], [0.7483119368553162], [0.7945817112922668], [0.818459153175354], [0.8013783097267151], [0.7805289626121521], [0.8537782430648804], [0.6100597381591797], [0.8646697998046875], [0.8496382832527161], [0.8015780448913574], [0.8264287710189819], [0.8259854316711426], [0.7983073592185974], [0.8327445387840271], [0.7806856632232666], [0.7032464742660522], [0.6719874739646912], [0.7686663866043091], [0.8121835589408875], [0.8553065657615662], [0.8154376745223999], [0.8255841732025146], [0.7996575236320496], [0.7776042222976685], [0.8141666650772095], [0.7878804802894592], [0.8480943441390991], [0.8347001075744629], [0.7602168917655945], [0.58997642993927], [0.827274739742279], [0.7783572673797607], [0.519540011882782], [0.8460510969161987], [0.73771733045578], [0.8175422549247742], [0.8295373916625977], [0.7732805013656616], [0.7363274693489075], [0.8852856755256653], [0.7197859287261963], [0.7800522446632385], [0.6500284671783447], [0.7332572340965271], [0.7476591467857361], [0.8299412727355957], [0.8778975009918213], [0.8282655477523804], [0.7617337703704834], [0.8029946088790894], [0.873921811580658], [0.615185022354126], [0.8271897435188293], [0.8253055214881897], [0.7864862084388733], [0.7676559090614319], [0.8327180743217468], [0.679762065410614], [0.6909806132316589], [0.8076674342155457], [0.7763838768005371], [0.8582020401954651], [0.6627907156944275], [0.7748422026634216], [0.7305638194084167], [0.7835889458656311], [0.858129620552063], [0.8087418079376221], [0.8741043210029602], [0.7287380695343018], [0.7842016816139221], [0.813517153263092], [0.788780689239502], [0.674168586730957], [0.7285494804382324], [0.7745257019996643], [0.8177597522735596], [0.7423611283302307], [0.8877371549606323], [0.7752951383590698], [0.8056154251098633], [0.7489528059959412], [0.8599013686180115], [0.6558621525764465], [0.8128932118415833], [0.7615269422531128], [0.7256414890289307], [0.8272908926010132], [0.5836088061332703], [0.7519195079803467], [0.7353939414024353], [0.7380176782608032], [0.8211860060691833], [0.8634013533592224], [0.7945266962051392], [0.8695423603057861], [0.7126327753067017], [0.7430118322372437], [0.6053088903427124], [0.7751746773719788], [0.7839006185531616], [0.7611499428749084], [0.8131830096244812], [0.8474640250205994], [0.8348174691200256], [0.7682543992996216], [0.8000437617301941], [0.659293532371521], [0.7720358371734619], [0.7352445721626282], [0.6548935174942017], [0.63176029920578], [0.8559394478797913], [0.7255973815917969], [0.8678112030029297], [0.748341977596283], [0.7375402450561523], [0.7608518004417419], [0.841590940952301], [0.7874908447265625], [0.8620249032974243], [0.6705169081687927], [0.796486496925354], [0.8247888684272766], [0.7631255388259888], [0.6584779620170593], [0.7438998818397522], [0.7640727758407593], [0.8044290542602539], [0.7575629353523254], [0.8672752976417542], [0.757905125617981], [0.8564618825912476], [0.6806711554527283], [0.6719205975532532], [0.7703900337219238], [0.6273417472839355], [0.8060963153839111], [0.6593177318572998], [0.7327189445495605], [0.7168818712234497], [0.7468910813331604], [0.7913300395011902], [0.8235143423080444], [0.5779181718826294], [0.6927034258842468], [0.8413650393486023], [0.7347398996353149], [0.873263955116272], [0.807512640953064], [0.7269675731658936], [0.7414435148239136], [0.7212116122245789], [0.8292058706283569], [0.5418253540992737], [0.7618333697319031], [0.8377640247344971], [0.8416686058044434], [0.7886074781417847], [0.8116198182106018], [0.814115047454834], [0.8472617864608765], [0.8529529571533203], [0.7737001776695251], [0.759057879447937], [0.8900024890899658], [0.8057597875595093], [0.7600982785224915], [0.6736229062080383], [0.8527002334594727], [0.7310437560081482], [0.6484687924385071], [0.6703428626060486], [0.8604791164398193], [0.6397823095321655], [0.6970524787902832], [0.8744330406188965], [0.7697922587394714], [0.7039676308631897], [0.8037270903587341], [0.8188378214836121], [0.723870575428009], [0.8130790591239929], [0.8019548058509827], [0.8416427373886108], [0.7392988801002502], [0.8181686997413635], [0.8320847153663635], [0.7276558876037598], [0.7713345885276794], [0.7536738514900208], [0.785931408405304], [0.8737499117851257], [0.635388195514679], [0.791807234287262], [0.6690607070922852], [0.6915944218635559], [0.7601740956306458], [0.8598372936248779], [0.8354954719543457], [0.772497832775116], [0.7270486354827881], [0.7986351251602173], [0.7278503179550171], [0.7895759344100952], [0.6865724325180054], [0.6966205835342407], [0.8279996514320374], [0.9088318347930908], [0.7411425113677979], [0.7489023208618164], [0.7591855525970459], [0.7539419531822205], [0.8209183216094971], [0.781100332736969], [0.7749039530754089], [0.8200832605361938], [0.7120298743247986], [0.7447910904884338], [0.7126798629760742], [0.658258855342865], [0.6703979969024658], [0.8562244176864624], [0.7438483238220215], [0.7343260645866394], [0.8066828846931458], [0.790634036064148], [0.7289910316467285], [0.7668596506118774], [0.8117450475692749], [0.639785885810852], [0.6306794881820679], [0.8381708860397339], [0.8396135568618774], [0.8391969799995422], [0.792726457118988], [0.6132999062538147], [0.7200485467910767], [0.7466994524002075], [0.7312554121017456], [0.6099681854248047], [0.8683234453201294], [0.8239247798919678], [0.7402716875076294], [0.8500850796699524], [0.6538802981376648], [0.6205666065216064], [0.7978963851928711], [0.8629411458969116], [0.6321645379066467], [0.7936670780181885], [0.710947573184967], [0.7010924220085144], [0.8468360900878906], [0.83771812915802], [0.7887154221534729], [0.626778781414032], [0.7031667232513428], [0.8497128486633301], [0.8744884729385376], [0.753102719783783], [0.8349021077156067], [0.7796298265457153], [0.7574694752693176], [0.8086663484573364], [0.809984564781189], [0.7988478541374207], [0.758733868598938], [0.6597665548324585], [0.5863209962844849], [0.8452168107032776], [0.6139445900917053], [0.6105033159255981], [0.8313011527061462], [0.6534590721130371], [0.8385794162750244], [0.7636063098907471], [0.7976693511009216], [0.6258329153060913], [0.8282749652862549], [0.7647101879119873], [0.6898763179779053], [0.7541764974594116], [0.7337889671325684], [0.6332666277885437], [0.7890932559967041], [0.6828697919845581], [0.8022176027297974], [0.8360977172851562], [0.6365573406219482], [0.8225935101509094], [0.7506954073905945], [0.7673206329345703], [0.7889851927757263], [0.5387879610061646], [0.7738631963729858], [0.8640477061271667], [0.841896116733551], [0.8357548117637634], [0.777847409248352], [0.7531449198722839], [0.7830984592437744], [0.8030977845191956], [0.8404098153114319], [0.8446422815322876], [0.7882355451583862], [0.8130403161048889], [0.7381488084793091], [0.7379127740859985], [0.5084744691848755], [0.8024340271949768], [0.6565443873405457], [0.9026306867599487], [0.8285642862319946], [0.843350887298584], [0.8647754192352295], [0.7904449105262756], [0.8323376178741455], [0.6647967100143433], [0.7780044078826904], [0.8023567199707031], [0.769646167755127], [0.6945636868476868], [0.7985864877700806], [0.791680634021759], [0.8856038451194763], [0.7497856020927429], [0.8134721517562866], [0.7644858360290527], [0.6962640881538391], [0.8355444669723511], [0.762440025806427], [0.7286101579666138], [0.7392580509185791], [0.8928290605545044], [0.7912263870239258], [0.7037637233734131], [0.7368898987770081], [0.6679061055183411], [0.712001621723175], [0.6222426295280457], [0.7920324802398682], [0.7560698390007019], [0.6223807334899902], [0.7424679398536682], [0.5314993262290955], [0.849121630191803], [0.8729710578918457], [0.8358178734779358], [0.774187445640564], [0.7257309556007385], [0.7043577432632446], [0.8188161253929138], [0.7500151991844177], [0.7767353057861328], [0.8121692538261414], [0.7398508191108704], [0.790634036064148], [0.8207300305366516], [0.7324501276016235], [0.7916001081466675], [0.7311164736747742], [0.7929319143295288], [0.7745519280433655], [0.7058112621307373], [0.7729849815368652], [0.7973387241363525], [0.7887275815010071], [0.8427091240882874], [0.7864327430725098], [0.8355740308761597], [0.7865052819252014], [0.8734114170074463], [0.8547820448875427], [0.6378179788589478], [0.822054386138916], [0.8290687203407288], [0.8007155656814575], [0.7289607524871826], [0.7548450827598572], [0.628444492816925], [0.6113142967224121], [0.7479811906814575], [0.7377625703811646], [0.8190721273422241], [0.8258088231086731], [0.8149052262306213], [0.7007225155830383], [0.7644748091697693], [0.7912920713424683], [0.5860289335250854], [0.8219460844993591], [0.7270402908325195], [0.7994080781936646], [0.8564618825912476], [0.788926899433136], [0.8640477061271667], [0.8003394603729248], [0.7595210671424866], [0.7502788305282593], [0.6842922568321228], [0.6324517130851746], [0.8454593420028687], [0.7758309841156006], [0.8364030122756958], [0.8340076804161072], [0.7036210298538208], [0.7365691661834717], [0.7463085055351257], [0.7523708939552307], [0.8643738031387329], [0.8459107279777527], [0.7269777655601501], [0.7251289486885071], [0.6151242256164551], [0.7345736622810364], [0.8086035847663879], [0.7314080595970154], [0.8264039158821106], [0.7637781500816345], [0.770651638507843], [0.9009340405464172], [0.7276175618171692], [0.8054103851318359], [0.8402698040008545], [0.7655994892120361], [0.7089663147926331], [0.7623460292816162], [0.8216018080711365], [0.6817759275436401], [0.7906678915023804], [0.7828431725502014], [0.8251371383666992], [0.7531952857971191], [0.8385652899742126], [0.7211303114891052], [0.7767239212989807], [0.7279829978942871], [0.8280506730079651], [0.7161484360694885], [0.8075381517410278], [0.8688485622406006], [0.8129553198814392], [0.8399243950843811], [0.7746872305870056], [0.7540678381919861], [0.7695171236991882], [0.6565724015235901], [0.8001558780670166], [0.7309346199035645], [0.737557590007782], [0.6374840140342712], [0.8349913954734802], [0.8179714679718018], [0.7140893936157227], [0.751373291015625], [0.8194511532783508], [0.7410233616828918], [0.5907455682754517], [0.7759659290313721], [0.7197973728179932], [0.7235177159309387], [0.6392490267753601], [0.7112435102462769], [0.810644268989563], [0.7670563459396362], [0.7227868437767029], [0.6583206057548523], [0.661288857460022], [0.7751688361167908], [0.7820265293121338], [0.8335805535316467], [0.8281444907188416], [0.7845157384872437], [0.8080900311470032], [0.6483626961708069], [0.6706010699272156], [0.7607977986335754], [0.8695870637893677], [0.7783328890800476], [0.8302974104881287], [0.79995197057724], [0.6797877550125122], [0.7917288541793823], [0.7751773595809937], [0.7091235518455505], [0.8600873947143555], [0.688309907913208], [0.8342438340187073], [0.7236970067024231], [0.6007915735244751], [0.8554221391677856], [0.7467727065086365], [0.8091961145401001], [0.7174542546272278], [0.817617654800415], [0.8128363490104675], [0.8178650140762329], [0.8241536617279053], [0.7990255951881409], [0.6335495710372925], [0.8072713613510132], [0.7186803221702576], [0.7868314385414124], [0.7367640137672424], [0.8091162443161011], [0.7700382471084595], [0.8146051168441772], [0.7627644538879395], [0.7586541771888733], [0.7816136479377747], [0.8809977173805237], [0.7971208691596985], [0.7144650220870972], [0.7202629446983337], [0.7536957859992981], [0.7085789442062378], [0.7534455060958862], [0.8234837055206299], [0.761688232421875], [0.7673180103302002], [0.5777343511581421], [0.6732532382011414], [0.5199784636497498], [0.695845365524292], [0.7511151432991028], [0.8021049499511719], [0.7761304378509521], [0.7261912822723389], [0.7817198634147644], [0.7812320590019226], [0.7682774066925049], [0.8131830096244812], [0.7641644477844238], [0.7555655837059021], [0.8672592043876648], [0.6462928652763367], [0.8083702325820923], [0.7915648818016052], [0.7885339260101318], [0.8137383460998535], [0.8635064363479614], [0.7704392671585083], [0.8098077774047852], [0.8221775889396667], [0.8097471594810486], [0.822121798992157], [0.798437774181366], [0.815477728843689], [0.594506561756134], [0.7897347211837769], [0.6609596610069275], [0.8338971138000488], [0.8379170894622803], [0.8495283722877502], [0.8415425419807434], [0.7393017411231995], [0.8070613145828247], [0.7066676020622253], [0.7841618657112122], [0.8335669636726379], [0.8637382984161377], [0.7878890633583069], [0.7394320964813232], [0.8417274951934814], [0.8215302228927612], [0.7486745119094849], [0.7482942938804626], [0.8206294178962708], [0.7243658900260925], [0.7238246202468872], [0.6903380155563354], [0.7820426821708679], [0.7283700704574585], [0.6217637658119202], [0.761641800403595], [0.7805289626121521], [0.8419636487960815], [0.773197591304779], [0.5421096086502075], [0.8117326498031616], [0.7972322702407837], [0.7895405292510986], [0.8045774698257446], [0.7411251664161682], [0.8443257212638855], [0.787359893321991], [0.8529842495918274], [0.7915108799934387], [0.799136757850647], [0.742295503616333], [0.6943647861480713], [0.7856752276420593], [0.419666051864624], [0.7639259696006775], [0.7451744079589844], [0.8639479875564575], [0.63954758644104], [0.7689681649208069], [0.3601888120174408], [0.743158757686615], [0.7720326781272888], [0.8239745497703552], [0.8223941326141357], [0.6489057540893555], [0.8397300243377686], [0.7696388959884644], [0.5389290452003479], [0.48738619685173035], [0.7843579053878784], [0.6752870678901672], [0.7606809139251709], [0.819238007068634], [0.7486413717269897], [0.7926292419433594], [0.8320732116699219], [0.8108844757080078], [0.7525079846382141], [0.7556170225143433], [0.7996755838394165], [0.8033061623573303], [0.7128618359565735], [0.8569227457046509], [0.828593373298645], [0.38185492157936096], [0.6921159029006958], [0.8243019580841064], [0.7940162420272827], [0.8037941455841064], [0.8028713464736938], [0.7071095108985901], [0.6346259713172913], [0.6837396621704102], [0.5807012319564819], [0.7826202511787415], [0.7900684475898743], [0.6634231209754944], [0.7790298461914062], [0.6892329454421997], [0.807756781578064], [0.7903831601142883], [0.7343329191207886], [0.7858738303184509], [0.8158228993415833], [0.8238263726234436], [0.8280678391456604], [0.7686036825180054], [0.8427726626396179], [0.6534377932548523], [0.8825870752334595], [0.7631185054779053], [0.8453026413917542], [0.6296355128288269], [0.6614267826080322], [0.5644638538360596], [0.8982102870941162], [0.8684587478637695], [0.8175130486488342], [0.7241867184638977], [0.5285791754722595], [0.658258318901062], [0.7097476124763489], [0.8369527459144592], [0.7585561871528625], [0.8176974058151245], [0.8293247222900391], [0.8205311894416809], [0.8144322633743286], [0.7910234928131104], [0.7531386017799377], [0.6955676674842834], [0.8191581964492798], [0.6178135871887207], [0.7222711443901062], [0.8862980604171753], [0.7250475883483887], [0.7349159717559814], [0.7190050482749939], [0.5979278683662415], [0.8131267428398132], [0.8377267718315125], [0.8306516408920288], [0.7726142406463623], [0.7475388050079346], [0.6764728426933289], [0.8146236538887024], [0.7757145166397095], [0.75260329246521], [0.7939454913139343], [0.8615923523902893], [0.7591579556465149], [0.8312956094741821], [0.8510855436325073], [0.8527002334594727], [0.7908453345298767], [0.7639666795730591], [0.7799080610275269], [0.6192766427993774], [0.7162699699401855], [0.7853498458862305], [0.8469462394714355], [0.7317765355110168], [0.6386541128158569], [0.7646543383598328], [0.6871752142906189], [0.6590434908866882], [0.8508514761924744], [0.8468574285507202], [0.7935712337493896], [0.8141708374023438], [0.7849006056785583], [0.575600802898407], [0.6941635012626648], [0.7771742939949036], [0.6042261719703674], [0.8093432188034058], [0.6632069945335388], [0.7989367246627808], [0.7307551503181458], [0.7590047717094421], [0.8373627662658691], [0.6569797396659851], [0.8814860582351685], [0.8272359371185303], [0.7839213609695435], [0.7225561738014221], [0.7750419974327087], [0.6733691692352295], [0.7756363749504089], [0.6552802920341492], [0.7464437484741211], [0.8553570508956909], [0.7703273892402649], [0.787950873374939], [0.837102472782135], [0.7994659543037415], [0.7704814672470093], [0.713787853717804], [0.7326241731643677], [0.8570401668548584], [0.7499671578407288], [0.8352247476577759], [0.7211936116218567], [0.8227481245994568], [0.7900670170783997], [0.8321858048439026], [0.7845703363418579], [0.6434255838394165], [0.7563413977622986], [0.8527893424034119], [0.597032368183136], [0.8480614423751831], [0.7335275411605835], [0.6952561140060425], [0.7964478135108948], [0.7719423174858093], [0.7156688570976257], [0.770264208316803], [0.6102065443992615], [0.7997491359710693], [0.8343377709388733], [0.6092557907104492], [0.807473361492157], [0.7774167060852051], [0.6041670441627502], [0.8866838812828064], [0.6723805665969849], [0.7569574117660522], [0.6850923895835876], [0.7340888381004333], [0.7691887021064758], [0.8641777634620667], [0.7611346244812012], [0.707101047039032], [0.7749809622764587], [0.7129064202308655], [0.7783328890800476], [0.6706308722496033], [0.6231883764266968], [0.8081782460212708], [0.775445282459259], [0.7347566485404968], [0.8760497570037842], [0.6633832454681396], [0.8665728569030762], [0.7366589307785034], [0.8788672089576721], [0.6306861639022827], [0.7516671419143677], [0.679767370223999], [0.824415922164917], [0.8186715245246887], [0.739531934261322], [0.774450957775116], [0.7589361071586609], [0.7806856632232666], [0.8433446884155273], [0.8344376087188721], [0.7872262597084045], [0.8466235399246216], [0.7941499352455139], [0.7825789451599121], [0.6492170095443726], [0.6920155882835388], [0.7620355486869812], [0.828101396560669], [0.7587352395057678], [0.7732797861099243], [0.8252837061882019], [0.7699158191680908], [0.6864962577819824], [0.6951173543930054], [0.8036808967590332], [0.7547109723091125], [0.6741260886192322], [0.658314049243927], [0.7527070641517639], [0.7850701212882996], [0.822859525680542], [0.7319518327713013], [0.7687941193580627], [0.8052200675010681], [0.797398567199707], [0.6731547117233276], [0.8191539645195007], [0.8347383141517639], [0.8109198808670044], [0.7549899816513062], [0.754353940486908], [0.8171297907829285], [0.8371292948722839], [0.7607566118240356], [0.75930255651474], [0.7441781163215637], [0.7187635898590088], [0.7853137850761414], [0.8816081881523132], [0.8459107279777527], [0.8732803463935852], [0.8463956713676453], [0.8615152835845947], [0.7250542640686035], [0.7032011151313782], [0.8648664951324463], [0.7152990102767944], [0.7506775259971619], [0.8272364139556885], [0.8276500701904297], [0.753523051738739], [0.7876940965652466], [0.7755213975906372], [0.7134168148040771], [0.8056756854057312], [0.7691112756729126], [0.8290791511535645], [0.7908415794372559], [0.7660171985626221], [0.8077695369720459], [0.6968622803688049], [0.8717404007911682], [0.7518247961997986], [0.8027534484863281], [0.7902546525001526], [0.8452926278114319], [0.7839791774749756], [0.8104469180107117], [0.7872309684753418], [0.6016403436660767], [0.7527526617050171], [0.7270234823226929], [0.7103041410446167], [0.886314868927002], [0.6599742770195007], [0.7103317379951477], [0.778319239616394]] [[0], [0], [0], [0], [0], [0], [0], [0], [0], [0], [0], [0], [0], [0], [0], [0], [0], [0], [0], [0], [0], [0], [0], [0], [0], [0], [0], [0], [0], [0], [0], [0], [0], [0], [0], [0], [0], [0], [0], [0], [0], [0], [0], [0], [0], [0], [0], [0], [0], [0], [0], [0], [0], [0], [0], [0], [0], [0], [0], [0], [0], [0], [0], [0], [0], [0], [0], [0], [0], [0], [0], [0], [0], [0], [0], [0], [0], [0], [0], [0], [0], [0], [0], [0], [0], [0], [0], [0], [0], [0], [0], [0], [0], [0], [0], [0], [0], [0], [0], [0], [0], [0], [0], [0], [0], [0], [0], [0], [0], [0], [0], [0], [0], [0], [0], [0], [0], [0], [0], [0], [0], [0], [0], [0], [0], [0], [0], [0], [0], [0], [0], [0], [0], [0], [0], [0], [0], [0], [0], [0], [0], [0], [0], [0], [0], [0], [0], [0], [0], [0], [0], [0], [0], [0], [0], [0], [0], [0], [0], [0], [0], [0], [0], [0], [0], [0], [0], [0], [0], [0], [0], [0], [0], [0], [0], [0], [0], [0], [0], [0], [0], [0], [0], [0], [0], [0], [0], [0], [0], [0], [0], [0], [0], [0], [0], [0], [0], [0], [0], [0], [0], [0], [0], [0], [0], [0], [0], [0], [0], [0], [0], [0], [0], [0], [0], [0], [0], [0], [0], [0], [0], [0], [0], [0], [0], [0], [0], [0], [0], [0], [0], [0], [0], [0], [0], [0], [0], [0], [0], [0], [0], [0], [0], [0], [0], [0], [0], [0], [0], [0], [0], [0], [0], [0], [0], [0], [0], [0], [0], [0], [0], [0], [0], [0], [0], [0], [0], [0], [0], [0], [0], [0], [0], [0], [0], [0], [0], [0], [0], [0], [0], [0], [0], [0], [0], [0], [0], [0], [0], [0], [0], [0], [0], [0], [0], [0], [0], [0], [0], [0], [0], [0], [0], [0], [0], [0], [0], [0], [0], [0], [0], [0], [0], [0], [0], [0], [0], [0], [0], [0], [0], [0], [0], [0], [0], [0], [0], [0], [0], [0], [0], [0], [0], [0], [0], [0], [0], [0], [0], [0], [0], [0], [0], [0], [0], [0], [0], [0], [0], [0], [0], [0], [0], [0], [0], [0], [0], [0], [0], [0], [0], [0], [0], [0], [0], [0], [0], [0], [0], [0], [0], [0], [0], [0], [0], [0], [0], [0], [0], [0], [0], [0], [0], [0], [0], [0], [0], [0], [0], [0], [0], [0], [0], [0], [0], [0], [0], [0], [0], [0], [0], [0], [0], [0], [0], [0], [0], [0], [0], [0], [0], [0], [0], [0], [0], [0], [0], [0], [0], [0], [0], [0], [0], [0], [0], [0], [0], [0], [0], [0], [0], [0], [0], [0], [0], [0], [0], [0], [0], [0], [0], [0], [0], [0], [0], [0], [0], [0], [0], [0], [0], [0], [0], [0], [0], [0], [0], [0], [0], [0], [0], [0], [0], [0], [0], [0], [0], [0], [0], [0], [0], [0], [0], [0], [0], [0], [0], [0], [0], [0], [0], [0], [0], [0], [0], [0], [0], [0], [0], [0], [0], [0], [0], [0], [0], [0], [0], [0], [0], [0], [0], [0], [0], [0], [0], [0], [0], [0], [0], [0], [0], [0], [0], [0], [0], [0], [0], [0], [0], [0], [0], [0], [0], [0], [0], [0], [0], [0], [0], [0], [0], [0], [0], [0], [0], [0], [0], [0], [0], [0], [0], [0], [0], [0], [0], [0], [0], [0], [0], [0], [0], [0], [0], [0], [0], [0], [0], [0], [0], [0], [0], [0], [0], [0], [0], [0], [0], [0], [0], [0], [0], [0], [0], [0], [0], [0], [0], [0], [0], [0], [0], [0], [0], [0], [0], [0], [0], [0], [0], [0], [0], [0], [0], [0], [0], [0], [0], [0], [0], [0], [0], [0], [0], [0], [0], [0], [0], [0], [0], [0], [0], [0], [0], [0], [0], [0], [0], [0], [0], [0], [0], [0], [0], [0], [0], [0], [0], [0], [0], [0], [0], [0], [0], [0], [0], [0], [0], [0], [0], [0], [0], [0], [0], [0], [0], [0], [0], [0], [0], [0], [0], [0], [0], [0], [0], [0], [0], [0], [0], [0], [0], [0], [0], [0], [0], [0], [0], [0], [0], [0], [0], [0], [0], [0], [0], [0], [0], [0], [0], [0], [0], [0], [0], [0], [0], [0], [0], [0], [0], [0], [0], [0], [0], [0], [0], [0], [0], [0], [0], [0], [0], [0], [0], [0], [0], [0], [0], [0], [0], [0], [0], [0], [0], [0], [0], [0], [0], [0], [0], [0], [0], [0], [0], [0], [0], [0], [0], [0], [0], [0], [0], [0], [0], [0], [0], [0], [0], [0], [0], [0], [0], [0], [0], [0], [0], [0], [0], [0], [0], [0], [0], [0], [0], [0], [0], [0], [0], [0], [0], [0], [0], [0], [0], [0], [0], [0], [0], [0], [0], [0], [0], [0], [0], [0], [0], [0], [0], [0], [0], [0], [0], [0], [0], [0], [0], [0], [0], [0], [0], [0], [0], [0], [0], [0], [0], [0], [0], [0], [0], [0], [0], [0], [0], [0], [0], [0], [0], [0], [0], [0], [0], [0], [0], [0], [0], [0], [0], [0], [0], [0], [0], [0], [0], [0], [0], [0], [0], [0], [0], [0], [0], [0], [0], [0], [0], [0], [0], [0], [0], [0], [0], [0], [0], [0], [0], [0], [0], [0], [0], [0], [0], [0], [0], [0], [0], [0], [0], [0], [0], [0], [0], [0], [0], [0], [0], [0], [0], [0], [0], [0], [0], [0], [0], [0], [0], [0], [0], [0], [0], [0], [0], [0], [0], [0], [0], [0], [0], [0], [0], [0], [0], [0], [0], [0], [0], [0], [0], [0], [0], [0], [0], [0], [0], [0], [0], [0], [0], [0], [0], [0], [0], [0], [0], [0], [0], [0], [0], [0], [0], [0], [0], [0], [0], [0], [0], [0], [0], [0], [0], [0], [0], [0], [0], [0], [0], [0], [0], [0], [0], [0], [0], [0], [0], [0], [0], [0], [0], [0], [0], [0], [0], [0], [0], [0], [0], [0], [0], [0], [0], [0], [0], [0], [0], [0], [0], [0], [0], [0], [0], [0], [0], [0], [0], [0], [0], [0], [0], [0], [0], [0], [0], [0], [0], [0], [0], [0], [0], [0], [0], [0], [0], [0], [0], [0], [0], [0], [0], [0], [0], [0], [0], [0], [0], [0], [0], [0], [0], [0], [0], [0], [0], [0], [0], [0], [0], [0], [0], [0], [0], [0], [0], [0], [0], [0], [0], [0], [0], [0], [0], [0], [0], [0], [0], [0], [0], [0], [0], [0], [0], [0], [0], [0], [0], [0], [0], [0], [0], [0], [0], [0], [0], [0], [0], [0], [0], [0], [0], [0], [0], [0], [0], [0], [0], [0], [0], [0], [0], [0], [0], [0], [0], [0], [0], [0], [0], [0], [0], [0], [0], [0], [0], [0], [0], [0], [0], [0], [0], [0], [0], [0], [0], [0], [0], [0], [0], [0], [0], [0], [0], [0], [0], [0], [0], [0], [0], [0], [0], [0], [0], [0], [0], [0], [0], [0], [0], [0], [0], [0], [0], [0], [0], [0], [0], [0], [0], [0], [0], [0], [0], [0], [0], [0], [0], [0], [0], [0], [0], [0], [0], [0], [0], [0], [0], [0], [0], [0], [0], [0], [0], [0], [0], [0], [0], [0], [0], [0], [0], [0], [0], [0], [0], [0], [0], [0], [0], [0], [0], [0], [0], [0], [0], [0], [0], [0], [0], [0], [0], [0], [0], [0], [0], [0], [0], [0], [0], [0], [0], [0], [0], [0], [0], [0], [0], [0], [0], [0], [0], [0], [0], [0], [0], [0], [0], [0], [0], [0], [0], [0], [0], [0], [0], [0], [0], [0], [0], [0], [0], [0], [0], [0], [0], [0], [0], [0], [0], [0], [0], [0], [0], [0], [0], [0], [0], [0], [0], [0], [0], [0], [0], [0], [0], [0], [0], [0], [0], [0], [0], [0], [0], [0], [0], [0], [0], [0], [0], [0], [0], [0], [0], [0], [0], [0], [0], [0], [0], [0], [0], [0], [0], [0], [0], [0], [0], [0], [0], [0], [0], [0], [0], [0], [0], [0], [0], [0], [0], [0], [0], [0], [0], [0], [0], [0], [0], [0], [0], [0], [0], [0], [0], [0], [0], [0], [0], [0], [0], [0], [0], [0], [0], [0], [0], [0], [0], [0], [0], [0], [0], [0], [0], [0], [0], [0], [0], [0], [0], [0], [0], [0], [0], [0], [0], [0], [0], [0], [0], [0], [0], [0], [0], [0], [0], [0], [0], [0], [0], [0], [0], [0], [0], [0], [0], [0], [0], [0], [0], [0], [0], [0], [0], [0], [0], [0], [0], [0], [0], [0], [0], [0], [0], [0], [0], [0], [0], [0], [0], [0], [0], [0], [0], [0], [0], [0], [0], [0], [0], [0], [0], [0], [0], [0], [0], [0], [0], [0], [0], [0], [0], [0], [0], [0], [0], [0], [0], [0], [0], [0], [0], [0], [0], [0], [0], [0], [0], [0], [0], [0], [0], [0], [0], [0], [0], [0], [0], [0], [0], [0], [0], [0], [0], [0], [0], [0], [0], [0], [0], [0], [0], [0], [0], [0], [0], [0], [0], [0], [0], [0], [0], [0], [0], [0], [0], [0], [0], [0], [0], [0], [0], [0], [0], [0], [0], [0], [0], [0], [0], [0], [0], [0], [0], [0], [0], [0], [0], [0], [0], [0], [0], [0], [0], [0], [0], [0], [0], [0], [0], [0], [0], [0], [0], [0], [0], [0], [0], [0], [0], [0], [0], [0], [0], [0], [0], [0], [0], [0], [0], [0], [0], [0], [0], [0], [0], [0], [0], [0], [0], [0], [0], [0], [0], [0], [0], [0], [0], [0], [0], [0], [0], [0], [0], [0], [0], [0], [0], [0], [0], [0], [0], [0], [0], [0], [0], [0], [0], [0], [0], [0], [0], [0], [0], [0], [0], [0], [0], [0], [0], [0], [0], [0], [0], [0], [0], [0], [0], [0], [0], [0], [0], [0], [0], [0], [0], [0], [0], [0], [0], [0], [0], [0], [0], [0], [0], [0], [0], [0], [0], [0], [0], [0], [0], [0], [0], [0], [0], [0], [0], [0], [0], [0], [0], [0], [0], [0], [0], [0], [0], [0], [0], [0], [0], [0], [0], [0], [0], [0], [0], [0], [0], [0], [0], [0], [0], [0], [0], [0], [0], [0], [0], [0], [0], [0], [0], [0], [0], [0], [0], [0], [0], [0], [0], [0], [0], [0], [0], [0], [0], [0], [0], [0], [0], [0], [0], [0], [0], [0], [0], [0], [0], [0], [0], [0], [0], [0], [0], [0], [0], [0], [0], [0], [0], [0], [0], [0], [0], [0], [0], [0], [0], [0], [0], [0], [0], [0], [0], [0], [0], [0], [0], [0], [0], [0], [0], [0], [0], [0], [0], [0], [0], [0], [0], [0], [0], [0], [0], [0], [0], [0], [0], [0], [0], [0], [0], [0], [0], [0], [0], [0], [0], [0], [0], [0], [0], [0], [0], [0], [0], [0], [0], [0], [0], [0], [0], [0], [0], [0], [0], [0], [0], [0], [0], [0], [0], [0], [0], [0], [0], [0], [0], [0], [0], [0], [0], [0], [0], [0], [0], [0], [0], [0], [0], [0], [0], [0], [0], [0], [0], [0], [0], [0], [0], [0], [0], [0], [0], [0], [0], [0], [0], [0], [0], [0], [0], [0], [0], [0], [0], [0], [0], [0], [0], [0], [0], [0], [0], [0], [0], [0], [0], [0], [0], [0], [0], [0], [0], [0], [0], [0], [0], [0], [0], [0], [0], [0], [0], [0], [0], [0], [0], [0], [0], [0], [0], [0], [0], [0], [0], [0], [0], [0], [0], [0], [0], [0], [0], [0], [0], [0], [0], [0], [0], [0], [0], [0], [0], [0], [0], [0], [0], [0], [0], [0], [0], [0], [0], [0], [0], [0], [0], [0], [0], [0], [0], [0], [0], [0], [0], [0], [0], [0], [0], [0], [0], [0], [0], [0], [0], [0], [0], [0], [0], [0], [0], [0], [0], [0], [0], [0], [0], [0], [0], [0], [0], [0], [0], [0], [0], [0], [0], [0], [0], [0], [0], [0], [0], [0], [0], [0], [0], [0], [0], [0], [0], [0], [0], [0], [0], [0], [0], [0], [0], [0], [0], [0], [0], [0], [0], [0], [0], [0], [0], [0], [0], [0], [0], [0], [0], [0], [0], [0], [0], [0], [0], [0], [0], [0], [0], [0], [0], [0], [0], [0], [0], [0], [0], [0], [0], [0], [0], [0], [0], [0], [0], [0], [0], [0], [0], [0], [0], [0], [0], [0], [0], [0], [0], [0], [0], [0], [0], [0], [0], [0], [0], [0], [0], [0], [0], [0], [0], [0], [0], [0], [0], [0], [0], [0], [0], [0], [0], [0], [0], [0], [0], [0], [0], [0], [0], [0], [0], [0], [0], [0], [0], [0], [0], [0], [0], [0], [0], [0], [0], [0], [0], [0], [0], [0], [0], [0], [0], [0], [0], [0], [0], [0], [0], [0], [0], [0], [0], [0], [0], [0], [0], [0], [0], [0], [0], [0], [0], [0], [0], [0], [0], [0], [0], [0], [0], [0], [0], [0], [0], [0], [0], [0], [0], [0], [0], [0], [0], [0], [0], [0], [0], [0], [0], [0], [0], [0], [0], [0], [0], [0], [0], [0], [0], [0], [0], [0], [0], [0], [0], [0], [0], [0], [0], [0], [0], [0], [0], [0], [0], [0], [0], [0], [0], [0], [0], [0], [0], [0], [0], [0], [0], [0], [0], [0], [0], [0], [0], [0], [0], [0], [0], [0], [0], [0], [0], [0], [0], [0], [0], [0], [0], [0], [0], [0], [0], [0], [0], [0], [0], [0], [0], [0], [0], [0], [0], [0], [0], [0], [0], [0], [0], [0], [0], [0], [0], [0], [0], [0], [0], [0], [0], [0], [0], [0], [0], [0], [0], [0], [0], [0], [0], [0], [0], [0], [0], [0], [0], [0], [0], [0], [0], [0], [0], [0], [0], [0], [0], [0], [0], [0], [0], [0], [0], [0], [0], [0], [0], [0], [0], [0], [0], [0], [0], [0], [0], [0], [0], [0], [0], [0], [0], [0], [0], [0], [0], [0], [0], [0], [0], [0], [0], [0], [0], [0], [0], [0], [0], [0], [0], [0], [0], [0], [0], [0], [0], [0], [0], [0], [0], [0], [0], [0], [0], [0], [0], [0], [0], [0], [0], [0], [0], [0], [0], [0], [0], [0], [0], [0], [0], [0], [0], [0], [0], [0], [0], [0], [0], [0], [0], [0], [0], [0], [0], [0], [0], [0], [0], [0], [0], [0], [0], [0], [0], [0], [0], [0], [0], [0], [0], [0], [0], [0], [0], [0], [0], [0], [0], [0], [0], [0], [0], [0], [0], [0], [0], [0], [0], [0], [0], [0], [0], [0], [0], [0], [0], [0], [0], [0], [0], [0], [0], [0], [0], [0], [0], [0], [0], [0], [0], [0], [0], [0], [0], [0], [0], [0], [0], [0], [0], [0], [0], [0], [0], [0], [0], [0], [0], [0], [0], [0], [0], [0], [0], [0], [0], [0], [0], [0], [0], [0], [0], [0], [0], [0], [0], [0], [0], [0], [0], [0], [0], [0], [0], [0], [0], [0], [0], [0], [0], [0], [0], [0], [0], [0], [0], [0], [0], [0], [0], [0], [0], [0], [0], [0], [0], [0], [0], [0], [0], [0], [0], [0], [0], [0], [0], [0], [0], [0], [0], [0], [0], [0], [0], [0], [0], [0], [0], [0], [0], [0], [0], [0], [0], [0], [0], [0], [0], [0], [0], [0], [0], [0], [0], [0], [0], [0], [0], [0], [0], [0], [0], [0], [0], [0], [0], [0], [0], [0], [0], [0], [0], [0], [0], [0], [0], [0], [0], [0], [0], [0], [0], [0], [0], [0], [0], [0], [0], [0], [0], [0], [0], [0], [0], [0], [0], [0], [0], [0], [0], [0], [0], [0], [0], [0], [0], [0], [0], [0], [0], [0], [0], [0], [0], [0], [0], [0], [0], [0], [0], [0], [0], [0], [0], [0], [0], [0], [0], [0], [0], [0], [0], [0], [0], [0], [0], [0], [0], [0], [0], [0], [0], [0], [0], [0], [0], [0], [0], [0], [0], [0], [0], [0], [0], [0], [0], [0], [0], [0], [0], [0], [0], [0], [0], [0], [0], [0], [0], [0], [0], [0], [0], [0], [0], [0], [0], [0], [0], [0], [0], [0], [0], [0], [0], [0], [0], [0], [0], [0], [0], [0], [0], [0], [0], [0], [0], [0], [0], [0], [0], [0], [0], [0], [0], [0], [0], [0], [0], [0], [0], [0], [0], [0], [0], [0], [0], [0], [0], [0], [0], [0], [0], [0], [0], [0], [0], [0], [0], [0], [0], [0], [0], [0], [0], [0], [0], [0], [0], [0], [0], [0], [0], [0], [0], [0], [0], [0], [0], [0], [0], [0], [0], [0], [0], [0], [0], [0], [0], [0], [0], [0], [0], [0], [0], [0], [0], [0], [0], [0], [0], [0], [0], [0], [0], [0], [0], [0], [0], [0], [0], [0], [0], [0], [0], [0], [0], [0], [0], [0], [0], [0], [0], [0], [0], [0], [0], [0], [0], [0], [0], [0], [0], [0], [0], [0], [0], [0], [0], [0], [0], [0], [0], [0], [0], [0], [0], [0], [0], [0], [0], [0], [0], [0], [0], [0], [0], [0], [0], [0], [0], [0], [0], [0], [0], [0], [0], [0], [0], [0], [0], [0], [0], [0], [0], [0], [0], [0], [0], [0], [0], [0], [0], [0], [0], [0], [0], [0], [0], [0], [0], [0], [0], [0], [0], [0], [0], [0], [0], [0], [0], [0], [0], [0], [0], [0], [0], [0], [0], [0], [0], [0], [0], [0], [0], [0], [0], [0], [0], [0], [0], [0], [0], [0], [0], [0], [0], [0], [0], [0], [0], [0], [0], [0], [0], [0], [0], [0], [0], [0], [0], [0], [0], [0], [0], [0], [0], [0], [0], [0], [0], [0], [0], [0], [0], [0], [0], [0], [0], [0], [0], [0], [0], [0], [0], [0], [0], [0], [0], [0], [0], [0], [0], [0], [0], [0], [0], [0], [0], [0], [0], [0], [0], [0], [0], [0], [0], [0], [0], [0], [0], [0], [0], [0], [0], [0], [0], [0], [0], [0], [0], [0], [0], [0], [0], [0], [0], [0], [0], [0], [0], [0], [0], [0], [0], [0], [0], [0], [0], [0], [0], [0], [0], [0], [0], [0], [0], [0], [0], [0], [0], [0], [0], [0], [0], [0], [0], [0], [0], [0], [0], [0], [0], [0], [0], [0], [0], [0], [0], [0], [0], [0], [0], [0], [0], [0], [0], [0], [0], [0], [0], [0], [0], [0], [0], [0], [0], [0], [0], [0], [0], [0], [0], [0], [0], [0], [0], [0], [0], [0], [0], [0], [0], [0], [0], [0], [0], [0], [0], [0], [0], [0], [0], [0], [0], [0], [0], [0], [0], [0], [0], [0], [0], [0], [0], [0], [0], [0], [0], [0], [0], [0], [0], [0], [0], [0], [0], [0], [0], [0], [0], [0], [0], [0], [0], [0], [0], [0], [0], [0], [0], [0], [0], [0], [0], [0], [0], [0], [0], [0], [0], [0], [0], [0], [0], [0], [0], [0], [0], [0], [0], [0], [0], [0], [0], [0], [0], [0], [0], [0], [0], [0], [0], [0], [0], [0], [0], [0], [0], [0], [0], [0], [0], [0], [0], [0], [0], [0], [0], [0], [0], [0], [0], [0], [0], [0], [0], [0], [0], [0], [0], [0], [0], [0], [0], [0], [0], [0], [0], [0], [0], [0], [0], [0], [0], [0], [0], [0], [0], [0], [0], [0], [0], [0], [0], [0], [0], [0], [0], [0], [0], [0], [0], [0], [0], [0], [0], [0], [0], [0], [0], [0], [0], [0], [0], [0], [0], [0], [0], [0], [0], [0], [0], [0], [0], [0], [0], [0], [0], [0], [0], [0], [0], [0], [0], [0], [0], [0], [0], [0], [0], [0], [0], [0], [0], [0], [0], [0], [0], [0], [0], [0], [0], [0], [0], [0], [0], [0], [0], [0], [0], [0], [0], [0], [0], [0], [0], [0], [0], [0], [0], [0], [0], [0], [0], [0], [0], [0], [0], [0], [0], [0], [0], [0], [0], [0], [0], [0], [0], [0], [0], [0], [0], [0], [0], [0], [0], [0], [0], [0], [0], [0], [0], [0], [0], [0], [0], [0], [0], [0], [0], [0], [0], [0], [0], [0], [0], [0], [0], [0], [0], [0], [0], [0], [0], [0], [0], [0], [0], [0], [0], [0], [0], [0], [0], [0], [0], [0], [0], [0], [0], [0], [0], [0], [0], [0], [0], [0], [0], [0], [0], [0], [0], [0], [0], [0], [0], [0], [0], [0], [0], [0], [0], [0], [0], [0], [0], [0], [0], [0], [0], [0], [0], [0], [0], [0], [0], [0], [0], [0], [0], [0], [0], [0], [0], [0], [0], [0], [0], [0], [0], [0], [0], [0], [0], [0], [0], [0], [0], [0], [0], [0], [0], [0], [0], [0], [0], [0], [0], [0], [0], [0], [0], [0], [0], [0], [0], [0], [0], [0], [0], [0], [0], [0], [0], [0], [0], [0], [0], [0], [0], [0], [0], [0], [0], [0], [0], [0], [0], [0], [0], [0], [0], [0], [0], [0], [0], [0], [0], [0], [0], [0], [0], [0], [0], [0], [0], [0], [0], [0], [0], [0], [0], [0], [0], [0], [0], [0], [0], [0], [0], [0], [0], [0], [0], [0], [0], [0], [0], [0], [0], [0], [0], [0], [0], [0], [0], [0], [0], [0], [0], [0], [0], [0], [0], [0], [0], [0], [0], [0], [0], [0], [0], [0], [0], [0], [0], [0], [0], [0], [0], [0], [0], [0], [0], [0], [0], [0], [0], [0], [0], [0], [0], [0], [0], [0], [0], [0], [0], [0], [0], [0], [0], [0], [0], [0], [0], [0], [0], [0], [0], [0], [0], [0], [0], [0], [0], [0], [0], [0], [0], [0], [0], [0], [0], [0], [0], [0], [0], [0], [0], [0], [0], [0], [0], [0], [0], [0], [0], [0], [0], [0], [0], [0], [0], [0], [0], [0], [0], [0], [0], [0], [0], [0], [0], [0], [0], [0], [0], [0], [0], [0], [0], [0], [0], [0], [0], [0], [0], [0], [0], [0], [0], [0], [0], [0], [0], [0], [0], [0], [0], [0], [0], [0], [0], [0], [0], [0], [0], [0], [0], [0], [0], [0], [0], [0], [0], [0], [0], [0], [0], [0], [0], [0], [0], [0], [0], [0], [0], [0], [0], [0], [0], [0], [0], [0], [0], [0], [0], [0], [0], [0], [0], [0], [0], [0], [0], [0], [0], [0], [0], [0], [0], [0], [0], [0], [0], [0], [0], [0], [0], [0], [0], [0], [0], [0], [0], [0], [0], [0], [0], [0], [0], [0], [0], [0], [0], [0], [0], [0], [0], [0], [0], [0], [0], [0], [0], [0], [0], [0], [0], [0], [0], [0], [0], [0], [0], [0], [0], [0], [0], [0], [0], [0], [0], [0], [0], [0], [0], [0], [0], [0], [0], [0], [0], [0], [0], [0], [0], [0], [0], [0], [0], [0], [0], [0], [0], [0], [0], [0], [0], [0], [0], [0], [0], [0], [0], [0], [0], [0], [0], [0], [0], [0], [0], [0], [0], [0], [0], [0], [0], [0], [0], [0], [0], [0], [0], [0], [0], [0], [0], [0], [0], [0], [0], [0], [0], [0], [0], [0], [0], [0], [0], [0], [0], [0], [0], [0], [0], [0], [0], [0], [0], [0], [0], [0], [0], [0], [0], [0], [0], [0], [0], [0], [0], [0], [0], [0], [0], [0], [0], [0], [0], [0], [0], [0], [0], [0], [0], [0], [0], [0], [0], [0], [0], [0], [0], [0], [0], [0], [0], [0], [0], [0], [0], [0], [0], [0], [0], [0], [0], [0], [0], [0], [0], [0], [0], [0], [0], [0], [0], [0], [0], [0], [0], [0], [0], [0], [0], [0], [0], [0], [0], [0], [0], [0], [0], [0], [0], [0], [0], [0], [0], [0], [0], [0], [0], [0], [0], [0], [0], [0], [0], [0], [0], [0], [0], [0], [0], [0], [0], [0], [0], [0], [0], [0], [0], [0], [0], [0], [0], [0], [0], [0], [0], [0], [0], [0], [0], [0], [0], [0], [0], [0], [0], [0], [0], [0], [0], [0], [0], [0], [0], [0], [0], [0], [0], [0], [0], [0], [0], [0], [0], [0], [0], [0], [0], [0], [0], [0], [0], [0], [0], [0], [0], [0], [0], [0], [0], [0], [0], [0], [0], [0], [0], [0], [0], [0], [0], [0], [0], [0], [0], [0], [0], [0], [0], [0], [0], [0], [0], [0], [0], [0], [0], [0], [0], [0], [0], [0], [0], [0], [0], [0], [0], [0], [0], [0], [0], [0], [0], [0], [0], [0], [0], [0], [0], [0], [0], [0], [0], [0], [0], [0], [0], [0], [0], [0], [0], [0], [0], [0], [0], [0], [0], [0], [0], [0], [0], [0], [0], [0], [0], [0], [0], [0], [0], [0], [0], [0], [0], [0], [0], [0], [0], [0], [0], [0], [0], [0], [0], [0], [0], [0], [0], [0], [0], [0], [0], [0], [0], [0], [0], [0], [0], [0], [0], [0], [0], [0], [0], [0], [0], [0], [0], [0], [0], [0], [0], [0], [0], [0], [0], [0], [0], [0], [0], [0], [0], [0], [0], [0], [0], [0], [0], [0], [0], [0], [0], [0], [0], [0], [0], [0], [0], [0], [0], [0], [0], [0], [0], [0], [0], [0], [0], [0], [0], [0], [0], [0], [0], [0], [0], [0], [0], [0], [0], [0], [0], [0], [0], [0], [0], [0], [0], [0], [0], [0], [0], [0], [0], [0], [0], [0], [0], [0], [0], [0], [0], [0], [0], [0], [0], [0], [0], [0], [0], [0], [0], [0], [0], [0], [0], [0], [0], [0], [0], [0], [0], [0], [0], [0], [0], [0], [0], [0], [0], [0], [0], [0], [0], [0], [0], [0], [0], [0], [0], [0], [0], [0], [0], [0], [0], [0], [0], [0], [0], [0], [0], [0], [0], [0], [0], [0], [0], [0], [0], [0], [0], [0], [0], [0], [0], [0], [0], [0], [0], [0], [0], [0], [0], [0], [0], [0], [0], [0], [0], [0], [0], [0], [0], [0], [0], [0], [0], [0], [0], [0], [0], [0], [0], [0], [0], [0], [0], [0], [0], [0], [0], [0], [0], [0], [0], [0], [0], [0], [0], [0], [0], [0], [0], [0], [0], [0], [0], [0], [0], [0], [0], [0], [0], [0], [0], [0], [0], [0], [0], [0], [0], [0], [0], [0], [0], [0], [0], [0], [0], [0], [0], [0], [0], [0], [0], [0], [0], [0], [0], [0], [0], [0], [0], [0], [0], [0], [0], [0], [0], [0], [0], [0], [0], [0], [0], [0], [0], [0], [0], [0], [0], [0], [0], [0], [0], [0], [0], [0], [0], [0], [0], [0], [0], [0], [0], [0], [0], [0], [0], [0], [0], [0], [0], [0], [0], [0], [0], [0], [0], [0], [0], [0], [0], [0], [0], [0], [0], [0], [0], [0], [0], [0], [0], [0], [0], [0], [0], [0], [0], [0], [0], [0], [0], [0], [0], [0], [0], [0], [0], [0], [0], [0], [0], [0], [0], [0], [0], [0], [0], [0], [0], [0], [0], [0], [0], [0], [0], [0], [0], [0], [0], [0], [0], [0], [0], [0], [0], [0], [0], [0], [0], [0], [0], [0], [0], [0], [0], [0], [0], [0], [0], [0], [0], [0], [0], [0], [0], [0], [0], [0], [0], [0], [0], [0], [0], [0], [0], [0], [0], [0], [0], [0], [0], [0], [0], [0], [0], [0], [0], [0], [0], [0], [0], [0], [0], [0], [0], [0], [0], [0], [0], [0], [0], [0], [0], [0], [0], [0], [0], [0], [0], [0], [0], [0], [0], [0], [0], [0], [0], [0], [0], [0], [0], [0], [0], [0], [0], [0], [0], [0], [0], [0], [0], [0], [0], [0], [0], [0], [0], [0], [0], [0], [0], [0], [0], [0], [0], [0], [0], [0], [0], [0], [0], [0], [0], [0], [0], [0], [0], [0], [0], [0], [0], [0], [0], [0], [0], [0], [0], [0], [0], [0], [0], [0], [0], [0], [0], [0], [0], [0], [0], [0], [0], [0], [0], [0], [0], [0], [0], [0], [0], [0], [0], [0], [0], [0], [0], [0], [0], [0], [0], [0], [0], [0], [0], [0], [0], [0], [0], [0], [0], [0], [0], [0], [0], [0], [0], [0], [0], [0], [0], [0], [0], [0], [0], [0], [0], [0], [0], [0], [0], [0], [0], [0], [0], [0], [0], [0], [0], [0], [0], [0], [0], [0], [0], [0], [0], [0], [0], [0], [0], [0], [0], [0], [0], [0], [0], [0], [0], [0], [0], [0], [0], [0], [0], [0], [0], [0], [0], [0], [0], [0], [0], [0], [0], [0], [0], [0], [0], [0], [0], [0], [0], [0], [0], [0], [0], [0], [0], [0], [0], [0], [0], [0], [0], [0], [0], [0], [0], [0], [0], [0], [0], [0], [0], [0], [0], [0], [0], [0], [0], [0], [0], [0], [0], [0], [0], [0], [0], [0], [0], [0], [0], [0], [0], [0], [0], [0], [0], [0], [0], [0], [0], [0], [0], [0], [0], [0], [0], [0], [0], [0], [0], [0], [0], [0], [0], [0], [0], [0], [0], [0], [0], [0], [0], [0], [0], [0], [0], [0], [0], [0], [0], [0], [0], [0], [0], [0], [0], [0], [0], [0], [0], [0], [0], [0], [0], [0], [0], [0], [0], [0], [0], [0], [0], [0], [0], [0], [0], [0], [0], [0], [0], [0], [0], [0], [0], [0], [0], [0], [0], [0], [0], [0], [0], [0], [0], [0], [0], [0], [0], [0], [0], [0], [0], [0], [0], [0], [0], [0], [0], [0], [0], [0], [0], [0], [0], [0], [0], [0], [0], [0], [0], [0], [0], [0], [0], [0], [0], [0], [0], [0], [0], [0], [0], [0], [0], [0], [0], [0], [0], [0], [0], [0], [0], [0], [0], [0], [0], [0], [0], [0], [0], [0], [0], [0], [0], [0], [0], [0], [0], [0], [0], [0], [0], [0], [0], [0], [0], [0], [0], [0], [0], [0], [0], [0], [0], [0], [0], [0], [0], [0], [0], [0], [0], [0], [0], [0], [0], [0], [0], [0], [0], [0], [0], [0], [0], [0], [0], [0], [0], [0], [0], [0], [0], [0], [0], [0], [0], [0], [0], [0], [0], [0], [0], [0], [0], [0], [0], [0], [0], [0], [0], [0], [0], [0], [0], [0], [0], [0], [0], [0], [0], [0], [0], [0], [0], [0], [0], [0], [0], [0], [0], [0], [0], [0], [0], [0], [0], [0], [0], [0], [0], [0], [0], [0], [0], [0], [0], [0], [0], [0], [0], [0], [0], [0], [0], [0], [0], [0], [0], [0], [0], [0], [0], [0], [0], [0], [0], [0], [0], [0], [0], [0], [0], [0], [0], [0], [0], [0], [0], [0], [0], [0], [0], [0], [0], [0], [0], [0], [0], [0], [0], [0], [0], [0], [0], [0], [0], [0], [0], [0], [0], [0], [0], [0], [0], [0], [0], [0], [0], [0], [0], [0], [0], [0], [0], [0], [0], [0], [0], [0], [0], [0], [0], [0], [0], [0], [0], [0], [0], [0], [0], [0], [0], [0], [0], [0], [0], [0], [0], [0], [0], [0], [0], [0], [0], [0], [0], [0], [0], [0], [0], [0], [0], [0], [0], [0], [0], [0], [0], [0], [0], [0], [0], [0], [0], [0], [0], [0], [0], [0], [0], [0], [0], [0], [0], [0], [0], [0], [0], [0], [0], [0], [0], [0], [0], [0], [0], [0], [0], [0], [0], [0], [0], [0], [0], [0], [0], [0], [0], [0], [0], [0], [0], [0], [0], [0], [0], [0], [0], [0], [0], [0], [0], [0], [0], [0], [0], [0], [0], [0], [0], [0], [0], [0], [0], [0], [0], [0], [0], [0], [0], [0], [0], [0], [0], [0], [0], [0], [0], [0], [0], [0], [0], [0], [0], [0], [0], [0], [0], [0], [0], [0], [0], [0], [0], [0], [0], [0], [0], [0], [0], [0], [0], [0], [0], [0], [0], [0], [0], [0], [0], [0], [0], [0], [0], [0], [0], [0], [0], [0], [0], [0], [0], [0], [0], [0], [0], [0], [0], [0], [0], [0], [0], [0], [0], [0], [0], [0], [0], [0], [0], [0], [0], [0], [0], [0], [0], [0], [0], [0], [0], [0], [0], [0], [0], [0], [0], [0], [0], [0], [0], [0], [0], [0], [0], [0], [0], [0], [0], [0], [0], [0], [0], [0], [0], [0], [0], [0], [0], [0], [0], [0], [0], [0], [0], [0], [0], [0], [0], [0], [0], [0], [0], [0], [0], [0], [0], [0], [0], [0], [0], [0], [0], [0], [0], [0], [0], [0], [0], [0], [0], [0], [0], [0], [0], [0], [0], [0], [0], [0], [0], [0], [0], [0], [0], [0], [0], [0], [0], [0], [0], [0], [0], [0], [0], [0], [0], [0], [0], [0], [0], [0], [0], [0], [0], [0], [0], [0], [0], [0], [0], [0], [0], [0], [0], [0], [0], [0], [0], [0], [0], [0], [0], [0], [0], [0], [0], [0], [0], [0], [0], [0], [0], [0], [0], [0], [0], [0], [0], [0], [0], [0], [0], [0], [0], [0], [0], [0], [0], [0], [0], [0], [0], [0], [0], [0], [0], [0], [0], [0], [0], [0], [0], [0], [0], [0], [0], [0], [0], [0], [0], [0], [0], [0], [0], [0], [0], [0], [0], [0], [0], [0], [0], [0], [0], [0], [0], [0], [0], [0], [0], [0], [0], [0], [0], [0], [0], [0], [0], [0], [0], [0], [0], [0], [0], [0], [0], [0], [0], [0], [0], [0], [0], [0], [0], [0], [0], [0], [0], [0], [0], [0], [0], [0], [0], [0], [0], [0], [0], [0], [0], [0], [0], [0], [0], [0], [0], [0], [0], [0], [0], [0], [0], [0], [0], [0], [0], [0], [0], [0], [0], [0], [0], [0], [0], [0], [0], [0], [0], [0], [0], [0], [0], [0], [0], [0], [0], [0], [0], [0], [0], [0], [0], [0], [0], [0], [0], [0], [0], [0], [0], [0], [0], [0], [0], [0], [0], [0], [0], [0], [0], [0], [0], [0], [0], [0], [0], [0], [0], [0], [0], [0], [0], [0], [0], [0], [0], [0], [0], [0], [0], [0], [0], [0], [0], [0], [0], [0], [0], [0], [0], [0], [0], [0], [0], [0], [0], [0], [0], [0], [0], [0], [0], [0], [0], [0], [0], [0], [0], [0], [0], [0], [0], [0], [0], [0], [0], [0], [0], [0], [0], [0], [0], [0], [0], [0], [0], [0], [0], [0], [0], [0], [0], [0], [0], [0], [0], [0], [0], [0], [0], [0], [0], [0], [0], [0], [0], [0], [0], [0], [0], [0], [0], [0], [0], [0], [0], [0], [0], [0], [0], [0], [0], [0], [0], [0], [0], [0], [0], [0], [0], [0], [0], [0], [0], [0], [0], [0], [0], [0], [0], [0], [0], [0], [0], [0], [0], [0], [0], [0], [0], [0], [0], [0], [0], [0], [0], [0], [0], [0], [0], [0], [0], [0], [0], [0], [0], [0], [0], [0], [0], [0], [0], [0], [0], [0], [0], [0], [0], [0], [0], [0], [0], [0], [0], [0], [0], [0], [0], [0], [0], [0], [0], [0], [0], [0], [0], [0], [0], [0], [0], [0], [0], [0], [0], [0], [0], [0], [0], [0], [0], [0], [0], [0], [0], [0], [0], [0], [0], [0], [0], [0], [0], [0], [0], [0], [0], [0], [0], [0], [0], [0], [0], [0], [0], [0], [0], [0], [0], [0], [0], [0], [0], [0], [0], [0], [0], [0], [0], [0], [0], [0], [0], [0], [0], [0], [0], [0], [0], [0], [0], [0], [0], [0], [0], [0], [0], [0], [0], [0], [0], [0], [0], [0], [0], [0], [0], [0], [0], [0], [0], [0], [0], [0], [0], [0], [0], [0], [0], [0], [0], [0], [0], [0], [0], [0], [0], [0], [0], [0], [0], [0], [0], [0], [0], [0], [0], [0], [0], [0], [0], [0], [0], [0], [0], [0], [0], [0], [0], [0], [0], [0], [0], [0], [0], [0], [0], [0], [0], [0], [0], [0], [0], [0], [0], [0], [0], [0], [0], [0], [0], [0], [0], [0], [0], [0], [0], [0], [0], [0], [0], [0], [0], [0], [0], [0], [0], [0], [0], [0], [0], [0], [0], [0], [0], [0], [0], [0], [0], [0], [0], [0], [0], [0], [0], [0], [0], [0], [0], [0], [0], [0], [0], [0], [0], [0], [0], [0], [0], [0], [0], [0], [0], [0], [0], [0], [0], [0], [0], [0], [0], [0], [0], [0], [0], [0], [0], [0], [0], [0], [0], [0], [0], [0], [0], [0], [0], [0], [0], [0], [0], [0], [0], [0], [0], [0], [0], [0], [0], [0], [0], [0], [0], [0], [0], [0], [0], [0], [0], [0], [0], [0], [0], [0], [0], [0], [0], [0], [0], [0], [0], [0], [0], [0], [0], [0], [0], [0], [0], [0], [0], [0], [0], [0], [0], [0], [0], [0], [0], [0], [0], [0], [0], [0], [0], [0], [0], [0], [0], [0], [0], [0], [0], [0], [0], [0], [0], [0], [0], [0], [0], [0], [0], [0], [0], [0], [0], [0], [0], [0], [0], [0], [0], [0], [0], [0], [0], [0], [0], [0], [0], [0], [0], [0], [0], [0], [0], [0], [0], [0], [0], [0], [0], [0], [0], [0], [0], [0], [0], [0], [0], [0], [0], [0], [0], [0], [0], [0], [0], [0], [0], [0], [0], [0], [0], [0], [0], [0], [0], [0], [0], [0], [0], [0], [0], [0], [0], [0], [0], [0], [0], [0], [0], [0], [0], [0], [0], [0], [0], [0], [0], [0], [0], [0], [0], [0], [0], [0], [0], [0], [0], [0], [0], [0], [0], [0], [0], [0], [0], [0], [0], [0], [0], [0], [0], [0], [0], [0], [0], [0], [0], [0], [0], [0], [0], [0], [0], [0], [0], [0], [0], [0], [0], [0], [0], [0], [0], [0], [0], [0], [0], [0], [0], [0], [0], [0], [0], [0], [0], [0], [0], [0], [0], [0], [0], [0], [0], [0], [0], [0], [0], [0], [0], [0], [0], [0], [0], [0], [0], [0], [0], [0], [0], [0], [0], [0], [0], [0], [0], [0], [0], [0], [0], [0], [0], [0], [0], [0], [0], [0], [0], [0], [0], [0], [0], [0], [0], [0], [0], [0], [0], [0], [0], [0], [0], [0], [0], [0], [0], [0], [0], [0], [0], [0], [0], [0], [0], [0], [0], [0], [0], [0], [0], [0], [0], [0], [0], [0], [0], [0], [0], [0], [0], [0], [0], [0], [0], [0], [0], [0], [0], [0], [0], [0], [0], [0], [0], [0], [0], [0], [0], [0], [0], [0], [0], [0], [0], [0], [0], [0], [0], [0], [0], [0], [0], [0], [0], [0], [0], [0], [0], [0], [0], [0], [0], [0], [0], [0], [0], [0], [0], [0], [0], [0], [0], [0], [0], [0], [0], [0], [0], [0], [0], [0], [0], [0], [0], [0], [0], [0], [0], [0], [0], [0], [0], [0], [0], [0], [0], [0], [0], [0], [0], [0], [0], [0], [0], [0], [0], [0], [0], [0], [0], [0], [0], [0], [0], [0], [0], [0], [0], [0], [0], [0], [0], [0], [0], [0], [0], [0], [0], [0], [0], [0], [0], [0], [0], [0], [0], [0], [0], [0], [0], [0], [0], [0], [0], [0], [0], [0], [0], [0], [0], [0], [0], [0], [0], [0], [0], [0], [0], [0], [0], [0], [0], [0], [0], [0], [0], [0], [0], [0], [0], [0], [0], [0], [0], [0], [0], [0], [0], [0], [0], [0], [0], [0], [0], [0], [0], [0], [0], [0], [0], [0], [0], [0], [0], [0], [0], [0], [0], [0], [0], [0], [0], [0], [0], [0], [0], [0], [0], [0], [0], [0], [0], [0], [0], [0], [0], [0], [0], [0], [0], [0], [0], [0], [0], [0], [0], [0], [0], [0], [0], [0], [0], [0], [0], [0], [0], [0], [0], [0], [0], [0], [0], [0], [0], [0], [0], [0], [0], [0], [0], [0], [0], [0], [0], [0], [0], [0], [0], [0], [0], [0], [0], [0], [0], [0], [0], [0], [0], [0], [0], [0], [0], [0], [0], [0], [0], [0], [0], [0], [0], [0], [0], [0], [0], [0], [0], [0], [0], [0], [0], [0], [0], [0], [0], [0], [0], [0], [0], [0], [0], [0], [0], [0], [0], [0], [0], [0], [0], [0], [0], [0], [0], [0], [0], [0], [0], [0], [0], [0], [0], [0], [0], [0], [0], [0], [0], [0], [0], [0], [0], [0], [0], [0], [0], [0], [0], [0], [0], [0], [0], [0], [0], [0], [0], [0], [0], [0], [0], [0], [0], [0], [0], [0], [0], [0], [0], [0], [0], [0], [0], [0], [0], [0], [0], [0], [0], [0], [0], [0], [0], [0], [0], [0], [0], [0], [0], [0], [0], [0], [0], [0], [0], [0], [0], [0], [0], [0], [0], [0], [0], [0], [0], [0], [0], [0], [0], [0], [0], [0], [0], [0], [0], [0], [0], [0], [0], [0], [0], [0], [0], [0], [0], [0], [0], [0], [0], [0], [0], [0], [0], [0], [0], [0], [0], [0], [0], [0], [0], [0], [0], [0], [0], [0], [0], [0], [0], [0], [0], [0], [0], [0], [0], [0], [0], [0], [0], [0], [0], [0], [0], [0], [0], [0], [0], [0], [0], [0], [0], [0], [0], [0], [0], [0], [0], [0], [0], [0], [0], [0], [0], [0], [0], [0], [0], [0], [0], [0], [0], [0], [0], [0], [0], [0], [0], [0], [0], [0], [0], [0], [0], [0], [0], [0], [0], [0], [0], [0], [0], [0], [0], [0], [0], [0], [0], [0], [0], [0], [0], [0], [0], [0], [0], [0], [0], [0], [0], [0], [0], [0], [0], [0], [0], [0], [0], [0], [0], [0], [0], [0], [0], [0], [0], [0], [0], [0], [0], [0], [0], [0], [0], [0], [0], [0], [0], [0], [0], [0], [0], [0], [0], [0], [0], [0], [0], [0], [0], [0], [0], [0], [0], [0], [0], [0], [0], [0], [0], [0], [0], [0], [0], [0], [0], [0], [0], [0], [0], [0], [0], [0], [0], [0], [0], [0], [0], [0], [0], [0], [0], [0], [0], [0], [0], [0], [0], [0], [0], [0], [0], [0], [0], [0], [0], [0], [0], [0], [0], [0], [0], [0], [0], [0], [0], [0], [0], [0], [0], [0], [0], [0], [0], [0], [0], [0], [0], [0], [0], [0], [0], [0], [0], [0], [0], [0], [0], [0], [0], [0], [0], [0], [0], [0], [0], [0], [0], [0], [0], [0], [0], [0], [0], [0], [0], [0], [0], [0], [0], [0], [0], [0], [0], [0], [0], [0], [0], [0], [0], [0], [0], [0], [0], [0], [0], [0], [0], [0], [0], [0], [0], [0], [0], [0], [0], [0], [0], [0], [0], [0], [0], [0], [0], [0], [0], [0], [0], [0], [0], [0], [0], [0], [0], [0], [0], [0], [0], [0], [0], [0], [0], [0], [0], [0], [0], [0], [0], [0], [0], [0], [0], [0], [0], [0], [0], [0], [0], [0], [0], [0], [0], [0], [0], [0], [0], [0], [0], [0], [0], [0], [0], [0], [0], [0], [0], [0], [0], [0], [0], [0], [0], [0], [0], [0], [0], [0], [0], [0], [0], [0], [0], [0], [0], [0], [0], [0], [0], [0], [0], [0], [0], [0], [0], [0], [0], [0], [0], [0], [0], [0], [0], [0], [0], [0], [0], [0], [0], [0], [0], [0], [0], [0], [0], [0], [0], [0], [0], [0], [0], [0], [0], [0], [0], [0], [0], [0], [0], [0], [0], [0], [0], [0], [0], [0], [0], [0], [0], [0], [0], [0], [0], [0], [0], [0], [0], [0], [0], [0], [0], [0], [0], [0], [0], [0], [0], [0], [0], [0], [0], [0], [0], [0], [0], [0], [0], [0], [0], [0], [0], [0], [0], [0], [0], [0], [0], [0], [0], [0], [0], [0], [0], [0], [0], [0], [0], [0], [0], [0], [0], [0], [0], [0], [0], [0], [0], [0], [0], [0], [0], [0], [0], [0], [0], [0], [0], [0], [0], [0], [0], [0], [0], [0], [0], [0], [0], [0], [0], [0], [0], [0], [0], [0], [0], [0], [0], [0], [0], [0], [0], [0], [0], [0], [0], [0], [0], [0], [0], [0], [0], [0], [0], [0], [0], [0], [0], [0], [0], [0], [0], [0], [0], [0], [0], [0], [0], [0], [0], [0], [0], [0], [0], [0], [0], [0], [0], [0], [0], [0], [0], [0], [0], [0], [0], [0], [0], [0], [0], [0], [0], [0], [0], [0], [0], [0], [0], [0], [0], [0], [0], [0], [0], [0], [0], [0], [0], [0], [0], [0], [0], [0], [0], [0], [0], [0], [0], [0], [0], [0], [0], [0], [0], [0], [0], [0], [0], [0], [0], [0], [0], [0], [0], [0], [0], [0], [0], [0], [0], [0], [0], [0], [0], [0], [0], [0], [0], [0], [0], [0], [0], [0], [0], [0], [0], [0], [0], [0], [0], [0], [0], [0], [0], [0], [0], [0], [0], [0], [0], [0], [0], [0], [0], [0], [0], [0], [0], [0], [0], [0], [0], [0], [0], [0], [0], [0], [0], [0], [0], [0], [0], [0], [0], [0], [0], [0], [0], [0], [0], [0], [0], [0], [0], [0], [0], [0], [0], [0], [0], [0], [0], [0], [0], [0], [0], [0], [0], [0], [0], [0], [0], [0], [0], [0], [0], [0], [0], [0], [0], [0], [0], [0], [0], [0], [0], [0], [0], [0], [0], [0], [0], [0], [0], [0], [0], [0], [0], [0], [0], [0], [0], [0], [0], [0], [0], [0], [0], [0], [0], [0], [0], [0], [0], [0], [0], [0], [0], [0], [0], [0], [0], [0], [0], [0], [0], [0], [0], [0], [0], [0], [0], [0], [0], [0], [0], [0], [0], [0], [0], [0], [0], [0], [0], [0], [0], [0], [0], [0], [0], [0], [0], [0], [0], [0], [0], [0], [0], [0], [0], [0], [0], [0], [0], [0], [0], [0], [0], [0], [0], [0], [0], [0], [0], [0], [0], [0], [0], [0], [0], [0], [0], [0], [0], [0], [0], [0], [0], [0], [0], [0], [0], [0], [0], [0], [0], [0], [0], [0], [0], [0], [0], [0], [0], [0], [0], [0], [0], [0], [0], [0], [0], [0], [0], [0], [0], [0], [0], [0], [0], [0], [0], [0], [0], [0], [0], [0], [0], [0], [0], [0], [0], [0], [0], [0], [0], [0], [0], [0], [0], [0], [0], [0], [0], [0], [0], [0], [0], [0], [0], [0], [0], [0], [0], [0], [0], [0], [0], [0], [0], [0], [0], [0], [0], [0], [0], [0], [0], [0], [0], [0], [0], [0], [0], [0], [0], [0], [0], [0], [0], [0], [0], [0], [0], [0], [0], [0], [0], [0], [0], [0], [0], [0], [0], [0], [0], [0], [0], [0], [0], [0], [0], [0], [0], [0], [0], [0], [0], [0], [0], [0], [0], [0], [0], [0], [0], [0], [0], [0], [0], [0], [0], [0], [0], [0], [0], [0], [0], [0], [0], [0], [0], [0], [0], [0], [0], [0], [0], [0], [0], [0], [0], [0], [0], [0], [0], [0], [0], [0], [0], [0], [0], [0], [0], [0], [0], [0], [0], [0], [0], [0], [0], [0], [0], [0], [0], [0], [0], [0], [0], [0], [0], [0], [0], [0], [0], [0], [0], [0], [0], [0], [0], [0], [0], [0], [0], [0], [0], [0], [0], [0], [0], [0], [0], [0], [0], [0], [0], [0], [0], [0], [0], [0], [0], [0], [0], [0], [0], [0], [0], [0], [0], [0], [0], [0], [0], [0], [0], [0], [0], [0], [0], [0], [0], [0], [0], [0], [0], [0], [0], [0], [0], [0], [0], [0], [0], [0], [0], [0], [0], [0], [0], [0], [0], [0], [0], [0], [0], [0], [0], [0], [0], [0], [0], [0], [0], [0], [0], [0], [0], [0], [0], [0], [0], [0], [0], [0], [0], [0], [0], [0], [0], [0], [0], [0], [0], [0], [0], [0], [0], [0], [0], [0], [0], [0], [0], [0], [0], [0], [0], [0], [0], [0], [0], [0], [0], [0], [0], [0], [0], [0], [0], [0], [0], [0], [0], [0], [0], [0], [0], [0], [0], [0], [0], [0], [0], [0], [0], [0], [0], [0], [0], [0], [0], [0], [0], [0], [0], [0], [0], [0], [0], [0], [0], [0], [0], [0], [0], [0], [0], [0], [0], [0], [0], [0], [0], [0], [0], [0], [0], [0], [0], [0], [0], [0], [0], [0], [0], [0], [0], [0], [0], [0], [0], [0], [0], [0], [0], [0], [0], [0], [0], [0], [0], [0], [0], [0], [0], [0], [0], [0], [0], [0], [0], [0], [0], [0], [0], [0], [0], [0], [0], [0], [0], [0], [0], [0], [0], [0], [0], [0], [0], [0], [0], [0], [0], [0], [0], [0], [0], [0], [0], [0], [0], [0], [0], [0], [0], [0], [0], [0], [0], [0], [0], [0], [0], [0], [0], [0], [0], [0], [0], [0], [0], [0], [0], [0], [0], [0], [0], [0], [0], [0], [0], [0], [0], [0], [0], [0], [0], [0], [0], [0], [0], [0], [0], [0], [0], [0], [0], [0], [0], [0], [0], [0], [0], [0], [0], [0], [0], [0], [0], [0], [0], [0], [0], [0], [0], [0], [0], [0], [0], [0], [0], [0], [0], [0], [0], [0], [0], [0], [0], [0], [0], [0], [0], [0], [0], [0], [0], [0], [0], [0], [0], [0], [0], [0], [0], [0], [0], [0], [0], [0], [0], [0], [0], [0], [0], [0], [0], [0], [0], [0], [0], [0], [0], [0], [0], [0], [0], [0], [0], [0], [0], [0], [0], [0], [0], [0], [0], [0], [0], [0], [0], [0], [0], [0], [0], [0], [0], [0], [0], [0], [0], [0], [0], [0], [0], [0], [0], [0], [0], [0], [0], [0], [0], [0], [0], [0], [0], [0], [0], [0], [0], [0], [0], [0], [0], [0], [0], [0], [0], [0], [0], [0], [0], [0], [0], [0], [0], [0], [0], [0], [0], [0], [0], [0], [0], [0], [0], [0], [0], [0], [0], [0], [0], [0], [0], [0], [0], [0], [0], [0], [0], [0], [0], [0], [0], [0], [0], [0], [0], [0], [0], [0], [0], [0], [0], [0], [0], [0], [0], [0], [0], [0], [0], [0], [0], [0], [0], [0], [0], [0], [0], [0], [0], [0], [0], [0], [0], [0], [0], [0], [0], [0], [0], [0], [0], [0], [0], [0], [0], [0], [0], [0], [0], [0], [0], [0], [0], [0], [0], [0], [0], [0], [0], [0], [0], [0], [0], [0], [0], [0], [0], [0], [0], [0], [0], [0], [0], [0], [0], [0], [0], [0], [0], [0], [0], [0], [0], [0], [0], [0], [0], [0], [0], [0], [0], [0], [0], [0], [0], [0], [0], [0], [0], [0], [0], [0], [0], [0], [0], [0], [0], [0], [0], [0], [0], [0], [0], [0], [0], [0], [0], [0], [0], [0], [0], [0], [0], [0], [0], [0], [0], [0], [0], [0], [0], [0], [0], [0], [0], [0], [0], [0], [0], [0], [0], [0], [0], [0], [0], [0], [0], [0], [0], [0], [0], [0], [0], [0], [0], [0], [0], [0], [0], [0], [0], [0], [0], [0], [0], [0], [0], [0], [0], [0], [0], [0], [0], [0], [0], [0], [0], [0], [0], [0], [0], [0], [0], [0], [0], [0], [0], [0], [0], [0], [0], [0], [0], [0], [0], [0], [0], [0], [0], [0], [0], [0], [0], [0], [0], [0], [0], [0], [0], [0], [0], [0], [0], [0], [0], [0], [0], [0], [0], [0], [0], [0], [0], [0], [0], [0], [0], [0], [0], [0], [0], [0], [0], [0], [0], [0], [0], [0], [0], [0], [0], [0], [0], [0], [0], [0], [0], [0], [0], [0], [0], [0], [0], [0], [0], [0], [0], [0], [0], [0], [0], [0], [0], [0], [0], [0], [0], [0], [0], [0], [0], [0], [0], [0], [0], [0], [0], [0], [0], [0], [0], [0], [0], [0], [0], [0], [0], [0], [0], [0], [0], [0], [0], [0], [0], [0], [0], [0], [0], [0], [0], [0], [0], [0], [0], [0], [0], [0], [0], [0], [0], [0], [0], [0], [0], [0], [0], [0], [0], [0], [0], [0], [0], [0], [0], [0], [0], [0], [0], [0], [0], [0], [0], [0], [0], [0], [0], [0], [0], [0], [0], [0], [0], [0], [0], [0], [0], [0], [0], [0], [0], [0], [0], [0], [0], [0], [0], [0], [0], [0], [0], [0], [0], [0], [0], [0], [0], [0], [0], [0], [0], [0], [0], [0], [0], [0], [0], [0], [0], [0], [0], [0], [0], [0], [0], [0], [0], [0], [0], [0], [0], [0], [0], [0], [0], [0], [0], [0], [0], [0], [0], [0], [0], [0], [0], [0], [0], [0], [0], [0], [0], [0], [0], [0], [0], [0], [0], [0], [0], [0], [0], [0], [0], [0], [0], [0], [0], [0], [0], [0], [0], [0], [0], [0], [0], [0], [0], [0], [0], [0], [0], [0], [0], [0], [0], [0], [0], [0], [0], [0], [0], [0], [0], [0], [0], [0], [0], [0], [0], [0], [0], [0], [0], [0], [0], [0], [0], [0], [0], [0], [0], [0], [0], [0], [0], [0], [0], [0], [0], [0], [0], [0], [0], [0], [0], [0], [0], [0], [0], [0], [0], [0], [0], [0], [0], [0], [0], [0], [0], [0], [0], [0], [0], [0], [0], [0], [0], [0], [0], [0], [0], [0], [0], [0], [0], [0], [0], [0], [0], [0], [0], [0], [0], [0], [0], [0], [0], [0], [0], [0], [0], [0], [0], [0], [0], [0], [0], [0], [0], [0], [0], [0], [0], [0], [0], [0], [0], [0], [0], [0], [0], [0], [0], [0], [0], [0], [0], [0], [0], [0], [0], [0], [0], [0], [0], [0], [0], [0], [0], [0], [0], [0], [0], [0], [0], [0], [0], [0], [0], [0], [0], [0], [0], [0], [0], [0], [0], [0], [0], [0], [0], [0], [0], [0], [0], [0], [0], [0], [0], [0], [0], [0], [0], [0], [0], [0], [0], [0], [0], [0], [0], [0], [0], [0], [0], [0], [0], [0], [0], [0], [0], [0], [0], [0], [0], [0], [0], [0], [0], [0], [0], [0], [0], [0], [0], [0], [0], [0], [0], [0], [0], [0], [0], [0], [0], [0], [0], [0], [0], [0], [0], [0], [0], [0], [0], [0], [0], [0], [0], [0], [0], [0], [0], [0], [0], [0], [0], [0], [0], [0], [0], [0], [0], [0], [0], [0], [0], [0], [0], [0], [0], [0], [0], [0], [0], [0], [0], [0], [0], [0], [0], [0], [0], [0], [0], [0], [0], [0], [0], [0], [0], [0], [0], [0], [0], [0], [0], [0], [0], [0], [0], [0], [0], [0], [0], [0], [0], [0], [0], [0], [0], [0], [0], [0], [0], [0], [0], [0], [0], [0], [0], [0], [0], [0], [0], [0], [0], [0], [0], [0], [0], [0], [0], [0], [0], [0], [0], [0], [0], [0], [0], [0], [0], [0], [0], [0], [0], [0], [0], [0], [0], [0], [0], [0], [0], [0], [0], [0], [0], [0], [0], [0], [0], [0], [0], [0], [0], [0], [0], [0], [0], [0], [0], [0], [0], [0], [0], [0], [0], [0], [0], [0], [0], [0], [0], [0], [0], [0], [0], [0], [0], [0], [0], [0], [0], [0], [0], [0], [0], [0], [0], [0], [0], [0], [0], [0], [0], [0], [0], [0], [0], [0], [0], [0], [0], [0], [0], [0], [0], [0], [0], [0], [0], [0], [0], [0], [0], [0], [0], [0], [0], [0], [0], [0], [0], [0], [0], [0], [0], [0], [0], [0], [0], [0], [0], [0], [0], [0], [0], [0], [0], [0], [0], [0], [0], [0], [0], [0], [0], [0], [0], [0], [0], [0], [0], [0], [0], [0], [0], [0], [0], [0], [0], [0], [0], [0], [0], [0], [0], [0], [0], [0], [0], [0], [0], [0], [0], [0], [0], [0], [0], [0], [0], [0], [0], [0], [0], [0], [0], [0], [0], [0], [0], [0], [0], [0], [0], [0], [0], [0], [0], [0], [0], [0], [0], [0], [0], [0], [0], [0], [0], [0], [0], [0], [0], [0], [0], [0], [0], [0], [0], [0], [0], [0], [0], [0], [0], [0], [0], [0], [0], [0], [0], [0], [0], [0], [0], [0], [0], [0], [0], [0], [0], [0], [0], [0], [0], [0], [0], [0], [0], [0], [0], [0], [0], [0], [0], [0], [0], [0], [0], [0], [0], [0], [0], [0], [0], [0], [0], [0], [0], [0], [0], [0], [0], [0], [0], [0], [0], [0], [0], [0], [0], [0], [0], [0], [0], [0], [0], [0], [0], [0], [0], [0], [0], [0], [0], [0], [0], [0], [0], [0], [0], [0], [0], [0], [0], [0], [0], [0], [0], [0], [0], [0], [0], [0], [0], [0], [0], [0], [0], [0], [0], [0], [0], [0], [0], [0], [0], [0], [0], [0], [0], [0], [0], [0], [0], [0], [0], [0], [0], [0], [0], [0], [0], [0], [0], [0], [0], [0], [0], [0], [0], [0], [0], [0], [0], [0], [0], [0], [0], [0], [0], [0], [0], [0], [0], [0], [0], [0], [0], [0], [0], [0], [0], [0], [0], [0], [0], [0], [0], [0], [0], [0], [0], [0], [0], [0], [0], [0], [0], [0], [0], [0], [0], [0], [0], [0], [0], [0], [0], [0], [0], [0], [0], [0], [0], [0], [0], [0], [0], [0], [0], [0], [0], [0], [0], [0], [0], [0], [0], [0], [0], [0], [0], [0], [0], [0], [0], [0], [0], [0], [0], [0], [0], [0], [0], [0], [0], [0], [0], [0], [0], [0], [0], [0], [0], [0], [0], [0], [0], [0], [0], [0], [0], [0], [0], [0], [0], [0], [0], [0], [0], [0], [0], [0], [0], [0], [0], [0], [0], [0], [0], [0], [0], [0], [0], [0], [0], [0], [0], [0], [0], [0], [0], [0], [0], [0], [0], [0], [0], [0], [0], [0], [0], [0], [0], [0], [0], [0], [0], [0], [0], [0], [0], [0], [0], [0], [0], [0], [0], [0], [0], [0], [0], [0], [0], [0], [0], [0], [0], [0], [0], [0], [0], [0], [0], [0], [0], [0], [0], [0], [0], [0], [0], [0], [0], [0], [0], [0], [0], [0], [0], [0], [0], [0], [0], [0], [0], [0], [0], [0], [0], [0], [0], [0], [0], [0], [0], [0], [0], [0], [0], [0], [0], [0], [0], [0], [0], [0], [0], [0], [0], [0], [0], [0], [0], [0], [0], [0], [0], [0], [0], [0], [0], [0], [0], [0], [0], [0], [0], [0], [0], [0], [0], [0], [0], [0], [0], [0], [0], [0], [0], [0], [0], [0], [0], [0], [0], [0], [0], [0], [0], [0], [0], [0], [0], [0], [0], [0], [0], [0], [0], [0], [0], [0], [0], [0], [0], [0], [0], [0], [0], [0], [0], [0], [0], [0], [0], [0], [0], [0], [0], [0], [0], [0], [0], [0], [0], [0], [0], [0], [0], [0], [0], [0], [0], [0], [0], [0], [0], [0], [0], [0], [0], [0], [0], [0], [0], [0], [0], [0], [0], [0], [0], [0], [0], [0], [0], [0], [0], [0], [0], [0], [0], [0], [0], [0], [0], [0], [0], [0], [0], [0], [0], [0], [0], [0], [0], [0], [0], [0], [0], [0], [0], [0], [0], [0], [0], [0], [0], [0], [0], [0], [0], [0], [0], [0], [0], [0], [0], [0], [0], [0], [0], [0], [0], [0], [0], [0], [0], [0], [0], [0], [0], [0], [0], [0], [0], [0], [0], [0], [0], [0], [0], [0], [0], [0], [0], [0], [0], [0], [0], [0], [0], [0], [0], [0], [0], [0], [0], [0], [0], [0], [0], [0], [0], [0], [0], [0], [0], [0], [0], [0], [0], [0], [0], [0], [0], [0], [0], [0], [0], [0], [0], [0], [0], [0], [0], [0], [0], [0], [0], [0], [0], [0], [0], [0], [0], [0], [0], [0], [0], [0], [0], [0], [0], [0], [0], [0], [0], [0], [0], [0], [0], [0], [0], [0], [0], [0], [0], [0], [0], [0], [0], [0], [0], [0], [0], [0], [0], [0], [0], [0], [0], [0], [0], [0], [0], [0], [0], [0], [0], [0], [0], [0], [0], [0], [0], [0], [0], [0], [0], [0], [0], [0], [0], [0], [0], [0], [0], [0], [0], [0], [0], [0], [0], [0], [0], [0], [0], [0], [0], [0], [0], [0], [0], [0], [0], [0], [0], [0], [0], [0], [0], [0], [0], [0], [0], [0], [0], [0], [0], [0], [0], [0], [0], [0], [0], [0], [0], [0], [0], [0], [0], [0], [0], [0], [0], [0], [0], [0], [0], [0], [0], [0], [0], [0], [0], [0], [0], [0], [0], [0], [0], [0], [0], [0], [0], [0], [0], [0], [0], [0], [0], [0], [0], [0], [0], [0], [0], [0], [0], [0], [0], [0], [0], [0], [0], [0], [0], [0], [0], [0], [0], [0], [0], [0], [0], [0], [0], [0], [0], [0], [0], [0], [0], [0], [0], [0], [0], [0], [0], [0], [0], [0], [0], [0], [0], [0], [0], [0], [0], [0], [0], [0], [0], [0], [0], [0], [0], [0], [0], [0], [0], [0], [0], [0], [0], [0], [0], [0], [0], [0], [0], [0], [0], [0], [0], [0], [0], [0], [0], [0], [0], [0], [0], [0], [0], [0], [0], [0], [0], [0], [0], [0], [0], [0], [0], [0], [0], [0], [0], [0], [0], [0], [0], [0], [0], [0], [0], [0], [0], [0], [0], [0], [0], [0], [0], [0], [0], [0], [0], [0], [0], [0], [0], [0], [0], [0], [0], [0], [0], [0], [0], [0], [0], [0], [0], [0], [0], [0], [0], [0], [0], [0], [0], [0], [0], [0], [0], [0], [0], [0], [0], [0], [0], [0], [0], [0], [0], [0], [0], [0], [0], [0], [0], [0], [0], [0], [0], [0], [0], [0], [0], [0], [0], [0], [0], [0], [0], [0], [0], [0], [0], [0], [0], [0], [0], [0], [0], [0], [0], [0], [0], [0], [0], [0], [0], [0], [0], [0], [0], [0], [0], [0], [0], [0], [0], [0], [0], [0], [0], [0], [0], [0], [0], [0], [0], [0], [0], [0], [0], [0], [0], [0], [0], [0], [0], [0], [0], [0], [0], [0], [0], [0], [0], [0], [0], [0], [0], [0], [0], [0], [0], [0], [0], [0], [0], [0], [0], [0], [0], [0], [0], [0], [0], [0], [0], [0], [0], [0], [0], [0], [0], [0], [0], [0], [0], [0], [0], [0], [0], [0], [0], [0], [0], [0], [0], [0], [0], [0], [0], [0], [0], [0], [0], [0], [0], [0], [0], [0], [0], [0], [0], [0], [0], [0], [0], [0], [0], [0], [0], [0], [0], [0], [0], [0], [0], [0], [0], [0], [0], [0], [0], [0], [0], [0], [0], [0], [0], [0], [0], [0], [0], [0], [0], [0], [0], [0], [0], [0], [0], [0], [0], [0], [0], [0], [0], [0], [0], [0], [0], [0], [0], [0], [0], [0], [0], [0], [0], [0], [0], [0], [0], [0], [0], [0], [0], [0], [0], [0], [0], [0], [0], [0], [0], [0], [0], [0], [0], [0], [0], [0], [0], [0], [0], [0], [0], [0], [0], [0], [0], [0], [0], [0], [0], [0], [0], [0], [0], [0], [0], [0], [0], [0], [0], [0], [0], [0], [0], [0], [0], [0], [0], [0], [0], [0], [0], [0], [0], [0], [0], [0], [0], [0], [0], [0], [0], [0], [0], [0], [0], [0], [0], [0], [0], [0], [0], [0], [0], [0], [0], [0], [0], [0], [0], [0], [0], [0], [0], [0], [0], [0], [0], [0], [0], [0], [0], [0], [0], [0], [0], [0], [0], [0], [0], [0], [0], [0], [0], [0], [0], [0], [0], [0], [0], [0], [0], [0], [0], [0], [0], [0], [0], [0], [0], [0], [0], [0], [0], [0], [0], [0], [0], [0], [0], [0], [0], [0], [0], [0], [0], [0], [0], [0], [0], [0], [0], [0], [0], [0], [0], [0], [0], [0], [0], [0], [0], [0], [0], [0], [0], [0], [0], [0], [0], [0], [0], [0], [0], [0], [0], [0], [0], [0], [0], [0], [0], [0], [0], [0], [0], [0], [0], [0], [0], [0], [0], [0], [0], [0], [0], [0], [0], [0], [0], [0], [0], [0], [0], [0], [0], [0], [0], [0], [0], [0], [0], [0], [0], [0], [0], [0], [0], [0], [0], [0], [0], [0], [0], [0], [0], [0], [0], [0], [0], [0], [0], [0], [0], [0], [0], [0], [0], [0], [0], [0], [0], [0], [0], [0], [0], [0], [0], [0], [0], [0], [0], [0], [0], [0], [0], [0], [0], [0], [0], [0], [0], [0], [0], [0], [0], [0], [0], [0], [0], [0], [0], [0], [0], [0], [0], [0], [0], [0], [0], [0], [0], [0], [0], [0], [0], [0], [0], [0], [0], [0], [0], [0], [0], [0], [0], [0], [0], [0], [0], [0], [0], [0], [0], [0], [0], [0], [0], [0], [0], [0], [0], [0], [0], [0], [0], [0], [0], [0], [0], [0], [0], [0], [0], [0], [0], [0], [0], [0], [0], [0], [0], [0], [0], [0], [0], [0], [0], [0], [0], [0], [0], [0], [0], [0], [0], [0], [0], [0], [0], [0], [0], [0], [0], [0], [0], [0], [0], [0], [0], [0], [0], [0], [0], [0], [0], [0], [0], [0], [0], [0], [0], [0], [0], [0], [0], [0], [0], [0], [0], [0], [0], [0], [0], [0], [0], [0], [0], [0], [0], [0], [0], [0], [0], [0], [0], [0], [0], [0], [0], [0], [0], [0], [0], [0], [0], [0], [0], [0], [0], [0], [0], [0], [0], [0], [0], [0], [0], [0], [0], [0], [0], [0], [0], [0], [0], [0], [0], [0], [0], [0], [0], [0], [0], [0], [0], [0], [0], [0], [0], [0], [0], [0], [0], [0], [0], [0], [0], [0], [0], [0], [0], [0], [0], [0], [0], [0], [0], [0], [0], [0], [0], [0], [0], [0], [0], [0], [0], [0], [0], [0], [0], [0], [0], [0], [0], [0], [0], [0], [0], [0], [0], [0], [0], [0], [0], [0], [0], [0], [0], [0], [0], [0], [0], [0], [0], [0], [0], [0], [0], [0], [0], [0], [0], [0], [0], [0], [0], [0], [0], [0], [0], [0], [0], [0], [0], [0], [0], [0], [0], [0], [0], [0], [0], [0], [0], [0], [0], [0], [0], [0], [0], [0], [0], [0], [0], [0], [0], [0], [0], [0], [0], [0], [0], [0], [0], [0], [0], [0], [0], [0], [0], [0], [0], [0], [0], [0], [0], [0], [0], [0], [0], [0], [0], [0], [0], [0], [0], [0], [0], [0], [0], [0], [0], [0], [0], [0], [0], [0], [0], [0], [0], [0], [0], [0], [0], [0], [0], [0], [0], [0], [0], [0], [0], [0], [0], [0], [0], [0], [0], [0], [0], [0], [0], [0], [0], [0], [0], [0], [0], [0], [0], [0], [0], [0], [0], [0], [0], [0], [0], [0], [0], [0], [0], [0], [0], [0], [0], [0], [0], [0], [0], [0], [0], [0], [0], [0], [0], [0], [0], [0], [0], [0], [0], [0], [0], [0], [0], [0], [0], [0], [0], [0], [0], [0], [0], [0], [0], [0], [0], [0], [0], [0], [0], [0], [0], [0], [0], [0], [0], [0], [0], [0], [0], [0], [0], [0], [0], [0], [0], [0], [0], [0], [0], [0], [0], [0], [0], [0], [0], [0], [0], [0], [0], [0], [0], [0], [0], [0], [0], [0], [0], [0], [0], [0], [0], [0], [0], [0], [0], [0], [0], [0], [0], [0], [0], [0], [0], [0], [0], [0], [0], [0], [0], [0], [0], [0], [0], [0], [0], [0], [0], [0], [0], [0], [0], [0], [0], [0], [0], [0], [0], [0], [0], [0], [0], [0], [0], [0], [0], [0], [0], [0], [0], [0], [0], [0], [0], [0], [0], [0], [0], [0], [0], [0], [0], [0], [0], [0], [0], [0], [0], [0], [0], [0], [0], [0], [0], [0], [0], [0], [0], [0], [0], [0], [0], [0], [0], [0], [0], [0], [0], [0], [0], [0], [0], [0], [0], [0], [0], [0], [0], [0], [0], [0], [0], [0], [0], [0], [0], [0], [0], [0], [0], [0], [0], [0], [0], [0], [0], [0], [0], [0], [0], [0], [0], [0], [0], [0], [0], [0], [0], [0], [0], [0], [0], [0], [0], [0], [0], [0], [0], [0], [0], [0], [0], [0], [0], [0], [0], [0], [0], [0], [0], [0], [0], [0], [0], [0], [0], [0], [0], [0], [0], [0], [0], [0], [0], [0], [0], [0], [0], [0], [0], [0], [0], [0], [0], [0], [0], [0], [0], [0], [0], [0], [0], [0], [0], [0], [0], [0], [0], [0], [0], [0], [0], [0], [0], [0], [0], [0], [0], [0], [0], [0], [0], [0], [0], [0], [0], [0], [0], [0], [0], [0], [0], [0], [0], [0], [0], [0], [0], [0], [0], [0], [0], [0], [0], [0], [0], [0], [0], [0], [0], [0], [0], [0], [0], [0], [0], [0], [0], [0], [0], [0], [0], [0], [0], [0], [0], [0], [0], [0], [0], [0], [0], [0], [0], [0], [0], [0], [0], [0], [0], [0], [0], [0], [0], [0], [0], [0], [0], [0], [0], [0], [0], [0], [0], [0], [0], [0], [0], [0], [0], [0], [0], [0], [0], [0], [0], [0], [0], [0], [0], [0], [0], [0], [0], [0], [0], [0], [0], [0], [0], [0], [0], [0], [0], [0], [0], [0], [0], [0], [0], [0], [0], [0], [0], [0], [0], [0], [0], [0], [0], [0], [0], [0], [0], [0], [0], [0], [0], [0], [0], [0], [0], [0], [0], [0], [0], [0], [0], [0], [0], [0], [0], [0], [0], [0], [0], [0], [0], [0], [0], [0], [0], [0], [0], [0], [0], [0], [0], [0], [0], [0], [0], [0], [0], [0], [0], [0], [0], [0], [0], [0], [0], [0], [0], [0], [0], [0], [0], [0], [0], [0], [0], [0], [0], [0], [0], [0], [0], [0], [0], [0], [0], [0], [0], [0], [0], [0], [0], [0], [0], [0], [0], [0], [0], [0], [0], [0], [0], [0], [0], [0], [0], [0], [0], [0], [0], [0], [0], [0], [0], [0], [0], [0], [0], [0], [0], [0], [0], [0], [0], [0], [0], [0], [0], [0], [0], [0], [0], [0], [0], [0], [0], [0], [0], [0], [0], [0], [0], [0], [0], [0], [0], [0], [0], [0], [0], [0], [0], [0], [0], [0], [0], [0], [0], [0], [0], [0], [0], [0], [0], [0], [0], [0], [0], [0], [0], [0], [0], [0], [0], [0], [0], [0], [0], [0], [0], [0], [0], [0], [0], [0], [0], [0], [0], [0], [0], [0], [0], [0], [0], [0], [0], [0], [0], [0], [0], [0], [0], [0], [0], [0], [0], [0], [0], [0], [0], [0], [0], [0], [0], [0], [0], [0], [0], [0], [0], [0], [0], [0], [0], [0], [0], [0], [0], [0], [0], [0], [0], [0], [0], [0], [0], [0], [0], [0], [0], [0], [0], [0], [0], [0], [0], [0], [0], [0], [0], [0], [0], [0], [0], [0], [0], [0], [0], [0], [0], [0], [0], [0], [0], [0], [0], [0], [0], [0], [0], [0], [0], [0], [0], [0], [0], [0], [0], [0], [0], [0], [0], [0], [0], [0], [0], [0], [0], [0], [0], [0], [0], [0], [0], [0], [0], [0], [0], [0], [0], [0], [0], [0], [0], [0], [0], [0], [0], [0], [0], [0], [0], [0], [0], [0], [0], [0], [0], [0], [0], [0], [0], [0], [0], [0], [0], [0], [0], [0], [0], [0], [0], [0], [0], [0], [0], [0], [0], [0], [0], [0], [0], [0], [0], [0], [0], [0], [0], [0], [0], [0], [0], [0], [0], [0], [0], [0], [0], [0], [0], [0], [0], [0], [0], [0], [0], [0], [0], [0], [0], [0], [0], [0], [0], [0], [0], [0], [0], [0], [0], [0], [0], [0], [0], [0], [0], [0], [0], [0], [0], [0], [0], [0], [0], [0], [0], [0], [0], [0], [0], [0], [0], [0], [0], [0], [0], [0], [0], [0], [0], [0], [0], [0], [0], [0], [0], [0], [0], [0], [0], [0], [0], [0], [0], [0], [0], [0], [0], [0], [0], [0], [0], [0], [0], [0], [0], [0], [0], [0], [0], [0], [0], [0], [0], [0], [0], [0], [0], [0], [0], [0], [0], [0], [0], [0], [0], [0], [0], [0], [0], [0], [0], [0], [0], [0], [0], [0], [0], [0], [0], [0], [0], [0], [0], [0], [0], [0], [0], [0], [0], [0], [0], [0], [0], [0], [0], [0], [0], [0], [0], [0], [0], [0], [0], [0], [0], [0], [0], [0], [0], [0], [0], [0], [0], [0], [0], [0], [0], [0], [0], [0], [0], [0], [0], [0], [0], [0], [0], [0], [0], [0], [0], [0], [0], [0], [0], [0], [0], [0], [0], [0], [0], [0], [0], [0], [0], [0], [0], [0], [0], [0], [0], [0], [0], [0], [0], [0], [0], [0], [0], [0], [0], [0], [0], [0], [0], [0], [0], [0], [0], [0], [0], [0], [0], [0], [0], [0], [0], [0], [0], [0], [0], [0], [0], [0], [0], [0], [0], [0], [0], [0], [0], [0], [0], [0], [0], [0], [0], [0], [0], [0], [0], [0], [0], [0], [0], [0], [0], [0], [0], [0], [0], [0], [0], [0], [0], [0], [0], [0], [0], [0], [0], [0], [0], [0], [0], [0], [0], [0], [0], [0], [0], [0], [0], [0], [0], [0], [0], [0], [0], [0], [0], [0], [0], [0], [0], [0], [0], [0], [0], [0], [0], [0], [0], [0], [0], [0], [0], [0], [0], [0], [0], [0], [0], [0], [0], [0], [0], [0], [0], [0], [0], [0], [0], [0], [0], [0], [0], [0], [0], [0], [0], [0], [0], [0], [0], [0], [0], [0], [0], [0], [0], [0], [0], [0], [0], [0], [0], [0], [0], [0], [0], [0], [0], [0], [0], [0], [0], [0], [0], [0], [0], [0], [0], [0], [0], [0], [0], [0], [0], [0], [0], [0], [0], [0], [0], [0], [0], [0], [0], [0], [0], [0], [0], [0], [0], [0], [0], [0], [0], [0], [0], [0], [0], [0], [0], [0], [0], [0], [0], [0], [0], [0], [0], [0], [0], [0], [0], [0], [0], [0], [0], [0], [0], [0], [0], [0], [0], [0], [0], [0], [0], [0], [0], [0], [0], [0], [0], [0], [0], [0], [0], [0], [0], [0], [0], [0], [0], [0], [0], [0], [0], [0], [0], [0], [0], [0], [0], [0], [0], [0], [0], [0], [0], [0], [0], [0], [0], [0], [0], [0], [0], [0], [0], [0], [0], [0], [0], [0], [0], [0], [0], [0], [0], [0], [0], [0], [0], [0], [0], [0], [0], [0], [0], [0], [0], [0], [0], [0], [0], [0], [0], [0], [0], [0], [0], [0], [0], [0], [0], [0], [0], [0], [0], [0], [0], [0], [0], [0], [0], [0], [0], [0], [0], [0], [0], [0], [0], [0], [0], [0], [0], [0], [0], [0], [0], [0], [0], [0], [0], [0], [0], [0], [0], [0], [0], [0], [0], [0], [0], [0], [0], [0], [0], [0], [0], [0], [0], [0], [0], [0], [0], [0], [0], [0], [0], [0], [0], [0], [0], [0], [0], [0], [0], [0], [0], [0], [0], [0], [0], [0], [0], [0], [0], [0], [0], [0], [0], [0], [0], [0], [0], [0], [0], [0], [0], [0], [0], [0], [0], [0], [0], [0], [0], [0], [0], [0], [0], [0], [0], [0], [0], [0], [0], [0], [0], [0], [0], [0], [0], [0], [0], [0], [0], [0], [0], [0], [0], [0], [0], [0], [0], [0], [0], [0], [0], [0], [0], [0], [0], [0], [0], [0], [0], [0], [0], [0], [0], [0], [0], [0], [0], [0], [0], [0], [0], [0], [0], [0], [0], [0], [0], [0], [0], [0], [0], [0], [0], [0], [0], [0], [0], [0], [0], [0], [0], [0], [0], [0], [0], [0], [0], [0], [0], [0], [0], [0], [0], [0], [0], [0], [0], [0], [0], [0], [0], [0], [0], [0], [0], [0], [0], [0], [0], [0], [0], [0], [0], [0], [0], [0], [0], [0], [0], [0], [0], [0], [0], [0], [0], [0], [0], [0], [0], [0], [0], [0], [0], [0], [0], [0], [0], [0], [0], [0], [0], [0], [0], [0], [0], [0], [0], [0], [0], [0], [0], [0], [0], [0], [0], [0], [0], [0], [0], [0], [0], [0], [0], [0], [0], [0], [0], [0], [0], [0], [0], [0], [0], [0], [0], [0], [0], [0], [0], [0], [0], [0], [0], [0], [0], [0], [0], [0], [0], [0], [0], [0], [0], [0], [0], [0], [0], [0], [0], [0], [0], [0], [0], [0], [0], [0], [0], [0], [0], [0], [0], [0], [0], [0], [0], [0], [0], [0], [0], [0], [0], [0], [0], [0], [0], [0], [0], [0], [0], [0], [0], [0], [0], [0], [0], [0], [0], [0], [0], [0], [0], [0], [0], [0], [0], [0], [0], [0], [0], [0], [0], [0], [0], [0], [0], [0], [0], [0], [0], [0], [0], [0], [0], [0], [0], [0], [0], [0], [0], [0], [0], [0], [0], [0], [0], [0], [0], [0], [0], [0], [0], [0], [0], [0], [0], [0], [0], [0], [0], [0], [0], [0], [0], [0], [0], [0], [0], [0], [0], [0], [0], [0], [0], [0], [0], [0], [0], [0], [0], [0], [0], [0], [0], [0], [0], [0], [0], [0], [0], [0], [0], [0], [0], [0], [0], [0], [0], [0], [0], [0], [0], [0], [0], [0], [0], [0], [0], [0], [0], [0], [0], [0], [0], [0], [0], [0], [0], [0], [0], [0], [0], [0], [0], [0], [0], [0], [0], [0], [0], [0], [0], [0], [0], [0], [0], [0], [0], [0], [0], [0], [0], [0], [0], [0], [0], [0], [0], [0], [0], [0], [0], [0], [0], [0], [0], [0], [0], [0], [0], [0], [0], [0], [0], [0], [0], [0], [0], [0], [0], [0], [0], [0], [0], [0], [0], [0], [0], [0], [0], [0], [0], [0], [0], [0], [0], [0], [0], [0], [0], [0], [0], [0], [0], [0], [0], [0], [0], [0], [0], [0], [0], [0], [0], [0], [0], [0], [0], [0], [0], [0], [0], [0], [0], [0], [0], [0], [0], [0], [0], [0], [0], [0], [0], [0], [0], [0], [0], [0], [0], [0], [0], [0], [0], [0], [0], [0], [0], [0], [0], [0], [0], [0], [0], [0], [0], [0], [0], [0], [0], [0], [0], [0], [0], [0], [0], [0], [0], [0], [0], [0], [0], [0], [0], [0], [0], [0], [0], [0], [0], [0], [0], [0], [0], [0], [0], [0], [0], [0], [0], [0], [0], [0], [0], [0], [0], [0], [0], [0], [0], [0], [0], [0], [0], [0], [0], [0], [0], [0], [0], [0], [0], [0], [0], [0], [0], [0], [0], [0], [0], [0], [0], [0], [0], [0], [0], [0], [0], [0], [0], [0], [0], [0], [0], [0], [0], [0], [0], [0], [0], [0], [0], [0], [0], [0], [0], [0], [0], [0], [0], [0], [0], [0], [0], [0], [0], [0], [0], [0], [0], [0], [0], [0], [0], [0], [0], [0], [0], [0], [0], [0], [0], [0], [0], [0], [0], [0], [0], [0], [0], [0], [0], [0], [0], [0], [0], [0], [0], [0], [0], [0], [0], [0], [0], [0], [0], [0], [0], [0], [0], [0], [0], [0], [0], [0], [0], [0], [0], [0], [0], [0], [0], [0], [0], [0], [0], [0], [0], [0], [0], [0], [0], [0], [0], [0], [0], [0], [0], [0], [0], [0], [0], [0], [0], [0], [0], [0], [0], [0], [0], [0], [0], [0], [0], [0], [0], [0], [0], [0], [0], [0], [0], [0], [0], [0], [0], [0], [0], [0], [0], [0], [0], [0], [0], [0], [0], [0], [0], [0], [0], [0], [0], [0], [0], [0], [0], [0], [0], [0], [0], [0], [0], [0], [0], [0], [0], [0], [0], [0], [0], [0], [0], [0], [0], [0], [0], [0], [0], [0], [0], [0], [0], [0], [0], [0], [0], [0], [0], [0], [0], [0], [0], [0], [0], [0], [0], [0], [0], [0], [0], [0], [0], [0], [0], [0], [0], [0], [0], [0], [0], [0], [0], [0], [0], [0], [0], [0], [0], [0], [0], [0], [0], [0], [0], [0], [0], [0], [0], [0], [0], [0], [0], [0], [0], [0], [0], [0], [0], [0], [0], [0], [0], [0], [0], [0], [0], [0], [0], [0], [0], [0], [0], [0], [0], [0], [0], [0], [0], [0], [0], [0], [0], [0], [0], [0], [0], [0], [0], [0], [0], [0], [0], [0], [0], [0], [0], [0], [0], [0], [0], [0], [0], [0], [0], [0], [0], [0], [0], [0], [0], [0], [0], [0], [0], [0], [0], [0], [0], [0], [0], [0], [0], [0], [0], [0], [0], [0], [0], [0], [0], [0], [0], [0], [0], [0], [0], [0], [0], [0], [0], [0], [0], [0], [0], [0], [0], [0], [0], [0], [0], [0], [0], [0], [0], [0], [0], [0], [0], [0], [0], [0], [0], [0], [0], [0], [0], [0], [0], [0], [0], [0], [0], [0], [0], [0], [0], [0], [0], [0], [0], [0], [0], [0], [0], [0], [0], [0], [0], [0], [0], [0], [0], [0], [0], [0], [0], [0], [0], [0], [0], [0], [0], [0], [0], [0], [0], [0], [0], [0], [0], [0], [0], [0], [0], [0], [0], [0], [0], [0], [0], [0], [0], [0], [0], [0], [0], [0], [0], [0], [0], [0], [0], [0], [0], [0], [0], [0], [0], [0], [0], [0], [0], [0], [0], [0], [0], [0], [0], [0], [0], [0], [0], [0], [0], [0], [0], [0], [0], [0], [0], [0], [0], [0], [0], [0], [0], [0], [0], [0], [0], [0], [0], [0], [0], [0], [0], [0], [0], [0], [0], [0], [0], [0], [0], [0], [0], [0], [0], [0], [0], [0], [0], [0], [0], [0], [0], [0], [0], [0], [0], [0], [0], [0], [0], [0], [0], [0], [0], [0], [0], [0], [0], [0], [0], [0], [0], [0], [0], [0], [0], [0], [0], [0], [0], [0], [0], [0], [0], [0], [0], [0], [0], [0], [0], [0], [0], [0], [0], [0], [0], [0], [0], [0], [0], [0], [0], [0], [0], [0], [0], [0], [0], [0], [0], [0], [0], [0], [0], [0], [0], [0], [0], [0], [0], [0], [0], [0], [0], [0], [0], [0], [0], [0], [0], [0], [0], [0], [0], [0], [0], [0], [0], [0], [0], [0], [0], [0], [0], [0], [0], [0], [0], [0], [0], [0], [0], [0], [0], [0], [0], [0], [0], [0], [0], [0], [0], [0], [0], [0], [0], [0], [0], [0], [0], [0], [0], [0], [0], [0], [0], [0], [0], [0], [0], [0], [0], [0], [0], [0], [0], [0], [0], [0], [0], [0], [0], [0], [0], [0], [0], [0], [0], [0], [0], [0], [0], [0], [0], [0], [0], [0], [0], [0], [0], [0], [0], [0], [0], [0], [0], [0], [0], [0], [0], [0], [0], [0], [0], [0], [0], [0], [0], [0], [0], [0], [0], [0], [0], [0], [0], [0], [0], [0], [0], [0], [0], [0], [0], [0], [0], [0], [0], [0], [0], [0], [0], [0], [0], [0], [0], [0], [0], [0], [0], [0], [0], [0], [0], [0], [0], [0], [0], [0], [0], [0], [0], [0], [0], [0], [0], [0], [0], [0], [0], [0], [0], [0], [0], [0], [0], [0], [0], [0], [0], [0], [0], [0], [0], [0], [0], [0], [0], [0], [0], [0], [0], [0], [0], [0], [0], [0], [0], [0], [0], [0], [0], [0], [0], [0], [0], [0], [0], [0], [0], [0], [0], [0], [0], [0], [0], [0], [0], [0], [0], [0], [0], [0], [0], [0], [0], [0], [0], [0], [0], [0], [0], [0], [0], [0], [0], [0], [0], [0], [0], [0], [0], [0], [0], [0], [0], [0], [0], [0], [0], [0], [0], [0], [0], [0], [0], [0], [0], [0], [0], [0], [0], [0], [0], [0], [0], [0], [0], [0], [0], [0], [0], [0], [0], [0], [0], [0], [0], [0], [0], [0], [0], [0], [0], [0], [0], [0], [0], [0], [0], [0], [0], [0], [0], [0], [0], [0], [0], [0], [0], [0], [0], [0], [0], [0], [0], [0], [0], [0], [0], [0], [0], [0], [0], [0], [0], [0], [0], [0], [0], [0], [0], [0], [0], [0], [0], [0], [0], [0], [0], [0], [0], [0], [0], [0], [0], [0], [0], [0], [0], [0], [0], [0], [0], [0], [0], [0], [0], [0], [0], [0], [0], [0], [0], [0], [0], [0], [0], [0], [0], [0], [0], [0], [0], [0], [0], [0], [0], [0], [0], [0], [0], [0], [0], [0], [0], [0], [0], [0], [0], [0], [0], [0], [0], [0], [0], [0], [0], [0], [0], [0], [0], [0], [0], [0], [0], [0], [0], [0], [0], [0], [0], [0], [0], [0], [0], [0], [0], [0], [0], [0], [0], [0], [0], [0], [0], [0], [0], [0], [0], [0], [0], [0], [0], [0], [0], [0], [0], [0], [0], [0], [0], [0], [0], [0], [0], [0], [0], [0], [0], [0], [0], [0], [0], [0], [0], [0], [0], [0], [0], [0], [0], [0], [0], [0], [0], [0], [0], [0], [0], [0], [0], [0], [0], [0], [0], [0], [0], [0], [0], [0], [0], [0], [0], [0], [0], [0], [0], [0], [0], [0], [0], [0], [0], [0], [0], [0], [0], [0], [0], [0], [0], [0], [0], [0], [0], [0], [0], [0], [0], [0], [0], [0], [0], [0], [0], [0], [0], [0], [0], [0], [0], [0], [0], [0], [0], [0], [0], [0], [0], [0], [0], [0], [0], [0], [0], [0], [0], [0], [0], [0], [0], [0], [0], [0], [0], [0], [0], [0], [0], [0], [0], [0], [0], [0], [0], [0], [0], [0], [0], [0], [0], [0], [0], [0], [0], [0], [0], [0], [0], [0], [0], [0], [0], [0], [0], [0], [0], [0], [0], [0], [0], [0], [0], [0], [0], [0], [0], [0], [0], [0], [0], [0], [0], [0], [0], [0], [0], [0], [0], [0], [0], [0], [0], [0], [0], [0], [0], [0], [0], [0], [0], [0], [0], [0], [0], [0], [0], [0], [0], [0], [0], [0], [0], [0], [0], [0], [0], [0], [0], [0], [0], [0], [0], [0], [0], [0], [0], [0], [0], [0], [0], [0], [0], [0], [0], [0], [0], [0], [0], [0], [0], [0], [0], [0], [0], [0], [0], [0], [0], [0], [0], [0], [0], [0], [0], [0], [0], [0], [0], [0], [0], [0], [0], [0], [0], [0], [0], [0], [0], [0], [0], [0], [0], [0], [0], [0], [0], [0], [0], [0], [0], [0], [0], [0], [0], [0], [0], [0], [0], [0], [0], [0], [0], [0], [0], [0], [0], [0], [0], [0], [0], [0], [0], [0], [0], [0], [0], [0], [0], [0], [0], [0], [0], [0], [0], [0], [0], [0], [0], [0], [0], [0], [0], [0], [0], [0], [0], [0], [0], [0], [0], [0], [0], [0], [0], [0], [0], [0], [0], [0], [0], [0], [0], [0], [0], [0], [0], [0], [0], [0], [0], [0], [0], [0], [0], [0], [0], [0], [0], [0], [0], [0], [0], [0], [0], [0], [0], [0], [0], [0], [0], [0], [0], [0], [0], [0], [0], [0], [0], [0], [0], [0], [0], [0], [0], [0], [0], [0], [0], [0], [0], [0], [0], [0], [0], [0], [0], [0], [0], [0], [0], [0], [0], [0], [0], [0], [0], [0], [0], [0], [0], [0], [0], [0], [0], [0], [0], [0], [0], [0], [0], [0], [0], [0], [0], [0], [0], [0], [0], [0], [0], [0], [0], [0], [0], [0], [0], [0], [0], [0], [0], [0], [0], [0], [0], [0], [0], [0], [0], [0], [0], [0], [0], [0], [0], [0], [0], [0], [0], [0], [0], [0], [0], [0], [0], [0], [0], [0], [0], [0], [0], [0], [0], [0], [0], [0], [0], [0], [0], [0], [0], [0], [0], [0], [0], [0], [0], [0], [0], [0], [0], [0], [0], [0], [0], [0], [0], [0], [0], [0], [0], [0], [0], [0], [0], [0], [0], [0], [0], [0], [0], [0], [0], [0], [0], [0], [0], [0], [0], [0], [0], [0], [0], [0], [0], [0], [0], [0], [0], [0], [0], [0], [0], [0], [0], [0], [0], [0], [0], [0], [0], [0], [0], [0], [0], [0], [0], [0], [0], [0], [0], [0], [0], [0], [0], [0], [0], [0], [0], [0], [0], [0], [0], [0], [0], [0], [0], [0], [0], [0], [0], [0], [0], [0], [0], [0], [0], [0], [0], [0], [0], [0], [0], [0], [0], [0], [0], [0], [0], [0], [0], [0], [0], [0], [0], [0], [0], [0], [0], [0], [0], [0], [0], [0], [0], [0], [0], [0], [0], [0], [0], [0], [0], [0], [0], [0], [0], [0], [0], [0], [0], [0], [0], [0], [0], [0], [0], [0], [0], [0], [0], [0], [0], [0], [0], [0], [0], [0], [0], [0], [0], [0], [0], [0], [0], [0], [0], [0], [0], [0], [0], [0], [0], [0], [0], [0], [0], [0], [0], [0], [0], [0], [0], [0], [0], [0], [0], [0], [0], [0], [0], [0], [0], [0], [0], [0], [0], [0], [0], [0], [0], [0], [0], [0], [0], [0], [0], [0], [0], [0], [0], [0], [0], [0], [0], [0], [0], [0], [0], [0], [0], [0], [0], [0], [0], [0], [0], [0], [0], [0], [0], [0], [0], [0], [0], [0], [0], [0], [0], [0], [0], [0], [0], [0], [0], [0], [0], [0], [0], [0], [0], [0], [0], [0], [0], [0], [0], [0], [0], [0], [0], [0], [0], [0], [0], [0], [0], [0], [0], [0], [0], [0], [0], [0], [0], [0], [0], [0], [0], [0], [0], [0], [0], [0], [0], [0], [0], [0], [0], [0], [0], [0], [0], [0], [0], [0], [0], [0], [0], [0], [0], [0], [0], [0], [0], [0], [0], [0], [0], [0], [0], [0], [0], [0], [0], [0], [0], [0], [0], [0], [0], [0], [0], [0], [0], [0], [0], [0], [0], [0], [0], [0], [0], [0], [0], [0], [0], [0], [0], [0], [0], [0], [0], [0], [0], [0], [0], [0], [0], [0], [0], [0], [0], [0], [0], [0], [0], [0], [0], [0], [0], [0], [0], [0], [0], [0], [0], [0], [0], [0], [0], [0], [0], [0], [0], [0], [0], [0], [0], [0], [0], [0], [0], [0], [0], [0], [0], [0], [0], [0], [0], [0], [0], [0], [0], [0], [0], [0], [0], [0], [0], [0], [0], [0], [0], [0], [0], [0], [0], [0], [0], [0], [0], [0], [0], [0], [0], [0], [0], [0], [0], [0], [0], [0], [0], [0], [0], [0], [0], [0], [0], [0], [0], [0], [0], [0], [0], [0], [0], [0], [0], [0], [0], [0], [0], [0], [0], [0], [0], [0], [0], [0], [0], [0], [0], [0], [0], [0], [0], [0], [0], [0], [0], [0], [0], [0], [0], [0], [0], [0], [0], [0], [0], [0], [0], [0], [0], [0], [0], [0], [0], [0], [0], [0], [0], [0], [0], [0], [0], [0], [0], [0], [0], [0], [0], [0], [0], [0], [0], [0], [0], [0], [0], [0], [0], [0], [0], [0], [0], [0], [0], [0], [0], [0], [0], [0], [0], [0], [0], [0], [0], [0], [0], [0], [0], [0], [0], [0], [0], [0], [0], [0], [0], [0], [0], [0], [0], [0], [0], [0], [0], [0], [0], [0], [0], [0], [0], [0], [0], [0], [0], [0], [0], [0], [0], [0], [0], [0], [0], [0], [0], [0], [0], [0], [0], [0], [0], [0], [0], [0], [0], [0], [0], [0], [0], [0], [0], [0], [0], [0], [0], [0], [0], [0], [0], [0], [0], [0], [0], [0], [0], [0], [0], [0], [0], [0], [0], [0], [0], [0], [0], [0], [0], [0], [0], [0], [0], [0], [0], [0], [0], [0], [0], [0], [0], [0], [0], [0], [0], [0], [0], [0], [0], [0], [0], [0], [0], [0], [0], [0], [0], [0], [0], [0], [0], [0], [0], [0], [0], [0], [0], [0], [0], [0], [0], [0], [0], [0], [0], [0], [0], [0], [0], [0], [0], [0], [0], [0], [0], [0], [0], [0], [0], [0], [0], [0], [0], [0], [0], [0], [0], [0], [0], [0], [0], [0], [0], [0], [0], [0], [0], [0], [0], [0], [0], [0], [0], [0], [0], [0], [0], [0], [0], [0], [0], [0], [0], [0], [0], [0], [0], [0], [0], [0], [0], [0], [0], [0], [0], [0], [0], [0], [0], [0], [0], [0], [0], [0], [0], [0], [0], [0], [0], [0], [0], [0], [0], [0], [0], [0], [0], [0], [0], [0], [0], [0], [0], [0], [0], [0], [0], [0], [0], [0], [0], [0], [0], [0], [0], [0], [0], [0], [0], [0], [0], [0], [0], [0], [0], [0], [0], [0], [0], [0], [0], [0], [0], [0], [0], [0], [0], [0], [0], [0], [0], [0], [0], [0], [0], [0], [0], [0], [0], [0], [0], [0], [0], [0], [0], [0], [0], [0], [0], [0], [0], [0], [0], [0], [0], [0], [0], [0], [0], [0], [0], [0], [0], [0], [0], [0], [0], [0], [0], [0], [0], [0], [0], [0], [0], [0], [0], [0], [0], [0], [0], [0], [0], [0], [0], [0], [0], [0], [0], [0], [0], [0], [0], [0], [0], [0], [0], [0], [0], [0], [0], [0], [0], [0], [0], [0], [0], [0], [0], [0], [0], [0], [0], [0], [0], [0], [0], [0], [0], [0], [0], [0], [0], [0], [0], [0], [0], [0], [0], [0], [0], [0], [0], [0], [0], [0], [0], [0], [0], [0], [0], [0], [0], [0], [0], [0], [0], [0], [0], [0], [0], [0], [0], [0], [0], [0], [0], [0], [0], [0], [0], [0], [0], [0], [0], [0], [0], [0], [0], [0], [0], [0], [0], [0], [0], [0], [0], [0], [0], [0], [0], [0], [0], [0], [0], [0], [0], [0], [0], [0], [0], [0], [0], [0], [0], [0], [0], [0], [0], [0], [0], [0], [0], [0], [0], [0], [0], [0], [0], [0], [0], [0], [0], [0], [0], [0], [0], [0], [0], [0], [0], [0], [0], [0], [0], [0], [0], [0], [0], [0], [0], [0], [0], [0], [0], [0], [0], [0], [0], [0], [0], [0], [0], [0], [0], [0], [0], [0], [0], [0], [0], [0], [0], [0], [0], [0], [0], [0], [0], [0], [0], [0], [0], [0], [0], [0], [0], [0], [0], [0], [0], [0], [0], [0], [0], [0], [0], [0], [0], [0], [0], [0], [0], [0], [0], [0], [0], [0], [0], [0], [0], [0], [0], [0], [0], [0], [0], [0], [0], [0], [0], [0], [0], [0], [0], [0], [0], [0], [0], [0], [0], [0], [0], [0], [0], [0], [0], [0], [0], [0], [0], [0], [0], [0], [0], [0], [0], [0], [0], [0], [0], [0], [0], [0], [0], [0], [0], [0], [0], [0], [0], [0], [0], [0], [0], [0], [0], [0], [0], [0], [0], [0], [0], [0], [0], [0], [0], [0], [0], [0], [0], [0], [0], [0], [0], [0], [0], [0], [0], [0], [0], [0], [0], [0], [0], [0], [0], [0], [0], [0], [0], [0], [0], [0], [0], [0], [0], [0], [0], [0], [0], [0], [0], [0], [0], [0], [0], [0], [0], [0], [0], [0], [0], [0], [0], [0], [0], [0], [0], [0], [0], [0], [0], [0], [0], [0], [0], [0], [0], [0], [0], [0], [0], [0], [0], [0], [0], [0], [0], [0], [0], [0], [0], [0], [0], [0], [0], [0], [0], [0], [0], [0], [0], [0], [0], [0], [0], [0], [0], [0], [0], [0], [0], [0], [0], [0], [0], [0], [0], [0], [0], [0], [0], [0], [0], [0], [0], [0], [0], [0], [0], [0], [0], [0], [0], [0], [0], [0], [0], [0], [0], [0], [0], [0], [0], [0], [0], [0], [0], [0], [0], [0], [0], [0], [0], [0], [0], [0], [0], [0], [0], [0], [0], [0], [0], [0], [0], [0], [0], [0], [0], [0], [0], [0], [0], [0], [0], [0], [0], [0], [0], [0], [0], [0], [0], [0], [0], [0], [0], [0], [0], [0], [0], [0], [0], [0], [0], [0], [0], [0], [0], [0], [0], [0], [0], [0], [0], [0], [0], [0], [0], [0], [0], [0], [0], [0], [0], [0], [0], [0], [0], [0], [0], [0], [0], [0], [0], [0], [0], [0], [0], [0], [0], [0], [0], [0], [0], [0], [0], [0], [0], [0], [0], [0], [0], [0], [0], [0], [0], [0], [0], [0], [0], [0], [0], [0], [0], [0], [0], [0], [0], [0], [0], [0], [0], [0], [0], [0], [0], [0], [0], [0], [0], [0], [0], [0], [0], [0], [0], [0], [0], [0], [0], [0], [0], [0], [0], [0], [0], [0], [0], [0], [0], [0], [0], [0], [0], [0], [0], [0], [0], [0], [0], [0], [0], [0], [0], [0], [0], [0], [0], [0], [0], [0], [0], [0], [0], [0], [0], [0], [0], [0], [0], [0], [0], [0], [0], [0], [0], [0], [0], [0], [0], [0], [0], [0], [0], [0], [0], [0], [0], [0], [0], [0], [0], [0], [0], [0], [0], [0], [0], [0], [0], [0], [0], [0], [0], [0], [0], [0], [0], [0], [0], [0], [0], [0], [0], [0], [0], [0], [0], [0], [0], [0], [0], [0], [0], [0], [0], [0], [0], [0], [0], [0], [0], [0], [0], [0], [0], [0], [0], [0], [0], [0], [0], [0], [0], [0], [0], [0], [0], [0], [0], [0], [0], [0], [0], [0], [0], [0], [0], [0], [0], [0], [0], [0], [0], [0], [0], [0], [0], [0], [0], [0], [0], [0], [0], [0], [0], [0], [0], [0], [0], [0], [0], [0], [0], [0], [0], [0], [0], [0], [0], [0], [0], [0], [0], [0], [0], [0], [0], [0], [0], [0], [0], [0], [0], [0], [0], [0], [0], [0], [0], [0], [0], [0], [0], [0], [0], [0], [0], [0], [0], [0], [0], [0], [0], [0], [0], [0], [0], [0], [0], [0], [0], [0], [0], [0], [0], [0], [0], [0], [0], [0], [0], [0], [0], [0], [0], [0], [0], [0], [0], [0], [0], [0], [0], [0], [0], [0], [0], [0], [0], [0], [0], [0], [0], [0], [0], [0], [0], [0], [0], [0], [0], [0], [0], [0], [0], [0], [0], [0], [0], [0], [0], [0], [0], [0], [0], [0], [0], [0], [0], [0], [0], [0], [0], [0], [0], [0], [0], [0], [0], [0], [0], [0], [0], [0], [0], [0], [0], [0], [0], [0], [0], [0], [0], [0], [0], [0], [0], [0], [0], [0], [0], [0], [0], [0], [0], [0], [0], [0], [0], [0], [0], [0], [0], [0], [0], [0], [0], [0], [0], [0], [0], [0], [0], [0], [0], [0], [0], [0], [0], [0], [0], [0], [0], [0], [0], [0], [0], [0], [0], [0], [0], [0], [0], [0], [0], [0], [0], [0], [0], [0], [0], [0], [0], [0], [0], [0], [0], [0], [0], [0], [0], [0], [0], [0], [0], [0], [0], [0], [0], [0], [0], [0], [0], [0], [0], [0], [0], [0], [0], [0], [0], [0], [0], [0], [0], [0]] [False, False, True, True, False, True, False, True, True, True, False, True, False, True, False, True, True, True, True, False, False, False, True, False, True, False, False, False, True, False, False, False, False, False, False, False, False, False, True, False, True, False, False, True, False, True, True, False, True, False, False, True, True, True, True, True, False, True, True, True, True, True, True, False, False, True, False, True, False, False, True, True, False, False, True, True, False, True, True, True, True, True, False, True, True, True, True, True, True, True, False, False, True, True, True, False, True, False, False, False, False, False, True, True, False, True, False, False, False, False, False, False, False, False, False, True, False, False, False, True, True, False, False, False, True, True, True, False, True, True, True, True, False, False, True, True, False, False, True, True, True, False, False, False, False, True, True, True, True, False, False, False, True, True, True, False, False, True, True, False, False, True, False, False, True, True, False, True, True, False, False, False, False, True, True, False, False, True, True, True, False, True, True, True, False, False, True, True, True, False, False, False, True, True, False, True, True, False, True, True, True, True, False, False, True, False, False, False, False, False, False, False, True, False, True, True, True, True, False, True, True, False, False, True, False, True, False, True, True, False, False, True, False, False, True, False, True, False, False, False, True, True, True, False, False, False, True, True, True, False, False, False, True, True, True, True, False, False, False, True, True, False, True, True, False, False, False, True, False, True, False, True, False, True, False, True, True, True, True, True, True, False, False, False, False, False, False, True, True, True, True, False, False, False, True, False, False, True, True, False, False, False, True, True, True, True, False, True, False, True, False, False, False, False, True, False, False, False, False, True, True, True, False, True, False, True, False, False, True, False, False, False, True, False, True, True, False, False, True, False, True, False, False, True, True, True, True, True, False, True, False, True, False, True, True, True, True, True, True, False, True, False, False, False, False, True, True, True, True, True, True, False, False, True, False, False, True, False, False, False, False, True, False, True, True, True, False, True, False, False, True, True, True, True, True, True, True, False, True, True, True, True, True, False, True, True, False, True, True, True, True, True, False, True, False, True, True, True, False, False, False, False, False, False, True, True, False, True, True, True, False, True, False, False, False, False, True, False, False, False, True, True, True, True, False, True, False, False, True, True, False, True, True, True, True, False, False, False, True, False, True, False, False, False, True, False, True, True, True, False, False, False, False, True, True, True, True, False, True, False, True, True, True, True, False, False, False, True, True, True, False, True, True, False, False, True, True, True, False, False, False, False, True, False, True, True, False, False, True, False, True, True, True, True, False, True, True, False, True, True, False, True, True, False, True, True, False, True, True, False, False, False, False, True, False, True, False, False, True, True, False, False, True, False, False, False, True, True, False, True, True, True, True, True, False, False, False, False, False, True, False, True, True, False, True, False, True, True, False, False, False, False, False, False, False, False, True, False, False, False, False, False, True, False, False, True, False, True, False, True, True, False, False, False, False, False, False, True, False, True, False, True, False, False, False, False, True, False, True, True, True, True, True, True, False, True, False, False, True, False, True, True, True, False, True, True, True, False, False, False, False, True, True, False, False, True, True, True, True, False, False, True, True, True, True, False, False, True, False, True, True, False, True, True, True, True, True, True, False, False, False, False, True, False, True, False, False, True, True, True, False, False, True, True, False, False, True, False, False, False, False, False, True, False, False, False, True, True, True, False, False, False, True, False, True, False, True, True, True, False, True, False, True, True, True, True, False, False, False, False, True, False, True, True, True, True, True, False, True, True, True, False, False, True, True, True, True, True, True, False, True, True, False, True, False, True, False, True, True, False, False, False, False, True, True, False, True, False, True, False, True, True, True, True, True, True, False, False, True, True, False, True, True, False, False, True, False, False, True, False, True, True, False, True, True, False, False, False, True, True, False, True, True, True, True, False, False, True, True, True, False, False, False, True, True, True, True, True, False, True, False, False, True, False, False, False, True, True, True, True, False, True, True, False, True, False, True, False, True, True, True, False, False, True, False, False, False, False, True, False, False, False, True, False, True, True, False, True, True, False, False, True, False, True, True, False, True, True, True, True, True, True, True, False, True, True, False, True, False, False, False, True, False, False, True, True, False, True, False, False, True, True, False, True, False, True, True, True, False, False, False, False, True, True, True, True, True, False, False, False, False, True, True, True, True, False, False, False, False, False, True, False, True, False, False, False, True, False, False, False, False, False, True, True, False, True, True, True, False, False, False, True, False, False, True, True, True, False, False, False, True, False, True, False, False, False, True, False, False, False, False, False, False, True, False, True, True, False, True, False, True, True, True, True, False, False, False, False, True, False, False, True, True, False, True, True, False, True, False, True, True, True, False, False, False, False, False, True, True, True, True, True, True, True, True, False, True, False, False, False, True, True, False, False, False, True, True, False, True, False, True, True, True, True, True, False, False, False, False, True, False, True, True, True, True, False, False, False, True, True, False, False, False, False, True, True, False, True, False, False, True, False, True, False, True, True, False, False, True, False, False, False, True, False, False, True, True, True, False, True, True, True, False, False, False, True, False, False, False, True, False, False, False, False, True, False, False, True, True, False, True, True, True, True, False, False, False, False, True, False, True, False, False, False, False, False, True, True, True, False, False, False, True, False, False, True, False, True, False, False, False, True, True, True, True, False, False, False, True, False, False, False, True, True, True, False, False, True, True, False, True, False, False, True, False, True, True, False, False, False, False, False, True, True, False, True, False, True, True, True, True, False, True, False, True, True, True, True, False, True, False, True, False, False, False, False, True, True, True, True, False, False, False, False, True, False, True, True, False, True, True, True, True, False, True, True, True, True, True, False, False, True, False, True, True, False, True, False, True, True, False, True, True, False, False, False, True, True, True, True, False, True, True, False, True, False, True, False, False, False, False, False, True, False, False, True, False, False, False, False, False, False, False, False, True, True, False, True, True, False, True, False, False, True, False, False, False, False, False, True, True, True, False, False, False, False, True, True, False, True, True, False, False, False, True, True, False, True, True, False, False, True, False, False, False, True, True, True, True, True, True, False, True, True, True, True, True, False, False, False, False, True, False, True, False, False, False, False, False, True, False, True, False, True, False, False, True, True, True, True, True, True, True, True, True, True, True, False, False, True, False, False, True, False, False, False, True, False, False, True, True, True, False, False, False, True, True, False, False, False, False, False, False, True, True, True, True, True, True, False, False, False, False, False, True, False, False, True, False, True, False, False, True, True, False, False, True, False, False, True, False, False, False, False, False, False, False, False, False, False, False, False, False, False, True, True, True, True, True, True, True, True, True, True, False, True, True, False, False, True, False, False, True, True, False, False, True, False, False, False, True, False, False, False, True, False, False, False, False, False, False, True, False, False, False, True, False, True, True, False, True, True, True, True, False, True, False, True, True, True, True, True, False, True, False, False, True, True, True, False, False, False, False, False, False, True, True, False, False, True, True, True, False, False, False, True, True, True, True, False, False, True, True, False, False, False, True, False, False, True, True, False, False, False, False, True, False, False, True, False, True, False, False, False, False, True, True, True, False, True, False, True, True, True, True, False, True, True, True, True, False, False, False, False, False, True, True, True, False, False, False, False, True, True, False, False, True, True, False, True, False, False, False, True, True, True, False, False, True, True, True, False, True, False, True, True, True, False, True, False, True, True, False, True, True, True, False, False, True, False, True, True, True, True, False, True, True, True, True, True, False, True, False, True, False, False, False, True, False, False, True, False, False, True, False, False, True, True, False, True, False, False, False, True, True, True, True, True, True, False, True, False, False, False, False, True, False, True, True, True, False, True, True, True, True, False, False, True, True, True, True, False, True, True, True, False, True, False, False, True, True, False, False, False, True, False, False, True, False, True, False, False, False, True, True, False, True, False, True, False, True, True, False, False, True, True, False, False, True, False, True, True, True, False, False, True, False, True, True, True, True, False, True, True, False, True, False, False, True, False, False, True, True, True, True, True, True, False, True, False, False, False, True, False, True, True, True, False, False, False, True, True, True, False, True, False, False, True, True, True, False, True, False, False, False, True, False, False, True, False, True, False, False, False, False, True, False, True, False, True, True, True, False, True, True, True, False, True, True, True, False, False, True, True, False, True, True, False, False, True, False, True, True, False, True, True, False, True, True, True, True, False, False, False, False, False, True, True, False, True, True, False, False, True, False, True, True, False, False, False, False, False, True, False, False, True, True, True, False, False, True, False, True, True, True, False, True, True, True, True, False, True, False, False, False, False, True, True, False, False, True, False, True, True, True, True, False, True, False, True, False, False, False, False, False, False, True, False, True, True, True, True, False, False, False, False, False, True, False, True, True, False, True, False, False, False, False, False, False, False, False, False, True, True, False, False, False, True, True, False, True, True, True, True, False, False, True, False, False, True, False, False, False, True, True, False, True, True, True, False, False, True, False, False, True, False, True, False, True, False, False, True, True, True, False, True, False, False, True, False, False, False, False, True, False, False, False, False, False, True, False, False, False, False, True, False, False, True, True, True, False, True, True, False, False, True, True, False, True, False, False, False, True, True, False, False, False, False, True, False, True, True, False, True, False, False, False, True, False, True, False, False, False, True, True, True, False, False, True, False, True, True, True, False, False, True, True, True, False, False, True, False, False, True, False, True, True, False, True, False, False, False, True, True, True, False, False, True, True, False, True, True, False, True, False, True, True, True, True, True, True, True, False, True, False, False, False, True, False, False, False, False, True, False, True, False, True, False, False, False, False, False, True, False, False, False, True, False, True, False, True, True, True, True, True, False, True, True, True, True, True, True, True, False, True, False, False, False, False, False, True, True, True, False, True, True, False, True, True, True, False, False, False, True, False, True, False, False, True, False, False, True, False, True, True, False, True, True, True, True, True, True, True, False, False, True, False, True, False, False, True, False, True, True, False, False, False, False, True, True, True, False, True, True, True, False, False, False, True, False, True, False, False, False, False, True, False, False, False, False, True, True, False, True, False, True, True, True, False, False, True, False, False, False, True, False, True, False, True, False, False, True, False, True, False, True, False, False, False, True, False, True, False, False, True, True, False, False, True, False, False, True, False, True, False, False, False, True, True, True, False, True, True, True, True, False, False, False, False, False, True, True, True, False, False, False, False, True, True, True, False, True, True, True, False, True, False, True, True, True, False, True, False, True, True, False, True, True, True, False, True, False, False, False, True, False, False, True, True, False, False, False, True, True, False, True, True, True, True, True, False, True, False, False, False, True, False, False, True, True, False, True, False, False, False, True, True, True, True, True, False, True, True, False, True, False, False, False, True, False, True, False, False, True, True, True, True, True, False, False, True, True, False, True, False, False, True, True, False, True, True, True, False, False, False, True, False, True, False, True, False, True, False, True, True, False, False, True, True, True, True, False, True, True, True, False, True, True, True, True, False, True, False, False, True, True, True, True, False, True, True, False, False, False, True, False, False, False, False, True, True, False, False, False, False, False, True, True, False, False, False, False, True, True, True, False, True, True, False, True, True, False, False, False, False, False, False, False, False, True, True, False, True, True, True, False, True, False, False, False, False, True, True, True, True, True, True, True, False, True, True, True, True, False, False, True, False, False, True, False, False, True, False, True, True, True, False, True, False, False, False, True, False, True, False, False, False, True, False, False, True, False, False, False, False, True, True, True, True, True, False, True, False, True, False, False, False, True, True, True, True, False, False, True, False, False, True, False, False, True, False, True, False, False, False, False, False, True, False, False, False, True, True, False, True, True, False, True, False, False, False, False, False, False, False, False, False, False, True, False, False, True, False, True, False, True, False, False, False, False, True, False, False, False, False, False, False, False, False, True, False, False, True, True, False, True, True, True, True, False, True, True, False, False, False, False, True, False, False, True, True, False, True, True, True, True, False, True, True, True, True, True, False, True, False, False, False, True, True, False, True, True, False, True, True, True, False, False, True, False, False, True, True, True, False, True, False, False, False, False, True, False, False, True, True, True, True, False, False, True, True, True, False, True, False, True, False, False, False, True, True, False, False, False, False, True, True, False, False, True, False, False, False, True, True, False, True, True, True, True, True, True, True, False, True, False, True, False, False, False, True, True, True, True, True, False, True, True, False, True, False, False, False, False, False, False, False, False, True, True, False, False, True, False, False, True, False, True, False, False, False, True, True, True, False, True, False, True, False, False, False, True, False, False, False, True, True, False, False, False, True, False, False, True, True, False, False, False, True, True, False, True, True, False, False, False, False, True, True, False, False, False, True, True, True, True, False, False, False, True, True, False, True, False, False, True, True, False, False, True, True, True, False, False, True, False, False, False, False, True, False, True, True, True, False, True, True, False, True, False, True, True, False, False, False, True, True, True, False, True, False, True, True, True, False, False, True, False, True, True, True, True, False, True, True, True, False, True, False, False, False, False, True, False, True, False, True, False, False, False, True, True, False, False, True, False, True, False, False, False, False, True, False, True, True, True, False, False, True, False, False, False, False, False, True, True, True, False, True, True, True, False, False, False, False, True, True, False, True, True, False, True, True, True, True, False, True, True, True, True, False, False, True, False, False, True, True, False, False, True, True, True, False, True, True, True, False, True, False, False, True, False, True, True, True, False, True, False, True, False, False, False, True, False, True, False, False, True, False, False, True, True, False, True, True, True, False, False, True, False, False, False, False, True, False, True, True, True, False, True, False, True, False, True, True, False, False, False, False, True, True, False, False, False, False, False, True, False, False, True, True, False, True, False, True, False, False, True, False, False, False, True, True, False, True, True, True, False, True, False, False, False, True, False, True, True, True, False, False, True, True, False, True, True, False, False, True, True, True, False, False, False, False, False, True, True, False, True, True, True, False, True, True, False, False, False, False, False, True, True, False, True, True, False, True, True, False, True, False, True, False, True, True, True, True, True, False, True, False, False, False, False, False, False, False, False, True, False, False, False, False, True, True, True, True, False, True, True, False, False, False, False, True, False, False, True, False, True, True, True, True, False, False, True, True, True, False, True, True, False, True, True, False, True, True, False, False, False, True, True, True, False, True, True, False, True, True, False, True, True, True, False, True, True, False, True, False, True, True, False, True, False, False, True, True, True, False, True, True, False, True, False, False, False, False, False, False, True, True, True, False, False, True, False, False, False, False, False, False, False, False, True, True, True, False, False, False, True, False, False, True, True, False, False, False, True, False, False, False, False, False, False, True, False, True, True, False, True, True, False, True, False, False, False, True, False, False, False, False, False, False, True, False, True, True, True, False, False, True, True, True, True, False, True, False, True, True, True, True, False, True, True, True, True, False, False, False, False, False, False, True, False, False, False, False, False, False, True, False, False, True, False, True, False, False, False, False, True, False, False, True, True, True, True, False, True, True, True, True, True, False, True, False, False, False, True, False, True, False, False, True, True, True, False, True, True, True, True, False, True, True, False, True, False, False, True, True, False, True, False, True, False, False, False, False, False, True, False, True, False, True, False, False, False, True, False, True, False, True, True, True, True, False, True, False, False, False, True, False, False, False, True, False, False, True, True, True, False, True, True, True, True, False, False, True, True, False, True, False, True, False, False, True, False, False, False, True, False, False, True, True, False, False, False, False, True, False, True, True, True, False, False, False, True, False, False, True, False, False, False, False, True, False, True, True, False, False, False, True, True, False, True, False, True, True, True, False, True, False, False, True, False, True, True, True, True, False, True, True, False, True, True, True, True, False, True, False, True, False, True, True, False, False, False, True, True, True, False, False, True, True, False, False, True, True, True, False, False, False, True, False, False, True, True, False, False, False, False, True, False, False, False, True, False, False, False, False, False, True, False, True, False, False, True, False, False, True, True, False, True, True, False, False, False, False, False, False, False, True, True, False, True, False, True, True, True, True, True, True, False, False, True, False, False, False, True, True, True, False, False, True, False, True, True, True, False, True, False, False, True, True, True, True, False, False, True, True, True, False, False, True, False, True, True, False, True, True, True, False, False, False, True, False, True, False, True, False, False, True, True, False, True, False, True, True, False, True, False, True, True, True, False, True, True, False, False, False, True, True, True, True, False, True, False, False, True, True, True, False, False, True, True, False, True, False, True, True, True, True, False, True, True, True, True, False, True, True, True, False, False, False, False, False, False, True, False, True, True, True, False, True, False, False, False, True, True, True, False, True, False, True, False, True, False, True, False, False, False, True, False, True, False, False, True, False, False, False, True, True, True, True, False, False, True, True, True, False, False, True, False, False, True, True, True, True, True, False, False, True, True, False, False, True, False, False, False, False, False, False, False, True, False, True, False, True, True, True, False, True, False, False, False, True, True, False, False, True, True, False, True, False, False, True, True, True, False, False, False, False, False, True, True, True, False, False, True, False, True, True, False, True, False, True, True, False, False, True, True, True, False, False, False, True, True, False, True, False, False, True, False, False, True, True, True, True, True, True, True, True, False, True, True, True, True, False, False, False, False, True, True, True, False, True, True, False, False, True, True, True, False, False, True, False, False, False, True, False, False, True, True, True, True, False, False, False, True, False, False, True, True, True, True, False, True, False, False, True, True, False, True, True, False, False, True, True, False, True, True, True, True, False, True, True, False, True, True, False, True, False, True, True, True, True, True, False, False, True, True, True, True, True, True, False, True, False, True, False, False, True, False, False, True, False, False, False, False, True, False, False, False, True, True, True, True, False, False, True, False, True, False, True, True, False, False, True, False, True, False, False, False, True, True, True, True, False, False, True, True, True, False, True, True, False, False, True, False, True, True, True, False, False, True, True, False, True, False, True, True, True, True, False, True, False, False, True, False, True, True, True, True, False, True, True, False, False, False, True, True, False, True, True, False, True, False, True, False, True, True, True, True, False, False, False, False, False, True, False, True, True, False, True, True, False, False, False, False, True, True, False, False, True, True, False, False, True, False, True, True, False, False, True, True, True, True, True, True, True, False, False, True, True, True, True, True, False, True, True, True, False, False, True, True, True, False, True, False, True, True, True, False, True, True, False, False, True, False, False, False, True, True, False, True, False, False, True, True, True, False, False, True, False, False, True, False, True, False, True, False, True, True, True, False, False, False, True, False, True, True, False, False, False, True, False, True, False, True, True, True, False, False, False, False, True, False, True, False, True, False, False, True, False, False, True, False, True, True, True, False, False, True, True, True, False, True, True, True, True, False, False, True, True, False, True, False, False, True, False, True, True, True, True, False, True, True, False, True, False, False, False, True, False, True, True, False, True, True, True, False, False, False, False, False, False, False, True, False, True, False, False, True, False, False, True, False, False, True, True, True, False, False, False, True, True, False, True, False, False, False, True, False, False, True, False, False, False, False, True, False, False, True, True, True, False, True, True, True, True, False, False, True, True, False, True, False, False, True, True, False, False, False, True, False, True, False, True, False, False, True, True, False, False, True, False, True, False, True, True, True, True, False, True, False, True, False, False, False, True, True, False, True, False, True, True, False, False, False, True, True, True, True, False, True, True, False, False, True, True, True, False, False, False, True, True, False, True, True, True, False, True, True, False, False, False, True, False, True, True, True, False, True, False, False, True, True, True, False, True, False, False, False, False, False, True, False, False, False, False, False, False, False, False, False, True, False, False, True, False, True, False, False, False, False, False, True, False, False, True, True, True, False, True, False, False, False, False, True, False, False, True, True, True, True, True, True, False, True, True, False, True, False, False, True, True, True, True, True, False, False, False, False, False, True, False, True, False, True, False, True, True, False, False, False, False, True, True, False, True, True, False, False, True, True, False, False, True, True, True, False, True, True, False, False, False, False, True, True, True, True, False, True, False, False, True, False, False, False, False, True, True, True, True, False, True, True, True, True, False, True, False, True, True, True, False, True, False, True, True, False, False, True, False, True, True, True, False, False, False, False, False, True, True, False, False, True, False, True, False, False, True, False, True, True, False, True, True, False, False, False, True, True, True, False, False, True, False, False, True, False, False, False, False, False, False, True, False, True, True, False, False, False, False, False, True, True, True, False, True, False, False, False, False, True, False, False, True, False, True, True, False, False, False, True, True, False, True, True, True, True, False, False, False, False, False, True, False, True, False, False, False, False, False, True, True, False, True, True, False, True, False, True, False, True, False, False, False, False, True, True, True, True, False, False, True, True, True, False, False, False, True, True, True, False, False, False, True, True, True, False, False, True, True, False, True, True, False, False, True, True, True, True, True, False, True, False, True, False, False, False, False, False, True, True, False, False, True, True, True, False, True, True, False, True, True, True, True, False, True, True, False, True, True, False, False, True, True, False, False, False, False, False, False, True, True, False, True, True, False, True, True, True, True, True, False, True, False, True, True, True, True, True, False, False, False, True, True, True, False, True, False, True, False, False, False, False, True, True, False, False, False, True, False, True, True, False, True, False, False, True, False, False, True, False, True, True, False, False, False, False, True, True, False, False, False, False, False, False, False, False, True, True, False, False, False, True, False, True, True, False, False, False, False, False, True, False, True, False, False, True, True, False, False, True, False, False, False, True, False, False, True, True, False, False, True, True, False, False, False, True, True, True, True, True, False, True, False, True, True, True, False, False, True, True, False, False, False, True, True, False, False, True, False, True, True, False, False, True, True, True, False, True, False, True, True, False, True, False, True, False, True, True, True, True, True, True, True, True, True, False, False, False, True, True, True, True, False, True, False, True, True, False, True, True, False, True, False, False, False, False, True, False, False, False, True, False, False, False, False, False, True, False, False, False, False, False, True, True, True, True, False, True, False, False, False, True, True, False, True, True, True, True, True, True, True, True, True, False, False, True, False, True, True, False, True, True, True, True, False, False, True, False, False, False, False, True, True, True, False, False, True, True, True, True, False, True, False, False, True, True, True, True, False, False, False, True, False, True, True, True, False, True, True, True, False, False, False, True, True, False, True, True, True, True, True, True, True, False, True, True, False, True, False, False, False, True, True, False, False, True, True, False, True, False, False, True, False, True, False, True, False, False, True, True, True, False, False, False, False, True, False, True, False, True, False, False, False, False, True, False, False, True, False, True, False, False, True, True, True, False, False, False, True, False, False, True, False, False, False, False, True, True, True, True, False, False, True, False, True, True, False, False, False, True, False, False, False, True, True, False, False, False, False, False, False, True, True, True, True, True, False, True, True, False, False, True, False, False, False, False, False, False, True, True, False, True, True, False, False, True, True, False, False, True, True, True, False, False, True, True, True, False, True, True, True, False, True, False, False, True, True, True, True, True, False, True, False, False, False, True, False, True, False, False, True, False, True, False, True, True, False, True, True, True, True, True, False, True, False, False, False, False, True, True, True, True, True, True, False, False, False, True, False, False, False, True, False, True, False, False, False, True, False, True, False, False, False, True, True, True, True, True, False, False, False, True, False, False, False, False, True, True, False, True, True, True, True, True, True, True, True, False, False, True, False, True, True, True, False, False, True, False, False, True, True, True, True, False, True, True, False, True, True, False, True, False, False, False, False, False, False, False, True, False, True, False, False, True, False, False, True, True, False, True, True, True, True, True, True, True, False, True, True, False, True, True, False, False, True, False, False, True, True, False, True, False, False, True, False, False, False, True, False, False, False, False, True, True, True, False, True, True, True, True, False, False, True, False, False, False, True, False, True, False, True, True, False, False, True, False, True, False, False, False, False, True, True, True, True, False, True, True, True, False, False, False, True, True, True, False, False, False, True, True, False, False, False, True, False, True, True, False, True, True, True, False, True, True, True, True, False, True, True, False, True, False, False, False, True, True, False, False, True, True, True, False, False, True, False, False, True, True, True, False, True, False, False, True, True, True, True, True, True, True, False, True, True, True, False, True, True, True, False, False, True, True, True, False, True, True, False, True, False, True, True, True, False, True, True, True, False, True, True, False, False, True, True, False, True, False, True, True, False, False, True, True, False, False, False, False, True, True, False, False, True, False, True, True, True, True, True, True, False, False, True, True, False, False, False, False, True, True, True, False, False, True, False, False, True, False, False, True, True, False, False, False, True, False, False, True, True, True, True, False, False, True, True, True, False, True, False, False, True, False, True, False, False, True, False, False, False, True, False, False, True, False, True, False, True, True, True, True, True, True, True, True, True, False, True, True, True, True, True, False, False, False, False, False, False, True, True, True, False, True, False, False, True, False, True, True, False, True, True, False, False, True, False, False, True, True, True, True, True, True, False, False, True, False, True, True, True, False, True, False, True, False, True, True, False, False, True, False, True, False, True, True, False, False, False, False, False, False, True, False, False, False, True, True, False, True, True, True, False, False, False, True, False, False, True, True, True, True, True, False, True, True, False, False, True, False, False, False, True, False, False, False, True, False, False, False, True, False, True, True, False, False, True, False, True, False, False, False, False, True, True, False, False, False, True, False, True, True, False, False, True, False, True, True, False, False, False, False, True, True, True, False, True, False, False, False, False, False, True, False, True, False, False, True, True, False, False, True, False, False, False, False, True, True, False, False, True, True, False, False, False, False, True, False, False, True, False, True, True, False, False, False, True, False, False, True, False, True, False, True, False, True, True, False, False, True, False, True, False, False, True, False, False, True, True, True, True, False, True, True, True, False, False, False, True, False, True, True, False, True, True, False, True, True, True, True, True, True, True, False, False, True, False, True, True, False, True, True, True, True, True, False, False, True, False, False, True, False, True, True, False, True, False, True, False, False, True, False, False, False, False, False, True, False, True, True, False, True, True, False, True, True, True, True, False, True, False, False, True, True, True, True, True, False, False, True, False, False, False, True, True, True, False, True, False, True, False, False, True, False, False, False, False, False, True, False, True, False, False, False, True, False, False, True, True, False, True, False, False, False, False, True, True, False, True, False, True, False, True, True, True, True, True, False, True, True, False, True, False, True, True, False, False, False, True, True, True, False, True, True, False, True, True, True, False, False, False, True, True, True, False, False, True, True, False, False, False, False, False, False, True, False, True, False, True, False, True, False, True, True, False, False, True, True, True, False, False, True, False, True, False, False, True, True, False, False, True, True, True, True, False, False, False, False, True, False, True, True, False, False, True, False, False, False, True, True, True, False, False, False, False, False, False, False, True, True, True, True, True, True, False, True, False, False, True, False, True, True, True, False, True, True, False, False, True, True, False, False, True, True, True, True, True, True, True, True, True, True, False, False, False, True, True, True, False, True, True, True, False, False, True, True, True, True, True, True, True, False, False, False, False, False, False, True, False, True, False, False, False, True, False, False, True, True, True, False, False, True, True, False, False, False, True, True, False, False, False, False, False, False, False, True, True, True, True, True, True, False, True, False, True, True, False, True, True, False, False, False, False, False, False, True, False, True, False, False, False, True, True, True, True, False, True, True, False, True, False, False, True, False, True, True, True, False, True, True, True, True, True, True, True, False, False, True, True, False, True, True, False, False, True, True, True, False, False, True, False, True, False, False, True, True, False, True, True, True, False, True, False, True, False, True, False, False, True, True, False, False, False, True, True, False, False, False, False, False, False, False, True, False, True, False, True, True, False, True, True, False, False, True, False, False, False, False, True, True, True, True, False, True, False, True, True, True, True, True, False, False, False, True, True, True, True, True, True, True, True, False, True, True, False, False, False, False, False, False, True, True, True, True, False, True, True, False, True, True, False, False, False, False, True, True, False, False, True, True, True, False, False, True, False, False, True, False, True, True, True, False, False, True, True, True, True, False, False, True, False, False, True, True, False, True, True, True, False, False, True, False, False, False, False, False, True, False, False, False, True, False, True, False, True, False, True, False, False, True, True, False, True, False, True, True, False, False, False, False, True, False, False, False, False, True, False, True, True, True, False, True, True, True, False, False, True, False, False, True, False, False, False, False, False, False, True, True, False, True, False, True, True, False, False, False, False, True, True, False, True, False, False, True, True, False, False, True, True, True, False, False, True, True, True, True, True, True, False, False, True, False, False, False, False, False, True, False, False, False, True, False, True, False, False, False, True, False, True, False, True, False, True, True, False, False, False, False, False, False, True, False, True, False, False, True, True, True, True, True, False, False, True, False, True, False, False, True, False, False, False, True, False, True, True, True, True, False, False, True, False, False, True, True, True, True, True, True, False, True, True, False, False, False, False, True, False, False, True, False, False, False, True, False, False, True, True, True, False, True, False, False, True, False, False, False, True, False, True, True, True, False, True, False, True, True, False, True, True, False, False, True, True, True, True, False, False, True, True, True, True, False, False, True, False, True, False, True, True, True, True, False, True, False, False, False, True, True, True, False, True, False, False, True, True, False, True, False, False, False, False, True, False, True, False, False, False, False, True, False, False, True, False, True, False, False, False, True, False, False, True, False, True, False, True, False, False, True, True, False, False, True, False, False, False, True, True, False, True, True, True, False, True, True, False, False, False, False, False, False, False, True, True, True, False, False, False, True, False, False, False, False, True, True, True, True, False, True, False, True, True, False, True, True, False, False, True, False, True, True, False, True, True, True, False, True, False, True, False, True, True, True, True, True, False, True, False, False, False, True, True, False, True, False, True, True, False, False, True, False, True, False, False, True, False, False, False, False, True, True, True, False, True, True, False, False, True, True, False, False, False, False, True, False, True, True, False, True, True, True, False, True, False, True, True, True, True, False, False, False, False, False, True, True, False, False, False, False, True, False, True, True, False, True, False, False, False, False, True, True, True, True, False, True, True, True, True, False, True, True, True, True, False, False, True, True, False, True, False, False, True, True, True, False, True, False, False, True, True, False, True, False, False, True, False, False, True, True, False, False, False, True, True, True, False, True, False, False, True, True, False, False, True, False, False, True, True, True, False, True, True, True, True, False, True, True, True, False, True, True, True, False, True, False, True, False, False, False, True, True, False, False, True, True, True, True, True, False, False, True, False, True, True, True, False, True, True, False, True, False, True, False, False, False, False, True, True, False, False, False, True, False, False, False, False, True, False, True, True, False, True, True, True, True, False, True, True, False, True, True, False, True, False, False, True, False, True, True, False, True, False, True, False, False, False, False, False, False, False, False, True, False, True, False, True, True, True, True, False, True, True, False, False, True, False, False, True, True, False, True, False, True, False, True, True, True, True, True, True, False, False, True, True, True, True, False, False, False, True, False, True, False, True, False, False, True, False, False, True, True, True, False, False, True, True, False, False, False, True, False, False, True, False, False, False, False, True, False, True, True, True, False, False, True, True, False, True, True, True, False, False, True, True, True, True, True, True, False, True, False, True, True, False, True, False, False, True, True, True, False, False, True, False, False, True, True, True, False, False, True, True, False, True, True, False, True, False, True, False, True, False, True, False, True, False, False, True, True, True, True, True, False, True, False, False, False, True, True, True, True, True, True, False, False, True, True, True, True, True, False, False, True, True, True, True, True, True, True, True, False, True, True, True, True, True, False, True, False, True, False, False, True, False, False, True, False, False, False, False, True, True, True, True, True, True, True, False, False, False, True, True, True, False, False, True, True, False, False, False, True, True, False, True, True, False, True, True, False, True, True, False, False, True, True, False, False, True, False, True, True, True, False, False, True, False, False, False, False, True, True, False, True, True, True, True, False, True, True, True, True, True, True, False, True, False, True, False, False, False, True, False, True, True, False, True, False, True, True, False, False, False, False, True, False, False, False, True, True, True, True, True, False, False, False, False, False, False, False, False, False, True, True, False, True, False, True, True, False, False, True, True, False, False, False, True, True, False, False, True, True, False, True, False, False, False, True, True, True, False, False, False, False, True, False, False, True, True, True, False, True, True, True, False, False, True, False, False, False, False, False, False, True, True, True, False, True, True, True, False, True, False, False, True, True, False, True, True, False, True, True, True, False, True, True, False, False, False, False, True, False, False, True, True, True, True, False, True, True, True, False, False, True, False, False, False, False, False, False, True, False, True, True, False, True, True, True, False, True, False, True, False, True, True, True, True, False, False, True, True, False, True, False, False, True, False, True, True, False, False, False, False, False, False, False, False, True, True, False, False, False, True, True, True, False, False, False, True, True, True, False, False, True, True, True, True, False, False, False, True, True, False, True, True, True, False, False, False, True, True, False, False, True, False, False, False, True, False, False, True, True, True, True, True, False, True, True, False, True, True, True, True, False, False, True, False, False, True, True, False, False, True, False, True, False, False, False, True, False, True, True, True, False, False, False, True, False, True, True, True, True, False, False, True, True, False, False, False, True, True, True, True, True, True, False, True, True, True, True, False, True, False, True, True, True, False, True, False, True, False, True, False, True, False, True, False, False, False, True, True, False, True, False, True, True, False, True, False, True, True, False, True, True, False, False, True, True, True, False, True, False, True, False, False, True, True, True, True, True, False, False, False, True, True, True, True, False, True, True, True, False, False, False, True, True, True, False, False, False, False, True, True, True, True, False, False, False, False, True, False, True, False, False, False, False, False, True, False, False, True, False, True, False, True, True, True, True, True, False, False, False, True, True, True, True, True, False, True, True, True, False, False, True, False, False, True, True, True, False, True, False, False, True, False, False, True, False, True, True, True, True, False, True, False, False, False, True, True, True, False, True, True, True, True, False, False, False, False, False, False, True, False, True, True, True, False, True, True, True, False, False, True, True, False, False, True, True, True, False, False, False, False, True, False, False, False, True, True, True, False, False, True, True, False, False, False, False, True, False, True, True, False, False, False, True, True, True, True, False, True, False, True, False, True, True, False, False, False, True, True, False, False, True, True, True, True, True, True, False, False, False, False, False, True, False, True, True, False, False, True, False, True, False, False, False, True, False, False, True, True, True, True, True, False, False, True, False, True, True, True, False, False, False, False, False, False, False, False, False, True, False, False, False, False, False, True, True, True, True, True, False, False, True, True, False, True, True, True, True, False, False, False, False, False, True, True, False, True, True, False, True, True, False, False, False, True, False, False, False, False, True, False, True, False, True, False, False, False, False, False, False, True, False, False, True, True, False, True, False, False, True, False, False, False, False, True, False, True, False, True, False, False, False, True, True, False, True, False, False, False, True, False, True, False, True, True, False, True, False, False, False, False, False, False, False, False, True, False, False, True, True, True, False, False, True, False, False, False, False, False, False, False, False, False, False, True, False, False, False, False, True, False, True, True, True, False, False, False, True, True, True, True, True, False, True, False, True, True, True, True, False, False, True, True, False, True, True, True, False, True, True, True, True, False, False, True, False, True, False, False, True, False, False, False, False, False, False, True, False, False, False, True, True, False, False, True, False, False, False, False, True, False, False, False, True, False, True, True, False, True, True, True, False, False, True, False, True, True, True, False, False, True, True, True, True, False, False, False, True, True, True, False, True, True, False, False, True, False, False, True, False, True, False, True, False, False, True, False, False, True, False, True, False, False, True, True, True, True, False, False, True, False, True, False, False, True, True, True, False, False, False, True, True, True, True, False, True, False, False, False, True, False, False, True, False, True, False, False, False, True, True, True, False, False, False, False, True, True, False, True, False, True, False, False, False, True, True, False, False, True, True, True, False, True, True, False, True, True, False, True, False, True, True, False, False, False, False, True, True, True, True, True, True, False, False, True, False, False, True, True, True, False, False, True, False, True, True, True, False, True, False, True, True, True, False, True, True, False, True, True, True, False, True, False, False, False, True, True, True, True, True, True, True, False, False, True, False, False, False, False, True, True, True, False, False, True, False, False, True, True, True, True, False, False, True, False, True, False, False, False, True, False, True, True, False, False, True, True, False, False, True, True, True, False, False, True, True, True, True, True, True, True, True, False, True, True, False, False, True, True, False, True, True, True, True, False, False, True, False, True, False, True, True, False, True, True, False, True, False, False, False, True, True, False, True, True, True, False, False, True, False, False, False, False, False, False, False, False, False, True, False, False, False, True, True, False, True, False, True, False, False, True, True, True, False, True, False, True, True, False, False, True, True, True, False, True, False, False, True, False, True, False, False, False, True, False, False, True, True, False, True, True, True, False, False, True, True, False, True, False, True, False, True, False, False, False, False, True, True, False, False, True, False, True, False, False, True, False, False, False, True, True, True, True, True, True, True, False, False, False, False, True, True, True, True, False, False, True, False, True, True, False, True, False, True, True, False, False, True, False, True, False, False, False, True, True, False, True, True, True, True, False, False, False, False, True, False, True, True, True, True, True, False, False, False, False, True, True, True, True, True, False, False, True, False, False, True, False, True, False, False, False, False, False, False, False, False, True, False, False, False, True, False, False, False, False, True, False, True, False, True, False, False, True, False, False, True, False, True, False, True, True, False, False, True, True, True, True, False, True, False, False, False, False, True, True, False, True, True, True, True, True, False, False, True, True, False, True, True, False, False, True, False, False, True, True, True, True, True, False, False, False, False, False, False, True, False, False, False, True, False, True, True, True, False, False, True, False, False, False, True, True, False, False, False, True, True, True, True, True, False, False, False, True, False, True, True, True, False, True, False, False, True, False, False, False, True, True, True, True, True, True, True, True, True, False, False, True, False, True, True, False, True, False, True, False, True, False, True, False, True, True, False, False, False, True, False, True, False, False, True, True, True, False, False, True, False, False, True, False, False, True, False, True, True, False, True, True, False, False, True, False, False, False, True, True, True, True, True, True, True, False, False, True, False, True, False, False, True, True, True, False, True, True, True, False, False, True, True, True, True, False, False, False, True, True, False, True, True, True, False, False, True, True, True, True, True, True, False, False, True, False, False, False, True, False, False, False, True, True, True, False, True, False, False, False, True, False, True, False, True, True, True, True, True, False, False, False, False, False, True, True, False, False, True, False, True, False, False, True, True, False, True, True, False, False, True, False, False, False, True, True, True, False, True, True, False, False, True, True, True, True, False, False, False, True, False, True, True, True, False, False, False, True, True, False, False, False, True, True, True, True, False, True, True, False, False, False, True, False, False, False, False, True, False, True, False, True, True, False, True, True, True, True, True, True, False, True, True, True, True, True, False, True, False, True, True, False, False, True, False, True, True, True, False, False, False, False, True, False, False, False, False, False, False, False, False, False, False, True, True, True, False, False, False, True, True, True, False, False, False, True, True, True, True, True, True, True, False, True, False, True, False, False, True, True, False, True, True, True, False, False, True, False, True, False, False, True, True, False, True, True, True, False, False, False, True, True, False, True, True, False, False, True, False, True, False, False, True, False, True, False, True, True, True, False, False, False, True, True, True, True, True, False, False, True, True, True, True, True, True, False, False, False, True, False, True, False, True, False, True, False, True, False, True, False, False, True, True, True, False, True, False, True, True, True, False, False, False, True, True, False, True, False, True, False, True, True, False, False, False, False, True, True, False, True, True, False, True, False, True, True, True, True, False, True, True, False, False, True, True, False, True, True, False, False, True, False, False, False, True, True, False, True, True, True, True, True, False, False, True, False, False, False, False, True, False, True, False, True, True, False, True, False, False, False, False, False, False, False, True, False, True, False, True, True, False, False, False, True, False, False, True, True, False, True, True, True, False, True, False, True, True, False, True, True, False, False, False, False, True, False, False, False, True, True, False, False, False, False, True, False, False, False, False, True, True, True, True, False, False, True, True, True, False, True, True, True, True, True, True, False, False, True, False, True, False, True, True, False, True, True, True, True, False, True, True, False, True, True, True, False, True, False, True, True, True, False, True, False, False, False, True, False, False, True, False, False, False, False, True, False, True, False, False, False, False, False, False, False, False, True, False, True, True, True, True, False, False, True, True, True, False, True, True, False, True, True, False, False, False, True, False, False, False, True, False, True, True, True, False, True, True, True, False, True, True, True, False, True, True, True, False, True, True, True, False, False, True, False, True, True, True, False, False, True, False, False, False, True, False, True, True, False, True, True, False, False, True, False, True, False, True, False, False, False, False, False, True, False, False, True, True, True, True, False, False, True, False, True, False, False, True, True, True, False, True, False, True, False, True, False, True, True, False, True, True, False, True, True, True, True, True, True, True, True, False, True, True, True, False, False, False, True, False, True, True, True, True, True, True, False, False, True, True, False, False, True, True, True, False, True, False, True, True, False, True, True, False, False, True, False, True, True, True, False, True, False, True, True, False, True, True, True, True, False, False, False, False, True, False, False, False, False, True, False, False, False, False, False, False, True, True, False, True, True, True, False, True, False, True, True, False, False, True, True, False, False, True, False, True, True, True, True, True, True, True, False, False, True, True, True, False, True, True, True, False, False, False, False, True, False, True, False, True, False, True, False, True, False, True, True, True, False, True, True, True, False, False, False, True, False, False, True, False, False, False, False, True, True, False, True, False, False, True, False, False, False, True, True, False, True, False, True, True, True, True, True, True, True, True, False, True, False, False, True, True, False, True, False, False, True, False, True, True, True, True, False, False, False, True, True, False, True, True, True, False, False, False, True, True, True, False, False, True, True, False, True, False, False, False, False, True, False, False, True, True, True, False, False, True, True, False, True, True, False, True, True, False, True, True, True, False, False, True, False, False, False, True, True, False, False, False, True, False, True, False, True, True, True, True, True, True, False, True, False, False, False, False, False, True, True, False, False, False, False, False, True, True, False, False, True, False, True, False, True, False, True, False, False, True, False, True, False, True, False, False, False, True, True, True, False, False, False, False, True, True, False, True, True, False, False, True, True, True, True, True, False, True, True, True, True, True, True, True, True, True, True, False, False, True, True, True, False, True, True, False, True, False, False, False, False, True, False, True, False, True, False, True, False, False, True, False, False, True, False, False, True, True, False, True, True, False, True, False, False, False, True, True, False, True, False, True, True, True, True, True, True, False, True, False, True, True, False, False, True, False, True, False, True, False, False, True, True, False, True, False, False, True, False, False, True, True, True, True, True, False, True, False, False, True, True, True, False, True, True, False, False, True, False, True, True, False, True, False, False, False, True, False, True, False, False, False, True, False, True, False, False, False, True, False, True, False, False, False, True, True, False, False, True, False, True, False, True, True, False, False, True, True, True, False, True, False, True, False, True, True, False, True, True, False, False, False, False, True, True, False, True, False, False, False, False, False, False, False, True, True, False, False, True, False, True, True, True, False, True, False, False, False, True, True, False, True, False, False, False, True, False, True, False, False, True, True, False, True, False, True, True, False, False, True, True, True, False, False, False, True, True, True, True, False, True, True, True, False, True, True, False, False, False, False, False, False, False, True, True, False, False, False, True, True, True, True, True, True, False, False, True, False, True, False, False, False, True, False, False, True, True, True, False, False, False, False, False, False, False, False, False, True, False, True, False, True, True, True, True, False, False, True, True, True, True, False, True, False, True, True, True, False, True, True, True, True, True, False, False, False, True, True, False, True, True, False, False, False, True, False, False, True, True, True, True, True, False, False, False, True, False, True, False, False, False, False, True, False, False, True, False, True, True, False, False, True, True, True, False, False, True, False, True, True, True, False, True, True, False, True, False, False, True, True, False, True, False, False, True, True, False, True, True, False, True, True, False, False, False, True, True, True, False, True, False, True, False, False, True, True, True, False, False, False, False, False, True, True, True, False, False, True, True, True, True, False, True, False, True, True, True, True, False, True, True, True, False, False, True, True, False, True, True, True, True, True, False, True, False, False, True, True, False, False, False, False, False, True, True, True, True, True, True, False, False, False, True, False, False, False, False, True, False, False, True, True, True, False, True, True, True, False, True, True, True, True, True, True, True, True, True, True, False, True, True, False, True, False, False, False, True, True, False, False, True, True, False, True, False, False, True, True, False, True, False, True, False, False, True, True, False, True, True, True, True, False, True, True, False, True, True, False, False, True, True, True, True, True, True, True, True, False, False, True, True, True, True, True, True, False, True, True, True, True, False, False, True, False, True, False, False, False, False, False, True, True, True, False, False, False, True, False, True, True, False, False, True, True, False, False, False, False, True, True, True, True, False, True, False, True, False, False, True, True, True, False, True, True, False, False, True, False, True, False, True, True, False, False, False, True, False, True, False, True, True, False, True, False, True, False, True, False, False, False, False, True, False, False, True, False, True, False, True, False, True, True, False, False, True, True, False, True, True, False, False, False, True, True, False, False, True, False, False, True, False, True, True, True, False, True, True, False, True, True, True, True, False, True, False, True, True, False, True, False, False, False, True, False, False, True, False, False, True, False, False, True, True, True, False, False, True, False, True, False, True, False, False, True, True, False, True, True, False, True, True, True, False, True, True, True, True, True, False, True, False, False, True, False, True, True, True, True, False, True, True, True, False, False, False, True, True, False, True, False, True, True, False, True, False, False, False, True, False, False, True, True, False, False, False, False, True, False, True, False, True, True, False, False, True, False, False, False, False, False, True, False, True, True, True, True, False, False, True, True, False, False, True, False, True, True, False, True, True, False, True, True, True, False, False, False, True, False, False, True, False, True, True, True, True, False, False, False, False, False, True, False, True, False, False, False, True, False, True, False, False, False, False, True, True, True, False, True, True, True, False, False, False, True, True, True, True, True, True, False, False, False, True, True, False, True, True, True, False, False, True, False, True, False, True, False, False, True, True, True, True, False, True, True, True, True, True, False, False, False, True, False, False, True, True, True, True, True, True, False, True, False, True, False, False, False, True, False, True, False, True, True, True, False, True, True, True, True, False, False, False, True, True, True, True, True, False, True, False, False, False, False, True, False, True, True, True, True, False, False, True, True, True, True, False, False, True, True, False, False, False, True, False, False, False, True, False, False, False, True, False, False, True, False, False, True, False, False, True, True, True, True, False, False, False, False, False, True, False, False, True, True, False, False, False, False, False, True, True, True, True, False, True, True, False, False, False, True, True, True, False, False, True, True, False, True, True, True, True, True, False, False, True, True, True, True, True, False, True, False, True, True, True, True, True, True, False, False, True, True, False, True, False, True, False, False, False, False, False, True, False, False, False, False, True, True, True, True, True, True, True, False, True, False, False, True, True, False, False, False, False, False, True, False, False, True, True, False, False, False, True, False, False, True, True, True, False, True, True, False, True, True, True, True, False, False, False, True, False, True, False, True, False, False, False, True, False, True, False, False, False, True, True, False, False, False, True, True, False, False, True, False, True, True, False, True, True, True, True, True, True, True, True, True, False, False, False, True, True, False, True, True, False, False, True, True, True, False, True, True, False, False, False, True, True, False, True, False, False, True, False, True, False, False, True, False, True, True, False, False, True, False, True, True, False, False, False, False, True, True, True, True, False, True, True, True, False, False, True, True, True, True, True, True, True, False, True, False, False, True, False, False, False, True, True, False, False, True, False, False, True, False, False, True, True, False, False, False, True, True, True, False, False, False, False, False, True, True, False, True, False, False, False, True, True, False, False, True, True, True, True, False, False, False, False, True, True, False, True, True, True, True, False, False, True, True, True, True, True, False, False, False, False, True, False, False, True, True, True, True, True, False, True, False, False, True, True, True, True, True, False, True, True, False, False, False, True, True, False, True, False, True, True, True, False, False, True, False, False, True, False, False, False, True, False, True, False, False, False, False, True, False, True, False, True, False, False, True, False, False, False, False, False, False, False, True, False, True, False, True, False, True, True, False, True, True, False, True, True, False, True, True, True, True, True, True, False, False, False, False, False, False, True, False, False, False, True, False, False, False, False, False, False, False, True, True, False, True, False, True, False, False, True, False, True, False, True, True, True, False, True, False, True, False, True, True, False, True, True, True, False, False, False, False, False, True, True, True, False, True, True, True, False, False, True, True, False, True, True, False, True, False, False, True, True, False, False, True, True, False, False, True, True, False, False, True, True, False, True, False, True, False, True, False, False, False, False, False, False, False, False, True, False, False, False, False, False, False, True, True, False, True, True, False, True, True, False, False, False, True, True, True, False, True, True, True, True, True, False, False, False, True, False, False, False, True, True, True, False, False, True, False, False, True, False, False, False, True, True, True, True, False, False, False, True, False, True, False, True, False, False, False, True, True, True, False, False, False, True, False, False, False, True, False, True, False, True, True, True, True, False, False, True, False, True, True, False, True, True, False, False, True, False, True, True, True, True, False, False, False, True, True, True, True, True, True, False, True, False, True, False, False, True, True, False, True, False, False, True, False, True, False, False, False, True, True, False, True, True, True, True, True, False, False, True, False, False, False, False, True, False, True, False, True, False, False, False, True, True, True, True, True, True, False, False, False, False, True, False, False, False, True, True, False, False, False, True, False, False, True, False, True, True, True, False, False, True, False, True, True, True, False, False, True, True, False, True, False, False, False, True, False, False, False, False, True, True, False, True, False, True, True, True, True, False, False, True, False, True, False, True, True, False, True, False, False, True, False, False, True, False, True, False, True, True, False, True, False, True, False, True, False, True, True, True, False, False, False, True, False, True, False, False, True, True, False, False, False, True, False, False, False, False, False, False, True, False, True, True, False, True, False, False, False, False, True, True, True, False, True, False, True, True, True, True, False, True, True, False, False, True, True, True, False, False, True, False, False, False, False, True, False, False, False, False, False, True, False, False, False, False, True, False, True, True, True, True, False, True, True, False, False, True, False, True, False, True, False, False, True, False, False, True, False, False, False, True, True, False, True, True, False, True, True, True, True, True, True, False, False, False, True, False, False, False, False, True, True, False, False, False, False, True, True, False, False, False, True, True, False, False, True, True, False, False, False, True, False, False, True, False, False, False, False, False, True, False, False, True, False, False, True, True, False, False, True, False, False, False, True, False, True, False, False, False, False, True, False, False, True, False, False, True, True, False, False, False, True, False, True, False, False, True, True, False, True, False, True, True, False, False, True, True, True, True, False, False, True, False, True, True, False, False, False, True, False, True, False, True, False, True, True, False, False, True, False, True, False, False, False, False, True, True, False, True, True, True, True, True, False, True, False, False, True, True, False, True, True, True, False, False, True, True, False, False, True, False, True, True, False, True, True, True, False, True, True, True, True, False, True, True, True, True, True, True, False, False, False, False, True, True, False, False, True, False, True, True, False, False, False, True, True, False, True, False, True, True, False, False, True, True, True, False, False, False, False, True, False, False, False, False, True, True, False, False, True, False, True, True, False, False, True, True, False, True, False, False, True, True, True, True, True, False, True, True, True, True, False, False, False, True, False, False, True, True, True, False, False, True, True, False, True, True, True, True, True, False, False, True, True, False, False, False, False, True, True, False, False, False, True, False, True, False, False, True, False, True, False, False, True, True, True, False, True, False, False, False, False, True, False, False, True, False, True, False, True, False, False, True, False, True, True, False, True, True, False, False, False, True, False, False, False, True, True, True, False, False, True, False, True, False, True, False, False, False, False, False, False, False, False, False, False, True, False, False, True, True, True, False, True, False, False, False, True, True, False, False, True, False, False, False, True, False, False, False, False, False, False, True, False, False, False, False, False, True, False, True, False, True, False, True, False, False, True, True, False, True, False, False, False, False, True, True, True, False, False, True, False, True, True, True, True, False, False, True, True, False, False, False, True, True, False, True, True, False, False, False, False, True, True, False, False, False, True, True, False, True, True, True, False, True, False, False, True, False, True, False, False, False, False, True, True, False, False, True, False, False, True, True, True, False, True, True, False, True, True, True, True, True, False, False, True, True, False, False, True, True, False, False, True, True, True, True, True, True, True, False, True, False, True, True, True, False, False, False, True, True, False, True, True, True, True, True, False, True, False, False, False, True, False, True, False, True, False, True, True, False, False, False, False, False, False, True, True, True, True, False, False, True, False, False, True, False, True, False, False, True, True, True, True, False, False, False, True, True, False, True, False, True, True, True, True, True, True, False, True, True, False, True, False, True, False, False, False, False, False, False, True, False, False, False, True, True, False, False, False, False, False, False, True, False, False, True, False, True, True, True, True, False, False, False, False, False, True, True, False, True, False, True, True, False, False, False, False, True, True, True, True, True, False, False, True, False, False, True, False, True, True, False, True, False, True, False, False, True, False, True, True, False, True, True, False, False, True, True, False, False, True, False, False, True, True, True, True, False, False, False, False, False, True, True, False, False, False, False, False, True, False, True, False, True, True, False, True, True, True, False, True, False, False, True, True, True, True, True, True, False, False, True, False, True, True, True, True, False, False, True, True, False, False, True, True, False, False, True, True, True, True, False, False, True, False, True, True, False, False, True, False, True, False, True, True, False, False, True, False, False, False, True, False, False, True, False, False, True, True, False, True, True, False, True, False, False, False, False, True, True, False, True, False, True, False, False, True, True, True, True, True, True, True, True, True, False, False, False, True, True, False, True, False, True, True, True, False, False, True, True, True, True, False, False, True, False, False, False, False, False, True, False, True, False, False, False, False, False, False, False, True, True, False, True, True, False, True, False, True, False, True, False, False, False, True, True, True, False, True, True, False, True, False, False, False, True, False, False, True, True, True, False, False, True, True, True, False, True, False, False, False, True, True, True, False, False, True, False, True, True, True, False, True, False, True, True, True, True, False, False, True, True, True, False, False, True, True, False, True, True, False, True, False, True, False, False, False, False, False, True, True, True, False, False, False, False, True, False, True, True, True, True, False, True, True, True, False, True, False, True, False, True, False, False, False, True, False, True, False, False, True, True, False, True, False, False, False, False, True, True, True, False, True, True, False, False, False, True, False, False, True, True, True, False, True, True, True, True, False, True, False, False, False, False, True, True, False, False, True, False, True, True, False, True, False, False, False, False, False, True, False, True, False, False, False, False, True, True, False, False, False, False, True, True, True, True, True, True, False, False, False, True, True, False, False, True, False, True, False, True, True, False, False, True, True, False, True, True, True, True, False, True, False, True, True, False, False, False, False, False, True, False, False, True, False, True, True, True, False, True, False, True, True, True, True, True, False, False, True, False, True, False, False, False, False, True, True, False, True, True, True, True, True, False, False, True, True, False, False, False, False, True, True, False, True, True, True, True, False, False, False, True, False, True, False, True, True, True, True, True, True, False, False, False, True, True, True, True, False, True, True, False, False, True, False, False, True, False, True, True, True, False, True, True, False, False, False, True, False, True, False, False, True, True, True, False, True, True, False, True, False, False, True, False, False, True, False, False, False, True, False, False, True, False, True, True, True, False, False, True, False, True, False, True, False, False, True, True, True, False, True, False, True, False, False, True, False, True, False, True, False, False, True, True, False, False, True, False, False, False, True, True, False, False, False, True, False, True, True, True, True, True, True, True, True, True, False, True, False, True, True, False, True, False, False, False, False, False, False, False, True, True, False, False, True, False, False, True, True, True, True, True, False, False, False, True, True, True, False, True, False, True, False, False, False, True, True, True, True, True, True, True, False, False, True, False, True, True, True, False, False, True, False, True, True, False, True, True, False, True, True, True, True, False, False, False, False, False, False, True, True, True, False, False, False, True, False, False, False, False, True, True, False, False, False, False, True, False, False, True, True, True, True, False, True, False, True, False, True, False, True, True, False, False, False, True, False, True, False, True, False, True, False, False, False, False, True, True, False, False, True, False, True, False, False, False, False, False, True, False, False, True, False, False, True, False, False, True, False, True, False, False, True, True, True, True, False, False, True, False, True, False, True, True, True, True, True, False, True, True, True, True, False, False, True, False, False, True, True, True, True, True, False, False, True, True, False, True, True, False, False, False, False, True, False, True, False, True, True, True, True, False, True, True, True, True, True, True, False, False, True, True, True, False, True, True, True, True, True, False, False, False, True, False, True, False, False, True, True, False, False, False, True, True, True, True, False, False, True, False, True, True, False, True, False, True, True, True, True, True, False, False, False, False, False, True, True, True, True, True, True, False, False, False, False, False, True, False, True, True, False, True, False, True, False, True, False, True, True, True, False, False, True, True, True, False, False, False, True, False, True, True, True, False, False, False, False, True, True, True, True, True, True, False, True, True, True, True, True, True, False, True, True, False, False, False, True, True, True, False, False, True, True, False, False, False, False, False, True, False, True, False, False, True, True, False, True, False, True, True, True, True, True, False, False, False, True, False, True, False, False, False, True, False, False, True, False, True, False, False, False, True, False, False, True, True, False, True, True, False, True, True, True, False, False, False, False, True, True, True, True, True, False, False, True, False, False, False, True, False, True, True, True, True, True, False, False, False, True, True, False, True, True, False, False, True, False, False, False, False, False, True, False, True, False, True, True, False, False, False, False, True, False, False, False, True, False, False, False, True, False, True, True, True, False, False, True, True, True, False, False, False, False, True, True, False, False, True, True, True, False, False, True, True, False, False, False, True, True, True, False, True, False, True, True, True, False, True, True, False, True, True, False, False, False, True, False, False, False, True, True, False, False, True, True, True, True, False, False, True, True, False, False, True, False, False, True, True, False, False, True, True, True, False, True, False, False, False, True, False, False, True, False, False, False, True, True, True, True, True, False, False, True, True, True, True, True, False, True, True, True, False, False, True, True, True, False, False, False, False, True, False, True, True, True, True, True, True, False, True, True, False, False, True, True, True, False, False, True, False, True, True, False, True, True, True, False, True, False, True, False, False, True, True, True, True, False, False, False, False, True, False, True, True, False, True, True, True, False, True, False, True, False, True, True, True, False, False, False, True, False, False, True, False, False, True, False, True, True, True, False, True, False, False, False, False, True, True, True, True, True, False, False, False, True, True, False, True, False, True, True, False, True, True, True, True, True, True, True, True, False, True, True, True, False, True, True, True, True, False, False, False, False, True, True, False, False, False, True, True, True, False, False, False, True, False, True, False, False, True, False, True, False, True, False, True, True, False, True, False, False, False, True, True, True, True, False, False, True, False, True, False, False, True, False, False, False, False, False, True, False, True, True, False, False, False, True, False, True, True, False, False, True, False, True, True, False, False, True, True, False, True, False, False, False, False, False, True, False, True, False, False, False, False, True, True, True, True, True, False, True, True, False, True, False, False, True, False, False, False, False, True, False, True, False, False, False, False, False, False, False, True, False, True, False, True, False, False, False, True, True, True, False, True, False, True, False, True, True, False, True, False, True, True, False, False, True, False, True, False, False, False, True, False, True, True, False, False, False, True, True, False, False, False, False, False, False, True, False, True, False, False, False, True, True, True, True, True, False, True, False, True, True, False, True, False, False, False, True, True, False, False, True, True, True, True, False, True, True, True, True, False, True, True, True, False, True, True, True, False, True, True, False, True, False, True, True, False, False, True, False, True, False, False, False, True, True, True, True, False, False, True, False, False, True, True, True, True, False, True, True, False, False, True, False, True, False, True, True, True, True, True, False, False, True, False, True, True, False, False, True, False, True, True, False, True, False, False, False, False, False, True, True, False, True, False, False, False, True, True, True, False, False, False, False, False, True, False, False, False, False, False, False, True, False, True, True, False, False, True, True, False, True, True, True, False, True, True, True, False, False, False, True, False, False, False, True, False, False, True, False, True, True, True, False, True, False, True, False, True, False, False, False, True, False, False, True, False, False, True, True, True, True, True, True, True, True, True, True, False, True, False, False, True, False, False, True, False, False, True, True, False, True, True, False, False, False, False, False, True, True, False, False, False, True, True, True, False, False, False, True, True, True, False, True, False, False, False, False, False, True, True, False, True, False, True, False, False, True, True, True, True, True, False, False, False, True, True, False, True, True, False, False, True, False, False, False, False, False, True, False, True, False, False, True, True, True, False, True, False, True, True, True, True, False, True, True, True, False, True, True, False, True, False, True, False, False, True, False, True, True, False, False, True, True, True, True, False, False, True, True, False, False, True, False, False, False, False, False, False, True, True, False, True, False, True, False, False, True, False, False, True, True, False, False, False, True, False, True, True, False, False, True, False, True, False, False, True, False, True, False, False, False, True, True, True, True, True, False, True, False, False, True, False, True, False, False, True, True, False, True, False, False, False, True, True, False, True, True, False, False, True, True, False, False, True, False, True, False, False, False, False, True, False, True, True, True, False, False, False, False, True, False, False, True, True, True, False, False, True, True, False, True, True, True, False, True, False, False, False, True, False, True, True, False, False, True, True, True, True, True, True, True, False, False, False, True, False, True, False, False, False, True, True, False, False, False, False, False, False, True, True, True, False, False, True, False, False, True, True, False, False, True, True, True, False, True, False, False, True, False, False, False, False, False, False, False, False, False, True, True, True, True, True, False, True, True, True, False, False, False, True, False, False, True, True, False, False, False, False, False, True, True, False, False, True, True, True, False, False, True, False, True, False, True, True, False, False, False, False, False, True, False, True, False, False, True, True, False, True, True, False, False, False, True, True, True, True, False, False, True, False, False, True, True, False, False, True, True, False, True, False, False, False, True, True, True, True, True, False, True, False, True, False, False, False, True, True, True, True, True, True, False, True, True, True, True, True, False, True, False, False, False, False, True, True, False, False, False, False, False, False, False, False, False, True, False, True, True, False, True, False, False, True, True, True, False, True, True, False, True, False, True, False, True, False, True, True, True, False, True, True, False, False, False, True, True, True, True, False, False, False, True, True, True, False, True, True, False, True, False, False, True, True, False, False, False, False, False, False, True, False, True, True, True, False, True, False, True, False, True, True, True, True, False, False, True, False, False, False, False, True, True, False, True, True, True, False, True, False, False, False, False, True, False, True, False, False, False, True, True, True, True, True, True, True, True, False, True, True, True, True, False, False, False, True, True, False, False, False, True, False, False, True, False, False, False, True, True, False, False, False, True, False, False, True, False, False, False, False, True, True, False, True, False, False, True, True, True, False, False, True, True, True, True, False, False, True, False, False, False, False, False, True, True, False, False, True, True, False, True, True, False, True, True, True, True, True, True, True, False, False, True, True, True, True, False, False, False, True, True, False, True, False, True, True, False, False, True, True, True, False, True, True, False, True, False, True, False, True, True, False, False, False, False, False, False, False, False, False, True, True, False, False, False, False, True, False, False, True, True, False, False, True, True, False, True, False, False, False, True, False, False, True, True, True, True, False, False, True, True, False, True, True, True, True, False, True, True, False, True, False, True, False, True, True, True, True, True, False, False, False, True, True, True, True, False, True, False, False, False, True, False, False, True, False, False, True, False, False, False, True, False, True, False, True, False, False, False, False, False, False, False, True, False, False, False, False, False, True, True, False, True, False, False, True, False, True, False, False, False, True, True, False, True, False, True, False, False, False, True, True, True, True, True, True, False, True, False, False, False, False, False, True, False, True, True, True, True, False, True, False, True, True, True, False, True, False, True, False, False, False, False, True, False, True, False, False, True, True, False, False, True, True, False, True, False, False, True, True, False, False, True, True, True, False, True, True, False, True, True, True, False, True, True, False, False, False, True, False, True, True, True, True, False, False, True, False, False, False, True, False, False, True, True, True, False, True, True, True, False, True, True, False, True, False, True, False, True, True, True, True, False, True, False, False, False, True, False, True, False, False, False, True, True, True, True, True, True, False, False, False, False, False, False, False, True, False, True, False, False, False, False, False, True, False, False, False, False, True, True, False, False, False, True, True, True, False, False, True, False, True, True, False, False, False, False, False, True, False, True, True, False, False, True, False, True, True, False, False, True, False, False, False, True, False, False, False, True, True, False, True, True, False, True, False, True, True, True, False, False, True, False, False, False, False, False, False, True, True, True, True, True, True, False, True, False, False, True, True, False, False, False, True, True, True, True, False, True, True, False, False, True, False, False, False, False, True, False, True, False, True, False, True, True, True, False, False, False, True, False, True, True, False, False, False, False, True, True, False, False, True, True, False, True, False, False, True, True, False, False, True, True, False, False, False, True, True, False, False, True, True, False, False, False, False, True, False, True, False, False, True, True, False, False, False, False, False, True, True, True, True, False, True, True, True, True, True, False, False, False, False, False, True, True, False, False, False, True, False, True, True, True, True, False, True, False, True, False, False, False, True, False, True, True, False, True, True, False, False, True, False, False, False, False, True, True, False, True, False, False, True, False, False, False, True, True, True, False, True, True, False, False, False, False, False, True, False, False, True, True, False, True, False, True, True, True, False, False, False, False, False, True, False, False, True, False, False, True, False, False, False, False, False, True, False, True, True, False, False, False, True, False, True, True, True, True, False, True, True, False, True, False, False, False, False, False, False, False, True, False, True, True, False, True, True, True, True, True, False, True, False, True, False, False, False, True, True, True, False, False, False, False, True, False, True, False, False, True, True, False, False, True, False, True, True, True, True, False, False, False, False, True, False, False, False, True, True, True, True, True, False, True, True, False, True, True, False, False, False, False, True, False, False, True, False, True, False, True, False, True, False, False, True, True, False, False, True, True, True, True, True, True, False, False, True, False, True, True, True, True, True, True, False, False, False, True, False, False, True, True, True, True, False, True, False, False, True, False, True, False, False, False, False, True, True, False, False, True, True, True, False, True, False, False, True, False, False, False, False, True, True, False, False, False, False, False, True, True, True, False, True, False, True, False, False, False, False, True, True, True, False, True, True, False, False, False, True, False, True, True, True, True, False, False, True, True, True, False, True, False, False, True, False, False, False, True, True, False, False, True, False, True, False, True, False, False, True, True, True, True, True, False, True, False, True, False, False, True, False, False, True, False, False, True, True, True, False, True, False, False, True, False, True, True, True, True, True, False, False, True, False, True, True, False, False, False, True, True, False, True, True, True, True, False, False, False, False, True, True, False, False, False, False, True, False, False, False, False, True, True, False, True, False, False, True, True, False, True, True, True, False, False, False, True, True, True, True, True, True, False, True, False, False, False, True, False, True, True, True, False, True, False, False, True, False, False, False, False, True, True, False, False, False, True, False, False, False, False, False, True, True, False, False, False, True, True, False, True, False, True, False, False, True, True, True, False, True, True, False, True, True, True, False, False, False, True, False, False, False, True, False, True, False, True, True, True, False, True, False, True, True, False, True, True, True, False, False, False, False, False, True, False, True, False, False, True, False, True, False, False, True, True, True, False, True, False, True, True, False, False, False, False, True, False, False, True, False, True, False, True, False, True, False, False, False, False, True, False, False, True, True, False, True, True, False, True, False, True, False, False, False, True, False, False, False, True, False, False, False, False, True, False, False, True, True, False, True, True, True, True, False, True, False, True, False, True, False, True, False, True, False, True, False, True, False, False, True, True, False, True, False, False, True, True, False, True, False, True, True, False, False, True, True, False, False, False, False, True, True, True, True, False, False, True, False, False, True, True, True, False, True, False, False, False, True, False, True, True, True, True, False, True, False, True, True, False, False, False, True, False, False, True, False, True, False, False, False, False, True, True, False, True, True, False, False, True, False, False, True, True, False, True, False, True, False, False, False, True, True, True, False, False, False, False, False, False, False, True, False, False, False, True, False, True, False, False, True, False, False, True, False, True, False, True, True, False, True, False, False, False, True, True, False, False, False, False, False, False, True, False, True, False, True, True, True, False, False, False, False, False, False, False, False, False, True, False, True, False, False, False, False, False, False, False, True, True, True, True, True, True, False, False, True, True, False, False, False, False, False, False, True, False, True, False, False, False, True, False, False, False, True, False, True, True, True, False, True, True, True, False, True, False, False, False, True, True, False, True, False, True, False, True, False, False, False, True, False, True, False, True, False, False, False, False, True, True, False, False, True, True, True, True, False, True, False, False, True, False, False, True, True, True, True, True, True, True, False, True, False, True, True, True, False, True, False, True, True, True, False, True, False, False, True, False, True, False, False, False, False, True, False, True, True, True, True, False, False, False, False, True, False, True, False, True, False, False, True, False, True, False, True, False, False, False, False, True, True, False, True, False, False, False, False, True, True, False, True, True, True, True, False, True, True, True, True, False, False, True, False, True, True, False, False, False, False, True, False, True, True, True, True, True, False, True, True, False, True, False, False, True, False, True, False, False, True, False, True, False, False, False, False, True, True, True, True, False, False, True, True, True, False, True, False, True, True, False, False, True, True, True, False, True, False, False, True, False, False, True, False, True, False, True, True, False, True, False, False, True, True, False, False, True, False, True, False, False, False, True, False, False, False, False, False, True, True, False, True, False, False, False, False, False, True, False, False, False, True, False, True, True, True, True, True, True, True, True, False, True, True, False, True, False, True, False, True, False, False, True, False, False, True, False, False, True, True, False, True, False, False, True, False, False, True, True, False, True, False, True, True, True, False, False, False, False, True, False, False, False, True, False, True, True, True, False, False, False, True, False, True, False, False, False, False, False, True, False, True, False, True, True, False, False, False, False, True, False, False, True, True, True, False, True, True, True, True, True, False, False, False, False, False, False, True, True, True, False, True, False, True, False, True, False, False, False, True, False, True, True, False, False, True, False, True, True, False, True, True, False, True, True, True, False, False, False, True, True, False, False, False, True, False, False, True, True, False, False, True, False, False, True, True, False, True, False, False, True, False, False, False, False, True, False, False, True, False, True, True, True, False, False, True, False, True, False, True, True, False, False, False, False, False, True, False, False, False, True, False, False, True, False, False, True, False, True, True, True, True, False, False, False, False, True, False, False, True, False, True, True, True, False, False, True, True, False, False, True, False, False, True, True, True, True, False, True, True, False, False, True, True, False, False, True, False, True, True, False, True, True, True, True, False, False, True, False, False, False, False, False, False, True, True, False, False, True, False, True, True, False, True, False, False, True, True, False, True, False, False, False, True, False, True, False, True, True, True, False, False, False, False, False, True, True, True, False, True, False, False, False, False, True, False, False, True, True, False, True, True, True, True, False, True, True, True, True, True, False, False, True, True, True, False, False, False, False, True, True, False, False, True, True, True, True, True, False, False, False, False, True, True, True, True, True, False, False, False, True, True, False, True, True, False, True, False, False, True, False, True, False, True, True, False, True, True, False, False, False, True, False, True, True, True, True, True, False, False, True, False, False, True, True, False, False, True, False, False, False, False, False, True, False, True, True, True, False, False, True, True, True, True, True, False, True, True, False, True, False, False, True, False, True, True, True, False, True, False, True, False, False, False, True, True, False, True, False, True, False, True, True, True, True, False, False, True, False, False, True, False, True, False, True, True, False, False, True, True, True, True, False, True, True, False, True, True, False, True, True, True, False, True, True, True, False, False, True, True, True, True, False, False, True, False, True, True, True, False, False, True, False, False, True, False, True, True, False, False, False, False, True, True, True, False, False, True, True, True, True, False, True, False, True, True, True, True, True, True, True, True, True, True, True, True, True, False, False, False, False, True, False, False, True, False, True, True, True, False, True, True, True, True, False, True, False, True, True, False, True, False, True, True, False, False, True, True, True, True, True, False, False, False, True, False, False, False, True, True, False, False, True, True, False, True, True, True, False, False, False, False, True, True, False, False, False, False, False, True, True, False, False, True, False, False, False, True, False, False, False, False, True, True, False, True, True, False, True, True, False, True, False, False, True, False, True, True, True, True, False, True, False, True, False, False, True, True, True, True, False, False, False, False, False, True, True, True, False, True, True, True, True, False, True, True, False, False, True, False, False, False, False, False, False, True, True, False, True, False, False, False, True, False, True, True, True, True, False, False, True, True, True, False, False, False, False, True, False, True, True, False, False, True, False, True, True, True, True, True, True, True, True, True, True, False, True, True, True, False, True, False, False, False, True, False, False, True, False, False, True, False, False, True, True, False, False, False, True, True, True, True, True, True, False, True, True, False, False, True, False, True, True, False, True, True, True, False, False, True, False, False, True, True, False, True, False, False, True, False, True, False, True, True, False, True, False, True, False, True, False, True, True, False, True, True, False, True, False, False, False, False, False, False, True, True, False, True, True, False, False, True, False, True, True, True, True, False, True, True, False, True, True, False, True, True, True, False, True, False, False, True, False, False, True, True, False, False, True, False, False, True, False, True, False, True, True, False, False, True, False, True, False, False, True, False, True, True, False, True, True]\n"
          ]
        },
        {
          "output_type": "stream",
          "name": "stderr",
          "text": [
            "100%|██████████| 4000/4000 [02:50<00:00, 23.51it/s]\n"
          ]
        }
      ]
    },
    {
      "cell_type": "code",
      "source": [
        "print('logistic regression test- 100%\\n')\n",
        "print(res)"
      ],
      "metadata": {
        "colab": {
          "base_uri": "https://localhost:8080/"
        },
        "id": "QRXcjgx7wK25",
        "outputId": "7263fe88-ffbc-4f62-cf30-efbdc525dbcc"
      },
      "execution_count": null,
      "outputs": [
        {
          "output_type": "stream",
          "name": "stdout",
          "text": [
            "logistic regression test- 0.2%\n",
            "\n",
            "[ True False False ... False False  True]\n"
          ]
        }
      ]
    },
    {
      "cell_type": "code",
      "source": [
        "print(score)"
      ],
      "metadata": {
        "colab": {
          "base_uri": "https://localhost:8080/"
        },
        "id": "ZjvUcvVhhGsJ",
        "outputId": "8d26b5d9-c24e-4da2-c6f5-d92ced55a028"
      },
      "execution_count": null,
      "outputs": [
        {
          "output_type": "stream",
          "name": "stdout",
          "text": [
            "              precision    recall  f1-score   support\n",
            "\n",
            "       False       0.45      0.53      0.49      1299\n",
            "        True       0.60      0.52      0.56      1779\n",
            "\n",
            "    accuracy                           0.53      3078\n",
            "   macro avg       0.53      0.53      0.52      3078\n",
            "weighted avg       0.54      0.53      0.53      3078\n",
            "\n"
          ]
        }
      ]
    },
    {
      "cell_type": "code",
      "source": [
        "print('logistic regression val- 100%\\n')\n",
        "mi_val = MIAttack_test(target_model, trained_classifier )\n",
        "res, score = mi_val.test_classifier(val_df)\n",
        "print(res)"
      ],
      "metadata": {
        "colab": {
          "base_uri": "https://localhost:8080/"
        },
        "id": "PzdIZ6YVL4qC",
        "outputId": "b676d370-3e07-4162-fe2c-5e0c7a45e29d"
      },
      "execution_count": null,
      "outputs": [
        {
          "output_type": "stream",
          "name": "stdout",
          "text": [
            "logistic regression val- 100%\n",
            "\n"
          ]
        },
        {
          "output_type": "stream",
          "name": "stderr",
          "text": [
            "100%|██████████| 4000/4000 [02:43<00:00, 24.42it/s]"
          ]
        },
        {
          "output_type": "stream",
          "name": "stdout",
          "text": [
            "[ True  True  True ... False False False]\n"
          ]
        },
        {
          "output_type": "stream",
          "name": "stderr",
          "text": [
            "\n"
          ]
        }
      ]
    },
    {
      "cell_type": "code",
      "source": [
        "print(score)"
      ],
      "metadata": {
        "colab": {
          "base_uri": "https://localhost:8080/"
        },
        "id": "wDwGZQ3cNA2X",
        "outputId": "f511beb6-0ee7-477a-fdc6-4cff51d48ac9"
      },
      "execution_count": null,
      "outputs": [
        {
          "output_type": "stream",
          "name": "stdout",
          "text": [
            "              precision    recall  f1-score   support\n",
            "\n",
            "       False       0.46      0.54      0.50      1268\n",
            "        True       0.62      0.53      0.57      1763\n",
            "\n",
            "    accuracy                           0.54      3031\n",
            "   macro avg       0.54      0.54      0.53      3031\n",
            "weighted avg       0.55      0.54      0.54      3031\n",
            "\n"
          ]
        }
      ]
    },
    {
      "cell_type": "code",
      "source": [
        "from sklearn import svm\n",
        "clf = svm.SVC()\n",
        "a = clf.fit(mi_train.scores, mi_train.labels)\n",
        "res = clf.predict(mi_test.scores)\n",
        "print('svm test- 100%\\n')\n",
        "print(classification_report(res, mi_test.labels))"
      ],
      "metadata": {
        "colab": {
          "base_uri": "https://localhost:8080/"
        },
        "id": "aYAQ4EPmMPU5",
        "outputId": "db9d4190-44d5-40a0-a3de-83c316bb6a8a"
      },
      "execution_count": null,
      "outputs": [
        {
          "output_type": "stream",
          "name": "stdout",
          "text": [
            "svm test- 100%\n",
            "\n",
            "              precision    recall  f1-score   support\n",
            "\n",
            "       False       0.39      0.53      0.45      1129\n",
            "        True       0.66      0.52      0.58      1949\n",
            "\n",
            "    accuracy                           0.52      3078\n",
            "   macro avg       0.52      0.53      0.52      3078\n",
            "weighted avg       0.56      0.52      0.53      3078\n",
            "\n"
          ]
        }
      ]
    },
    {
      "cell_type": "code",
      "source": [
        "res = clf.predict(mi_val.scores)\n",
        "print('svm val- 0.2%\\n')\n",
        "print(classification_report(res, mi_val.labels))"
      ],
      "metadata": {
        "colab": {
          "base_uri": "https://localhost:8080/"
        },
        "id": "3X11fn-fM0nf",
        "outputId": "8feaa0bd-1991-4310-86f7-519bf5c7dcb2"
      },
      "execution_count": null,
      "outputs": [
        {
          "output_type": "stream",
          "name": "stdout",
          "text": [
            "svm val- 0.2%\n",
            "\n",
            "              precision    recall  f1-score   support\n",
            "\n",
            "       False       0.39      0.54      0.46      1094\n",
            "        True       0.67      0.53      0.59      1937\n",
            "\n",
            "    accuracy                           0.53      3031\n",
            "   macro avg       0.53      0.54      0.52      3031\n",
            "weighted avg       0.57      0.53      0.54      3031\n",
            "\n"
          ]
        }
      ]
    },
    {
      "cell_type": "code",
      "source": [
        "criteria = 'confidence'\n",
        "percentages = [0.2, 0.5, 1]\n",
        "\n",
        "import numpy as np\n",
        "chosen_idx = np.random.choice(len(train_df), replace=False, size=int(len(train_df)*0.5))\n",
        "len(chosen_idx)\n",
        "df2 = train_df.iloc[chosen_idx]\n",
        "\n",
        "clf2 = LogisticRegression(random_state=0, max_iter=1000)\n",
        "mi_train2 = MIAttack_train(target_model, shadow_model, clf2)\n",
        "trained_classifier2 = mi_train2.train_classifier(df2.reset_index())\n"
      ],
      "metadata": {
        "id": "qIakgVI0vziS"
      },
      "execution_count": null,
      "outputs": []
    },
    {
      "cell_type": "code",
      "source": [
        "mi_test2 = MIAttack_test(target_model, trained_classifier2 )\n",
        "res, score = mi_test2.test_classifier(test_df)\n",
        "print('logistic regression test- 0.5%\\n')\n",
        "print(score)"
      ],
      "metadata": {
        "id": "0tX_fOuaPHwj"
      },
      "execution_count": null,
      "outputs": []
    },
    {
      "cell_type": "code",
      "source": [
        "print('logistic regression val- 0.5%\\n')\n",
        "mi_val2 = MIAttack_test(target_model, trained_classifier )\n",
        "res, score = mi_val2.test_classifier(val_df)\n",
        "print(score)"
      ],
      "metadata": {
        "id": "xhYPhbUBPHwk"
      },
      "execution_count": null,
      "outputs": []
    },
    {
      "cell_type": "code",
      "source": [
        "from sklearn import svm\n",
        "clf = svm.SVC()\n",
        "a = clf.fit(mi_train2.scores, mi_train2.labels)\n",
        "res = clf.predict(mi_test2.scores)\n",
        "print('svm test- 0.5%\\n')\n",
        "print(classification_report(res, mi_test2.labels))"
      ],
      "metadata": {
        "id": "2S_cHcOMPHwk"
      },
      "execution_count": null,
      "outputs": []
    },
    {
      "cell_type": "code",
      "source": [
        "res = clf.predict(mi_val2.scores)\n",
        "print('svm val- 0.5%\\n')\n",
        "print(classification_report(res, mi_val2.labels))"
      ],
      "metadata": {
        "id": "HGvkOXkZPHwk"
      },
      "execution_count": null,
      "outputs": []
    },
    {
      "cell_type": "code",
      "source": [],
      "metadata": {
        "id": "OsD2a_wKPvXm"
      },
      "execution_count": null,
      "outputs": []
    },
    {
      "cell_type": "code",
      "source": [
        "criteria = 'confidence'\n",
        "percentages = [0.2, 0.5, 1]\n",
        "\n",
        "import numpy as np\n",
        "chosen_idx = np.random.choice(len(train_df), replace=False, size=int(len(train_df)*0.5))\n",
        "len(chosen_idx)\n",
        "df3 = train_df.iloc[chosen_idx]\n",
        "\n",
        "clf3 = LogisticRegression(random_state=0, max_iter=1000)\n",
        "mi_train3 = MIAttack_train(target_model, shadow_model, clf3)\n",
        "trained_classifier3 = mi_train2.train_classifier(train_df)\n",
        "mi_test3 = MIAttack_test(target_model, trained_classifier3 )\n",
        "res, score = mi_test3.test_classifier(test_df)"
      ],
      "metadata": {
        "id": "bK6rjLFnP7BJ"
      },
      "execution_count": null,
      "outputs": []
    },
    {
      "cell_type": "code",
      "source": [
        "print('logistic regression test- 0.5%\\n')\n",
        "print(res)"
      ],
      "metadata": {
        "id": "At_DD4C5P7BK"
      },
      "execution_count": null,
      "outputs": []
    },
    {
      "cell_type": "code",
      "source": [
        "print('logistic regression val- 0.5%\\n')\n",
        "mi_val3 = MIAttack_test(target_model, trained_classifier )\n",
        "res, score = mi_val3.test_classifier(val_df)\n",
        "print(score)"
      ],
      "metadata": {
        "id": "uEsy55IQP7BK"
      },
      "execution_count": null,
      "outputs": []
    },
    {
      "cell_type": "code",
      "source": [
        "from sklearn import svm\n",
        "clf = svm.SVC()\n",
        "a = clf.fit(mi_train3.scores, mi_train3.labels)\n",
        "res = clf.predict(mi_test3.scores)\n",
        "print('svm test- 0.5%\\n')\n",
        "print(classification_report(res, mi_test3.labels))"
      ],
      "metadata": {
        "id": "KSg9SacfP7BK"
      },
      "execution_count": null,
      "outputs": []
    },
    {
      "cell_type": "code",
      "source": [
        "res = clf.predict(mi_val3.scores)\n",
        "print('svm val- 1%\\n')\n",
        "print(classification_report(res, mi_val3.labels))"
      ],
      "metadata": {
        "id": "cIFQW5xDP7BK"
      },
      "execution_count": null,
      "outputs": []
    },
    {
      "cell_type": "code",
      "source": [
        "count = 0\n",
        "for i in mi_test2.labels:\n",
        "  if i==False:\n",
        "    count+=1\n",
        "count"
      ],
      "metadata": {
        "id": "W4jrbpTYPoQo"
      },
      "execution_count": null,
      "outputs": []
    },
    {
      "cell_type": "code",
      "source": [
        "print(score)"
      ],
      "metadata": {
        "id": "TwDPGUqoO8Eb"
      },
      "execution_count": null,
      "outputs": []
    },
    {
      "cell_type": "code",
      "source": [
        "clf_ = LogisticRegression(max_iter=10)\n",
        "clf_.fit(mi_train2.scores, mi_train2.labels)\n",
        "res = clf2.predict(mi_test2.scores)\n",
        "print(classification_report(res, mi_test2.labels))"
      ],
      "metadata": {
        "id": "Zue75OZiJYLZ"
      },
      "execution_count": null,
      "outputs": []
    },
    {
      "cell_type": "code",
      "source": [
        "from sklearn import svm\n",
        "clf = svm.SVC()\n",
        "a = clf.fit(mi_train2.scores, mi_train2.labels)\n",
        "res = clf.predict(mi_test2.scores)\n",
        "print(classification_report(res, mi_test2.labels))"
      ],
      "metadata": {
        "id": "KUQvDJNrRsVs"
      },
      "execution_count": null,
      "outputs": []
    },
    {
      "cell_type": "code",
      "source": [
        "clf = LogisticRegression(max_iter=500).fit(mi_train2.scores, mi_train2.labels)\n",
        "#clf.predict(X[:2, :])\n",
        "\n",
        "#clf.predict_proba(X[:2, :])\n",
        "x = clf.score(mi_test2.scores, mi_test2.labels)"
      ],
      "metadata": {
        "id": "-OrcGRxZJ1ec"
      },
      "execution_count": null,
      "outputs": []
    },
    {
      "cell_type": "code",
      "source": [
        "print(x)"
      ],
      "metadata": {
        "id": "ampRi2ue-YiX"
      },
      "execution_count": null,
      "outputs": []
    },
    {
      "cell_type": "code",
      "source": [
        "criteria = 'confidence'\n",
        "percentages = [0.2, 0.5, 1]\n",
        "\n",
        "import numpy as np\n",
        "chosen_idx = np.random.choice(len(train_df), replace=False, size=int(len(train_df)*percentages[2]))\n",
        "len(chosen_idx)\n",
        "df3 = train_df.iloc[chosen_idx]\n",
        "\n",
        "clf3 = LogisticRegression(random_state=0)\n",
        "mi_train3 = MIAttack_train(target_model, shadow_model, clf3)\n",
        "trained_classifier3 = mi_train3.train_classifier(df3.reset_index())\n",
        "mi_test3 = MIAttack_test(target_model, trained_classifier3 )\n",
        "res, score = mi_test3.test_classifier(test_df)"
      ],
      "metadata": {
        "id": "q-KSKKumwU2u"
      },
      "execution_count": null,
      "outputs": []
    },
    {
      "cell_type": "code",
      "source": [
        "mi_test3 = MIAttack_test(target_model, trained_classifier3 )\n",
        "res, score = mi_test3.test_classifier(test_df)"
      ],
      "metadata": {
        "id": "VnjnGDm_-KQV"
      },
      "execution_count": null,
      "outputs": []
    },
    {
      "cell_type": "code",
      "source": [
        "print(score)"
      ],
      "metadata": {
        "id": "xq6tztB5xj77"
      },
      "execution_count": null,
      "outputs": []
    },
    {
      "cell_type": "code",
      "source": [
        "confidences, labels = mi_test3.scores, mi_test3.labels"
      ],
      "metadata": {
        "id": "3tGblkcqqABs"
      },
      "execution_count": null,
      "outputs": []
    },
    {
      "cell_type": "code",
      "source": [
        "labels[0]"
      ],
      "metadata": {
        "id": "bUkoxBKD87lx"
      },
      "execution_count": null,
      "outputs": []
    },
    {
      "cell_type": "code",
      "source": [
        "fin = np.zeros((len(confidences), 2))\n",
        "\n",
        "for i in range(len(confidences)):\n",
        "  fin[i, 0] = confidences[i][0]\n",
        "  fin[i, 1] = labels[0]\n",
        "fin"
      ],
      "metadata": {
        "id": "B9wRMSF78HtK"
      },
      "execution_count": null,
      "outputs": []
    },
    {
      "cell_type": "code",
      "source": [
        "%cd /content"
      ],
      "metadata": {
        "id": "PoIL9DiU9ib8"
      },
      "execution_count": null,
      "outputs": []
    },
    {
      "cell_type": "code",
      "source": [
        "with open('test_confidences.npy', 'wb') as f:\n",
        "    np.save(f, fin)"
      ],
      "metadata": {
        "id": "Y9Jwaa5Y9HWv"
      },
      "execution_count": null,
      "outputs": []
    },
    {
      "cell_type": "code",
      "source": [
        "import numpy as np\n",
        "import matplotlib.pyplot as plt\n",
        "\n",
        "# Fixing random state for reproducibility\n",
        "np.random.seed(19680801)\n",
        "\n",
        "plt.title('Confidence Inference Plot')\n",
        "plt.scatter(confidences, labels, alpha=0.5)\n",
        "plt.show()"
      ],
      "metadata": {
        "id": "JvL4rz2OqPXt"
      },
      "execution_count": null,
      "outputs": []
    },
    {
      "cell_type": "markdown",
      "source": [
        "# Load and Plot"
      ],
      "metadata": {
        "id": "bp3V250trB4S"
      }
    },
    {
      "cell_type": "code",
      "source": [
        "train_losses = np.load('/content/speechbrain/MI Attack files/losses_train.npy')"
      ],
      "metadata": {
        "id": "TpZsMQ8GtFeS"
      },
      "execution_count": null,
      "outputs": []
    },
    {
      "cell_type": "code",
      "source": [
        "train_losses[0]\n",
        "pos_losses, neg_losses = [], []\n",
        "for i in range(len(train_losses)):\n",
        "  if train_losses[i][1]:\n",
        "    pos_losses.append(train_losses[i][0])\n",
        "  else:\n",
        "    neg_losses.append(train_losses[i][0])"
      ],
      "metadata": {
        "id": "37AMZyv7tTL4"
      },
      "execution_count": null,
      "outputs": []
    },
    {
      "cell_type": "code",
      "source": [
        "import numpy as np\n",
        "import matplotlib.pyplot as plt\n",
        "\n",
        "# Generate random data\n",
        "#x = np.random.normal(0, 1, 1000)\n",
        "#y = np.random.normal(3, 1, 1000)\n",
        "\n",
        "# Plot histograms\n",
        "plt.hist(pos_losses, bins=10, alpha=0.5, color='blue')\n",
        "plt.hist(neg_losses, bins=10, alpha=0.5, color='green')\n",
        "\n",
        "# Add labels and legend\n",
        "plt.xlabel('Losses')\n",
        "plt.ylabel('Frequency')\n",
        "plt.legend(['Positive Samples', 'Negative Samples'])\n",
        "plt.title('Loss Histogram')\n",
        "\n",
        "# Show the plot\n",
        "plt.show()\n"
      ],
      "metadata": {
        "id": "gzFk7umQueKF",
        "colab": {
          "base_uri": "https://localhost:8080/",
          "height": 472
        },
        "outputId": "217cffd0-011f-42dc-9329-01296121f2ab"
      },
      "execution_count": null,
      "outputs": [
        {
          "output_type": "display_data",
          "data": {
            "text/plain": [
              "<Figure size 640x480 with 1 Axes>"
            ],
            "image/png": "[encoded data removed]"
          },
          "metadata": {}
        }
      ]
    },
    {
      "cell_type": "code",
      "source": [
        "train_confidences = np.load('/content/speechbrain/MI Attack files/train_confidences.npy')"
      ],
      "metadata": {
        "id": "pxAAIphFq6Xg"
      },
      "execution_count": null,
      "outputs": []
    },
    {
      "cell_type": "code",
      "source": [],
      "metadata": {
        "id": "9TVWbTd8sIR8"
      },
      "execution_count": null,
      "outputs": []
    },
    {
      "cell_type": "code",
      "source": [
        "train_confidences[0]\n",
        "pos_confidences, neg_confidences = [], []\n",
        "for i in range(len(mi_train.scores)):\n",
        "  if mi_train.labels[i]:\n",
        "    pos_confidences.append(mi_train.scores[i][0])\n",
        "  else:\n",
        "    neg_confidences.append(mi_train.scores[i][0])"
      ],
      "metadata": {
        "id": "KGKW2-3KrZU6"
      },
      "execution_count": null,
      "outputs": []
    },
    {
      "cell_type": "code",
      "source": [
        "import numpy as np\n",
        "import matplotlib.pyplot as plt\n",
        "\n",
        "# Generate random data\n",
        "#x = np.random.normal(0, 1, 1000)\n",
        "#y = np.random.normal(3, 1, 1000)\n",
        "\n",
        "# Plot histograms\n",
        "plt.hist(pos_confidences, bins=10, alpha=0.5, color='blue')\n",
        "plt.hist(neg_confidences, bins=10, alpha=0.5, color='green')\n",
        "\n",
        "# Add labels and legend\n",
        "plt.xlabel('Confidences')\n",
        "plt.ylabel('Frequency')\n",
        "plt.legend(['Positive Samples', 'Negative Samples'])\n",
        "plt.title('Confidence Histogram')\n",
        "\n",
        "# Show the plot\n",
        "plt.show()\n"
      ],
      "metadata": {
        "colab": {
          "base_uri": "https://localhost:8080/",
          "height": 472
        },
        "id": "ioXbHPiorgoK",
        "outputId": "72281861-be34-4a90-be87-e187f2a3eb5b"
      },
      "execution_count": null,
      "outputs": [
        {
          "output_type": "display_data",
          "data": {
            "text/plain": [
              "<Figure size 640x480 with 1 Axes>"
            ],
            "image/png": "[encoded data removed]"
          },
          "metadata": {}
        }
      ]
    },
    {
      "cell_type": "code",
      "source": [
        "import numpy as np\n",
        "import matplotlib.pyplot as plt\n",
        "\n",
        "# Fixing random state for reproducibility\n",
        "np.random.seed(19680801)\n",
        "\n",
        "plt.title('Losses Inference Plot')\n",
        "plt.scatter(losses, labels, alpha=0.5)\n",
        "plt.show()"
      ],
      "metadata": {
        "id": "E96oR3XpttdR"
      },
      "execution_count": null,
      "outputs": []
    },
    {
      "cell_type": "code",
      "source": [
        "clf_ = LogisticRegression(max_iter=500)\n",
        "clf_.fit(mi_train2.scores, mi_train2.labels)\n",
        "res = clf2.predict(mi_test2.scores)\n",
        "print(classification_report(res, mi_test2.labels))"
      ],
      "metadata": {
        "id": "UYJ3Dtkqunud"
      },
      "execution_count": null,
      "outputs": []
    },
    {
      "cell_type": "markdown",
      "source": [
        "# New section"
      ],
      "metadata": {
        "id": "VdjbINSksAkB"
      }
    },
    {
      "cell_type": "code",
      "source": [
        "from sklearn import svm\n",
        "clf = svm.SVC()\n",
        "a = clf.fit(losses, labels)"
      ],
      "metadata": {
        "id": "7AkZhNw3ZKH3"
      },
      "execution_count": null,
      "outputs": []
    },
    {
      "cell_type": "code",
      "source": [
        "test_losses_full =  np.load('/content/speechbrain/MI Attack files/test.npy')\n",
        "test_losses, test_labels = [], []\n",
        "for i in range(len(test_losses_full)):\n",
        "  test_losses.append([test_losses_full[i][0]])\n",
        "  test_labels.append([test_losses_full[i][1]])"
      ],
      "metadata": {
        "id": "-w16H9ZZu4be"
      },
      "execution_count": null,
      "outputs": []
    },
    {
      "cell_type": "code",
      "source": [
        "test_losses[0]"
      ],
      "metadata": {
        "id": "agleBo1BwlTa"
      },
      "execution_count": null,
      "outputs": []
    },
    {
      "cell_type": "code",
      "source": [
        "res = clf.predict(test_losses)\n",
        "print(classification_report(res, test_labels))"
      ],
      "metadata": {
        "id": "ozmplngkvwt_"
      },
      "execution_count": null,
      "outputs": []
    },
    {
      "cell_type": "code",
      "source": [
        "clf_ = LogisticRegression(max_iter=2000)\n",
        "clf_.fit(losses, labels)\n",
        "res = clf_.predict(test_losses)\n",
        "print(classification_report(res, test_labels))"
      ],
      "metadata": {
        "id": "lYKZFtSt0lgH"
      },
      "execution_count": null,
      "outputs": []
    },
    {
      "cell_type": "markdown",
      "source": [
        "# Get data"
      ],
      "metadata": {
        "id": "Pgv6LYumEq6J"
      }
    },
    {
      "cell_type": "code",
      "source": [
        "mi = MIAttack_train(target_model, shadow_model, clf)"
      ],
      "metadata": {
        "id": "FaWw3Mmd8rjY"
      },
      "execution_count": null,
      "outputs": []
    },
    {
      "cell_type": "code",
      "source": [
        "train_percents = [20, 50, 100]"
      ],
      "metadata": {
        "id": "5FtZapFYWuJZ"
      },
      "execution_count": null,
      "outputs": []
    },
    {
      "cell_type": "code",
      "source": [
        "trained_classifier = mi.train_classifier(d)"
      ],
      "metadata": {
        "id": "FFiGuCfU8uNL"
      },
      "execution_count": null,
      "outputs": []
    },
    {
      "cell_type": "code",
      "source": [
        "mi_test = MIAttack_test(target_model, clf)"
      ],
      "metadata": {
        "id": "LBYFDGrpWIX1"
      },
      "execution_count": null,
      "outputs": []
    },
    {
      "cell_type": "code",
      "source": [
        "res, score = mi_test.test_classifier(trained_classifier, d)"
      ],
      "metadata": {
        "id": "F3nAuPGZc7Yz"
      },
      "execution_count": null,
      "outputs": []
    },
    {
      "cell_type": "code",
      "source": [],
      "metadata": {
        "id": "xkTVuHyvWcrG"
      },
      "execution_count": null,
      "outputs": []
    }
  ]
}