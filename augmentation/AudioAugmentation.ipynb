{
 "cells": [
  {
   "cell_type": "code",
   "execution_count": null,
   "metadata": {},
   "outputs": [],
   "source": [
    "# import speechbrain as sb\n",
    "# from hyperpyyaml import load_hyperpyyaml\n",
    "# import torch"
   ]
  },
  {
   "cell_type": "code",
   "execution_count": null,
   "metadata": {},
   "outputs": [],
   "source": [
    "# # Load audio file\n",
    "# signal = sb.dataio.dataio.read_audio('audio.wav')\n",
    "# # Add an extra dimension to the signal tensor\n",
    "# signal = signal.unsqueeze(0)\n",
    "# print(signal)"
   ]
  },
  {
   "cell_type": "code",
   "execution_count": null,
   "metadata": {},
   "outputs": [],
   "source": [
    "# with open(\"audioaugmentation.yaml\") as f:\n",
    "#     hyperparameters = load_hyperpyyaml(f, None)\n",
    "\n",
    "# print(\"Currently using the following augmentation pipline: \" + str(hyperparameters['augment_pipeline']))"
   ]
  },
  {
   "cell_type": "code",
   "execution_count": null,
   "metadata": {},
   "outputs": [],
   "source": [
    "# augmented_audio = signal\n",
    "# num_samples = signal.shape[1]\n",
    "\n",
    "# for augment in hyperparameters['augment_pipeline']:\n",
    "#     augmented_audio = augment(signal, num_samples)\n",
    "\n",
    "# sb.dataio.dataio.write_audio('augmented_audio.wav', augmented_audio, 16000)\n",
    "\n",
    "# print(augmented_audio)\n",
    "# print(torch.equal(augmented_audio, signal))"
   ]
  },
  {
   "cell_type": "code",
   "execution_count": 33,
   "metadata": {},
   "outputs": [
    {
     "name": "stdout",
     "output_type": "stream",
     "text": [
      "tensor([-0.0113, -0.0094, -0.0013,  ..., -0.0487, -0.0435, -0.0341])\n",
      "Currently using the following augmentation pipline: [EnvCorrupt(), SpeedPerturb()]\n",
      "tensor([[-1.1148e-02, -6.3191e-04],\n",
      "        [-9.2752e-03, -5.2574e-04],\n",
      "        [-1.2689e-03, -7.1925e-05],\n",
      "        ...,\n",
      "        [-4.8249e-02, -2.7349e-03],\n",
      "        [-4.3113e-02, -2.4437e-03],\n",
      "        [-3.3808e-02, -1.9163e-03]])\n",
      "False\n"
     ]
    }
   ],
   "source": [
    "import speechbrain as sb\n",
    "from hyperpyyaml import load_hyperpyyaml\n",
    "import torch\n",
    "from speechbrain.processing.speech_augmentation import SpeedPerturb\n",
    "\n",
    "# Load audio file\n",
    "signal = sb.dataio.dataio.read_audio('audio.wav')\n",
    "print(signal)\n",
    "\n",
    "# Add an extra dimension to the signal tensor\n",
    "signal = signal.unsqueeze(1)\n",
    "\n",
    "with open(\"audioaugmentation.yaml\") as f:\n",
    "    hyperparameters = load_hyperpyyaml(f, None)\n",
    "\n",
    "print(\"Currently using the following augmentation pipline: \" + str(hyperparameters['augment_pipeline']))\n",
    "\n",
    "augmented_audio = signal\n",
    "num_samples = signal.shape[0]\n",
    "\n",
    "for augment in hyperparameters['augment_pipeline']:\n",
    "    if isinstance(augment, SpeedPerturb):\n",
    "        augmented_audio = augment(augmented_audio)\n",
    "    else:\n",
    "        augmented_audio = augment(augmented_audio, num_samples)\n",
    "\n",
    "# Squeeze the augmented audio tensor to have the same shape as the original audio\n",
    "augmented_audio = augmented_audio.squeeze(1)\n",
    "\n",
    "sb.dataio.dataio.write_audio('augmented_audio.wav', augmented_audio, 16000)\n",
    "\n",
    "print(augmented_audio)\n",
    "print(torch.equal(augmented_audio, signal))\n"
   ]
  },
  {
   "cell_type": "code",
   "execution_count": null,
   "metadata": {},
   "outputs": [],
   "source": []
  }
 ],
 "metadata": {
  "kernelspec": {
   "display_name": "idls23",
   "language": "python",
   "name": "myenv"
  },
  "language_info": {
   "codemirror_mode": {
    "name": "ipython",
    "version": 3
   },
   "file_extension": ".py",
   "mimetype": "text/x-python",
   "name": "python",
   "nbconvert_exporter": "python",
   "pygments_lexer": "ipython3",
   "version": "3.8.16"
  },
  "vscode": {
   "interpreter": {
    "hash": "42cab798fd710b97e8c2e616613e7ca71ae6e6c369a964eb6f01b5485b4de55b"
   }
  }
 },
 "nbformat": 4,
 "nbformat_minor": 2
}
