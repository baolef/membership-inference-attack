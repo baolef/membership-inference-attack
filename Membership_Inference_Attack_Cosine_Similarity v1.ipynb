{
  "nbformat": 4,
  "nbformat_minor": 0,
  "metadata": {
    "colab": {
      "provenance": []
    },
    "kernelspec": {
      "name": "python3",
      "display_name": "Python 3"
    },
    "language_info": {
      "name": "python"
    },
    "accelerator": "GPU",
    "gpuClass": "standard",
    "widgets": {
      "application/vnd.jupyter.widget-state+json": {
        "c36b69fb335c4e26ba26c344b87d584f": {
          "model_module": "@jupyter-widgets/controls",
          "model_name": "HBoxModel",
          "model_module_version": "1.5.0",
          "state": {
            "_dom_classes": [],
            "_model_module": "@jupyter-widgets/controls",
            "_model_module_version": "1.5.0",
            "_model_name": "HBoxModel",
            "_view_count": null,
            "_view_module": "@jupyter-widgets/controls",
            "_view_module_version": "1.5.0",
            "_view_name": "HBoxView",
            "box_style": "",
            "children": [
              "IPY_MODEL_cb97f8f50d674a189061ef8462dcc962",
              "IPY_MODEL_1dabc2fbc34145889bdb4630587d8289",
              "IPY_MODEL_5b574b90c3e24d4caf499739702c95d9"
            ],
            "layout": "IPY_MODEL_ed3d9d9367d548daa3de9dd6a1afe6d9"
          }
        },
        "cb97f8f50d674a189061ef8462dcc962": {
          "model_module": "@jupyter-widgets/controls",
          "model_name": "HTMLModel",
          "model_module_version": "1.5.0",
          "state": {
            "_dom_classes": [],
            "_model_module": "@jupyter-widgets/controls",
            "_model_module_version": "1.5.0",
            "_model_name": "HTMLModel",
            "_view_count": null,
            "_view_module": "@jupyter-widgets/controls",
            "_view_module_version": "1.5.0",
            "_view_name": "HTMLView",
            "description": "",
            "description_tooltip": null,
            "layout": "IPY_MODEL_4704c77c45e146c19e6abbd7430d2dc0",
            "placeholder": "​",
            "style": "IPY_MODEL_095bdb3c8f9546199151cc61f94e5510",
            "value": "Downloading (…)ain/hyperparams.yaml: 100%"
          }
        },
        "1dabc2fbc34145889bdb4630587d8289": {
          "model_module": "@jupyter-widgets/controls",
          "model_name": "FloatProgressModel",
          "model_module_version": "1.5.0",
          "state": {
            "_dom_classes": [],
            "_model_module": "@jupyter-widgets/controls",
            "_model_module_version": "1.5.0",
            "_model_name": "FloatProgressModel",
            "_view_count": null,
            "_view_module": "@jupyter-widgets/controls",
            "_view_module_version": "1.5.0",
            "_view_name": "ProgressView",
            "bar_style": "success",
            "description": "",
            "description_tooltip": null,
            "layout": "IPY_MODEL_1fcb04c0b75244f4b5960f5549f6576d",
            "max": 1920,
            "min": 0,
            "orientation": "horizontal",
            "style": "IPY_MODEL_f50f29988c9a4ba2aed861a3d4e482b5",
            "value": 1920
          }
        },
        "5b574b90c3e24d4caf499739702c95d9": {
          "model_module": "@jupyter-widgets/controls",
          "model_name": "HTMLModel",
          "model_module_version": "1.5.0",
          "state": {
            "_dom_classes": [],
            "_model_module": "@jupyter-widgets/controls",
            "_model_module_version": "1.5.0",
            "_model_name": "HTMLModel",
            "_view_count": null,
            "_view_module": "@jupyter-widgets/controls",
            "_view_module_version": "1.5.0",
            "_view_name": "HTMLView",
            "description": "",
            "description_tooltip": null,
            "layout": "IPY_MODEL_ad47f8413c6d45429d9a1543b6ba1a13",
            "placeholder": "​",
            "style": "IPY_MODEL_2421db427e8e43d6bdadac68b04dfac2",
            "value": " 1.92k/1.92k [00:00&lt;00:00, 117kB/s]"
          }
        },
        "ed3d9d9367d548daa3de9dd6a1afe6d9": {
          "model_module": "@jupyter-widgets/base",
          "model_name": "LayoutModel",
          "model_module_version": "1.2.0",
          "state": {
            "_model_module": "@jupyter-widgets/base",
            "_model_module_version": "1.2.0",
            "_model_name": "LayoutModel",
            "_view_count": null,
            "_view_module": "@jupyter-widgets/base",
            "_view_module_version": "1.2.0",
            "_view_name": "LayoutView",
            "align_content": null,
            "align_items": null,
            "align_self": null,
            "border": null,
            "bottom": null,
            "display": null,
            "flex": null,
            "flex_flow": null,
            "grid_area": null,
            "grid_auto_columns": null,
            "grid_auto_flow": null,
            "grid_auto_rows": null,
            "grid_column": null,
            "grid_gap": null,
            "grid_row": null,
            "grid_template_areas": null,
            "grid_template_columns": null,
            "grid_template_rows": null,
            "height": null,
            "justify_content": null,
            "justify_items": null,
            "left": null,
            "margin": null,
            "max_height": null,
            "max_width": null,
            "min_height": null,
            "min_width": null,
            "object_fit": null,
            "object_position": null,
            "order": null,
            "overflow": null,
            "overflow_x": null,
            "overflow_y": null,
            "padding": null,
            "right": null,
            "top": null,
            "visibility": null,
            "width": null
          }
        },
        "4704c77c45e146c19e6abbd7430d2dc0": {
          "model_module": "@jupyter-widgets/base",
          "model_name": "LayoutModel",
          "model_module_version": "1.2.0",
          "state": {
            "_model_module": "@jupyter-widgets/base",
            "_model_module_version": "1.2.0",
            "_model_name": "LayoutModel",
            "_view_count": null,
            "_view_module": "@jupyter-widgets/base",
            "_view_module_version": "1.2.0",
            "_view_name": "LayoutView",
            "align_content": null,
            "align_items": null,
            "align_self": null,
            "border": null,
            "bottom": null,
            "display": null,
            "flex": null,
            "flex_flow": null,
            "grid_area": null,
            "grid_auto_columns": null,
            "grid_auto_flow": null,
            "grid_auto_rows": null,
            "grid_column": null,
            "grid_gap": null,
            "grid_row": null,
            "grid_template_areas": null,
            "grid_template_columns": null,
            "grid_template_rows": null,
            "height": null,
            "justify_content": null,
            "justify_items": null,
            "left": null,
            "margin": null,
            "max_height": null,
            "max_width": null,
            "min_height": null,
            "min_width": null,
            "object_fit": null,
            "object_position": null,
            "order": null,
            "overflow": null,
            "overflow_x": null,
            "overflow_y": null,
            "padding": null,
            "right": null,
            "top": null,
            "visibility": null,
            "width": null
          }
        },
        "095bdb3c8f9546199151cc61f94e5510": {
          "model_module": "@jupyter-widgets/controls",
          "model_name": "DescriptionStyleModel",
          "model_module_version": "1.5.0",
          "state": {
            "_model_module": "@jupyter-widgets/controls",
            "_model_module_version": "1.5.0",
            "_model_name": "DescriptionStyleModel",
            "_view_count": null,
            "_view_module": "@jupyter-widgets/base",
            "_view_module_version": "1.2.0",
            "_view_name": "StyleView",
            "description_width": ""
          }
        },
        "1fcb04c0b75244f4b5960f5549f6576d": {
          "model_module": "@jupyter-widgets/base",
          "model_name": "LayoutModel",
          "model_module_version": "1.2.0",
          "state": {
            "_model_module": "@jupyter-widgets/base",
            "_model_module_version": "1.2.0",
            "_model_name": "LayoutModel",
            "_view_count": null,
            "_view_module": "@jupyter-widgets/base",
            "_view_module_version": "1.2.0",
            "_view_name": "LayoutView",
            "align_content": null,
            "align_items": null,
            "align_self": null,
            "border": null,
            "bottom": null,
            "display": null,
            "flex": null,
            "flex_flow": null,
            "grid_area": null,
            "grid_auto_columns": null,
            "grid_auto_flow": null,
            "grid_auto_rows": null,
            "grid_column": null,
            "grid_gap": null,
            "grid_row": null,
            "grid_template_areas": null,
            "grid_template_columns": null,
            "grid_template_rows": null,
            "height": null,
            "justify_content": null,
            "justify_items": null,
            "left": null,
            "margin": null,
            "max_height": null,
            "max_width": null,
            "min_height": null,
            "min_width": null,
            "object_fit": null,
            "object_position": null,
            "order": null,
            "overflow": null,
            "overflow_x": null,
            "overflow_y": null,
            "padding": null,
            "right": null,
            "top": null,
            "visibility": null,
            "width": null
          }
        },
        "f50f29988c9a4ba2aed861a3d4e482b5": {
          "model_module": "@jupyter-widgets/controls",
          "model_name": "ProgressStyleModel",
          "model_module_version": "1.5.0",
          "state": {
            "_model_module": "@jupyter-widgets/controls",
            "_model_module_version": "1.5.0",
            "_model_name": "ProgressStyleModel",
            "_view_count": null,
            "_view_module": "@jupyter-widgets/base",
            "_view_module_version": "1.2.0",
            "_view_name": "StyleView",
            "bar_color": null,
            "description_width": ""
          }
        },
        "ad47f8413c6d45429d9a1543b6ba1a13": {
          "model_module": "@jupyter-widgets/base",
          "model_name": "LayoutModel",
          "model_module_version": "1.2.0",
          "state": {
            "_model_module": "@jupyter-widgets/base",
            "_model_module_version": "1.2.0",
            "_model_name": "LayoutModel",
            "_view_count": null,
            "_view_module": "@jupyter-widgets/base",
            "_view_module_version": "1.2.0",
            "_view_name": "LayoutView",
            "align_content": null,
            "align_items": null,
            "align_self": null,
            "border": null,
            "bottom": null,
            "display": null,
            "flex": null,
            "flex_flow": null,
            "grid_area": null,
            "grid_auto_columns": null,
            "grid_auto_flow": null,
            "grid_auto_rows": null,
            "grid_column": null,
            "grid_gap": null,
            "grid_row": null,
            "grid_template_areas": null,
            "grid_template_columns": null,
            "grid_template_rows": null,
            "height": null,
            "justify_content": null,
            "justify_items": null,
            "left": null,
            "margin": null,
            "max_height": null,
            "max_width": null,
            "min_height": null,
            "min_width": null,
            "object_fit": null,
            "object_position": null,
            "order": null,
            "overflow": null,
            "overflow_x": null,
            "overflow_y": null,
            "padding": null,
            "right": null,
            "top": null,
            "visibility": null,
            "width": null
          }
        },
        "2421db427e8e43d6bdadac68b04dfac2": {
          "model_module": "@jupyter-widgets/controls",
          "model_name": "DescriptionStyleModel",
          "model_module_version": "1.5.0",
          "state": {
            "_model_module": "@jupyter-widgets/controls",
            "_model_module_version": "1.5.0",
            "_model_name": "DescriptionStyleModel",
            "_view_count": null,
            "_view_module": "@jupyter-widgets/base",
            "_view_module_version": "1.2.0",
            "_view_name": "StyleView",
            "description_width": ""
          }
        },
        "0b3fc879aa914e6a8fd50407e252ba71": {
          "model_module": "@jupyter-widgets/controls",
          "model_name": "HBoxModel",
          "model_module_version": "1.5.0",
          "state": {
            "_dom_classes": [],
            "_model_module": "@jupyter-widgets/controls",
            "_model_module_version": "1.5.0",
            "_model_name": "HBoxModel",
            "_view_count": null,
            "_view_module": "@jupyter-widgets/controls",
            "_view_module_version": "1.5.0",
            "_view_name": "HBoxView",
            "box_style": "",
            "children": [
              "IPY_MODEL_4a20e3445c784d66822fd2c5a246d0ae",
              "IPY_MODEL_1c89f336641c445b8683acdc5b86109e",
              "IPY_MODEL_15fba271b0de415d9002d9492cd0869f"
            ],
            "layout": "IPY_MODEL_2c68505ab48a44ca89db5cf5977f5888"
          }
        },
        "4a20e3445c784d66822fd2c5a246d0ae": {
          "model_module": "@jupyter-widgets/controls",
          "model_name": "HTMLModel",
          "model_module_version": "1.5.0",
          "state": {
            "_dom_classes": [],
            "_model_module": "@jupyter-widgets/controls",
            "_model_module_version": "1.5.0",
            "_model_name": "HTMLModel",
            "_view_count": null,
            "_view_module": "@jupyter-widgets/controls",
            "_view_module_version": "1.5.0",
            "_view_name": "HTMLView",
            "description": "",
            "description_tooltip": null,
            "layout": "IPY_MODEL_555e259dea20426cb81443c7b52c6862",
            "placeholder": "​",
            "style": "IPY_MODEL_3210cb7d672a419097cd39e8d973ad94",
            "value": "Downloading embedding_model.ckpt: 100%"
          }
        },
        "1c89f336641c445b8683acdc5b86109e": {
          "model_module": "@jupyter-widgets/controls",
          "model_name": "FloatProgressModel",
          "model_module_version": "1.5.0",
          "state": {
            "_dom_classes": [],
            "_model_module": "@jupyter-widgets/controls",
            "_model_module_version": "1.5.0",
            "_model_name": "FloatProgressModel",
            "_view_count": null,
            "_view_module": "@jupyter-widgets/controls",
            "_view_module_version": "1.5.0",
            "_view_name": "ProgressView",
            "bar_style": "success",
            "description": "",
            "description_tooltip": null,
            "layout": "IPY_MODEL_088fc6458a234fccbfd823bb85013f7c",
            "max": 83316686,
            "min": 0,
            "orientation": "horizontal",
            "style": "IPY_MODEL_f13bddf99e7b44e6b621a04dcc03a627",
            "value": 83316686
          }
        },
        "15fba271b0de415d9002d9492cd0869f": {
          "model_module": "@jupyter-widgets/controls",
          "model_name": "HTMLModel",
          "model_module_version": "1.5.0",
          "state": {
            "_dom_classes": [],
            "_model_module": "@jupyter-widgets/controls",
            "_model_module_version": "1.5.0",
            "_model_name": "HTMLModel",
            "_view_count": null,
            "_view_module": "@jupyter-widgets/controls",
            "_view_module_version": "1.5.0",
            "_view_name": "HTMLView",
            "description": "",
            "description_tooltip": null,
            "layout": "IPY_MODEL_a27835a098b84512baec2301715ebe62",
            "placeholder": "​",
            "style": "IPY_MODEL_b8e0f88a2f0049999b0444212bec348d",
            "value": " 83.3M/83.3M [00:00&lt;00:00, 196MB/s]"
          }
        },
        "2c68505ab48a44ca89db5cf5977f5888": {
          "model_module": "@jupyter-widgets/base",
          "model_name": "LayoutModel",
          "model_module_version": "1.2.0",
          "state": {
            "_model_module": "@jupyter-widgets/base",
            "_model_module_version": "1.2.0",
            "_model_name": "LayoutModel",
            "_view_count": null,
            "_view_module": "@jupyter-widgets/base",
            "_view_module_version": "1.2.0",
            "_view_name": "LayoutView",
            "align_content": null,
            "align_items": null,
            "align_self": null,
            "border": null,
            "bottom": null,
            "display": null,
            "flex": null,
            "flex_flow": null,
            "grid_area": null,
            "grid_auto_columns": null,
            "grid_auto_flow": null,
            "grid_auto_rows": null,
            "grid_column": null,
            "grid_gap": null,
            "grid_row": null,
            "grid_template_areas": null,
            "grid_template_columns": null,
            "grid_template_rows": null,
            "height": null,
            "justify_content": null,
            "justify_items": null,
            "left": null,
            "margin": null,
            "max_height": null,
            "max_width": null,
            "min_height": null,
            "min_width": null,
            "object_fit": null,
            "object_position": null,
            "order": null,
            "overflow": null,
            "overflow_x": null,
            "overflow_y": null,
            "padding": null,
            "right": null,
            "top": null,
            "visibility": null,
            "width": null
          }
        },
        "555e259dea20426cb81443c7b52c6862": {
          "model_module": "@jupyter-widgets/base",
          "model_name": "LayoutModel",
          "model_module_version": "1.2.0",
          "state": {
            "_model_module": "@jupyter-widgets/base",
            "_model_module_version": "1.2.0",
            "_model_name": "LayoutModel",
            "_view_count": null,
            "_view_module": "@jupyter-widgets/base",
            "_view_module_version": "1.2.0",
            "_view_name": "LayoutView",
            "align_content": null,
            "align_items": null,
            "align_self": null,
            "border": null,
            "bottom": null,
            "display": null,
            "flex": null,
            "flex_flow": null,
            "grid_area": null,
            "grid_auto_columns": null,
            "grid_auto_flow": null,
            "grid_auto_rows": null,
            "grid_column": null,
            "grid_gap": null,
            "grid_row": null,
            "grid_template_areas": null,
            "grid_template_columns": null,
            "grid_template_rows": null,
            "height": null,
            "justify_content": null,
            "justify_items": null,
            "left": null,
            "margin": null,
            "max_height": null,
            "max_width": null,
            "min_height": null,
            "min_width": null,
            "object_fit": null,
            "object_position": null,
            "order": null,
            "overflow": null,
            "overflow_x": null,
            "overflow_y": null,
            "padding": null,
            "right": null,
            "top": null,
            "visibility": null,
            "width": null
          }
        },
        "3210cb7d672a419097cd39e8d973ad94": {
          "model_module": "@jupyter-widgets/controls",
          "model_name": "DescriptionStyleModel",
          "model_module_version": "1.5.0",
          "state": {
            "_model_module": "@jupyter-widgets/controls",
            "_model_module_version": "1.5.0",
            "_model_name": "DescriptionStyleModel",
            "_view_count": null,
            "_view_module": "@jupyter-widgets/base",
            "_view_module_version": "1.2.0",
            "_view_name": "StyleView",
            "description_width": ""
          }
        },
        "088fc6458a234fccbfd823bb85013f7c": {
          "model_module": "@jupyter-widgets/base",
          "model_name": "LayoutModel",
          "model_module_version": "1.2.0",
          "state": {
            "_model_module": "@jupyter-widgets/base",
            "_model_module_version": "1.2.0",
            "_model_name": "LayoutModel",
            "_view_count": null,
            "_view_module": "@jupyter-widgets/base",
            "_view_module_version": "1.2.0",
            "_view_name": "LayoutView",
            "align_content": null,
            "align_items": null,
            "align_self": null,
            "border": null,
            "bottom": null,
            "display": null,
            "flex": null,
            "flex_flow": null,
            "grid_area": null,
            "grid_auto_columns": null,
            "grid_auto_flow": null,
            "grid_auto_rows": null,
            "grid_column": null,
            "grid_gap": null,
            "grid_row": null,
            "grid_template_areas": null,
            "grid_template_columns": null,
            "grid_template_rows": null,
            "height": null,
            "justify_content": null,
            "justify_items": null,
            "left": null,
            "margin": null,
            "max_height": null,
            "max_width": null,
            "min_height": null,
            "min_width": null,
            "object_fit": null,
            "object_position": null,
            "order": null,
            "overflow": null,
            "overflow_x": null,
            "overflow_y": null,
            "padding": null,
            "right": null,
            "top": null,
            "visibility": null,
            "width": null
          }
        },
        "f13bddf99e7b44e6b621a04dcc03a627": {
          "model_module": "@jupyter-widgets/controls",
          "model_name": "ProgressStyleModel",
          "model_module_version": "1.5.0",
          "state": {
            "_model_module": "@jupyter-widgets/controls",
            "_model_module_version": "1.5.0",
            "_model_name": "ProgressStyleModel",
            "_view_count": null,
            "_view_module": "@jupyter-widgets/base",
            "_view_module_version": "1.2.0",
            "_view_name": "StyleView",
            "bar_color": null,
            "description_width": ""
          }
        },
        "a27835a098b84512baec2301715ebe62": {
          "model_module": "@jupyter-widgets/base",
          "model_name": "LayoutModel",
          "model_module_version": "1.2.0",
          "state": {
            "_model_module": "@jupyter-widgets/base",
            "_model_module_version": "1.2.0",
            "_model_name": "LayoutModel",
            "_view_count": null,
            "_view_module": "@jupyter-widgets/base",
            "_view_module_version": "1.2.0",
            "_view_name": "LayoutView",
            "align_content": null,
            "align_items": null,
            "align_self": null,
            "border": null,
            "bottom": null,
            "display": null,
            "flex": null,
            "flex_flow": null,
            "grid_area": null,
            "grid_auto_columns": null,
            "grid_auto_flow": null,
            "grid_auto_rows": null,
            "grid_column": null,
            "grid_gap": null,
            "grid_row": null,
            "grid_template_areas": null,
            "grid_template_columns": null,
            "grid_template_rows": null,
            "height": null,
            "justify_content": null,
            "justify_items": null,
            "left": null,
            "margin": null,
            "max_height": null,
            "max_width": null,
            "min_height": null,
            "min_width": null,
            "object_fit": null,
            "object_position": null,
            "order": null,
            "overflow": null,
            "overflow_x": null,
            "overflow_y": null,
            "padding": null,
            "right": null,
            "top": null,
            "visibility": null,
            "width": null
          }
        },
        "b8e0f88a2f0049999b0444212bec348d": {
          "model_module": "@jupyter-widgets/controls",
          "model_name": "DescriptionStyleModel",
          "model_module_version": "1.5.0",
          "state": {
            "_model_module": "@jupyter-widgets/controls",
            "_model_module_version": "1.5.0",
            "_model_name": "DescriptionStyleModel",
            "_view_count": null,
            "_view_module": "@jupyter-widgets/base",
            "_view_module_version": "1.2.0",
            "_view_name": "StyleView",
            "description_width": ""
          }
        },
        "bfaccf7d05234352b6e7aba288395669": {
          "model_module": "@jupyter-widgets/controls",
          "model_name": "HBoxModel",
          "model_module_version": "1.5.0",
          "state": {
            "_dom_classes": [],
            "_model_module": "@jupyter-widgets/controls",
            "_model_module_version": "1.5.0",
            "_model_name": "HBoxModel",
            "_view_count": null,
            "_view_module": "@jupyter-widgets/controls",
            "_view_module_version": "1.5.0",
            "_view_name": "HBoxView",
            "box_style": "",
            "children": [
              "IPY_MODEL_4a50f1e79ed04e5b8b1f3582b75bed31",
              "IPY_MODEL_688ec7c19bcf4eb890b58cca8b4bf1b6",
              "IPY_MODEL_ccd4d6b25d0743eaa24653a9f09aee75"
            ],
            "layout": "IPY_MODEL_04ee77b4dd9b4f27b5a038a953356524"
          }
        },
        "4a50f1e79ed04e5b8b1f3582b75bed31": {
          "model_module": "@jupyter-widgets/controls",
          "model_name": "HTMLModel",
          "model_module_version": "1.5.0",
          "state": {
            "_dom_classes": [],
            "_model_module": "@jupyter-widgets/controls",
            "_model_module_version": "1.5.0",
            "_model_name": "HTMLModel",
            "_view_count": null,
            "_view_module": "@jupyter-widgets/controls",
            "_view_module_version": "1.5.0",
            "_view_name": "HTMLView",
            "description": "",
            "description_tooltip": null,
            "layout": "IPY_MODEL_2cce526d275a43d492d7ae3063f6c005",
            "placeholder": "​",
            "style": "IPY_MODEL_5922384e6c81454284c96e9b5de74cba",
            "value": "Downloading (…)an_var_norm_emb.ckpt: 100%"
          }
        },
        "688ec7c19bcf4eb890b58cca8b4bf1b6": {
          "model_module": "@jupyter-widgets/controls",
          "model_name": "FloatProgressModel",
          "model_module_version": "1.5.0",
          "state": {
            "_dom_classes": [],
            "_model_module": "@jupyter-widgets/controls",
            "_model_module_version": "1.5.0",
            "_model_name": "FloatProgressModel",
            "_view_count": null,
            "_view_module": "@jupyter-widgets/controls",
            "_view_module_version": "1.5.0",
            "_view_name": "ProgressView",
            "bar_style": "success",
            "description": "",
            "description_tooltip": null,
            "layout": "IPY_MODEL_c480a1776dba4fabac0ddda822e86e8d",
            "max": 1921,
            "min": 0,
            "orientation": "horizontal",
            "style": "IPY_MODEL_bff86fb2f447477aa24f769e62881da8",
            "value": 1921
          }
        },
        "ccd4d6b25d0743eaa24653a9f09aee75": {
          "model_module": "@jupyter-widgets/controls",
          "model_name": "HTMLModel",
          "model_module_version": "1.5.0",
          "state": {
            "_dom_classes": [],
            "_model_module": "@jupyter-widgets/controls",
            "_model_module_version": "1.5.0",
            "_model_name": "HTMLModel",
            "_view_count": null,
            "_view_module": "@jupyter-widgets/controls",
            "_view_module_version": "1.5.0",
            "_view_name": "HTMLView",
            "description": "",
            "description_tooltip": null,
            "layout": "IPY_MODEL_9953234581254fcd9cbb8a45cd6a2dc1",
            "placeholder": "​",
            "style": "IPY_MODEL_fb3fc6b9e9bf4f689c3819389b4ec2b4",
            "value": " 1.92k/1.92k [00:00&lt;00:00, 155kB/s]"
          }
        },
        "04ee77b4dd9b4f27b5a038a953356524": {
          "model_module": "@jupyter-widgets/base",
          "model_name": "LayoutModel",
          "model_module_version": "1.2.0",
          "state": {
            "_model_module": "@jupyter-widgets/base",
            "_model_module_version": "1.2.0",
            "_model_name": "LayoutModel",
            "_view_count": null,
            "_view_module": "@jupyter-widgets/base",
            "_view_module_version": "1.2.0",
            "_view_name": "LayoutView",
            "align_content": null,
            "align_items": null,
            "align_self": null,
            "border": null,
            "bottom": null,
            "display": null,
            "flex": null,
            "flex_flow": null,
            "grid_area": null,
            "grid_auto_columns": null,
            "grid_auto_flow": null,
            "grid_auto_rows": null,
            "grid_column": null,
            "grid_gap": null,
            "grid_row": null,
            "grid_template_areas": null,
            "grid_template_columns": null,
            "grid_template_rows": null,
            "height": null,
            "justify_content": null,
            "justify_items": null,
            "left": null,
            "margin": null,
            "max_height": null,
            "max_width": null,
            "min_height": null,
            "min_width": null,
            "object_fit": null,
            "object_position": null,
            "order": null,
            "overflow": null,
            "overflow_x": null,
            "overflow_y": null,
            "padding": null,
            "right": null,
            "top": null,
            "visibility": null,
            "width": null
          }
        },
        "2cce526d275a43d492d7ae3063f6c005": {
          "model_module": "@jupyter-widgets/base",
          "model_name": "LayoutModel",
          "model_module_version": "1.2.0",
          "state": {
            "_model_module": "@jupyter-widgets/base",
            "_model_module_version": "1.2.0",
            "_model_name": "LayoutModel",
            "_view_count": null,
            "_view_module": "@jupyter-widgets/base",
            "_view_module_version": "1.2.0",
            "_view_name": "LayoutView",
            "align_content": null,
            "align_items": null,
            "align_self": null,
            "border": null,
            "bottom": null,
            "display": null,
            "flex": null,
            "flex_flow": null,
            "grid_area": null,
            "grid_auto_columns": null,
            "grid_auto_flow": null,
            "grid_auto_rows": null,
            "grid_column": null,
            "grid_gap": null,
            "grid_row": null,
            "grid_template_areas": null,
            "grid_template_columns": null,
            "grid_template_rows": null,
            "height": null,
            "justify_content": null,
            "justify_items": null,
            "left": null,
            "margin": null,
            "max_height": null,
            "max_width": null,
            "min_height": null,
            "min_width": null,
            "object_fit": null,
            "object_position": null,
            "order": null,
            "overflow": null,
            "overflow_x": null,
            "overflow_y": null,
            "padding": null,
            "right": null,
            "top": null,
            "visibility": null,
            "width": null
          }
        },
        "5922384e6c81454284c96e9b5de74cba": {
          "model_module": "@jupyter-widgets/controls",
          "model_name": "DescriptionStyleModel",
          "model_module_version": "1.5.0",
          "state": {
            "_model_module": "@jupyter-widgets/controls",
            "_model_module_version": "1.5.0",
            "_model_name": "DescriptionStyleModel",
            "_view_count": null,
            "_view_module": "@jupyter-widgets/base",
            "_view_module_version": "1.2.0",
            "_view_name": "StyleView",
            "description_width": ""
          }
        },
        "c480a1776dba4fabac0ddda822e86e8d": {
          "model_module": "@jupyter-widgets/base",
          "model_name": "LayoutModel",
          "model_module_version": "1.2.0",
          "state": {
            "_model_module": "@jupyter-widgets/base",
            "_model_module_version": "1.2.0",
            "_model_name": "LayoutModel",
            "_view_count": null,
            "_view_module": "@jupyter-widgets/base",
            "_view_module_version": "1.2.0",
            "_view_name": "LayoutView",
            "align_content": null,
            "align_items": null,
            "align_self": null,
            "border": null,
            "bottom": null,
            "display": null,
            "flex": null,
            "flex_flow": null,
            "grid_area": null,
            "grid_auto_columns": null,
            "grid_auto_flow": null,
            "grid_auto_rows": null,
            "grid_column": null,
            "grid_gap": null,
            "grid_row": null,
            "grid_template_areas": null,
            "grid_template_columns": null,
            "grid_template_rows": null,
            "height": null,
            "justify_content": null,
            "justify_items": null,
            "left": null,
            "margin": null,
            "max_height": null,
            "max_width": null,
            "min_height": null,
            "min_width": null,
            "object_fit": null,
            "object_position": null,
            "order": null,
            "overflow": null,
            "overflow_x": null,
            "overflow_y": null,
            "padding": null,
            "right": null,
            "top": null,
            "visibility": null,
            "width": null
          }
        },
        "bff86fb2f447477aa24f769e62881da8": {
          "model_module": "@jupyter-widgets/controls",
          "model_name": "ProgressStyleModel",
          "model_module_version": "1.5.0",
          "state": {
            "_model_module": "@jupyter-widgets/controls",
            "_model_module_version": "1.5.0",
            "_model_name": "ProgressStyleModel",
            "_view_count": null,
            "_view_module": "@jupyter-widgets/base",
            "_view_module_version": "1.2.0",
            "_view_name": "StyleView",
            "bar_color": null,
            "description_width": ""
          }
        },
        "9953234581254fcd9cbb8a45cd6a2dc1": {
          "model_module": "@jupyter-widgets/base",
          "model_name": "LayoutModel",
          "model_module_version": "1.2.0",
          "state": {
            "_model_module": "@jupyter-widgets/base",
            "_model_module_version": "1.2.0",
            "_model_name": "LayoutModel",
            "_view_count": null,
            "_view_module": "@jupyter-widgets/base",
            "_view_module_version": "1.2.0",
            "_view_name": "LayoutView",
            "align_content": null,
            "align_items": null,
            "align_self": null,
            "border": null,
            "bottom": null,
            "display": null,
            "flex": null,
            "flex_flow": null,
            "grid_area": null,
            "grid_auto_columns": null,
            "grid_auto_flow": null,
            "grid_auto_rows": null,
            "grid_column": null,
            "grid_gap": null,
            "grid_row": null,
            "grid_template_areas": null,
            "grid_template_columns": null,
            "grid_template_rows": null,
            "height": null,
            "justify_content": null,
            "justify_items": null,
            "left": null,
            "margin": null,
            "max_height": null,
            "max_width": null,
            "min_height": null,
            "min_width": null,
            "object_fit": null,
            "object_position": null,
            "order": null,
            "overflow": null,
            "overflow_x": null,
            "overflow_y": null,
            "padding": null,
            "right": null,
            "top": null,
            "visibility": null,
            "width": null
          }
        },
        "fb3fc6b9e9bf4f689c3819389b4ec2b4": {
          "model_module": "@jupyter-widgets/controls",
          "model_name": "DescriptionStyleModel",
          "model_module_version": "1.5.0",
          "state": {
            "_model_module": "@jupyter-widgets/controls",
            "_model_module_version": "1.5.0",
            "_model_name": "DescriptionStyleModel",
            "_view_count": null,
            "_view_module": "@jupyter-widgets/base",
            "_view_module_version": "1.2.0",
            "_view_name": "StyleView",
            "description_width": ""
          }
        },
        "6b3f8961f82b4cf4942b4098568a72e4": {
          "model_module": "@jupyter-widgets/controls",
          "model_name": "HBoxModel",
          "model_module_version": "1.5.0",
          "state": {
            "_dom_classes": [],
            "_model_module": "@jupyter-widgets/controls",
            "_model_module_version": "1.5.0",
            "_model_name": "HBoxModel",
            "_view_count": null,
            "_view_module": "@jupyter-widgets/controls",
            "_view_module_version": "1.5.0",
            "_view_name": "HBoxView",
            "box_style": "",
            "children": [
              "IPY_MODEL_a2ba1ddc795d4df8a5d7507e0a90fa37",
              "IPY_MODEL_3c3478bf2d344015b0156aec3e074d77",
              "IPY_MODEL_c71a5bcab4b149c09f4c418d2b8df29b"
            ],
            "layout": "IPY_MODEL_69c97ea54347487c94083b1b12f0dc65"
          }
        },
        "a2ba1ddc795d4df8a5d7507e0a90fa37": {
          "model_module": "@jupyter-widgets/controls",
          "model_name": "HTMLModel",
          "model_module_version": "1.5.0",
          "state": {
            "_dom_classes": [],
            "_model_module": "@jupyter-widgets/controls",
            "_model_module_version": "1.5.0",
            "_model_name": "HTMLModel",
            "_view_count": null,
            "_view_module": "@jupyter-widgets/controls",
            "_view_module_version": "1.5.0",
            "_view_name": "HTMLView",
            "description": "",
            "description_tooltip": null,
            "layout": "IPY_MODEL_d8165d8a1fe04bb68f6b6a3a15da01a0",
            "placeholder": "​",
            "style": "IPY_MODEL_d546a162c86e403c8f149d8c87862a47",
            "value": "Downloading classifier.ckpt: 100%"
          }
        },
        "3c3478bf2d344015b0156aec3e074d77": {
          "model_module": "@jupyter-widgets/controls",
          "model_name": "FloatProgressModel",
          "model_module_version": "1.5.0",
          "state": {
            "_dom_classes": [],
            "_model_module": "@jupyter-widgets/controls",
            "_model_module_version": "1.5.0",
            "_model_name": "FloatProgressModel",
            "_view_count": null,
            "_view_module": "@jupyter-widgets/controls",
            "_view_module_version": "1.5.0",
            "_view_name": "ProgressView",
            "bar_style": "success",
            "description": "",
            "description_tooltip": null,
            "layout": "IPY_MODEL_b1217ea0a8304ebda760269b25cc417c",
            "max": 5534328,
            "min": 0,
            "orientation": "horizontal",
            "style": "IPY_MODEL_67720cd7c91244e1a3aa45696bc3593e",
            "value": 5534328
          }
        },
        "c71a5bcab4b149c09f4c418d2b8df29b": {
          "model_module": "@jupyter-widgets/controls",
          "model_name": "HTMLModel",
          "model_module_version": "1.5.0",
          "state": {
            "_dom_classes": [],
            "_model_module": "@jupyter-widgets/controls",
            "_model_module_version": "1.5.0",
            "_model_name": "HTMLModel",
            "_view_count": null,
            "_view_module": "@jupyter-widgets/controls",
            "_view_module_version": "1.5.0",
            "_view_name": "HTMLView",
            "description": "",
            "description_tooltip": null,
            "layout": "IPY_MODEL_796bb7861dd7444e8cac66a360e1beb2",
            "placeholder": "​",
            "style": "IPY_MODEL_522d8075a75b4f709461e25c09c78374",
            "value": " 5.53M/5.53M [00:00&lt;00:00, 117MB/s]"
          }
        },
        "69c97ea54347487c94083b1b12f0dc65": {
          "model_module": "@jupyter-widgets/base",
          "model_name": "LayoutModel",
          "model_module_version": "1.2.0",
          "state": {
            "_model_module": "@jupyter-widgets/base",
            "_model_module_version": "1.2.0",
            "_model_name": "LayoutModel",
            "_view_count": null,
            "_view_module": "@jupyter-widgets/base",
            "_view_module_version": "1.2.0",
            "_view_name": "LayoutView",
            "align_content": null,
            "align_items": null,
            "align_self": null,
            "border": null,
            "bottom": null,
            "display": null,
            "flex": null,
            "flex_flow": null,
            "grid_area": null,
            "grid_auto_columns": null,
            "grid_auto_flow": null,
            "grid_auto_rows": null,
            "grid_column": null,
            "grid_gap": null,
            "grid_row": null,
            "grid_template_areas": null,
            "grid_template_columns": null,
            "grid_template_rows": null,
            "height": null,
            "justify_content": null,
            "justify_items": null,
            "left": null,
            "margin": null,
            "max_height": null,
            "max_width": null,
            "min_height": null,
            "min_width": null,
            "object_fit": null,
            "object_position": null,
            "order": null,
            "overflow": null,
            "overflow_x": null,
            "overflow_y": null,
            "padding": null,
            "right": null,
            "top": null,
            "visibility": null,
            "width": null
          }
        },
        "d8165d8a1fe04bb68f6b6a3a15da01a0": {
          "model_module": "@jupyter-widgets/base",
          "model_name": "LayoutModel",
          "model_module_version": "1.2.0",
          "state": {
            "_model_module": "@jupyter-widgets/base",
            "_model_module_version": "1.2.0",
            "_model_name": "LayoutModel",
            "_view_count": null,
            "_view_module": "@jupyter-widgets/base",
            "_view_module_version": "1.2.0",
            "_view_name": "LayoutView",
            "align_content": null,
            "align_items": null,
            "align_self": null,
            "border": null,
            "bottom": null,
            "display": null,
            "flex": null,
            "flex_flow": null,
            "grid_area": null,
            "grid_auto_columns": null,
            "grid_auto_flow": null,
            "grid_auto_rows": null,
            "grid_column": null,
            "grid_gap": null,
            "grid_row": null,
            "grid_template_areas": null,
            "grid_template_columns": null,
            "grid_template_rows": null,
            "height": null,
            "justify_content": null,
            "justify_items": null,
            "left": null,
            "margin": null,
            "max_height": null,
            "max_width": null,
            "min_height": null,
            "min_width": null,
            "object_fit": null,
            "object_position": null,
            "order": null,
            "overflow": null,
            "overflow_x": null,
            "overflow_y": null,
            "padding": null,
            "right": null,
            "top": null,
            "visibility": null,
            "width": null
          }
        },
        "d546a162c86e403c8f149d8c87862a47": {
          "model_module": "@jupyter-widgets/controls",
          "model_name": "DescriptionStyleModel",
          "model_module_version": "1.5.0",
          "state": {
            "_model_module": "@jupyter-widgets/controls",
            "_model_module_version": "1.5.0",
            "_model_name": "DescriptionStyleModel",
            "_view_count": null,
            "_view_module": "@jupyter-widgets/base",
            "_view_module_version": "1.2.0",
            "_view_name": "StyleView",
            "description_width": ""
          }
        },
        "b1217ea0a8304ebda760269b25cc417c": {
          "model_module": "@jupyter-widgets/base",
          "model_name": "LayoutModel",
          "model_module_version": "1.2.0",
          "state": {
            "_model_module": "@jupyter-widgets/base",
            "_model_module_version": "1.2.0",
            "_model_name": "LayoutModel",
            "_view_count": null,
            "_view_module": "@jupyter-widgets/base",
            "_view_module_version": "1.2.0",
            "_view_name": "LayoutView",
            "align_content": null,
            "align_items": null,
            "align_self": null,
            "border": null,
            "bottom": null,
            "display": null,
            "flex": null,
            "flex_flow": null,
            "grid_area": null,
            "grid_auto_columns": null,
            "grid_auto_flow": null,
            "grid_auto_rows": null,
            "grid_column": null,
            "grid_gap": null,
            "grid_row": null,
            "grid_template_areas": null,
            "grid_template_columns": null,
            "grid_template_rows": null,
            "height": null,
            "justify_content": null,
            "justify_items": null,
            "left": null,
            "margin": null,
            "max_height": null,
            "max_width": null,
            "min_height": null,
            "min_width": null,
            "object_fit": null,
            "object_position": null,
            "order": null,
            "overflow": null,
            "overflow_x": null,
            "overflow_y": null,
            "padding": null,
            "right": null,
            "top": null,
            "visibility": null,
            "width": null
          }
        },
        "67720cd7c91244e1a3aa45696bc3593e": {
          "model_module": "@jupyter-widgets/controls",
          "model_name": "ProgressStyleModel",
          "model_module_version": "1.5.0",
          "state": {
            "_model_module": "@jupyter-widgets/controls",
            "_model_module_version": "1.5.0",
            "_model_name": "ProgressStyleModel",
            "_view_count": null,
            "_view_module": "@jupyter-widgets/base",
            "_view_module_version": "1.2.0",
            "_view_name": "StyleView",
            "bar_color": null,
            "description_width": ""
          }
        },
        "796bb7861dd7444e8cac66a360e1beb2": {
          "model_module": "@jupyter-widgets/base",
          "model_name": "LayoutModel",
          "model_module_version": "1.2.0",
          "state": {
            "_model_module": "@jupyter-widgets/base",
            "_model_module_version": "1.2.0",
            "_model_name": "LayoutModel",
            "_view_count": null,
            "_view_module": "@jupyter-widgets/base",
            "_view_module_version": "1.2.0",
            "_view_name": "LayoutView",
            "align_content": null,
            "align_items": null,
            "align_self": null,
            "border": null,
            "bottom": null,
            "display": null,
            "flex": null,
            "flex_flow": null,
            "grid_area": null,
            "grid_auto_columns": null,
            "grid_auto_flow": null,
            "grid_auto_rows": null,
            "grid_column": null,
            "grid_gap": null,
            "grid_row": null,
            "grid_template_areas": null,
            "grid_template_columns": null,
            "grid_template_rows": null,
            "height": null,
            "justify_content": null,
            "justify_items": null,
            "left": null,
            "margin": null,
            "max_height": null,
            "max_width": null,
            "min_height": null,
            "min_width": null,
            "object_fit": null,
            "object_position": null,
            "order": null,
            "overflow": null,
            "overflow_x": null,
            "overflow_y": null,
            "padding": null,
            "right": null,
            "top": null,
            "visibility": null,
            "width": null
          }
        },
        "522d8075a75b4f709461e25c09c78374": {
          "model_module": "@jupyter-widgets/controls",
          "model_name": "DescriptionStyleModel",
          "model_module_version": "1.5.0",
          "state": {
            "_model_module": "@jupyter-widgets/controls",
            "_model_module_version": "1.5.0",
            "_model_name": "DescriptionStyleModel",
            "_view_count": null,
            "_view_module": "@jupyter-widgets/base",
            "_view_module_version": "1.2.0",
            "_view_name": "StyleView",
            "description_width": ""
          }
        },
        "6bbea2bde02944888270400ef6f701c0": {
          "model_module": "@jupyter-widgets/controls",
          "model_name": "HBoxModel",
          "model_module_version": "1.5.0",
          "state": {
            "_dom_classes": [],
            "_model_module": "@jupyter-widgets/controls",
            "_model_module_version": "1.5.0",
            "_model_name": "HBoxModel",
            "_view_count": null,
            "_view_module": "@jupyter-widgets/controls",
            "_view_module_version": "1.5.0",
            "_view_name": "HBoxView",
            "box_style": "",
            "children": [
              "IPY_MODEL_c338199618534cf3bdfde3a610fcd1fa",
              "IPY_MODEL_60e65b4416b844d09e597db034d02cf4",
              "IPY_MODEL_66ed520a88dc4f3db1f2e324bd868623"
            ],
            "layout": "IPY_MODEL_d9390450c1a64394aee46259185c8f43"
          }
        },
        "c338199618534cf3bdfde3a610fcd1fa": {
          "model_module": "@jupyter-widgets/controls",
          "model_name": "HTMLModel",
          "model_module_version": "1.5.0",
          "state": {
            "_dom_classes": [],
            "_model_module": "@jupyter-widgets/controls",
            "_model_module_version": "1.5.0",
            "_model_name": "HTMLModel",
            "_view_count": null,
            "_view_module": "@jupyter-widgets/controls",
            "_view_module_version": "1.5.0",
            "_view_name": "HTMLView",
            "description": "",
            "description_tooltip": null,
            "layout": "IPY_MODEL_6449580b62cb42d5b0972e6260492f27",
            "placeholder": "​",
            "style": "IPY_MODEL_1cfdd86586214cf69378b93f25cea2d4",
            "value": "Downloading (…)in/label_encoder.txt: 100%"
          }
        },
        "60e65b4416b844d09e597db034d02cf4": {
          "model_module": "@jupyter-widgets/controls",
          "model_name": "FloatProgressModel",
          "model_module_version": "1.5.0",
          "state": {
            "_dom_classes": [],
            "_model_module": "@jupyter-widgets/controls",
            "_model_module_version": "1.5.0",
            "_model_name": "FloatProgressModel",
            "_view_count": null,
            "_view_module": "@jupyter-widgets/controls",
            "_view_module_version": "1.5.0",
            "_view_name": "ProgressView",
            "bar_style": "success",
            "description": "",
            "description_tooltip": null,
            "layout": "IPY_MODEL_034561b6ac4340808ee5d08a18850ea0",
            "max": 128619,
            "min": 0,
            "orientation": "horizontal",
            "style": "IPY_MODEL_5a78fa16850e4fd0900d108646fcd4b3",
            "value": 128619
          }
        },
        "66ed520a88dc4f3db1f2e324bd868623": {
          "model_module": "@jupyter-widgets/controls",
          "model_name": "HTMLModel",
          "model_module_version": "1.5.0",
          "state": {
            "_dom_classes": [],
            "_model_module": "@jupyter-widgets/controls",
            "_model_module_version": "1.5.0",
            "_model_name": "HTMLModel",
            "_view_count": null,
            "_view_module": "@jupyter-widgets/controls",
            "_view_module_version": "1.5.0",
            "_view_name": "HTMLView",
            "description": "",
            "description_tooltip": null,
            "layout": "IPY_MODEL_8d73cd518b6a456c9710c1d94fe02fb1",
            "placeholder": "​",
            "style": "IPY_MODEL_1fb554404f4c4eac8fae26b026a2bf11",
            "value": " 129k/129k [00:00&lt;00:00, 4.57MB/s]"
          }
        },
        "d9390450c1a64394aee46259185c8f43": {
          "model_module": "@jupyter-widgets/base",
          "model_name": "LayoutModel",
          "model_module_version": "1.2.0",
          "state": {
            "_model_module": "@jupyter-widgets/base",
            "_model_module_version": "1.2.0",
            "_model_name": "LayoutModel",
            "_view_count": null,
            "_view_module": "@jupyter-widgets/base",
            "_view_module_version": "1.2.0",
            "_view_name": "LayoutView",
            "align_content": null,
            "align_items": null,
            "align_self": null,
            "border": null,
            "bottom": null,
            "display": null,
            "flex": null,
            "flex_flow": null,
            "grid_area": null,
            "grid_auto_columns": null,
            "grid_auto_flow": null,
            "grid_auto_rows": null,
            "grid_column": null,
            "grid_gap": null,
            "grid_row": null,
            "grid_template_areas": null,
            "grid_template_columns": null,
            "grid_template_rows": null,
            "height": null,
            "justify_content": null,
            "justify_items": null,
            "left": null,
            "margin": null,
            "max_height": null,
            "max_width": null,
            "min_height": null,
            "min_width": null,
            "object_fit": null,
            "object_position": null,
            "order": null,
            "overflow": null,
            "overflow_x": null,
            "overflow_y": null,
            "padding": null,
            "right": null,
            "top": null,
            "visibility": null,
            "width": null
          }
        },
        "6449580b62cb42d5b0972e6260492f27": {
          "model_module": "@jupyter-widgets/base",
          "model_name": "LayoutModel",
          "model_module_version": "1.2.0",
          "state": {
            "_model_module": "@jupyter-widgets/base",
            "_model_module_version": "1.2.0",
            "_model_name": "LayoutModel",
            "_view_count": null,
            "_view_module": "@jupyter-widgets/base",
            "_view_module_version": "1.2.0",
            "_view_name": "LayoutView",
            "align_content": null,
            "align_items": null,
            "align_self": null,
            "border": null,
            "bottom": null,
            "display": null,
            "flex": null,
            "flex_flow": null,
            "grid_area": null,
            "grid_auto_columns": null,
            "grid_auto_flow": null,
            "grid_auto_rows": null,
            "grid_column": null,
            "grid_gap": null,
            "grid_row": null,
            "grid_template_areas": null,
            "grid_template_columns": null,
            "grid_template_rows": null,
            "height": null,
            "justify_content": null,
            "justify_items": null,
            "left": null,
            "margin": null,
            "max_height": null,
            "max_width": null,
            "min_height": null,
            "min_width": null,
            "object_fit": null,
            "object_position": null,
            "order": null,
            "overflow": null,
            "overflow_x": null,
            "overflow_y": null,
            "padding": null,
            "right": null,
            "top": null,
            "visibility": null,
            "width": null
          }
        },
        "1cfdd86586214cf69378b93f25cea2d4": {
          "model_module": "@jupyter-widgets/controls",
          "model_name": "DescriptionStyleModel",
          "model_module_version": "1.5.0",
          "state": {
            "_model_module": "@jupyter-widgets/controls",
            "_model_module_version": "1.5.0",
            "_model_name": "DescriptionStyleModel",
            "_view_count": null,
            "_view_module": "@jupyter-widgets/base",
            "_view_module_version": "1.2.0",
            "_view_name": "StyleView",
            "description_width": ""
          }
        },
        "034561b6ac4340808ee5d08a18850ea0": {
          "model_module": "@jupyter-widgets/base",
          "model_name": "LayoutModel",
          "model_module_version": "1.2.0",
          "state": {
            "_model_module": "@jupyter-widgets/base",
            "_model_module_version": "1.2.0",
            "_model_name": "LayoutModel",
            "_view_count": null,
            "_view_module": "@jupyter-widgets/base",
            "_view_module_version": "1.2.0",
            "_view_name": "LayoutView",
            "align_content": null,
            "align_items": null,
            "align_self": null,
            "border": null,
            "bottom": null,
            "display": null,
            "flex": null,
            "flex_flow": null,
            "grid_area": null,
            "grid_auto_columns": null,
            "grid_auto_flow": null,
            "grid_auto_rows": null,
            "grid_column": null,
            "grid_gap": null,
            "grid_row": null,
            "grid_template_areas": null,
            "grid_template_columns": null,
            "grid_template_rows": null,
            "height": null,
            "justify_content": null,
            "justify_items": null,
            "left": null,
            "margin": null,
            "max_height": null,
            "max_width": null,
            "min_height": null,
            "min_width": null,
            "object_fit": null,
            "object_position": null,
            "order": null,
            "overflow": null,
            "overflow_x": null,
            "overflow_y": null,
            "padding": null,
            "right": null,
            "top": null,
            "visibility": null,
            "width": null
          }
        },
        "5a78fa16850e4fd0900d108646fcd4b3": {
          "model_module": "@jupyter-widgets/controls",
          "model_name": "ProgressStyleModel",
          "model_module_version": "1.5.0",
          "state": {
            "_model_module": "@jupyter-widgets/controls",
            "_model_module_version": "1.5.0",
            "_model_name": "ProgressStyleModel",
            "_view_count": null,
            "_view_module": "@jupyter-widgets/base",
            "_view_module_version": "1.2.0",
            "_view_name": "StyleView",
            "bar_color": null,
            "description_width": ""
          }
        },
        "8d73cd518b6a456c9710c1d94fe02fb1": {
          "model_module": "@jupyter-widgets/base",
          "model_name": "LayoutModel",
          "model_module_version": "1.2.0",
          "state": {
            "_model_module": "@jupyter-widgets/base",
            "_model_module_version": "1.2.0",
            "_model_name": "LayoutModel",
            "_view_count": null,
            "_view_module": "@jupyter-widgets/base",
            "_view_module_version": "1.2.0",
            "_view_name": "LayoutView",
            "align_content": null,
            "align_items": null,
            "align_self": null,
            "border": null,
            "bottom": null,
            "display": null,
            "flex": null,
            "flex_flow": null,
            "grid_area": null,
            "grid_auto_columns": null,
            "grid_auto_flow": null,
            "grid_auto_rows": null,
            "grid_column": null,
            "grid_gap": null,
            "grid_row": null,
            "grid_template_areas": null,
            "grid_template_columns": null,
            "grid_template_rows": null,
            "height": null,
            "justify_content": null,
            "justify_items": null,
            "left": null,
            "margin": null,
            "max_height": null,
            "max_width": null,
            "min_height": null,
            "min_width": null,
            "object_fit": null,
            "object_position": null,
            "order": null,
            "overflow": null,
            "overflow_x": null,
            "overflow_y": null,
            "padding": null,
            "right": null,
            "top": null,
            "visibility": null,
            "width": null
          }
        },
        "1fb554404f4c4eac8fae26b026a2bf11": {
          "model_module": "@jupyter-widgets/controls",
          "model_name": "DescriptionStyleModel",
          "model_module_version": "1.5.0",
          "state": {
            "_model_module": "@jupyter-widgets/controls",
            "_model_module_version": "1.5.0",
            "_model_name": "DescriptionStyleModel",
            "_view_count": null,
            "_view_module": "@jupyter-widgets/base",
            "_view_module_version": "1.2.0",
            "_view_name": "StyleView",
            "description_width": ""
          }
        }
      }
    }
  },
  "cells": [
    {
      "cell_type": "markdown",
      "metadata": {
        "id": "HND7bB_1S07R"
      },
      "source": [
        "## Installing Dependencies"
      ]
    },
    {
      "cell_type": "code",
      "source": [
        "from google.colab import drive\n",
        "drive.mount('/content/drive')"
      ],
      "metadata": {
        "colab": {
          "base_uri": "https://localhost:8080/"
        },
        "id": "AvhcIZZJiG4E",
        "outputId": "40cfa8b7-4e91-4cb8-d4bd-8fc9a2bf649f"
      },
      "execution_count": null,
      "outputs": [
        {
          "output_type": "stream",
          "name": "stdout",
          "text": [
            "Mounted at /content/drive\n"
          ]
        }
      ]
    },
    {
      "cell_type": "code",
      "source": [
        "import zipfile"
      ],
      "metadata": {
        "id": "MIL78_qDHQ4R"
      },
      "execution_count": null,
      "outputs": []
    },
    {
      "cell_type": "code",
      "source": [
        "#%%capture\n",
        "#!pip install speechbrain"
      ],
      "metadata": {
        "id": "BP-Orw6Q63em"
      },
      "execution_count": null,
      "outputs": []
    },
    {
      "cell_type": "code",
      "source": [
        "!pip install gdown "
      ],
      "metadata": {
        "colab": {
          "base_uri": "https://localhost:8080/"
        },
        "id": "kDPRjPNpJEYK",
        "outputId": "40caad1e-6149-4111-df23-3de15d3afbbc"
      },
      "execution_count": null,
      "outputs": [
        {
          "output_type": "stream",
          "name": "stdout",
          "text": [
            "Looking in indexes: https://pypi.org/simple, https://us-python.pkg.dev/colab-wheels/public/simple/\n",
            "Requirement already satisfied: gdown in /usr/local/lib/python3.10/dist-packages (4.6.6)\n",
            "Requirement already satisfied: requests[socks] in /usr/local/lib/python3.10/dist-packages (from gdown) (2.27.1)\n",
            "Requirement already satisfied: tqdm in /usr/local/lib/python3.10/dist-packages (from gdown) (4.65.0)\n",
            "Requirement already satisfied: beautifulsoup4 in /usr/local/lib/python3.10/dist-packages (from gdown) (4.11.2)\n",
            "Requirement already satisfied: six in /usr/local/lib/python3.10/dist-packages (from gdown) (1.16.0)\n",
            "Requirement already satisfied: filelock in /usr/local/lib/python3.10/dist-packages (from gdown) (3.12.0)\n",
            "Requirement already satisfied: soupsieve>1.2 in /usr/local/lib/python3.10/dist-packages (from beautifulsoup4->gdown) (2.4.1)\n",
            "Requirement already satisfied: urllib3<1.27,>=1.21.1 in /usr/local/lib/python3.10/dist-packages (from requests[socks]->gdown) (1.26.15)\n",
            "Requirement already satisfied: charset-normalizer~=2.0.0 in /usr/local/lib/python3.10/dist-packages (from requests[socks]->gdown) (2.0.12)\n",
            "Requirement already satisfied: idna<4,>=2.5 in /usr/local/lib/python3.10/dist-packages (from requests[socks]->gdown) (3.4)\n",
            "Requirement already satisfied: certifi>=2017.4.17 in /usr/local/lib/python3.10/dist-packages (from requests[socks]->gdown) (2022.12.7)\n",
            "Requirement already satisfied: PySocks!=1.5.7,>=1.5.6 in /usr/local/lib/python3.10/dist-packages (from requests[socks]->gdown) (1.7.1)\n"
          ]
        }
      ]
    },
    {
      "cell_type": "code",
      "source": [
        "!pip install tqdm"
      ],
      "metadata": {
        "colab": {
          "base_uri": "https://localhost:8080/"
        },
        "id": "0L94JV25RxWI",
        "outputId": "36ff43fa-788e-4351-dce0-cdf4c85a678b"
      },
      "execution_count": null,
      "outputs": [
        {
          "output_type": "stream",
          "name": "stdout",
          "text": [
            "Looking in indexes: https://pypi.org/simple, https://us-python.pkg.dev/colab-wheels/public/simple/\n",
            "Requirement already satisfied: tqdm in /usr/local/lib/python3.10/dist-packages (4.65.0)\n"
          ]
        }
      ]
    },
    {
      "cell_type": "code",
      "source": [
        "import gdown \n",
        "gdown.download_folder('https://drive.google.com/drive/u/1/folders/1TmDAnOxqLdaCpPCBCeN3Hi3B5MyM_CTY', quiet=True)"
      ],
      "metadata": {
        "colab": {
          "base_uri": "https://localhost:8080/"
        },
        "id": "6SzrQScfJGHo",
        "outputId": "0815b823-a5d7-4d63-d357-10853f7600d4"
      },
      "execution_count": null,
      "outputs": [
        {
          "output_type": "execute_result",
          "data": {
            "text/plain": [
              "['/content/MI Attack files/losses_test.npy',\n",
              " '/content/MI Attack files/losses_train.npy',\n",
              " '/content/MI Attack files/losses_val.npy',\n",
              " '/content/MI Attack files/speaker_test.csv',\n",
              " '/content/MI Attack files/speaker_train.csv',\n",
              " '/content/MI Attack files/test_2.csv',\n",
              " '/content/MI Attack files/test_confidences.npy',\n",
              " '/content/MI Attack files/test.csv',\n",
              " '/content/MI Attack files/train_2.csv',\n",
              " '/content/MI Attack files/train_confidences.npy',\n",
              " '/content/MI Attack files/train.csv',\n",
              " '/content/MI Attack files/val_confidences.npy',\n",
              " '/content/MI Attack files/val.csv']"
            ]
          },
          "metadata": {},
          "execution_count": 6
        }
      ]
    },
    {
      "cell_type": "code",
      "source": [
        "\n",
        "import pandas as pd\n",
        "import os\n",
        "from tqdm import tqdm\n"
      ],
      "metadata": {
        "id": "q1VCPBLiEcOA"
      },
      "execution_count": null,
      "outputs": []
    },
    {
      "cell_type": "code",
      "source": [
        "train_df2 = pd.read_csv('/content/MI Attack files/train_2.csv').sample(frac=1).reset_index(drop=True)\n",
        "test_df2 = pd.read_csv('/content/MI Attack files/test_2.csv').sample(frac=1).reset_index(drop=True)"
      ],
      "metadata": {
        "id": "5m4zhdc3aZqU"
      },
      "execution_count": null,
      "outputs": []
    },
    {
      "cell_type": "code",
      "source": [
        "train_df = pd.read_csv('/content/drive/MyDrive/MI Attack files/speaker_train.csv').sample(frac=1).reset_index(drop=True)\n",
        "test_df = pd.read_csv('/content/drive/MyDrive/MI Attack files/speaker_test.csv').sample(frac=1).reset_index(drop=True)"
      ],
      "metadata": {
        "id": "IrtGztWKIPWK"
      },
      "execution_count": null,
      "outputs": []
    },
    {
      "cell_type": "code",
      "source": [
        "train_df = train_df.rename(columns={\"label\": \"present_label\"})\n",
        "test_df  = test_df.rename(columns={\"label\": \"present_label\"})"
      ],
      "metadata": {
        "id": "be9hTbt1gUFq"
      },
      "execution_count": null,
      "outputs": []
    },
    {
      "cell_type": "code",
      "source": [
        "train_df"
      ],
      "metadata": {
        "colab": {
          "base_uri": "https://localhost:8080/",
          "height": 423
        },
        "id": "gCModtCxZhte",
        "outputId": "e0d81b00-e3f6-4301-c27b-1dca3764dd7a"
      },
      "execution_count": null,
      "outputs": [
        {
          "output_type": "execute_result",
          "data": {
            "text/plain": [
              "                                 wav   start    stop   spk_id  present_label\n",
              "0      id10946/CSMzcozTg08/00007.wav   96000  144000  id10946            1.0\n",
              "1      id10885/8V52SLc8oOo/00005.wav  192000  240000  id10885            1.0\n",
              "2      id11052/XxjzVnXJfpc/00005.wav   48000   96000  id11052            1.0\n",
              "3      id10312/5oDO9Avn0qg/00001.wav  144000  192000  id10312            1.0\n",
              "4      id10290/A3QwQ3D35rc/00002.wav       0   48000  id10290            0.0\n",
              "...                              ...     ...     ...      ...            ...\n",
              "15995  id10276/3vWez3baO60/00008.wav  144000  192000  id10276            0.0\n",
              "15996  id10003/FfmnkloV_zg/00002.wav       0   48000  id10003            1.0\n",
              "15997  id10307/yUv37vQWmzE/00011.wav  144000  192000  id10307            0.0\n",
              "15998  id10294/NRMQOFYS41I/00007.wav       0   48000  id10294            0.0\n",
              "15999  id10328/Amta5qpAl0M/00013.wav   48000   96000  id10328            1.0\n",
              "\n",
              "[16000 rows x 5 columns]"
            ],
            "text/html": [
              "\n",
              "  <div id=\"df-80f4bcd5-b2a3-4f28-82c5-d2f081d2ee96\">\n",
              "    <div class=\"colab-df-container\">\n",
              "      <div>\n",
              "<style scoped>\n",
              "    .dataframe tbody tr th:only-of-type {\n",
              "        vertical-align: middle;\n",
              "    }\n",
              "\n",
              "    .dataframe tbody tr th {\n",
              "        vertical-align: top;\n",
              "    }\n",
              "\n",
              "    .dataframe thead th {\n",
              "        text-align: right;\n",
              "    }\n",
              "</style>\n",
              "<table border=\"1\" class=\"dataframe\">\n",
              "  <thead>\n",
              "    <tr style=\"text-align: right;\">\n",
              "      <th></th>\n",
              "      <th>wav</th>\n",
              "      <th>start</th>\n",
              "      <th>stop</th>\n",
              "      <th>spk_id</th>\n",
              "      <th>present_label</th>\n",
              "    </tr>\n",
              "  </thead>\n",
              "  <tbody>\n",
              "    <tr>\n",
              "      <th>0</th>\n",
              "      <td>id10946/CSMzcozTg08/00007.wav</td>\n",
              "      <td>96000</td>\n",
              "      <td>144000</td>\n",
              "      <td>id10946</td>\n",
              "      <td>1.0</td>\n",
              "    </tr>\n",
              "    <tr>\n",
              "      <th>1</th>\n",
              "      <td>id10885/8V52SLc8oOo/00005.wav</td>\n",
              "      <td>192000</td>\n",
              "      <td>240000</td>\n",
              "      <td>id10885</td>\n",
              "      <td>1.0</td>\n",
              "    </tr>\n",
              "    <tr>\n",
              "      <th>2</th>\n",
              "      <td>id11052/XxjzVnXJfpc/00005.wav</td>\n",
              "      <td>48000</td>\n",
              "      <td>96000</td>\n",
              "      <td>id11052</td>\n",
              "      <td>1.0</td>\n",
              "    </tr>\n",
              "    <tr>\n",
              "      <th>3</th>\n",
              "      <td>id10312/5oDO9Avn0qg/00001.wav</td>\n",
              "      <td>144000</td>\n",
              "      <td>192000</td>\n",
              "      <td>id10312</td>\n",
              "      <td>1.0</td>\n",
              "    </tr>\n",
              "    <tr>\n",
              "      <th>4</th>\n",
              "      <td>id10290/A3QwQ3D35rc/00002.wav</td>\n",
              "      <td>0</td>\n",
              "      <td>48000</td>\n",
              "      <td>id10290</td>\n",
              "      <td>0.0</td>\n",
              "    </tr>\n",
              "    <tr>\n",
              "      <th>...</th>\n",
              "      <td>...</td>\n",
              "      <td>...</td>\n",
              "      <td>...</td>\n",
              "      <td>...</td>\n",
              "      <td>...</td>\n",
              "    </tr>\n",
              "    <tr>\n",
              "      <th>15995</th>\n",
              "      <td>id10276/3vWez3baO60/00008.wav</td>\n",
              "      <td>144000</td>\n",
              "      <td>192000</td>\n",
              "      <td>id10276</td>\n",
              "      <td>0.0</td>\n",
              "    </tr>\n",
              "    <tr>\n",
              "      <th>15996</th>\n",
              "      <td>id10003/FfmnkloV_zg/00002.wav</td>\n",
              "      <td>0</td>\n",
              "      <td>48000</td>\n",
              "      <td>id10003</td>\n",
              "      <td>1.0</td>\n",
              "    </tr>\n",
              "    <tr>\n",
              "      <th>15997</th>\n",
              "      <td>id10307/yUv37vQWmzE/00011.wav</td>\n",
              "      <td>144000</td>\n",
              "      <td>192000</td>\n",
              "      <td>id10307</td>\n",
              "      <td>0.0</td>\n",
              "    </tr>\n",
              "    <tr>\n",
              "      <th>15998</th>\n",
              "      <td>id10294/NRMQOFYS41I/00007.wav</td>\n",
              "      <td>0</td>\n",
              "      <td>48000</td>\n",
              "      <td>id10294</td>\n",
              "      <td>0.0</td>\n",
              "    </tr>\n",
              "    <tr>\n",
              "      <th>15999</th>\n",
              "      <td>id10328/Amta5qpAl0M/00013.wav</td>\n",
              "      <td>48000</td>\n",
              "      <td>96000</td>\n",
              "      <td>id10328</td>\n",
              "      <td>1.0</td>\n",
              "    </tr>\n",
              "  </tbody>\n",
              "</table>\n",
              "<p>16000 rows × 5 columns</p>\n",
              "</div>\n",
              "      <button class=\"colab-df-convert\" onclick=\"convertToInteractive('df-80f4bcd5-b2a3-4f28-82c5-d2f081d2ee96')\"\n",
              "              title=\"Convert this dataframe to an interactive table.\"\n",
              "              style=\"display:none;\">\n",
              "        \n",
              "  <svg xmlns=\"http://www.w3.org/2000/svg\" height=\"24px\"viewBox=\"0 0 24 24\"\n",
              "       width=\"24px\">\n",
              "    <path d=\"M0 0h24v24H0V0z\" fill=\"none\"/>\n",
              "    <path d=\"M18.56 5.44l.94 2.06.94-2.06 2.06-.94-2.06-.94-.94-2.06-.94 2.06-2.06.94zm-11 1L8.5 8.5l.94-2.06 2.06-.94-2.06-.94L8.5 2.5l-.94 2.06-2.06.94zm10 10l.94 2.06.94-2.06 2.06-.94-2.06-.94-.94-2.06-.94 2.06-2.06.94z\"/><path d=\"M17.41 7.96l-1.37-1.37c-.4-.4-.92-.59-1.43-.59-.52 0-1.04.2-1.43.59L10.3 9.45l-7.72 7.72c-.78.78-.78 2.05 0 2.83L4 21.41c.39.39.9.59 1.41.59.51 0 1.02-.2 1.41-.59l7.78-7.78 2.81-2.81c.8-.78.8-2.07 0-2.86zM5.41 20L4 18.59l7.72-7.72 1.47 1.35L5.41 20z\"/>\n",
              "  </svg>\n",
              "      </button>\n",
              "      \n",
              "  <style>\n",
              "    .colab-df-container {\n",
              "      display:flex;\n",
              "      flex-wrap:wrap;\n",
              "      gap: 12px;\n",
              "    }\n",
              "\n",
              "    .colab-df-convert {\n",
              "      background-color: #E8F0FE;\n",
              "      border: none;\n",
              "      border-radius: 50%;\n",
              "      cursor: pointer;\n",
              "      display: none;\n",
              "      fill: #1967D2;\n",
              "      height: 32px;\n",
              "      padding: 0 0 0 0;\n",
              "      width: 32px;\n",
              "    }\n",
              "\n",
              "    .colab-df-convert:hover {\n",
              "      background-color: #E2EBFA;\n",
              "      box-shadow: 0px 1px 2px rgba(60, 64, 67, 0.3), 0px 1px 3px 1px rgba(60, 64, 67, 0.15);\n",
              "      fill: #174EA6;\n",
              "    }\n",
              "\n",
              "    [theme=dark] .colab-df-convert {\n",
              "      background-color: #3B4455;\n",
              "      fill: #D2E3FC;\n",
              "    }\n",
              "\n",
              "    [theme=dark] .colab-df-convert:hover {\n",
              "      background-color: #434B5C;\n",
              "      box-shadow: 0px 1px 3px 1px rgba(0, 0, 0, 0.15);\n",
              "      filter: drop-shadow(0px 1px 2px rgba(0, 0, 0, 0.3));\n",
              "      fill: #FFFFFF;\n",
              "    }\n",
              "  </style>\n",
              "\n",
              "      <script>\n",
              "        const buttonEl =\n",
              "          document.querySelector('#df-80f4bcd5-b2a3-4f28-82c5-d2f081d2ee96 button.colab-df-convert');\n",
              "        buttonEl.style.display =\n",
              "          google.colab.kernel.accessAllowed ? 'block' : 'none';\n",
              "\n",
              "        async function convertToInteractive(key) {\n",
              "          const element = document.querySelector('#df-80f4bcd5-b2a3-4f28-82c5-d2f081d2ee96');\n",
              "          const dataTable =\n",
              "            await google.colab.kernel.invokeFunction('convertToInteractive',\n",
              "                                                     [key], {});\n",
              "          if (!dataTable) return;\n",
              "\n",
              "          const docLinkHtml = 'Like what you see? Visit the ' +\n",
              "            '<a target=\"_blank\" href=https://colab.research.google.com/notebooks/data_table.ipynb>data table notebook</a>'\n",
              "            + ' to learn more about interactive tables.';\n",
              "          element.innerHTML = '';\n",
              "          dataTable['output_type'] = 'display_data';\n",
              "          await google.colab.output.renderOutput(dataTable, element);\n",
              "          const docLink = document.createElement('div');\n",
              "          docLink.innerHTML = docLinkHtml;\n",
              "          element.appendChild(docLink);\n",
              "        }\n",
              "      </script>\n",
              "    </div>\n",
              "  </div>\n",
              "  "
            ]
          },
          "metadata": {},
          "execution_count": 37
        }
      ]
    },
    {
      "cell_type": "code",
      "source": [
        "%%capture\n",
        "# Local installation\n",
        "!git clone https://github.com/speechbrain/speechbrain/\n",
        "%cd /content/speechbrain/\n",
        "!pip install -r requirements.txt\n",
        "!pip install -e ."
      ],
      "metadata": {
        "id": "BAzQuVzl6ww1"
      },
      "execution_count": null,
      "outputs": []
    },
    {
      "cell_type": "code",
      "source": [
        "files = []\n",
        "for i in range(len(train_df2)):\n",
        "  x = (train_df2['wav'][i].split('/')[3:])\n",
        "  fl = ''.join([\"/\" + suit for suit in x])\n",
        "  files.append(fl[1:])\n",
        "for i in range(len(test_df2)):\n",
        "  x = (test_df2['wav'][i].split('/')[3:])\n",
        "  fl = ''.join([\"/\" + suit for suit in x])\n",
        "  files.append(fl[1:])"
      ],
      "metadata": {
        "id": "f1nxNsekJ1xJ"
      },
      "execution_count": null,
      "outputs": []
    },
    {
      "cell_type": "code",
      "source": [
        "fl"
      ],
      "metadata": {
        "colab": {
          "base_uri": "https://localhost:8080/",
          "height": 35
        },
        "id": "pkgvRyOxcaDV",
        "outputId": "7948f5f8-7b30-42ab-e844-0032201d5250"
      },
      "execution_count": null,
      "outputs": [
        {
          "output_type": "execute_result",
          "data": {
            "text/plain": [
              "'/wav/id10747/qsP9PWRq980/00003.wav'"
            ],
            "application/vnd.google.colaboratory.intrinsic+json": {
              "type": "string"
            }
          },
          "metadata": {},
          "execution_count": 14
        }
      ]
    },
    {
      "cell_type": "code",
      "source": [],
      "metadata": {
        "id": "B-udUcu5ttJl"
      },
      "execution_count": null,
      "outputs": []
    },
    {
      "cell_type": "code",
      "source": [
        "files = []\n",
        "for i in range(len(train_df)):\n",
        "  x = train_df['wav'][i]\n",
        "  #fl = ''.join([\"/\" + suit for suit in x])\n",
        "  files.append('wav/'+x)\n",
        "for i in range(len(test_df)):\n",
        "  x = (test_df['wav'][i])\n",
        "  #fl = ''.join([\"/\" + suit for suit in x])\n",
        "  files.append('wav/'+x)"
      ],
      "metadata": {
        "id": "vdG3iHfxZmjZ"
      },
      "execution_count": null,
      "outputs": []
    },
    {
      "cell_type": "code",
      "source": [
        "files[0]"
      ],
      "metadata": {
        "id": "be-oKJ0gZ1eN",
        "colab": {
          "base_uri": "https://localhost:8080/",
          "height": 35
        },
        "outputId": "d88f92e0-75be-40e8-dfe3-349eadaf823f"
      },
      "execution_count": null,
      "outputs": [
        {
          "output_type": "execute_result",
          "data": {
            "text/plain": [
              "'wav/id10304/JQtDfEz08aU/00025.wav'"
            ],
            "application/vnd.google.colaboratory.intrinsic+json": {
              "type": "string"
            }
          },
          "metadata": {},
          "execution_count": 9
        }
      ]
    },
    {
      "cell_type": "code",
      "source": [
        "fin_files = []\n",
        "\n",
        "with zipfile.ZipFile('/content/drive/MyDrive/vox1_dev_wav.zip') as zf:\n",
        "  for fl in files:\n",
        "    #print(fl)\n",
        "    try:\n",
        "      zf.extract(fl, '/content/wav_files')\n",
        "      fin_files.append(fl[4:])\n",
        "    except:\n",
        "      continue"
      ],
      "metadata": {
        "id": "VVE3DtH1HYa0"
      },
      "execution_count": null,
      "outputs": []
    },
    {
      "cell_type": "code",
      "source": [
        "fin_files = []\n",
        "\n",
        "with zipfile.ZipFile('/content/drive/MyDrive/vox1_test_wav.zip') as zf:\n",
        "  for fl in files:\n",
        "    #print(fl)\n",
        "    try:\n",
        "      zf.extract(fl, '/content/wav_files')\n",
        "      fin_files.append(fl[4:])\n",
        "    except:\n",
        "      continue"
      ],
      "metadata": {
        "id": "1WUD9fQ7mmHg"
      },
      "execution_count": null,
      "outputs": []
    },
    {
      "cell_type": "code",
      "source": [
        "train_df = train_df[train_df['wav'].isin(fin_files)]"
      ],
      "metadata": {
        "id": "ALa2v3Xplg9w"
      },
      "execution_count": null,
      "outputs": []
    },
    {
      "cell_type": "code",
      "source": [
        "train_df = train_df[train_df['wav'].isin(fin_files)]"
      ],
      "metadata": {
        "id": "cgGB4_qHnO8b"
      },
      "execution_count": null,
      "outputs": []
    },
    {
      "cell_type": "code",
      "source": [
        "\n",
        "#!unzip /content/drive/MyDrive/vox1_dev_wav.zip -d /content/wav_files"
      ],
      "metadata": {
        "id": "lbDDW8VriLrx"
      },
      "execution_count": null,
      "outputs": []
    },
    {
      "cell_type": "code",
      "metadata": {
        "id": "_pC-98RDOqPq"
      },
      "source": [
        "%%capture\n",
        "# here we download the material needed for this tutorial: images and an example based on mini-librispeech\n",
        "!wget https://www.dropbox.com/s/b61lo6gkpuplanq/MiniLibriSpeechTutorial.tar.gz?dl=0\n",
        "!tar -xvzf MiniLibriSpeechTutorial.tar.gz?dl=0\n",
        "# downloading mini_librispeech dev data\n",
        "!wget https://www.openslr.org/resources/31/dev-clean-2.tar.gz\n",
        "!tar -xvzf dev-clean-2.tar.gz"
      ],
      "execution_count": null,
      "outputs": []
    },
    {
      "cell_type": "markdown",
      "source": [
        "# Logistic Regression"
      ],
      "metadata": {
        "id": "coGJTKi9zY5u"
      }
    },
    {
      "cell_type": "code",
      "source": [
        "import torchaudio\n",
        "from speechbrain.pretrained import EncoderClassifier\n",
        "from sklearn.linear_model import LogisticRegression\n",
        "import numpy as np\n",
        "from sklearn.metrics import classification_report\n",
        "import pandas as pd\n",
        "import os\n",
        "from tqdm import tqdm\n",
        "import speechbrain \n",
        "from speechbrain.lobes.augment import SpecAugment\n",
        "from speechbrain.lobes.augment import EnvCorrupt\n",
        "from speechbrain.processing.speech_augmentation import AddNoise\n",
        "from speechbrain.nnet.losses import LogSoftmaxWrapper, AdditiveAngularMargin\n",
        "from scipy.spatial import distance\n",
        "import torch\n",
        "from speechbrain.processing.speech_augmentation import (\n",
        "    SpeedPerturb,\n",
        "    DropFreq,\n",
        "    DropChunk,\n",
        "    AddBabble,\n",
        "    AddNoise,\n",
        "    AddReverb,\n",
        "    Resample,\n",
        "    DoClip\n",
        ")"
      ],
      "metadata": {
        "id": "q_P4TrtpPEfO",
        "colab": {
          "base_uri": "https://localhost:8080/"
        },
        "outputId": "ae52f71d-8fb2-4da0-fc3c-63f11b230875"
      },
      "execution_count": null,
      "outputs": [
        {
          "output_type": "stream",
          "name": "stderr",
          "text": [
            "/usr/local/lib/python3.10/dist-packages/torchvision/io/image.py:13: UserWarning: Failed to load image Python extension: '/usr/local/lib/python3.10/dist-packages/torchvision/image.so: undefined symbol: _ZN3c104cuda20CUDACachingAllocator9allocatorE'If you don't plan on using image functionality from `torchvision.io`, you can ignore this warning. Otherwise, there might be something wrong with your environment. Did you have `libjpeg` or `libpng` installed before building `torchvision` from source?\n",
            "  warn(\n"
          ]
        }
      ]
    },
    {
      "cell_type": "code",
      "source": [
        "target_model = EncoderClassifier.from_hparams(source=\"speechbrain/spkrec-ecapa-voxceleb\", savedir=\"./pretrained_ecapa\", run_opts={\"device\": \"cuda\"},)"
      ],
      "metadata": {
        "id": "6jDQbEpr1lWs",
        "colab": {
          "base_uri": "https://localhost:8080/",
          "height": 177,
          "referenced_widgets": [
            "c36b69fb335c4e26ba26c344b87d584f",
            "cb97f8f50d674a189061ef8462dcc962",
            "1dabc2fbc34145889bdb4630587d8289",
            "5b574b90c3e24d4caf499739702c95d9",
            "ed3d9d9367d548daa3de9dd6a1afe6d9",
            "4704c77c45e146c19e6abbd7430d2dc0",
            "095bdb3c8f9546199151cc61f94e5510",
            "1fcb04c0b75244f4b5960f5549f6576d",
            "f50f29988c9a4ba2aed861a3d4e482b5",
            "ad47f8413c6d45429d9a1543b6ba1a13",
            "2421db427e8e43d6bdadac68b04dfac2",
            "0b3fc879aa914e6a8fd50407e252ba71",
            "4a20e3445c784d66822fd2c5a246d0ae",
            "1c89f336641c445b8683acdc5b86109e",
            "15fba271b0de415d9002d9492cd0869f",
            "2c68505ab48a44ca89db5cf5977f5888",
            "555e259dea20426cb81443c7b52c6862",
            "3210cb7d672a419097cd39e8d973ad94",
            "088fc6458a234fccbfd823bb85013f7c",
            "f13bddf99e7b44e6b621a04dcc03a627",
            "a27835a098b84512baec2301715ebe62",
            "b8e0f88a2f0049999b0444212bec348d",
            "bfaccf7d05234352b6e7aba288395669",
            "4a50f1e79ed04e5b8b1f3582b75bed31",
            "688ec7c19bcf4eb890b58cca8b4bf1b6",
            "ccd4d6b25d0743eaa24653a9f09aee75",
            "04ee77b4dd9b4f27b5a038a953356524",
            "2cce526d275a43d492d7ae3063f6c005",
            "5922384e6c81454284c96e9b5de74cba",
            "c480a1776dba4fabac0ddda822e86e8d",
            "bff86fb2f447477aa24f769e62881da8",
            "9953234581254fcd9cbb8a45cd6a2dc1",
            "fb3fc6b9e9bf4f689c3819389b4ec2b4",
            "6b3f8961f82b4cf4942b4098568a72e4",
            "a2ba1ddc795d4df8a5d7507e0a90fa37",
            "3c3478bf2d344015b0156aec3e074d77",
            "c71a5bcab4b149c09f4c418d2b8df29b",
            "69c97ea54347487c94083b1b12f0dc65",
            "d8165d8a1fe04bb68f6b6a3a15da01a0",
            "d546a162c86e403c8f149d8c87862a47",
            "b1217ea0a8304ebda760269b25cc417c",
            "67720cd7c91244e1a3aa45696bc3593e",
            "796bb7861dd7444e8cac66a360e1beb2",
            "522d8075a75b4f709461e25c09c78374",
            "6bbea2bde02944888270400ef6f701c0",
            "c338199618534cf3bdfde3a610fcd1fa",
            "60e65b4416b844d09e597db034d02cf4",
            "66ed520a88dc4f3db1f2e324bd868623",
            "d9390450c1a64394aee46259185c8f43",
            "6449580b62cb42d5b0972e6260492f27",
            "1cfdd86586214cf69378b93f25cea2d4",
            "034561b6ac4340808ee5d08a18850ea0",
            "5a78fa16850e4fd0900d108646fcd4b3",
            "8d73cd518b6a456c9710c1d94fe02fb1",
            "1fb554404f4c4eac8fae26b026a2bf11"
          ]
        },
        "outputId": "25f214ec-d2e0-43a2-8a77-b07d17840c48"
      },
      "execution_count": null,
      "outputs": [
        {
          "output_type": "display_data",
          "data": {
            "text/plain": [
              "Downloading (…)ain/hyperparams.yaml:   0%|          | 0.00/1.92k [00:00<?, ?B/s]"
            ],
            "application/vnd.jupyter.widget-view+json": {
              "version_major": 2,
              "version_minor": 0,
              "model_id": "c36b69fb335c4e26ba26c344b87d584f"
            }
          },
          "metadata": {}
        },
        {
          "output_type": "display_data",
          "data": {
            "text/plain": [
              "Downloading embedding_model.ckpt:   0%|          | 0.00/83.3M [00:00<?, ?B/s]"
            ],
            "application/vnd.jupyter.widget-view+json": {
              "version_major": 2,
              "version_minor": 0,
              "model_id": "0b3fc879aa914e6a8fd50407e252ba71"
            }
          },
          "metadata": {}
        },
        {
          "output_type": "display_data",
          "data": {
            "text/plain": [
              "Downloading (…)an_var_norm_emb.ckpt:   0%|          | 0.00/1.92k [00:00<?, ?B/s]"
            ],
            "application/vnd.jupyter.widget-view+json": {
              "version_major": 2,
              "version_minor": 0,
              "model_id": "bfaccf7d05234352b6e7aba288395669"
            }
          },
          "metadata": {}
        },
        {
          "output_type": "display_data",
          "data": {
            "text/plain": [
              "Downloading classifier.ckpt:   0%|          | 0.00/5.53M [00:00<?, ?B/s]"
            ],
            "application/vnd.jupyter.widget-view+json": {
              "version_major": 2,
              "version_minor": 0,
              "model_id": "6b3f8961f82b4cf4942b4098568a72e4"
            }
          },
          "metadata": {}
        },
        {
          "output_type": "display_data",
          "data": {
            "text/plain": [
              "Downloading (…)in/label_encoder.txt:   0%|          | 0.00/129k [00:00<?, ?B/s]"
            ],
            "application/vnd.jupyter.widget-view+json": {
              "version_major": 2,
              "version_minor": 0,
              "model_id": "6bbea2bde02944888270400ef6f701c0"
            }
          },
          "metadata": {}
        }
      ]
    },
    {
      "cell_type": "code",
      "source": [
        "shadow_model = EncoderClassifier.from_hparams(source=\"speechbrain/spkrec-ecapa-voxceleb\", savedir=\"./pretrained_ecapa\", run_opts={\"device\": \"cuda\"},)"
      ],
      "metadata": {
        "id": "-GUy9HIp8d-Q"
      },
      "execution_count": null,
      "outputs": []
    },
    {
      "cell_type": "code",
      "source": [
        "import zipfile"
      ],
      "metadata": {
        "id": "pYXmz4VL5i6Y"
      },
      "execution_count": null,
      "outputs": []
    },
    {
      "cell_type": "code",
      "source": [
        "fl"
      ],
      "metadata": {
        "id": "u_Pv4BNX5rMw",
        "colab": {
          "base_uri": "https://localhost:8080/",
          "height": 35
        },
        "outputId": "79ce4f3d-dbbc-46a5-9bdf-473a99466c4f"
      },
      "execution_count": null,
      "outputs": [
        {
          "output_type": "execute_result",
          "data": {
            "text/plain": [
              "'wav/id10977/gNnNpOn_dV0/00060.wav'"
            ],
            "application/vnd.google.colaboratory.intrinsic+json": {
              "type": "string"
            }
          },
          "metadata": {},
          "execution_count": 25
        }
      ]
    },
    {
      "cell_type": "markdown",
      "source": [
        "# Attack Class"
      ],
      "metadata": {
        "id": "7If0vRqGGfFc"
      }
    },
    {
      "cell_type": "code",
      "source": [
        "class MIAttack_train:\n",
        "  def __init__(self, target_model, shadow_model, classifier, batch_size = 4): \n",
        "    self.target_model = target_model\n",
        "    self.shadow_model = shadow_model\n",
        "    self.classifier = classifier\n",
        "    self.loss_func= AdditiveAngularMargin()\n",
        "    self.spec_aug = SpecAugment()\n",
        "    self.cos = torch.nn.CosineSimilarity(dim=0)\n",
        "    self.dropper = DropFreq()\n",
        "    self.dropper2 = DropChunk(drop_start=500, drop_end=900, noise_factor=0.)\n",
        "    self.noisifier = AddNoise('/content/speechbrain/tests/samples/annotation/noise.csv',\n",
        "                    replacements={'noise_folder': '/content/speechbrain/tests/samples/noise'})\n",
        "    self.perturbator = SpeedPerturb(orig_freq=16000, speeds=[70])\n",
        "    self.clipper = DoClip(clip_low=0.001, clip_high=0.01)\n",
        "    self.babbler = AddBabble(snr_low=0, snr_high=10)\n",
        "    self.batch = batch_size\n",
        "\n",
        "\n",
        "  def get_augment1(self, signal, freq = 16000): #Drop Frequency\n",
        "    signal = self.dropper(signal)\n",
        "    return signal\n",
        "  \n",
        "  def get_augment2(self, signal, freq = 16000): #Drop Chunk \n",
        "    length = torch.ones(self.batch)\n",
        "    signal = self.dropper2(signal, length)\n",
        "    return signal\n",
        "\n",
        "  def get_augment3(self, signal, freq = 16000): #Add noise\n",
        "    signal = self.noisifier(signal, torch.ones(self.batch)) \n",
        "    return signal\n",
        "\n",
        "  def get_augment4(self, signal, freq = 16000): #Speed Pert\n",
        "    signal = self.perturbator(signal)\n",
        "    return signal\n",
        "\n",
        "  def get_augment5(self, signal, freq = 16000): #Clip audio\n",
        "    signal = self.clipper(signal)\n",
        "    return signal\n",
        "\n",
        "  def get_augment6(self, signal, freq = 16000): #Add babble\n",
        "    length = torch.ones(self.batch)\n",
        "    signal = self.babbler(signal, length)\n",
        "\n",
        "  def get_augment(self, signal, freq):\n",
        "    mod_signals = [self.get_augment1(signal, freq), self.get_augment2(signal, freq), self.get_augment3(signal, freq), self.get_augment4(signal, freq), self.get_augment5(signal, freq)]\n",
        "    return mod_signals\n",
        "\n",
        "  def get_cos_sim(self, signal, freq=16000):\n",
        "    orig_signal = torch.cat(signal)\n",
        "    #output_probs1, score, index, text_lab = self.shadow_model.classify_batch(orig_signal)\n",
        "    embeddings1 = self.shadow_model.encode_batch(orig_signal)\n",
        "    aug_signals = self.get_augment(orig_signal, freq)\n",
        "    scores = torch.empty((4, 1), device = \"cuda\")\n",
        "\n",
        "    for aug_signal in aug_signals:\n",
        "      #output_probs2, score2, index2, text_lab2 = self.shadow_model.classify_batch(aug_signal)\n",
        "      embeddings2 = self.shadow_model.encode_batch(aug_signal)\n",
        "      scores = torch.cat((scores, torch.nn.functional.cosine_similarity(embeddings1, embeddings2, dim = 2)), dim = 1)\n",
        "    return scores[:,1:]\n",
        "\n",
        "  def query(self, signal, label = None):  #input: signal, fs = torchaudio.load(\"tests/samples/single-mic/example1.wav\")\n",
        "    score = self.get_cos_sim(signal)\n",
        "    #print(score.shape)\n",
        "    return score\n",
        "\n",
        "  def get_queried_res(self, data_csv): #input - .wav files\n",
        "    data_files = data_csv['wav']\n",
        "    start_frame = data_csv['start']\n",
        "    end_frame = data_csv['stop']\n",
        "    labels = data_csv['present_label']\n",
        "    #print(data_files)\n",
        "    self.labels = []\n",
        "    \n",
        "\n",
        "    scores = []\n",
        "    #losses = []\n",
        "\n",
        "    for i in tqdm(range(0,len(data_files),self.batch)):\n",
        "      signals = []\n",
        "      for j in range(self.batch):\n",
        "          f = data_files[i+j]\n",
        "          f = f.replace(\"/localscratch/voxceleb1/\", \"/content/wav_files/\")\n",
        "          #if True:\n",
        "          signal, _ = torchaudio.load(f)\n",
        "          #print(signal.shape)\n",
        "          signal = signal[:, int(start_frame[i]) : int(end_frame[i])]\n",
        "          signals.append(signal)\n",
        "          #signal = signal[:,start_frame:end_frame]\n",
        "      score = self.query(signals, labels[i:i+self.batch])\n",
        "      #print('---',score.shape)\n",
        "      #scores = scores + (torch.squeeze(score).tolist())\n",
        "      #print(score.shape)\n",
        "      #print(torch.squeeze(torch.sum(score, dim = 1)).shape)\n",
        "      scores = scores + (torch.sum(score, dim = 1)).cpu().tolist()\n",
        "      #losses.append([0])\n",
        "      self.labels+=(list(labels[i:i+self.batch]))\n",
        "\n",
        "    #print(scores)\n",
        "    self.scores = scores\n",
        "    #print(self.scores)\n",
        "    #self.losses = losses\n",
        "    #self.queries = np.array(self.queries)\n",
        "    #self.labels = np.array(self.labels)\n",
        "    return self.scores, self.labels\n",
        "\n",
        "  def train_classifier(self, data, criteria = 'confidence'):\n",
        "    scores, labels = self.get_queried_res(data)\n",
        "    scores= [[score] for score in scores]\n",
        "    print((scores))\n",
        "    print((labels))\n",
        "\n",
        "    self.clf = self.classifier.fit(scores, labels )\n",
        "    return self.clf\n"
      ],
      "metadata": {
        "id": "tpB2cQSTzfUc"
      },
      "execution_count": null,
      "outputs": []
    },
    {
      "cell_type": "code",
      "source": [
        "class MIAttack_test:\n",
        "  def __init__(self, target_model, classifier, batch_size = 4): \n",
        "    self.target_model = target_model\n",
        "    self.shadow_model = shadow_model\n",
        "    self.classifier = classifier\n",
        "    self.loss_func= AdditiveAngularMargin()\n",
        "    self.dropper = DropFreq()\n",
        "    self.dropper2 = DropChunk(drop_start=500, drop_end=900, noise_factor=0.)\n",
        "    self.noisifier = AddNoise('/content/speechbrain/tests/samples/annotation/noise.csv',\n",
        "                    replacements={'noise_folder': '/content/speechbrain/tests/samples/noise'})\n",
        "    self.perturbator = SpeedPerturb(orig_freq=16000, speeds=[70])\n",
        "    self.clipper = DoClip(clip_low=0.001, clip_high=0.01)\n",
        "    self.babbler = AddBabble(snr_low=0, snr_high=10)\n",
        "    self.batch = batch_size\n",
        "\n",
        "\n",
        "  def get_augment1(self, signal, freq = 16000):\n",
        "    #dropper = DropFreq()\n",
        "    signal = self.dropper(signal)\n",
        "    return signal\n",
        "  \n",
        "  def get_augment2(self, signal, freq = 16000):\n",
        "    length = torch.ones(self.batch)\n",
        "    signal = self.dropper2(signal, length)\n",
        "    return signal\n",
        "\n",
        "  def get_augment3(self, signal, freq = 16000):\n",
        "    signal = self.noisifier(signal, torch.ones(self.batch))\n",
        "    return signal\n",
        "\n",
        "  def get_augment4(self, signal, freq = 16000):\n",
        "    signal = self.perturbator(signal)\n",
        "    return signal\n",
        "\n",
        "  def get_augment5(self, signal, freq = 16000):\n",
        "    signal = self.clipper(signal)\n",
        "    return signal\n",
        "\n",
        "  def get_augment6(self, signal, freq = 16000):\n",
        "    length = torch.ones(self.batch)\n",
        "    signal = self.babbler(signal, length)\n",
        "\n",
        "  def get_augment(self, signal, freq):\n",
        "    #aug = SpecAugment()\n",
        "    #a = torch.rand([1, 80])\n",
        "    #signal = torch.squeeze(self.spec_aug(torch.unsqueeze(signal, dim = 0)))\n",
        "    #print(a.shape)\n",
        "\n",
        "    '''#print('ewr-----', signal.shape)\n",
        "    aug = SpecAugment()\n",
        "    corrupter = EnvCorrupt(babble_speaker_count=50)\n",
        "    #print('wfrwef',signal)\n",
        "    signal = torch.squeeze(aug(torch.unsqueeze(signal, dim = 0)))\n",
        "    print('------',signal)\n",
        "    signal = corrupter(signal, torch.ones(signal.shape[0]))\n",
        "    '''\n",
        "    mod_signals = [self.get_augment1(signal, freq), self.get_augment2(signal, freq), self.get_augment3(signal, freq), self.get_augment4(signal, freq), self.get_augment5(signal, freq)]\n",
        "    #clean = signal.unsqueeze(0)\n",
        "    #perturbator = SpeedPerturb(orig_freq=16000, speeds=[90])\n",
        "    #changed = perturbator(clean, torch.ones(1))\n",
        "    return mod_signals\n",
        "\n",
        "  def get_cos_sim(self, signal, freq=16000):\n",
        "    orig_signal = torch.cat(signal)\n",
        "    #output_probs1, score, index, text_lab = self.shadow_model.classify_batch(orig_signal)\n",
        "    embeddings1 = self.shadow_model.encode_batch(orig_signal)\n",
        "    aug_signals = self.get_augment(orig_signal, freq)\n",
        "    scores = torch.empty((4, 1), device = \"cuda\")\n",
        "\n",
        "    for aug_signal in aug_signals:\n",
        "      #output_probs2, score2, index2, text_lab2 = self.shadow_model.classify_batch(aug_signal)\n",
        "      embeddings2 = self.shadow_model.encode_batch(aug_signal)\n",
        "      scores = torch.cat((scores, torch.nn.functional.cosine_similarity(embeddings1, embeddings2, dim = 2)), dim = 1)\n",
        "    #print(scores.shape)\n",
        "      #scores.append(distance.cosine(embeddings1.cpu(), embeddings2.cpu()))\n",
        "    #print('ececfwc', distance.cosine(orig_signal.cpu(), aug_signal.cpu()))\n",
        "    #cosine_sim=self.cos(embeddings1, embeddings2).cpu() \n",
        "    #print(embeddings1.shape, embeddings2.shape)\n",
        "    return scores[:,1:]\n",
        "\n",
        "  def query(self, signal, label = None):  #input: signal, fs = torchaudio.load(\"tests/samples/single-mic/example1.wav\")\n",
        "    score = self.get_cos_sim(signal)\n",
        "    #print(score.shape)\n",
        "    return score\n",
        "\n",
        "  def get_queried_res(self, data_csv): #input - .wav files\n",
        "    data_files = data_csv['wav']\n",
        "    start_frame = data_csv['start']\n",
        "    end_frame = data_csv['stop']\n",
        "    labels = data_csv['present_label']\n",
        "    #print(data_files)\n",
        "    self.labels = []\n",
        "    \n",
        "\n",
        "    scores = []\n",
        "    #losses = []\n",
        "\n",
        "    for i in tqdm(range(0,len(data_files),4)):\n",
        "      signals = []\n",
        "      for j in range(self.batch):\n",
        "          f = data_files[i+j]\n",
        "          f = f.replace(\"/localscratch/voxceleb1/\", \"/content/wav_files/\")\n",
        "          #if True:\n",
        "          signal, _ = torchaudio.load(f)\n",
        "          #print(signal.shape)\n",
        "          signal = signal[:, int(start_frame[i]) : int(end_frame[i])]\n",
        "          signals.append(signal)\n",
        "          #signal = signal[:,start_frame:end_frame]\n",
        "      score = self.query(signals, labels[i:i+self.batch])\n",
        "      #scores = scores + (torch.squeeze(score).tolist())\n",
        "      #losses.append([0])\n",
        "      scores = scores + (torch.sum(score, dim = 1)).cpu().tolist() # TODO: Add mean and std instead of sum\n",
        "      #losses.append([0])\n",
        "      self.labels+=(list(labels[i:i+self.batch]))\n",
        "\n",
        "    #print(scores)\n",
        "    self.scores = scores\n",
        "    #print(self.scores)\n",
        "    #self.losses = losses\n",
        "    #self.queries = np.array(self.queries)\n",
        "    #self.labels = np.array(self.labels)\n",
        "    return self.scores, self.labels\n",
        "\n",
        "  def test_classifier(self, data, criteria='confidence'):\n",
        "    scores, labels = self.get_queried_res(data)\n",
        "    scores= [[score] for score in scores]\n",
        "\n",
        "    res = self.classifier.predict(scores)\n",
        "\n",
        "    #score = classifier.score(queries, labels)\n",
        "    score = classification_report(res, labels)\n",
        "    return res, score"
      ],
      "metadata": {
        "id": "tYbH5qcSQqVE"
      },
      "execution_count": null,
      "outputs": []
    },
    {
      "cell_type": "code",
      "source": [
        "#d = {'wav':['/content/speechbrain/tests/samples/single-mic/example1.wav', '/content/speechbrain/tests/samples/single-mic/example1.wav'], 'present_label':[True, False]}"
      ],
      "metadata": {
        "id": "5yrN-3Wr8fdy"
      },
      "execution_count": null,
      "outputs": []
    },
    {
      "cell_type": "code",
      "source": [
        "#`clf = LogisticRegression(max_iter=1000)"
      ],
      "metadata": {
        "id": "TX1UOcsi7uQ9"
      },
      "execution_count": null,
      "outputs": []
    },
    {
      "cell_type": "code",
      "source": [
        "'''d = train_df[:20]\n",
        "clf = LogisticRegression(random_state=0, max_iter=500) \n",
        "mi_train = MIAttack_train(target_model, shadow_model, clf)\n",
        "trained_classifier = mi_train.train_classifier(d.reset_index())\n",
        "mi_test = MIAttack_test(target_model, trained_classifier )\n",
        "res, score = mi_test.test_classifier(d)\n",
        "print(score)'''"
      ],
      "metadata": {
        "id": "3n7CDbQbqSaG",
        "colab": {
          "base_uri": "https://localhost:8080/",
          "height": 87
        },
        "outputId": "a09e62a4-5d15-43c9-99a1-7bd9ddf9b580"
      },
      "execution_count": null,
      "outputs": [
        {
          "output_type": "execute_result",
          "data": {
            "text/plain": [
              "'d = train_df[:20]\\nclf = LogisticRegression(random_state=0, max_iter=500) \\nmi_train = MIAttack_train(target_model, shadow_model, clf)\\ntrained_classifier = mi_train.train_classifier(d.reset_index())\\nmi_test = MIAttack_test(target_model, trained_classifier )\\nres, score = mi_test.test_classifier(d)\\nprint(score)'"
            ],
            "application/vnd.google.colaboratory.intrinsic+json": {
              "type": "string"
            }
          },
          "metadata": {},
          "execution_count": 42
        }
      ]
    },
    {
      "cell_type": "code",
      "source": [
        "d = {'wav':['/content/speechbrain/tests/samples/single-mic/example1.wav', '/content/speechbrain/tests/samples/single-mic/example1.wav'], 'present_label':[True, False]}"
      ],
      "metadata": {
        "id": "c8OpsBKnrtvB"
      },
      "execution_count": null,
      "outputs": []
    },
    {
      "cell_type": "code",
      "source": [
        "from sklearn.ensemble import GradientBoostingClassifier"
      ],
      "metadata": {
        "id": "XTkcucgU-y-Z"
      },
      "execution_count": null,
      "outputs": []
    },
    {
      "cell_type": "code",
      "source": [
        "test_df['wav'][0]"
      ],
      "metadata": {
        "id": "M6yOr4aysh6k",
        "colab": {
          "base_uri": "https://localhost:8080/",
          "height": 35
        },
        "outputId": "ded52fe1-759f-4834-cfe5-1f905f57bd95"
      },
      "execution_count": null,
      "outputs": [
        {
          "output_type": "execute_result",
          "data": {
            "text/plain": [
              "'id10298/U_1vfIVOigA/00013.wav'"
            ],
            "application/vnd.google.colaboratory.intrinsic+json": {
              "type": "string"
            }
          },
          "metadata": {},
          "execution_count": 45
        }
      ]
    },
    {
      "cell_type": "code",
      "source": [
        "'''from speechbrain.dataio.dataio import read_audio\n",
        "dropper = DropFreq()\n",
        "signal = torchaudio.load('tests/samples/single-mic/example1.wav')[0]\n",
        "dropped_signal = dropper(signal)'''"
      ],
      "metadata": {
        "id": "p4brylKlx_Q8",
        "colab": {
          "base_uri": "https://localhost:8080/",
          "height": 52
        },
        "outputId": "3a8fdd83-f579-4484-f0e9-d22814aa9a34"
      },
      "execution_count": null,
      "outputs": [
        {
          "output_type": "execute_result",
          "data": {
            "text/plain": [
              "\"from speechbrain.dataio.dataio import read_audio\\ndropper = DropFreq()\\nsignal = torchaudio.load('tests/samples/single-mic/example1.wav')[0]\\ndropped_signal = dropper(signal)\""
            ],
            "application/vnd.google.colaboratory.intrinsic+json": {
              "type": "string"
            }
          },
          "metadata": {},
          "execution_count": 46
        }
      ]
    },
    {
      "cell_type": "code",
      "source": [
        "'''dropper = DropChunk(drop_start=100, drop_end=200, noise_factor=0.)\n",
        "signal = torchaudio.load('tests/samples/single-mic/example1.wav')[0]\n",
        "length = torch.ones(1)\n",
        "dropped_signal = dropper(signal, length)'''"
      ],
      "metadata": {
        "id": "R2b4SXUO3qVK",
        "colab": {
          "base_uri": "https://localhost:8080/",
          "height": 70
        },
        "outputId": "8b8a756d-28ea-4121-a68e-ec34113035fe"
      },
      "execution_count": null,
      "outputs": [
        {
          "output_type": "execute_result",
          "data": {
            "text/plain": [
              "\"dropper = DropChunk(drop_start=100, drop_end=200, noise_factor=0.)\\nsignal = torchaudio.load('tests/samples/single-mic/example1.wav')[0]\\nlength = torch.ones(1)\\ndropped_signal = dropper(signal, length)\""
            ],
            "application/vnd.google.colaboratory.intrinsic+json": {
              "type": "string"
            }
          },
          "metadata": {},
          "execution_count": 47
        }
      ]
    },
    {
      "cell_type": "code",
      "source": [
        "criteria = 'confidence'\n",
        "percentages = [0.2, 0.5, 1]\n",
        "\n",
        "import numpy as np\n",
        "chosen_idx = np.random.choice(len(train_df), replace=False, size= int(0.2 *len(train_df)))\n",
        "len(chosen_idx)\n",
        "df1 = train_df.iloc[chosen_idx]\n",
        "clf = LogisticRegression(random_state=0, max_iter=500) \n",
        "\n",
        "#clf = GradientBoostingClassifier(n_estimators=100, learning_rate=1.0, max_depth=1, random_state=0) #LogisticRegression(random_state=0, max_iter=500) \n",
        "mi_train = MIAttack_train(target_model, shadow_model, clf)\n",
        "trained_classifier = mi_train.train_classifier(train_df.reset_index())\n",
        "mi_test = MIAttack_test(target_model, trained_classifier )\n",
        "res, score = mi_test.test_classifier(test_df)\n",
        "print(score)"
      ],
      "metadata": {
        "colab": {
          "base_uri": "https://localhost:8080/",
          "height": 572
        },
        "id": "4YDWg5C_EoNp",
        "outputId": "78f71075-6766-41b0-a41b-23f0bdb49703"
      },
      "execution_count": null,
      "outputs": [
        {
          "output_type": "error",
          "ename": "KeyError",
          "evalue": "ignored",
          "traceback": [
            "\u001b[0;31m---------------------------------------------------------------------------\u001b[0m",
            "\u001b[0;31mKeyError\u001b[0m                                  Traceback (most recent call last)",
            "\u001b[0;32m/usr/local/lib/python3.10/dist-packages/pandas/core/indexes/base.py\u001b[0m in \u001b[0;36mget_loc\u001b[0;34m(self, key, method, tolerance)\u001b[0m\n\u001b[1;32m   3801\u001b[0m             \u001b[0;32mtry\u001b[0m\u001b[0;34m:\u001b[0m\u001b[0;34m\u001b[0m\u001b[0;34m\u001b[0m\u001b[0m\n\u001b[0;32m-> 3802\u001b[0;31m                 \u001b[0;32mreturn\u001b[0m \u001b[0mself\u001b[0m\u001b[0;34m.\u001b[0m\u001b[0m_engine\u001b[0m\u001b[0;34m.\u001b[0m\u001b[0mget_loc\u001b[0m\u001b[0;34m(\u001b[0m\u001b[0mcasted_key\u001b[0m\u001b[0;34m)\u001b[0m\u001b[0;34m\u001b[0m\u001b[0;34m\u001b[0m\u001b[0m\n\u001b[0m\u001b[1;32m   3803\u001b[0m             \u001b[0;32mexcept\u001b[0m \u001b[0mKeyError\u001b[0m \u001b[0;32mas\u001b[0m \u001b[0merr\u001b[0m\u001b[0;34m:\u001b[0m\u001b[0;34m\u001b[0m\u001b[0;34m\u001b[0m\u001b[0m\n",
            "\u001b[0;32m/usr/local/lib/python3.10/dist-packages/pandas/_libs/index.pyx\u001b[0m in \u001b[0;36mpandas._libs.index.IndexEngine.get_loc\u001b[0;34m()\u001b[0m\n",
            "\u001b[0;32m/usr/local/lib/python3.10/dist-packages/pandas/_libs/index.pyx\u001b[0m in \u001b[0;36mpandas._libs.index.IndexEngine.get_loc\u001b[0;34m()\u001b[0m\n",
            "\u001b[0;32mpandas/_libs/hashtable_class_helper.pxi\u001b[0m in \u001b[0;36mpandas._libs.hashtable.PyObjectHashTable.get_item\u001b[0;34m()\u001b[0m\n",
            "\u001b[0;32mpandas/_libs/hashtable_class_helper.pxi\u001b[0m in \u001b[0;36mpandas._libs.hashtable.PyObjectHashTable.get_item\u001b[0;34m()\u001b[0m\n",
            "\u001b[0;31mKeyError\u001b[0m: 'present_label'",
            "\nThe above exception was the direct cause of the following exception:\n",
            "\u001b[0;31mKeyError\u001b[0m                                  Traceback (most recent call last)",
            "\u001b[0;32m<ipython-input-48-9ff5627f640e>\u001b[0m in \u001b[0;36m<cell line: 12>\u001b[0;34m()\u001b[0m\n\u001b[1;32m     10\u001b[0m \u001b[0;31m#clf = GradientBoostingClassifier(n_estimators=100, learning_rate=1.0, max_depth=1, random_state=0) #LogisticRegression(random_state=0, max_iter=500)\u001b[0m\u001b[0;34m\u001b[0m\u001b[0;34m\u001b[0m\u001b[0m\n\u001b[1;32m     11\u001b[0m \u001b[0mmi_train\u001b[0m \u001b[0;34m=\u001b[0m \u001b[0mMIAttack_train\u001b[0m\u001b[0;34m(\u001b[0m\u001b[0mtarget_model\u001b[0m\u001b[0;34m,\u001b[0m \u001b[0mshadow_model\u001b[0m\u001b[0;34m,\u001b[0m \u001b[0mclf\u001b[0m\u001b[0;34m)\u001b[0m\u001b[0;34m\u001b[0m\u001b[0;34m\u001b[0m\u001b[0m\n\u001b[0;32m---> 12\u001b[0;31m \u001b[0mtrained_classifier\u001b[0m \u001b[0;34m=\u001b[0m \u001b[0mmi_train\u001b[0m\u001b[0;34m.\u001b[0m\u001b[0mtrain_classifier\u001b[0m\u001b[0;34m(\u001b[0m\u001b[0mtrain_df\u001b[0m\u001b[0;34m.\u001b[0m\u001b[0mreset_index\u001b[0m\u001b[0;34m(\u001b[0m\u001b[0;34m)\u001b[0m\u001b[0;34m)\u001b[0m\u001b[0;34m\u001b[0m\u001b[0;34m\u001b[0m\u001b[0m\n\u001b[0m\u001b[1;32m     13\u001b[0m \u001b[0mmi_test\u001b[0m \u001b[0;34m=\u001b[0m \u001b[0mMIAttack_test\u001b[0m\u001b[0;34m(\u001b[0m\u001b[0mtarget_model\u001b[0m\u001b[0;34m,\u001b[0m \u001b[0mtrained_classifier\u001b[0m \u001b[0;34m)\u001b[0m\u001b[0;34m\u001b[0m\u001b[0;34m\u001b[0m\u001b[0m\n\u001b[1;32m     14\u001b[0m \u001b[0mres\u001b[0m\u001b[0;34m,\u001b[0m \u001b[0mscore\u001b[0m \u001b[0;34m=\u001b[0m \u001b[0mmi_test\u001b[0m\u001b[0;34m.\u001b[0m\u001b[0mtest_classifier\u001b[0m\u001b[0;34m(\u001b[0m\u001b[0mtest_df\u001b[0m\u001b[0;34m)\u001b[0m\u001b[0;34m\u001b[0m\u001b[0;34m\u001b[0m\u001b[0m\n",
            "\u001b[0;32m<ipython-input-38-51c02b9f4a1a>\u001b[0m in \u001b[0;36mtrain_classifier\u001b[0;34m(self, data, criteria)\u001b[0m\n\u001b[1;32m    105\u001b[0m \u001b[0;34m\u001b[0m\u001b[0m\n\u001b[1;32m    106\u001b[0m   \u001b[0;32mdef\u001b[0m \u001b[0mtrain_classifier\u001b[0m\u001b[0;34m(\u001b[0m\u001b[0mself\u001b[0m\u001b[0;34m,\u001b[0m \u001b[0mdata\u001b[0m\u001b[0;34m,\u001b[0m \u001b[0mcriteria\u001b[0m \u001b[0;34m=\u001b[0m \u001b[0;34m'confidence'\u001b[0m\u001b[0;34m)\u001b[0m\u001b[0;34m:\u001b[0m\u001b[0;34m\u001b[0m\u001b[0;34m\u001b[0m\u001b[0m\n\u001b[0;32m--> 107\u001b[0;31m     \u001b[0mscores\u001b[0m\u001b[0;34m,\u001b[0m \u001b[0mlabels\u001b[0m \u001b[0;34m=\u001b[0m \u001b[0mself\u001b[0m\u001b[0;34m.\u001b[0m\u001b[0mget_queried_res\u001b[0m\u001b[0;34m(\u001b[0m\u001b[0mdata\u001b[0m\u001b[0;34m)\u001b[0m\u001b[0;34m\u001b[0m\u001b[0;34m\u001b[0m\u001b[0m\n\u001b[0m\u001b[1;32m    108\u001b[0m     \u001b[0mscores\u001b[0m\u001b[0;34m=\u001b[0m \u001b[0;34m[\u001b[0m\u001b[0;34m[\u001b[0m\u001b[0mscore\u001b[0m\u001b[0;34m]\u001b[0m \u001b[0;32mfor\u001b[0m \u001b[0mscore\u001b[0m \u001b[0;32min\u001b[0m \u001b[0mscores\u001b[0m\u001b[0;34m]\u001b[0m\u001b[0;34m\u001b[0m\u001b[0;34m\u001b[0m\u001b[0m\n\u001b[1;32m    109\u001b[0m     \u001b[0mprint\u001b[0m\u001b[0;34m(\u001b[0m\u001b[0;34m(\u001b[0m\u001b[0mscores\u001b[0m\u001b[0;34m)\u001b[0m\u001b[0;34m)\u001b[0m\u001b[0;34m\u001b[0m\u001b[0;34m\u001b[0m\u001b[0m\n",
            "\u001b[0;32m<ipython-input-38-51c02b9f4a1a>\u001b[0m in \u001b[0;36mget_queried_res\u001b[0;34m(self, data_csv)\u001b[0m\n\u001b[1;32m     68\u001b[0m     \u001b[0mstart_frame\u001b[0m \u001b[0;34m=\u001b[0m \u001b[0mdata_csv\u001b[0m\u001b[0;34m[\u001b[0m\u001b[0;34m'start'\u001b[0m\u001b[0;34m]\u001b[0m\u001b[0;34m\u001b[0m\u001b[0;34m\u001b[0m\u001b[0m\n\u001b[1;32m     69\u001b[0m     \u001b[0mend_frame\u001b[0m \u001b[0;34m=\u001b[0m \u001b[0mdata_csv\u001b[0m\u001b[0;34m[\u001b[0m\u001b[0;34m'stop'\u001b[0m\u001b[0;34m]\u001b[0m\u001b[0;34m\u001b[0m\u001b[0;34m\u001b[0m\u001b[0m\n\u001b[0;32m---> 70\u001b[0;31m     \u001b[0mlabels\u001b[0m \u001b[0;34m=\u001b[0m \u001b[0mdata_csv\u001b[0m\u001b[0;34m[\u001b[0m\u001b[0;34m'present_label'\u001b[0m\u001b[0;34m]\u001b[0m\u001b[0;34m\u001b[0m\u001b[0;34m\u001b[0m\u001b[0m\n\u001b[0m\u001b[1;32m     71\u001b[0m     \u001b[0;31m#print(data_files)\u001b[0m\u001b[0;34m\u001b[0m\u001b[0;34m\u001b[0m\u001b[0m\n\u001b[1;32m     72\u001b[0m     \u001b[0mself\u001b[0m\u001b[0;34m.\u001b[0m\u001b[0mlabels\u001b[0m \u001b[0;34m=\u001b[0m \u001b[0;34m[\u001b[0m\u001b[0;34m]\u001b[0m\u001b[0;34m\u001b[0m\u001b[0;34m\u001b[0m\u001b[0m\n",
            "\u001b[0;32m/usr/local/lib/python3.10/dist-packages/pandas/core/frame.py\u001b[0m in \u001b[0;36m__getitem__\u001b[0;34m(self, key)\u001b[0m\n\u001b[1;32m   3805\u001b[0m             \u001b[0;32mif\u001b[0m \u001b[0mself\u001b[0m\u001b[0;34m.\u001b[0m\u001b[0mcolumns\u001b[0m\u001b[0;34m.\u001b[0m\u001b[0mnlevels\u001b[0m \u001b[0;34m>\u001b[0m \u001b[0;36m1\u001b[0m\u001b[0;34m:\u001b[0m\u001b[0;34m\u001b[0m\u001b[0;34m\u001b[0m\u001b[0m\n\u001b[1;32m   3806\u001b[0m                 \u001b[0;32mreturn\u001b[0m \u001b[0mself\u001b[0m\u001b[0;34m.\u001b[0m\u001b[0m_getitem_multilevel\u001b[0m\u001b[0;34m(\u001b[0m\u001b[0mkey\u001b[0m\u001b[0;34m)\u001b[0m\u001b[0;34m\u001b[0m\u001b[0;34m\u001b[0m\u001b[0m\n\u001b[0;32m-> 3807\u001b[0;31m             \u001b[0mindexer\u001b[0m \u001b[0;34m=\u001b[0m \u001b[0mself\u001b[0m\u001b[0;34m.\u001b[0m\u001b[0mcolumns\u001b[0m\u001b[0;34m.\u001b[0m\u001b[0mget_loc\u001b[0m\u001b[0;34m(\u001b[0m\u001b[0mkey\u001b[0m\u001b[0;34m)\u001b[0m\u001b[0;34m\u001b[0m\u001b[0;34m\u001b[0m\u001b[0m\n\u001b[0m\u001b[1;32m   3808\u001b[0m             \u001b[0;32mif\u001b[0m \u001b[0mis_integer\u001b[0m\u001b[0;34m(\u001b[0m\u001b[0mindexer\u001b[0m\u001b[0;34m)\u001b[0m\u001b[0;34m:\u001b[0m\u001b[0;34m\u001b[0m\u001b[0;34m\u001b[0m\u001b[0m\n\u001b[1;32m   3809\u001b[0m                 \u001b[0mindexer\u001b[0m \u001b[0;34m=\u001b[0m \u001b[0;34m[\u001b[0m\u001b[0mindexer\u001b[0m\u001b[0;34m]\u001b[0m\u001b[0;34m\u001b[0m\u001b[0;34m\u001b[0m\u001b[0m\n",
            "\u001b[0;32m/usr/local/lib/python3.10/dist-packages/pandas/core/indexes/base.py\u001b[0m in \u001b[0;36mget_loc\u001b[0;34m(self, key, method, tolerance)\u001b[0m\n\u001b[1;32m   3802\u001b[0m                 \u001b[0;32mreturn\u001b[0m \u001b[0mself\u001b[0m\u001b[0;34m.\u001b[0m\u001b[0m_engine\u001b[0m\u001b[0;34m.\u001b[0m\u001b[0mget_loc\u001b[0m\u001b[0;34m(\u001b[0m\u001b[0mcasted_key\u001b[0m\u001b[0;34m)\u001b[0m\u001b[0;34m\u001b[0m\u001b[0;34m\u001b[0m\u001b[0m\n\u001b[1;32m   3803\u001b[0m             \u001b[0;32mexcept\u001b[0m \u001b[0mKeyError\u001b[0m \u001b[0;32mas\u001b[0m \u001b[0merr\u001b[0m\u001b[0;34m:\u001b[0m\u001b[0;34m\u001b[0m\u001b[0;34m\u001b[0m\u001b[0m\n\u001b[0;32m-> 3804\u001b[0;31m                 \u001b[0;32mraise\u001b[0m \u001b[0mKeyError\u001b[0m\u001b[0;34m(\u001b[0m\u001b[0mkey\u001b[0m\u001b[0;34m)\u001b[0m \u001b[0;32mfrom\u001b[0m \u001b[0merr\u001b[0m\u001b[0;34m\u001b[0m\u001b[0;34m\u001b[0m\u001b[0m\n\u001b[0m\u001b[1;32m   3805\u001b[0m             \u001b[0;32mexcept\u001b[0m \u001b[0mTypeError\u001b[0m\u001b[0;34m:\u001b[0m\u001b[0;34m\u001b[0m\u001b[0;34m\u001b[0m\u001b[0m\n\u001b[1;32m   3806\u001b[0m                 \u001b[0;31m# If we have a listlike key, _check_indexing_error will raise\u001b[0m\u001b[0;34m\u001b[0m\u001b[0;34m\u001b[0m\u001b[0m\n",
            "\u001b[0;31mKeyError\u001b[0m: 'present_label'"
          ]
        }
      ]
    },
    {
      "cell_type": "code",
      "source": [
        "mi_test = MIAttack_test(target_model, trained_classifier )\n",
        "res, score = mi_test.test_classifier(test_df2)"
      ],
      "metadata": {
        "colab": {
          "base_uri": "https://localhost:8080/",
          "height": 183
        },
        "id": "jUvp3QLX5KAp",
        "outputId": "48a4aedd-e231-4f3f-d092-85b61b8861e9"
      },
      "execution_count": null,
      "outputs": [
        {
          "output_type": "error",
          "ename": "NameError",
          "evalue": "ignored",
          "traceback": [
            "\u001b[0;31m---------------------------------------------------------------------------\u001b[0m",
            "\u001b[0;31mNameError\u001b[0m                                 Traceback (most recent call last)",
            "\u001b[0;32m<ipython-input-42-95aa75c48eb6>\u001b[0m in \u001b[0;36m<cell line: 1>\u001b[0;34m()\u001b[0m\n\u001b[0;32m----> 1\u001b[0;31m \u001b[0mmi_test\u001b[0m \u001b[0;34m=\u001b[0m \u001b[0mMIAttack_test\u001b[0m\u001b[0;34m(\u001b[0m\u001b[0mtarget_model\u001b[0m\u001b[0;34m,\u001b[0m \u001b[0mtrained_classifier\u001b[0m \u001b[0;34m)\u001b[0m\u001b[0;34m\u001b[0m\u001b[0;34m\u001b[0m\u001b[0m\n\u001b[0m\u001b[1;32m      2\u001b[0m \u001b[0mres\u001b[0m\u001b[0;34m,\u001b[0m \u001b[0mscore\u001b[0m \u001b[0;34m=\u001b[0m \u001b[0mmi_test\u001b[0m\u001b[0;34m.\u001b[0m\u001b[0mtest_classifier\u001b[0m\u001b[0;34m(\u001b[0m\u001b[0mtest_df2\u001b[0m\u001b[0;34m)\u001b[0m\u001b[0;34m\u001b[0m\u001b[0;34m\u001b[0m\u001b[0m\n",
            "\u001b[0;31mNameError\u001b[0m: name 'trained_classifier' is not defined"
          ]
        }
      ]
    },
    {
      "cell_type": "code",
      "source": [
        "classifier = GradientBoostingClassifier(n_estimators=100, learning_rate=1.0, max_depth=3, random_state=0) #LogisticRegression(random_state=0, max_iter=500) \n",
        "scores= [[score] for score in mi_train.scores]\n",
        "classifier = classifier.fit(scores, mi_train.labels )"
      ],
      "metadata": {
        "id": "QFiJ_7Z_z0d6"
      },
      "execution_count": null,
      "outputs": []
    },
    {
      "cell_type": "code",
      "source": [
        "res = trained_classifier.predict(scores)"
      ],
      "metadata": {
        "id": "tNJMKEvVf5xi"
      },
      "execution_count": null,
      "outputs": []
    },
    {
      "cell_type": "code",
      "source": [
        "score = classification_report(res, mi_train.labels)"
      ],
      "metadata": {
        "id": "nviewtZQgcYy"
      },
      "execution_count": null,
      "outputs": []
    },
    {
      "cell_type": "code",
      "source": [
        "print(score)"
      ],
      "metadata": {
        "id": "IOkrj0jd0T5m"
      },
      "execution_count": null,
      "outputs": []
    },
    {
      "cell_type": "code",
      "source": [
        "len(train_df['present_label']==True)"
      ],
      "metadata": {
        "id": "OPlHaFhoiUjj"
      },
      "execution_count": null,
      "outputs": []
    },
    {
      "cell_type": "code",
      "source": [
        "print(score)"
      ],
      "metadata": {
        "id": "D-gAtBejXa8z"
      },
      "execution_count": null,
      "outputs": []
    },
    {
      "cell_type": "code",
      "source": [
        "criteria = 'confidence'\n",
        "percentages = [0.2, 0.5, 1]\n",
        "\n",
        "import numpy as np\n",
        "chosen_idx = np.random.choice(len(train_df), replace=False, size= int(percentages[2] *len(train_df)))\n",
        "len(chosen_idx)\n",
        "df1 = train_df.iloc[chosen_idx]\n",
        "\n",
        "clf = LogisticRegression(random_state=0, max_iter=500) \n",
        "mi_train = MIAttack_train(target_model, shadow_model, clf)\n",
        "trained_classifier = mi_train.train_classifier(df1.reset_index())\n",
        "mi_test = MIAttack_test(target_model, trained_classifier )\n",
        "res, score = mi_test.test_classifier(test_df)"
      ],
      "metadata": {
        "id": "ksamb32jYicK"
      },
      "execution_count": null,
      "outputs": []
    },
    {
      "cell_type": "markdown",
      "source": [
        "# Load and Plot"
      ],
      "metadata": {
        "id": "bp3V250trB4S"
      }
    },
    {
      "cell_type": "code",
      "source": [
        "#train_losses = np.load('/content/speechbrain/MI Attack files/losses_train.npy')"
      ],
      "metadata": {
        "id": "TpZsMQ8GtFeS"
      },
      "execution_count": null,
      "outputs": []
    },
    {
      "cell_type": "code",
      "source": [
        "train_scores = mi_train.scores\n",
        "labels = mi_train.labels\n",
        "pos_losses, neg_losses = [], []\n",
        "for i in range(len(train_scores)):\n",
        "  if labels[i]:\n",
        "    pos_losses.append(train_scores[i])\n",
        "  else:\n",
        "    neg_losses.append(train_scores[i])"
      ],
      "metadata": {
        "id": "37AMZyv7tTL4"
      },
      "execution_count": null,
      "outputs": []
    },
    {
      "cell_type": "code",
      "source": [
        "len(pos_losses)"
      ],
      "metadata": {
        "id": "38_IVGEJhQwB",
        "colab": {
          "base_uri": "https://localhost:8080/"
        },
        "outputId": "643dacc2-1107-4a9b-a21c-b951f68259d6"
      },
      "execution_count": null,
      "outputs": [
        {
          "output_type": "execute_result",
          "data": {
            "text/plain": [
              "10000"
            ]
          },
          "metadata": {},
          "execution_count": 312
        }
      ]
    },
    {
      "cell_type": "code",
      "source": [
        "import numpy as np\n",
        "import matplotlib.pyplot as plt\n",
        "\n",
        "# Generate random data\n",
        "#x = np.random.normal(0, 1, 1000)\n",
        "#y = np.random.normal(3, 1, 1000)\n",
        "\n",
        "# Plot histograms\n",
        "plt.hist(pos_losses, bins=10, alpha=0.5, color='blue')\n",
        "plt.hist(neg_losses, bins=10, alpha=0.5, color='green')\n",
        "\n",
        "# Add labels and legend\n",
        "plt.xlabel('Cosine Scores')\n",
        "plt.ylabel('Frequency')\n",
        "plt.legend(['Positive Samples', 'Negative Samples'])\n",
        "plt.title('Loss Histogram')\n",
        "\n",
        "# Show the plot\n",
        "plt.show()\n"
      ],
      "metadata": {
        "id": "gzFk7umQueKF",
        "colab": {
          "base_uri": "https://localhost:8080/",
          "height": 472
        },
        "outputId": "1aaa10e1-3e98-42e3-c4ae-c09d5426feda"
      },
      "execution_count": null,
      "outputs": [
        {
          "output_type": "display_data",
          "data": {
            "text/plain": [
              "<Figure size 640x480 with 1 Axes>"
            ],
            "image/png": "[encoded data removed]"
          },
          "metadata": {}
        }
      ]
    },
    {
      "cell_type": "code",
      "source": [
        "`import numpy as np\n",
        "import matplotlib.pyplot as plt\n",
        "\n",
        "# Generate random data\n",
        "#x = np.random.normal(0, 1, 1000)\n",
        "#y = np.random.normal(3, 1, 1000)\n",
        "\n",
        "# Plot histograms\n",
        "plt.hist(pos_losses, bins=10, alpha=0.5, color='blue')\n",
        "plt.hist(neg_losses, bins=10, alpha=0.5, color='green')\n",
        "\n",
        "# Add labels and legend\n",
        "plt.xlabel('Cosine Scores')\n",
        "plt.ylabel('Frequency')\n",
        "plt.legend(['Positive Samples', 'Negative Samples'])\n",
        "plt.title('Loss Histogram')\n",
        "\n",
        "# Show the plot\n",
        "plt.show()\n"
      ],
      "metadata": {
        "id": "fP4kBgDCgo6X"
      },
      "execution_count": null,
      "outputs": []
    },
    {
      "cell_type": "code",
      "source": [],
      "metadata": {
        "id": "uYYJIY-xgpZn"
      },
      "execution_count": null,
      "outputs": []
    },
    {
      "cell_type": "markdown",
      "source": [
        "# Speaker level"
      ],
      "metadata": {
        "id": "rLey4QBAgvmc"
      }
    },
    {
      "cell_type": "code",
      "source": [
        "class MIAttack_test:\n",
        "  def __init__(self, target_model, classifier, batch_size = 1): \n",
        "    self.target_model = target_model\n",
        "    self.shadow_model = shadow_model\n",
        "    self.classifier = classifier\n",
        "    self.loss_func= AdditiveAngularMargin()\n",
        "    self.dropper = DropFreq()\n",
        "    self.dropper2 = DropChunk(drop_start=500, drop_end=900, noise_factor=0.)\n",
        "    self.noisifier = AddNoise('/content/speechbrain/tests/samples/annotation/noise.csv',\n",
        "                    replacements={'noise_folder': '/content/speechbrain/tests/samples/noise'})\n",
        "    self.perturbator = SpeedPerturb(orig_freq=16000, speeds=[70])\n",
        "    self.clipper = DoClip(clip_low=0.001, clip_high=0.01)\n",
        "    self.babbler = AddBabble(snr_low=0, snr_high=10)\n",
        "    self.batch = batch_size\n",
        "\n",
        "\n",
        "  def get_augment1(self, signal, freq = 16000):\n",
        "    #dropper = DropFreq()\n",
        "    signal = self.dropper(signal)\n",
        "    return signal\n",
        "  \n",
        "  def get_augment2(self, signal, freq = 16000):\n",
        "    length = torch.ones(self.batch)\n",
        "    signal = self.dropper2(signal, length)\n",
        "    return signal\n",
        "\n",
        "  def get_augment3(self, signal, freq = 16000):\n",
        "    signal = self.noisifier(signal, torch.ones(self.batch))\n",
        "    return signal\n",
        "\n",
        "  def get_augment4(self, signal, freq = 16000):\n",
        "    signal = self.perturbator(signal)\n",
        "    return signal\n",
        "\n",
        "  def get_augment5(self, signal, freq = 16000):\n",
        "    signal = self.clipper(signal)\n",
        "    return signal\n",
        "\n",
        "  def get_augment6(self, signal, freq = 16000):\n",
        "    length = torch.ones(self.batch)\n",
        "    signal = self.babbler(signal, length)\n",
        "\n",
        "  def get_augment(self, signal, freq):\n",
        "    #aug = SpecAugment()\n",
        "    #a = torch.rand([1, 80])\n",
        "    #signal = torch.squeeze(self.spec_aug(torch.unsqueeze(signal, dim = 0)))\n",
        "    #print(a.shape)\n",
        "\n",
        "    '''#print('ewr-----', signal.shape)\n",
        "    aug = SpecAugment()\n",
        "    corrupter = EnvCorrupt(babble_speaker_count=50)\n",
        "    #print('wfrwef',signal)\n",
        "    signal = torch.squeeze(aug(torch.unsqueeze(signal, dim = 0)))\n",
        "    print('------',signal)\n",
        "    signal = corrupter(signal, torch.ones(signal.shape[0]))\n",
        "    '''\n",
        "    mod_signals = [self.get_augment1(signal, freq), self.get_augment2(signal, freq), self.get_augment3(signal, freq), self.get_augment4(signal, freq), self.get_augment5(signal, freq)]\n",
        "    #clean = signal.unsqueeze(0)\n",
        "    #perturbator = SpeedPerturb(orig_freq=16000, speeds=[90])\n",
        "    #changed = perturbator(clean, torch.ones(1))\n",
        "    return mod_signals\n",
        "\n",
        "  def get_cos_sim(self, signal, freq=16000):\n",
        "    orig_signal = torch.cat(signal)\n",
        "    #output_probs1, score, index, text_lab = self.shadow_model.classify_batch(orig_signal)\n",
        "    embeddings1 = self.shadow_model.encode_batch(orig_signal)\n",
        "    aug_signals = self.get_augment(orig_signal, freq)\n",
        "    scores = torch.empty((self.batch, 1), device = \"cuda\")\n",
        "\n",
        "    for aug_signal in aug_signals:\n",
        "      #output_probs2, score2, index2, text_lab2 = self.shadow_model.classify_batch(aug_signal)\n",
        "      embeddings2 = self.shadow_model.encode_batch(aug_signal)\n",
        "      scores = torch.cat((scores, torch.nn.functional.cosine_similarity(embeddings1, embeddings2, dim = 2)), dim = 1)\n",
        "    #print(scores.shape)\n",
        "      #scores.append(distance.cosine(embeddings1.cpu(), embeddings2.cpu()))\n",
        "    #print('ececfwc', distance.cosine(orig_signal.cpu(), aug_signal.cpu()))\n",
        "    #cosine_sim=self.cos(embeddings1, embeddings2).cpu() \n",
        "    #print(embeddings1.shape, embeddings2.shape)\n",
        "    return scores[:,1:]\n",
        "\n",
        "  def query(self, signal, label = None):  #input: signal, fs = torchaudio.load(\"tests/samples/single-mic/example1.wav\")\n",
        "    score = self.get_cos_sim(signal)\n",
        "    #print(score.shape)\n",
        "    return score\n",
        "\n",
        "  def get_queried_res(self, data_csv): #input - .wav files\n",
        "    data_files = data_csv['wav']\n",
        "    start_frame = data_csv['start']\n",
        "    end_frame = data_csv['stop']\n",
        "    labels = data_csv['present_label']\n",
        "    #print(data_files)\n",
        "    self.labels = []\n",
        "    \n",
        "\n",
        "    scores = []\n",
        "    #losses = []\n",
        "  \n",
        "    for i in tqdm(range(0,len(data_files),4)):\n",
        "      signals = []\n",
        "      for j in range(self.batch):\n",
        "          f = data_files[i+j]\n",
        "          f = '/content/wav_files/wav/'+f\n",
        "          #if True:\n",
        "          signal, _ = torchaudio.load(f)\n",
        "          #print(signal.shape)\n",
        "          signal = signal[:, int(start_frame[i]) : int(end_frame[i])]\n",
        "          signals.append(signal)\n",
        "          #signal = signal[:,start_frame:end_frame]\n",
        "      score = self.query(signals, labels[i:i+self.batch])\n",
        "      #scores = scores + (torch.squeeze(score).tolist())\n",
        "      #losses.append([0])\n",
        "      scores = scores + (torch.sum(score, dim = 1)).cpu().tolist() # TODO: Add mean and std instead of sum\n",
        "      #losses.append([0])\n",
        "      self.labels+=(list(labels[i:i+self.batch]))\n",
        "\n",
        "    #print(scores)\n",
        "    self.scores = scores\n",
        "    #print(self.scores)\n",
        "    #self.losses = losses\n",
        "    #self.queries = np.array(self.queries)\n",
        "    #self.labels = np.array(self.labels)\n",
        "    return self.scores, self.labels\n",
        "\n",
        "  def test_classifier(self, data, criteria='confidence'):\n",
        "    scores, labels = self.get_queried_res(data)\n",
        "    scores= [[score] for score in scores]\n",
        "\n",
        "    res = self.classifier.predict(scores)\n",
        "\n",
        "    #score = classifier.score(queries, labels)\n",
        "    score = classification_report(res, labels)\n",
        "    return res, score"
      ],
      "metadata": {
        "id": "FPCHSz5Dg2MK"
      },
      "execution_count": null,
      "outputs": []
    },
    {
      "cell_type": "code",
      "source": [
        "class MIAttack_train:\n",
        "  def __init__(self, target_model, shadow_model, classifier, batch_size = 1): \n",
        "    self.target_model = target_model\n",
        "    self.shadow_model = shadow_model\n",
        "    self.classifier = classifier\n",
        "    self.loss_func= AdditiveAngularMargin()\n",
        "    self.spec_aug = SpecAugment()\n",
        "    self.cos = torch.nn.CosineSimilarity(dim=0)\n",
        "    self.dropper = DropFreq()\n",
        "    self.dropper2 = DropChunk(drop_start=500, drop_end=900, noise_factor=0.)\n",
        "    self.noisifier = AddNoise('/content/speechbrain/tests/samples/annotation/noise.csv',\n",
        "                    replacements={'noise_folder': '/content/speechbrain/tests/samples/noise'})\n",
        "    self.perturbator = SpeedPerturb(orig_freq=16000, speeds=[70])\n",
        "    self.clipper = DoClip(clip_low=0.001, clip_high=0.01)\n",
        "    self.babbler = AddBabble(snr_low=0, snr_high=10)\n",
        "    self.batch = batch_size\n",
        "\n",
        "\n",
        "  def get_augment1(self, signal, freq = 16000): #Drop Frequency\n",
        "    signal = self.dropper(signal)\n",
        "    return signal\n",
        "  \n",
        "  def get_augment2(self, signal, freq = 16000): #Drop Chunk \n",
        "    length = torch.ones(self.batch)\n",
        "    signal = self.dropper2(signal, length)\n",
        "    return signal\n",
        "\n",
        "  def get_augment3(self, signal, freq = 16000): #Add noise\n",
        "    signal = self.noisifier(signal, torch.ones(self.batch)) \n",
        "    return signal\n",
        "\n",
        "  def get_augment4(self, signal, freq = 16000): #Speed Pert\n",
        "    signal = self.perturbator(signal)\n",
        "    return signal\n",
        "\n",
        "  def get_augment5(self, signal, freq = 16000): #Clip audio\n",
        "    signal = self.clipper(signal)\n",
        "    return signal\n",
        "\n",
        "  def get_augment6(self, signal, freq = 16000): #Add babble\n",
        "    length = torch.ones(self.batch)\n",
        "    signal = self.babbler(signal, length)\n",
        "\n",
        "  def get_augment(self, signal, freq):\n",
        "    mod_signals = [self.get_augment1(signal, freq), self.get_augment2(signal, freq), self.get_augment3(signal, freq), self.get_augment4(signal, freq), self.get_augment5(signal, freq)]\n",
        "    return mod_signals\n",
        "\n",
        "  def get_cos_sim(self, signal, freq=16000):\n",
        "    orig_signal = torch.cat(signal)\n",
        "    #output_probs1, score, index, text_lab = self.shadow_model.classify_batch(orig_signal)\n",
        "    embeddings1 = self.shadow_model.encode_batch(orig_signal)\n",
        "    aug_signals = self.get_augment(orig_signal, freq)\n",
        "    scores = torch.empty((self.batch, 1), device = \"cuda\")\n",
        "\n",
        "    for aug_signal in aug_signals:\n",
        "      #output_probs2, score2, index2, text_lab2 = self.shadow_model.classify_batch(aug_signal)\n",
        "      embeddings2 = self.shadow_model.encode_batch(aug_signal)\n",
        "      scores = torch.cat((scores, torch.nn.functional.cosine_similarity(embeddings1, embeddings2, dim = 2)), dim = 1)\n",
        "    return scores[:,1:]\n",
        "\n",
        "  def query(self, signal, label = None):  #input: signal, fs = torchaudio.load(\"tests/samples/single-mic/example1.wav\")\n",
        "    score = self.get_cos_sim(signal)\n",
        "    #print(score.shape)\n",
        "    return score\n",
        "\n",
        "  def get_queried_res(self, data_csv): #input - .wav files\n",
        "    data_files = data_csv['wav']\n",
        "    start_frame = data_csv['start']\n",
        "    end_frame = data_csv['stop']\n",
        "    labels = data_csv['present_label']\n",
        "    #print(data_files)\n",
        "    self.labels = []\n",
        "    \n",
        "\n",
        "    scores = []\n",
        "    #losses = []\n",
        "\n",
        "    for i in tqdm(range(0,len(data_files),self.batch)):\n",
        "      signals = []\n",
        "      for j in range(self.batch):\n",
        "          f = data_files[i+j]\n",
        "          f = '/content/wav_files/wav/'+f\n",
        "          #if True:\n",
        "          signal, _ = torchaudio.load(f)\n",
        "          #print(signal.shape)\n",
        "          #print(int(start_frame[i]),int(end_frame[i]))\n",
        "          signal = signal[:, int(start_frame[i]) : int(end_frame[i])]\n",
        "          signals.append(signal)\n",
        "          #signal = signal[:,start_frame:end_frame]\n",
        "      score = self.query(signals, labels[i:i+self.batch])\n",
        "      #print('---',score.shape)\n",
        "      #scores = scores + (torch.squeeze(score).tolist())\n",
        "      #print(score.shape)\n",
        "      #print(torch.squeeze(torch.sum(score, dim = 1)).shape)\n",
        "      scores = scores + (torch.sum(score, dim = 1)).cpu().tolist()\n",
        "      #losses.append([0])\n",
        "      self.labels+=(list(labels[i:i+self.batch]))\n",
        "\n",
        "    #print(scores)\n",
        "    self.scores = scores\n",
        "    #print(self.scores)\n",
        "    #self.losses = losses\n",
        "    #self.queries = np.array(self.queries)\n",
        "    #self.labels = np.array(self.labels)\n",
        "    return self.scores, self.labels\n",
        "\n",
        "  def train_classifier(self, data, criteria = 'confidence'):\n",
        "    scores, labels = self.get_queried_res(data)\n",
        "    scores= [[score] for score in scores]\n",
        "    print((scores))\n",
        "    print((labels))\n",
        "\n",
        "    self.clf = self.classifier.fit(scores, labels )\n",
        "    return self.clf\n"
      ],
      "metadata": {
        "id": "HrBOG4FCgz_u"
      },
      "execution_count": null,
      "outputs": []
    },
    {
      "cell_type": "code",
      "source": [
        "criteria = 'confidence'\n",
        "percentages = [0.2, 0.5, 1]\n",
        "\n",
        "import numpy as np\n",
        "chosen_idx = np.random.choice(len(train_df), replace=False, size= int(percentages[2] *len(train_df)))\n",
        "len(chosen_idx)\n",
        "df1 = train_df.iloc[chosen_idx]\n",
        "batch_size = 1\n",
        "clf = LogisticRegression(random_state=0, max_iter=500) \n",
        "mi_train = MIAttack_train(target_model, shadow_model, clf)\n",
        "trained_classifier = mi_train.train_classifier(df1.reset_index())\n",
        "mi_test = MIAttack_test(target_model, trained_classifier, batch_size)\n",
        "res, score = mi_test.test_classifier(test_df)"
      ],
      "metadata": {
        "colab": {
          "base_uri": "https://localhost:8080/",
          "height": 412
        },
        "id": "FKni79xRg7yb",
        "outputId": "9db7ac78-7ea6-4f17-d7e9-f7ab2e48faa0"
      },
      "execution_count": null,
      "outputs": [
        {
          "output_type": "stream",
          "name": "stderr",
          "text": [
            "100%|██████████| 16000/16000 [29:42<00:00,  8.97it/s]\n"
          ]
        },
        {
          "output_type": "stream",
          "name": "stdout",
          "text": [
            "[[3.283939838409424], [3.4833860397338867], [3.5865325927734375], [3.2349181175231934], [3.4263248443603516], [3.275712013244629], [3.2135818004608154], [3.383665084838867], [3.426830768585205], [3.338188886642456], [3.246950387954712], [3.0979361534118652], [3.4953346252441406], [3.6670804023742676], [3.501047134399414], [3.309831142425537], [3.3696513175964355], [3.401674270629883], [3.4021494388580322], [3.7337288856506348], [3.1827006340026855], [3.4939799308776855], [3.31542706489563], [3.460818290710449], [3.4195971488952637], [3.3030779361724854], [3.608707904815674], [3.5587892532348633], [3.6401989459991455], [3.3594822883605957], [3.113175868988037], [3.3022141456604004], [3.734915256500244], [3.364428758621216], [3.2909631729125977], [3.365306854248047], [3.312117338180542], [3.371854782104492], [3.420163631439209], [3.402042865753174], [3.342540740966797], [2.866605520248413], [3.2194485664367676], [3.677644968032837], [3.5542044639587402], [3.1860456466674805], [3.148160219192505], [3.8309531211853027], [3.673168659210205], [3.3537797927856445], [3.2904675006866455], [3.4829328060150146], [3.632136583328247], [3.452512264251709], [3.356435775756836], [3.4113667011260986], [3.0733609199523926], [3.3456473350524902], [3.5559918880462646], [3.4066548347473145], [3.363798141479492], [2.9698915481567383], [3.796703338623047], [3.41245436668396], [3.534126043319702], [3.2760908603668213], [3.165593385696411], [3.5585131645202637], [3.52764892578125], [3.3823022842407227], [3.3030505180358887], [3.181056022644043], [3.4330122470855713], [3.5242292881011963], [3.4585013389587402], [3.662358045578003], [3.1688172817230225], [3.494251251220703], [3.4172043800354004], [3.4933724403381348], [3.553032636642456], [3.114058017730713], [3.3613762855529785], [3.3785462379455566], [3.186061382293701], [2.913642168045044], [3.301758289337158], [3.706949234008789], [3.4767708778381348], [3.341728687286377], [3.0870072841644287], [3.2218925952911377], [3.4978997707366943], [3.341191053390503], [3.356616973876953], [3.331900119781494], [3.2957205772399902], [3.2757668495178223], [3.5993757247924805], [3.2916839122772217], [3.210491180419922], [3.1846227645874023], [3.749539852142334], [3.246666669845581], [3.6347451210021973], [3.2691233158111572], [2.966886043548584], [3.5494158267974854], [3.4186573028564453], [3.249800443649292], [3.029548168182373], [3.4142422676086426], [3.3399477005004883], [3.4968628883361816], [3.3367903232574463], [3.173664093017578], [3.371094226837158], [3.3917856216430664], [3.417527675628662], [3.5322885513305664], [3.601463794708252], [3.218203544616699], [3.726189374923706], [3.453862190246582], [3.487494707107544], [3.5789687633514404], [2.9066503047943115], [3.5538277626037598], [3.1212775707244873], [3.216764450073242], [3.3309826850891113], [3.296837329864502], [3.784966468811035], [3.682664155960083], [3.2153420448303223], [3.0659375190734863], [3.121798038482666], [3.6784298419952393], [3.268620252609253], [3.20150089263916], [2.999833106994629], [3.1753852367401123], [3.2790074348449707], [3.395970344543457], [3.382552146911621], [3.7366299629211426], [3.419661045074463], [3.729682445526123], [3.2778000831604004], [3.2830564975738525], [3.291482925415039], [3.2452685832977295], [3.5006673336029053], [3.341757297515869], [3.425281524658203], [3.4614429473876953], [3.0863051414489746], [3.387493133544922], [3.305931329727173], [3.558852195739746], [3.246037483215332], [3.226997137069702], [3.3472816944122314], [3.212282419204712], [3.404139280319214], [3.3296773433685303], [3.1931772232055664], [3.528640031814575], [3.244555950164795], [3.548290729522705], [3.5998244285583496], [3.089062213897705], [3.4335012435913086], [3.3840370178222656], [3.5584957599639893], [3.579233169555664], [3.2189290523529053], [3.3194313049316406], [3.428907871246338], [3.395124912261963], [3.202678680419922], [3.207183599472046], [3.5356674194335938], [3.238790512084961], [3.564807891845703], [3.3023757934570312], [3.046776056289673], [3.6947875022888184], [3.7050952911376953], [3.395217180252075], [3.2055366039276123], [3.2542285919189453], [3.3756814002990723], [3.452138900756836], [3.193268299102783], [3.223567247390747], [3.1927099227905273], [3.5921404361724854], [3.3270010948181152], [3.2713623046875], [3.1080944538116455], [3.435105800628662], [3.508683919906616], [3.424236297607422], [3.737725257873535], [3.155607223510742], [3.5197949409484863], [3.3726863861083984], [3.58758807182312], [3.4710636138916016], [3.232231616973877], [3.256279945373535], [3.683382749557495], [3.49674391746521], [3.570651054382324], [3.3163599967956543], [3.1636736392974854], [3.407649278640747], [3.210928440093994], [2.970083713531494], [3.2040958404541016], [3.380171298980713], [3.3925774097442627], [3.648273468017578], [3.2323718070983887], [3.1499457359313965], [3.1701712608337402], [3.3422112464904785], [3.657106876373291], [3.156766891479492], [3.3287720680236816], [3.0318140983581543], [3.1425607204437256], [3.1060757637023926], [3.4892382621765137], [3.6466336250305176], [3.3636474609375], [3.247270107269287], [3.315394401550293], [3.1013312339782715], [3.190878391265869], [3.4981231689453125], [3.628425121307373], [3.8113346099853516], [3.5644328594207764], [3.1723456382751465], [3.096587657928467], [3.400207042694092], [3.1480727195739746], [3.6701440811157227], [3.1010184288024902], [3.735405206680298], [3.5715620517730713], [3.4413890838623047], [3.4374189376831055], [3.271867036819458], [3.4661598205566406], [3.3851418495178223], [3.3384876251220703], [3.4355154037475586], [3.20961332321167], [3.356475353240967], [3.5776164531707764], [3.3581392765045166], [3.8381152153015137], [3.1791670322418213], [3.2356762886047363], [3.382150888442993], [3.7158782482147217], [3.021853446960449], [3.0808305740356445], [3.450120449066162], [3.497559070587158], [3.4198572635650635], [3.412357807159424], [3.400298595428467], [3.4010562896728516], [3.3723320960998535], [3.35349702835083], [3.9880285263061523], [3.3834168910980225], [3.2283637523651123], [3.3907947540283203], [3.513775110244751], [3.4060657024383545], [3.363476514816284], [3.4821507930755615], [3.687736988067627], [3.313478469848633], [3.474616527557373], [3.0991947650909424], [3.1737585067749023], [3.564746856689453], [3.5253827571868896], [3.729281425476074], [3.069495439529419], [3.447251319885254], [3.3468058109283447], [3.5980746746063232], [3.564925193786621], [3.3861382007598877], [2.8483619689941406], [3.612405300140381], [3.4415926933288574], [3.1299147605895996], [3.4774389266967773], [3.1781527996063232], [3.3463659286499023], [3.468964099884033], [3.680962324142456], [3.6175835132598877], [3.209198474884033], [3.2261478900909424], [3.3586442470550537], [3.8355062007904053], [3.1251161098480225], [3.4471545219421387], [3.6590576171875], [3.339505672454834], [3.4210150241851807], [3.297302484512329], [3.2621419429779053], [3.444910764694214], [3.163738250732422], [3.406806230545044], [3.483469247817993], [3.2620272636413574], [3.432650566101074], [3.3787827491760254], [3.1264424324035645], [3.377403974533081], [3.3155722618103027], [3.2913713455200195], [3.3308095932006836], [3.7243306636810303], [3.2745201587677], [3.106350898742676], [3.315822124481201], [3.3702590465545654], [3.467622995376587], [2.955195903778076], [3.147144079208374], [3.3721351623535156], [3.111125946044922], [3.2129735946655273], [3.3780510425567627], [3.01065993309021], [3.492354154586792], [3.4159369468688965], [3.4081032276153564], [3.255887508392334], [3.0154576301574707], [3.5694313049316406], [3.505333185195923], [3.4099998474121094], [3.0692808628082275], [3.412029266357422], [3.554896593093872], [3.590121269226074], [3.3203604221343994], [3.5551891326904297], [3.0612857341766357], [3.506969451904297], [3.353036880493164], [3.4543967247009277], [3.3958828449249268], [3.313412666320801], [3.704108715057373], [3.250992774963379], [3.323819160461426], [3.257477045059204], [3.2489752769470215], [3.6354188919067383], [3.603593111038208], [3.380481243133545], [3.502746343612671], [3.3138022422790527], [3.7375807762145996], [3.540679454803467], [3.5732641220092773], [3.883798122406006], [3.092634439468384], [3.3714287281036377], [3.4554944038391113], [3.478384494781494], [3.5279645919799805], [3.4794833660125732], [3.6958086490631104], [3.551384210586548], [3.551137924194336], [3.215137481689453], [3.4566690921783447], [3.750911235809326], [2.8056118488311768], [3.5347416400909424], [3.4153218269348145], [3.558016300201416], [3.50557279586792], [3.168682813644409], [3.5366313457489014], [3.173464775085449], [3.1688015460968018], [3.5006561279296875], [3.4081850051879883], [3.319182872772217], [3.4293603897094727], [3.1881637573242188], [3.5364441871643066], [3.348510265350342], [3.501859664916992], [3.4243862628936768], [3.141331434249878], [3.8944571018218994], [3.1071629524230957], [3.7761971950531006], [3.5181479454040527], [3.2909722328186035], [3.6866676807403564], [3.895052909851074], [3.2939181327819824], [3.4267375469207764], [3.15714955329895], [3.59694766998291], [3.2193169593811035], [3.4536571502685547], [3.3995797634124756], [3.3002712726593018], [3.621934413909912], [3.169656753540039], [3.1700246334075928], [3.8624396324157715], [3.6099610328674316], [3.483710289001465], [3.4285783767700195], [3.3297901153564453], [3.0017709732055664], [3.3030405044555664], [3.560389280319214], [3.3241987228393555], [3.4963908195495605], [3.481421947479248], [3.3648266792297363], [3.6277246475219727], [3.389946937561035], [3.1721174716949463], [3.279386520385742], [3.0186870098114014], [3.5069234371185303], [3.6148393154144287], [3.365083694458008], [2.9847981929779053], [3.501267433166504], [3.3927454948425293], [3.637502670288086], [3.6144046783447266], [3.2020745277404785], [3.0539891719818115], [3.360888957977295], [3.3646364212036133], [3.5982837677001953], [3.5840859413146973], [3.2335400581359863], [3.375152587890625], [3.5100886821746826], [3.4937047958374023], [3.443049430847168], [3.4970622062683105], [3.4706227779388428], [3.4631307125091553], [3.6507973670959473], [3.4812798500061035], [3.0422983169555664], [3.2464356422424316], [3.578014850616455], [3.6855180263519287], [3.334134578704834], [3.3762025833129883], [3.6475446224212646], [3.360445022583008], [3.224925994873047], [3.1464123725891113], [3.414473533630371], [3.397270679473877], [3.301711082458496], [3.556934118270874], [3.5939698219299316], [2.8194901943206787], [3.4980995655059814], [3.5132594108581543], [3.445432424545288], [3.252941608428955], [3.315156936645508], [3.497509479522705], [3.684535026550293], [3.270618200302124], [3.175508737564087], [3.34041166305542], [3.564333438873291], [3.705932140350342], [3.856654644012451], [3.599503755569458], [3.542036771774292], [3.3774688243865967], [3.3225603103637695], [3.2501931190490723], [3.753650188446045], [3.055544853210449], [3.487926959991455], [3.5520689487457275], [3.257749080657959], [3.3017170429229736], [2.9086434841156006], [3.4777286052703857], [3.292325019836426], [3.3935813903808594], [3.2315969467163086], [3.2203850746154785], [3.760214328765869], [3.570331573486328], [3.448500633239746], [3.2128243446350098], [3.063929319381714], [3.7133145332336426], [3.1044607162475586], [3.507925033569336], [3.195774555206299], [3.3855984210968018], [3.373654365539551], [3.3316609859466553], [3.3305277824401855], [3.583930253982544], [3.1881024837493896], [3.4526963233947754], [3.358401298522949], [3.380138874053955], [2.9648478031158447], [3.2236499786376953], [3.2724320888519287], [3.641019344329834], [3.3308703899383545], [3.1889114379882812], [3.365492343902588], [3.412888288497925], [3.781290054321289], [3.534494400024414], [3.3485443592071533], [3.2913222312927246], [3.448802947998047], [3.2080800533294678], [3.358916997909546], [3.1797549724578857], [3.488926410675049], [3.479841709136963], [3.686829090118408], [3.070762872695923], [3.396732807159424], [3.3323006629943848], [3.2763919830322266], [3.075456142425537], [3.58341908454895], [3.7640433311462402], [3.471229076385498], [3.1492998600006104], [3.091653823852539], [3.5544028282165527], [3.1438753604888916], [3.3475255966186523], [3.611726999282837], [3.5157647132873535], [3.8522777557373047], [3.228872299194336], [2.9774093627929688], [3.5617470741271973], [3.2698330879211426], [3.574143409729004], [3.540255069732666], [3.2457187175750732], [3.6300132274627686], [3.527879238128662], [3.5699801445007324], [3.363645315170288], [3.1736249923706055], [3.2606663703918457], [3.1688344478607178], [3.376556634902954], [3.099482774734497], [3.521566867828369], [3.716996908187866], [3.6913771629333496], [3.500840663909912], [3.386305093765259], [3.2337241172790527], [3.507145404815674], [3.553162097930908], [3.2029199600219727], [3.3619489669799805], [3.328955888748169], [3.447791814804077], [3.5295090675354004], [3.691042184829712], [3.2540698051452637], [2.990601062774658], [3.678093910217285], [3.1697499752044678], [3.4962830543518066], [3.549895763397217], [3.3503830432891846], [3.453022003173828], [3.5539917945861816], [3.318152904510498], [3.6244945526123047], [3.1898088455200195], [3.812040328979492], [3.4474010467529297], [3.224292039871216], [3.3274974822998047], [3.0976033210754395], [3.7289626598358154], [3.304997444152832], [3.277144193649292], [3.3450963497161865], [3.3850455284118652], [3.5226879119873047], [3.49747633934021], [3.539888381958008], [3.2152862548828125], [2.9453909397125244], [3.541750907897949], [3.421060085296631], [3.654224395751953], [3.382847547531128], [3.0411009788513184], [3.499126434326172], [3.3019702434539795], [3.4086661338806152], [3.0203514099121094], [3.1949119567871094], [3.4895858764648438], [3.492959499359131], [3.242812156677246], [3.1743550300598145], [3.43852162361145], [3.449838161468506], [3.349782705307007], [3.400128126144409], [3.3755605220794678], [3.489241123199463], [3.7511720657348633], [3.3468704223632812], [3.310155153274536], [3.404357433319092], [3.393467903137207], [3.282435417175293], [3.4600863456726074], [3.1856143474578857], [3.2238519191741943], [2.9643356800079346], [3.526665687561035], [3.1373798847198486], [3.2731940746307373], [3.1747853755950928], [3.4389538764953613], [3.0792527198791504], [3.6562180519104004], [3.512751340866089], [3.3763368129730225], [3.469014883041382], [3.3777055740356445], [3.357412338256836], [3.420485496520996], [3.218648910522461], [3.4149892330169678], [3.4999005794525146], [3.343555212020874], [3.023883581161499], [3.372187376022339], [2.7398171424865723], [3.654587745666504], [3.3263607025146484], [3.1684560775756836], [3.3892078399658203], [3.017788887023926], [3.733797788619995], [3.433894634246826], [3.775466203689575], [3.3820760250091553], [3.0230441093444824], [3.981328010559082], [3.56042742729187], [3.142439126968384], [3.5732741355895996], [3.271435499191284], [3.2242815494537354], [3.1102750301361084], [3.518134117126465], [3.357304096221924], [2.969815492630005], [3.4660210609436035], [3.1870083808898926], [3.6985716819763184], [3.461442708969116], [3.308460235595703], [3.382471799850464], [3.294402837753296], [3.2744078636169434], [3.4627537727355957], [3.2066562175750732], [3.343029737472534], [3.280758857727051], [3.214632987976074], [3.6165566444396973], [3.3149726390838623], [3.521118640899658], [3.6391210556030273], [2.8735761642456055], [3.3515870571136475], [3.5710818767547607], [3.7459707260131836], [3.2872061729431152], [3.4058849811553955], [3.397272825241089], [2.939750909805298], [3.365692615509033], [3.2682366371154785], [3.322281837463379], [3.2428817749023438], [3.3155388832092285], [3.6912193298339844], [3.1094272136688232], [2.969958782196045], [3.2802982330322266], [2.9449338912963867], [3.642709255218506], [3.594696521759033], [3.1912710666656494], [3.155093193054199], [2.745352268218994], [3.6113686561584473], [3.353114604949951], [3.5310962200164795], [3.4005303382873535], [3.176844596862793], [3.890934944152832], [3.251497745513916], [3.375537872314453], [3.3584182262420654], [3.4015536308288574], [3.6064834594726562], [3.367551803588867], [3.136166572570801], [3.468146324157715], [3.074925661087036], [3.2092106342315674], [3.3150084018707275], [3.230736255645752], [3.2427186965942383], [3.2103757858276367], [3.539839506149292], [3.4168343544006348], [3.1991114616394043], [3.355865716934204], [3.5452802181243896], [3.3546409606933594], [3.5008134841918945], [3.2833924293518066], [3.4581351280212402], [3.4616646766662598], [3.686957836151123], [3.3447213172912598], [3.2729685306549072], [3.6711177825927734], [3.2578518390655518], [3.4319796562194824], [3.759249448776245], [3.2657699584960938], [2.992443084716797], [3.1879923343658447], [3.271181583404541], [3.4912068843841553], [3.3642666339874268], [3.2544240951538086], [3.4443607330322266], [3.4789528846740723], [3.667902946472168], [3.4572243690490723], [3.0619430541992188], [3.3075308799743652], [3.491325616836548], [3.5440351963043213], [3.260983943939209], [3.3037471771240234], [3.1035704612731934], [3.375947952270508], [3.6932220458984375], [3.172741413116455], [3.416813373565674], [3.3932864665985107], [3.0932109355926514], [3.482221841812134], [3.352266550064087], [3.551643133163452], [2.8656444549560547], [3.4446113109588623], [3.39579176902771], [3.596731424331665], [3.216503620147705], [3.000729560852051], [3.5574474334716797], [3.5130016803741455], [3.339566230773926], [3.288628101348877], [3.120539903640747], [3.3459134101867676], [3.4812958240509033], [3.1921210289001465], [3.6120047569274902], [3.3419954776763916], [3.629563570022583], [3.419236183166504], [3.3713433742523193], [3.0567901134490967], [3.1000020503997803], [3.5878615379333496], [3.2952780723571777], [3.399027109146118], [3.087733268737793], [3.0458667278289795], [3.5707433223724365], [3.026488780975342], [3.5277600288391113], [3.581350326538086], [3.1136088371276855], [3.7373476028442383], [3.4810879230499268], [3.275083065032959], [3.4988584518432617], [3.5525014400482178], [3.3956594467163086], [3.4740397930145264], [3.5552690029144287], [3.1824634075164795], [3.4114933013916016], [3.4067800045013428], [3.3486170768737793], [3.5411643981933594], [3.3821356296539307], [2.885564088821411], [3.476411819458008], [3.304091691970825], [3.1716740131378174], [3.152775764465332], [3.38077712059021], [3.73791766166687], [3.29060697555542], [3.4209766387939453], [3.497363567352295], [2.916527509689331], [3.319654941558838], [3.2572338581085205], [3.3858659267425537], [3.369194507598877], [3.45285701751709], [3.596313714981079], [3.0911660194396973], [3.436785936355591], [3.4679675102233887], [3.392324924468994], [3.2643048763275146], [3.5259389877319336], [3.623413324356079], [3.1986122131347656], [3.188427448272705], [3.493009090423584], [3.4600870609283447], [3.415421485900879], [3.5403547286987305], [3.2741262912750244], [3.4217348098754883], [3.323460340499878], [3.574523687362671], [3.3510046005249023], [3.2809109687805176], [3.328460454940796], [3.3542349338531494], [3.360330581665039], [3.4682116508483887], [3.336061954498291], [3.627849817276001], [3.406709671020508], [3.2258312702178955], [3.7366600036621094], [3.4260544776916504], [3.366074800491333], [3.5888426303863525], [3.433215856552124], [3.0845541954040527], [3.5346431732177734], [3.4043896198272705], [3.5388035774230957], [3.3000431060791016], [3.5119190216064453], [2.861107349395752], [3.309109687805176], [3.68941068649292], [3.392519474029541], [3.4319381713867188], [3.222540855407715], [3.313889503479004], [3.4082021713256836], [3.539982795715332], [3.1574153900146484], [3.287785530090332], [3.350644588470459], [3.76552152633667], [3.579133987426758], [3.298156261444092], [3.159984588623047], [3.6044692993164062], [3.125962257385254], [3.20107102394104], [3.4666428565979004], [3.1149165630340576], [3.7002134323120117], [3.3451426029205322], [3.393667221069336], [3.394928455352783], [3.3955135345458984], [3.5884342193603516], [3.331756591796875], [3.1232028007507324], [3.46397066116333], [3.161409854888916], [3.426283121109009], [3.410109519958496], [3.3462376594543457], [3.248562812805176], [3.540381908416748], [3.5866858959198], [3.294529914855957], [3.5509450435638428], [3.3948469161987305], [3.4360785484313965], [3.3399462699890137], [3.283255100250244], [3.3844218254089355], [3.4987597465515137], [3.1912927627563477], [3.3139073848724365], [3.377530097961426], [3.387455463409424], [3.389082670211792], [3.1317083835601807], [3.5001697540283203], [2.9895966053009033], [3.3650474548339844], [3.5724191665649414], [3.0840368270874023], [3.3012452125549316], [3.1491079330444336], [3.2754743099212646], [3.417428493499756], [3.3083910942077637], [3.661250591278076], [3.608856439590454], [3.278301239013672], [3.5841360092163086], [2.861997127532959], [3.7637574672698975], [3.7518744468688965], [3.764124870300293], [3.383634567260742], [3.4655981063842773], [3.543311595916748], [3.471473217010498], [3.1458492279052734], [3.155165433883667], [3.298527956008911], [3.2575860023498535], [3.265547275543213], [3.146885871887207], [3.302135467529297], [3.078407049179077], [3.7632126808166504], [3.165761709213257], [3.331897258758545], [3.3418450355529785], [3.3627753257751465], [3.751230001449585], [3.412783145904541], [3.207616090774536], [3.277717113494873], [3.17193865776062], [3.391118049621582], [3.4445834159851074], [3.4719791412353516], [3.304433584213257], [3.4423415660858154], [3.6004393100738525], [3.096522331237793], [3.5377233028411865], [3.0766472816467285], [3.6245205402374268], [3.508234977722168], [3.042106866836548], [3.289954662322998], [3.341818332672119], [3.466581344604492], [3.390047550201416], [3.3277077674865723], [3.2132322788238525], [3.205322265625], [3.3726978302001953], [3.562596321105957], [3.1704483032226562], [3.220649242401123], [3.445465087890625], [2.778104066848755], [3.7071924209594727], [3.738091230392456], [3.726320505142212], [3.2167491912841797], [3.021613836288452], [3.494119167327881], [3.0855867862701416], [3.386810541152954], [3.4082605838775635], [3.748324155807495], [3.1611738204956055], [3.435678005218506], [3.3408915996551514], [3.219820737838745], [3.4507787227630615], [3.4253077507019043], [3.558094024658203], [3.4161219596862793], [3.445387840270996], [3.4703471660614014], [3.5092556476593018], [3.240318775177002], [3.3667173385620117], [3.5113613605499268], [2.9046411514282227], [3.2752959728240967], [3.5232419967651367], [3.200152635574341], [3.577394723892212], [2.9769132137298584], [3.567493200302124], [3.567739486694336], [3.5985307693481445], [3.226449966430664], [3.339648485183716], [3.3076746463775635], [3.136593818664551], [3.3772945404052734], [3.0780911445617676], [3.3219757080078125], [3.3575634956359863], [3.465045928955078], [3.3095333576202393], [3.502772092819214], [3.344153642654419], [3.2913103103637695], [3.5939836502075195], [3.2588462829589844], [3.1891160011291504], [3.4762210845947266], [3.5262739658355713], [3.292501211166382], [3.196199655532837], [3.0764710903167725], [3.6539113521575928], [3.3411366939544678], [3.3714089393615723], [3.398550271987915], [3.057011127471924], [2.9466588497161865], [3.6459689140319824], [3.502872943878174], [3.7154815196990967], [3.447373151779175], [3.324474811553955], [3.5795130729675293], [3.0785768032073975], [3.484389305114746], [3.476135730743408], [3.083777904510498], [3.629910945892334], [3.4136171340942383], [3.2160706520080566], [3.2566275596618652], [3.2220115661621094], [3.3648507595062256], [3.448023557662964], [3.5073862075805664], [3.4150567054748535], [3.0399057865142822], [3.428650140762329], [3.190521717071533], [3.629366397857666], [3.1211538314819336], [3.1664137840270996], [3.304652452468872], [3.6611416339874268], [3.403108596801758], [3.1568145751953125], [3.52313232421875], [3.4398369789123535], [3.32839298248291], [3.1969099044799805], [3.132354497909546], [3.089395046234131], [3.5876736640930176], [3.3924145698547363], [3.416226863861084], [3.717195510864258], [3.3646726608276367], [3.494830369949341], [3.59242582321167], [3.6609723567962646], [3.217674732208252], [2.915764331817627], [3.7166566848754883], [3.3804898262023926], [3.2218897342681885], [3.5298404693603516], [3.0516347885131836], [3.5198898315429688], [3.4897122383117676], [3.5167102813720703], [3.0530476570129395], [2.888087749481201], [3.207699775695801], [3.1962859630584717], [3.2177300453186035], [3.556943893432617], [3.087777853012085], [3.376312732696533], [3.3974180221557617], [3.3417680263519287], [3.4639923572540283], [2.3732542991638184], [3.731095314025879], [3.4716954231262207], [3.3939294815063477], [3.402024030685425], [3.072373628616333], [3.554983139038086], [3.3304710388183594], [3.655446767807007], [3.4940476417541504], [3.2523984909057617], [3.3315224647521973], [3.515902519226074], [3.721177101135254], [3.499899387359619], [3.3743600845336914], [3.4239115715026855], [3.6159539222717285], [3.2341885566711426], [3.589359760284424], [3.087955951690674], [3.5149831771850586], [3.6618881225585938], [3.272050142288208], [3.1853058338165283], [2.9895174503326416], [3.753988027572632], [3.6107804775238037], [3.336470603942871], [3.373952865600586], [3.6218857765197754], [3.5556225776672363], [3.442437171936035], [3.344980239868164], [3.362598419189453], [3.518007755279541], [3.6512207984924316], [3.0117859840393066], [3.1673238277435303], [3.1914854049682617], [3.267674684524536], [3.7398171424865723], [3.451627492904663], [3.493363380432129], [3.0514822006225586], [3.444615125656128], [3.2348222732543945], [3.201061248779297], [3.4552266597747803], [3.5280680656433105], [3.402470827102661], [3.399352788925171], [3.605043888092041], [3.305551767349243], [3.1301169395446777], [3.0395307540893555], [3.6339454650878906], [3.530524730682373], [3.6510982513427734], [3.3022539615631104], [2.958165168762207], [3.408310651779175], [3.170779228210449], [3.1627955436706543], [3.3387866020202637], [3.0849907398223877], [3.722477912902832], [3.406104564666748], [3.2559561729431152], [3.3156533241271973], [3.216913938522339], [3.4091193675994873], [3.4612996578216553], [3.5388879776000977], [3.571160316467285], [3.145138740539551], [3.296804904937744], [3.236238718032837], [3.2029528617858887], [2.9033126831054688], [3.2793095111846924], [3.442232131958008], [3.1805977821350098], [3.511388063430786], [3.3946824073791504], [3.356541633605957], [3.5092227458953857], [3.6081385612487793], [3.245661735534668], [3.5916905403137207], [3.3570401668548584], [3.472937822341919], [3.6020240783691406], [3.2820444107055664], [3.4882073402404785], [3.1873159408569336], [3.536940097808838], [3.230841636657715], [3.6156015396118164], [3.55934739112854], [3.493945837020874], [3.3352367877960205], [3.5000619888305664], [3.3015003204345703], [3.3628487586975098], [3.007030487060547], [3.6841063499450684], [3.4986743927001953], [3.072187900543213], [3.365968704223633], [2.7557365894317627], [3.5800580978393555], [3.072514057159424], [3.7689802646636963], [3.2296321392059326], [3.2305538654327393], [3.579239845275879], [3.642106294631958], [3.453126907348633], [3.517653465270996], [3.5036301612854004], [3.6696362495422363], [3.624810218811035], [3.7187962532043457], [3.383857250213623], [2.9215965270996094], [3.507530450820923], [3.369790554046631], [3.370462417602539], [3.5497539043426514], [3.012065887451172], [3.4473583698272705], [3.1067519187927246], [3.004866600036621], [3.391902208328247], [3.363720417022705], [3.3929624557495117], [3.3971738815307617], [3.2623202800750732], [3.11391544342041], [3.50009822845459], [3.1745071411132812], [3.3775546550750732], [3.437483787536621], [3.7560644149780273], [2.865196704864502], [3.325070381164551], [3.3425934314727783], [3.1812005043029785], [3.2473549842834473], [3.3528072834014893], [3.327474594116211], [3.908839702606201], [3.363079071044922], [3.010775327682495], [3.417842388153076], [3.4735426902770996], [3.367347240447998], [3.687833786010742], [3.181257486343384], [3.199392318725586], [3.634124755859375], [3.466419219970703], [3.7851665019989014], [3.3799562454223633], [3.4633827209472656], [3.6587181091308594], [3.4697518348693848], [3.2609126567840576], [3.3269753456115723], [2.9920637607574463], [3.7106034755706787], [3.6129183769226074], [3.248253583908081], [3.148287773132324], [3.125028371810913], [3.5177338123321533], [3.32389235496521], [3.2316455841064453], [3.1704955101013184], [3.298262357711792], [3.517976760864258], [3.349069118499756], [3.3800549507141113], [3.580811023712158], [2.9940273761749268], [3.5775585174560547], [3.3784244060516357], [3.5766143798828125], [3.018223285675049], [2.988018035888672], [3.4774811267852783], [3.830179214477539], [3.2083423137664795], [3.4216878414154053], [3.023261785507202], [3.4591169357299805], [3.6069793701171875], [3.3873844146728516], [3.2718629837036133], [3.4861900806427], [3.5601844787597656], [3.3259594440460205], [2.953313112258911], [3.371070146560669], [3.29414439201355], [3.672532558441162], [3.691099166870117], [3.355526924133301], [3.2668280601501465], [3.5602211952209473], [3.211650848388672], [3.4946165084838867], [3.0410237312316895], [3.32023549079895], [3.0730881690979004], [3.6627602577209473], [3.218520402908325], [3.0013387203216553], [3.6927783489227295], [3.3075473308563232], [3.6964542865753174], [3.4626173973083496], [3.0229530334472656], [3.264793634414673], [3.3993780612945557], [3.5188591480255127], [3.510030508041382], [3.291494369506836], [3.475036144256592], [3.5026063919067383], [3.647643566131592], [3.4169838428497314], [3.4679999351501465], [3.475945472717285], [3.1100590229034424], [3.6452889442443848], [3.7372629642486572], [3.2708189487457275], [3.2316598892211914], [3.2940196990966797], [3.277268409729004], [3.603623390197754], [3.5153675079345703], [3.1386520862579346], [3.355480194091797], [3.46572208404541], [3.5853638648986816], [3.434851884841919], [3.509568214416504], [3.1051383018493652], [3.460303544998169], [3.462266683578491], [3.0253984928131104], [3.7597479820251465], [3.329237937927246], [3.3987889289855957], [3.4484071731567383], [3.1831374168395996], [3.6654274463653564], [3.0198841094970703], [3.2599539756774902], [3.373319149017334], [3.328606128692627], [3.3499302864074707], [2.9494762420654297], [3.4095072746276855], [3.307769298553467], [3.25213360786438], [3.1497678756713867], [3.443695068359375], [3.6733953952789307], [3.3590164184570312], [3.500622510910034], [3.1563119888305664], [3.3404366970062256], [3.629384756088257], [3.5135679244995117], [3.3405230045318604], [3.2138185501098633], [3.00838565826416], [3.813316822052002], [3.649411678314209], [3.5186028480529785], [3.6319358348846436], [3.276096820831299], [3.41654896736145], [3.5666112899780273], [3.6677088737487793], [3.1020796298980713], [3.0715010166168213], [3.496096611022949], [3.6343812942504883], [3.3326327800750732], [3.336632490158081], [3.327197313308716], [3.585109233856201], [3.271864652633667], [3.397193193435669], [3.343947649002075], [3.0767557621002197], [3.700784206390381], [3.541288375854492], [3.436678647994995], [3.178218364715576], [3.223322868347168], [3.5030601024627686], [3.5337557792663574], [3.3414816856384277], [3.5808258056640625], [3.2450571060180664], [3.450862407684326], [3.5828211307525635], [3.5530142784118652], [3.2880821228027344], [3.0437963008880615], [3.4399147033691406], [3.2937753200531006], [3.340850353240967], [2.992716073989868], [3.150282859802246], [3.4014666080474854], [3.65429425239563], [3.4610581398010254], [3.4479763507843018], [3.3174314498901367], [3.3171679973602295], [3.5474624633789062], [3.444976806640625], [3.1654841899871826], [3.115622043609619], [3.7021658420562744], [3.239016056060791], [3.295788288116455], [3.3884100914001465], [2.959395170211792], [3.597320079803467], [3.17995548248291], [3.5537333488464355], [3.2457427978515625], [3.2435669898986816], [3.6182053089141846], [3.512228488922119], [3.350857734680176], [3.2372922897338867], [3.263829469680786], [3.5470376014709473], [3.5980384349823], [3.717301368713379], [3.330003261566162], [3.0647945404052734], [3.196406841278076], [3.547569751739502], [3.6139612197875977], [3.395061492919922], [3.0417685508728027], [3.435030460357666], [3.5581815242767334], [3.5701851844787598], [3.5882511138916016], [3.2028889656066895], [3.723792791366577], [3.196805000305176], [3.2176871299743652], [3.798409938812256], [3.152398109436035], [3.5290706157684326], [3.6102731227874756], [3.1089823246002197], [3.214681386947632], [3.225712537765503], [3.337557554244995], [3.4489946365356445], [3.2702269554138184], [3.3684864044189453], [3.225767135620117], [3.3266420364379883], [3.6016972064971924], [3.4125418663024902], [3.2112367153167725], [3.3069934844970703], [3.617095708847046], [3.312499523162842], [3.5445499420166016], [3.126194953918457], [3.1401052474975586], [3.5046586990356445], [3.2667322158813477], [3.5747127532958984], [3.0457260608673096], [3.066939115524292], [3.550314426422119], [3.473069429397583], [3.48923397064209], [3.3085365295410156], [2.893803119659424], [3.4131674766540527], [3.180799961090088], [3.4633851051330566], [3.3546841144561768], [3.2027413845062256], [3.5099363327026367], [3.5815377235412598], [3.3876326084136963], [3.4576539993286133], [3.111909866333008], [3.773263931274414], [3.4350342750549316], [3.4303762912750244], [3.3147261142730713], [3.3949930667877197], [3.5950992107391357], [3.334386110305786], [3.5745224952697754], [3.6120107173919678], [3.2481203079223633], [3.533123016357422], [3.4423718452453613], [3.125382661819458], [3.3547556400299072], [3.056356906890869], [3.376835584640503], [3.4398193359375], [3.4907150268554688], [3.596233606338501], [3.3130528926849365], [3.5170137882232666], [3.4123470783233643], [3.5611751079559326], [3.6022984981536865], [2.795305013656616], [3.322993040084839], [3.261622905731201], [3.5951132774353027], [3.3174374103546143], [3.316549777984619], [3.52781343460083], [3.350032091140747], [3.3379993438720703], [3.5540926456451416], [2.9869894981384277], [3.538538694381714], [3.2888495922088623], [3.367751121520996], [3.49287748336792], [3.205092430114746], [3.5751190185546875], [3.31729793548584], [3.5569825172424316], [3.237401008605957], [3.2972540855407715], [3.1416540145874023], [3.1620914936065674], [3.6661667823791504], [3.2199723720550537], [2.999065399169922], [3.3464298248291016], [3.0313329696655273], [3.3045825958251953], [3.49558162689209], [2.862467050552368], [3.367561101913452], [3.405813217163086], [3.4213614463806152], [3.3748841285705566], [2.9840683937072754], [3.38537335395813], [3.6589179039001465], [3.425238609313965], [3.2313432693481445], [3.1960697174072266], [3.5789999961853027], [3.653197765350342], [3.497100591659546], [3.100116729736328], [3.248748302459717], [3.561234712600708], [3.922071933746338], [3.421008348464966], [3.500077247619629], [3.340787887573242], [3.584670066833496], [3.2078709602355957], [3.6016430854797363], [3.726167917251587], [3.377751588821411], [3.437282085418701], [3.4170174598693848], [3.502122402191162], [3.362241268157959], [3.1392946243286133], [3.3369925022125244], [3.681236505508423], [3.2330784797668457], [3.4715542793273926], [3.16882586479187], [3.766573190689087], [3.4319210052490234], [3.6060266494750977], [3.1682348251342773], [3.009756565093994], [3.151271343231201], [3.3357300758361816], [3.3132288455963135], [3.202707290649414], [3.13020658493042], [3.2542450428009033], [3.2426137924194336], [3.2884035110473633], [3.221543073654175], [3.2841222286224365], [3.445158004760742], [3.1472654342651367], [3.557224750518799], [3.271130323410034], [3.4023690223693848], [3.5606112480163574], [3.6078109741210938], [3.415494441986084], [3.351902961730957], [3.105755090713501], [3.619093418121338], [3.4007701873779297], [3.272658348083496], [3.1227669715881348], [3.1304640769958496], [3.5053322315216064], [3.504395008087158], [3.315242052078247], [3.339664936065674], [3.4409356117248535], [3.60233736038208], [3.215240001678467], [3.6705479621887207], [3.2964258193969727], [3.272952079772949], [3.603193998336792], [3.621323823928833], [3.210068702697754], [3.544524669647217], [3.407228469848633], [3.412388801574707], [3.5216965675354004], [3.173081874847412], [3.2849385738372803], [3.0392374992370605], [3.50592041015625], [3.843337059020996], [3.4967758655548096], [3.1696736812591553], [3.5356550216674805], [3.6906089782714844], [3.2635819911956787], [3.4771060943603516], [3.36354923248291], [3.1646523475646973], [3.4630887508392334], [3.3871073722839355], [3.1110973358154297], [3.366392135620117], [3.2554759979248047], [3.648836374282837], [3.0793275833129883], [3.44870924949646], [3.328345775604248], [3.0436272621154785], [3.5806703567504883], [3.436692237854004], [3.491367816925049], [3.351409435272217], [3.223376750946045], [3.6912264823913574], [3.4406909942626953], [3.1952333450317383], [3.5933241844177246], [2.8625335693359375], [3.7629029750823975], [3.3324995040893555], [3.5628538131713867], [3.186952590942383], [3.146181106567383], [3.4287872314453125], [3.27665376663208], [3.333843231201172], [3.414720296859741], [3.220864772796631], [3.348102331161499], [3.622870445251465], [3.457681179046631], [3.49611759185791], [3.265133857727051], [3.477743625640869], [3.1936323642730713], [3.3341758251190186], [3.3776321411132812], [2.995828151702881], [3.330484390258789], [3.336754560470581], [3.277184247970581], [3.681521415710449], [2.6842164993286133], [3.5785858631134033], [3.6659140586853027], [3.513836622238159], [3.5601627826690674], [3.483734607696533], [3.4388833045959473], [3.5957212448120117], [2.9718689918518066], [3.045430898666382], [3.1758432388305664], [3.6509199142456055], [3.5142762660980225], [3.5912985801696777], [3.357851505279541], [3.0519423484802246], [3.401693344116211], [3.457253932952881], [3.3517067432403564], [3.155024290084839], [3.221376419067383], [3.598271608352661], [3.2031421661376953], [3.2754926681518555], [3.3604111671447754], [3.4559943675994873], [3.3703083992004395], [3.22062349319458], [3.412888526916504], [3.151482582092285], [3.377671003341675], [3.762789726257324], [3.5592310428619385], [3.6490654945373535], [3.4685728549957275], [3.152538299560547], [3.883298397064209], [3.454131603240967], [3.358975410461426], [3.557659864425659], [3.3077821731567383], [3.3433678150177], [3.2856802940368652], [3.3405184745788574], [3.3071823120117188], [3.2839195728302], [3.3940858840942383], [3.3048243522644043], [3.6371402740478516], [3.1176657676696777], [3.155881881713867], [3.52756929397583], [2.925588607788086], [3.364993095397949], [3.1736044883728027], [3.3223767280578613], [3.3249573707580566], [3.1919655799865723], [3.3470749855041504], [3.2737374305725098], [2.8640432357788086], [3.5298352241516113], [3.337357997894287], [3.3842921257019043], [3.4016265869140625], [3.7453408241271973], [3.3939738273620605], [3.4186911582946777], [3.2628839015960693], [3.124784231185913], [3.1805508136749268], [3.6788086891174316], [3.497565507888794], [3.627988815307617], [3.6237387657165527], [3.3109192848205566], [3.6291370391845703], [3.4825592041015625], [3.4056358337402344], [3.4671969413757324], [3.021918773651123], [3.567946434020996], [3.7569570541381836], [3.0922727584838867], [3.2846670150756836], [3.216081142425537], [3.681629180908203], [3.7615771293640137], [3.6241307258605957], [3.431084156036377], [3.3935132026672363], [3.4053752422332764], [3.480252504348755], [3.3857645988464355], [3.3815391063690186], [3.429140329360962], [3.4099526405334473], [3.584031581878662], [3.333754062652588], [3.090782642364502], [3.4601244926452637], [3.6973772048950195], [3.5885708332061768], [3.327167272567749], [3.2407960891723633], [3.475769519805908], [3.221287488937378], [3.2314703464508057], [3.1765823364257812], [3.255000591278076], [3.5065383911132812], [3.8182101249694824], [3.469589948654175], [3.764646530151367], [3.596902847290039], [3.1859121322631836], [3.45697021484375], [3.5788185596466064], [3.7516441345214844], [3.159078598022461], [3.4450759887695312], [3.368281841278076], [3.364135265350342], [3.2907090187072754], [3.473637819290161], [2.751689910888672], [3.5139060020446777], [3.690258502960205], [3.2927262783050537], [3.4437739849090576], [3.3889474868774414], [3.6886518001556396], [3.5679500102996826], [3.3440043926239014], [3.573995351791382], [3.0897252559661865], [3.419875144958496], [3.536972999572754], [3.1701130867004395], [3.270259380340576], [3.5413994789123535], [3.5693750381469727], [3.1877732276916504], [3.4186370372772217], [2.948375940322876], [3.4112324714660645], [3.464667797088623], [3.3326416015625], [3.4611916542053223], [3.3096532821655273], [3.336590528488159], [3.7052063941955566], [3.3143255710601807], [3.4320473670959473], [3.3128113746643066], [3.4058852195739746], [3.317711353302002], [3.497114658355713], [3.2045812606811523], [3.32716703414917], [3.4959678649902344], [3.8371400833129883], [3.4455089569091797], [3.1904380321502686], [3.111787796020508], [3.1989872455596924], [3.4337358474731445], [3.456441879272461], [3.381990432739258], [3.241849660873413], [2.9329395294189453], [3.384829044342041], [3.5000836849212646], [3.3863303661346436], [3.8055419921875], [3.179668426513672], [3.531214714050293], [3.5138421058654785], [3.6012067794799805], [3.4369144439697266], [3.5187859535217285], [3.5237603187561035], [3.3891983032226562], [3.2688169479370117], [3.3798930644989014], [3.573477268218994], [3.530569553375244], [3.5057005882263184], [3.435347080230713], [3.2269721031188965], [3.2707858085632324], [3.4769821166992188], [3.5874009132385254], [3.341914176940918], [3.2265844345092773], [3.363732099533081], [3.397336959838867], [3.2914700508117676], [3.487698554992676], [3.283442497253418], [3.1099066734313965], [3.599982738494873], [3.359213352203369], [3.5470833778381348], [3.479132890701294], [3.436680316925049], [3.414217948913574], [3.264613151550293], [3.108140468597412], [3.1644816398620605], [3.147899866104126], [3.6282224655151367], [3.286543846130371], [3.131798267364502], [3.137132406234741], [2.557872772216797], [3.546682596206665], [3.3419189453125], [3.7910313606262207], [3.5282599925994873], [3.301299810409546], [3.272183418273926], [3.607436180114746], [3.4130780696868896], [3.786018133163452], [3.1195850372314453], [3.606783866882324], [3.277010679244995], [3.2296109199523926], [3.485970973968506], [2.8760223388671875], [3.7549149990081787], [3.4452831745147705], [3.3494672775268555], [3.395956039428711], [3.3165783882141113], [3.6478796005249023], [3.4221959114074707], [3.5450799465179443], [3.4020161628723145], [3.1257729530334473], [3.598215103149414], [3.584728717803955], [3.361201763153076], [3.456425666809082], [3.5975420475006104], [3.6096291542053223], [2.96266508102417], [3.3808727264404297], [3.5010931491851807], [3.0722737312316895], [3.410053014755249], [3.25620174407959], [3.4028139114379883], [3.5190176963806152], [3.3716049194335938], [3.687106132507324], [3.567798376083374], [3.389030694961548], [3.4758970737457275], [3.1133811473846436], [3.546853542327881], [3.5410923957824707], [3.3384928703308105], [3.281872510910034], [3.283994197845459], [3.5353260040283203], [3.7431459426879883], [3.1763758659362793], [3.664552688598633], [3.1598703861236572], [3.606813430786133], [3.1868104934692383], [3.0068531036376953], [3.3857030868530273], [3.160163640975952], [3.4003219604492188], [3.444864511489868], [3.6163854598999023], [3.3843700885772705], [3.6475250720977783], [3.257138729095459], [3.4576117992401123], [3.407331943511963], [3.568079948425293], [3.134711742401123], [3.333503246307373], [3.325988292694092], [3.623025894165039], [3.5286858081817627], [3.2468230724334717], [4.010379791259766], [3.5592215061187744], [3.8002405166625977], [3.185546875], [3.0546751022338867], [3.28499174118042], [2.998232364654541], [3.1527318954467773], [3.2806382179260254], [3.0042998790740967], [3.264455795288086], [3.378364086151123], [3.417876720428467], [3.411674976348877], [3.13124418258667], [3.0226151943206787], [3.314392566680908], [3.2790305614471436], [3.4472005367279053], [3.4449994564056396], [3.503549098968506], [3.5663070678710938], [3.3687753677368164], [3.280186891555786], [3.244574785232544], [3.1718804836273193], [3.524540901184082], [3.3770341873168945], [3.542634963989258], [3.042196273803711], [3.5951666831970215], [3.4964759349823], [3.3317806720733643], [3.2775959968566895], [3.4407565593719482], [3.6105339527130127], [3.437166929244995], [3.2292349338531494], [3.1437430381774902], [3.5390589237213135], [3.2070436477661133], [3.2202844619750977], [3.4899590015411377], [3.0995330810546875], [3.3074662685394287], [3.2217259407043457], [3.3790013790130615], [3.501554250717163], [3.4876694679260254], [3.2190749645233154], [3.185675621032715], [3.542426824569702], [3.6223888397216797], [3.229834794998169], [2.9594855308532715], [3.3281469345092773], [3.3246498107910156], [3.508143424987793], [3.249979019165039], [3.0079727172851562], [3.052532196044922], [3.676795482635498], [3.236389398574829], [3.463992118835449], [3.121567726135254], [3.597154140472412], [3.728398323059082], [3.3908824920654297], [3.064887285232544], [3.046661376953125], [3.640751838684082], [3.3596816062927246], [3.887493371963501], [3.1146254539489746], [3.1946778297424316], [3.466221332550049], [3.318746566772461], [3.3680381774902344], [3.4702064990997314], [3.77329421043396], [3.7489094734191895], [3.4756040573120117], [3.457019090652466], [3.581839084625244], [3.206108570098877], [3.396467924118042], [3.49579119682312], [3.4621782302856445], [3.2588205337524414], [3.241222381591797], [3.7081305980682373], [3.469726085662842], [3.3395349979400635], [3.355736494064331], [3.2545552253723145], [3.5577611923217773], [3.3076536655426025], [3.3866214752197266], [3.2754974365234375], [3.309999942779541], [3.456650733947754], [3.208052158355713], [3.1458399295806885], [3.3230018615722656], [3.348036766052246], [3.3504321575164795], [3.5001254081726074], [3.5069527626037598], [3.2759761810302734], [2.663886308670044], [3.3931188583374023], [3.328248977661133], [3.0247159004211426], [3.1686575412750244], [3.0487520694732666], [3.583122730255127], [3.353013515472412], [3.400969982147217], [3.6649765968322754], [3.0832693576812744], [3.5298051834106445], [3.814012289047241], [3.367915630340576], [3.476731538772583], [3.091732978820801], [3.4834742546081543], [3.4554386138916016], [3.200423240661621], [3.41563081741333], [2.930413007736206], [3.360926628112793], [3.5432419776916504], [3.233543872833252], [2.8664731979370117], [3.166538715362549], [3.2354321479797363], [3.70011830329895], [3.0241684913635254], [3.3343472480773926], [3.415924549102783], [3.431654453277588], [3.051713466644287], [3.148365020751953], [3.29404354095459], [3.1147983074188232], [3.7167868614196777], [3.238283395767212], [3.6343579292297363], [3.2694501876831055], [3.1281638145446777], [3.4219260215759277], [3.574626922607422], [3.235870838165283], [3.3950037956237793], [3.3660459518432617], [3.383603572845459], [3.306032180786133], [3.2763073444366455], [3.418302297592163], [2.850661516189575], [3.0257623195648193], [3.5496482849121094], [3.5379738807678223], [3.4585142135620117], [3.3109641075134277], [3.5474958419799805], [3.3547043800354004], [3.411963939666748], [3.3046507835388184], [3.4223527908325195], [3.5952067375183105], [3.04034423828125], [3.2734792232513428], [3.0572986602783203], [3.1848464012145996], [3.654646873474121], [3.4445953369140625], [3.31815505027771], [3.870340347290039], [3.2987422943115234], [3.3009748458862305], [3.4793171882629395], [3.5193519592285156], [3.4366583824157715], [3.7163777351379395], [3.6871020793914795], [3.1788170337677], [3.556021213531494], [3.4194939136505127], [3.7061891555786133], [3.4127988815307617], [3.4932734966278076], [3.686995506286621], [3.572458267211914], [2.765273094177246], [3.593794822692871], [3.233067035675049], [3.526554822921753], [3.4978156089782715], [3.1177563667297363], [3.245964288711548], [3.2554397583007812], [3.163210868835449], [3.0699620246887207], [3.094048500061035], [3.5201802253723145], [3.421766996383667], [3.4785261154174805], [3.3063366413116455], [2.8761682510375977], [3.3416504859924316], [3.209503650665283], [3.216000556945801], [3.168551445007324], [2.8530197143554688], [3.2512707710266113], [3.563866138458252], [3.4878129959106445], [3.285984516143799], [2.922489643096924], [3.481466293334961], [3.494417428970337], [3.4402518272399902], [3.2441067695617676], [3.2137229442596436], [3.6674118041992188], [3.342111110687256], [3.216559886932373], [3.2073707580566406], [3.4080467224121094], [3.5222482681274414], [3.292367458343506], [3.5389747619628906], [3.482296943664551], [3.5789289474487305], [3.7264537811279297], [3.3413848876953125], [3.5642523765563965], [3.3421926498413086], [3.273160457611084], [3.345282554626465], [3.4739575386047363], [3.3036131858825684], [3.3110504150390625], [3.618593215942383], [3.1865251064300537], [3.434546947479248], [3.4103682041168213], [3.6170029640197754], [3.0746946334838867], [3.444835901260376], [3.5862348079681396], [3.416496515274048], [3.1413254737854004], [3.325833320617676], [3.5304245948791504], [3.354959487915039], [3.4315757751464844], [3.181643009185791], [3.269848585128784], [3.6137239933013916], [3.464940071105957], [3.3952150344848633], [3.28395676612854], [3.291245460510254], [3.4840469360351562], [3.5831315517425537], [3.3507494926452637], [3.4398632049560547], [3.3237595558166504], [3.6407792568206787], [3.2563769817352295], [3.333662748336792], [3.595633029937744], [3.264770984649658], [3.428635597229004], [3.327414035797119], [3.2016468048095703], [3.515178680419922], [2.9250690937042236], [3.4658491611480713], [3.151445150375366], [3.285243272781372], [3.0697154998779297], [3.344536304473877], [3.3856253623962402], [3.670834541320801], [3.1146106719970703], [3.2029972076416016], [2.9810352325439453], [3.5127599239349365], [3.2011494636535645], [3.258720874786377], [3.3074331283569336], [3.361524820327759], [3.0664846897125244], [3.783041000366211], [3.3847126960754395], [3.4266114234924316], [3.436852216720581], [3.2496848106384277], [3.5482726097106934], [3.3302485942840576], [3.214799404144287], [3.380420207977295], [3.4611001014709473], [4.05717658996582], [3.2958765029907227], [3.4945335388183594], [3.08414888381958], [3.535311222076416], [3.2905619144439697], [3.4750423431396484], [3.598660945892334], [2.9762465953826904], [3.4392781257629395], [3.313248634338379], [3.688084363937378], [3.429257392883301], [2.7693662643432617], [3.557645082473755], [3.708251476287842], [3.465641736984253], [3.697451114654541], [3.404758930206299], [3.385362148284912], [3.745194911956787], [3.3965511322021484], [3.194232702255249], [2.843449592590332], [3.6869897842407227], [3.2935116291046143], [3.5425009727478027], [3.6036465167999268], [3.114201307296753], [3.5495848655700684], [3.225438117980957], [3.573943614959717], [3.066483974456787], [3.101616859436035], [3.638345956802368], [3.2511544227600098], [3.4330801963806152], [3.6636338233947754], [3.506274700164795], [3.47867488861084], [3.768449068069458], [3.6942200660705566], [3.356081008911133], [3.250931978225708], [3.277266502380371], [3.521279811859131], [3.1985015869140625], [3.298790454864502], [3.2557601928710938], [3.5455586910247803], [3.45623779296875], [3.2241714000701904], [3.2092490196228027], [3.199376344680786], [3.446058988571167], [3.3664960861206055], [3.7203691005706787], [3.361642360687256], [3.137087345123291], [3.5130326747894287], [3.171114683151245], [3.6140198707580566], [3.1615562438964844], [2.9906482696533203], [3.2114102840423584], [3.3404810428619385], [3.1373519897460938], [3.525728702545166], [3.1467318534851074], [3.5795013904571533], [3.2322888374328613], [3.1879875659942627], [3.426542043685913], [3.1628825664520264], [3.688291311264038], [3.2800240516662598], [3.2702367305755615], [3.0700597763061523], [3.0633137226104736], [3.5695998668670654], [3.6301279067993164], [3.790616989135742], [3.5020735263824463], [3.2213656902313232], [3.3745129108428955], [3.4774744510650635], [3.2438244819641113], [3.757582187652588], [3.09567928314209], [3.476665496826172], [3.6561779975891113], [3.27000093460083], [3.2027478218078613], [2.949122905731201], [3.574939250946045], [3.481733798980713], [3.5148253440856934], [3.2827224731445312], [3.23842716217041], [3.7027745246887207], [3.302762746810913], [3.1426467895507812], [2.950190544128418], [3.049431324005127], [3.683189630508423], [3.620772123336792], [3.45965313911438], [3.2870068550109863], [3.4110348224639893], [3.6308529376983643], [3.211045026779175], [3.4649550914764404], [3.746035099029541], [3.300267457962036], [3.7230677604675293], [3.305349349975586], [3.388016700744629], [3.634819746017456], [3.4366536140441895], [3.739927291870117], [3.6668620109558105], [3.3030667304992676], [3.5263679027557373], [3.055645704269409], [3.8488593101501465], [3.549130916595459], [3.3861875534057617], [3.2148289680480957], [3.553666114807129], [3.605865955352783], [3.3000400066375732], [3.25895094871521], [3.4376420974731445], [3.5109715461730957], [3.6373653411865234], [3.5975823402404785], [3.656529188156128], [3.410337448120117], [3.4189248085021973], [3.4627344608306885], [3.3366570472717285], [3.5327858924865723], [3.274207592010498], [3.2007594108581543], [3.5828752517700195], [3.25894832611084], [3.415494441986084], [3.027226448059082], [3.6262576580047607], [3.4466660022735596], [3.118363857269287], [3.233598232269287], [3.5157723426818848], [3.1498470306396484], [3.5612001419067383], [3.3869400024414062], [3.4703316688537598], [3.338505506515503], [3.205206871032715], [3.547447681427002], [3.5726425647735596], [3.685560941696167], [3.3888769149780273], [3.4327025413513184], [3.3969883918762207], [3.377274751663208], [3.3694217205047607], [3.685886859893799], [3.76021671295166], [3.4652371406555176], [3.2770371437072754], [3.302422523498535], [3.0172345638275146], [3.178891181945801], [3.414595603942871], [3.295841932296753], [3.2320213317871094], [3.265373706817627], [3.2770750522613525], [3.4789929389953613], [3.2606124877929688], [3.2739415168762207], [3.042663812637329], [3.5236244201660156], [3.4094831943511963], [3.513554811477661], [3.3373889923095703], [3.521416664123535], [3.217515468597412], [3.4213004112243652], [3.708482027053833], [3.525728225708008], [3.439077615737915], [3.4841983318328857], [3.460207462310791], [3.3912887573242188], [3.6801626682281494], [3.739384889602661], [3.269967555999756], [3.367784023284912], [3.4774158000946045], [3.2544333934783936], [3.207159996032715], [3.3552591800689697], [3.5569913387298584], [3.5335237979888916], [3.4551987648010254], [3.255445957183838], [2.900343418121338], [3.473543643951416], [3.2867727279663086], [3.2498068809509277], [3.0071303844451904], [2.950009822845459], [3.7429842948913574], [3.205690383911133], [3.465791702270508], [3.309938907623291], [2.9808614253997803], [3.2962076663970947], [3.2321932315826416], [3.4065122604370117], [3.0947368144989014], [3.3105716705322266], [3.835942506790161], [3.619157314300537], [3.346761703491211], [3.517765760421753], [3.309541702270508], [3.611752510070801], [3.3815438747406006], [3.1410765647888184], [3.217191696166992], [3.5450453758239746], [3.4923434257507324], [3.479677438735962], [3.5109384059906006], [3.2279930114746094], [3.5898303985595703], [3.5151638984680176], [3.356942892074585], [3.3872785568237305], [3.2640585899353027], [3.285052537918091], [3.152080535888672], [3.24892520904541], [3.275008201599121], [3.7509992122650146], [2.9780750274658203], [3.4756522178649902], [3.2197864055633545], [3.1454474925994873], [3.393853187561035], [3.4545059204101562], [3.6013219356536865], [3.3952794075012207], [3.3154468536376953], [3.6068167686462402], [2.8875792026519775], [3.4125027656555176], [3.815131187438965], [3.2173895835876465], [3.4317476749420166], [3.1808085441589355], [3.380650520324707], [3.6807456016540527], [3.2107672691345215], [3.5602941513061523], [3.249051094055176], [3.4772510528564453], [3.2483510971069336], [3.308839797973633], [3.1486289501190186], [3.431258201599121], [3.4918556213378906], [3.4360783100128174], [3.7556097507476807], [3.3188600540161133], [3.320537567138672], [3.171627998352051], [3.122697353363037], [3.507357597351074], [3.035761833190918], [3.3145835399627686], [3.6780717372894287], [3.4016470909118652], [3.5186023712158203], [3.72603702545166], [3.093756675720215], [3.3732762336730957], [3.2662737369537354], [3.446446657180786], [3.2833378314971924], [3.25956392288208], [3.521143913269043], [3.566962718963623], [3.5227112770080566], [3.9001975059509277], [2.9728174209594727], [3.48624324798584], [3.655999183654785], [3.5487678050994873], [3.0269601345062256], [3.4563255310058594], [3.4225211143493652], [3.455265760421753], [3.4253649711608887], [3.4103894233703613], [3.293720245361328], [3.556593894958496], [3.3625173568725586], [3.5210461616516113], [3.4531357288360596], [3.48604154586792], [3.3745181560516357], [3.257416009902954], [3.177722215652466], [3.403531789779663], [2.968400001525879], [3.643217086791992], [3.4638864994049072], [3.4921936988830566], [3.3499526977539062], [3.11484694480896], [3.5590922832489014], [3.6516358852386475], [3.589860439300537], [3.4661178588867188], [3.2067887783050537], [3.453601837158203], [3.2154617309570312], [3.5121521949768066], [3.5131003856658936], [2.732731819152832], [3.3509950637817383], [3.3623154163360596], [3.3747777938842773], [3.3050613403320312], [3.1007542610168457], [3.4769577980041504], [3.186633586883545], [3.4280354976654053], [3.2734429836273193], [2.9720513820648193], [3.5362958908081055], [3.251812219619751], [3.3483948707580566], [3.407284736633301], [3.150164842605591], [3.353712558746338], [3.559391975402832], [3.370849132537842], [3.434148073196411], [3.0442910194396973], [3.663245677947998], [3.4057540893554688], [3.5428638458251953], [3.4176082611083984], [3.364408254623413], [3.3561880588531494], [3.1947708129882812], [3.3128247261047363], [3.266467571258545], [3.3054986000061035], [3.487624168395996], [3.407590866088867], [3.374462604522705], [3.2137093544006348], [3.384951114654541], [3.627079963684082], [3.3159327507019043], [3.1527750492095947], [3.6028528213500977], [3.320303201675415], [3.572615146636963], [3.499128580093384], [3.2286970615386963], [3.203587532043457], [3.4651939868927], [3.683990955352783], [3.2085742950439453], [3.4018168449401855], [3.2559313774108887], [3.1461424827575684], [3.4502158164978027], [3.5162692070007324], [3.2882211208343506], [3.2808921337127686], [3.207462787628174], [3.420473337173462], [3.354872703552246], [2.9642276763916016], [3.5554134845733643], [3.3815975189208984], [4.088821887969971], [3.496596336364746], [3.1552340984344482], [3.3821542263031006], [3.3645756244659424], [3.500236988067627], [3.245250701904297], [3.340289831161499], [3.28287672996521], [3.399600028991699], [3.189910888671875], [3.649325132369995], [3.2316858768463135], [3.3837077617645264], [3.184955596923828], [3.6975698471069336], [3.4417672157287598], [3.104740858078003], [3.352548122406006], [3.459827423095703], [3.31793475151062], [3.096681594848633], [3.5259909629821777], [3.3249874114990234], [3.157914638519287], [3.2453699111938477], [3.402963161468506], [3.373023509979248], [3.1637744903564453], [3.28582763671875], [3.404971122741699], [3.612215042114258], [3.4630634784698486], [3.4965555667877197], [3.397902488708496], [3.4317433834075928], [3.3595786094665527], [3.571474075317383], [3.4156837463378906], [3.077805995941162], [3.2601070404052734], [3.367048501968384], [3.144132614135742], [3.5311594009399414], [3.4687137603759766], [3.534384250640869], [3.673159599304199], [3.719912052154541], [3.1674273014068604], [3.1699609756469727], [3.42642879486084], [3.3893349170684814], [3.41507625579834], [3.1160194873809814], [3.229856491088867], [3.3659768104553223], [3.54612398147583], [3.393951416015625], [3.4159016609191895], [3.0607688426971436], [3.5388495922088623], [3.5339012145996094], [3.3117454051971436], [3.3286781311035156], [3.035484552383423], [3.466191530227661], [3.5970163345336914], [3.4525880813598633], [3.4075751304626465], [3.1822848320007324], [3.5764946937561035], [3.3435442447662354], [3.414167642593384], [3.5632457733154297], [3.7525947093963623], [3.238163948059082], [3.5094847679138184], [3.455329418182373], [3.2370569705963135], [3.249072551727295], [3.657210350036621], [3.3573617935180664], [3.4622256755828857], [3.2204058170318604], [3.1650238037109375], [3.353964328765869], [3.5471694469451904], [3.3914644718170166], [3.293381690979004], [3.2700207233428955], [3.5944180488586426], [3.6147310733795166], [3.1566178798675537], [3.1396567821502686], [3.292814254760742], [3.3905882835388184], [3.2726659774780273], [3.3233909606933594], [3.1822268962860107], [3.2709412574768066], [3.467223882675171], [3.4905295372009277], [3.234590530395508], [3.4659271240234375], [3.3465611934661865], [3.7024595737457275], [3.226242780685425], [3.3045947551727295], [3.584376335144043], [3.241734266281128], [3.372635841369629], [3.5013527870178223], [3.158109188079834], [3.2390236854553223], [3.2092838287353516], [3.5698089599609375], [3.8822851181030273], [3.1460213661193848], [3.5577006340026855], [3.2503104209899902], [3.3989815711975098], [3.1584370136260986], [3.8563385009765625], [3.328185558319092], [3.2845559120178223], [3.608602523803711], [3.2185604572296143], [3.2311654090881348], [3.3917794227600098], [3.098820209503174], [3.5909690856933594], [3.323338031768799], [3.385371446609497], [3.4901769161224365], [3.6623311042785645], [3.298550605773926], [3.3402984142303467], [3.2538323402404785], [3.213817596435547], [3.4336137771606445], [3.4518704414367676], [3.3628616333007812], [3.2054805755615234], [3.397062063217163], [3.394268751144409], [3.370603084564209], [3.1184144020080566], [3.608107805252075], [3.325279951095581], [3.1696887016296387], [3.478065252304077], [3.409724473953247], [3.232753038406372], [3.4424707889556885], [3.2894210815429688], [3.2859935760498047], [3.445094108581543], [3.6160736083984375], [3.5084495544433594], [3.615666627883911], [3.3964757919311523], [3.611713409423828], [3.2755043506622314], [3.396399974822998], [3.4752323627471924], [3.4918389320373535], [3.2980470657348633], [3.489861249923706], [3.5124738216400146], [3.0271852016448975], [3.414499282836914], [3.52061128616333], [3.4786767959594727], [3.2451536655426025], [3.1790802478790283], [3.4624862670898438], [3.382617235183716], [3.348315715789795], [2.8252828121185303], [2.873610258102417], [3.2410638332366943], [3.6641528606414795], [3.4921131134033203], [3.217228889465332], [2.8338828086853027], [3.3077192306518555], [3.3043079376220703], [3.385928153991699], [3.232590436935425], [3.3687922954559326], [3.4161150455474854], [3.349140167236328], [3.4352874755859375], [3.261528253555298], [3.227107048034668], [3.398315191268921], [3.5752201080322266], [3.714634418487549], [3.482907295227051], [3.4682459831237793], [3.3866734504699707], [3.548523426055908], [3.3295109272003174], [3.3418335914611816], [3.1755337715148926], [3.3386952877044678], [3.1658740043640137], [3.5874977111816406], [3.5724239349365234], [3.099954605102539], [3.6283552646636963], [3.4109368324279785], [3.585200548171997], [3.6153013706207275], [2.996481418609619], [3.2801785469055176], [3.381917715072632], [3.4191627502441406], [3.0651979446411133], [3.2661828994750977], [3.4782471656799316], [3.2920641899108887], [3.7644224166870117], [3.54874849319458], [3.3817954063415527], [3.5313937664031982], [3.4100117683410645], [3.3433775901794434], [2.9307663440704346], [3.4307150840759277], [3.5548348426818848], [3.507328987121582], [2.995440721511841], [3.043259620666504], [3.2610831260681152], [3.2132112979888916], [3.220106363296509], [3.0244088172912598], [3.1679272651672363], [2.978667736053467], [3.557745933532715], [3.345613956451416], [3.319786548614502], [3.1495749950408936], [3.173175811767578], [3.5022377967834473], [3.4986066818237305], [3.517000913619995], [3.161628246307373], [3.166754722595215], [3.6641688346862793], [3.5026865005493164], [3.3813040256500244], [3.292634963989258], [3.131380558013916], [3.755711078643799], [3.4485340118408203], [3.480973243713379], [3.374260902404785], [3.1371896266937256], [3.238330364227295], [3.342496633529663], [3.357088804244995], [3.1131277084350586], [3.2641615867614746], [3.960409164428711], [3.2624893188476562], [3.3750176429748535], [3.5110838413238525], [3.2830379009246826], [3.348851203918457], [3.6288704872131348], [3.0855937004089355], [3.204540729522705], [3.151287794113159], [3.81927227973938], [3.4243531227111816], [3.5352964401245117], [3.4934487342834473], [2.9826509952545166], [3.3417396545410156], [3.1997361183166504], [3.453061103820801], [3.450141191482544], [3.3369877338409424], [3.3468832969665527], [3.2424755096435547], [3.3336682319641113], [3.3324642181396484], [3.2201666831970215], [3.452709197998047], [3.2909624576568604], [3.404176712036133], [3.6494927406311035], [2.952906608581543], [3.4052000045776367], [3.3768818378448486], [3.35011887550354], [3.322582244873047], [3.5975751876831055], [3.432689905166626], [3.552973747253418], [3.442110538482666], [3.4422969818115234], [3.0736751556396484], [3.6375885009765625], [3.552794933319092], [3.715883731842041], [3.368712902069092], [3.155691146850586], [3.3286375999450684], [3.4775795936584473], [3.327223062515259], [3.1553289890289307], [2.9963040351867676], [3.589231491088867], [3.476083278656006], [3.281416416168213], [3.352228879928589], [3.6896064281463623], [3.5192089080810547], [3.4939746856689453], [3.6572113037109375], [3.5037992000579834], [3.0175137519836426], [3.7116498947143555], [3.5638415813446045], [3.4631266593933105], [3.4459519386291504], [3.472043037414551], [3.4270315170288086], [3.653510808944702], [3.4112961292266846], [3.3502485752105713], [3.3205268383026123], [3.4990930557250977], [3.2767367362976074], [3.4260759353637695], [3.187427043914795], [3.5923612117767334], [3.522827386856079], [3.6833696365356445], [3.504873514175415], [3.2383193969726562], [3.0945019721984863], [3.366198778152466], [3.484354019165039], [3.5080161094665527], [3.7913429737091064], [2.8597538471221924], [3.517038106918335], [3.27476167678833], [3.494400978088379], [3.1214375495910645], [3.22236967086792], [3.5044331550598145], [3.6313445568084717], [3.4179697036743164], [3.3590848445892334], [3.5160984992980957], [3.538578987121582], [3.2374889850616455], [3.8477067947387695], [3.3883280754089355], [3.3837814331054688], [3.355048179626465], [3.4266185760498047], [3.5999789237976074], [3.637517213821411], [3.0153393745422363], [3.8585875034332275], [3.6049044132232666], [3.3794147968292236], [3.019340753555298], [3.2448997497558594], [3.5484302043914795], [3.3254756927490234], [3.068607807159424], [3.421170234680176], [3.6971144676208496], [3.2423839569091797], [3.5290000438690186], [3.59688663482666], [3.264552116394043], [3.220262050628662], [3.622976303100586], [3.1710205078125], [3.3740577697753906], [3.3916451930999756], [3.064988851547241], [3.387176036834717], [3.3962950706481934], [3.310718297958374], [3.2244956493377686], [3.3901925086975098], [3.43851637840271], [3.565528392791748], [3.3305792808532715], [3.4143869876861572], [3.132746458053589], [3.8784127235412598], [3.356457471847534], [3.146164894104004], [2.96173095703125], [3.3362112045288086], [3.340512752532959], [3.4694976806640625], [3.085153102874756], [3.920161724090576], [3.457423448562622], [3.4540538787841797], [3.443554401397705], [3.648528575897217], [3.121344804763794], [3.136282205581665], [3.3526668548583984], [3.4126925468444824], [3.157536745071411], [3.4694833755493164], [3.306220054626465], [3.60194730758667], [3.578244209289551], [3.4871931076049805], [3.729595422744751], [2.966317653656006], [3.293666124343872], [3.5136361122131348], [3.1896376609802246], [3.644909381866455], [3.091090440750122], [3.785308361053467], [3.6749305725097656], [3.385385751724243], [3.366370677947998], [3.1266212463378906], [3.5313570499420166], [3.507526397705078], [3.4433984756469727], [3.5937130451202393], [3.641254425048828], [3.6620194911956787], [3.6520144939422607], [2.9266037940979004], [3.1165928840637207], [3.1444926261901855], [3.2035422325134277], [3.36588978767395], [3.2729592323303223], [3.1965224742889404], [3.1845366954803467], [3.2098045349121094], [3.3167898654937744], [3.4949951171875], [3.6733555793762207], [3.3724682331085205], [3.319460391998291], [3.0843961238861084], [3.5681369304656982], [3.631948471069336], [3.1686203479766846], [3.3220112323760986], [3.3310437202453613], [3.3499889373779297], [3.4434633255004883], [3.0693235397338867], [3.542396068572998], [3.293701648712158], [3.448821783065796], [3.2161355018615723], [2.880631446838379], [3.4031715393066406], [3.2462029457092285], [3.511852741241455], [3.2321438789367676], [2.9941487312316895], [3.534417152404785], [3.526155471801758], [3.3829517364501953], [3.1177659034729004], [2.880779981613159], [3.8552727699279785], [3.2871103286743164], [3.328061819076538], [3.1820619106292725], [3.466794967651367], [3.3944573402404785], [3.384052276611328], [3.6149234771728516], [3.4293510913848877], [2.833709239959717], [3.7732696533203125], [3.3867955207824707], [3.282878875732422], [3.283959150314331], [2.9804701805114746], [3.3976540565490723], [3.421806812286377], [3.4760336875915527], [3.284203052520752], [3.3163082599639893], [3.310227394104004], [3.1344876289367676], [3.619147300720215], [3.149327278137207], [3.1115057468414307], [3.562509775161743], [3.1766819953918457], [3.452300786972046], [3.3283462524414062], [3.2482335567474365], [3.4741485118865967], [3.707491636276245], [3.274740219116211], [3.300206422805786], [3.5166521072387695], [3.3921406269073486], [3.4773640632629395], [3.4485013484954834], [3.1662678718566895], [3.6302096843719482], [3.5634093284606934], [3.3302929401397705], [3.5132126808166504], [3.0296707153320312], [3.4877960681915283], [3.501588821411133], [3.6080398559570312], [3.3819420337677], [3.158919095993042], [2.81093168258667], [3.5234386920928955], [3.5932211875915527], [3.3335766792297363], [3.334075450897217], [3.263237953186035], [3.445913791656494], [3.3175594806671143], [3.5005552768707275], [3.398719310760498], [2.893550395965576], [3.6946773529052734], [3.5800604820251465], [3.177032470703125], [3.228623390197754], [3.114668846130371], [3.241126537322998], [3.4715397357940674], [3.3197970390319824], [3.1645917892456055], [3.46803617477417], [3.274014949798584], [3.4532108306884766], [3.3753952980041504], [3.1381726264953613], [3.3141913414001465], [3.719141721725464], [3.65547513961792], [3.6829147338867188], [3.3215785026550293], [3.093531370162964], [3.4031877517700195], [3.432224750518799], [3.3051130771636963], [3.6070444583892822], [3.1029136180877686], [3.657329559326172], [3.4637808799743652], [3.2075295448303223], [3.2612788677215576], [3.116142749786377], [3.4711501598358154], [3.361020565032959], [3.533876895904541], [2.998434543609619], [3.1010849475860596], [3.4189963340759277], [3.56726336479187], [3.4336025714874268], [3.077030658721924], [2.997549295425415], [3.3504366874694824], [3.5533790588378906], [3.345276355743408], [3.451261281967163], [3.280087947845459], [3.3500590324401855], [3.387014865875244], [3.3327178955078125], [3.842499256134033], [3.500007152557373], [3.465658664703369], [3.427398443222046], [3.3645358085632324], [3.4811017513275146], [3.2636966705322266], [3.295133352279663], [3.516361951828003], [3.587859630584717], [3.120622158050537], [3.568115711212158], [3.578779458999634], [3.5233113765716553], [3.3484244346618652], [3.3496487140655518], [3.0789527893066406], [3.4029757976531982], [3.434299945831299], [3.196816921234131], [3.189059257507324], [3.7227437496185303], [3.164921760559082], [3.4469428062438965], [3.481257438659668], [3.5349278450012207], [3.482926845550537], [3.4897117614746094], [3.5750579833984375], [3.2250938415527344], [3.504469871520996], [3.1764702796936035], [3.6525940895080566], [3.4521284103393555], [3.337484359741211], [3.203550100326538], [3.0880658626556396], [3.662139892578125], [3.0576717853546143], [3.3178248405456543], [3.570066452026367], [3.192430257797241], [3.749532699584961], [3.449467897415161], [3.527724266052246], [3.6609649658203125], [3.2657079696655273], [3.6090946197509766], [2.950368881225586], [3.6217732429504395], [3.2205238342285156], [3.3798487186431885], [3.554382085800171], [3.100574254989624], [3.0088720321655273], [3.219630002975464], [2.7465415000915527], [3.3542428016662598], [3.1216235160827637], [3.412158489227295], [3.538015842437744], [3.3566298484802246], [3.3980789184570312], [3.5891847610473633], [3.7559571266174316], [3.1256470680236816], [2.9660518169403076], [3.498187780380249], [3.615035057067871], [3.2038419246673584], [3.6426053047180176], [3.1003403663635254], [3.5672965049743652], [3.2575619220733643], [3.47642183303833], [2.9668784141540527], [3.3385848999023438], [3.409867763519287], [3.3714561462402344], [3.221827507019043], [3.007190704345703], [3.4672672748565674], [3.5308985710144043], [3.549813747406006], [3.6526923179626465], [3.441798210144043], [3.220632791519165], [3.390956163406372], [3.425567388534546], [3.3932347297668457], [3.592141628265381], [3.090553045272827], [3.655880928039551], [3.3176510334014893], [2.958585739135742], [3.516383171081543], [3.268519878387451], [3.2487826347351074], [3.6042909622192383], [3.3061556816101074], [3.4997663497924805], [2.9251315593719482], [3.337606430053711], [3.1788079738616943], [3.339371919631958], [3.2026281356811523], [3.2470591068267822], [3.556203842163086], [3.2592225074768066], [3.334336280822754], [3.2200558185577393], [3.3733668327331543], [3.6446385383605957], [3.4179728031158447], [3.4564926624298096], [3.066758871078491], [3.300579071044922], [3.3814220428466797], [3.605536937713623], [3.774374008178711], [3.317660093307495], [3.263777732849121], [3.640626907348633], [3.6203958988189697], [3.447643280029297], [3.4636828899383545], [3.573277473449707], [3.3282408714294434], [3.384936571121216], [3.697521448135376], [3.323099136352539], [3.2271008491516113], [3.4677157402038574], [3.739551067352295], [3.5340077877044678], [3.762540340423584], [3.336071729660034], [3.412360191345215], [3.6830697059631348], [3.21866774559021], [3.5176150798797607], [3.1611883640289307], [3.4306936264038086], [3.641902446746826], [3.353001117706299], [3.18588924407959], [3.1945462226867676], [3.4957399368286133], [3.710988759994507], [3.6400017738342285], [2.9598913192749023], [3.241270065307617], [3.501941680908203], [3.392110586166382], [3.4665467739105225], [3.4284508228302], [3.197331190109253], [3.6976065635681152], [3.2929277420043945], [3.737577438354492], [3.3625054359436035], [3.263808012008667], [3.3037989139556885], [3.248246669769287], [3.265307903289795], [3.3076162338256836], [3.377399444580078], [3.488318920135498], [3.4488983154296875], [3.2882494926452637], [3.711226224899292], [3.0222887992858887], [3.5929653644561768], [3.446732521057129], [3.1818583011627197], [3.254866123199463], [3.2923145294189453], [3.1009907722473145], [3.3482041358947754], [3.208280086517334], [3.632082462310791], [3.4730350971221924], [3.9337711334228516], [3.473175525665283], [3.504581928253174], [3.2335124015808105], [3.364849090576172], [3.5018527507781982], [3.306252956390381], [3.377264976501465], [3.2397546768188477], [3.286815643310547], [3.3835482597351074], [3.3482625484466553], [3.6348342895507812], [3.4236159324645996], [3.32804012298584], [3.5992307662963867], [3.6423468589782715], [3.315122604370117], [3.273275375366211], [2.9935708045959473], [3.62394118309021], [3.3606011867523193], [3.29439640045166], [3.045823574066162], [3.2700557708740234], [3.6876015663146973], [3.343993663787842], [3.424915075302124], [3.434243679046631], [3.1974143981933594], [3.785524845123291], [3.3107261657714844], [3.462552785873413], [3.0905683040618896], [2.9995994567871094], [3.3583028316497803], [3.3730456829071045], [3.532058000564575], [3.072909116744995], [3.233426809310913], [3.3927502632141113], [3.4178640842437744], [3.3631160259246826], [3.641868829727173], [3.312392234802246], [3.5370545387268066], [3.5062079429626465], [3.3952879905700684], [3.3566250801086426], [3.201972007751465], [3.313474178314209], [3.2623467445373535], [3.2560508251190186], [3.125682830810547], [3.0920543670654297], [3.4873886108398438], [3.4430744647979736], [3.495323657989502], [3.4803967475891113], [3.439661741256714], [3.6052937507629395], [3.5163540840148926], [3.4836010932922363], [3.5477988719940186], [3.3971967697143555], [3.1807854175567627], [3.8037421703338623], [3.506296396255493], [3.4738879203796387], [3.3222908973693848], [3.6509175300598145], [3.8682937622070312], [3.7756922245025635], [3.33030366897583], [3.210998296737671], [3.3128914833068848], [3.2616965770721436], [3.6714134216308594], [3.4737672805786133], [3.1885604858398438], [3.683892250061035], [3.409482717514038], [3.2699809074401855], [3.2628281116485596], [3.2061004638671875], [3.6617612838745117], [3.130422592163086], [3.4135310649871826], [3.245565414428711], [3.1597237586975098], [3.6513123512268066], [3.1942920684814453], [3.262636184692383], [3.223280906677246], [3.268094539642334], [3.5183804035186768], [3.362631320953369], [3.5559804439544678], [3.5187511444091797], [2.8031153678894043], [3.519103765487671], [3.5418765544891357], [3.2310967445373535], [2.990767478942871], [3.2336530685424805], [3.4280683994293213], [3.384458541870117], [3.395019054412842], [3.596123695373535], [3.4817922115325928], [3.626674175262451], [3.5738236904144287], [3.2035229206085205], [3.2094779014587402], [3.265897035598755], [3.417271852493286], [3.4690990447998047], [3.5421359539031982], [3.3385887145996094], [3.1779959201812744], [3.165252208709717], [3.2645387649536133], [3.4113259315490723], [3.3349406719207764], [3.0391926765441895], [3.4054315090179443], [3.413923740386963], [3.2438135147094727], [3.448772668838501], [3.4653656482696533], [3.367581844329834], [3.55143404006958], [3.2731316089630127], [3.2389917373657227], [3.083103656768799], [3.6068685054779053], [3.2746427059173584], [3.40281081199646], [3.1351819038391113], [3.2991631031036377], [3.476101875305176], [3.5156161785125732], [3.5862975120544434], [3.2124881744384766], [3.370023012161255], [3.6566529273986816], [3.4993574619293213], [3.555685520172119], [3.130443811416626], [3.488804817199707], [3.5960545539855957], [3.511782646179199], [3.6052541732788086], [3.4831085205078125], [2.9368178844451904], [4.084286689758301], [3.329712152481079], [3.4316954612731934], [3.6917333602905273], [3.2156577110290527], [3.255092144012451], [3.3948192596435547], [3.3582875728607178], [3.552999258041382], [3.1586825847625732], [3.2101545333862305], [3.283299446105957], [3.6132707595825195], [3.477938652038574], [2.85457444190979], [3.659607410430908], [3.1882381439208984], [3.2415008544921875], [3.416141986846924], [3.2530393600463867], [3.503109931945801], [3.352449655532837], [3.2385923862457275], [3.4574999809265137], [3.415431022644043], [3.235596179962158], [3.3592724800109863], [3.194821357727051], [2.9161415100097656], [2.9687862396240234], [3.3712525367736816], [3.192348003387451], [3.415426731109619], [3.2173662185668945], [3.342618942260742], [3.8173165321350098], [3.152670383453369], [3.589709758758545], [3.669903039932251], [3.1774652004241943], [3.6165518760681152], [3.109672784805298], [3.6161563396453857], [3.324219226837158], [3.6774468421936035], [3.5075559616088867], [3.6093573570251465], [3.22830867767334], [3.4240193367004395], [3.34673810005188], [3.4420740604400635], [3.5039830207824707], [3.2050018310546875], [3.4065632820129395], [3.1881890296936035], [3.153125047683716], [3.3438282012939453], [3.3310701847076416], [3.704590320587158], [3.0426135063171387], [3.340118885040283], [3.2583365440368652], [3.317676544189453], [3.3990206718444824], [3.534073829650879], [3.5873022079467773], [3.6990160942077637], [3.6866166591644287], [3.429518699645996], [3.5505013465881348], [3.515437364578247], [3.301093578338623], [3.292560577392578], [3.1425015926361084], [3.056051015853882], [3.5637755393981934], [3.6114768981933594], [3.3870849609375], [3.3730602264404297], [3.5117452144622803], [3.6654889583587646], [3.4017012119293213], [3.258208751678467], [3.091766119003296], [3.1641523838043213], [3.43483829498291], [3.341339588165283], [3.273240804672241], [3.0520060062408447], [3.166168212890625], [3.4280970096588135], [3.4343018531799316], [3.496526002883911], [3.34834361076355], [3.342957019805908], [3.5551493167877197], [3.418046474456787], [3.6310501098632812], [3.411776542663574], [3.1644186973571777], [3.716034173965454], [3.5646846294403076], [3.255040168762207], [3.335785388946533], [3.1812591552734375], [3.4861464500427246], [3.1955933570861816], [3.2971901893615723], [3.5609822273254395], [3.0031590461730957], [3.489950656890869], [3.5210487842559814], [3.4807028770446777], [3.3161919116973877], [3.134553909301758], [3.6770131587982178], [3.1618492603302], [3.3792519569396973], [3.137928009033203], [3.0386428833007812], [3.0918071269989014], [3.396389961242676], [3.2185935974121094], [3.176353693008423], [3.0465590953826904], [3.338007688522339], [3.2245523929595947], [3.5493247509002686], [3.2504525184631348], [2.8688721656799316], [3.240893840789795], [3.6775782108306885], [3.4648027420043945], [3.3290178775787354], [3.2698206901550293], [3.4941487312316895], [3.5702333450317383], [3.402444839477539], [2.89119815826416], [3.0339386463165283], [3.4146242141723633], [3.6133298873901367], [3.3538765907287598], [3.554476022720337], [2.989392042160034], [3.8981704711914062], [3.5556390285491943], [3.382413148880005], [3.5384154319763184], [3.34832763671875], [3.292104482650757], [3.540846109390259], [3.426896572113037], [3.6778249740600586], [3.043964147567749], [3.372069835662842], [3.0464420318603516], [3.5456485748291016], [3.299992799758911], [3.236130952835083], [3.4671592712402344], [3.438018798828125], [3.1803998947143555], [3.6520509719848633], [3.4724771976470947], [3.342702865600586], [3.0779342651367188], [3.568561553955078], [3.0801799297332764], [3.225811004638672], [3.5832557678222656], [3.32682728767395], [3.3490235805511475], [3.220867872238159], [3.2132153511047363], [3.463435649871826], [3.58499813079834], [3.291475296020508], [3.4832053184509277], [3.3604159355163574], [3.462460994720459], [3.315340280532837], [3.403994560241699], [3.0182125568389893], [3.2493667602539062], [3.561371326446533], [3.163909912109375], [3.456491708755493], [3.5231659412384033], [2.9452500343322754], [3.581712245941162], [3.3643651008605957], [3.741506338119507], [3.4083685874938965], [3.292954683303833], [3.348250389099121], [3.4220640659332275], [3.4300830364227295], [3.5692696571350098], [3.747710704803467], [3.64146089553833], [3.5398664474487305], [3.2440996170043945], [3.4781851768493652], [3.225663661956787], [3.430150032043457], [3.1916232109069824], [3.718385696411133], [3.5261940956115723], [3.3169069290161133], [3.6554746627807617], [3.3348984718322754], [3.36367130279541], [3.0838027000427246], [3.130094051361084], [3.519395351409912], [3.2813353538513184], [3.607177972793579], [3.2747669219970703], [2.8276867866516113], [3.632986068725586], [3.696492910385132], [3.286668300628662], [3.390652894973755], [3.4268102645874023], [3.183422088623047], [3.436748743057251], [3.479551076889038], [3.342862129211426], [2.9694108963012695], [3.468498468399048], [3.3864519596099854], [3.567448854446411], [3.3733654022216797], [3.5557379722595215], [3.389660596847534], [3.3243765830993652], [3.6107187271118164], [3.47584867477417], [3.365727424621582], [3.2812774181365967], [3.3748111724853516], [3.2749218940734863], [3.6274220943450928], [2.9116411209106445], [3.3502745628356934], [3.1507790088653564], [3.6461257934570312], [3.340040445327759], [3.096406936645508], [3.457350254058838], [3.6249234676361084], [3.3233022689819336], [2.9973506927490234], [3.0537447929382324], [3.6208691596984863], [3.351818323135376], [3.1976630687713623], [3.3536407947540283], [3.3036460876464844], [3.514557361602783], [3.4800915718078613], [3.02946400642395], [3.486774444580078], [3.2096571922302246], [3.3720457553863525], [3.5654184818267822], [3.3802363872528076], [3.133488893508911], [3.1574900150299072], [3.6479763984680176], [3.463517665863037], [3.4434313774108887], [3.1857423782348633], [2.9720468521118164], [3.8456811904907227], [3.647926092147827], [3.5677762031555176], [3.629483461380005], [3.168203830718994], [3.7167282104492188], [3.3263351917266846], [3.3777427673339844], [3.1150858402252197], [3.06536865234375], [3.5107479095458984], [3.1139652729034424], [3.324200391769409], [3.219484329223633], [3.4766340255737305], [3.27229642868042], [3.1919963359832764], [3.505082130432129], [3.248966693878174], [3.513000011444092], [3.495985507965088], [3.2790825366973877], [3.760798215866089], [3.3271780014038086], [3.1506338119506836], [3.790830135345459], [3.374257802963257], [3.334284782409668], [3.454239845275879], [3.180166006088257], [3.315180540084839], [3.3735344409942627], [3.461303949356079], [3.1680920124053955], [3.5421156883239746], [3.544358968734741], [3.442370891571045], [3.6488378047943115], [3.5322794914245605], [3.294731616973877], [3.3187875747680664], [3.329497814178467], [3.4706614017486572], [3.2019994258880615], [3.4877994060516357], [3.455500602722168], [3.757765054702759], [3.435821056365967], [3.427772045135498], [3.3681464195251465], [3.5642900466918945], [3.0876779556274414], [3.3708953857421875], [3.171093463897705], [3.2820727825164795], [3.797527313232422], [3.346169948577881], [3.515286922454834], [3.2827813625335693], [3.3113503456115723], [3.475492477416992], [3.5625970363616943], [3.099247932434082], [2.919769048690796], [3.09645938873291], [3.4616236686706543], [3.6262567043304443], [3.4949581623077393], [3.3031599521636963], [3.130852699279785], [3.133316993713379], [3.3813977241516113], [3.7509312629699707], [3.432521104812622], [3.0544490814208984], [3.348057985305786], [3.332023859024048], [3.0906686782836914], [3.2955169677734375], [3.31884765625], [3.657362461090088], [3.4008946418762207], [3.324537515640259], [3.7340526580810547], [2.9137649536132812], [3.1111867427825928], [3.7282326221466064], [3.536874294281006], [3.2132809162139893], [3.3558478355407715], [3.5502281188964844], [3.631222724914551], [3.576131820678711], [3.538651704788208], [2.9581716060638428], [3.410310745239258], [3.225031852722168], [3.4120781421661377], [3.4979496002197266], [3.105556011199951], [3.435965061187744], [3.5704469680786133], [3.386500835418701], [3.306156635284424], [3.1415305137634277], [3.3914976119995117], [3.2571301460266113], [3.366176128387451], [3.138005495071411], [3.5622997283935547], [3.1784896850585938], [3.7540876865386963], [3.6220569610595703], [3.375953197479248], [3.226714611053467], [3.3459231853485107], [3.4459898471832275], [3.701347827911377], [3.3358044624328613], [3.312377452850342], [3.4893665313720703], [3.210523843765259], [3.263169765472412], [3.351792335510254], [2.8627915382385254], [3.3357791900634766], [3.3600897789001465], [3.5059854984283447], [3.4729907512664795], [3.3286309242248535], [3.2944211959838867], [3.323835849761963], [3.2601242065429688], [3.394831657409668], [3.1495840549468994], [3.3649916648864746], [3.2893149852752686], [3.540161609649658], [3.2205138206481934], [3.3110105991363525], [3.6750621795654297], [3.443915367126465], [3.5835607051849365], [3.222858428955078], [2.7764570713043213], [3.725672960281372], [3.4737331867218018], [3.1830289363861084], [2.866431713104248], [3.3272829055786133], [3.5472912788391113], [3.302640199661255], [3.5944745540618896], [3.6271557807922363], [3.261831283569336], [3.714667797088623], [3.3823134899139404], [2.933932304382324], [3.3389923572540283], [3.638209819793701], [3.5206551551818848], [3.202672004699707], [3.62359619140625], [3.402724504470825], [2.9016480445861816], [3.2776718139648438], [3.4276318550109863], [3.480905055999756], [3.5108072757720947], [3.124856472015381], [3.682372808456421], [3.4791433811187744], [3.5443363189697266], [3.047029972076416], [3.013482093811035], [3.4961936473846436], [3.3668410778045654], [3.6267917156219482], [3.3946826457977295], [3.0663774013519287], [3.5486302375793457], [3.318125009536743], [3.5240859985351562], [3.414043664932251], [3.387578010559082], [3.5562427043914795], [3.371433973312378], [3.2146430015563965], [3.18863582611084], [3.4746973514556885], [3.2795827388763428], [3.2528066635131836], [3.393371105194092], [3.123960494995117], [3.217191696166992], [3.150282621383667], [3.302337884902954], [3.2791805267333984], [3.374812602996826], [3.125957489013672], [3.4490725994110107], [3.415386199951172], [3.510599136352539], [3.6638193130493164], [3.4642581939697266], [3.368227243423462], [3.14689564704895], [3.4191670417785645], [3.194952964782715], [3.0204224586486816], [3.6871795654296875], [3.4918458461761475], [3.6554784774780273], [3.3020668029785156], [3.0340704917907715], [3.644386053085327], [3.4759104251861572], [3.336337089538574], [3.420180559158325], [3.1023731231689453], [3.476139783859253], [3.181042194366455], [3.4257168769836426], [2.9752259254455566], [2.912635326385498], [3.3744542598724365], [3.129610061645508], [3.4634885787963867], [3.162940740585327], [3.4829869270324707], [3.400561809539795], [3.3380208015441895], [3.4370133876800537], [3.491100311279297], [3.285994529724121], [3.3144888877868652], [3.382951259613037], [3.4503297805786133], [3.3916234970092773], [3.208437442779541], [3.8106918334960938], [3.3972034454345703], [3.497286796569824], [3.210507392883301], [3.3487725257873535], [3.7287344932556152], [3.6261086463928223], [3.4946441650390625], [3.231780767440796], [3.213674545288086], [3.689012050628662], [3.3474392890930176], [3.409905433654785], [3.2345399856567383], [3.037194013595581], [3.520491600036621], [3.531365394592285], [3.193819999694824], [3.6443111896514893], [3.1690101623535156], [3.5325284004211426], [3.3082149028778076], [3.4909844398498535], [3.0020270347595215], [3.065380096435547], [3.392155170440674], [3.213858127593994], [3.406057357788086], [3.4623775482177734], [3.211488723754883], [3.4569621086120605], [3.3941664695739746], [3.308051586151123], [3.144263744354248], [3.014495849609375], [3.6127514839172363], [3.3378689289093018], [3.2749719619750977], [3.4663195610046387], [3.4095757007598877], [3.432234048843384], [3.262953281402588], [3.287761688232422], [3.4173364639282227], [2.851187229156494], [3.3913912773132324], [3.2521984577178955], [3.4031684398651123], [3.231189250946045], [3.5028669834136963], [3.27433705329895], [3.629791259765625], [3.4338293075561523], [3.0780582427978516], [3.1928093433380127], [3.5218420028686523], [3.3808929920196533], [3.6626951694488525], [3.305358409881592], [3.02321195602417], [3.3612968921661377], [3.350739002227783], [3.3573672771453857], [2.976689100265503], [3.168674945831299], [3.5248048305511475], [3.8689212799072266], [3.4359025955200195], [3.6411402225494385], [3.009321451187134], [3.395414352416992], [3.2318782806396484], [3.6188011169433594], [3.470357656478882], [3.141146183013916], [3.4766788482666016], [3.5311546325683594], [3.553253173828125], [3.124943256378174], [3.2199900150299072], [3.3136696815490723], [3.6050658226013184], [3.242475986480713], [3.2197508811950684], [3.277923107147217], [3.5323710441589355], [3.525200366973877], [3.2586441040039062], [2.86405611038208], [3.1220896244049072], [3.6359753608703613], [3.2988266944885254], [3.4749481678009033], [3.512162923812866], [3.3253536224365234], [3.537874221801758], [3.414735794067383], [3.592195510864258], [3.4313459396362305], [3.2174248695373535], [3.5937769412994385], [3.3486838340759277], [3.5766499042510986], [3.462205410003662], [3.0957601070404053], [4.044275283813477], [3.247192621231079], [3.4204492568969727], [3.288754940032959], [3.219252586364746], [3.511530876159668], [3.32326602935791], [3.304464340209961], [2.969386577606201], [3.333706855773926], [3.473845958709717], [3.5636236667633057], [3.2925333976745605], [3.489807367324829], [3.320405960083008], [3.621626377105713], [3.2798705101013184], [3.2551021575927734], [3.285731077194214], [3.336311101913452], [3.525421619415283], [3.3593857288360596], [3.4719274044036865], [3.401271343231201], [3.137695550918579], [3.2537877559661865], [3.2614636421203613], [3.4943902492523193], [3.235438823699951], [2.9765708446502686], [3.337367296218872], [3.427525281906128], [3.1173408031463623], [3.3883118629455566], [3.1250553131103516], [3.3740181922912598], [3.6543636322021484], [3.248720645904541], [3.3736462593078613], [3.379047393798828], [3.622577667236328], [3.496396780014038], [3.251894474029541], [3.7703962326049805], [3.4393224716186523], [3.773965835571289], [3.4817209243774414], [3.806422710418701], [3.3326823711395264], [3.2072596549987793], [3.5537338256835938], [3.210824489593506], [3.1655631065368652], [2.986715316772461], [3.1175644397735596], [3.174107551574707], [3.209733724594116], [3.739086627960205], [3.1745052337646484], [3.3480100631713867], [3.076599359512329], [3.8297834396362305], [3.512744903564453], [3.2700233459472656], [3.108203887939453], [3.4499733448028564], [3.5496065616607666], [3.4158267974853516], [3.0063698291778564], [3.102283000946045], [3.5952019691467285], [3.3906517028808594], [3.65639066696167], [3.7212796211242676], [3.3148369789123535], [3.423612594604492], [3.4021217823028564], [3.745591163635254], [3.3021249771118164], [2.9983863830566406], [3.3140578269958496], [3.2090067863464355], [3.633253574371338], [3.4241738319396973], [3.667224407196045], [3.5448381900787354], [3.4390945434570312], [3.434481382369995], [3.1369569301605225], [3.3375279903411865], [3.346867084503174], [3.420243740081787], [3.2383370399475098], [3.2688369750976562], [2.996140241622925], [3.6121697425842285], [2.9416351318359375], [2.958191156387329], [3.4347193241119385], [3.326786518096924], [3.097891330718994], [3.281071901321411], [3.4383022785186768], [3.300260543823242], [3.238306760787964], [3.148261547088623], [3.3759429454803467], [3.3146615028381348], [3.2540042400360107], [2.8157448768615723], [3.5253653526306152], [3.4374489784240723], [3.1146299839019775], [3.3724236488342285], [3.236950397491455], [3.3566441535949707], [3.5749549865722656], [3.326343297958374], [3.574446678161621], [3.249349594116211], [3.8120369911193848], [3.2053415775299072], [3.340217113494873], [3.2251479625701904], [3.5719730854034424], [3.422842264175415], [3.2376067638397217], [3.366220712661743], [3.445432662963867], [3.418552875518799], [3.579440116882324], [3.447389602661133], [3.3811912536621094], [3.1629064083099365], [3.4863429069519043], [3.4722707271575928], [3.218832015991211], [3.50767183303833], [3.0511093139648438], [3.2924835681915283], [3.5669755935668945], [3.395688056945801], [3.2057900428771973], [3.2110280990600586], [3.042764186859131], [3.445557117462158], [3.4063806533813477], [3.5722715854644775], [3.300412654876709], [3.3776886463165283], [3.43582820892334], [3.77559232711792], [3.403332233428955], [3.357518434524536], [3.0571889877319336], [3.163026809692383], [3.0860514640808105], [3.2331926822662354], [3.4659016132354736], [3.1931824684143066], [3.1928579807281494], [3.298825979232788], [3.4851393699645996], [3.558047294616699], [3.1044442653656006], [3.7170796394348145], [3.235821008682251], [3.217125177383423], [3.4615318775177], [3.3244898319244385], [3.5078203678131104], [3.1273083686828613], [3.4829654693603516], [3.5889506340026855], [3.329882860183716], [3.367347002029419], [3.4469995498657227], [3.3850462436676025], [3.234351634979248], [3.4350061416625977], [3.2921862602233887], [3.329807996749878], [3.4772839546203613], [3.3420441150665283], [3.3584072589874268], [3.622485399246216], [3.483356475830078], [3.479685068130493], [3.3503870964050293], [3.0795347690582275], [3.4385592937469482], [3.3826379776000977], [3.4618330001831055], [3.3073618412017822], [3.480107307434082], [3.4145143032073975], [3.3142173290252686], [3.627983570098877], [3.4089560508728027], [3.6087422370910645], [3.7475528717041016], [3.365468978881836], [3.5926811695098877], [3.1830344200134277], [3.0541858673095703], [3.5342209339141846], [3.4854166507720947], [3.3065874576568604], [3.1087069511413574], [3.2422518730163574], [3.413789987564087], [3.9926719665527344], [3.6226327419281006], [3.344080924987793], [3.1525356769561768], [3.3909361362457275], [3.8368377685546875], [3.7082905769348145], [3.0559744834899902], [2.9123263359069824], [3.6884355545043945], [3.2421977519989014], [2.902808904647827], [3.436527729034424], [3.2618565559387207], [3.586534023284912], [3.243644952774048], [3.241518497467041], [3.4806466102600098], [3.5637266635894775], [3.3414416313171387], [3.43774676322937], [3.3936169147491455], [3.573369026184082], [3.1517837047576904], [3.4253122806549072], [3.442465305328369], [3.133280038833618], [3.584746837615967], [3.0617051124572754], [3.59696364402771], [3.2593870162963867], [3.2702221870422363], [3.219870090484619], [3.7118191719055176], [3.171262741088867], [3.639863967895508], [3.5914909839630127], [3.4244179725646973], [3.459409713745117], [3.490601062774658], [3.5163049697875977], [3.2970027923583984], [3.2497963905334473], [3.0860142707824707], [3.4765472412109375], [3.309640884399414], [3.5168161392211914], [3.518916130065918], [3.1067986488342285], [3.6502742767333984], [3.2875163555145264], [3.323120594024658], [3.4911115169525146], [2.9714064598083496], [3.197997570037842], [3.2786507606506348], [3.5354115962982178], [3.5257911682128906], [3.080869436264038], [3.646749973297119], [3.409299373626709], [3.2525718212127686], [3.2592759132385254], [3.5478787422180176], [3.6185083389282227], [3.493932008743286], [3.516751527786255], [3.275275230407715], [3.322279691696167], [3.7442069053649902], [3.378753662109375], [3.205190896987915], [3.259798526763916], [3.1979215145111084], [3.554656982421875], [3.4507412910461426], [3.7402148246765137], [3.1372909545898438], [3.044861316680908], [3.494065046310425], [3.5436296463012695], [3.085430145263672], [3.604011297225952], [2.786990165710449], [3.322162628173828], [3.3340492248535156], [3.1892788410186768], [3.3664627075195312], [3.0546698570251465], [3.4814276695251465], [3.474853277206421], [3.4367947578430176], [3.7093958854675293], [3.074916362762451], [3.6951756477355957], [3.4607529640197754], [3.3649988174438477], [3.6561875343322754], [3.4387173652648926], [3.310582399368286], [3.6496896743774414], [3.1455044746398926], [3.641207218170166], [3.157252788543701], [3.3753490447998047], [3.1045336723327637], [3.353922128677368], [3.6977720260620117], [3.041851758956909], [3.1901156902313232], [3.628248691558838], [3.3069419860839844], [3.42244291305542], [3.1714189052581787], [3.39986515045166], [3.2237887382507324], [3.6086063385009766], [3.436976909637451], [3.2181267738342285], [3.295346975326538], [3.4042468070983887], [3.2593047618865967], [3.5560452938079834], [3.446258306503296], [3.7574210166931152], [3.2776551246643066], [2.874603509902954], [3.468501567840576], [3.0659124851226807], [3.6431078910827637], [3.2402172088623047], [3.647329330444336], [3.3889272212982178], [3.1540932655334473], [3.23921537399292], [3.346010208129883], [3.3722171783447266], [3.4296157360076904], [3.0892181396484375], [3.8645527362823486], [3.439786434173584], [3.5726542472839355], [3.180812358856201], [3.621962547302246], [3.5055975914001465], [3.4913792610168457], [3.3671886920928955], [3.3764259815216064], [3.586022138595581], [3.584841728210449], [3.5946362018585205], [3.4528307914733887], [3.388967990875244], [3.5629935264587402], [3.803433895111084], [3.260467529296875], [3.39376163482666], [3.1364688873291016], [3.0895447731018066], [3.3554577827453613], [3.4963269233703613], [2.923325300216675], [3.7453012466430664], [3.2604284286499023], [3.526043653488159], [3.459975242614746], [3.2983896732330322], [3.611865520477295], [3.345468044281006], [3.4827475547790527], [3.7817001342773438], [3.3573362827301025], [3.324209451675415], [3.027719259262085], [3.642406463623047], [3.438889265060425], [3.1154375076293945], [3.2170701026916504], [2.9822897911071777], [3.444918632507324], [3.5529606342315674], [3.370849370956421], [3.3370797634124756], [3.336575508117676], [3.4019148349761963], [3.4177513122558594], [3.506211996078491], [3.4263787269592285], [3.4372353553771973], [3.389188051223755], [3.8443801403045654], [3.610651969909668], [3.447023391723633], [3.5109574794769287], [3.5535216331481934], [3.59401273727417], [3.436717987060547], [3.5058836936950684], [3.3198258876800537], [3.25209903717041], [3.2956671714782715], [3.360840082168579], [3.562936782836914], [3.0993499755859375], [3.3935766220092773], [3.2326018810272217], [3.2848591804504395], [3.21441912651062], [3.0117344856262207], [3.1459579467773438], [3.6619181632995605], [3.3074445724487305], [3.223782777786255], [3.1396493911743164], [3.5869970321655273], [3.6352195739746094], [3.177204132080078], [3.0541062355041504], [3.2392334938049316], [3.6183249950408936], [3.666856527328491], [3.442168951034546], [3.282327651977539], [3.320429801940918], [3.4165682792663574], [3.186673879623413], [3.051952838897705], [3.2512786388397217], [3.302030563354492], [3.341010332107544], [3.2571208477020264], [3.4255471229553223], [3.3540987968444824], [3.402831792831421], [3.482757329940796], [3.2865567207336426], [3.155505657196045], [3.2478082180023193], [3.308248281478882], [3.523319959640503], [3.7972042560577393], [3.4386844635009766], [3.651125431060791], [2.8148579597473145], [3.3806285858154297], [3.435485363006592], [3.2285375595092773], [3.3230109214782715], [3.0441060066223145], [3.6576266288757324], [3.090167999267578], [3.5779976844787598], [3.311976432800293], [3.2818944454193115], [3.494377374649048], [3.4076461791992188], [3.5720174312591553], [3.2314157485961914], [2.996687889099121], [3.3444364070892334], [3.720418930053711], [3.200317859649658], [3.315317153930664], [3.3091578483581543], [3.6536669731140137], [3.157381534576416], [3.0920748710632324], [3.4876058101654053], [3.3309412002563477], [3.233746290206909], [3.550549268722534], [3.1287989616394043], [3.451314926147461], [3.2715539932250977], [3.3456897735595703], [3.2552762031555176], [3.0076487064361572], [3.2927134037017822], [3.2489516735076904], [3.326514720916748], [3.381690740585327], [3.323230743408203], [3.5074663162231445], [3.307406187057495], [3.3395073413848877], [3.297642707824707], [3.4046690464019775], [3.2821309566497803], [3.0339202880859375], [3.1896235942840576], [2.900421380996704], [3.500839948654175], [3.0584685802459717], [3.3187966346740723], [3.48690128326416], [3.477490186691284], [3.3018527030944824], [3.5804784297943115], [3.227044105529785], [3.7157633304595947], [3.249009132385254], [3.7682156562805176], [3.459357261657715], [3.4392642974853516], [3.5799925327301025], [3.3205838203430176], [3.7182276248931885], [3.323499917984009], [3.247333288192749], [3.503837823867798], [3.2700552940368652], [3.510977268218994], [3.4489965438842773], [3.478041887283325], [3.536377429962158], [3.1303374767303467], [3.3922903537750244], [3.2510766983032227], [3.404175043106079], [3.553110122680664], [3.4220991134643555], [3.351116180419922], [3.356945514678955], [3.2056965827941895], [3.071610689163208], [3.6215341091156006], [3.287628650665283], [3.510624408721924], [3.549834728240967], [3.2840592861175537], [3.0309765338897705], [3.704191207885742], [3.280489444732666], [3.0929698944091797], [3.373140811920166], [3.5748109817504883], [3.5248184204101562], [3.173647165298462], [3.2261016368865967], [3.575751304626465], [3.6997485160827637], [3.399864435195923], [3.74013352394104], [3.5283987522125244], [3.289393901824951], [3.3256866931915283], [3.487058639526367], [3.3418362140655518], [3.3274118900299072], [3.282301902770996], [3.4987471103668213], [3.837996244430542], [3.3568315505981445], [3.2803995609283447], [3.540304183959961], [3.541257858276367], [3.44138240814209], [3.409296989440918], [2.8807640075683594], [3.5343871116638184], [3.5748469829559326], [3.548384666442871], [3.211050033569336], [3.3744142055511475], [3.5669541358947754], [3.3122994899749756], [3.4604873657226562], [3.449202537536621], [2.9593942165374756], [3.4366161823272705], [3.51969051361084], [3.3477625846862793], [3.308839797973633], [3.0379371643066406], [3.369304656982422], [3.5870258808135986], [3.2966465950012207], [3.2899203300476074], [3.1803038120269775], [3.493553638458252], [3.5179998874664307], [3.749755382537842], [3.186971426010132], [3.589672327041626], [3.5577750205993652], [3.386889934539795], [3.3284430503845215], [3.396613597869873], [3.081888198852539], [3.645129680633545], [3.5597543716430664], [3.576801300048828], [3.600471019744873], [3.3110005855560303], [3.320215940475464], [3.474022626876831], [3.4896738529205322], [3.5302135944366455], [3.3295154571533203], [3.1877918243408203], [3.5339176654815674], [3.1955695152282715], [3.0440359115600586], [3.216310977935791], [3.6434741020202637], [3.269148111343384], [3.500053882598877], [3.445082187652588], [3.1670398712158203], [3.1767120361328125], [3.5095605850219727], [3.5250120162963867], [3.122704029083252], [3.137428045272827], [3.8576905727386475], [3.4075875282287598], [3.514500856399536], [3.430968761444092], [3.343533515930176], [3.4099669456481934], [3.5275185108184814], [2.9441349506378174], [3.2181756496429443], [3.641788959503174], [3.4054508209228516], [3.264585018157959], [3.340488910675049], [3.6696674823760986], [3.1882576942443848], [3.7849817276000977], [3.2498579025268555], [3.1696484088897705], [3.3963677883148193], [3.440202474594116], [3.3910329341888428], [3.3006019592285156], [3.603468418121338], [3.4003775119781494], [3.7564339637756348], [3.5381321907043457], [3.1145126819610596], [3.6573729515075684], [3.2402987480163574], [3.2183871269226074], [3.3601555824279785], [3.424785852432251], [3.364701509475708], [3.355022668838501], [3.3948233127593994], [3.6350419521331787], [3.5099706649780273], [3.519223928451538], [3.5034444332122803], [2.8753767013549805], [3.3535995483398438], [3.3364486694335938], [3.768527030944824], [3.4044692516326904], [3.36981201171875], [3.3121631145477295], [3.37103271484375], [3.2678892612457275], [3.551480293273926], [3.369905710220337], [3.585223913192749], [3.349529266357422], [3.4513254165649414], [3.470595598220825], [3.1607675552368164], [3.318019390106201], [3.118034839630127], [3.372314453125], [3.3832666873931885], [3.255823850631714], [3.5512750148773193], [3.3097362518310547], [3.6850314140319824], [3.2450966835021973], [3.3610739707946777], [3.4350852966308594], [3.710352659225464], [3.2268152236938477], [3.235058307647705], [3.218104839324951], [3.323061943054199], [3.7396416664123535], [3.341470718383789], [3.588209629058838], [3.4631221294403076], [3.5251145362854004], [3.554948329925537], [3.2459239959716797], [3.2380387783050537], [3.5397727489471436], [3.440772294998169], [3.3619208335876465], [3.475125789642334], [3.498751163482666], [3.2628250122070312], [3.5565338134765625], [3.568486213684082], [3.2754101753234863], [3.355719804763794], [2.811469793319702], [3.50710391998291], [3.2614121437072754], [3.199328660964966], [2.8558006286621094], [3.192322254180908], [3.566905975341797], [3.256357431411743], [3.1440327167510986], [3.4706814289093018], [3.197376251220703], [3.3045425415039062], [3.2779107093811035], [3.243178367614746], [3.0337576866149902], [3.2560672760009766], [3.517498016357422], [3.379335641860962], [3.1443495750427246], [3.2158889770507812], [3.232858896255493], [3.5149364471435547], [3.4992949962615967], [3.1864094734191895], [3.21848726272583], [3.32763409614563], [3.208949565887451], [3.443103790283203], [3.4054007530212402], [3.429287910461426], [3.2491631507873535], [3.6863598823547363], [3.7804136276245117], [3.3778154850006104], [3.368489980697632], [3.420839786529541], [3.362645149230957], [3.5452961921691895], [3.475008010864258], [3.6918537616729736], [3.5141782760620117], [3.5954108238220215], [3.2880029678344727], [3.573276996612549], [3.505824327468872], [2.7260046005249023], [3.591132879257202], [3.2862777709960938], [3.3459205627441406], [3.498831272125244], [2.881783962249756], [3.48549222946167], [3.3189828395843506], [3.4984426498413086], [3.650588035583496], [3.520092248916626], [3.498994827270508], [3.5830886363983154], [3.3788626194000244], [3.58109188079834], [3.302340030670166], [3.538506031036377], [3.213890790939331], [3.2617366313934326], [3.146233081817627], [2.9051570892333984], [3.5595076084136963], [3.6817283630371094], [3.4867818355560303], [3.3624370098114014], [3.1036055088043213], [3.845135450363159], [3.5635533332824707], [3.153019905090332], [3.880744218826294], [2.8508498668670654], [3.280500888824463], [3.15911865234375], [3.6425893306732178], [3.1646909713745117], [2.92150616645813], [3.972846031188965], [3.1369028091430664], [3.5679473876953125], [3.3210530281066895], [3.1759438514709473], [3.413646697998047], [3.1076955795288086], [3.3828465938568115], [3.357301712036133], [3.1281423568725586], [3.330599784851074], [3.351327419281006], [3.0879151821136475], [3.5514068603515625], [3.347808837890625], [3.122483491897583], [3.327691078186035], [3.5415666103363037], [3.237088203430176], [3.3951892852783203], [3.0043652057647705], [3.0390658378601074], [3.2836055755615234], [3.3546013832092285], [3.230238676071167], [3.4646823406219482], [3.3584814071655273], [3.4844677448272705], [3.2732834815979004], [3.3132619857788086], [3.193027973175049], [3.3857262134552], [3.554612636566162], [3.4021589756011963], [3.3792271614074707], [3.4962105751037598], [3.3905112743377686], [3.1733875274658203], [3.240987777709961], [3.1146552562713623], [3.299093246459961], [2.9531784057617188], [3.462153434753418], [3.449991464614868], [3.431917190551758], [3.4408068656921387], [3.5137858390808105], [3.2827672958374023], [3.3474228382110596], [3.0806612968444824], [3.688880443572998], [3.734036445617676], [3.6422972679138184], [3.397928476333618], [3.3564980030059814], [3.646988868713379], [3.2526402473449707], [3.3308141231536865], [3.294121026992798], [2.980292320251465], [3.360006332397461], [3.4167656898498535], [3.486988067626953], [3.4143481254577637], [3.1637723445892334], [3.5478098392486572], [3.466177225112915], [2.9409143924713135], [3.1083521842956543], [3.1653904914855957], [3.6333060264587402], [3.5490803718566895], [3.4819891452789307], [3.293834686279297], [2.834657907485962], [3.3954966068267822], [3.717700481414795], [3.63934063911438], [3.3802173137664795], [3.406996250152588], [3.3344812393188477], [3.420931816101074], [3.1083195209503174], [3.1960394382476807], [3.0046682357788086], [3.3525443077087402], [3.396763801574707], [3.4530863761901855], [3.505664348602295], [3.0496599674224854], [3.5408711433410645], [3.2833995819091797], [3.131067991256714], [3.359555959701538], [3.188016176223755], [3.4070353507995605], [3.5477535724639893], [3.485607624053955], [3.2472004890441895], [3.3112823963165283], [3.636622667312622], [3.307192802429199], [3.603184700012207], [3.327256202697754], [2.973984479904175], [3.384458065032959], [3.4606118202209473], [3.240723133087158], [3.0543484687805176], [3.2579550743103027], [3.5089285373687744], [3.64563250541687], [3.0258257389068604], [3.4167678356170654], [2.876950263977051], [3.2528786659240723], [3.3685708045959473], [3.1783697605133057], [3.3989624977111816], [3.0272209644317627], [3.4640607833862305], [3.415073871612549], [3.4445230960845947], [3.2252485752105713], [3.4451913833618164], [3.711390495300293], [3.4268953800201416], [3.596696376800537], [3.465395450592041], [3.441040515899658], [3.481048583984375], [3.1271252632141113], [3.2149291038513184], [3.4406638145446777], [3.1812548637390137], [3.488236904144287], [3.41445255279541], [3.3461709022521973], [3.048053741455078], [3.605360984802246], [3.6463046073913574], [3.4991846084594727], [3.615145206451416], [3.4013547897338867], [3.350888252258301], [3.3441717624664307], [3.339308738708496], [3.545353889465332], [3.2239270210266113], [2.865995407104492], [3.6436033248901367], [3.4975647926330566], [3.112354040145874], [3.2629308700561523], [3.199681043624878], [3.6720168590545654], [3.3468399047851562], [3.7104673385620117], [3.580294609069824], [3.344834804534912], [3.615164279937744], [3.4300661087036133], [3.3335464000701904], [3.4498438835144043], [3.2767505645751953], [3.5492682456970215], [3.151174783706665], [3.3287057876586914], [3.3661699295043945], [2.947313070297241], [3.1679773330688477], [3.6336002349853516], [3.425832986831665], [3.581972599029541], [3.3825857639312744], [3.7041563987731934], [3.24692702293396], [3.559758186340332], [3.614654541015625], [3.1227078437805176], [3.5077247619628906], [3.3500702381134033], [2.7843375205993652], [3.508758544921875], [3.489447593688965], [3.5654802322387695], [3.1067309379577637], [3.5189127922058105], [3.145707607269287], [3.218356132507324], [3.411686658859253], [3.306466817855835], [3.5233073234558105], [3.398144245147705], [3.5146141052246094], [3.761301279067993], [3.3661868572235107], [3.335695266723633], [3.1363470554351807], [3.3100409507751465], [3.6648290157318115], [3.4832260608673096], [3.5077033042907715], [3.24810791015625], [3.3119704723358154], [3.775543451309204], [3.1335113048553467], [3.591182231903076], [3.2649102210998535], [3.4415183067321777], [3.2618470191955566], [3.309323310852051], [3.3434882164001465], [3.551143169403076], [3.3315181732177734], [3.3681447505950928], [3.626485586166382], [3.370025157928467], [3.6810898780822754], [3.2178471088409424], [3.2374396324157715], [3.6052212715148926], [3.110870599746704], [3.578465223312378], [3.2231502532958984], [3.5795469284057617], [3.2062883377075195], [3.3989577293395996], [3.5362443923950195], [3.2348060607910156], [3.4458670616149902], [3.290781259536743], [3.328584671020508], [3.3176779747009277], [3.4925670623779297], [3.4807629585266113], [3.674739122390747], [3.3696177005767822], [3.406527280807495], [3.3125996589660645], [3.320434808731079], [3.6914315223693848], [3.227266788482666], [3.1956534385681152], [3.346917152404785], [3.4854369163513184], [3.4866890907287598], [3.3874714374542236], [3.5333447456359863], [3.267749309539795], [3.6840295791625977], [3.347551107406616], [3.1741409301757812], [3.0880837440490723], [3.186997890472412], [3.4134061336517334], [3.686359405517578], [3.249271869659424], [3.0748777389526367], [3.1981935501098633], [3.2319326400756836], [3.3784537315368652], [3.4833476543426514], [3.1981911659240723], [3.093575954437256], [3.3847851753234863], [3.2311668395996094], [3.676891326904297], [3.713636636734009], [3.14792799949646], [3.503497362136841], [3.2462692260742188], [3.365638017654419], [3.259938955307007], [3.52793025970459], [3.4588429927825928], [3.398754358291626], [3.611626625061035], [3.5404982566833496], [3.269895553588867], [3.7584478855133057], [3.30320143699646], [3.539846181869507], [3.448336124420166], [3.456331253051758], [3.605158567428589], [3.56166410446167], [3.459761142730713], [3.2909650802612305], [3.2892487049102783], [3.028212785720825], [3.2959353923797607], [3.2252278327941895], [3.3664777278900146], [2.901942491531372], [3.6180152893066406], [3.337526798248291], [3.2650794982910156], [3.5233452320098877], [3.382169008255005], [3.184671401977539], [3.417361259460449], [3.3254246711730957], [3.248595952987671], [3.1394450664520264], [3.4530551433563232], [3.581632137298584], [3.4846596717834473], [3.3202714920043945], [3.341153383255005], [3.5469586849212646], [3.301699161529541], [3.428194999694824], [3.5060689449310303], [3.2462267875671387], [3.7752628326416016], [3.6638336181640625], [3.193692684173584], [3.5285825729370117], [3.186450958251953], [3.350468873977661], [3.6165964603424072], [3.2503509521484375], [3.3079285621643066], [3.248746633529663], [3.4463791847229004], [3.7171249389648438], [3.071160316467285], [3.7812154293060303], [3.2732043266296387], [3.1808841228485107], [3.5387377738952637], [3.5503439903259277], [3.6464645862579346], [3.0810694694519043], [3.1845874786376953], [3.6294374465942383], [3.3035619258880615], [3.478361129760742], [3.4795870780944824], [3.3020191192626953], [3.194547653198242], [3.528280735015869], [3.288203001022339], [3.3058528900146484], [3.4085946083068848], [3.5158627033233643], [3.542670726776123], [3.2516391277313232], [3.037743091583252], [3.5200035572052], [3.4205739498138428], [3.594942569732666], [3.3183796405792236], [3.020634174346924], [3.4506304264068604], [3.2811803817749023], [3.5178427696228027], [3.287013053894043], [2.9201607704162598], [3.5443034172058105], [3.3528242111206055], [3.2493348121643066], [2.9127614498138428], [3.136401891708374], [3.2031569480895996], [3.5261483192443848], [3.2775371074676514], [3.5157127380371094], [2.9431705474853516], [3.197226047515869], [3.3447883129119873], [3.7704014778137207], [3.4805946350097656], [3.399711847305298], [3.499344825744629], [3.3686769008636475], [3.2733187675476074], [3.276740074157715], [3.4398255348205566], [3.6801042556762695], [3.589745044708252], [3.5588748455047607], [3.42153263092041], [3.2821483612060547], [3.627767324447632], [3.5417227745056152], [3.439394950866699], [3.168247699737549], [3.051947832107544], [3.560607433319092], [3.4376087188720703], [3.363926410675049], [3.335045337677002], [2.87697696685791], [3.2953743934631348], [3.465733051300049], [3.2235753536224365], [3.2942965030670166], [3.049314260482788], [3.465935707092285], [3.386575698852539], [3.3373546600341797], [3.449518918991089], [3.2780659198760986], [3.432185173034668], [3.4296398162841797], [3.6853067874908447], [3.3821299076080322], [3.2871317863464355], [3.521493434906006], [3.4827370643615723], [3.6153407096862793], [3.454097270965576], [3.2410194873809814], [3.6113128662109375], [3.353955030441284], [3.540522575378418], [3.4356915950775146], [3.2206289768218994], [3.258769989013672], [3.540947437286377], [3.223867416381836], [3.3561604022979736], [3.356336832046509], [3.808105945587158], [3.6397199630737305], [3.5579981803894043], [3.447471857070923], [3.056185245513916], [3.309816837310791], [3.5789730548858643], [3.397395610809326], [3.269871711730957], [3.422684669494629], [3.632469415664673], [3.417964458465576], [3.294006824493408], [2.982666254043579], [3.420536994934082], [3.9067206382751465], [3.4015209674835205], [3.528264045715332], [3.309331178665161], [3.0140233039855957], [3.3649566173553467], [3.4804649353027344], [3.4251983165740967], [3.162731647491455], [3.615764617919922], [3.316009521484375], [3.81752872467041], [3.4897377490997314], [3.4247140884399414], [3.610067844390869], [3.378539562225342], [3.072554588317871], [3.5493080615997314], [3.2221450805664062], [3.011962413787842], [3.485790967941284], [3.6995787620544434], [3.2277767658233643], [3.24078369140625], [3.422563076019287], [3.3994646072387695], [3.44596004486084], [3.173551082611084], [3.341348171234131], [3.3624343872070312], [3.718919038772583], [3.7249064445495605], [3.323028087615967], [3.515861749649048], [3.4361324310302734], [3.269193649291992], [3.219393253326416], [3.4491279125213623], [3.297689437866211], [3.1943106651306152], [3.2415151596069336], [3.3661861419677734], [3.288114547729492], [3.469357967376709], [3.1170873641967773], [3.4741992950439453], [3.2314443588256836], [3.678309202194214], [3.371882677078247], [2.953460693359375], [3.6065616607666016], [3.165484666824341], [3.4994664192199707], [3.1336565017700195], [3.0962302684783936], [3.7209882736206055], [3.5118203163146973], [3.4083924293518066], [3.0875468254089355], [2.9018197059631348], [3.5091304779052734], [3.388040542602539], [3.613706111907959], [3.1788220405578613], [3.2964560985565186], [3.337315082550049], [3.807664394378662], [3.405641794204712], [3.0591306686401367], [3.0667037963867188], [3.1024441719055176], [3.480851650238037], [3.4121499061584473], [3.246281862258911], [3.1736481189727783], [3.444443464279175], [3.2340781688690186], [3.60178542137146], [3.0878560543060303], [3.119025707244873], [3.830336332321167], [3.2983107566833496], [3.2997469902038574], [3.4318084716796875], [3.2337379455566406], [3.506833553314209], [3.5447049140930176], [3.5861663818359375], [3.251182794570923], [3.0782783031463623], [3.4135820865631104], [3.1853766441345215], [3.3224120140075684], [3.2060482501983643], [3.412863254547119], [3.4881796836853027], [3.4865660667419434], [3.3941736221313477], [3.569614887237549], [3.3754241466522217], [3.362351894378662], [3.509159564971924], [3.437692165374756], [3.2458317279815674], [3.207791328430176], [3.6123690605163574], [3.4814517498016357], [3.3609347343444824], [3.474245548248291], [3.369351387023926], [3.3550872802734375], [3.406001329421997], [3.3733878135681152], [3.4156155586242676], [3.205354690551758], [3.427703857421875], [3.243504762649536], [3.577699661254883], [3.55833101272583], [3.1435799598693848], [3.599254608154297], [3.3521647453308105], [3.535247802734375], [3.187720775604248], [3.2602379322052], [3.4811058044433594], [3.2103543281555176], [3.6033222675323486], [3.2073183059692383], [3.126814603805542], [3.2148561477661133], [3.3374290466308594], [3.0154473781585693], [3.0366711616516113], [2.846435070037842], [3.5971779823303223], [3.355454921722412], [3.387908458709717], [3.325679302215576], [3.0142807960510254], [3.2951717376708984], [3.4055590629577637], [3.756683349609375], [3.5420424938201904], [3.504941463470459], [3.7458176612854004], [3.3415327072143555], [3.4322125911712646], [3.318312406539917], [3.353799819946289], [3.257610321044922], [3.618943452835083], [3.444399833679199], [3.2442092895507812], [2.869879722595215], [3.3991384506225586], [3.5785317420959473], [3.5931496620178223], [3.6226766109466553], [3.1577062606811523], [3.522460460662842], [3.5564699172973633], [3.3475751876831055], [3.0659546852111816], [3.358919620513916], [3.2721810340881348], [3.4131414890289307], [3.5166778564453125], [3.2904508113861084], [2.9520063400268555], [3.3448853492736816], [3.558265209197998], [3.4812865257263184], [3.523153781890869], [3.1059985160827637], [3.7196531295776367], [3.649343967437744], [3.4123101234436035], [3.337935209274292], [3.1421468257904053], [3.4747700691223145], [3.5749311447143555], [3.3934521675109863], [3.262864828109741], [3.400330066680908], [3.3839621543884277], [3.5130910873413086], [3.459275245666504], [3.319000244140625], [3.2830395698547363], [3.6357829570770264], [3.534463405609131], [3.3966734409332275], [3.6977972984313965], [3.0855836868286133], [3.5013134479522705], [3.281137466430664], [3.3747408390045166], [3.6105079650878906], [2.6996982097625732], [3.565358877182007], [3.1645655632019043], [3.183899402618408], [3.4227733612060547], [2.8728561401367188], [3.3876113891601562], [3.2141640186309814], [3.615877151489258], [3.318213701248169], [2.930237293243408], [3.400564193725586], [3.4735114574432373], [3.3536832332611084], [3.210660457611084], [3.1518616676330566], [3.5092244148254395], [3.4574360847473145], [3.030569553375244], [3.4847309589385986], [3.3632521629333496], [3.471534013748169], [3.602036476135254], [3.235290288925171], [3.42257022857666], [3.4234228134155273], [3.6888723373413086], [3.148137092590332], [3.303687810897827], [3.6067748069763184], [3.3048415184020996], [3.7655067443847656], [3.3528831005096436], [2.8605313301086426], [3.267214298248291], [3.0917272567749023], [3.077319860458374], [3.431199073791504], [3.2102138996124268], [3.1826696395874023], [2.8092761039733887], [3.359891414642334], [3.5411078929901123], [3.277850866317749], [3.318631172180176], [3.391064405441284], [3.5171408653259277], [3.441416025161743], [3.1399827003479004], [3.461519956588745], [2.9282383918762207], [3.7918858528137207], [3.5064101219177246], [3.6224093437194824], [3.167891263961792], [3.294387102127075], [3.641110420227051], [3.772167921066284], [3.7414584159851074], [3.0658698081970215], [3.0590147972106934], [3.457211971282959], [3.577704906463623], [3.309974431991577], [3.466557025909424], [2.9806673526763916], [3.6749744415283203], [3.534623146057129], [3.0205020904541016], [3.394131660461426], [3.362396240234375], [3.4400322437286377], [3.244965076446533], [3.339855194091797], [3.345104455947876], [3.0137360095977783], [3.5207409858703613], [3.286994695663452], [3.278547763824463], [3.286634922027588], [3.3872179985046387], [3.4623775482177734], [3.275458574295044], [2.899777889251709], [3.58742094039917], [3.174764633178711], [3.802824020385742], [3.1466994285583496], [3.427173137664795], [3.462144136428833], [2.908228874206543], [3.38275408744812], [3.384842872619629], [3.3624730110168457], [3.5389037132263184], [3.2677078247070312], [3.309901714324951], [3.601689577102661], [3.604259967803955], [3.444735050201416], [3.5056686401367188], [3.7047998905181885], [3.484015703201294], [3.419149160385132], [3.2464518547058105], [3.0617191791534424], [3.1951398849487305], [3.1813039779663086], [3.5815579891204834], [3.4727978706359863], [3.789821147918701], [3.580662965774536], [3.4949917793273926], [3.576124668121338], [3.2964935302734375], [2.984786033630371], [3.7442123889923096], [3.397636651992798], [3.6078567504882812], [3.3102855682373047], [3.196312427520752], [3.6445910930633545], [3.309976577758789], [3.4639227390289307], [3.0544958114624023], [3.247156858444214], [3.321720600128174], [3.4170007705688477], [3.4366040229797363], [3.37894606590271], [3.3286192417144775], [3.388888359069824], [3.433708429336548], [3.7619481086730957], [3.527644634246826], [3.066012382507324], [3.4863123893737793], [3.471158027648926], [3.4301400184631348], [3.539358139038086], [3.344679594039917], [3.458976984024048], [3.513073444366455], [3.1247246265411377], [3.4630093574523926], [3.176142454147339], [3.268831253051758], [3.41456937789917], [3.4398996829986572], [3.1684772968292236], [3.122147560119629], [3.3835511207580566], [3.2602732181549072], [3.461716413497925], [3.1712279319763184], [3.2752623558044434], [3.830125331878662], [3.3224360942840576], [3.3638124465942383], [3.2299933433532715], [3.356102705001831], [3.5896778106689453], [3.520808219909668], [3.3318567276000977], [2.887552261352539], [3.3901309967041016], [3.1687464714050293], [3.1748151779174805], [3.326787233352661], [3.353804349899292], [3.1910088062286377], [3.9147720336914062], [3.3071298599243164], [3.344102382659912], [3.6764183044433594], [3.4686930179595947], [3.4896297454833984], [3.2819838523864746], [3.261014223098755], [2.9436869621276855], [3.470273971557617], [3.2531604766845703], [3.276093006134033], [3.3356099128723145], [3.1457016468048096], [3.4324464797973633], [3.492149591445923], [3.5933330059051514], [3.5083558559417725], [3.423485040664673], [3.193836212158203], [3.5949454307556152], [3.6817240715026855], [3.0760936737060547], [3.4801526069641113], [3.3351621627807617], [3.4318227767944336], [3.3147153854370117], [3.484528064727783], [3.411444902420044], [3.3739700317382812], [3.3603224754333496], [3.4744019508361816], [3.212437629699707], [3.3321220874786377], [3.055803060531616], [3.3770434856414795], [3.3715312480926514], [3.4656386375427246], [3.8040735721588135], [3.4741649627685547], [3.4872283935546875], [3.365781545639038], [3.450183391571045], [3.2275991439819336], [3.465972423553467], [3.171199083328247], [3.501260280609131], [3.432547092437744], [3.181995391845703], [3.1066319942474365], [3.4042789936065674], [3.3623197078704834], [3.6460485458374023], [3.4935216903686523], [2.974066734313965], [3.2375903129577637], [3.2581162452697754], [3.399864673614502], [3.3129498958587646], [3.3582983016967773], [3.554034948348999], [3.3051345348358154], [3.587362766265869], [3.3051445484161377], [3.1858136653900146], [3.5079312324523926], [3.5834503173828125], [3.2687368392944336], [3.3593714237213135], [2.8097221851348877], [3.318380832672119], [3.41764760017395], [3.5032262802124023], [2.973944664001465], [3.085411310195923], [3.4798834323883057], [3.2159371376037598], [3.2054221630096436], [3.5684661865234375], [3.0943899154663086], [3.4371798038482666], [3.1636505126953125], [2.8841195106506348], [3.564121961593628], [2.9822559356689453], [3.4609673023223877], [3.1169121265411377], [3.28053617477417], [3.498365879058838], [3.2607040405273438], [3.428196907043457], [3.2267351150512695], [3.3769969940185547], [3.4742159843444824], [3.539219856262207], [3.677133083343506], [3.321194648742676], [3.136949062347412], [3.4351930618286133], [2.910543441772461], [3.4650094509124756], [3.322392702102661], [3.4539194107055664], [3.382216453552246], [3.435774564743042], [3.626464366912842], [3.437731981277466], [3.552964687347412], [3.337437152862549], [3.247713327407837], [3.727397918701172], [3.5325989723205566], [3.1867692470550537], [3.2952957153320312], [3.498840570449829], [3.1646273136138916], [3.7957043647766113], [3.587589979171753], [3.4348342418670654], [3.2876343727111816], [3.6989593505859375], [3.388381004333496], [3.441775321960449], [2.893873691558838], [3.2407150268554688], [3.5031728744506836], [3.3131473064422607], [4.012642860412598], [3.458150863647461], [3.252840995788574], [3.4191534519195557], [3.3772642612457275], [3.7443995475769043], [3.558391571044922], [3.079594135284424], [3.1861343383789062], [3.0012965202331543], [3.409813642501831], [3.4213578701019287], [3.317904472351074], [3.6067397594451904], [3.186336040496826], [3.4614057540893555], [3.5162107944488525], [2.7901272773742676], [3.1870648860931396], [3.36014723777771], [3.165492534637451], [3.3414101600646973], [3.430894374847412], [3.5894765853881836], [3.2620809078216553], [3.1968271732330322], [3.3834075927734375], [3.1356430053710938], [3.254504442214966], [3.402190923690796], [3.390713691711426], [3.2538087368011475], [3.3272910118103027], [3.2971854209899902], [3.3237075805664062], [3.546323299407959], [3.1368093490600586], [3.2105367183685303], [3.3552632331848145], [3.2332143783569336], [3.7437245845794678], [3.596493721008301], [3.111060380935669], [3.533991813659668], [3.5482823848724365], [3.324965476989746], [3.3094115257263184], [3.3573105335235596], [3.4330883026123047], [3.4298181533813477], [3.332010507583618], [3.463423490524292], [3.3875160217285156], [3.363499164581299], [3.533681869506836], [3.249025821685791], [3.302436351776123], [2.931461811065674], [3.469285011291504], [3.3884944915771484], [3.3535714149475098], [3.4027204513549805], [3.372776985168457], [3.3723325729370117], [3.2208499908447266], [3.4487648010253906], [3.683871269226074], [3.270705223083496], [3.489197254180908], [3.4312548637390137], [3.3941943645477295], [3.4646871089935303], [2.86448073387146], [3.549130439758301], [3.422654628753662], [3.2987122535705566], [3.466933250427246], [3.3517332077026367], [3.37552547454834], [3.573667049407959], [3.3750369548797607], [3.5327539443969727], [3.134688377380371], [3.3991048336029053], [3.6023013591766357], [2.650801181793213], [3.195587635040283], [3.401082754135132], [3.31612229347229], [3.305570125579834], [3.2415425777435303], [3.4627199172973633], [2.762913465499878], [3.5023162364959717], [3.409259796142578], [3.437269687652588], [3.057493209838867], [3.128293752670288], [3.771125316619873], [3.347352981567383], [3.3333029747009277], [3.1857924461364746], [3.5627670288085938], [3.390660285949707], [3.4730594158172607], [3.7837910652160645], [2.977982759475708], [3.045275926589966], [3.361661911010742], [3.6185832023620605], [3.5265612602233887], [3.331064462661743], [3.1107659339904785], [3.435866355895996], [3.4471840858459473], [3.2930943965911865], [3.1114115715026855], [3.4105584621429443], [3.6828012466430664], [3.337719440460205], [3.366483211517334], [3.4749526977539062], [3.3358633518218994], [3.6680774688720703], [3.202089786529541], [3.373749256134033], [3.2874996662139893], [3.031682252883911], [3.1667280197143555], [3.2570509910583496], [3.5686721801757812], [3.049175977706909], [3.124671220779419], [3.4667468070983887], [3.3850951194763184], [3.522793769836426], [3.422139883041382], [3.2432913780212402], [3.485462188720703], [3.330850124359131], [3.4561572074890137], [3.149181365966797], [3.19035267829895], [3.3933424949645996], [3.688998222351074], [3.4314537048339844], [3.368236780166626], [3.0752389430999756], [3.5286219120025635], [3.4715657234191895], [3.218611717224121], [3.470278263092041], [3.2702255249023438], [3.3982224464416504], [3.5114312171936035], [3.46956729888916], [3.3104052543640137], [3.2893779277801514], [3.625596523284912], [3.374720573425293], [3.0010831356048584], [3.3267881870269775], [3.297227621078491], [3.7014617919921875], [3.2582216262817383], [3.339238166809082], [3.553126811981201], [3.3958754539489746], [3.62261700630188], [3.1754374504089355], [3.332411050796509], [3.2438838481903076], [3.170905828475952], [3.477686882019043], [3.319801092147827], [3.6386361122131348], [3.3743815422058105], [3.1387293338775635], [3.6594691276550293], [3.301682949066162], [3.327558994293213], [3.5256729125976562], [3.28788423538208], [3.298179864883423], [3.2147529125213623], [3.462977409362793], [3.2621281147003174], [3.109579563140869], [3.427325963973999], [3.4969606399536133], [3.2022383213043213], [3.372480869293213], [3.3314380645751953], [3.619843006134033], [3.4871268272399902], [3.7968735694885254], [3.640982151031494], [3.196087121963501], [3.5655417442321777], [3.6140148639678955], [3.3306095600128174], [3.717970848083496], [3.2174296379089355], [3.5616164207458496], [3.5447001457214355], [3.4086568355560303], [3.2626688480377197], [3.311821937561035], [3.5135040283203125], [3.466580629348755], [3.606025218963623], [3.4737472534179688], [3.2818613052368164], [3.31231951713562], [3.4112372398376465], [3.3234386444091797], [3.486539840698242], [3.2632789611816406], [3.4840424060821533], [3.376807451248169], [3.310103178024292], [3.259251117706299], [3.304295778274536], [3.3052778244018555], [3.4182770252227783], [3.2735047340393066], [3.299128770828247], [3.191943407058716], [3.514072895050049], [3.3856496810913086], [3.2873220443725586], [3.4525880813598633], [3.012636423110962], [3.5178799629211426], [3.348750114440918], [3.146573066711426], [3.1584954261779785], [3.4283809661865234], [3.195673704147339], [3.4449944496154785], [3.467639684677124], [3.168975591659546], [3.3545517921447754], [3.6150221824645996], [3.4205780029296875], [3.4314162731170654], [3.228994369506836], [2.9324607849121094], [3.585562229156494], [3.5643558502197266], [3.405815601348877], [3.573899745941162], [3.182887554168701], [3.2170724868774414], [3.485841751098633], [3.7000536918640137], [3.199528217315674], [3.3613486289978027], [3.1346564292907715], [3.647780179977417], [3.4254565238952637], [3.235074520111084], [3.2775487899780273], [3.759511947631836], [3.166400194168091], [3.118276596069336], [3.0985045433044434], [3.4599854946136475], [3.1963300704956055], [3.2074167728424072], [3.5524544715881348], [3.3659634590148926], [3.580761194229126], [3.8222618103027344], [3.3654935359954834], [3.68070912361145], [3.4516210556030273], [3.4526567459106445], [3.2502665519714355], [3.308131694793701], [3.4870479106903076], [3.091005325317383], [3.3355355262756348], [3.4556593894958496], [3.639163017272949], [3.4130306243896484], [3.3101606369018555], [2.8434276580810547], [3.326167106628418], [3.3173940181732178], [3.7793707847595215], [3.4513978958129883], [3.642448902130127], [3.711806535720825], [3.9275455474853516], [3.3635523319244385], [3.1010220050811768], [3.1148386001586914], [3.2634966373443604], [3.820641040802002], [3.4518890380859375], [3.6311757564544678], [3.290525436401367], [3.4929561614990234], [3.593550205230713], [3.333731174468994], [3.2222237586975098], [3.3487765789031982], [3.5696969032287598], [3.500300407409668], [3.560598134994507], [3.2148067951202393], [3.067337989807129], [3.241291046142578], [3.576138496398926], [3.7601802349090576], [3.481292963027954], [2.9473416805267334], [3.51926851272583], [3.335481882095337], [3.456906795501709], [3.300609827041626], [3.324148654937744], [3.6179304122924805], [3.6289055347442627], [3.7036595344543457], [3.086024284362793], [3.1326777935028076], [3.3691985607147217], [3.5634100437164307], [3.604630947113037], [3.2604944705963135], [3.4094319343566895], [3.5432066917419434], [3.117724895477295], [3.3670215606689453], [3.3330368995666504], [3.267988443374634], [3.3565213680267334], [3.355630874633789], [3.524709701538086], [3.300689697265625], [3.2094919681549072], [3.6035094261169434], [3.737277030944824], [3.0460238456726074], [3.3300087451934814], [3.3808822631835938], [3.466350555419922], [3.5630080699920654], [3.2781319618225098], [3.3649070262908936], [3.2284090518951416], [3.7095882892608643], [3.3434700965881348], [3.258756160736084], [3.4084901809692383], [3.2959442138671875], [3.4734325408935547], [3.5967793464660645], [3.1186842918395996], [3.1189544200897217], [3.1906850337982178], [3.4918060302734375], [3.318174123764038], [3.3583831787109375], [3.5739126205444336], [3.0094192028045654], [3.6682088375091553], [3.4393696784973145], [3.0352725982666016], [3.411789655685425], [3.4797611236572266], [3.8200159072875977], [3.3103785514831543], [3.3077147006988525], [3.311513900756836], [3.024168014526367], [3.276413917541504], [3.277863025665283], [3.461552858352661], [3.2776951789855957], [3.319901943206787], [3.4429266452789307], [3.2700791358947754], [3.487339496612549], [3.092029333114624], [3.0689244270324707], [3.3661727905273438], [3.585270881652832], [3.2249226570129395], [3.1831166744232178], [3.4575278759002686], [3.760831832885742], [3.6461141109466553], [3.355116605758667], [3.333397388458252], [3.401397943496704], [3.5001699924468994], [3.363217353820801], [3.4976882934570312], [3.382503032684326], [3.487631320953369], [3.548095226287842], [2.9961295127868652], [3.5129008293151855], [3.1749210357666016], [3.295379877090454], [3.3371047973632812], [3.305852174758911], [3.5928125381469727], [3.6603498458862305], [3.444967269897461], [3.6067285537719727], [3.577868938446045], [3.73936128616333], [3.365432024002075], [3.1883864402770996], [3.4640116691589355], [3.5747478008270264], [3.432319164276123], [3.5449843406677246], [2.6726648807525635], [3.442563056945801], [3.6228456497192383], [3.057786703109741], [2.901298999786377], [3.086247205734253], [3.419661283493042], [3.1995534896850586], [3.5429611206054688], [3.417304039001465], [3.096496105194092], [3.190826654434204], [3.5001282691955566], [3.3236889839172363], [3.6046063899993896], [2.9122467041015625], [3.7109923362731934], [3.2596654891967773], [3.441751003265381], [3.5848941802978516], [3.4592270851135254], [3.754340171813965], [3.2622060775756836], [3.1636810302734375], [3.470477342605591], [3.290339946746826], [3.6292667388916016], [3.8998684883117676], [3.330679178237915], [3.346107244491577], [3.0779366493225098], [3.277705192565918], [3.7208805084228516], [3.24869704246521], [3.2871861457824707], [3.16621732711792], [3.8228535652160645], [3.068692207336426], [3.465186595916748], [3.064312696456909], [2.7087979316711426], [3.4077467918395996], [3.4549977779388428], [3.3839380741119385], [3.2485625743865967], [3.4854183197021484], [3.4830164909362793], [3.6698410511016846], [3.4814743995666504], [3.3684420585632324], [3.66617488861084], [3.180393934249878], [3.445582866668701], [3.3058536052703857], [3.124277114868164], [3.330029010772705], [3.2432734966278076], [3.5224931240081787], [3.518648624420166], [3.417819023132324], [3.169069290161133], [3.3922367095947266], [3.429959297180176], [3.291337013244629], [3.2439980506896973], [3.3094449043273926], [3.116744041442871], [3.538580894470215], [3.1889162063598633], [3.5238873958587646], [3.5946950912475586], [3.4111275672912598], [3.552574634552002], [3.2617242336273193], [3.489330291748047], [2.8942456245422363], [3.611250162124634], [3.2986631393432617], [3.433271884918213], [3.3115906715393066], [3.531402111053467], [3.5957069396972656], [3.4355087280273438], [3.5031306743621826], [3.5112459659576416], [2.886826992034912], [3.2709569931030273], [3.0396335124969482], [3.7260777950286865], [3.3518786430358887], [3.3404574394226074], [3.4413774013519287], [3.422325611114502], [3.5394492149353027], [3.697807788848877], [3.4571456909179688], [3.326289653778076], [3.4802088737487793], [3.6197333335876465], [3.448131799697876], [3.082819938659668], [3.402261734008789], [3.586254119873047], [3.748535633087158], [3.3825550079345703], [3.2040657997131348], [3.3972015380859375], [3.2779781818389893], [3.399228096008301], [3.620269298553467], [3.4478228092193604], [3.115340232849121], [3.4472787380218506], [3.263568639755249], [2.89333438873291], [2.982440948486328], [3.790030002593994], [3.658768892288208], [3.021820545196533], [3.4600398540496826], [3.5666513442993164], [3.636941909790039], [3.6826770305633545], [3.4525625705718994], [3.2132205963134766], [3.256434202194214], [3.4591293334960938], [3.360119104385376], [3.323009967803955], [3.1513733863830566], [2.9126393795013428], [3.398256778717041], [3.416937828063965], [3.392695665359497], [3.304617404937744], [3.3448681831359863], [3.4076035022735596], [3.297889471054077], [3.1870293617248535], [3.454094886779785], [2.5982272624969482], [3.5688698291778564], [3.4393978118896484], [3.42228364944458], [3.4891014099121094], [3.2819225788116455], [3.303345203399658], [3.7579240798950195], [3.730217456817627], [3.368817090988159], [3.134477138519287], [3.474717617034912], [3.889373779296875], [3.2100844383239746], [3.536245822906494], [3.378264904022217], [3.4631567001342773], [3.5492184162139893], [3.357205867767334], [3.356769323348999], [3.3886327743530273], [3.399698257446289], [3.731379985809326], [3.3036627769470215], [3.0691397190093994], [3.340794563293457], [3.226501226425171], [3.2458384037017822], [3.55344820022583], [3.53079891204834], [3.381013870239258], [3.622013568878174], [3.3569717407226562], [3.303349256515503], [3.217867374420166], [3.1555871963500977], [3.593953847885132], [3.817366361618042], [3.1657323837280273], [2.957772731781006], [3.067640781402588], [3.2085866928100586], [3.846844434738159], [3.0847859382629395], [3.4069249629974365], [3.06919002532959], [3.6049461364746094], [3.2203311920166016], [3.1017539501190186], [3.1002516746520996], [3.2313451766967773], [3.5619149208068848], [3.6074588298797607], [3.557248592376709], [3.6789443492889404], [3.359499931335449], [3.7072997093200684], [3.7471866607666016], [3.299508810043335], [3.268702507019043], [3.624988079071045], [3.6010446548461914], [3.3133530616760254], [3.4434313774108887], [3.364189863204956], [3.5711441040039062], [3.4543941020965576], [3.4014511108398438], [3.749621868133545], [3.5795907974243164], [3.020293951034546], [3.3691046237945557], [3.2616186141967773], [3.599453926086426], [3.697455644607544], [3.2688333988189697], [3.517179012298584], [3.679729461669922], [3.1092376708984375], [3.3402743339538574], [3.1502418518066406], [3.577444553375244], [3.4699838161468506], [3.330057144165039], [3.4326746463775635], [3.2012243270874023], [3.534221649169922], [3.3642630577087402], [3.289175271987915], [3.5152506828308105], [3.220395565032959], [3.4088339805603027], [3.3857314586639404], [3.164381504058838], [3.2397284507751465], [3.030064582824707], [3.2698984146118164], [3.1067442893981934], [3.5759072303771973], [3.4960761070251465], [3.063289165496826], [3.4672651290893555], [3.453906297683716], [3.2127950191497803], [3.4256386756896973], [3.4456863403320312], [3.3793492317199707], [3.1882998943328857], [3.3032145500183105], [3.153384208679199], [2.6593549251556396], [3.409822463989258], [3.3078548908233643], [3.321822166442871], [3.681546449661255], [2.878112316131592], [3.366396903991699], [3.4950685501098633], [3.5359277725219727], [3.3755264282226562], [3.084273338317871], [3.5503787994384766], [3.5774340629577637], [3.3140599727630615], [3.198071002960205], [3.0025601387023926], [3.3161020278930664], [3.456068515777588], [3.224846601486206], [3.4834399223327637], [3.3305869102478027], [3.1658594608306885], [3.457948684692383], [3.2407944202423096], [3.3623290061950684], [3.5373287200927734], [3.242312431335449], [3.5123252868652344], [3.6143908500671387], [3.316434621810913], [3.5109751224517822], [3.652237892150879], [3.447800397872925], [3.4850378036499023], [3.1464102268218994], [3.348912239074707], [3.4374589920043945], [3.2893805503845215], [3.6466054916381836], [3.2300591468811035], [3.30808687210083], [3.5038199424743652], [3.1532115936279297], [3.3377323150634766], [3.305079698562622], [3.39420485496521], [3.50557804107666], [3.174440860748291], [3.5869741439819336], [3.0015459060668945], [3.462890148162842], [3.778503894805908], [3.315715789794922], [3.600022554397583], [3.3660271167755127], [3.367623805999756], [3.6696362495422363], [3.3320205211639404], [3.499288320541382], [3.094773054122925], [3.027103900909424], [3.5377981662750244], [3.6366591453552246], [3.120258092880249], [3.340721845626831], [3.1985583305358887], [3.4620933532714844], [3.4046030044555664], [3.3587989807128906], [3.1040046215057373], [3.0385560989379883], [3.509284019470215], [3.281738758087158], [3.6611289978027344], [3.105776786804199], [3.194000720977783], [3.768423318862915], [3.9382615089416504], [3.30299711227417], [3.249072313308716], [3.094525098800659], [3.4840402603149414], [3.146702289581299], [3.4761359691619873], [3.3968420028686523], [3.1596524715423584], [3.575021982192993], [3.3209009170532227], [3.554842948913574], [3.2075095176696777], [2.8596954345703125], [3.5269265174865723], [3.394929885864258], [3.317629814147949], [3.4631869792938232], [3.3728456497192383], [3.381394863128662], [3.607719898223877], [3.6691737174987793], [3.3002171516418457], [3.2907583713531494], [3.3529903888702393], [3.2179174423217773], [3.341073513031006], [3.4515838623046875], [3.0265135765075684], [3.184379816055298], [3.408853054046631], [3.6368517875671387], [3.0519938468933105], [3.38966703414917], [3.525679111480713], [3.3916144371032715], [3.3296122550964355], [3.526400327682495], [3.3984627723693848], [3.453876256942749], [3.482110023498535], [3.284475326538086], [3.2882883548736572], [3.276477575302124], [3.6089043617248535], [3.5279769897460938], [3.2949929237365723], [3.4597244262695312], [3.130542516708374], [3.596355438232422], [3.5215673446655273], [3.479893922805786], [3.2889628410339355], [3.0406579971313477], [3.481470823287964], [3.5611801147460938], [3.4357900619506836], [3.554281234741211], [3.0376248359680176], [3.486443281173706], [3.2709481716156006], [3.497791290283203], [3.467319965362549], [3.2185215950012207], [3.347942352294922], [3.8502588272094727], [3.46885347366333], [3.2894811630249023], [3.0556704998016357], [3.3389296531677246], [3.3639914989471436], [3.3098645210266113], [3.522251605987549], [3.3197731971740723], [3.459132671356201], [3.620048999786377], [3.1727051734924316], [3.228074073791504], [3.080240249633789], [3.256979465484619], [3.3309757709503174], [3.617013931274414], [3.33449649810791], [3.2649335861206055], [3.3135476112365723], [3.4192848205566406], [3.4475810527801514], [3.374359130859375], [2.848785400390625], [3.3591604232788086], [3.292478084564209], [3.326732635498047], [3.502692461013794], [3.386089324951172], [3.7466559410095215], [3.7610793113708496], [3.410767078399658], [3.4804210662841797], [3.4469001293182373], [3.4476442337036133], [3.49830961227417], [3.2114264965057373], [3.5723118782043457], [3.4000887870788574], [3.2746741771698], [3.294269561767578], [3.251934051513672], [3.566934108734131], [2.9073688983917236], [3.1201388835906982], [3.429166793823242], [3.4524338245391846], [3.252030611038208], [3.145702362060547], [3.179081439971924], [3.4159553050994873], [3.5993332862854004], [3.53047513961792], [3.163663864135742], [3.4354655742645264], [3.527343273162842], [3.391632080078125], [3.3987064361572266], [3.452115535736084], [3.4698758125305176], [3.4879961013793945], [3.1921725273132324], [3.282693386077881], [3.1208319664001465], [3.4329347610473633], [3.445150375366211], [3.4279122352600098], [3.124082565307617], [2.928553819656372], [3.901411533355713], [3.5976738929748535], [3.4771156311035156], [2.934439182281494], [3.360205888748169], [3.482194662094116], [3.392958164215088], [3.244054079055786], [3.060169219970703], [3.125394105911255], [3.556208610534668], [3.4880518913269043], [3.706700563430786], [3.554158926010132], [3.46472430229187], [3.2437424659729004], [3.485250473022461], [3.4059178829193115], [3.325962543487549], [3.521322727203369], [3.6976253986358643], [3.3508925437927246], [3.5906195640563965], [3.4677865505218506], [3.2224345207214355], [3.808032989501953], [3.469541311264038], [3.321481704711914], [3.243722915649414], [3.294647216796875], [3.3348710536956787], [3.5750317573547363], [3.6728363037109375], [2.8676061630249023], [3.4396629333496094], [3.3082995414733887], [3.3009324073791504], [3.3545749187469482], [3.3452022075653076], [3.161935806274414], [3.540452718734741], [3.501588821411133], [3.3865532875061035], [3.2981197834014893], [3.2744288444519043], [3.387910842895508], [3.219555616378784], [3.679103136062622], [3.1734371185302734], [3.167328357696533], [3.4298956394195557], [2.41507625579834], [3.412660598754883], [3.249309778213501], [3.8166167736053467], [3.5108585357666016], [3.367035388946533], [3.5219850540161133], [3.570405960083008], [3.164534568786621], [3.443976402282715], [3.4524309635162354], [3.0188658237457275], [3.5017952919006348], [2.8659636974334717], [3.181795358657837], [3.3138175010681152], [3.5147130489349365], [3.413043975830078], [2.988156318664551], [3.40779972076416], [3.4066824913024902], [3.3716187477111816], [3.4791030883789062], [3.1080214977264404], [3.386737108230591], [3.4197003841400146], [3.4370670318603516], [3.2876791954040527], [3.215571880340576], [3.53757905960083], [3.590672731399536], [3.2827792167663574], [3.1712260246276855], [3.4823365211486816], [3.3841779232025146], [3.4642488956451416], [3.510472536087036], [3.3432493209838867], [3.1430740356445312], [3.6767444610595703], [3.682523488998413], [3.1787970066070557], [2.9996302127838135], [2.7726900577545166], [3.396984577178955], [3.382075786590576], [3.3240504264831543], [3.442873954772949], [3.3925209045410156], [3.6432950496673584], [3.4750397205352783], [3.215945243835449], [3.329378366470337], [3.1151490211486816], [3.564505100250244], [3.462010622024536], [3.4162240028381348], [3.4957456588745117], [3.380099296569824], [3.694493532180786], [3.4342870712280273], [3.2629899978637695], [3.316256523132324], [3.4428791999816895], [3.564725160598755], [3.3412718772888184], [3.446378231048584], [3.392192840576172], [3.214573383331299], [3.42474102973938], [3.2029953002929688], [3.3289380073547363], [3.2678232192993164], [3.532337188720703], [3.532792091369629], [3.1320784091949463], [3.4093456268310547], [3.5613765716552734], [3.2280328273773193], [3.3479580879211426], [3.355903387069702], [3.3580026626586914], [3.5608489513397217], [3.1513686180114746], [3.5555477142333984], [3.2454257011413574], [3.510798454284668], [3.1458868980407715], [3.1092700958251953], [3.4745004177093506], [3.6813583374023438], [3.334441661834717], [3.1527628898620605], [3.3180129528045654], [3.488126754760742], [3.3499763011932373], [3.3895602226257324], [3.4474165439605713], [2.8903350830078125], [3.3782458305358887], [3.529752254486084], [3.148571729660034], [3.4949073791503906], [3.3851633071899414], [3.3066678047180176], [3.3391284942626953], [3.744553804397583], [3.1729469299316406], [3.0721702575683594], [3.308474063873291], [3.5108513832092285], [3.543550968170166], [3.0034255981445312], [3.6510775089263916], [3.3223671913146973], [3.395702838897705], [3.5854787826538086], [3.156989097595215], [3.142739772796631], [3.7936744689941406], [3.60194730758667], [3.4270567893981934], [3.3732733726501465], [3.335216760635376], [3.6170523166656494], [3.14989972114563], [3.4802751541137695], [3.153149127960205], [3.6388559341430664], [3.432810068130493], [3.428328037261963], [3.1927523612976074], [3.425227403640747], [3.363630771636963], [3.4101357460021973], [3.5551812648773193], [3.2716896533966064], [3.2876391410827637], [3.0233654975891113], [3.4112935066223145], [3.264998435974121], [3.318697452545166], [3.203530788421631], [3.539240598678589], [3.4013094902038574], [3.3401401042938232], [3.245809555053711], [3.5199151039123535], [3.5764989852905273], [3.3922629356384277], [3.6976680755615234], [3.3784711360931396], [3.3077759742736816], [2.910884141921997], [3.6271724700927734], [3.297480583190918], [3.4912710189819336], [3.24568510055542], [3.1614394187927246], [3.5924668312072754], [3.3062500953674316], [3.7207677364349365], [3.1623337268829346], [3.2531723976135254], [3.611006736755371], [3.486258029937744], [3.520566463470459], [3.04229474067688], [3.289698839187622], [3.472853660583496], [3.5544416904449463], [3.629805564880371], [3.628309488296509], [2.903898000717163], [3.526357650756836], [3.2828874588012695], [3.5770208835601807], [3.3908629417419434], [3.4601309299468994], [3.4204659461975098], [3.5376203060150146], [3.0709774494171143], [3.4863686561584473], [3.362790107727051], [3.679293394088745], [3.2116880416870117], [3.522264242172241], [3.377140522003174], [3.397129774093628], [3.708930015563965], [3.407381534576416], [3.345583200454712], [3.361593246459961], [3.318143844604492], [3.7104551792144775], [3.6222715377807617], [3.3590564727783203], [3.374934196472168], [3.420024871826172], [3.3072824478149414], [3.3076672554016113], [3.6568524837493896], [3.2398593425750732], [3.440089702606201], [3.2239198684692383], [3.3559675216674805], [3.3853721618652344], [3.0429508686065674], [3.358327865600586], [3.4084019660949707], [3.1937270164489746], [3.507239818572998], [3.0309598445892334], [3.0452842712402344], [3.4568920135498047], [3.428309917449951], [3.417055368423462], [3.256617784500122], [3.2361960411071777], [3.68284273147583], [3.405280351638794], [3.493377208709717], [2.592479705810547], [3.2214980125427246], [3.4270424842834473], [3.530086040496826], [3.329465866088867], [3.170067310333252], [3.2544608116149902], [3.6334104537963867], [3.4251646995544434], [3.261033058166504], [3.7853171825408936], [3.1145451068878174], [3.6444058418273926], [3.3656632900238037], [3.5861244201660156], [3.2571380138397217], [3.0387279987335205], [3.5379858016967773], [3.5509724617004395], [3.3874106407165527], [3.4381844997406006], [3.236208915710449], [3.8521885871887207], [3.303511381149292], [3.3895833492279053], [3.232351303100586], [3.0381712913513184], [3.1752066612243652], [3.28717303276062], [3.3853516578674316], [3.3451037406921387], [3.4349803924560547], [3.4870991706848145], [3.3961517810821533], [3.481473922729492], [3.121377468109131], [3.2644667625427246], [3.4149370193481445], [3.2465155124664307], [3.2360098361968994], [3.3535890579223633], [3.316697359085083], [3.5546987056732178], [3.568553924560547], [3.374142646789551], [3.078439712524414], [3.3154566287994385], [3.6293606758117676], [3.6975793838500977], [3.344324827194214], [3.4992809295654297], [3.277310371398926], [3.55326509475708], [3.6998815536499023], [3.364832639694214], [3.0773839950561523], [3.5054898262023926], [3.468052864074707], [3.091615915298462], [3.1581838130950928], [3.3851592540740967], [3.45579195022583], [3.083514928817749], [3.461092233657837], [3.4920101165771484], [3.2796247005462646], [3.1928930282592773], [3.4484641551971436], [3.2415261268615723], [3.4468936920166016], [3.5069031715393066], [3.4271678924560547], [3.392918825149536], [3.517627716064453], [3.2597429752349854], [3.580195426940918], [3.247842311859131], [3.6634364128112793], [3.473198652267456], [3.1966753005981445], [3.114150047302246], [3.1573691368103027], [3.364511251449585], [3.403506278991699], [3.4625515937805176], [3.238868236541748], [3.5582990646362305], [3.3466176986694336], [3.415616035461426], [3.2915117740631104], [3.445460319519043], [3.102602958679199], [3.5728158950805664], [3.5299315452575684], [3.416195869445801], [3.566096305847168], [3.1901299953460693], [3.54512882232666], [3.7104508876800537], [3.3860116004943848], [3.661069869995117], [3.5082263946533203], [3.3011159896850586], [3.471290349960327], [3.0504496097564697], [3.519132614135742], [3.1025922298431396], [3.766683578491211], [3.4560372829437256], [3.2811872959136963], [3.2055656909942627], [3.1471288204193115], [3.52498197555542], [3.6268467903137207], [3.4434828758239746], [3.5231077671051025], [3.0892908573150635], [3.706871509552002], [3.680685520172119], [3.831770420074463], [3.237762689590454], [3.0734243392944336], [3.5112030506134033], [3.7565388679504395], [3.378274440765381], [3.2123517990112305], [3.2274668216705322], [3.471414804458618], [3.3240041732788086], [3.0849859714508057], [3.8860206604003906], [3.3019301891326904], [3.4481382369995117], [3.3058888912200928], [3.4373250007629395], [3.160019874572754], [3.6693482398986816], [3.328540325164795], [3.356818437576294], [2.991267442703247], [3.1983113288879395], [3.090070962905884], [3.5263724327087402], [3.329127311706543], [3.71667742729187], [3.376932382583618], [3.6003310680389404], [3.612873077392578], [3.4026498794555664], [3.4837474822998047], [3.407111167907715], [3.158287763595581], [3.5866713523864746], [3.5894269943237305], [3.3037428855895996], [3.3352460861206055], [3.44677734375], [3.6179375648498535], [3.359072685241699], [3.2747559547424316], [3.27602481842041], [3.247248649597168], [3.351017951965332], [3.5196313858032227], [3.0177111625671387], [3.159543991088867], [3.5465307235717773], [3.498512029647827], [3.3137240409851074], [3.5707180500030518], [3.5175065994262695], [3.4573073387145996], [3.4465742111206055], [3.29717755317688], [3.3524556159973145], [3.361182689666748], [2.952897310256958], [3.0814530849456787], [3.372025489807129], [3.384568214416504], [3.452022075653076], [3.7055463790893555], [3.6700799465179443], [3.493504524230957], [3.5554943084716797], [3.2988858222961426], [3.5188870429992676], [3.5929811000823975], [3.48683500289917], [3.379251003265381], [3.231713056564331], [3.1344385147094727], [3.7872958183288574], [3.356281042098999], [3.335346221923828], [3.4236884117126465], [3.322848320007324], [3.501303195953369], [3.5148491859436035], [3.4638938903808594], [3.2061357498168945], [3.012877941131592], [3.5408174991607666], [3.5659053325653076], [3.480684995651245], [3.1925997734069824], [2.8647079467773438], [3.805528402328491], [3.338228464126587], [3.363264322280884], [3.3181581497192383], [3.5162463188171387], [3.4326953887939453], [3.083889961242676], [3.2674169540405273], [3.244424819946289], [3.378286361694336], [3.7672362327575684], [3.3600728511810303], [3.532712936401367], [3.102531909942627], [3.4167122840881348], [3.2330751419067383], [2.9660134315490723], [3.530273199081421], [3.038085460662842], [3.340078115463257], [3.5466725826263428], [3.5904922485351562], [3.424420118331909], [3.006711721420288], [2.634444236755371], [3.2928478717803955], [3.4537878036499023], [3.263868808746338], [3.4769339561462402], [2.9844093322753906], [3.184013843536377], [3.425091505050659], [3.3667516708374023], [3.3171379566192627], [3.306089401245117], [3.5087976455688477], [3.5100479125976562], [3.569550037384033], [3.203624725341797], [3.6017003059387207], [3.286327362060547], [3.1869263648986816], [3.2945821285247803], [3.3640878200531006], [3.425389289855957], [3.3025453090667725], [3.646162986755371], [3.5847902297973633], [3.2468690872192383], [3.0837223529815674], [3.5898590087890625], [3.3125855922698975], [3.8362181186676025], [3.3646371364593506], [3.227198839187622], [3.4862637519836426], [3.6020750999450684], [3.5573666095733643], [3.3939778804779053], [3.5055363178253174], [3.6445882320404053], [3.291668176651001], [3.3247475624084473], [2.893998146057129], [3.5842480659484863], [3.465493679046631], [3.388671875], [3.512756586074829], [3.4264655113220215], [3.0190861225128174], [3.396064519882202], [3.382638454437256], [3.280304193496704], [3.3048081398010254], [2.9066224098205566], [3.6521358489990234], [3.5345044136047363], [3.599534034729004], [3.4485201835632324], [3.457508087158203], [3.375439167022705], [3.5200817584991455], [3.6786952018737793], [3.5189552307128906], [3.027829170227051], [3.451775550842285], [3.541799783706665], [3.513571262359619], [3.544715404510498], [3.0821568965911865], [3.531667470932007], [3.6434497833251953], [3.2564563751220703], [3.350942373275757], [3.110011339187622], [3.3490748405456543], [3.176433801651001], [3.3469607830047607], [3.2822461128234863], [2.934333324432373], [3.381652355194092], [3.3595690727233887], [3.6141257286071777], [3.4430289268493652], [3.285672664642334], [3.589897394180298], [3.280992031097412], [3.395275592803955], [3.156843662261963], [3.256702184677124], [3.558227062225342], [3.3105084896087646], [3.4445762634277344], [3.305025577545166], [3.1855876445770264], [3.8492045402526855], [3.519680976867676], [3.217125415802002], [3.6324539184570312], [3.281916856765747], [3.330307722091675], [3.564211368560791], [3.5303542613983154], [3.564194679260254], [3.099785566329956], [3.559880256652832], [3.524178981781006], [3.6377673149108887], [2.9670581817626953], [3.2972166538238525], [3.8473639488220215], [3.6736934185028076], [3.164834976196289], [3.0423457622528076], [3.2405612468719482], [3.3053369522094727], [3.5718894004821777], [3.617825508117676], [3.4829463958740234], [3.35211181640625], [3.5518248081207275], [3.5808827877044678], [3.7622594833374023], [3.082770347595215], [3.0448617935180664], [3.5467090606689453], [3.52101993560791], [3.502823829650879], [3.2942776679992676], [3.3984928131103516], [3.715576410293579], [3.2971181869506836], [3.4135470390319824], [3.1563172340393066], [3.4245855808258057], [3.649292469024658], [3.3844144344329834], [3.3030216693878174], [3.4631614685058594], [3.170161724090576], [3.5187182426452637], [3.1832432746887207], [3.4273595809936523], [3.2888197898864746], [3.3001391887664795], [3.5574798583984375], [3.1976046562194824], [3.4346089363098145], [3.6522951126098633], [3.1580467224121094], [3.6207010746002197], [2.979546546936035], [3.269563674926758], [3.5330915451049805], [3.4434807300567627], [3.6621973514556885], [3.1943359375], [3.3598780632019043], [3.565329074859619], [3.22981333732605], [3.5096640586853027], [3.6660170555114746], [3.224442481994629], [3.658601760864258], [3.2245945930480957], [3.5152153968811035], [3.07053279876709], [3.2991280555725098], [3.403266429901123], [2.6817965507507324], [3.185939311981201], [3.2705845832824707], [3.7427756786346436], [3.4691665172576904], [2.984032392501831], [3.700279712677002], [3.3062667846679688], [3.373274326324463], [3.2842719554901123], [3.484471082687378], [3.1161680221557617], [3.2790908813476562], [3.4903464317321777], [3.3457860946655273], [3.294018030166626], [3.601550579071045], [3.5643463134765625], [3.2951889038085938], [3.11181378364563], [3.0962092876434326], [3.5949277877807617], [3.5172760486602783], [3.2351109981536865], [3.3374974727630615], [3.3728713989257812], [3.823434829711914], [3.4149153232574463], [3.355006217956543], [3.027836799621582], [3.018542766571045], [3.7531938552856445], [2.89324951171875], [3.575394630432129], [3.3463687896728516], [3.564896583557129], [3.489083766937256], [3.332632064819336], [3.532399892807007], [3.2680790424346924], [3.377964973449707], [3.445086717605591], [3.092071056365967], [3.288917064666748], [3.4063148498535156], [3.14583683013916], [3.3799939155578613], [3.5323400497436523], [3.157794952392578], [3.323273181915283], [3.163987398147583], [3.5312838554382324], [3.852318286895752], [3.370974540710449], [3.3505899906158447], [3.211125612258911], [3.587838649749756], [3.33914852142334], [3.295058012008667], [3.270413875579834], [3.0875401496887207], [3.229386806488037], [3.5092365741729736], [3.3466196060180664], [3.609382152557373], [3.098369598388672], [3.5911078453063965], [3.374000072479248], [3.1656227111816406], [3.3007471561431885], [3.0419158935546875], [3.639160633087158], [3.4637722969055176], [3.154543399810791], [3.43282151222229], [3.481451988220215], [3.457564353942871], [3.5415725708007812], [3.2832908630371094], [3.2455949783325195], [3.369729518890381], [3.6614346504211426], [3.5147716999053955], [3.700798273086548], [3.2427825927734375], [3.155313014984131], [3.2957451343536377], [3.2734642028808594], [3.5308821201324463], [3.357994556427002], [3.0767951011657715], [3.199633836746216], [3.7653441429138184], [3.5409207344055176], [3.3969991207122803], [2.9306321144104004], [3.211796760559082], [3.2219417095184326], [3.4462289810180664], [3.2907042503356934], [3.1224210262298584], [3.1259584426879883], [3.4668188095092773], [3.3961997032165527], [3.333479404449463], [3.2630906105041504], [3.2539103031158447], [3.392040729522705], [3.821807861328125], [3.322812557220459], [2.9592151641845703], [3.5855581760406494], [3.5231096744537354], [3.7003374099731445], [3.306626796722412], [3.221080780029297], [3.411790370941162], [3.339163064956665], [3.4312710762023926], [3.023597240447998], [3.0558342933654785], [3.4305009841918945], [3.5865790843963623], [3.4221577644348145], [3.4601354598999023], [3.122331142425537], [3.4858455657958984], [3.347532272338867], [3.260558843612671], [3.417621612548828], [3.2248830795288086], [3.5319290161132812], [3.53656268119812], [3.65164852142334], [3.264296531677246], [3.382326364517212], [3.614431858062744], [2.902735710144043], [3.283146381378174], [3.1468615531921387], [2.9011592864990234], [3.4095888137817383], [3.512120008468628], [3.5679357051849365], [3.162827491760254], [3.316993236541748], [3.0879573822021484], [3.4288551807403564], [3.441521167755127], [3.2588107585906982], [3.019948959350586], [3.428144693374634], [3.4452733993530273], [3.4443609714508057], [3.2856569290161133], [3.1058342456817627], [3.3732261657714844], [3.083747625350952], [3.4246811866760254], [3.2301981449127197], [3.2698512077331543], [3.4613113403320312], [3.263080596923828], [3.831453323364258], [3.2455739974975586], [3.3948044776916504], [3.641968250274658], [3.260686159133911], [3.676774501800537], [3.5991785526275635], [2.9960989952087402], [3.570788860321045], [3.7198615074157715], [3.592069625854492], [3.52839994430542], [3.352912425994873], [3.5362682342529297], [3.335183620452881], [3.3825173377990723], [3.448991060256958], [3.163649320602417], [3.662355899810791], [3.4637696743011475], [3.4120588302612305], [3.4922733306884766], [3.2156755924224854], [3.6398394107818604], [3.0408780574798584], [3.585165023803711], [3.0375380516052246], [2.9999074935913086], [3.6010236740112305], [3.421029567718506], [3.493678331375122], [3.0272741317749023], [3.4253580570220947], [3.4505457878112793], [3.105045795440674], [3.612534999847412], [3.540337085723877], [3.449096918106079], [3.6060268878936768], [3.5892715454101562], [3.3000786304473877], [3.011121988296509], [3.1333868503570557], [3.532864570617676], [3.401979446411133], [3.3543434143066406], [3.4227418899536133], [3.1510138511657715], [3.4562535285949707], [3.4150309562683105], [3.437788724899292], [3.705428123474121], [3.1911613941192627], [3.3025104999542236], [3.3358218669891357], [3.1336612701416016], [3.181546926498413], [3.2635691165924072], [3.6158738136291504], [3.4915735721588135], [3.184138298034668], [3.3551814556121826], [3.3118557929992676], [3.3783609867095947], [3.133835554122925], [3.3512418270111084], [3.1211609840393066], [3.589217185974121], [3.371659278869629], [3.1321232318878174], [3.3802638053894043], [3.355926990509033], [3.1151528358459473], [3.2875592708587646], [3.2857108116149902], [3.344648838043213], [3.539794921875], [2.926199436187744], [3.2190802097320557], [3.3805079460144043], [3.265165328979492], [3.361875057220459], [2.8866584300994873], [3.3214755058288574], [3.4500136375427246], [3.5617403984069824], [3.320413589477539], [3.4482836723327637], [3.323136568069458], [3.468740940093994], [3.1538174152374268], [3.378385305404663], [3.1476402282714844], [3.05645489692688], [3.4473423957824707], [3.4902586936950684], [2.893141984939575], [3.016977310180664], [3.423722982406616], [3.3559908866882324], [3.171910285949707], [3.4385833740234375], [3.085617780685425], [3.4701485633850098], [3.2755675315856934], [3.352306604385376], [3.1708834171295166], [3.0083413124084473], [3.5438902378082275], [3.3533401489257812], [3.4816107749938965], [3.6185882091522217], [3.181154727935791], [3.544417381286621], [3.4405128955841064], [3.455925464630127], [3.2167038917541504], [3.099515914916992], [3.7359519004821777], [3.4176647663116455], [3.661611318588257], [3.343209743499756], [3.4498648643493652], [3.5893020629882812], [3.2928481101989746], [3.5156302452087402], [3.526141405105591], [2.922823190689087], [3.7068662643432617], [3.1971828937530518], [3.5710995197296143], [3.4662184715270996], [3.3210721015930176], [3.817596912384033], [3.2337098121643066], [3.299997568130493], [3.0798845291137695], [3.070819854736328], [3.488698720932007], [3.5321884155273438], [3.504507541656494], [3.364807367324829], [3.242417812347412], [3.700345993041992], [3.194596290588379], [3.5421013832092285], [3.550220012664795], [3.392609119415283], [3.550499677658081], [3.1253702640533447], [3.8464417457580566], [3.244579553604126], [2.8782947063446045], [3.534888744354248], [3.4566826820373535], [3.3831257820129395], [3.2185134887695312], [3.012145757675171], [3.3036224842071533], [3.5958518981933594], [3.434877395629883], [3.4795351028442383], [3.494182825088501], [3.72493052482605], [3.4393234252929688], [3.1904187202453613], [3.257580518722534], [3.0731253623962402], [3.3310561180114746], [3.3172309398651123], [3.3284950256347656], [3.450714111328125], [3.351036548614502], [3.6038219928741455], [3.269981861114502], [3.562755823135376], [3.3904528617858887], [3.435061454772949], [3.6269707679748535], [3.284637451171875], [3.8671512603759766], [3.5519838333129883], [3.0582494735717773], [3.555819511413574], [3.4791414737701416], [3.4600839614868164], [3.131903648376465], [3.1803691387176514], [3.511746406555176], [3.4913034439086914], [3.189361333847046], [3.5279393196105957], [3.1190552711486816], [3.7473459243774414], [3.4560208320617676], [3.480191230773926], [3.5647168159484863], [3.20027232170105], [3.5112996101379395], [3.1681652069091797], [3.173628330230713], [3.388611316680908], [3.34248948097229], [3.389798641204834], [3.5993101596832275], [3.119405508041382], [3.5001754760742188], [3.2162351608276367], [3.2165980339050293], [3.4587368965148926], [3.516779899597168], [3.2253408432006836], [3.639162540435791], [3.569699287414551], [3.516406536102295], [3.1403415203094482], [3.2178456783294678], [3.2844700813293457], [3.449254035949707], [3.4006807804107666], [3.472719192504883], [3.4700727462768555], [3.2250096797943115], [3.2891650199890137], [3.399707317352295], [3.176443099975586], [3.198423385620117], [2.9427454471588135], [3.480886936187744], [3.1640238761901855], [3.466994285583496], [3.2141194343566895], [3.256530284881592], [3.607008457183838], [3.3870139122009277], [3.2518415451049805], [3.556040048599243], [3.021927833557129], [3.6124930381774902], [3.334390640258789], [3.2595906257629395], [3.298556089401245], [3.5630087852478027], [3.730196237564087], [3.289304256439209], [3.3977837562561035], [3.5875866413116455], [3.173621654510498], [3.4814047813415527], [3.5093352794647217], [3.531935691833496], [3.6721816062927246], [3.134831666946411], [3.597419023513794], [3.2988085746765137], [3.7618086338043213], [3.5266575813293457], [3.1258797645568848], [3.46452260017395], [3.4870214462280273], [3.4898321628570557], [3.2767350673675537], [3.5536348819732666], [3.3124446868896484], [3.5562214851379395], [3.2813639640808105], [3.1056857109069824], [3.1794533729553223], [3.547539710998535], [3.2033486366271973], [3.7238245010375977], [3.387600898742676], [3.2104198932647705], [3.3596386909484863], [3.3556058406829834], [3.371586322784424], [2.777078151702881], [3.3281164169311523], [3.417870283126831], [3.233855724334717], [3.495682716369629], [3.111936092376709], [3.2436699867248535], [3.5740230083465576], [3.3957512378692627], [3.243131637573242], [3.4891276359558105], [3.233893871307373], [3.2566938400268555], [3.469113826751709], [3.568791389465332], [3.6248977184295654], [2.952275514602661], [3.4818570613861084], [3.6561381816864014], [3.5992841720581055], [3.3169713020324707], [3.4898440837860107], [3.564594030380249], [3.4175848960876465], [3.350947856903076], [3.5966145992279053], [3.3832757472991943], [3.316439151763916], [3.277280330657959], [3.2035622596740723], [3.3396012783050537], [3.158008575439453], [3.4244508743286133], [3.2650442123413086], [3.172088861465454], [3.598440647125244], [3.070488691329956], [3.3998537063598633], [3.4570796489715576], [3.3925564289093018], [3.2471909523010254], [3.0465307235717773], [3.25949764251709], [3.2943949699401855], [3.5693259239196777], [3.238384485244751], [3.1114203929901123], [3.568105697631836], [3.59187650680542], [3.242147922515869], [3.532179594039917], [3.4461376667022705], [3.461696147918701], [3.416900634765625], [3.503937244415283], [3.4731075763702393], [3.181199073791504], [3.869223117828369], [3.1857333183288574], [3.3940610885620117], [3.5184619426727295], [3.414113998413086], [3.4646878242492676], [3.273390293121338], [3.4833340644836426], [3.2490081787109375], [2.994215488433838], [3.878715991973877], [3.316572427749634], [3.4323573112487793], [3.0998330116271973], [3.1143417358398438], [3.5215883255004883], [3.4320549964904785], [3.437586784362793], [3.1047701835632324], [3.3158047199249268], [3.4404218196868896], [3.298633337020874], [3.4881486892700195], [3.4145097732543945], [3.225083827972412], [3.506727933883667], [3.375014305114746], [3.4534764289855957], [3.3520712852478027], [2.871913433074951], [3.7211649417877197], [3.349442958831787], [3.328263521194458], [3.54367733001709], [2.9869585037231445], [3.1464967727661133], [3.297722578048706], [3.3207130432128906], [3.311403274536133], [3.2708702087402344], [3.4044442176818848], [3.36360502243042], [3.53366756439209], [3.0330758094787598], [3.434934139251709], [3.4694406986236572], [3.273758888244629], [3.323897123336792], [3.5436410903930664], [3.1287946701049805], [3.5801117420196533], [3.4211511611938477], [3.5094234943389893], [3.3153412342071533], [3.163485050201416], [3.4794273376464844], [3.412590503692627], [3.329200267791748], [3.1211605072021484], [3.110727310180664], [3.2366697788238525], [3.5784881114959717], [2.9697835445404053], [3.3766279220581055], [2.8908092975616455], [3.800907611846924], [3.4687247276306152], [3.526796817779541], [2.9640657901763916], [2.872020721435547], [3.570230007171631], [3.3190858364105225], [3.352846145629883], [3.512352705001831], [3.212733745574951], [3.3167948722839355], [3.3883018493652344], [3.0640273094177246], [3.4028799533843994], [3.4473178386688232], [3.6359291076660156], [3.5470051765441895], [3.5545575618743896], [3.418583869934082], [2.2960472106933594], [3.5210323333740234], [3.0769455432891846], [3.859539270401001], [3.361966371536255], [3.239136219024658], [3.518277645111084], [3.5853471755981445], [3.450990676879883], [3.4142661094665527], [3.5445010662078857], [3.711707592010498], [3.4503374099731445], [3.465027332305908], [3.3263373374938965], [3.2533609867095947], [3.2822906970977783], [3.3685290813446045], [3.133765697479248], [3.4563448429107666], [3.0385868549346924], [3.250394582748413], [3.383100986480713], [3.2530243396759033], [3.0101194381713867], [3.4902663230895996], [3.627746105194092], [3.170074462890625], [3.364522695541382], [3.3772308826446533], [3.3687713146209717], [3.135500431060791], [3.293954849243164], [3.3083319664001465], [3.2725796699523926], [3.0985984802246094], [3.3061671257019043], [3.2269062995910645], [3.691403865814209], [3.184220314025879], [3.5679421424865723], [3.6420674324035645], [3.367338180541992], [3.60176420211792], [3.324007034301758], [3.0582046508789062], [3.873157262802124], [3.4475038051605225], [3.527930498123169], [3.2570676803588867], [3.175834894180298], [3.482893705368042], [3.5403380393981934], [3.5830352306365967], [3.3704724311828613], [3.1476480960845947], [3.303670883178711], [3.4087867736816406], [3.4760382175445557], [3.203390121459961], [3.572218894958496], [3.5441620349884033], [3.4550957679748535], [3.38348388671875], [3.4598448276519775], [3.0910189151763916], [3.5371265411376953], [3.6307852268218994], [3.351323366165161], [3.1736960411071777], [3.35945987701416], [3.581777572631836], [3.269469738006592], [3.0559089183807373], [3.232856512069702], [3.4357900619506836], [3.4857726097106934], [3.396390676498413], [3.3223459720611572], [3.2557530403137207], [3.463169813156128], [3.4993443489074707], [3.679920196533203], [3.554083824157715], [3.544755697250366], [3.159118175506592], [3.544422149658203], [3.3608407974243164], [3.7209014892578125], [3.528341770172119], [3.1774134635925293], [3.5615382194519043], [3.3395581245422363], [3.4408411979675293], [3.4997472763061523], [3.119899272918701], [3.179098606109619], [3.4182634353637695], [3.454827308654785], [3.4771978855133057], [3.071716785430908], [3.4826669692993164], [3.5344619750976562], [3.5954489707946777], [3.546217679977417], [3.4171202182769775], [3.473228693008423], [3.6370420455932617], [3.210944414138794], [3.5341248512268066], [3.3452391624450684], [3.403143882751465], [3.648758888244629], [3.397563934326172], [3.0999889373779297], [3.234468698501587], [3.4861104488372803], [3.7197883129119873], [3.5259528160095215], [3.0781712532043457], [3.157989978790283], [3.427919864654541], [3.396611213684082], [3.5204100608825684], [3.4545540809631348], [3.1735596656799316], [3.379096031188965], [3.421741008758545], [3.3488571643829346], [3.2730088233947754], [3.4024810791015625], [3.36680269241333], [3.2560620307922363], [3.002610206604004], [2.9925777912139893], [2.925119161605835], [3.6177737712860107], [3.365631103515625], [3.4753048419952393], [3.172574520111084], [3.390873908996582], [3.4384937286376953], [3.637565851211548], [3.2038094997406006], [3.495711326599121], [2.8888421058654785], [3.465942859649658], [3.35872220993042], [3.3373963832855225], [3.015308141708374], [3.2003402709960938], [3.135468006134033], [3.4470810890197754], [3.6267142295837402], [2.952540874481201], [3.4803476333618164], [3.648773193359375], [3.575582981109619], [3.240769863128662], [3.606893301010132], [3.2636358737945557], [3.774693727493286], [3.33170223236084], [3.504668951034546], [3.432723045349121], [3.2367210388183594], [3.630802869796753], [3.429635524749756], [3.3125293254852295], [3.3550546169281006], [3.254863739013672], [3.3719582557678223], [3.586480140686035], [3.414975881576538], [2.9836699962615967], [3.105356216430664], [3.6849231719970703], [3.4644248485565186], [3.2868638038635254], [3.4183380603790283], [3.386676549911499], [3.486696481704712], [3.4298653602600098], [3.395742416381836], [3.683572769165039], [3.461915969848633], [3.46193790435791], [3.4179494380950928], [3.611687183380127], [3.161947727203369], [3.5635883808135986], [3.5327341556549072], [3.2739579677581787], [3.066608428955078], [3.4557323455810547], [3.1587624549865723], [3.4621741771698], [3.6720457077026367], [3.1023459434509277], [3.2791380882263184], [3.517836093902588], [3.456908702850342], [3.3093395233154297], [3.2593629360198975], [3.4462881088256836], [3.161113739013672], [3.813835859298706], [3.3740878105163574], [3.3878753185272217], [3.3042495250701904], [3.4252662658691406], [3.2341809272766113], [3.4965929985046387], [3.250180959701538], [3.5392274856567383], [3.2401676177978516], [3.4323830604553223], [3.7616567611694336], [3.4498937129974365], [3.218106269836426], [3.2314276695251465], [3.6419153213500977], [3.347892999649048], [3.3445255756378174], [3.2406716346740723], [3.014986515045166], [3.39178466796875], [3.4003772735595703], [3.082427501678467], [3.2214672565460205], [2.469639301300049], [3.486819267272949], [3.1967947483062744], [3.574558734893799], [3.057703971862793], [3.0193991661071777], [3.72625470161438], [3.5688657760620117], [3.769531488418579], [3.1846065521240234], [2.9878392219543457], [3.4205923080444336], [3.5876431465148926], [3.6419267654418945], [3.3954954147338867], [3.1070752143859863], [3.4039440155029297], [3.8155527114868164], [3.198322296142578], [3.333744525909424], [3.5614776611328125], [3.439124584197998], [3.382312297821045], [3.5124926567077637], [3.387070655822754], [3.2633748054504395], [3.2561259269714355], [3.2994656562805176], [3.318526029586792], [3.587162494659424], [3.6055750846862793], [3.3358821868896484], [3.1037306785583496], [3.2843894958496094], [3.612903118133545], [3.2487716674804688], [3.8016767501831055], [3.3227553367614746], [3.481900691986084], [3.041991710662842], [3.5580732822418213], [3.713893413543701], [3.284010887145996], [3.3417952060699463], [3.4840621948242188], [3.264730453491211], [3.191465377807617], [3.3503382205963135], [3.1896281242370605], [3.469170331954956], [3.2783377170562744], [3.2808547019958496], [3.2697367668151855], [3.5216593742370605], [3.2483532428741455], [3.1782898902893066], [3.353788375854492], [3.2988967895507812], [3.522181272506714], [3.2604382038116455], [2.930452346801758], [3.1763112545013428], [3.2381627559661865], [3.0843117237091064], [3.191633701324463], [3.3825149536132812], [3.2961554527282715], [3.6212234497070312], [3.6745972633361816], [3.358443021774292], [3.293525218963623], [3.407349109649658], [3.3852224349975586], [3.6782217025756836], [3.0360593795776367], [2.9495561122894287], [3.4476256370544434], [3.2728822231292725], [3.220705032348633], [3.391309976577759], [3.3553109169006348], [3.5673961639404297], [3.3891711235046387], [3.2287588119506836], [3.5755555629730225], [3.4539289474487305], [3.1813454627990723], [3.281158924102783], [3.554717540740967], [3.1939644813537598], [3.0782129764556885], [3.2318363189697266], [3.1962356567382812], [3.170488119125366], [3.109057664871216], [3.480802536010742], [3.3319287300109863], [3.501964569091797], [3.3778553009033203], [3.805142879486084], [3.3619813919067383], [3.198239326477051], [3.2929654121398926], [3.5784926414489746], [3.281719446182251], [3.43536114692688], [3.0609850883483887], [3.076536178588867], [3.5539002418518066], [3.2896485328674316], [3.226050853729248], [3.3345680236816406], [3.27652907371521], [3.662472724914551], [3.20792818069458], [3.3746144771575928], [3.431516170501709], [3.434746742248535], [3.395524501800537], [3.159156084060669], [3.3434062004089355], [3.451937675476074], [3.4650840759277344], [3.1583855152130127], [3.5951528549194336], [3.23231840133667], [3.2367568016052246], [3.4291114807128906], [3.3506979942321777], [3.5335261821746826], [3.1753368377685547], [3.646456480026245], [3.3828635215759277], [3.2839298248291016], [3.3937020301818848], [3.437953472137451], [3.5783305168151855], [3.615166664123535], [3.600398063659668], [3.133152723312378], [3.0696587562561035], [3.628480911254883], [3.252622604370117], [3.4949769973754883], [3.5801186561584473], [3.372445821762085], [3.4082999229431152], [3.4786338806152344], [3.7352612018585205], [3.1731109619140625], [3.138833522796631], [3.7301554679870605], [3.5982069969177246], [3.512397289276123], [3.3389251232147217], [3.0190839767456055], [3.6267120838165283], [3.2933669090270996], [3.730699062347412], [2.87448787689209], [3.391681671142578], [3.590082883834839], [3.4046807289123535], [3.7395970821380615], [3.1728949546813965], [2.988546371459961], [3.361769199371338], [3.419949531555176], [3.587007761001587], [3.2466259002685547], [3.3725409507751465], [3.2709856033325195], [3.2893667221069336], [3.3032596111297607], [3.5219998359680176], [3.456995964050293], [3.51692795753479], [3.452627182006836], [3.5075953006744385], [3.512934684753418], [2.9915430545806885], [3.2509498596191406], [3.250034809112549], [3.5414750576019287], [3.0964155197143555], [3.3930487632751465], [3.6200945377349854], [3.3008737564086914], [3.2643191814422607], [2.879572868347168], [3.106912851333618], [3.198448896408081], [3.02396297454834], [3.2935566902160645], [3.747426748275757], [3.2366015911102295], [3.6899189949035645], [3.308375358581543], [2.9200639724731445], [3.2082910537719727], [3.1863415241241455], [3.4621105194091797], [3.1999199390411377], [3.447058916091919], [3.3186631202697754], [3.1566109657287598], [3.416205406188965], [2.851566791534424], [3.3272595405578613], [2.927934169769287], [3.3932113647460938], [3.529756546020508], [3.250035285949707], [3.323821544647217], [3.207911968231201], [3.506099224090576], [3.359415054321289], [3.725707769393921], [3.333847999572754], [3.1031861305236816], [3.2484633922576904], [3.219071865081787], [3.2219748497009277], [3.374025583267212], [3.4377400875091553], [3.331733465194702], [3.87923264503479], [3.4534928798675537], [3.5842676162719727], [3.2819480895996094], [3.2493791580200195], [3.45635986328125], [3.5198659896850586], [3.2063775062561035], [3.479863166809082], [3.6750059127807617], [3.1910645961761475], [3.1846790313720703], [3.5715556144714355], [3.1703577041625977], [3.116955280303955], [3.5946576595306396], [3.4100914001464844], [3.431865692138672], [3.422498941421509], [3.5712485313415527], [3.572873592376709], [3.2507691383361816], [3.3557682037353516], [3.5061585903167725], [3.1512556076049805], [3.326261043548584], [3.500225782394409], [3.381281852722168], [3.3745152950286865], [3.1889917850494385], [3.4965391159057617], [3.3276801109313965], [3.4251914024353027], [3.167073965072632], [3.5581512451171875], [3.475712776184082], [3.1787781715393066], [3.330310821533203], [3.558887243270874], [3.247204542160034], [3.7431159019470215], [3.3079800605773926], [3.5852279663085938], [3.224278450012207], [3.5472044944763184], [3.730215072631836], [3.325077533721924], [3.6396732330322266], [2.94862699508667], [3.1820950508117676], [3.393045425415039], [3.213528633117676], [3.297758102416992], [3.3043668270111084], [3.3244032859802246], [3.4171600341796875], [3.211446523666382], [3.5419018268585205], [3.57277774810791], [2.7712111473083496], [3.7624597549438477], [3.430331230163574], [3.3683271408081055], [3.2878963947296143], [3.20050311088562], [3.8499531745910645], [3.608853578567505], [3.3777806758880615], [3.1982343196868896], [2.9972453117370605], [3.3014001846313477], [3.701707124710083], [3.5404086112976074], [3.4796972274780273], [3.2572412490844727], [3.561978340148926], [3.012455940246582], [3.4081337451934814], [3.6350228786468506], [3.4670867919921875], [3.4326930046081543], [3.3298168182373047], [3.186753273010254], [3.644865036010742], [3.462468385696411], [3.1860311031341553], [3.625347852706909], [3.407210350036621], [3.4631385803222656], [3.007059335708618], [3.5186898708343506], [3.378413677215576], [3.3375747203826904], [3.2278480529785156], [3.03898549079895], [3.7156500816345215], [3.250265598297119], [3.432124614715576], [3.2998790740966797], [3.4383325576782227], [3.603285312652588], [3.469815492630005], [3.216575860977173], [3.116901397705078], [3.3855204582214355], [3.362461566925049], [3.3714776039123535], [3.6808676719665527], [3.4185938835144043], [3.3294074535369873], [3.6389641761779785], [3.4675092697143555], [3.245750904083252], [3.228614568710327], [3.3094959259033203], [3.3375563621520996], [3.1462314128875732], [3.002098321914673], [3.352081298828125], [3.0199825763702393], [3.6879892349243164], [3.284550666809082], [3.455840587615967], [3.542431592941284], [3.4645750522613525], [3.384218454360962], [3.5084829330444336], [3.297943592071533], [3.388415575027466], [2.9870152473449707], [3.473776340484619], [3.6149792671203613], [3.341966152191162], [3.1975293159484863], [3.343301296234131], [3.32230806350708], [3.5769290924072266], [3.3359215259552], [3.204401731491089], [2.937591552734375], [3.772918224334717], [3.4327564239501953], [3.5102243423461914], [3.199183940887451], [3.300088882446289], [3.3768019676208496], [3.482738494873047], [3.308204174041748], [3.3834848403930664], [2.837791681289673], [3.188340425491333], [3.3064045906066895], [3.418501853942871], [3.500124454498291], [3.1787140369415283], [3.39664363861084], [3.406669855117798], [3.2182693481445312], [3.55196213722229], [3.3838605880737305], [3.5245189666748047], [3.5246212482452393], [3.449021816253662], [2.430697202682495], [3.727607250213623], [3.335879325866699], [3.477832317352295], [3.2386465072631836], [3.2652781009674072], [3.0293896198272705], [3.6267199516296387], [3.496356725692749], [3.4012370109558105], [3.3533363342285156], [3.3502566814422607], [3.517585039138794], [3.522610664367676], [3.501707077026367], [3.333340883255005], [3.289144515991211], [3.3133246898651123], [3.419283866882324], [3.8365836143493652], [3.3812665939331055], [2.9793758392333984], [3.608222007751465], [3.6924567222595215], [3.4467244148254395], [3.297365188598633], [3.0091888904571533], [3.6445538997650146], [3.468423366546631], [3.0797019004821777], [3.314603328704834], [2.9938392639160156], [3.390510320663452], [3.125727415084839], [3.3440117835998535], [3.55556058883667], [3.0976006984710693], [3.1013195514678955], [3.2302615642547607], [3.4315428733825684], [3.2278459072113037], [3.1922225952148438], [3.7381739616394043], [3.2709312438964844], [3.5816092491149902], [3.2697713375091553], [3.2927820682525635], [3.3254494667053223], [3.481044054031372], [3.5956435203552246], [3.454084873199463], [2.8484225273132324], [3.595541000366211], [3.3195693492889404], [3.3160698413848877], [3.3938729763031006], [3.1074986457824707], [3.6472630500793457], [3.590305805206299], [3.474233627319336], [3.538039207458496], [3.2507236003875732], [3.2638142108917236], [3.491509437561035], [3.3144006729125977], [3.1954362392425537], [3.2804784774780273], [3.217381238937378], [3.012436866760254], [3.2143137454986572], [3.2220001220703125], [3.291219711303711], [3.2550418376922607], [3.499180555343628], [3.3700010776519775], [3.38358211517334], [3.1632120609283447], [3.2998428344726562], [3.704887866973877], [3.5347139835357666], [3.5062432289123535], [3.354057550430298], [3.065587043762207], [3.4373462200164795], [3.582857131958008], [3.4363019466400146], [3.028998613357544], [3.5275564193725586], [3.2450380325317383], [3.3552207946777344], [3.3870294094085693], [3.028763771057129], [3.509171962738037], [3.7188849449157715], [2.9343838691711426], [2.9827542304992676], [3.355513334274292], [3.4683055877685547], [3.3610007762908936], [3.297213554382324], [3.1586849689483643], [3.599392890930176], [3.545001983642578], [3.5368573665618896], [3.450761318206787], [3.544614791870117], [3.021451473236084], [3.7018959522247314], [3.403592109680176], [2.9252147674560547], [3.499211311340332], [3.103691339492798], [3.506805896759033], [3.614656925201416], [3.4556527137756348], [3.065047264099121], [3.414734125137329], [3.085728168487549], [3.458108901977539], [3.3686184883117676], [3.282351493835449], [3.08542799949646], [3.530963182449341], [3.3039283752441406], [3.1498749256134033], [3.5371646881103516], [3.0630269050598145], [3.709097385406494], [3.4424681663513184], [3.411128520965576], [3.4011106491088867], [3.300527572631836], [3.295462131500244], [3.3892085552215576], [3.7415661811828613], [3.536475658416748], [3.2773303985595703], [3.30450439453125], [3.4150004386901855], [3.560863494873047], [3.155545234680176], [3.3022518157958984], [3.4754080772399902], [3.437488555908203], [3.4149348735809326], [3.46785831451416], [3.4507856369018555], [3.1732685565948486], [3.3979713916778564], [3.3740439414978027], [3.141366481781006], [3.1368422508239746], [3.6669862270355225], [3.413186550140381], [3.622579574584961], [3.297579050064087], [3.397585391998291], [3.270031690597534], [3.3561878204345703], [3.4156699180603027], [3.482398748397827], [3.247358560562134], [3.568591594696045], [3.6409363746643066], [3.233182907104492], [3.6859211921691895], [2.8858518600463867], [3.673401117324829], [3.341299057006836], [3.3871231079101562], [3.2588367462158203], [3.278552293777466], [3.3943190574645996], [3.1493117809295654], [3.2832298278808594], [3.563382148742676], [3.6828625202178955], [3.4405415058135986], [3.393301010131836], [3.2576260566711426], [3.722587823867798], [3.1205477714538574], [3.444593667984009], [3.3989455699920654], [3.1444406509399414], [3.317345380783081], [3.1744441986083984], [3.2512850761413574], [3.4422454833984375], [3.581144332885742], [3.040170192718506], [3.162055253982544], [3.888840675354004], [3.282829523086548], [3.3455593585968018], [3.2715373039245605], [3.2842254638671875], [3.460843086242676], [3.2405078411102295], [3.1585538387298584], [3.1584270000457764], [3.173602819442749], [3.5378541946411133], [3.5086870193481445], [3.391908884048462], [3.1886370182037354], [2.866298198699951], [3.4535694122314453], [3.45247745513916], [3.3656888008117676], [3.443309783935547], [3.1346027851104736], [3.5947113037109375], [3.258235454559326], [3.0521912574768066], [3.5056910514831543], [3.2797586917877197], [3.240513324737549], [3.7165539264678955], [3.3119752407073975], [3.555082321166992], [3.4871723651885986], [3.661689519882202], [3.7096469402313232], [3.4480292797088623], [3.3640503883361816], [3.0742626190185547], [3.6691224575042725], [3.458322525024414], [3.645970344543457], [3.37040376663208], [3.3859570026397705], [3.5978288650512695], [3.2780117988586426], [3.460452079772949], [3.4441370964050293], [3.4467666149139404], [3.7910847663879395], [3.646355152130127], [3.1080331802368164], [3.392103672027588], [3.5082921981811523], [3.507248878479004], [3.271625518798828], [3.417030096054077], [3.467681884765625], [3.4362101554870605], [3.381981372833252], [3.20116925239563], [3.5468382835388184], [3.035653591156006], [3.3106918334960938], [3.557434558868408], [3.684230089187622], [3.2599759101867676], [3.305950403213501], [3.2907562255859375], [3.518625259399414], [3.7249836921691895], [3.3563525676727295], [3.4961049556732178], [3.277467727661133], [3.52182674407959], [3.5271060466766357], [3.390455722808838], [3.339632034301758], [3.440340518951416], [3.52689790725708], [3.3075714111328125], [3.0193710327148438], [3.1966781616210938], [3.116574764251709], [3.4500575065612793], [3.271599531173706], [3.160325050354004], [3.1292312145233154], [3.320859670639038], [3.385617256164551], [3.569532632827759], [3.366215705871582], [3.780174732208252], [3.0019936561584473], [3.355990171432495], [3.3652966022491455], [3.486851215362549], [3.573361396789551], [3.085693359375], [3.883881092071533], [3.3491897583007812], [3.5763442516326904], [3.6237599849700928], [3.479386806488037], [3.4076218605041504], [3.1216881275177], [3.5558829307556152], [3.214423656463623], [3.6117260456085205], [3.62632417678833], [3.118347644805908], [3.3169748783111572], [3.2744030952453613], [3.0846481323242188], [3.353050947189331], [3.323512077331543], [3.2469756603240967], [3.4151291847229004], [2.7759976387023926], [3.661972761154175], [3.2062060832977295], [3.1581363677978516], [3.428786516189575], [3.153263568878174], [3.4679293632507324], [3.349821090698242], [3.504603147506714], [3.354565143585205], [3.115217447280884], [3.291832447052002], [3.3887507915496826], [3.3048055171966553], [3.4231367111206055], [3.3242363929748535], [3.752995729446411], [3.3350255489349365], [3.2624897956848145], [3.3794846534729004], [2.8764536380767822], [3.4581480026245117], [3.5671215057373047], [3.440019130706787], [3.4448490142822266], [3.437899589538574], [3.418877601623535], [3.586648464202881], [3.6384119987487793], [3.1508421897888184], [3.2384350299835205], [3.3802032470703125], [3.170614719390869], [3.136319637298584], [3.094923496246338], [3.1013169288635254], [3.4000253677368164], [3.328547477722168], [3.7607409954071045], [3.148472309112549], [3.274543523788452], [3.585224151611328], [3.4453039169311523], [3.3291516304016113], [3.198551654815674], [3.5471043586730957], [3.665168285369873], [3.3729772567749023], [3.4620466232299805], [3.346498966217041], [3.379423141479492], [3.299881935119629], [3.564880847930908], [3.5249574184417725], [3.7588202953338623], [3.1832432746887207], [3.3501434326171875], [3.5822525024414062], [3.587623119354248], [3.5286712646484375], [3.094024419784546], [3.4399685859680176], [3.4783761501312256], [3.4973349571228027], [3.05846905708313], [3.1838841438293457], [3.6023988723754883], [3.473092555999756], [3.491767644882202], [3.26631498336792], [3.2065272331237793], [3.332717180252075], [3.277005434036255], [3.4925105571746826], [3.3090221881866455], [3.1463212966918945], [3.3439621925354004], [3.3423898220062256], [3.3643107414245605], [3.2694101333618164], [3.2758634090423584], [3.5142691135406494], [3.2378721237182617], [3.4768595695495605], [3.470324993133545], [3.161496162414551], [3.642822027206421], [3.4633798599243164], [3.442781925201416], [3.2189016342163086], [3.5367846488952637], [3.5010383129119873], [3.524340867996216], [3.3523430824279785], [3.1113271713256836], [3.0197038650512695], [3.600896120071411], [3.4118993282318115], [3.5041637420654297], [3.437129259109497], [3.3824033737182617], [3.709552764892578], [3.367924928665161], [3.337240695953369], [3.3275792598724365], [2.9399795532226562], [3.4792933464050293], [3.4144694805145264], [3.5527777671813965], [3.0721185207366943], [3.5475668907165527], [3.583205223083496], [3.256650686264038], [3.6745364665985107], [3.6011619567871094], [3.398163080215454], [3.4878146648406982], [3.1159443855285645], [3.642854690551758], [3.2447566986083984], [3.0324432849884033], [3.5703940391540527], [3.427682876586914], [3.4875714778900146], [3.2719364166259766], [3.4448459148406982], [3.4791812896728516], [3.392691135406494], [3.4698455333709717], [3.266042709350586], [3.3761813640594482], [3.7554574012756348], [3.553863286972046], [3.2274017333984375], [2.8925135135650635], [3.2468957901000977], [3.623105525970459], [3.3052849769592285], [3.484461545944214], [3.312260866165161], [3.2690916061401367], [3.4730687141418457], [3.4163081645965576], [3.5147130489349365], [3.2807564735412598], [3.2735326290130615], [3.164421319961548], [3.377176523208618], [3.630014181137085], [3.241103172302246], [3.2486209869384766], [3.4149680137634277], [3.4342026710510254], [3.4760971069335938], [3.3779501914978027], [3.1695940494537354], [3.502551794052124], [3.4025213718414307], [3.084163188934326], [3.4774181842803955], [3.364459991455078], [3.34706711769104], [3.674069404602051], [3.391374349594116], [2.855177640914917], [3.0324041843414307], [3.652669668197632], [3.4891629219055176], [3.4807357788085938], [3.262248992919922], [3.209594488143921], [3.44327449798584], [3.778614044189453], [3.3497977256774902], [3.2949557304382324], [3.117807626724243], [3.381302833557129], [3.442155361175537], [3.84328293800354], [3.359673500061035], [3.424990653991699], [3.340683698654175], [3.399674415588379], [3.6082358360290527], [3.2468361854553223], [3.2046821117401123], [3.576228618621826], [3.3797783851623535], [3.500366687774658], [3.057260513305664], [3.18674635887146], [3.501713275909424], [3.406970739364624], [3.2802512645721436], [3.7853407859802246], [3.293931484222412], [3.6488237380981445], [3.216466188430786], [3.2091119289398193], [3.604245185852051], [3.3448362350463867], [3.453998565673828], [3.5924530029296875], [3.5346732139587402], [3.178776264190674], [3.2399282455444336], [3.375037670135498], [3.464909076690674], [3.5712227821350098], [3.1654293537139893], [3.229172468185425], [3.655590534210205], [3.563262939453125], [3.848843574523926], [3.4984569549560547], [3.389953851699829], [3.3984286785125732], [3.273043632507324], [3.7439675331115723], [3.296140193939209], [3.0368995666503906], [3.9464869499206543], [3.7847704887390137], [3.484459638595581], [3.4238839149475098], [3.4168806076049805], [3.450719118118286], [3.672929525375366], [3.4775919914245605], [3.52587890625], [3.0670461654663086], [3.25270676612854], [3.2206292152404785], [3.297525405883789], [3.2700746059417725], [3.274548053741455], [3.560554027557373], [3.1671805381774902], [3.5162410736083984], [3.159301996231079], [3.3281826972961426], [3.601806879043579], [3.6945064067840576], [3.5799548625946045], [3.6401543617248535], [3.2806296348571777], [3.5651540756225586], [3.3594613075256348], [3.4680962562561035], [3.352891683578491], [3.4126884937286377], [3.383317470550537], [3.4833199977874756], [3.6920199394226074], [3.4545795917510986], [3.099992275238037], [3.4889466762542725], [3.379653215408325], [3.335536241531372], [3.3613598346710205], [3.4390299320220947], [3.687451124191284], [3.5415258407592773], [3.466763496398926], [3.33168888092041], [3.122805595397949], [3.5011825561523438], [3.3203325271606445], [3.597590446472168], [3.5326273441314697], [3.2170166969299316], [3.504671812057495], [3.3166069984436035], [3.244227886199951], [3.104642391204834], [3.1706504821777344], [3.595950126647949], [3.4076056480407715], [3.5138304233551025], [3.212798833847046], [3.2877438068389893], [3.4435601234436035], [3.479753017425537], [3.3285298347473145], [3.481614112854004], [3.3521478176116943], [3.543958902359009], [3.4499900341033936], [3.470978260040283], [3.523128032684326], [2.8581809997558594], [3.5717177391052246], [3.361690044403076], [3.6792712211608887], [3.1475629806518555], [3.3267464637756348], [3.5440673828125], [3.685688018798828], [3.2188572883605957], [3.1686017513275146], [3.0972678661346436], [3.5590357780456543], [3.325286865234375], [3.454753875732422], [3.3627467155456543], [3.726235866546631], [3.521868944168091], [3.3034493923187256], [3.3850464820861816], [3.4972476959228516], [3.5468382835388184], [3.5519862174987793], [3.477515697479248], [3.0972366333007812], [3.2538092136383057], [3.4745752811431885], [3.559579372406006], [3.0848228931427], [3.506722927093506], [3.518275260925293], [3.2436628341674805], [3.4795467853546143], [3.320228099822998], [3.3877673149108887], [2.9881062507629395], [3.2889585494995117], [3.3561956882476807], [3.5906474590301514], [3.3140158653259277], [3.262368679046631], [3.1948370933532715], [3.5354762077331543], [3.3767426013946533], [3.33807373046875], [3.33077335357666], [3.455862045288086], [3.4346702098846436], [3.6110048294067383], [3.5334815979003906], [3.381690502166748], [3.130891799926758], [3.470031261444092], [3.482905149459839], [3.421616554260254], [3.3542938232421875], [3.316105842590332], [3.3116657733917236], [3.190372943878174], [3.2705934047698975], [3.4238452911376953], [3.571242332458496], [3.6750950813293457], [3.5040664672851562], [3.3975789546966553], [3.19083833694458], [3.333606243133545], [3.6765832901000977], [3.5997414588928223], [3.437366247177124], [3.2121143341064453], [3.2940926551818848], [3.467501163482666], [3.9902987480163574], [3.533255100250244], [3.350386142730713], [2.974602222442627], [3.651729106903076], [3.2558302879333496], [3.348710536956787], [3.7713704109191895], [3.412212371826172], [3.484553337097168], [3.260195255279541], [3.3505606651306152], [3.212395668029785], [3.2344002723693848], [3.5105085372924805], [3.7547473907470703], [3.5205161571502686], [3.139559030532837], [3.1904335021972656], [3.2532169818878174], [3.5474257469177246], [3.066190004348755], [3.3697407245635986], [3.0716769695281982], [3.417530059814453], [3.415411949157715], [3.479611873626709], [3.304140567779541], [3.1250877380371094], [3.6245508193969727], [3.422435760498047], [3.070279359817505], [3.1185827255249023], [3.1162335872650146], [3.2764036655426025], [3.2112388610839844], [3.213926315307617], [3.272313117980957], [3.2687883377075195], [3.7127370834350586], [3.4303035736083984], [3.5890371799468994], [3.39255428314209], [2.9828693866729736], [3.963441848754883], [3.474407196044922], [3.1993510723114014], [3.2842295169830322], [3.3248093128204346], [3.1340279579162598], [3.6128432750701904], [3.206476926803589], [3.2683827877044678], [3.2065439224243164], [3.5730087757110596], [3.553267002105713], [3.6178832054138184], [3.30938720703125], [3.0799834728240967], [3.3703365325927734], [3.5173959732055664], [3.3741953372955322], [3.586674451828003], [2.955470561981201], [3.567051410675049], [3.518419027328491], [3.1166276931762695], [3.511765480041504], [3.1426689624786377], [3.5157511234283447], [3.2725448608398438], [3.276686191558838], [3.650669574737549], [3.3000736236572266], [3.519360065460205], [3.574204444885254], [3.3696627616882324], [3.2440285682678223], [3.18796443939209], [3.160392999649048], [3.4708101749420166], [3.427069664001465], [3.033032178878784], [3.0203094482421875], [3.5036754608154297], [3.2565150260925293], [3.37343430519104], [3.1214945316314697], [3.197967052459717], [3.3575901985168457], [3.338315963745117], [3.515516996383667], [3.306032657623291], [3.0551066398620605], [3.3506922721862793], [3.237635374069214], [3.3986518383026123], [3.4795525074005127], [3.3338241577148438], [3.606297254562378], [3.3316471576690674], [3.4140822887420654], [3.433314800262451], [3.3545875549316406], [3.666876792907715], [3.2904281616210938], [3.3605732917785645], [3.523705005645752], [3.1727890968322754], [3.2829151153564453], [3.388662815093994], [3.6351919174194336], [3.2535009384155273], [3.4569289684295654], [3.4787635803222656], [3.5202279090881348], [3.599985122680664], [3.3159074783325195], [3.6272623538970947], [3.680898427963257], [3.289778709411621], [3.5382189750671387], [3.2879161834716797], [3.148768424987793], [3.4393393993377686], [3.350985527038574], [3.3753340244293213], [3.6048169136047363], [3.0603318214416504], [3.3026609420776367], [3.1610498428344727], [3.306286334991455], [3.2332940101623535], [3.433176040649414], [3.2997851371765137], [3.7705798149108887], [3.258272647857666], [3.323129415512085], [2.9030001163482666], [3.571805953979492], [3.385061740875244], [3.327439546585083], [3.1604249477386475], [3.2141215801239014], [3.894092082977295], [3.1722631454467773], [3.1326258182525635], [2.9172897338867188], [3.6809115409851074], [3.4905848503112793], [3.4909958839416504], [3.515172004699707], [2.82313871383667], [3.0226261615753174], [3.543522596359253], [3.1866114139556885], [3.373927116394043], [3.307332754135132], [3.3193960189819336], [3.625251293182373], [3.627037525177002], [3.4905171394348145], [3.3477349281311035], [2.999131679534912], [3.705115795135498], [3.2363502979278564], [3.4910848140716553], [3.2075090408325195], [3.3525304794311523], [3.646533966064453], [3.5807783603668213], [3.356297254562378], [3.3252947330474854], [3.1707539558410645], [3.2613143920898438], [3.4115447998046875], [3.424626588821411], [3.2327117919921875], [3.266805410385132], [3.765709161758423], [3.4972472190856934], [3.5535452365875244], [3.6376852989196777], [3.2498815059661865], [3.142636775970459], [3.5607566833496094], [3.2158968448638916], [3.524106502532959], [3.323167324066162], [3.456369161605835], [3.2451937198638916], [3.4223504066467285], [3.1846261024475098], [2.976780414581299], [3.236753463745117], [3.7199578285217285], [3.174250364303589], [3.0465071201324463], [3.1969594955444336], [3.4195966720581055], [3.443512439727783], [3.39925217628479], [3.2094154357910156], [3.128580093383789], [3.6201586723327637], [3.5911736488342285], [3.440453052520752], [3.3166582584381104], [3.1678571701049805], [3.3564138412475586], [3.252213478088379], [3.771481990814209], [3.276428699493408], [3.3905467987060547], [3.5463712215423584], [3.6950571537017822], [3.3034257888793945], [3.260857105255127], [3.4246487617492676], [3.4922220706939697], [3.263010025024414], [3.5537047386169434], [3.2373664379119873], [3.113238573074341], [3.378920793533325], [3.328200578689575], [3.617791175842285], [3.5391311645507812], [3.3783915042877197], [3.4207940101623535], [3.3901567459106445], [3.2572813034057617], [3.0730438232421875], [3.591848850250244], [3.7256388664245605], [3.5116841793060303], [3.593764543533325], [3.283400535583496], [3.4671342372894287], [3.440213441848755], [3.142033338546753], [3.448664426803589], [3.2688729763031006], [3.249300956726074], [3.2422943115234375], [3.2801859378814697], [3.4587864875793457], [3.2016310691833496], [3.35640287399292], [3.4606499671936035], [3.53257155418396], [3.2463226318359375], [3.735637903213501], [3.579010486602783], [3.3718433380126953], [3.642761707305908], [2.95307993888855], [3.485415458679199], [3.2627899646759033], [3.4256064891815186], [3.4148635864257812], [3.2489280700683594], [3.195505380630493], [3.5956296920776367], [3.3930611610412598], [3.284926176071167], [3.146320343017578], [3.214031219482422], [3.195260524749756], [3.5388147830963135], [3.2687342166900635], [3.3591361045837402], [3.4648354053497314], [3.4332919120788574], [3.36788272857666], [3.603059768676758], [3.4812943935394287], [3.282428741455078], [3.4195353984832764], [3.231041431427002], [3.1342318058013916], [3.4744813442230225], [3.4040000438690186], [3.1388418674468994], [3.6879825592041016], [3.4779253005981445], [3.464837074279785], [2.992202043533325], [3.232412338256836], [3.41481876373291], [3.521789789199829], [3.4044227600097656], [3.2120003700256348], [3.235546350479126], [3.6533100605010986], [3.4612698554992676], [3.2555367946624756], [3.3285131454467773], [3.5455334186553955], [3.4590792655944824], [3.604675054550171], [3.2656936645507812], [3.5279603004455566], [3.0435595512390137], [3.695124387741089], [3.0003561973571777], [3.2154645919799805], [3.117062568664551], [3.152628183364868], [3.3036036491394043], [3.407789468765259], [3.427464008331299], [3.4338107109069824], [3.339494228363037], [3.3867807388305664], [3.590118408203125], [3.5121588706970215], [3.511838436126709], [2.6379432678222656], [3.787519931793213], [3.585998773574829], [3.3036048412323], [3.3651065826416016], [3.200991153717041], [3.5862228870391846], [3.236628770828247], [3.3287415504455566], [3.170842170715332], [3.6685945987701416], [3.4537851810455322], [3.568571090698242], [3.614614963531494], [3.5030205249786377], [3.040637254714966], [3.5422825813293457], [3.406802177429199], [3.244169235229492], [3.4624598026275635], [3.4504752159118652], [3.519599437713623], [3.4311037063598633], [3.573425769805908], [3.8022055625915527], [3.2981810569763184], [3.716616153717041], [3.4758734703063965], [3.6044998168945312], [3.3963329792022705], [3.080425262451172], [3.4246349334716797], [3.650545358657837], [3.3267879486083984], [3.1410932540893555], [3.267880439758301], [3.6710917949676514], [3.6340487003326416], [3.3319778442382812], [3.13866925239563], [3.1668899059295654], [3.5227088928222656], [3.025555372238159], [3.455630302429199], [3.1321768760681152], [3.0236711502075195], [3.6019139289855957], [3.2051093578338623], [3.197756767272949], [3.33760142326355], [3.0106265544891357], [3.5390048027038574], [3.85325026512146], [3.323253631591797], [3.289473056793213], [3.309563636779785], [3.5029873847961426], [3.431276559829712], [3.2988853454589844], [3.0406222343444824], [3.4039509296417236], [3.7214040756225586], [3.490792751312256], [3.2989025115966797], [3.416738986968994], [3.637439012527466], [3.5970349311828613], [3.5709242820739746], [3.271637439727783], [3.444183349609375], [3.0880167484283447], [3.602639675140381], [3.3438496589660645], [3.0897111892700195], [2.9825117588043213], [3.366710662841797], [3.2321434020996094], [3.321719169616699], [3.7202093601226807], [3.011962413787842], [3.3268895149230957], [3.3922061920166016], [3.120826244354248], [3.456408739089966], [3.276097297668457], [3.1262753009796143], [3.905953884124756], [3.5954556465148926], [3.6435258388519287], [3.535870313644409], [2.9425840377807617], [3.496518611907959], [3.2597503662109375], [3.429779052734375], [3.1643266677856445], [3.25740909576416], [3.4954795837402344], [3.21915340423584], [3.4248459339141846], [2.8236136436462402], [2.9342005252838135], [3.285691022872925], [3.5805957317352295], [3.113557815551758], [3.467848777770996], [3.180962562561035], [3.546408176422119], [3.043375015258789], [3.5827152729034424], [3.095421075820923], [3.2767584323883057], [3.577242851257324], [3.4612059593200684], [3.3736071586608887], [3.3711483478546143], [3.1286096572875977], [3.5322556495666504], [3.2969071865081787], [3.6217708587646484], [3.2854363918304443], [3.393179416656494], [3.4586880207061768], [3.245209217071533], [2.916598320007324], [3.4267005920410156], [3.1247878074645996], [3.6993460655212402], [3.6862380504608154], [3.5545570850372314], [3.162478446960449], [2.760754108428955], [3.230221748352051], [3.231140375137329], [3.2909393310546875], [3.417788505554199], [3.262688636779785], [3.3006322383880615], [3.612133741378784], [3.147815704345703], [3.317485809326172], [3.3950133323669434], [3.553443670272827], [3.4026637077331543], [3.114868402481079], [3.602773666381836], [3.2897181510925293], [3.4027318954467773], [3.3430864810943604], [3.5705454349517822], [3.556764602661133], [3.001530647277832], [3.7085866928100586], [3.432797908782959], [3.3797922134399414], [3.014864444732666], [3.413830518722534], [3.6206583976745605], [3.1534535884857178], [3.598598003387451], [3.2892274856567383], [3.0684218406677246], [3.211604118347168], [3.3036088943481445], [3.4742937088012695], [3.1292121410369873], [2.9095847606658936], [3.419674873352051], [3.4812850952148438], [3.461456537246704], [3.6974167823791504], [3.2148444652557373], [3.4537439346313477], [3.4169135093688965], [3.410823345184326], [3.076808452606201], [3.2801032066345215], [3.3248472213745117], [3.4514739513397217], [3.1555209159851074], [3.365062713623047], [3.19472074508667], [3.4990718364715576], [3.674286127090454], [3.474524974822998], [3.2440831661224365], [3.4479966163635254], [3.3294966220855713], [3.5344882011413574], [3.449589729309082], [3.561833381652832], [3.0590147972106934], [3.5513648986816406], [3.298332929611206], [3.214496612548828], [3.47465443611145], [3.1882028579711914], [3.535216808319092], [3.59102725982666], [3.329376220703125], [3.5207395553588867], [3.6200594902038574], [3.3181676864624023], [3.2158474922180176], [3.6742496490478516], [3.2259743213653564], [3.360194206237793], [3.417982816696167], [3.480290174484253], [3.600313663482666], [3.2355456352233887], [3.5955488681793213], [3.3790597915649414], [3.6308562755584717], [3.325185775756836], [3.3710317611694336], [3.507903575897217], [3.394865036010742], [3.626171112060547], [3.642789125442505], [3.1744625568389893], [3.544222354888916], [3.111886978149414], [3.573770046234131], [3.634673595428467], [3.6137471199035645], [3.126293420791626], [3.704928398132324], [3.624673843383789], [3.2388103008270264], [3.3300106525421143], [3.3100743293762207], [3.541612148284912], [3.611659049987793], [3.2005393505096436], [3.070054769515991], [2.957224130630493], [3.386401653289795], [3.5100531578063965], [3.2883801460266113], [3.9033145904541016], [3.2518739700317383], [3.379500389099121], [3.699341058731079], [3.6001861095428467], [3.399955987930298], [2.920822858810425], [3.366173267364502], [3.5730175971984863], [3.708388328552246], [3.456798791885376], [3.2196178436279297], [3.3876261711120605], [3.300159215927124], [3.446425199508667], [3.147423505783081], [3.023954391479492], [3.581874370574951], [3.474355697631836], [3.4228055477142334], [3.3415918350219727], [3.0737462043762207], [3.5262434482574463], [3.4376659393310547], [3.4848644733428955], [3.6073994636535645], [3.501225471496582], [3.098331928253174], [3.1967711448669434], [3.1017019748687744], [3.32808256149292], [2.854381799697876], [3.456195831298828], [3.7687432765960693], [3.4656765460968018], [3.156339645385742], [3.0623555183410645], [3.607893943786621], [3.34768009185791], [3.538508176803589], [3.5518031120300293], [3.1545400619506836], [3.3405683040618896], [3.28629207611084], [3.2579517364501953], [3.403841972351074], [3.325626850128174], [3.2193379402160645], [3.3701014518737793], [3.453199863433838], [3.2676591873168945], [3.2679529190063477], [3.450618267059326], [3.2712326049804688], [3.6343767642974854], [3.1978306770324707], [3.1393332481384277], [3.2394208908081055], [3.119598388671875], [3.3931143283843994], [3.176248073577881], [3.0882253646850586], [4.0045061111450195], [3.268545389175415], [3.291877508163452], [3.6783275604248047], [3.536358118057251], [3.1969664096832275], [3.307903289794922], [2.92569637298584], [3.521354913711548], [3.314990520477295], [3.4031167030334473], [3.6980443000793457], [3.7740516662597656], [3.1888394355773926], [3.3638715744018555], [3.4117143154144287], [3.123623847961426], [3.2443385124206543], [3.323192596435547], [3.112471103668213], [3.664820432662964], [3.135298490524292], [3.5217576026916504], [3.249873161315918], [3.187067985534668], [3.209324359893799], [3.632854700088501], [3.275360584259033], [3.5148587226867676], [3.334484577178955], [3.529580593109131], [3.3999075889587402], [3.630481004714966], [3.144150972366333], [2.9432172775268555], [3.5735812187194824], [3.3381335735321045], [3.017672538757324], [3.469069480895996], [3.0303430557250977], [3.4214296340942383], [3.3333401679992676], [3.329155445098877], [3.4608752727508545], [3.55863618850708], [3.210120677947998], [3.4582314491271973], [3.5715713500976562], [2.9945671558380127], [3.4837286472320557], [3.233919382095337], [3.5450713634490967], [3.648393154144287], [3.599912643432617], [3.404026985168457], [3.2648673057556152], [3.3451435565948486], [3.521331310272217], [3.5214288234710693], [3.149364471435547], [3.5841214656829834], [3.4448137283325195], [3.3318159580230713], [3.527205467224121], [3.0823450088500977], [3.373324394226074], [3.117140054702759], [3.5404720306396484], [3.407839298248291], [3.004302978515625], [3.608908176422119], [3.5802254676818848], [3.497709035873413], [2.867577075958252], [3.0889244079589844], [3.3392510414123535], [3.358846664428711], [3.3404502868652344], [3.4741952419281006], [3.4837512969970703], [3.5082216262817383], [3.4027059078216553], [3.4332728385925293], [3.1918554306030273], [3.3839025497436523], [3.524768352508545], [3.3426060676574707], [3.410512924194336], [3.2963483333587646], [3.4131221771240234], [3.422898292541504], [3.2936391830444336], [3.350505828857422], [3.1681950092315674], [3.0836639404296875], [3.504826784133911], [3.530428886413574], [3.2680020332336426], [3.471996545791626], [2.835528612136841], [3.64902925491333], [3.4448418617248535], [3.6600005626678467], [3.1951756477355957], [2.8612818717956543], [3.419841766357422], [3.1523449420928955], [3.4804883003234863], [3.5420069694519043], [2.971781015396118], [3.1577062606811523], [3.524318218231201], [3.5804946422576904], [3.14835524559021], [2.669670820236206], [3.6683359146118164], [3.4300503730773926], [3.197990894317627], [3.424060344696045], [3.3682098388671875], [4.037497043609619], [3.470226764678955], [3.3611643314361572], [3.6336288452148438], [2.8977890014648438], [3.4694766998291016], [3.377139091491699], [3.3498315811157227], [3.600203275680542], [3.0845625400543213], [3.340195655822754], [3.2692666053771973], [2.8338422775268555], [3.5781617164611816], [3.3330941200256348], [3.5248336791992188], [3.4969403743743896], [3.0809736251831055], [3.685178756713867], [3.321415901184082], [3.3759255409240723], [3.507615089416504], [3.4583520889282227], [3.1459879875183105], [2.9169418811798096], [3.389557361602783], [3.339879274368286], [3.418311595916748], [3.0531840324401855], [3.115079879760742], [3.517266273498535], [3.4635584354400635], [3.5077965259552], [2.976125717163086], [2.9594290256500244], [3.6537928581237793], [3.415231227874756], [3.223055601119995], [3.353015422821045], [3.0599629878997803], [3.3448004722595215], [3.46327805519104], [3.787050247192383], [3.271967887878418], [3.5700438022613525], [3.4066319465637207], [3.4438681602478027], [3.194554328918457], [3.2684855461120605], [3.3478164672851562], [3.5212607383728027], [3.4728071689605713], [2.9419713020324707], [3.547673225402832], [3.149876117706299], [3.7814207077026367], [3.417059898376465], [3.7250711917877197], [3.5230255126953125], [3.1305007934570312], [3.373845100402832], [3.163925886154175], [2.9649300575256348], [3.1837315559387207], [3.383683681488037], [3.3649954795837402], [3.1699366569519043], [3.2949352264404297], [3.1941184997558594], [3.0897951126098633], [3.5488967895507812], [3.670158863067627], [3.4234423637390137], [3.1895341873168945], [3.483988046646118], [3.139450788497925], [3.425747871398926], [3.6464078426361084], [3.1347594261169434], [3.8824105262756348], [3.7353341579437256], [3.0824084281921387], [3.587390899658203], [3.363837242126465], [3.0394127368927], [3.4480905532836914], [3.33632755279541], [3.2370712757110596], [3.2664809226989746], [3.1524112224578857], [3.2644846439361572], [3.504446506500244], [3.1958813667297363], [3.4163455963134766], [3.353121519088745], [3.465254783630371], [3.2074317932128906], [3.0486788749694824], [3.5023605823516846], [3.242140769958496], [3.5016276836395264], [3.667527198791504], [3.3853909969329834], [3.079904079437256], [3.1337406635284424], [3.7123117446899414], [3.339428186416626], [3.401292324066162], [3.331071138381958], [3.276942253112793], [3.0351662635803223], [3.4997129440307617], [3.404829502105713], [3.5109992027282715], [3.5348289012908936], [3.157851219177246], [3.415104389190674], [3.649068593978882], [3.469557762145996], [3.0546088218688965], [3.5926928520202637], [3.3022584915161133], [3.422621726989746], [3.260387420654297], [3.044196605682373], [3.5755748748779297], [3.4325976371765137], [3.4713492393493652], [3.335681915283203], [3.1644887924194336], [3.5942814350128174], [3.2896087169647217], [3.6136322021484375], [3.209684133529663], [3.2053680419921875], [3.3787381649017334], [3.6847593784332275], [3.3471317291259766], [3.0889439582824707], [3.0423946380615234], [3.1339406967163086], [3.128077983856201], [3.7059106826782227], [3.1641035079956055], [2.6600863933563232], [3.5429511070251465], [3.282125473022461], [3.4735121726989746], [3.2886319160461426], [3.205972194671631], [3.3273708820343018], [3.2226412296295166], [3.2350425720214844], [3.5254290103912354], [3.3625965118408203], [3.900601625442505], [3.260608434677124], [3.3797383308410645], [3.295429229736328], [3.4245262145996094], [3.4610536098480225], [3.2905945777893066], [3.3426549434661865], [3.094395399093628], [3.2167646884918213], [3.5370535850524902], [3.6731553077697754], [3.6118812561035156], [3.038306713104248], [2.931755781173706], [3.3546857833862305], [3.4341585636138916], [3.084859609603882], [3.275052070617676], [3.162088394165039], [3.522955894470215], [3.2341933250427246], [3.147080898284912], [3.3181607723236084], [3.193777084350586], [3.4775609970092773], [3.5131113529205322], [3.527092456817627], [3.3136560916900635], [3.118868827819824], [3.5374200344085693], [3.5948634147644043], [3.454103946685791], [3.0582783222198486], [3.2802562713623047], [3.3526601791381836], [3.3925507068634033], [3.349734306335449], [3.498669147491455], [3.6103501319885254], [3.282989501953125], [3.31179141998291], [3.4149980545043945], [3.3885302543640137], [3.187998056411743], [3.4973745346069336], [3.173264503479004], [3.5429091453552246], [3.520641565322876], [3.3646531105041504], [3.232842445373535], [3.673736095428467], [3.3642377853393555], [3.458087682723999], [3.453564167022705], [3.0946245193481445], [3.1499316692352295], [3.7149529457092285], [3.292231559753418], [3.0108530521392822], [3.5158190727233887], [3.3799331188201904], [3.3793113231658936], [3.54341983795166], [2.3363513946533203], [3.654381275177002], [3.357675552368164], [3.193260669708252], [3.2636759281158447], [3.2854812145233154], [3.408834934234619], [2.606717586517334], [3.461134433746338], [3.5067944526672363], [3.238081455230713], [3.393742084503174], [3.7689208984375], [3.39721417427063], [3.4641642570495605], [3.193573236465454], [3.5010159015655518], [2.946429967880249], [3.7869253158569336], [3.262681484222412], [2.9712934494018555], [3.594905376434326], [3.2795326709747314], [3.583360195159912], [2.971048355102539], [3.3004307746887207], [3.2858943939208984], [3.2710959911346436], [3.683605670928955], [3.3943896293640137], [3.686337471008301], [3.642385482788086], [3.5182549953460693], [3.5014355182647705], [3.6781773567199707], [3.154578447341919], [3.6943254470825195], [3.285452365875244], [3.327479839324951], [3.288754463195801], [2.936506748199463], [3.5646610260009766], [3.606755256652832], [3.7759358882904053], [2.922968864440918], [2.9393603801727295], [3.5284507274627686], [3.4300613403320312], [3.295081615447998], [3.592434883117676], [2.9062435626983643], [3.772110939025879], [3.4288177490234375], [3.270296573638916], [3.016056537628174], [3.3770439624786377], [3.5506341457366943], [3.4755513668060303], [3.393522262573242], [3.4045746326446533], [3.0329692363739014], [3.561986207962036], [3.3201088905334473], [3.1544089317321777], [3.3068089485168457], [3.0973105430603027], [3.5176711082458496], [3.1185638904571533], [3.3295304775238037], [3.4755077362060547], [3.806504964828491], [3.4933784008026123], [3.2074851989746094], [3.4235074520111084], [3.117495059967041], [3.2666611671447754], [3.4653120040893555], [3.6054835319519043], [3.2632834911346436], [3.400300979614258], [3.1341440677642822], [3.4558873176574707], [3.7014760971069336], [3.3265416622161865], [2.9811489582061768], [2.9017693996429443], [3.546201467514038], [3.052988052368164], [3.145897626876831], [3.5430076122283936], [2.906527519226074], [3.321605682373047], [3.46500825881958], [3.6585617065429688], [3.2895913124084473], [3.3559727668762207], [3.449481725692749], [3.5148863792419434], [3.8413872718811035], [3.3792319297790527], [3.1323764324188232], [3.3402657508850098], [3.422940254211426], [3.512322425842285], [3.385253429412842], [2.943089485168457], [3.679218292236328], [3.3703622817993164], [3.3413383960723877], [3.2928977012634277], [3.048002004623413], [3.5842411518096924], [3.1569430828094482], [3.5095460414886475], [3.5010974407196045], [3.124818801879883], [3.410510540008545], [3.5803627967834473], [3.5172646045684814], [3.2890870571136475], [3.30784273147583], [3.2145802974700928], [3.5978026390075684], [3.3093600273132324], [3.156641721725464], [3.6713571548461914], [3.700188398361206], [3.469550132751465], [3.292677879333496], [3.2969632148742676], [3.3166749477386475], [3.706109046936035], [3.4420831203460693], [3.5459866523742676], [3.2404367923736572], [3.3209779262542725], [3.70451021194458], [3.6238834857940674], [3.340729236602783], [3.682913303375244], [3.233759641647339], [3.7457168102264404], [3.288034200668335], [3.2234065532684326], [3.5333938598632812], [3.725947618484497], [3.421060085296631], [3.549805164337158], [3.4422554969787598], [3.4170000553131104], [2.9387292861938477], [3.4389004707336426], [3.421022415161133], [3.3972387313842773], [2.9932641983032227], [3.3772268295288086], [3.5260283946990967], [3.1822211742401123], [3.553701400756836], [3.489218235015869], [3.3409366607666016], [3.7046313285827637], [3.6785621643066406], [3.291010856628418], [3.225109100341797], [3.220947504043579], [3.4324188232421875], [3.556743621826172], [3.796588897705078], [3.632847785949707], [3.263957977294922], [3.952226161956787], [3.4935483932495117], [3.666508197784424], [3.088869571685791], [3.160672664642334], [3.599097967147827], [3.643221378326416], [3.4512858390808105], [3.1812057495117188], [2.940567970275879], [3.519993782043457], [3.41015625], [3.1170225143432617], [3.538935899734497], [3.5399351119995117], [3.7324233055114746], [3.3771259784698486], [3.352940320968628], [3.121185541152954], [3.3546228408813477], [3.799149751663208], [3.1762261390686035], [3.479853630065918], [2.9878785610198975], [3.412104845046997], [3.4715442657470703], [3.3717565536499023], [3.634965419769287], [3.360189437866211], [3.2900121212005615], [3.8415608406066895], [3.2992048263549805], [3.4275121688842773], [3.4567556381225586], [3.2006001472473145], [3.5293703079223633], [3.341519832611084], [3.4687235355377197], [3.5336837768554688], [3.2807397842407227], [3.7330870628356934], [3.4282281398773193], [3.247650384902954], [3.1589255332946777], [3.4385149478912354], [3.5469493865966797], [3.1972157955169678], [3.1946799755096436], [3.417797088623047], [3.176189422607422], [3.6713309288024902], [3.254470109939575], [3.4226508140563965], [3.410046100616455], [3.3106532096862793], [3.5267624855041504], [3.4397923946380615], [3.612338066101074], [3.493492364883423], [3.4891037940979004], [3.4797186851501465], [3.5571255683898926], [3.341031074523926], [3.3348679542541504], [3.1218857765197754], [3.6261191368103027], [3.707505702972412], [3.50003981590271], [3.2773871421813965], [2.9501287937164307], [3.7709970474243164], [3.126948595046997], [3.290966510772705], [3.172300338745117], [3.0469462871551514], [3.7884020805358887], [3.2985355854034424], [3.6315014362335205], [3.398115396499634], [3.170677661895752], [3.387155294418335], [3.049697160720825], [3.577004909515381], [3.3127005100250244], [3.2168331146240234], [3.7452731132507324], [3.565340995788574], [3.497652530670166], [3.384427309036255], [3.6740224361419678], [3.60404372215271], [3.150709867477417], [3.071197032928467], [3.572190999984741], [3.0567626953125], [3.347860813140869], [3.5824410915374756], [3.5523672103881836], [3.369633197784424], [3.274829864501953], [3.54408860206604], [3.250492572784424], [3.385200262069702], [3.4597880840301514], [3.3895273208618164], [3.6303343772888184], [3.313791513442993], [3.513172149658203], [3.039426326751709], [3.3359322547912598], [3.325169563293457], [3.4944844245910645], [3.3632984161376953], [3.5102152824401855], [3.469204902648926], [3.5610313415527344], [3.421351194381714], [3.6465706825256348], [3.2922468185424805], [2.927626848220825], [3.4675493240356445], [3.7203423976898193], [3.2500336170196533], [3.4751200675964355], [3.2576675415039062], [3.625983715057373], [3.35361385345459], [3.2403416633605957], [3.3134608268737793], [2.9304866790771484], [3.5579047203063965], [3.035999298095703], [3.1961519718170166], [3.2945449352264404], [3.379432201385498], [3.2580394744873047], [3.5123958587646484], [3.487168788909912], [3.418210506439209], [2.7902135848999023], [3.1404170989990234], [3.3621950149536133], [3.1851320266723633], [3.586488962173462], [3.431763172149658], [3.4654295444488525], [3.389359712600708], [3.3440394401550293], [3.17549729347229], [3.1397931575775146], [3.142918109893799], [3.660153388977051], [3.227004289627075], [3.32102370262146], [3.2571005821228027], [3.369887351989746], [3.3602070808410645], [3.310980796813965], [3.471853733062744], [3.3644185066223145], [3.5456223487854004], [3.2507529258728027], [3.6016268730163574], [3.361226797103882], [3.565202474594116], [3.933943510055542], [3.6854019165039062], [3.713897943496704], [2.923971176147461], [3.4668424129486084], [3.0909008979797363], [3.116851329803467], [3.452613353729248], [3.1796517372131348], [3.205807685852051], [3.6140828132629395], [3.4834554195404053], [3.393505096435547], [3.7917838096618652], [3.258180618286133], [3.472217559814453], [3.265261650085449], [3.6175551414489746], [3.0011532306671143], [3.1367604732513428], [3.306962490081787], [3.389873504638672], [3.2095046043395996], [3.38019061088562], [2.9493372440338135], [3.4452133178710938], [3.1316564083099365], [3.5026259422302246], [3.5259156227111816], [3.1499040126800537], [3.4843854904174805], [3.371771812438965], [3.43990421295166], [3.1092512607574463], [3.1168177127838135], [3.444025993347168], [3.4611029624938965], [3.458195209503174], [3.5774612426757812], [2.966831684112549], [3.5943679809570312], [3.3789446353912354], [3.5227832794189453], [3.551903247833252], [3.0515663623809814], [3.2356672286987305], [3.317352294921875], [3.470198392868042], [3.034078598022461], [3.340521812438965], [3.3369598388671875], [3.5653419494628906], [3.5363717079162598], [3.401137351989746], [3.1852424144744873], [3.454213857650757], [3.5302467346191406], [3.4908289909362793], [3.4862682819366455], [3.278801441192627], [3.584965705871582], [3.395144462585449], [3.4558000564575195], [3.5021495819091797], [3.1180171966552734], [3.3868370056152344], [3.4811136722564697], [3.610419750213623], [3.5139167308807373], [3.3648276329040527], [3.29587459564209], [3.342867374420166], [3.5006277561187744], [3.11722993850708], [3.3480939865112305], [3.7317728996276855], [3.4592978954315186], [3.502833366394043], [3.450145721435547], [3.0929653644561768], [3.5323166847229004], [3.667801856994629], [3.515687942504883], [3.3625926971435547], [3.6192755699157715], [3.354001522064209], [3.569922685623169], [3.3591058254241943], [3.3722927570343018], [3.598998785018921], [3.3977832794189453], [3.1167991161346436], [3.1249232292175293], [3.461318016052246], [3.263862133026123], [3.4366202354431152], [3.694337844848633], [3.3566274642944336], [3.3643851280212402], [3.1014058589935303], [3.5817654132843018], [3.274038314819336], [3.3027262687683105], [3.6139466762542725], [3.4087064266204834], [3.582843542098999], [3.5088329315185547], [3.5717849731445312], [3.8188652992248535], [3.140718460083008], [3.4120278358459473], [3.3485336303710938], [3.4319589138031006], [3.374119281768799], [3.3534579277038574], [3.6041464805603027], [3.3867993354797363], [3.2969319820404053], [3.1628265380859375], [3.5833892822265625], [3.322319746017456], [3.27300763130188], [3.650484085083008], [3.4375836849212646], [2.9752957820892334], [3.2911040782928467], [3.2993788719177246], [3.47044038772583], [3.220247983932495], [2.7365105152130127], [3.611081600189209], [3.3513717651367188], [3.2381350994110107], [3.293583869934082], [3.1895365715026855], [3.458946704864502], [3.3574717044830322], [3.680722713470459], [3.373507261276245], [2.9833626747131348], [3.460577964782715], [3.4603757858276367], [3.3306221961975098], [3.346583843231201], [3.4312028884887695], [3.5857019424438477], [3.4880495071411133], [3.332618236541748], [3.3799262046813965], [3.1912214756011963], [3.5185489654541016], [3.5084214210510254], [3.5085039138793945], [3.4179227352142334], [3.1429407596588135], [3.595381259918213], [3.3744583129882812], [3.5155587196350098], [3.270415782928467], [3.0247111320495605], [3.503974676132202], [3.1592421531677246], [3.459225654602051], [3.0827555656433105], [3.265265703201294], [3.321603298187256], [3.210066318511963], [3.4754233360290527], [3.5769753456115723], [3.315788745880127], [3.6852643489837646], [3.2888221740722656], [3.3771934509277344], [3.4911680221557617], [3.240410566329956], [3.3706817626953125], [3.308945655822754], [3.518066167831421], [3.547238826751709], [3.1010847091674805], [3.519117832183838], [3.488361358642578], [3.419701337814331], [3.38895320892334], [3.3522226810455322], [3.7138583660125732], [3.401888847351074], [3.223520278930664], [3.3873932361602783], [3.4708080291748047], [3.613835573196411], [3.404524326324463], [3.5038552284240723], [3.026791572570801], [3.2887163162231445], [3.472182512283325], [3.431469440460205], [3.4667019844055176], [3.4129793643951416], [3.1904118061065674], [3.5823726654052734], [3.026813268661499], [3.3761091232299805], [3.1863365173339844], [2.834775447845459], [3.4175004959106445], [3.4425711631774902], [3.6866819858551025], [3.175757646560669], [3.3112077713012695], [3.6703319549560547], [3.583116292953491], [3.320740222930908], [3.476571559906006], [3.174030303955078], [3.239016532897949], [3.002864122390747], [3.541072368621826], [3.1532692909240723], [3.455049514770508], [3.5415258407592773], [3.463799476623535], [3.3643910884857178], [3.5193030834198], [3.4200968742370605], [3.676333427429199], [3.6259427070617676], [3.461358070373535], [3.6924259662628174], [3.344939947128296], [3.390359878540039], [3.4209108352661133], [3.187570095062256], [3.3066444396972656], [3.1624550819396973], [3.601334810256958], [3.6551127433776855], [3.5120482444763184], [3.0870819091796875], [3.3415493965148926], [3.405991554260254], [3.729217767715454], [3.2952332496643066], [3.3231420516967773], [3.2940406799316406], [3.1599502563476562], [3.2161331176757812], [3.354606866836548], [3.3023829460144043], [2.9293527603149414], [3.8533549308776855], [3.229586601257324], [3.5031800270080566], [3.391502857208252], [3.0858821868896484], [3.3612112998962402], [3.4214913845062256], [3.4033491611480713], [2.9791340827941895], [2.8054399490356445], [3.5254786014556885], [3.533405065536499], [3.305720329284668], [3.2028441429138184], [3.3704051971435547], [3.548996925354004], [3.5376954078674316], [3.3161182403564453], [3.299347400665283], [3.5965452194213867], [3.400195598602295], [3.0912628173828125], [3.2746098041534424], [3.401254177093506], [3.275074005126953], [3.5814266204833984], [3.543177604675293], [3.5439655780792236], [3.4139928817749023], [3.092885732650757], [3.286539077758789], [3.2228970527648926], [3.4588208198547363], [3.392425775527954], [3.2572662830352783], [3.621065855026245], [3.445390224456787], [3.2998340129852295], [3.3697991371154785], [3.1334316730499268], [3.336728572845459], [3.3753397464752197], [3.5467724800109863], [3.1449832916259766], [3.2537643909454346], [3.5272417068481445], [3.6395375728607178], [3.4460031986236572], [3.5200726985931396], [2.9224815368652344], [3.629037857055664], [3.553952932357788], [3.067744731903076], [3.709507942199707], [3.666593551635742], [3.513240337371826], [3.2735378742218018], [3.522190809249878], [3.570528507232666], [2.8191280364990234], [3.5868992805480957], [3.4282569885253906], [3.3542256355285645], [3.4557745456695557], [3.418196678161621], [3.487126111984253], [3.5916428565979004], [3.694157838821411], [3.2523555755615234], [3.374540328979492], [3.6951887607574463], [3.3594207763671875], [3.3724489212036133], [3.3606042861938477], [3.2187438011169434], [3.669142723083496], [3.13785982131958], [3.1365272998809814], [3.2455015182495117], [3.3277859687805176], [3.485501766204834], [3.2625885009765625], [3.4476351737976074], [3.3050947189331055], [3.128281593322754], [3.417304039001465], [3.5813732147216797], [3.249948263168335], [3.4871792793273926], [3.085268974304199], [4.143938064575195], [3.3500657081604004], [3.6371099948883057], [3.285189628601074], [3.3006410598754883], [3.659052848815918], [3.7257237434387207], [3.141660690307617], [3.185476779937744], [3.270704746246338], [3.3697052001953125], [3.298757314682007], [3.4136335849761963], [3.2466752529144287], [3.394355297088623], [3.595724582672119], [3.614398956298828], [3.554135322570801], [3.4267306327819824], [3.2554736137390137], [3.356088876724243], [3.4672369956970215], [3.4854559898376465], [3.259580612182617], [3.2884023189544678], [3.7877144813537598], [3.2736198902130127], [3.2884397506713867], [3.5547728538513184], [3.416802406311035], [3.5068085193634033], [3.6155471801757812], [3.2750439643859863], [3.380384922027588], [3.400247097015381], [3.3680286407470703], [3.6558547019958496], [3.2793869972229004], [3.2657337188720703], [3.410526752471924], [3.1526012420654297], [3.6228630542755127], [3.1874189376831055], [3.460512638092041], [3.1873958110809326], [3.387868881225586], [3.5614397525787354], [3.3344056606292725], [3.273514986038208], [3.3380608558654785], [3.56327486038208], [3.3806426525115967], [3.1004555225372314], [3.4098684787750244], [2.9085583686828613], [3.523732900619507], [3.125170946121216], [3.184286117553711], [3.684356689453125], [3.360731601715088], [3.583927631378174], [3.3143529891967773], [3.2633960247039795], [3.221287965774536], [3.5185532569885254], [3.322650909423828], [3.628962278366089], [3.3771579265594482], [3.2337193489074707], [3.1055405139923096], [3.5797581672668457], [3.5367331504821777], [3.5091333389282227], [3.56235408782959], [3.4240360260009766], [3.442509651184082], [3.188288450241089], [3.263216018676758], [3.2601423263549805], [3.4960832595825195], [3.8065345287323], [3.5692384243011475], [3.4039883613586426], [3.440709114074707], [3.4356040954589844], [3.3099210262298584], [3.371225595474243], [3.2690367698669434], [3.5099334716796875], [3.211629867553711], [3.566117286682129], [3.378833293914795], [3.2235517501831055], [3.6624321937561035], [3.053469657897949], [3.1555700302124023], [3.426724672317505], [3.4674150943756104], [3.490448474884033], [3.0174074172973633], [3.595888614654541], [3.3356287479400635], [3.4951252937316895], [3.5075531005859375], [3.085085868835449], [3.209725856781006], [3.5370054244995117], [3.4368653297424316], [3.3392653465270996], [3.1569533348083496], [3.500234842300415], [2.9660372734069824], [3.427183151245117], [3.1662797927856445], [3.283541440963745], [3.4597995281219482], [3.420984983444214], [3.412313222885132], [3.303147792816162], [3.5188145637512207], [3.3517916202545166], [3.41099214553833], [3.396124839782715], [3.4580719470977783], [3.2292661666870117], [3.5479655265808105], [3.175860643386841], [3.5065574645996094], [3.3687543869018555], [3.3213045597076416], [3.3691163063049316], [3.4632699489593506], [3.394941568374634], [2.803098440170288], [3.3420605659484863], [3.8614633083343506], [3.18576717376709], [3.207744836807251], [3.1728179454803467], [3.4668872356414795], [3.2717294692993164], [3.555769681930542], [3.4756507873535156], [3.4917516708374023], [3.479689359664917], [3.503037452697754], [3.324373722076416], [3.5728182792663574], [3.2941980361938477], [3.1715917587280273], [3.3897340297698975], [3.2495875358581543], [3.4846744537353516], [3.207446813583374], [3.073836326599121], [3.3724942207336426], [3.0995328426361084], [3.550696849822998], [3.2476701736450195], [3.146777629852295], [3.4804539680480957], [3.4418296813964844], [3.774773120880127], [3.3940086364746094], [3.4083566665649414], [3.4561524391174316], [3.6372127532958984], [3.453998327255249], [3.2786731719970703], [3.1093227863311768], [3.4566242694854736], [3.28128981590271], [3.1809487342834473], [3.3684141635894775], [3.1013574600219727], [3.438333511352539], [3.5750412940979004], [3.559810161590576], [3.6436405181884766], [3.5179553031921387], [3.3389017581939697], [3.8739571571350098], [3.3209755420684814], [3.3827528953552246], [3.3807897567749023], [3.2626943588256836], [3.3937387466430664], [3.35929012298584], [3.486030101776123], [3.0790834426879883], [3.3959145545959473], [3.432718276977539], [3.145781993865967], [3.186736822128296], [3.093289375305176], [3.446626663208008], [3.8687539100646973], [3.4620463848114014], [3.5426158905029297], [3.2311859130859375], [3.5757815837860107], [3.5378663539886475], [3.3054089546203613], [2.913480281829834], [3.1275596618652344], [3.773682117462158], [3.415926933288574], [3.134323835372925], [3.3720757961273193], [3.2708730697631836], [3.2831640243530273], [3.390716791152954], [3.2352025508880615], [3.267533302307129], [3.4567651748657227], [3.4880125522613525], [3.473114013671875], [3.4532289505004883], [3.385781764984131], [3.407470226287842], [3.423450469970703], [3.4375593662261963], [3.478398084640503], [3.2303340435028076], [3.2861580848693848], [3.4174857139587402], [3.310328483581543], [3.5215401649475098], [3.45882248878479], [3.4455113410949707], [3.5867631435394287], [3.5459489822387695], [3.06003999710083], [3.2631068229675293], [3.081083059310913], [3.5383620262145996], [3.555508852005005], [3.401214122772217], [3.502305030822754], [3.329315662384033], [3.3758296966552734], [3.4150216579437256], [3.557469606399536], [3.5221827030181885], [3.2160263061523438], [3.466923475265503], [3.4787802696228027], [3.825496196746826], [3.4660966396331787], [3.419475555419922], [3.405651330947876], [3.5879337787628174], [3.554717540740967], [3.2724552154541016], [3.5484418869018555], [3.497255325317383], [3.59942626953125], [3.682223320007324], [3.5642924308776855], [3.4029898643493652], [3.285409927368164], [3.257598876953125], [3.308406352996826], [3.2801120281219482], [3.1505768299102783], [3.3697690963745117], [3.447770118713379], [3.2119994163513184], [3.465701103210449], [3.413304567337036], [3.3422622680664062], [3.630178213119507], [3.3463480472564697], [3.2286744117736816], [2.9845316410064697], [3.145745038986206], [3.4161970615386963], [3.1220600605010986], [3.0846850872039795], [3.4731948375701904], [3.362304449081421], [3.400698661804199], [3.344064235687256], [3.3197145462036133], [3.44636607170105], [3.559070110321045], [3.4228594303131104], [3.8033933639526367], [3.159043073654175], [3.093482494354248], [3.5190086364746094], [3.4014625549316406], [3.650717258453369], [3.099879503250122], [3.486323833465576], [3.5340168476104736], [3.2007603645324707], [3.3506603240966797], [3.156557559967041], [3.0421667098999023], [3.966738224029541], [3.5274906158447266], [3.612079620361328], [3.449240207672119], [3.1547460556030273], [3.2318155765533447], [3.1676323413848877], [3.6257753372192383], [3.3592567443847656], [3.226628541946411], [3.4336061477661133], [3.1342859268188477], [3.324789047241211], [3.396763324737549], [3.088620185852051], [3.478527069091797], [3.4435312747955322], [3.3223536014556885], [3.4228439331054688], [3.2461562156677246], [3.3827309608459473], [3.3481154441833496], [3.361602306365967], [3.2071948051452637], [3.501882553100586], [3.56213641166687], [3.3379905223846436], [3.203852891921997], [3.045736789703369], [3.0291833877563477], [3.6771788597106934], [3.3952155113220215], [3.4893717765808105], [3.437002182006836], [3.504011392593384], [3.444533109664917], [3.6272313594818115], [3.4939169883728027], [3.046987771987915], [3.368229866027832], [3.401477813720703], [3.374636650085449], [3.4120538234710693], [3.650911808013916], [3.307751178741455], [3.3321337699890137], [3.4054243564605713], [3.7247276306152344], [3.0013585090637207], [3.051851272583008], [3.51214337348938], [3.496065616607666], [3.451887369155884], [3.4539437294006348], [3.544440269470215], [3.42185115814209], [3.3533973693847656], [3.2577755451202393], [3.30578875541687], [2.951087713241577], [3.6043038368225098], [3.5388989448547363], [3.1048543453216553], [3.3157269954681396], [3.3678016662597656], [3.6497230529785156], [3.341970443725586], [3.389427900314331], [3.5943541526794434], [3.2833361625671387], [3.4554781913757324], [3.449307441711426], [3.350592851638794], [3.252964735031128], [2.921478748321533], [3.8188023567199707], [3.4956321716308594], [3.5952725410461426], [3.4427103996276855], [3.2475833892822266], [3.531940221786499], [3.6411306858062744], [3.506350040435791], [3.317584753036499], [3.131916046142578], [3.328716278076172], [3.4424495697021484], [3.2693872451782227], [3.365736961364746], [3.2542037963867188], [3.7809767723083496], [3.511956214904785], [3.179999828338623], [3.243354082107544], [3.1261136531829834], [3.5027618408203125], [3.286752223968506], [3.264087200164795], [3.2883501052856445], [3.4887189865112305], [3.5530900955200195], [3.583322048187256], [3.1980934143066406], [3.065917491912842], [3.0128173828125], [3.3887219429016113], [3.5823116302490234], [3.7433462142944336], [3.334394693374634], [3.4630184173583984], [3.466344118118286], [3.565067768096924], [3.308274269104004], [3.206223487854004], [3.132098436355591], [3.525099277496338], [3.556565523147583], [3.1241955757141113], [2.937002182006836], [3.0354156494140625], [3.456078052520752], [3.2359559535980225], [3.175752639770508], [3.1121602058410645], [3.4308228492736816], [3.579080581665039], [3.2764689922332764], [3.1066555976867676], [3.294965982437134], [3.431224822998047], [3.370433807373047], [3.4527199268341064], [3.5915136337280273], [3.468426465988159], [3.4890074729919434], [3.537726879119873], [3.638157844543457], [3.642024040222168], [3.2663726806640625], [3.231470823287964], [3.460073947906494], [3.359628200531006], [3.1918563842773438], [2.9273149967193604], [3.3428306579589844], [3.4459805488586426], [3.3135669231414795], [3.394766330718994], [3.276430130004883], [3.4098730087280273], [3.5494232177734375], [3.682182788848877], [3.325850248336792], [3.0501210689544678], [3.1622416973114014], [3.6842548847198486], [3.2300920486450195], [3.538687229156494], [3.201948881149292], [3.152893304824829], [3.60687518119812], [3.5198280811309814], [3.398177146911621], [3.167055130004883], [3.3805887699127197], [3.3281073570251465], [3.4844889640808105], [3.4270570278167725], [3.1984925270080566], [3.469759225845337], [3.485029697418213], [3.067340850830078], [3.290013313293457], [3.505234718322754], [3.4145658016204834], [3.593113422393799], [3.361673593521118], [3.3629109859466553], [3.471400260925293], [3.0548999309539795], [3.6526455879211426], [3.556471824645996], [3.6391491889953613], [3.1964354515075684], [3.3082048892974854], [3.3876328468322754], [3.366015672683716], [3.121072292327881], [3.407905340194702], [3.4160892963409424], [3.4002933502197266], [3.4641730785369873], [2.990401268005371], [3.3621973991394043], [3.0232481956481934], [3.6082162857055664], [3.3865506649017334], [3.37030029296875], [3.1728343963623047], [3.3989248275756836], [3.421419382095337], [3.37793231010437], [3.288349151611328], [3.069549083709717], [3.156569480895996], [3.7037606239318848], [3.3124966621398926], [3.435180902481079], [3.470919609069824], [3.5703072547912598], [3.365652084350586], [3.4585940837860107], [3.888798713684082], [3.289313793182373], [3.432905673980713], [3.5581798553466797], [3.6905856132507324], [3.3050851821899414], [2.932882070541382], [2.7432169914245605], [3.499386787414551], [3.329625368118286], [3.6292564868927], [3.382061243057251], [2.887178897857666], [3.4952149391174316], [3.352987051010132], [3.6016180515289307], [3.164701461791992], [2.810570240020752], [3.671125650405884], [3.2780978679656982], [3.4516358375549316], [3.348717212677002], [2.9137933254241943], [3.2097158432006836], [3.454892873764038], [3.434922933578491], [3.5756800174713135], [3.1015663146972656], [3.4737496376037598], [3.287536144256592], [3.558215618133545], [3.446499824523926], [2.9105002880096436], [3.432845115661621], [3.420614242553711], [3.6248292922973633], [3.1587352752685547], [3.448094129562378], [3.4673993587493896], [3.396921157836914], [3.379199266433716], [3.165621757507324], [3.2180399894714355], [3.3932666778564453], [3.1888129711151123], [3.595060348510742], [3.096108913421631], [3.1380069255828857], [3.531735420227051], [3.7051892280578613], [3.283757448196411], [3.061185359954834], [3.0479061603546143], [3.5081069469451904], [3.495412826538086], [3.4225692749023438], [3.264108896255493], [2.9352355003356934], [3.3200573921203613], [3.4990811347961426], [3.290174722671509], [3.2612013816833496], [3.3681533336639404], [3.357978343963623], [3.476825714111328], [3.4481146335601807], [3.3316650390625], [3.248391628265381], [3.661571979522705], [3.134634494781494], [3.373206377029419], [3.8436527252197266], [3.3622331619262695], [3.314087390899658], [3.265260696411133], [3.2125327587127686], [3.1559295654296875], [3.236485719680786], [3.483182907104492], [3.663896083831787], [3.0416903495788574], [3.3779823780059814], [3.115908622741699], [3.362753391265869], [3.7897815704345703], [3.4596784114837646], [3.3195414543151855], [2.748720645904541], [3.390352249145508], [3.1840531826019287], [3.515848159790039], [3.4848575592041016], [3.278075933456421], [3.6432886123657227], [3.143831729888916], [3.29868221282959], [3.0451672077178955], [3.263563394546509], [3.426352024078369], [3.2413599491119385], [3.064113140106201], [3.187199592590332], [3.166745185852051], [3.4865682125091553], [3.437896728515625], [3.4411041736602783], [3.710620880126953], [2.772522449493408], [3.5437350273132324], [3.1290218830108643], [3.324885606765747], [3.4412806034088135], [3.49480938911438], [3.565471649169922], [3.44490385055542], [3.836451768875122], [3.6987133026123047], [3.293785810470581], [3.7479333877563477], [3.290802240371704], [3.6976072788238525], [3.1333794593811035], [3.0672011375427246], [3.502061367034912], [3.321600914001465], [3.433497667312622], [3.580281972885132], [2.854060411453247], [3.6601529121398926], [3.5608720779418945], [3.306806802749634], [3.3196630477905273], [3.0016815662384033], [3.5508155822753906], [3.3844339847564697], [3.6923022270202637], [3.0921034812927246], [2.9707791805267334], [3.565521240234375], [3.496783494949341], [3.517432689666748], [3.300809383392334], [3.271350860595703], [3.8376314640045166], [3.4531874656677246], [3.5139658451080322], [3.450465679168701], [3.2229247093200684], [3.43351149559021], [3.241257905960083], [3.4982361793518066], [3.152865171432495], [3.2852590084075928], [3.291794538497925], [3.0239593982696533], [3.5000343322753906], [3.5260729789733887], [3.4203248023986816], [3.560575008392334], [3.402606964111328], [3.621859550476074], [3.1377220153808594], [3.4075980186462402], [3.438243865966797], [3.2616283893585205], [3.28564453125], [3.1788156032562256], [3.387415647506714], [3.46440052986145], [3.1159310340881348], [3.244140863418579], [3.2050180435180664], [3.154414653778076], [4.019650459289551], [3.5114588737487793], [3.3710274696350098], [3.2717690467834473], [3.2746942043304443], [3.774996519088745], [3.075821876525879], [3.5043675899505615], [3.4121341705322266], [3.2773966789245605], [3.4412918090820312], [3.3527660369873047], [3.5274507999420166], [3.574751853942871], [3.057145118713379], [3.3969554901123047], [3.541571617126465], [3.371588945388794], [3.367060661315918], [3.094447135925293], [3.4416675567626953], [3.7596936225891113], [3.4498119354248047], [3.2796943187713623], [3.4685580730438232], [3.213446617126465], [3.4928126335144043], [3.395549774169922], [3.1034252643585205], [3.269301414489746], [3.270754098892212], [3.5493569374084473], [3.6148107051849365], [3.03464937210083], [2.8039560317993164], [3.693162441253662], [3.339580535888672], [3.489278793334961], [3.372915744781494], [3.1773877143859863], [3.2563118934631348], [3.3506081104278564], [3.65885066986084], [3.2564918994903564], [3.0120396614074707], [3.3934757709503174], [3.5116891860961914], [3.2727043628692627], [3.1595537662506104], [3.3757874965667725], [3.5837957859039307], [3.4969072341918945], [3.4792139530181885], [3.529442310333252], [3.0577659606933594], [3.2957332134246826], [3.2500898838043213], [3.2285380363464355], [3.59769868850708], [3.1619651317596436], [3.3251469135284424], [3.6630306243896484], [3.2309088706970215], [3.637692451477051], [3.257458448410034], [3.5434250831604004], [3.6180601119995117], [3.4413633346557617], [3.2745704650878906], [3.0627527236938477], [3.4693567752838135], [3.4257359504699707], [3.5366268157958984], [3.1695754528045654], [3.214000701904297], [3.5501320362091064], [3.6395158767700195], [3.5219554901123047], [3.1430540084838867], [3.748802661895752], [3.595529079437256], [3.1214540004730225], [3.187985897064209], [3.319308042526245], [3.1667628288269043], [3.865405559539795], [3.3501126766204834], [3.1394236087799072], [3.1801819801330566], [2.8467447757720947], [3.5192036628723145], [3.4331068992614746], [3.416454792022705], [3.734762668609619], [3.5518932342529297], [3.5449118614196777], [3.3005733489990234], [3.5489625930786133], [3.638087749481201], [3.4149839878082275], [3.384371519088745], [3.748196601867676], [3.290403127670288], [3.2462711334228516], [3.2793004512786865], [3.294370651245117], [3.4224891662597656], [3.1669960021972656], [3.4955008029937744], [3.196821451187134], [3.428567409515381], [3.472256898880005], [3.2213194370269775], [3.2264931201934814], [3.2684743404388428], [3.4836666584014893], [3.35133695602417], [3.1548619270324707], [3.424886703491211], [3.157524824142456], [3.501138687133789], [3.5956482887268066], [3.265627384185791], [3.767611265182495], [2.860211133956909], [3.2197022438049316], [3.289430618286133], [3.068329334259033], [3.41355037689209], [3.342850685119629], [3.4941048622131348], [3.243642807006836], [3.383270025253296], [3.480243682861328], [3.0990004539489746], [3.391693592071533], [3.7026126384735107], [3.4425578117370605], [3.7904367446899414], [3.019890308380127], [3.669930934906006], [3.495534896850586], [3.506559371948242], [3.3217413425445557], [3.432892322540283], [3.531386375427246], [3.532466411590576], [3.590395927429199], [3.7445945739746094], [3.1262927055358887], [3.2503886222839355], [3.4659337997436523], [3.46221661567688], [3.265300989151001], [3.6234822273254395], [3.441746711730957], [3.668484687805176], [3.5336081981658936], [3.357968330383301], [3.0287680625915527], [3.6392645835876465], [3.284778594970703], [3.4350478649139404], [3.4882118701934814], [2.9665346145629883], [3.604234218597412], [3.5086722373962402], [3.087068557739258], [3.325171947479248], [3.1063804626464844], [3.3633413314819336], [3.6513123512268066], [3.3491578102111816], [3.210103988647461], [3.272059202194214], [3.5992369651794434], [3.5552988052368164], [3.427016258239746], [3.4785313606262207], [3.543400526046753], [3.306410789489746], [3.4458553791046143], [3.506633758544922], [3.4073472023010254], [3.4236793518066406], [3.5848402976989746], [3.386122226715088], [3.282463550567627], [3.448312282562256], [3.1157264709472656], [3.505924701690674], [3.35652494430542], [3.3441879749298096], [3.4034252166748047], [3.0589518547058105], [3.4193310737609863], [3.416354179382324], [3.451176881790161], [3.4058163166046143], [3.6545097827911377], [3.5921382904052734], [3.129936933517456], [3.065622091293335], [3.5685079097747803], [3.2149081230163574], [3.4040324687957764], [3.258617639541626], [3.4294729232788086], [3.063859462738037], [2.9572882652282715], [3.4961447715759277], [3.6707491874694824], [3.3870081901550293], [3.257542610168457], [3.403442859649658], [3.5723257064819336], [3.229396343231201], [3.451172351837158], [3.4081435203552246], [3.146772861480713], [3.5535593032836914], [3.5734856128692627], [3.225198745727539], [3.129183769226074], [2.9277944564819336], [3.7457823753356934], [3.6286144256591797], [3.37337589263916], [3.373518228530884], [3.691020965576172], [3.2835421562194824], [3.3100202083587646], [3.6067492961883545], [3.223295211791992], [3.227616786956787], [3.6039934158325195], [3.212001323699951], [3.570438861846924], [3.4748125076293945], [3.6356847286224365], [3.242976188659668], [3.2923309803009033], [3.299243211746216], [3.2929317951202393], [3.1134121417999268], [3.5248806476593018], [3.3645339012145996], [3.424699306488037], [3.2229371070861816], [3.415421485900879], [3.4689419269561768], [3.5340003967285156], [3.104224681854248], [3.707730770111084], [3.314957618713379], [3.366240978240967], [3.303924322128296], [3.260389804840088], [3.3258919715881348], [3.026254892349243], [3.501922607421875], [3.2603883743286133], [3.6378695964813232], [3.2743589878082275], [2.8754055500030518], [3.4653773307800293], [3.2909677028656006], [3.8022453784942627], [3.250926971435547], [3.3524675369262695], [3.316044569015503], [3.3216657638549805], [3.2659683227539062], [2.990952491760254], [3.3166396617889404], [3.5338754653930664], [3.1757073402404785], [3.43367600440979], [3.4968395233154297], [3.212902545928955], [3.5363197326660156], [3.6696815490722656], [3.6193456649780273], [3.1149840354919434], [3.3117122650146484], [3.5662593841552734], [3.31545090675354], [3.310559034347534], [3.667207956314087], [3.316230535507202], [3.7129077911376953], [3.684515953063965], [3.6876795291900635], [3.0720860958099365], [2.8720223903656006], [3.523099899291992], [3.464651346206665], [3.19024658203125], [3.3459458351135254], [2.921325445175171], [3.354269504547119], [3.3951163291931152], [3.9607138633728027], [3.4130606651306152], [3.07181715965271], [3.3226318359375], [3.823578119277954], [3.644914388656616], [3.2611331939697266], [3.199038028717041], [3.468045711517334], [3.415131092071533], [3.763536214828491], [3.240030288696289], [3.278470516204834], [3.3453989028930664], [3.5698599815368652], [3.346224784851074], [3.3941242694854736], [3.4228715896606445], [3.367724895477295], [3.243981122970581], [3.313260555267334], [3.5810365676879883], [3.4441146850585938], [3.2253339290618896], [3.3365609645843506], [3.6593730449676514], [3.2763545513153076], [3.478788137435913], [3.521345376968384], [3.3710789680480957], [3.4245190620422363], [3.327876567840576], [3.033857822418213], [3.6267971992492676], [3.61753249168396], [3.287889003753662], [3.0041728019714355], [3.3416857719421387], [3.564823627471924], [3.5556468963623047], [3.353280544281006], [3.420696973800659], [3.039027452468872], [3.46802020072937], [3.331768035888672], [3.5814476013183594], [3.4592905044555664], [3.2835710048675537], [3.5398223400115967], [3.3853888511657715], [3.6170783042907715], [3.3526062965393066], [2.8841404914855957], [3.602790117263794], [3.396866798400879], [3.3336269855499268], [3.3037302494049072], [3.353452205657959], [3.4425222873687744], [3.285936117172241], [3.608767509460449], [3.4507572650909424], [3.2153420448303223], [3.504971981048584], [3.4421253204345703], [3.3149428367614746], [3.330031394958496], [3.217637300491333], [3.3797287940979004], [3.5472702980041504], [3.179330825805664], [3.2292275428771973], [2.8447208404541016], [3.532898187637329], [3.375898599624634], [3.573436737060547], [3.0641520023345947], [3.4935197830200195], [3.662308931350708], [3.6161558628082275], [3.4020256996154785], [3.1585934162139893], [3.145537853240967], [3.6373324394226074], [3.202444553375244], [3.1502797603607178], [3.364068031311035], [3.437215805053711], [3.505150079727173], [3.382068634033203], [3.220355749130249], [3.23691463470459], [3.402810573577881], [3.4554619789123535], [3.264028787612915], [3.6028380393981934], [3.165073871612549], [3.35453724861145], [3.305232048034668], [3.134124517440796], [3.60954213142395], [3.2719273567199707], [3.2906811237335205], [3.4479451179504395], [3.503255605697632], [3.1673715114593506], [3.508655071258545], [3.412801742553711], [3.775653123855591], [3.471280097961426], [3.5612952709198], [3.2661938667297363], [3.2365944385528564], [3.3448281288146973], [3.580418348312378], [3.4773311614990234], [3.376530170440674], [3.018401861190796], [3.6278254985809326], [3.488548517227173], [3.5042901039123535], [3.2563908100128174], [3.017073392868042], [3.608096122741699], [3.06219744682312], [3.1400132179260254], [3.286773443222046], [3.4295589923858643], [3.344294786453247], [3.3113746643066406], [3.423524856567383], [3.3389508724212646], [3.43341064453125], [3.4345436096191406], [3.566918134689331], [3.2933290004730225], [3.9566524028778076], [3.036566734313965], [3.4171550273895264], [3.5607552528381348], [3.328674793243408], [3.0053601264953613], [3.755390167236328], [3.3819804191589355], [3.3073339462280273], [3.5566186904907227], [2.913025379180908], [3.2253670692443848], [3.5878231525421143], [3.094106674194336], [3.3369011878967285], [3.3965237140655518], [3.540870189666748], [3.458921194076538], [3.557206630706787], [3.234490394592285], [3.3983659744262695], [3.405386447906494], [3.07889986038208], [3.304725408554077], [3.627471923828125], [3.328254222869873], [3.1936028003692627], [3.1502785682678223], [3.5360324382781982], [3.149138927459717], [3.3018553256988525], [3.2614634037017822], [3.2836923599243164], [3.1640236377716064], [3.3054280281066895], [3.105119466781616], [3.250331401824951], [3.5202012062072754], [3.2266151905059814], [3.777008533477783], [3.1787166595458984], [3.58099627494812], [3.577646017074585], [3.5041818618774414], [3.4231038093566895], [3.665276288986206], [3.4089043140411377], [3.8614869117736816], [3.642426013946533], [3.329930067062378], [3.2810873985290527], [3.144634246826172], [3.4682016372680664], [3.556769847869873], [3.1535744667053223], [3.3212952613830566], [3.365048408508301], [3.4360904693603516], [3.3621017932891846], [3.3760805130004883], [3.1128692626953125], [3.154723882675171], [3.1885437965393066], [3.2431561946868896], [3.1715521812438965], [3.321234703063965], [3.13968563079834], [3.2488346099853516], [3.4486405849456787], [3.5179758071899414], [3.2878150939941406], [2.7782397270202637], [3.4744346141815186], [3.364689350128174], [3.3681640625], [3.1855223178863525], [2.935680627822876], [3.483499765396118], [3.255082130432129], [3.2526535987854004], [2.9527814388275146], [3.052049160003662], [3.240323781967163], [3.6953513622283936], [3.5907602310180664], [3.346320390701294], [3.2381534576416016], [3.5174388885498047], [3.3337438106536865], [3.190361738204956], [3.340514659881592], [3.4104349613189697], [3.65425443649292], [3.4692835807800293], [3.7300221920013428], [3.669560670852661], [3.5032711029052734], [3.4270973205566406], [3.1568660736083984], [3.562887191772461], [3.404132843017578], [3.4341979026794434], [3.5418801307678223], [3.3781747817993164], [3.25130033493042], [3.746781826019287], [3.6405553817749023], [3.675039291381836], [3.1717467308044434], [3.4793105125427246], [3.660426616668701], [3.145998477935791], [3.5296754837036133], [3.541376829147339], [3.5175962448120117], [3.159407138824463], [3.137122631072998], [3.4844536781311035], [3.4606499671936035], [3.275021553039551], [3.3062822818756104], [3.04310941696167], [3.4476664066314697], [3.374419689178467], [3.7240915298461914], [3.5316309928894043], [3.492724657058716], [3.2569680213928223], [3.651474714279175], [3.5560152530670166], [3.139327049255371], [3.0071613788604736], [3.4101572036743164], [3.0975089073181152], [3.4922938346862793], [3.0586647987365723], [3.120335578918457], [3.185573101043701], [3.4301958084106445], [3.427920341491699], [3.3460450172424316], [3.211130142211914], [3.3253068923950195], [3.2804081439971924], [3.3272557258605957], [3.216838836669922], [3.549185037612915], [3.565317153930664], [3.486426830291748], [3.188281536102295], [3.2777316570281982], [3.2960898876190186], [3.626830577850342], [3.1694226264953613], [3.301713705062866], [3.1812493801116943], [3.1025452613830566], [3.249789237976074], [3.603977918624878], [3.6977338790893555], [3.4082980155944824], [3.1373205184936523], [3.3047432899475098], [3.29331374168396], [3.530031442642212], [3.2477290630340576], [3.3917396068573], [3.367223024368286], [3.521801471710205], [3.4612269401550293], [3.2403035163879395], [3.3436379432678223], [3.419560670852661], [3.708587169647217], [3.7418482303619385], [3.16497540473938], [3.376481056213379], [3.4075546264648438], [3.5112409591674805], [3.1415772438049316], [3.2609522342681885], [3.2231287956237793], [3.479919195175171], [2.962695598602295], [3.4340100288391113], [3.130686044692993], [2.854687213897705], [3.1391048431396484], [3.591482162475586], [3.574768304824829], [3.076535940170288], [3.2004127502441406], [3.5309009552001953], [3.7645647525787354], [3.642448902130127], [3.2401134967803955], [3.473790168762207], [3.6346614360809326], [3.208338975906372], [3.564754009246826], [3.241213083267212], [3.4507365226745605], [3.383148670196533], [3.1903274059295654], [3.588406562805176], [3.357795476913452], [2.8849668502807617], [3.1990575790405273], [3.6467857360839844], [3.4048948287963867], [3.21728253364563], [3.357245922088623], [3.527538299560547], [3.390005111694336], [3.163175582885742], [3.3989357948303223], [3.085676670074463], [3.453324794769287], [3.2700414657592773], [3.3135602474212646], [3.3991236686706543], [2.948211908340454], [3.7229208946228027], [3.473017692565918], [3.516732692718506], [3.068256378173828], [3.3759000301361084], [3.454895496368408], [3.3357439041137695], [3.510584592819214], [3.183432102203369], [3.144899368286133], [3.3494033813476562], [3.335444927215576], [3.7120485305786133], [3.5877397060394287], [3.115551471710205], [3.429931163787842], [3.269333839416504], [3.634504795074463], [3.5885143280029297], [2.905102252960205], [3.8221817016601562], [3.35916805267334], [3.596900463104248], [3.27618408203125], [3.5302352905273438], [3.5974068641662598], [3.2941575050354004], [3.2951321601867676], [3.2202649116516113], [3.0433003902435303], [3.42980694770813], [3.428915500640869], [3.573035717010498], [3.1957955360412598], [2.921232223510742], [3.3574891090393066], [3.685795307159424], [3.4870800971984863], [3.3317325115203857], [3.046776533126831], [3.639251708984375], [3.184385299682617], [3.679102659225464], [3.3703854084014893], [3.1371545791625977], [3.3090226650238037], [2.9701552391052246], [3.3634307384490967], [3.2128958702087402], [2.9668431282043457], [3.3269917964935303], [3.5156023502349854], [3.6296732425689697], [3.124110460281372], [3.357402801513672], [3.377142906188965], [3.355879783630371], [3.545992374420166], [3.7195754051208496], [3.148397922515869], [3.2302751541137695], [3.318822145462036], [3.326101779937744], [3.3428640365600586], [3.3750741481781006], [3.3751986026763916], [3.493940830230713], [3.233820915222168], [3.568664312362671], [3.167745351791382], [3.5357441902160645], [3.444117546081543], [3.517000436782837], [3.5747926235198975], [3.055389881134033], [3.4951374530792236], [3.431706428527832], [3.3869681358337402], [3.3686470985412598], [3.2636752128601074], [3.2169482707977295], [2.999236822128296], [3.3724515438079834], [3.368788719177246], [3.1666007041931152], [3.3692612648010254], [3.37736439704895], [3.5901503562927246], [3.3462491035461426], [3.274226665496826], [3.8154702186584473], [3.460810661315918], [3.407986640930176], [3.7463326454162598], [2.8774478435516357], [3.572124481201172], [3.4313759803771973], [3.445446491241455], [3.1078503131866455], [2.9497807025909424], [3.501873254776001], [3.3387928009033203], [3.4848594665527344], [3.4047932624816895], [2.8769993782043457], [3.384735584259033], [3.3014636039733887], [3.290149450302124], [3.324183464050293], [3.0873019695281982], [3.6080331802368164], [3.262678623199463], [3.501885414123535], [3.4249868392944336], [2.992471694946289], [3.263558864593506], [3.2344181537628174], [3.6079230308532715], [3.181687831878662], [3.5125892162323], [3.1363022327423096], [3.275672674179077], [3.2670278549194336], [3.4487757682800293], [3.277280330657959], [3.5010263919830322], [3.182316303253174], [3.503309726715088], [3.25421142578125], [3.0339417457580566], [3.314016819000244], [3.423203945159912], [3.4676425457000732], [3.405978202819824], [3.3574743270874023], [3.390357255935669], [3.123941659927368], [3.649259090423584], [3.4760615825653076], [3.3870370388031006], [3.315487861633301], [3.2370810508728027], [3.392906904220581], [3.309051513671875], [3.023085117340088], [3.574676990509033], [3.3072829246520996], [3.213205337524414], [3.438121795654297], [3.3763580322265625], [3.4036989212036133], [3.0698654651641846], [3.4953739643096924], [3.3825228214263916], [3.1167714595794678], [3.4751086235046387], [3.283668279647827], [3.406989574432373], [3.0817673206329346], [2.9882688522338867], [3.5878796577453613], [3.587797164916992], [3.560960292816162], [3.736645460128784], [3.2413101196289062], [3.829711437225342], [3.435131072998047], [3.379803419113159], [3.6422929763793945], [3.277921199798584], [3.4032983779907227], [3.289710521697998], [3.575533628463745], [3.144991636276245], [3.3885436058044434], [3.4028189182281494], [3.49530291557312], [3.493793249130249], [3.276235818862915], [2.8655476570129395], [3.4544694423675537], [2.9356422424316406], [3.2471213340759277], [3.3101282119750977], [3.2801263332366943], [3.544318437576294], [3.420905590057373], [3.478325843811035], [2.979905128479004], [3.3092565536499023], [3.3912124633789062], [3.588759422302246], [3.2353062629699707], [3.520864963531494], [2.969727039337158], [3.7157959938049316], [3.30507230758667], [3.320291519165039], [3.2212867736816406], [3.01043963432312], [3.3456368446350098], [3.4090425968170166], [2.9745898246765137], [3.504056930541992], [3.100767135620117], [3.3894991874694824], [3.294384479522705], [3.4479849338531494], [3.2505853176116943], [3.271498441696167], [3.5867552757263184], [3.4051671028137207], [3.3827638626098633], [3.482027530670166], [3.0949268341064453], [3.2540154457092285], [3.332981586456299], [3.134915351867676], [3.2967982292175293], [3.12103009223938], [3.4756453037261963], [3.375662326812744], [2.8996541500091553], [3.364584445953369], [3.2758219242095947], [3.521099805831909], [3.575345277786255], [3.5067288875579834], [3.306387424468994], [2.8235487937927246], [3.5531089305877686], [3.663165330886841], [3.3040850162506104], [3.374617338180542], [3.4636802673339844], [3.4942164421081543], [3.691728115081787], [3.6981759071350098], [3.435152053833008], [3.5524954795837402], [3.5223300457000732], [3.4221980571746826], [2.9889228343963623], [3.376631021499634], [3.3205769062042236], [3.488823413848877], [3.77310848236084], [3.430715560913086], [3.302443504333496], [3.2203421592712402], [3.380770683288574], [3.305516004562378], [3.4091219902038574], [3.560432195663452], [2.941559076309204], [3.4626526832580566], [3.5549490451812744], [3.7928709983825684], [3.2408716678619385], [3.1675119400024414], [3.529059886932373], [3.4860153198242188], [3.342029571533203], [3.1814565658569336], [3.251939296722412], [3.4258065223693848], [3.424203872680664], [3.722928285598755], [3.34206223487854], [3.409170389175415], [3.397367477416992], [3.412058115005493], [3.5494868755340576], [3.304025411605835], [3.273587465286255], [3.457733631134033], [3.2798354625701904], [3.255095958709717], [3.1171720027923584], [3.450249671936035], [3.367570638656616], [3.3795931339263916], [2.957920789718628], [2.9970312118530273], [3.1137003898620605], [3.5136053562164307], [2.99538516998291], [3.6683647632598877], [3.126607656478882], [3.0006356239318848], [3.3691110610961914], [3.414628505706787], [3.7265069484710693], [3.400400161743164], [3.0895237922668457], [3.463686227798462], [3.7129640579223633], [3.278963088989258], [3.423402786254883], [3.165693759918213], [3.5773777961730957], [3.4266934394836426], [3.4322850704193115], [3.246676445007324], [3.4205870628356934], [3.549546957015991], [3.4796910285949707], [3.876600742340088], [3.633181571960449], [3.230321168899536], [3.5990188121795654], [3.2849082946777344], [3.42667293548584], [3.0363619327545166], [3.463200569152832], [3.5271990299224854], [3.282005786895752], [3.6775412559509277], [3.559938669204712], [3.214696168899536], [3.498685359954834], [3.2153515815734863], [3.457535743713379], [3.221087694168091], [2.9353559017181396], [3.7160401344299316], [3.484529972076416], [3.160956621170044], [3.233171224594116], [3.3059096336364746], [3.49592924118042], [3.34500789642334], [3.334219455718994], [3.259129524230957], [3.183839797973633], [3.4320998191833496], [3.3899624347686768], [3.4455974102020264], [3.24409818649292], [3.2177090644836426], [3.8213095664978027], [3.44881534576416], [3.3789682388305664], [3.569310188293457], [3.130051374435425], [3.400813579559326], [3.300825595855713], [3.240501642227173], [3.383187770843506], [3.3226919174194336], [3.3343935012817383], [3.413217067718506], [3.8657121658325195], [3.3825483322143555], [2.8605713844299316], [3.5906410217285156], [3.6316256523132324], [3.617042303085327], [3.2050721645355225], [3.1640708446502686], [3.248661756515503], [3.7115983963012695], [3.1800739765167236], [3.652930974960327], [3.114511013031006], [3.2608540058135986], [3.513251304626465], [3.3008644580841064], [3.1173055171966553], [3.0807504653930664], [3.330963373184204], [3.2672319412231445], [3.465869903564453], [3.302340030670166], [3.3884568214416504], [3.6007752418518066], [3.12225341796875], [3.5082931518554688], [3.0829131603240967], [3.4574341773986816], [3.251795768737793], [3.238846778869629], [3.5344038009643555], [3.7198102474212646], [2.538435697555542], [3.5747385025024414], [3.484435558319092], [3.6380159854888916], [3.5242466926574707], [3.296975612640381], [3.4609742164611816], [3.3925929069519043], [3.3332176208496094], [3.4719884395599365], [3.0767149925231934], [3.732482433319092], [3.549701690673828], [3.47094988822937], [3.414001703262329], [3.428241014480591], [3.305114269256592], [3.3923254013061523], [3.647632122039795], [3.0898184776306152], [3.2173409461975098], [3.297684669494629], [3.2249855995178223], [3.120887279510498], [3.4328322410583496], [3.261302947998047], [3.511821746826172], [3.609241485595703], [3.2041237354278564], [3.4000329971313477], [2.970473289489746], [3.566849946975708], [3.3530352115631104], [3.3236000537872314], [3.3110642433166504], [2.6217200756073], [3.6621532440185547], [3.510648727416992], [3.23368501663208], [3.0815067291259766], [3.02705717086792], [3.5398662090301514], [3.5031142234802246], [3.2952771186828613], [3.1870784759521484], [3.195857286453247], [3.3934741020202637], [3.4103879928588867], [3.511092185974121], [3.3641014099121094], [2.6297295093536377], [3.6573593616485596], [3.1407597064971924], [3.163595199584961], [3.346128225326538], [3.325571060180664], [3.554672956466675], [3.4557859897613525], [3.2648634910583496], [3.2758779525756836], [3.1881113052368164], [3.5341973304748535], [3.4409656524658203], [3.087064743041992], [3.3489432334899902], [2.844846248626709], [3.7254157066345215], [3.4113593101501465], [3.4849133491516113], [3.0105042457580566], [3.450519561767578], [3.4302027225494385], [3.204270601272583], [3.5396995544433594], [3.6245932579040527], [3.3859405517578125], [3.32698130607605], [3.6657514572143555], [3.0781824588775635], [3.651341676712036], [3.557929039001465], [3.6922755241394043], [3.1077675819396973], [3.7696216106414795], [3.3581600189208984], [3.5485689640045166], [3.362917900085449], [3.4789397716522217], [3.4345462322235107], [3.696995735168457], [3.4085640907287598], [3.6627297401428223], [3.4839491844177246], [3.5781185626983643], [3.3299813270568848], [2.948391914367676], [3.590853691101074], [3.311366081237793], [3.2884562015533447], [3.2482798099517822], [2.838758707046509], [3.348172664642334], [3.46247935295105], [3.433262348175049], [3.3296995162963867], [3.092813491821289], [3.8806862831115723], [3.2822492122650146], [3.1821038722991943], [3.340608835220337], [3.599604368209839], [3.568392753601074], [3.555060386657715], [3.3535361289978027], [3.3642373085021973], [3.126774787902832], [3.6871767044067383], [3.6994943618774414], [3.331968307495117], [3.266056776046753], [2.9941389560699463], [3.1860313415527344], [3.3370232582092285], [3.7624423503875732], [3.25838303565979], [3.540250062942505], [3.3099589347839355], [3.4371325969696045], [3.503851890563965], [3.3352086544036865], [3.3284449577331543], [3.6418118476867676], [3.2972378730773926], [3.588778018951416], [3.5749778747558594], [3.1451711654663086], [3.497196674346924], [3.2006373405456543], [3.4619808197021484], [3.1908202171325684], [3.2677836418151855], [3.444364070892334], [3.1938929557800293], [3.434596538543701], [3.6948630809783936], [3.160679817199707], [3.21641206741333], [3.507248878479004], [3.1759932041168213], [3.270761013031006], [3.670907974243164], [3.6791725158691406], [3.3862709999084473], [3.4503722190856934], [3.5355520248413086], [3.3841593265533447], [3.731896162033081], [3.294785976409912], [3.56716251373291], [3.4037845134735107], [3.0510284900665283], [3.283745527267456], [3.5124855041503906], [3.5886342525482178], [3.341512441635132], [3.095431327819824], [3.4602580070495605], [3.389256477355957], [3.076608180999756], [3.4926259517669678], [3.470457077026367], [3.474170684814453], [3.5573980808258057], [3.3616955280303955], [3.25046443939209], [3.4010982513427734], [3.484116554260254], [3.608070135116577], [3.4147841930389404], [3.4126858711242676], [3.0375335216522217], [3.5475940704345703], [3.373563289642334], [3.28905987739563], [3.2262628078460693], [3.166971445083618], [3.713616371154785], [3.3941338062286377], [3.118216037750244], [3.3866028785705566], [3.30673885345459], [3.5203492641448975], [3.758157253265381], [3.6233134269714355], [3.2903218269348145], [3.262258291244507], [3.6536571979522705], [3.356688976287842], [3.2744271755218506], [3.4030938148498535], [3.356858730316162], [3.2865283489227295], [3.4281749725341797], [3.3964247703552246], [3.2825632095336914], [3.508478879928589], [3.3339781761169434], [3.5834805965423584], [2.969799518585205], [3.3601934909820557], [3.014460325241089], [3.5157487392425537], [3.5046887397766113], [3.346479654312134], [3.306370735168457], [3.1127171516418457], [3.465285539627075], [3.4578237533569336], [3.4731245040893555], [3.405946969985962], [3.4565224647521973], [3.3911986351013184], [3.34446382522583], [3.4968154430389404], [3.182352066040039], [3.1506752967834473], [3.8011536598205566], [3.427755355834961], [3.238332509994507], [3.2206239700317383], [3.1982035636901855], [3.4262452125549316], [3.198802947998047], [3.296799421310425], [3.0861926078796387], [3.4233107566833496], [3.480137825012207], [3.4344987869262695], [3.2937262058258057], [2.865293502807617], [2.9807233810424805], [3.514632225036621], [3.374446392059326], [3.3576836585998535], [3.4648590087890625], [3.1977736949920654], [3.6710243225097656], [3.093127727508545], [3.6620776653289795], [3.2086844444274902], [2.754593849182129], [3.072262763977051], [3.3298091888427734], [3.3651883602142334], [3.5571985244750977], [3.052053689956665], [3.551612138748169], [3.4195289611816406], [3.3502814769744873], [3.203223466873169], [3.1353070735931396], [3.369568347930908], [3.3141164779663086], [3.2199668884277344], [3.59128737449646], [3.2478408813476562], [3.5111734867095947], [3.539370536804199], [3.1130454540252686], [3.4049885272979736], [3.352109909057617], [3.5379574298858643], [3.5226950645446777], [3.3121371269226074], [3.3612051010131836], [3.307612895965576], [3.4270830154418945], [3.1633524894714355], [3.459052562713623], [3.4535465240478516], [3.4402263164520264], [3.4521303176879883], [3.521069049835205], [3.315217971801758], [3.4298477172851562], [3.1560635566711426], [3.6481921672821045], [3.069223403930664], [3.5627715587615967], [3.43263578414917], [3.179647445678711], [3.4097280502319336], [3.5857431888580322], [3.812678337097168], [3.3300228118896484], [3.2068634033203125], [3.564387798309326], [3.523545026779175], [3.443138599395752], [3.176870584487915], [3.224735736846924], [3.420125722885132], [3.5463905334472656], [3.2990713119506836], [3.3435192108154297], [3.548049211502075], [3.496995210647583], [3.349637508392334], [3.638579845428467], [3.558706760406494], [3.1480181217193604], [3.8841238021850586], [3.5643153190612793], [3.2046761512756348], [3.4157731533050537], [3.108954906463623], [3.421874523162842], [3.306239604949951], [3.3590478897094727], [3.4562997817993164], [3.048536777496338], [3.536674976348877], [3.456653594970703], [3.301287889480591], [3.0127670764923096], [3.319213390350342], [3.5901827812194824], [3.9026689529418945], [3.1759085655212402], [3.1741886138916016], [3.4664928913116455], [3.382601737976074], [3.346435070037842], [3.1882290840148926], [3.2764205932617188], [3.768240451812744], [3.6039228439331055], [3.486035108566284], [3.435009241104126], [3.2442593574523926], [3.4364492893218994], [3.4506149291992188], [3.679678201675415], [3.6592586040496826], [3.173152446746826], [2.9850380420684814], [3.4316139221191406], [3.244098663330078], [3.6066641807556152], [2.9247922897338867], [3.1189329624176025], [3.1637773513793945], [3.706193208694458], [3.2759954929351807], [3.1306495666503906], [3.212494134902954], [3.5981876850128174], [3.432431697845459], [3.455380916595459], [3.3255615234375], [3.143828868865967], [3.5082664489746094], [3.5942623615264893], [3.5388479232788086], [3.171945095062256], [3.1932272911071777], [3.649519920349121], [3.2129921913146973], [3.6160531044006348], [3.524648666381836], [3.166107177734375], [3.2307586669921875], [3.5881190299987793], [3.411238431930542], [3.4398958683013916], [3.519469738006592], [3.709876537322998], [3.40840482711792], [3.2897932529449463], [3.308709144592285], [3.2010178565979004], [3.3471627235412598], [3.2118277549743652], [3.312808036804199], [3.3512110710144043], [3.5345265865325928], [3.839556932449341], [3.3308279514312744], [3.3904640674591064], [3.335259437561035], [2.9766414165496826], [3.3406901359558105], [3.323991060256958], [3.3315722942352295], [3.1689915657043457], [3.33469295501709], [3.2127623558044434], [3.630481243133545], [3.2326908111572266], [3.295523166656494], [3.2847774028778076], [3.475752115249634], [3.408492088317871], [3.380580425262451], [3.192464828491211], [2.8749194145202637], [3.5459213256835938], [3.617448091506958], [3.4919466972351074], [3.774855136871338], [2.94527530670166], [3.366333484649658], [3.505279064178467], [3.3759636878967285], [3.281261444091797], [3.2022690773010254], [3.5688633918762207], [3.6061086654663086], [3.456732749938965], [3.2801754474639893], [3.547426700592041], [3.5058693885803223], [3.8286218643188477], [3.573749542236328], [3.2995588779449463], [3.042832851409912], [3.1461548805236816], [3.571013927459717], [3.1984527111053467], [3.0612223148345947], [2.958479881286621], [3.074185371398926], [3.389507532119751], [3.4785447120666504], [3.0895676612854004], [3.133875846862793], [3.2599916458129883], [3.690646171569824], [3.287043571472168], [3.305406332015991], [3.5075948238372803], [3.450648546218872], [3.3608591556549072], [3.4850258827209473], [3.3354175090789795], [3.422912120819092], [3.3680925369262695], [3.168226480484009], [3.4981701374053955], [3.557373046875], [3.2801921367645264], [3.701230049133301], [3.3074698448181152], [3.4562864303588867], [3.369825839996338], [3.2325687408447266], [3.802490711212158], [3.7550947666168213], [3.232562303543091], [3.528407573699951], [2.8538060188293457], [3.468219757080078], [3.3595986366271973], [3.204939365386963], [3.261117935180664], [3.1384778022766113], [3.6513137817382812], [3.4454665184020996], [3.553757667541504], [3.145549774169922], [3.562347888946533], [3.594337224960327], [3.158079147338867], [3.6255669593811035], [3.4245293140411377], [3.319843292236328], [3.474270820617676], [3.2874503135681152], [3.4921789169311523], [3.341921806335449], [3.046764612197876], [3.587806224822998], [3.1507296562194824], [3.4120192527770996], [3.260510206222534], [3.265474796295166], [3.2828946113586426], [3.6696267127990723], [3.3300371170043945], [2.9750068187713623], [3.0899200439453125], [3.271005630493164], [3.3634984493255615], [2.9993152618408203], [2.0745954513549805], [3.0424256324768066], [3.3516547679901123], [3.1421360969543457], [3.4061009883880615], [3.245208263397217], [3.300021171569824], [3.4003162384033203], [3.6472253799438477], [3.292426824569702], [3.267916202545166], [3.2848711013793945], [3.6943421363830566], [3.155808925628662], [3.4123921394348145], [3.678154706954956], [3.3590550422668457], [3.3959121704101562], [3.1502737998962402], [2.9305617809295654], [3.6536574363708496], [3.4757273197174072], [3.5237135887145996], [3.4836301803588867], [3.267200469970703], [3.423892021179199], [3.4342989921569824], [3.493408203125], [3.252290725708008], [3.402151584625244], [3.384181261062622], [3.3747897148132324], [3.629970073699951], [3.571934223175049], [3.539686679840088], [3.657419204711914], [3.5391740798950195], [3.773433208465576], [3.1779673099517822], [3.1765921115875244], [3.3780205249786377], [3.0555295944213867], [3.1741549968719482], [3.2030813694000244], [3.4506444931030273], [3.5628979206085205], [3.414046287536621], [3.720060110092163], [3.510359287261963], [3.4325389862060547], [3.4180521965026855], [3.487645149230957], [3.718865156173706], [3.434610366821289], [3.231858253479004], [3.3721721172332764], [3.103487968444824], [3.734522581100464], [3.4268970489501953], [3.7538514137268066], [3.539306879043579], [3.387190580368042], [3.4295101165771484], [3.351778507232666], [3.251760959625244], [3.3322741985321045], [3.0406718254089355], [3.5680816173553467], [3.4877994060516357], [3.087047576904297], [3.288693428039551], [3.199765682220459], [3.104767322540283], [3.2486441135406494], [3.0561580657958984], [3.347114086151123], [3.627410888671875], [3.4124908447265625], [3.6039302349090576], [3.414170503616333], [3.3975417613983154], [3.602546215057373], [3.3865299224853516], [3.190944194793701], [3.533357858657837], [3.1872453689575195], [2.998685121536255], [3.515455722808838], [3.4299631118774414], [3.4266226291656494], [3.1014041900634766], [3.1015067100524902], [3.261106014251709], [3.385974168777466], [3.6517863273620605], [2.9970779418945312], [3.2366881370544434], [3.523622512817383], [3.4642841815948486], [3.3048593997955322], [3.2946548461914062], [3.5471079349517822], [3.4389328956604004], [3.180410385131836], [3.5221571922302246], [3.564505100250244], [3.16361403465271], [3.4358885288238525], [3.4095892906188965], [3.5264394283294678], [3.116456985473633], [3.4300272464752197], [3.115176200866699], [3.602099895477295], [3.441378593444824], [3.1657955646514893], [3.1282007694244385], [3.5527987480163574], [3.5089786052703857], [3.3138232231140137], [3.391061305999756], [3.373966693878174], [3.825817584991455], [3.2584142684936523], [3.3855817317962646], [3.492845296859741], [3.314755916595459], [3.512580394744873], [3.2833709716796875], [3.568295478820801], [3.3980870246887207], [3.2695562839508057], [3.1958656311035156], [3.248344659805298], [3.2228875160217285], [3.255786418914795], [3.170100688934326], [3.535411834716797], [3.514470338821411], [3.5598530769348145], [3.398324966430664], [2.9135336875915527], [3.363121509552002], [3.478041887283325], [3.318831443786621], [3.2831740379333496], [3.3243398666381836], [3.1098504066467285], [3.4142634868621826], [3.267697334289551], [3.2398951053619385], [3.0955300331115723], [3.3460984230041504], [3.1439874172210693], [3.379143238067627], [3.489954948425293], [3.341785430908203], [3.363232135772705], [3.8209309577941895], [3.755624294281006], [3.342215061187744], [3.25730562210083], [3.503483295440674], [3.51662540435791], [3.396036148071289], [3.5154976844787598], [3.1672191619873047], [3.2529525756835938], [3.177372455596924], [3.3250787258148193], [3.6552085876464844], [2.989419937133789], [3.6077959537506104], [3.4087162017822266], [3.3558619022369385], [2.935328960418701], [3.1109604835510254], [3.0680856704711914], [3.38911771774292], [3.292609214782715], [3.5726239681243896], [2.9870924949645996], [3.7352237701416016], [3.3943965435028076], [3.5689291954040527], [3.248464584350586], [3.2085659503936768], [3.395789623260498], [3.465869903564453], [3.4083828926086426], [3.3304965496063232], [3.1932084560394287], [3.5639846324920654], [3.2243731021881104], [3.0669984817504883], [3.4836385250091553], [3.5729026794433594], [3.3518171310424805], [3.5685274600982666], [3.6004714965820312], [3.43815279006958], [3.066012382507324], [3.359405517578125], [3.436500072479248], [3.1381235122680664], [3.4426417350769043], [3.116182327270508], [3.2656660079956055], [3.406893730163574], [3.29376482963562], [3.371372699737549], [3.090951919555664], [3.7081704139709473], [3.6308507919311523], [3.4117777347564697], [3.301461696624756], [3.242124080657959], [3.4968690872192383], [3.5413784980773926], [3.269808053970337], [3.066378116607666], [3.111363172531128], [3.398343086242676], [3.475569009780884], [3.481415033340454], [3.603296995162964], [2.7787868976593018], [3.8733625411987305], [3.250823497772217], [3.3183321952819824], [3.134070873260498], [3.5717010498046875], [3.5393240451812744], [3.4129862785339355], [3.2113161087036133], [3.7159626483917236], [3.3009817600250244], [3.5201430320739746], [3.478262186050415], [3.704008102416992], [3.184110164642334], [3.3240232467651367], [3.6148126125335693], [3.2362701892852783], [3.367398738861084], [3.5123186111450195], [3.113466262817383], [3.829878807067871], [3.277904987335205], [3.6321232318878174], [3.403210401535034], [3.479703426361084], [3.5830376148223877], [3.294193744659424], [3.226618766784668], [3.139388084411621], [2.8815948963165283], [3.807109832763672], [3.739196300506592], [3.324317455291748], [3.4466190338134766], [3.3157191276550293], [3.4862313270568848], [3.385272979736328], [3.3958740234375], [2.8719987869262695], [3.1833112239837646], [3.6462717056274414], [3.743716239929199], [3.5197935104370117], [3.4500808715820312], [2.9747166633605957], [3.6893270015716553], [3.6525697708129883], [3.072206974029541], [3.462319850921631], [2.8377199172973633], [3.2041711807250977], [3.428588390350342], [3.355013370513916], [3.2112200260162354], [3.3349997997283936], [3.747164487838745], [3.162492513656616], [3.489520311355591], [3.4858553409576416], [3.262923002243042], [3.513620138168335], [3.4179434776306152], [3.214252233505249], [3.483104705810547], [3.1558401584625244], [3.2488579750061035], [3.4059131145477295], [3.5363106727600098], [3.257810354232788], [3.144110679626465], [3.4836034774780273], [3.6271400451660156], [3.361549139022827], [3.2496731281280518], [3.195500612258911], [3.4937009811401367], [3.2945821285247803], [3.1952123641967773], [3.3040695190429688], [3.234605073928833], [3.4924683570861816], [3.615717649459839], [3.4191267490386963], [3.252781629562378], [3.1599066257476807], [3.618685245513916], [3.422229051589966], [3.305426597595215], [3.0251927375793457], [3.358063220977783], [3.58119797706604], [3.2899739742279053], [3.4333672523498535], [3.2684524059295654], [3.329576253890991], [3.491361141204834], [3.4165055751800537], [3.613093137741089], [3.1894569396972656], [3.29626202583313], [3.485346794128418], [3.271604299545288], [3.7021424770355225], [3.277935028076172], [3.0890891551971436], [3.093022346496582], [3.3933558464050293], [3.3971433639526367], [3.554654121398926], [3.3718554973602295], [3.1474971771240234], [3.390103816986084], [3.2190206050872803], [3.2453112602233887], [3.519742012023926], [3.41920804977417], [3.6920182704925537], [3.4186840057373047], [3.4066901206970215], [3.067574977874756], [4.009836196899414], [3.2057173252105713], [3.5558292865753174], [3.2048962116241455], [3.33880615234375], [3.202589988708496], [3.8329052925109863], [3.4017696380615234], [3.214550733566284], [2.9935944080352783], [3.480372905731201], [3.3704328536987305], [3.2923736572265625], [3.279571533203125], [3.19231915473938], [3.509760618209839], [3.308523178100586], [3.541400909423828], [3.3492202758789062], [2.8936848640441895], [3.517068862915039], [3.4680192470550537], [3.693880081176758], [3.583836555480957], [3.2480974197387695], [3.2780773639678955], [3.4625630378723145], [3.373091697692871], [3.1237475872039795], [3.2979202270507812], [3.3701319694519043], [3.35646915435791], [3.3461670875549316], [3.352750778198242], [3.2062299251556396], [3.628969430923462], [3.088094711303711], [3.5052123069763184], [3.3879213333129883], [3.197826862335205], [3.387808322906494], [3.373309373855591], [3.200354814529419], [3.4686005115509033], [3.525094985961914], [3.5122342109680176], [3.41397762298584], [3.3570237159729004], [3.2482552528381348], [3.344857931137085], [3.324782371520996], [3.3498382568359375], [3.2098007202148438], [3.655860424041748], [3.0706686973571777], [3.5828375816345215], [3.303217649459839], [3.3658952713012695], [3.289018154144287], [3.072826862335205], [3.094590425491333], [3.2980117797851562], [3.7018520832061768], [3.4015679359436035], [3.101746082305908], [3.730109453201294], [3.309309244155884], [3.5051021575927734], [3.6799588203430176], [3.109292984008789], [3.7102439403533936], [3.429030179977417], [3.6028122901916504], [3.3934526443481445], [3.27053165435791], [3.7342257499694824], [3.2558937072753906], [3.186328172683716], [3.4031524658203125], [3.2552638053894043], [3.581083297729492], [3.641775131225586], [3.307908296585083], [3.3615224361419678], [3.0745131969451904], [3.803682327270508], [3.4027652740478516], [3.4693377017974854], [3.292893171310425], [3.338693857192993], [3.3813910484313965], [3.4187796115875244], [3.7368125915527344], [3.334073305130005], [3.2299294471740723], [3.3100342750549316], [3.4361929893493652], [3.5550763607025146], [3.1775975227355957], [3.0706114768981934], [3.510092258453369], [3.1898033618927], [3.4212422370910645], [3.3902475833892822], [3.320272445678711], [3.6918489933013916], [3.273794174194336], [3.5254437923431396], [3.473710060119629], [3.3000893592834473], [3.7524096965789795], [3.432612657546997], [3.2792553901672363], [3.926082134246826], [3.1017165184020996], [3.647520065307617], [3.5467710494995117], [3.7704248428344727], [3.1171884536743164], [3.0714633464813232], [3.4760851860046387], [3.5131354331970215], [3.477795124053955], [3.368055820465088], [3.2293195724487305], [3.3622894287109375], [3.5118210315704346], [3.307166337966919], [3.4183907508850098], [3.1653168201446533], [3.4113941192626953], [3.55092716217041], [3.3769278526306152], [3.1656434535980225], [3.478468179702759], [3.3077807426452637], [3.458768367767334], [3.1720023155212402], [3.5095643997192383], [2.852139472961426], [3.599360942840576], [3.3588361740112305], [3.400604248046875], [3.49269962310791], [3.252763032913208], [3.414085865020752], [3.2276484966278076], [3.408693790435791], [3.505950927734375], [3.2183666229248047], [3.288283348083496], [3.768261194229126], [3.457667350769043], [3.0560526847839355], [3.322962760925293], [3.5243406295776367], [2.9247207641601562], [3.343982458114624], [3.756716728210449], [3.0560948848724365], [3.3453261852264404], [3.4349050521850586], [3.404552936553955], [3.2763562202453613], [3.4769842624664307], [3.3667726516723633], [3.2771482467651367], [2.958648204803467], [3.0228354930877686], [3.275481700897217], [3.5402162075042725], [3.2445173263549805], [3.559638261795044], [3.3107798099517822], [3.0307326316833496], [3.3755156993865967], [3.3076424598693848], [3.5209176540374756], [3.5067708492279053], [3.5585885047912598], [3.850518226623535], [3.6704635620117188], [3.250514030456543], [3.442173480987549], [3.30476713180542], [3.5214507579803467], [3.483696937561035], [3.123643636703491], [3.4636340141296387], [2.811365842819214], [3.5031065940856934], [3.574025869369507], [3.549199104309082], [3.1961288452148438], [3.0201609134674072], [3.636991500854492], [3.4278695583343506], [3.487180233001709], [3.4863169193267822], [3.1466734409332275], [3.361941337585449], [3.4217417240142822], [3.2176918983459473], [3.440669298171997], [3.5226328372955322], [3.3455474376678467], [3.972214460372925], [3.518094778060913], [3.4502925872802734], [3.128751039505005], [3.5157177448272705], [3.3642818927764893], [3.511432647705078], [3.409939765930176], [3.2762532234191895], [3.512784957885742], [3.503425359725952], [3.3492398262023926], [3.255037784576416], [2.9935479164123535], [3.6254570484161377], [3.5578062534332275], [3.3486764430999756], [3.4322619438171387], [2.8836991786956787], [3.398470401763916], [3.373375415802002], [3.853641986846924], [3.4088077545166016], [3.0737292766571045], [3.4757373332977295], [3.848081588745117], [3.167776107788086], [3.3365604877471924], [3.2186625003814697], [3.5602574348449707], [3.4232382774353027], [3.3375155925750732], [2.9872326850891113], [3.2466392517089844], [3.557159423828125], [3.332336664199829], [3.4740118980407715], [3.304094076156616], [3.273707866668701], [3.6046433448791504], [3.6086153984069824], [3.5330233573913574], [3.6642823219299316], [3.255800247192383], [3.669804096221924], [3.1576573848724365], [3.2290005683898926], [3.3633382320404053], [3.4251341819763184], [2.987070322036743], [3.2774672508239746], [3.733280897140503], [3.0669407844543457], [3.159151792526245], [3.413358449935913], [3.248852252960205], [3.5314955711364746], [3.3512606620788574], [3.2990756034851074], [3.6020889282226562], [3.4558119773864746], [3.3898215293884277], [3.4599690437316895], [3.301466226577759], [3.4735050201416016], [3.5267722606658936], [3.5043582916259766], [3.4718129634857178], [2.983391761779785], [3.754671335220337], [3.143099069595337], [3.421562671661377], [3.383671283721924], [3.4561734199523926], [3.484623908996582], [3.761650800704956], [3.5891857147216797], [3.3556089401245117], [2.7311248779296875], [3.308758497238159], [3.332184314727783], [3.4934263229370117], [3.2210400104522705], [3.3319664001464844], [3.2819249629974365], [3.5177040100097656], [3.4610791206359863], [3.3785581588745117], [2.93693470954895], [3.5323376655578613], [3.3380565643310547], [3.1105823516845703], [3.5782690048217773], [3.170752763748169], [3.603003978729248], [3.363248348236084], [3.3419082164764404], [3.6121835708618164], [3.1510510444641113], [3.239490509033203], [3.7316298484802246], [3.3965394496917725], [3.388908624649048], [3.1652374267578125], [3.726245403289795], [3.663238763809204], [3.629673957824707], [3.416382074356079], [3.3732903003692627], [3.5033950805664062], [3.6328635215759277], [3.2850937843322754], [3.330979824066162], [3.1931586265563965], [3.4843668937683105], [3.6639316082000732], [3.1962101459503174], [3.3538761138916016], [3.1369388103485107], [3.580380916595459], [3.246375322341919], [3.415417194366455], [3.164752721786499], [3.3173961639404297], [3.342679977416992], [3.0213537216186523], [3.308755874633789], [3.304710626602173], [3.0653975009918213], [3.3619062900543213], [3.5442795753479004], [3.3118579387664795], [3.3709607124328613], [2.968332290649414], [3.2890429496765137], [3.077202320098877], [3.3311188220977783], [3.429445266723633], [3.0430569648742676], [3.6477341651916504], [3.228289842605591], [3.4459388256073], [3.6982884407043457], [3.39141845703125], [3.775386333465576], [3.579118013381958], [3.235863447189331], [3.578587055206299], [2.8841660022735596], [3.3720102310180664], [3.6536741256713867], [3.4323341846466064], [3.3602890968322754], [3.3345723152160645], [3.461305618286133], [3.1360044479370117], [3.3842661380767822], [3.6528449058532715], [3.503386974334717], [3.27278995513916], [3.613732099533081], [3.3222880363464355], [3.287008762359619], [3.063410997390747], [3.552018165588379], [3.4617347717285156], [3.3739724159240723], [3.3184309005737305], [3.5112528800964355], [3.4000887870788574], [3.408158779144287], [3.459078073501587], [3.201948642730713], [3.678952932357788], [3.630756378173828], [3.4629034996032715], [3.7281665802001953], [3.2534408569335938], [2.739950180053711], [3.5588433742523193], [3.4609265327453613], [3.300417900085449], [3.35734224319458], [3.196749448776245], [3.5742154121398926], [3.857684850692749], [3.1419174671173096], [3.281240940093994], [3.241105794906616], [3.4057810306549072], [3.2234416007995605], [3.5518903732299805], [3.5123062133789062], [3.43686580657959], [3.3514504432678223], [3.66790509223938], [3.412721633911133], [3.331040382385254], [3.114469289779663], [3.4362220764160156], [3.535857677459717], [3.3110220432281494], [3.247143507003784], [3.5022075176239014], [3.4383811950683594], [3.444183826446533], [3.3924431800842285], [3.414271354675293], [3.3599934577941895], [3.7444615364074707], [3.530585765838623], [3.590989589691162], [3.360761880874634], [3.2221627235412598], [3.245148181915283], [3.5678625106811523], [3.5043325424194336], [3.6006665229797363], [3.039008617401123], [4.012310028076172], [3.162372589111328], [3.4039504528045654], [3.4053006172180176], [3.150846481323242], [3.5947766304016113], [3.3329265117645264], [3.0439724922180176], [3.1753439903259277], [2.727668285369873], [4.008573055267334], [3.2668704986572266], [3.680764675140381], [3.135697841644287], [3.95271635055542], [3.3405046463012695], [3.203660011291504], [3.4042718410491943], [3.5609793663024902], [3.3242108821868896], [3.5050740242004395], [3.4137368202209473], [3.7795403003692627], [3.4931349754333496], [3.2365119457244873], [3.199786901473999], [3.315937042236328], [3.380873203277588], [3.252960205078125], [3.265377998352051], [3.7100777626037598], [3.190577745437622], [3.230461835861206], [3.35148286819458], [3.3187944889068604], [3.3793444633483887], [3.220244884490967], [3.3958914279937744], [3.575198173522949], [3.206439971923828], [3.1813101768493652], [3.192303419113159], [3.281802177429199], [3.0781383514404297], [3.3570711612701416], [3.616534948348999], [3.222705364227295], [3.4385170936584473], [3.2095401287078857], [3.2863526344299316], [3.574247360229492], [3.7186622619628906], [3.2416510581970215], [3.2575583457946777], [3.3991332054138184], [3.3437886238098145], [3.406588315963745], [3.213247299194336], [3.189984083175659], [3.395810127258301], [3.442314624786377], [3.302076816558838], [3.4874019622802734], [3.2289204597473145], [3.5312137603759766], [3.406440496444702], [3.8805935382843018], [3.5583527088165283], [3.4535818099975586], [3.218454360961914], [3.9476919174194336], [3.563075542449951], [3.6000328063964844], [3.3966026306152344], [3.0221352577209473], [3.2653086185455322], [3.7035269737243652], [2.9153380393981934], [3.1495838165283203], [3.15097975730896], [3.5801892280578613], [3.594597578048706], [3.813296318054199], [3.300581216812134], [3.126802921295166], [3.499725103378296], [3.357738494873047], [3.3860464096069336], [3.3455982208251953], [3.375229835510254], [3.8334059715270996], [3.6267664432525635], [3.1535756587982178], [3.081439971923828], [3.475264072418213], [3.5058887004852295], [3.5390260219573975], [3.1616623401641846], [3.309636116027832], [3.161510944366455], [3.2287607192993164], [3.5266144275665283], [3.362995147705078], [3.2002201080322266], [3.1626524925231934], [3.421840190887451], [3.342085123062134], [3.7641029357910156], [3.2769289016723633], [3.4808523654937744], [3.2736656665802], [3.6116018295288086], [3.2953696250915527], [3.6283812522888184], [3.1102073192596436], [3.477780342102051], [3.3614680767059326], [3.181415557861328], [3.430253028869629], [3.2822818756103516], [3.6496219635009766], [3.431562900543213], [3.4792418479919434], [3.446361541748047], [2.980433225631714], [3.3916289806365967], [3.481264591217041], [3.3483779430389404], [3.617865800857544], [3.1531245708465576], [3.662714958190918], [3.6067957878112793], [3.297245502471924], [3.1953816413879395], [3.306205987930298], [3.4653306007385254], [3.410230875015259], [3.322779655456543], [3.2539114952087402], [3.3517003059387207], [3.240344762802124], [3.813154697418213], [3.3207879066467285], [3.8021678924560547], [3.3626914024353027], [3.32501220703125], [3.633310079574585], [3.774381160736084], [3.37642765045166], [3.2912235260009766], [3.2333922386169434], [3.359386920928955], [3.730471134185791], [3.3569064140319824], [3.6759705543518066], [3.619166374206543], [3.143739700317383], [3.5506935119628906], [3.2242507934570312], [3.227797508239746], [3.5914697647094727], [3.250223159790039], [3.3799924850463867], [3.329411506652832], [3.1962931156158447], [3.6190309524536133], [3.6623682975769043], [3.3765199184417725], [3.3478541374206543], [3.0379014015197754], [3.434445858001709], [3.5209689140319824], [3.185899257659912], [3.365654468536377], [3.2557718753814697], [3.1568069458007812], [3.489576816558838], [3.331295967102051], [3.223723888397217], [3.646761894226074], [3.8013107776641846], [3.257995367050171], [3.3606297969818115], [3.4821133613586426], [3.002835512161255], [3.521439552307129], [3.491060733795166], [3.3990955352783203], [2.975719451904297], [3.1005055904388428], [3.490863084793091], [3.4291539192199707], [3.4697751998901367], [3.4235787391662598], [3.0313093662261963], [3.6209869384765625], [3.257279634475708], [3.1282997131347656], [3.4014031887054443], [3.008951425552368], [3.40602445602417], [3.272671699523926], [2.950418472290039], [3.243116617202759], [3.3101274967193604], [3.600979804992676], [3.8246617317199707], [3.3161730766296387], [3.2271103858947754], [3.5399837493896484], [3.3885035514831543], [3.4910333156585693], [3.597573757171631], [3.460029363632202], [3.443721294403076], [3.9517719745635986], [3.5828654766082764], [3.318347454071045], [3.0835652351379395], [3.3383874893188477], [3.1843552589416504], [3.316723346710205], [3.16375732421875], [3.4812397956848145], [3.5472187995910645], [3.5546956062316895], [3.5892786979675293], [3.5274782180786133], [3.4780690670013428], [3.2476415634155273], [3.59969162940979], [3.304661512374878], [3.150010108947754], [3.156283140182495], [3.248535633087158], [3.4302821159362793], [3.343932628631592], [3.483853816986084], [3.4805991649627686], [2.823828935623169], [3.147061586380005], [3.272317409515381], [3.313828706741333], [3.200195074081421], [2.9742045402526855], [3.26554799079895], [3.234495162963867], [3.195406675338745], [3.180938482284546], [3.0348081588745117], [3.4612789154052734], [3.329979419708252], [3.3443665504455566], [3.3272571563720703], [3.1622016429901123], [3.307642698287964], [3.555905342102051], [3.6642611026763916], [3.5010507106781006], [3.391613483428955], [3.4265010356903076], [3.620206832885742], [3.536633014678955], [3.24069881439209], [3.486504077911377], [3.4845356941223145], [3.3640213012695312], [3.2610483169555664], [3.653655767440796], [3.279590606689453], [3.5206921100616455], [3.327134370803833], [3.0677411556243896], [3.129206657409668], [3.174785614013672], [3.4070558547973633], [3.2088396549224854], [3.3758487701416016], [3.5155420303344727], [3.510462522506714], [3.3854362964630127], [3.481001377105713], [3.1718900203704834], [3.5165576934814453], [3.330717086791992], [3.563779354095459], [3.4332892894744873], [3.5514838695526123], [3.2848060131073], [3.3003742694854736], [3.5457515716552734], [3.4703943729400635], [3.545227527618408], [3.3798696994781494], [3.0129244327545166], [3.524552583694458], [3.735607624053955], [3.8709378242492676], [3.364919662475586], [3.3914053440093994], [3.260161876678467], [3.16194748878479], [3.5714588165283203], [3.487337827682495], [3.3656601905822754], [3.6512303352355957], [3.1870055198669434], [3.4734063148498535], [3.048590898513794], [3.181605339050293], [3.5632286071777344], [3.0582199096679688], [3.1577959060668945], [3.276679277420044], [3.1635231971740723], [3.823733329772949], [3.4241278171539307], [3.279120445251465], [3.2508792877197266], [3.159972667694092], [3.571840763092041], [3.523540496826172], [3.3750243186950684], [3.6601548194885254], [3.433908462524414], [3.388120651245117], [3.3874289989471436], [3.241525650024414], [3.5481529235839844], [3.068683624267578], [3.479886531829834], [3.3971407413482666], [3.6390767097473145], [2.995605707168579], [3.2248125076293945], [3.3996407985687256], [3.7692532539367676], [3.3773670196533203], [3.1475789546966553], [3.1500942707061768], [3.3100154399871826], [3.340789556503296], [3.36376690864563], [3.078047752380371], [3.057673931121826], [3.8519389629364014], [3.4394733905792236], [3.4643678665161133], [3.461918592453003], [3.5623693466186523], [3.6193864345550537], [3.171799421310425], [3.299893856048584], [3.2301840782165527], [3.2267866134643555], [3.2817420959472656], [3.4184422492980957], [3.3953795433044434], [3.422440767288208], [3.301238775253296], [3.4792323112487793], [3.4093379974365234], [3.541080951690674], [3.2916369438171387], [3.1270933151245117], [3.2221906185150146], [3.5437331199645996], [3.428852081298828], [3.333090305328369], [3.2319493293762207], [3.412871837615967], [3.6786246299743652], [3.3291664123535156], [3.0929853916168213], [3.367859363555908], [3.615370750427246], [3.212470293045044], [3.6227853298187256], [3.491191864013672], [3.10302996635437], [3.461273193359375], [3.353039264678955], [3.2307233810424805], [3.243533134460449], [3.0119237899780273], [3.4560580253601074], [3.7267751693725586], [3.4925637245178223], [3.18538761138916], [3.246079921722412], [3.5705180168151855], [3.380449056625366], [3.63028621673584], [3.345153331756592], [3.2126312255859375], [3.4989829063415527], [3.3645267486572266], [3.475145101547241], [3.3518240451812744], [3.2989208698272705], [3.5267324447631836], [3.3919413089752197], [3.2756519317626953], [3.3600869178771973], [3.3728084564208984], [3.4245216846466064], [3.3637213706970215], [3.4845666885375977], [2.8960063457489014], [3.189007043838501], [3.3912906646728516], [3.147742748260498], [3.554414749145508], [3.6558279991149902], [3.3665385246276855], [3.3573763370513916], [3.524979829788208], [3.348604202270508], [3.0938198566436768], [3.079676628112793], [3.715853214263916], [3.565324306488037], [3.3186819553375244], [3.258528709411621], [3.5569908618927], [3.361865520477295], [3.424746036529541], [3.500710964202881], [3.2513539791107178], [3.1557750701904297], [3.5507006645202637], [3.061455011367798], [3.362415075302124], [3.632974147796631], [3.2636806964874268], [3.45449161529541], [3.237213611602783], [3.4398207664489746], [3.388221025466919], [3.0912818908691406], [3.298440456390381], [3.340797185897827], [3.247312307357788], [3.6326184272766113], [3.0045456886291504], [3.2603981494903564], [3.362269401550293], [3.6006479263305664], [3.4653782844543457], [3.0635828971862793], [3.1242759227752686], [3.53090763092041], [3.2691235542297363], [3.1158487796783447], [3.385875701904297], [3.2923059463500977], [3.2440271377563477], [3.303145170211792], [3.225127935409546], [3.004488468170166], [3.336656093597412], [3.572448968887329], [3.471862316131592], [3.2179794311523438], [3.2346138954162598], [3.264589548110962], [3.2681405544281006], [3.4812610149383545], [3.300144672393799], [3.1430015563964844], [3.570911407470703], [3.5498483180999756], [3.1800014972686768], [3.326841115951538], [3.3736050128936768], [3.355980396270752], [3.314788818359375], [3.493767499923706], [3.586773157119751], [3.266690254211426], [3.7769453525543213], [3.6677703857421875], [3.287653923034668], [3.1829471588134766], [3.3944671154022217], [3.3142666816711426], [3.3949499130249023], [3.300778388977051], [3.2321677207946777], [3.3459880352020264], [3.3712897300720215], [3.5309441089630127], [3.1496963500976562], [3.609607696533203], [3.3064818382263184], [3.515623092651367], [3.486544132232666], [3.278573989868164], [3.5721569061279297], [3.683807373046875], [3.360830783843994], [3.3769829273223877], [3.379361152648926], [3.3539741039276123], [3.512247085571289], [3.2750377655029297], [3.5250322818756104], [3.5588135719299316], [3.1606264114379883], [3.2128610610961914], [3.629303216934204], [3.2317447662353516], [3.4739556312561035], [3.3730053901672363], [3.310859203338623], [3.2063379287719727], [3.534914970397949], [3.4385719299316406], [3.5340867042541504], [3.257319927215576], [3.282064914703369], [3.461437702178955], [3.5061702728271484], [3.0510833263397217], [3.0875558853149414], [3.6644225120544434], [3.4678239822387695], [3.033081531524658], [3.7958903312683105], [3.0143699645996094], [3.437897205352783], [3.5476486682891846], [3.178913116455078], [3.398780584335327], [3.275085210800171], [3.48503041267395], [3.1730329990386963], [3.6905226707458496], [3.1525795459747314], [3.0669963359832764], [3.383920669555664], [3.391740560531616], [3.4142160415649414], [3.3008594512939453], [3.2221598625183105], [3.4836697578430176], [3.5946602821350098], [3.625627279281616], [3.58886456489563], [3.062166213989258], [3.2817139625549316], [3.1783671379089355], [3.696331024169922], [3.416999101638794], [3.104696750640869], [3.3044865131378174], [3.3603832721710205], [3.538358211517334], [3.4611570835113525], [3.0842244625091553], [3.682271957397461], [3.2427380084991455], [3.3703501224517822], [3.2730295658111572], [3.3336868286132812], [3.4169890880584717], [3.3487162590026855], [3.67423677444458], [3.2100210189819336], [3.5995423793792725], [3.509073257446289], [3.5610132217407227], [3.105480194091797], [3.504185676574707], [3.4004290103912354], [3.7028400897979736], [3.100156545639038], [3.887805461883545], [3.158083915710449], [3.409651279449463], [3.418673515319824], [3.444387197494507], [3.569092035293579], [3.317910671234131], [3.029963254928589], [3.4660887718200684], [3.5689148902893066], [3.3563826084136963], [3.516876459121704], [3.1670923233032227], [3.410965919494629], [3.5217385292053223], [3.3759233951568604], [3.1757569313049316], [3.587827444076538], [3.230558156967163], [3.2221789360046387], [3.4235072135925293], [3.0784614086151123], [3.1533684730529785], [3.381244659423828], [3.4693820476531982], [3.4066367149353027], [3.35408091545105], [3.31387996673584], [3.6781013011932373], [3.4392049312591553], [3.112093925476074], [3.340503454208374], [3.0692100524902344], [3.4676408767700195], [3.090754747390747], [3.103512763977051], [3.3365907669067383], [3.331930160522461], [3.3071529865264893], [3.3821637630462646], [3.602566719055176], [3.3092541694641113], [3.1599056720733643], [3.580559015274048], [3.1775078773498535], [3.651653528213501], [3.407207489013672], [3.3859052658081055], [3.474153757095337], [3.312549591064453], [3.3744893074035645], [3.396162748336792], [3.276409149169922], [3.4876909255981445], [3.6983160972595215], [3.409968376159668], [3.4730582237243652], [3.3677680492401123], [3.4973855018615723], [3.131235361099243], [3.3473381996154785], [3.374484062194824], [3.663442611694336], [3.671445608139038], [3.2340564727783203], [3.536287784576416], [3.333442449569702], [3.178054094314575], [3.5275683403015137], [3.358701467514038], [3.449538230895996], [3.1576387882232666], [2.863862991333008], [3.198904037475586], [3.4268460273742676], [3.3158912658691406], [3.602353096008301], [3.3579862117767334], [3.351592540740967], [3.29754638671875], [3.420830726623535], [3.437869071960449], [3.0847456455230713], [3.8961875438690186], [3.533498764038086], [3.4835281372070312], [3.532322883605957], [3.177576780319214], [3.0606470108032227], [3.2564196586608887], [3.2369136810302734], [3.4202992916107178], [3.1628806591033936], [3.5219950675964355], [3.466503143310547], [3.1193735599517822], [3.3534908294677734], [2.9011759757995605], [3.3932528495788574], [3.443889617919922], [3.2507457733154297], [3.299522638320923], [3.280609607696533], [3.073608636856079], [3.3391456604003906], [3.409144878387451], [3.24977445602417], [2.9889039993286133], [3.232931613922119], [3.734304189682007], [3.3672122955322266], [3.5636062622070312], [3.663841724395752], [3.5464391708374023], [3.3298585414886475], [3.3699777126312256], [3.5394420623779297], [3.2448129653930664], [3.471031904220581], [3.6537117958068848], [3.380048990249634], [3.3845372200012207], [3.344984292984009], [3.4067840576171875], [3.4545342922210693], [3.3222925662994385], [3.555110454559326], [3.0370547771453857], [3.4985668659210205], [3.255579948425293], [3.253450393676758], [3.1256752014160156], [3.0278451442718506], [3.583953857421875], [3.2367489337921143], [3.2734785079956055], [3.194091796875], [3.388343334197998], [3.4266929626464844], [3.781430244445801], [3.7769830226898193], [3.2976975440979004], [2.951883316040039], [3.5563416481018066], [3.661745071411133], [3.2052865028381348], [3.4324913024902344], [3.1003384590148926], [3.5664100646972656], [3.318004608154297], [3.3422434329986572], [3.204516887664795], [3.1019253730773926], [3.1559152603149414], [3.39406418800354], [3.3115830421447754], [3.3770928382873535], [3.2637016773223877], [3.3914742469787598], [3.3862242698669434], [3.5736255645751953], [2.8870935440063477], [3.1427712440490723], [3.3004660606384277], [3.47542667388916], [3.281430959701538], [3.3921163082122803], [3.2600505352020264], [3.7514491081237793], [3.7843661308288574], [3.468184471130371], [3.0053787231445312], [2.9937751293182373], [3.5749902725219727], [3.5716331005096436], [3.356747627258301], [3.3523900508880615], [3.424100399017334], [3.6676580905914307], [3.399787664413452], [3.317023992538452], [3.2821755409240723], [2.81842303276062], [3.7099483013153076], [3.658764362335205], [3.042363166809082], [3.571345329284668], [3.013272523880005], [3.646610736846924], [3.259337902069092], [3.0428037643432617], [3.6435632705688477], [3.304272174835205], [3.75795578956604], [3.4833405017852783], [3.0468132495880127], [3.0857858657836914], [2.845493793487549], [3.58974289894104], [3.3237662315368652], [3.268735408782959], [3.4518930912017822], [3.33042049407959], [3.432447910308838], [3.773325204849243], [3.3104023933410645], [3.302168607711792], [3.231295108795166], [3.5776281356811523], [3.530941963195801], [3.27199649810791], [3.360434055328369], [3.372605800628662], [3.7456791400909424], [3.2756128311157227], [3.712960958480835], [3.4364795684814453], [3.134129524230957], [3.653669834136963], [3.126905918121338], [3.422468900680542], [3.1979875564575195], [3.034306049346924], [3.539182186126709], [3.2102861404418945], [3.3459362983703613], [3.2613556385040283], [3.179640769958496], [3.5396454334259033], [3.2573447227478027], [3.152876853942871], [3.1863999366760254], [3.441086769104004], [3.3334696292877197], [3.2961058616638184], [3.587789535522461], [3.5041627883911133], [3.3956332206726074], [3.1129536628723145], [3.3731229305267334], [3.5339508056640625], [3.3969202041625977], [3.267353057861328], [3.387681007385254], [3.5159409046173096], [3.2213847637176514], [3.456106424331665], [3.3660519123077393], [3.50516414642334], [3.40584135055542], [3.515739917755127], [3.3767433166503906], [2.774853467941284], [3.515005111694336], [3.5033843517303467], [3.457951068878174], [3.290285587310791], [3.0364813804626465], [3.6469674110412598], [3.3536550998687744], [3.2404112815856934], [3.2827675342559814], [3.2690131664276123], [3.3518075942993164], [3.6318583488464355], [3.444180965423584], [3.398033618927002], [3.3524699211120605], [3.4268791675567627], [3.733219623565674], [3.280129909515381], [3.1308462619781494], [2.6691861152648926], [3.6774258613586426], [3.2409508228302], [3.2664954662323], [3.4681005477905273], [3.4990549087524414], [3.476104736328125], [3.6862940788269043], [3.5393195152282715], [3.4074926376342773], [3.4642858505249023], [3.199209213256836], [3.473928213119507], [3.6305088996887207], [3.4148848056793213], [3.3686389923095703], [3.625089406967163], [3.4768683910369873], [3.311490774154663], [3.34464168548584], [3.2742443084716797], [3.6248762607574463], [3.4905965328216553], [3.4781808853149414], [3.589681386947632], [3.3496055603027344], [3.480767011642456], [3.3802127838134766], [3.389155149459839], [3.1838772296905518], [3.2554783821105957], [3.101969003677368], [3.2242088317871094], [3.598768472671509], [3.1808555126190186], [3.1444344520568848], [3.6755197048187256], [3.1412994861602783], [3.055751323699951], [3.6232433319091797], [3.046945333480835], [3.3429975509643555], [3.3391566276550293], [3.4538421630859375], [3.3057470321655273], [3.113091230392456], [3.685288667678833], [3.6534574031829834], [3.4828829765319824], [2.9253251552581787], [3.0954763889312744], [3.591268301010132], [3.5338635444641113], [3.4057412147521973], [3.2637810707092285], [3.0942258834838867], [3.4436113834381104], [3.2141852378845215], [3.7001590728759766], [3.220792293548584], [3.5903830528259277], [3.7433695793151855], [3.314735174179077], [3.182910680770874], [3.214200258255005], [3.061591625213623], [3.640601634979248], [3.151087760925293], [3.6473233699798584], [3.454561471939087], [3.512211799621582], [3.392144203186035], [3.394871711730957], [3.294267177581787], [3.5661864280700684], [3.174912929534912], [3.7135190963745117], [3.450420379638672], [3.318246603012085], [3.3565545082092285], [3.3631961345672607], [3.393764019012451], [3.4334523677825928], [3.3404898643493652], [3.312350273132324], [3.3784327507019043], [3.3559322357177734], [3.290036678314209], [3.36983585357666], [3.6151535511016846], [2.8858156204223633], [3.2861711978912354], [3.256122589111328], [3.36184024810791], [3.450983762741089], [3.514995574951172], [3.7260591983795166], [3.4750311374664307], [3.3547940254211426], [3.5867981910705566], [3.149003505706787], [3.1025190353393555], [3.611086845397949], [3.132497787475586], [3.3169305324554443], [2.9381394386291504], [3.3202099800109863], [3.353288412094116], [3.5263705253601074], [3.2255353927612305], [3.2812557220458984], [3.2481350898742676], [3.561400890350342], [3.1485543251037598], [3.0077919960021973], [3.49333119392395], [3.522864818572998], [3.2657413482666016], [3.431563138961792], [3.1202640533447266], [3.1733548641204834], [3.8338403701782227], [3.5623602867126465], [3.3929524421691895], [3.0311789512634277], [3.0496716499328613], [3.273102283477783], [3.802382469177246], [3.233835220336914], [3.1556501388549805], [3.2031984329223633], [3.4387426376342773], [3.776808977127075], [3.170797824859619], [3.4933688640594482], [3.041253089904785], [3.6088271141052246], [3.2715065479278564], [3.1114981174468994], [3.7465057373046875], [3.2725629806518555], [3.3791019916534424], [3.4997715950012207], [3.244370698928833], [3.172780990600586], [3.6114156246185303], [3.6796963214874268], [3.352884292602539], [3.5080442428588867], [3.416804552078247], [3.0822620391845703], [3.361497163772583], [3.388960361480713], [3.540051221847534], [3.2528457641601562], [3.1752662658691406], [3.573166608810425], [3.530550956726074], [3.3490705490112305], [3.5464038848876953], [3.163742780685425], [3.3588967323303223], [3.30159068107605], [2.985743522644043], [3.0749588012695312], [2.9971704483032227], [3.4486465454101562], [3.2394683361053467], [3.353358507156372], [3.4440231323242188], [3.371826171875], [3.8317580223083496], [3.716808795928955], [3.3570404052734375], [3.497657060623169], [3.4664416313171387], [3.441692352294922], [3.493225574493408], [3.2495174407958984], [3.6333673000335693], [3.301561117172241], [3.279937267303467], [3.3617801666259766], [3.303755283355713], [3.0786237716674805], [3.1554534435272217], [3.5066001415252686], [3.1156704425811768], [3.274979829788208], [3.4240293502807617], [3.337191343307495], [3.7160544395446777], [3.2319397926330566], [3.26926326751709], [3.337735414505005], [3.009945869445801], [3.526305675506592], [3.809769630432129], [3.3276703357696533], [3.134070634841919], [3.570435047149658], [3.3235154151916504], [3.395221710205078], [3.614058017730713], [3.4970784187316895], [3.103530168533325], [3.3010001182556152], [3.2957491874694824], [3.2881970405578613], [3.35308575630188], [3.305424690246582], [3.2682600021362305], [3.5479917526245117], [3.271267890930176], [3.5796287059783936], [3.3465614318847656], [3.5493597984313965], [3.416172504425049], [3.626711845397949], [3.286220073699951], [3.4312663078308105], [3.3348581790924072], [3.8487956523895264], [3.4004135131835938], [2.982668399810791], [3.025838851928711], [3.42460560798645], [3.0948922634124756], [3.3757052421569824], [3.36692476272583], [3.2685983180999756], [3.303311824798584], [3.313530206680298], [3.3256778717041016], [3.260100841522217], [3.4222216606140137], [3.588521957397461], [3.485988140106201], [3.4160866737365723], [3.6729283332824707], [3.05977725982666], [3.533191204071045], [3.509119749069214], [3.5620434284210205], [3.107649803161621], [3.36221981048584], [3.72397518157959], [3.248182773590088], [3.5359878540039062], [3.1379895210266113], [3.016476631164551], [3.510638952255249], [3.564039707183838], [3.3633108139038086], [3.1735072135925293], [3.108830213546753], [3.4735803604125977], [3.5620369911193848], [3.4345157146453857], [3.248613119125366], [3.3989439010620117], [3.557744026184082], [3.037313938140869], [3.389604091644287], [3.218997001647949], [3.520130157470703], [3.621914863586426], [3.614666223526001], [3.3504178524017334], [3.2361462116241455], [3.297213077545166], [3.4010541439056396], [3.3483850955963135], [3.1582093238830566], [3.4725341796875], [3.390303134918213], [3.4615907669067383], [3.5019731521606445], [3.367654800415039], [3.3003923892974854], [3.4163568019866943], [3.5382273197174072], [3.6914706230163574], [3.2996678352355957], [3.2117018699645996], [3.0221731662750244], [3.5419564247131348], [3.3693485260009766], [3.103487014770508], [3.2811131477355957], [2.9192042350769043], [3.3640363216400146], [3.435866355895996], [3.4559876918792725], [3.166083335876465], [3.450056552886963], [3.489274263381958], [3.36336612701416], [3.7056822776794434], [3.353461742401123], [2.967977523803711], [3.426992893218994], [3.3335325717926025], [3.458364486694336], [3.353384256362915], [3.2971510887145996], [3.4831295013427734], [3.221052646636963], [3.322618007659912], [3.6120445728302], [3.030183792114258], [3.58891224861145], [3.292418956756592], [3.6677756309509277], [3.4914634227752686], [3.2462501525878906], [3.272831439971924], [3.697781801223755], [3.2187159061431885], [2.8811073303222656], [2.8820362091064453], [3.395827054977417], [3.6791558265686035], [3.377664566040039], [3.261997699737549], [3.302243709564209], [3.4737377166748047], [3.5372214317321777], [3.5499958992004395], [3.4342732429504395], [3.0720014572143555], [3.3193764686584473], [3.504869222640991], [3.2283132076263428], [3.387153148651123], [3.2942657470703125], [3.678424119949341], [3.37052059173584], [3.282442092895508], [3.362787961959839], [3.2624449729919434], [3.2165040969848633], [3.4188132286071777], [3.8585331439971924], [3.4762661457061768], [2.8895068168640137], [3.4484877586364746], [3.74983811378479], [3.158745050430298], [3.4508326053619385], [3.243093490600586], [3.4963326454162598], [3.7849385738372803], [3.408447742462158], [3.4512557983398438], [3.0812020301818848], [3.5250244140625], [3.382643222808838], [3.577979326248169], [3.494645833969116], [3.194401741027832], [3.5278773307800293], [3.6142988204956055], [3.1107077598571777], [3.1795525550842285], [3.045311450958252], [3.4628851413726807], [3.4335525035858154], [3.719508647918701], [3.011106014251709], [3.225647449493408], [3.4496169090270996], [3.4460651874542236], [3.6406211853027344], [3.4908995628356934], [3.148954391479492], [3.5129494667053223], [3.7969326972961426], [3.5306131839752197], [3.0217044353485107], [3.2337543964385986], [3.4464759826660156], [3.3797502517700195], [3.526463508605957], [3.230506181716919], [3.401078701019287], [3.4615983963012695], [3.4950222969055176], [3.3325753211975098], [3.3081886768341064], [3.0149030685424805], [3.411937952041626], [3.1124277114868164], [3.319563865661621], [3.138310670852661], [3.516939163208008], [3.339592456817627], [3.1317336559295654], [3.1534619331359863], [3.1464548110961914], [3.1648313999176025], [3.3060226440429688], [3.355579376220703], [3.2077183723449707], [3.1644015312194824], [3.154750347137451], [3.5840978622436523], [3.185579776763916], [3.5858187675476074], [3.5513668060302734], [3.3098440170288086], [3.393493175506592], [3.3390138149261475], [3.4312593936920166], [3.3115639686584473], [3.334155559539795], [3.677143096923828], [3.587575912475586], [3.410273551940918], [3.150838613510132], [3.1613543033599854], [3.6459388732910156], [3.542543649673462], [3.7874932289123535], [3.224231243133545], [3.2688002586364746], [3.132047176361084], [3.3766725063323975], [3.425407886505127], [3.17596435546875], [3.148120880126953], [3.597557544708252], [2.9445157051086426], [3.2868385314941406], [3.413055896759033], [3.2764055728912354], [3.6082100868225098], [3.4458534717559814], [2.976675033569336], [3.58188533782959], [3.1081440448760986], [3.5867409706115723], [3.2098441123962402], [3.4140195846557617], [3.265627861022949], [3.0138728618621826], [3.3040850162506104], [3.220665216445923], [3.279444694519043], [3.5224361419677734], [3.670978307723999], [3.5007810592651367], [3.3615097999572754], [3.4558098316192627], [3.362595796585083], [3.3729870319366455], [3.5297045707702637], [3.5115466117858887], [3.7251009941101074], [3.3329696655273438], [3.434035062789917], [3.4510412216186523], [3.432748317718506], [3.155435800552368], [3.519653797149658], [3.444683074951172], [3.3884129524230957], [3.2622690200805664], [3.0964620113372803], [3.4088971614837646], [3.2431511878967285], [3.2147018909454346], [3.5195648670196533], [3.048661231994629], [3.3578412532806396], [3.275426149368286], [3.3326969146728516], [3.831343650817871], [3.663323163986206], [3.4657840728759766], [3.326765775680542], [3.6538023948669434], [3.3631248474121094], [3.492196798324585], [3.300075054168701], [3.3796982765197754], [3.5071659088134766], [3.102489948272705], [3.5999979972839355], [3.465984582901001], [3.1559054851531982], [3.309687614440918], [3.5778677463531494], [3.456782817840576], [3.3569958209991455], [3.0952749252319336], [3.484891414642334], [3.750980854034424], [3.3345346450805664], [3.1962249279022217], [3.194856643676758], [3.4446895122528076], [3.361753463745117], [3.5085926055908203], [3.281751871109009], [3.082003355026245], [3.382152557373047], [3.472264289855957], [3.3208374977111816], [3.5105390548706055], [3.1720972061157227], [3.5495924949645996], [3.4554624557495117], [3.4872756004333496], [3.4498443603515625], [3.4032094478607178], [3.354768991470337], [3.661224365234375], [3.1393189430236816], [3.2417802810668945], [3.2574448585510254], [3.440390110015869], [3.6776883602142334], [3.3879809379577637], [3.5898261070251465], [3.381031036376953], [3.6061432361602783], [3.4028244018554688], [3.310326099395752], [3.2592084407806396], [3.3531506061553955], [3.3150360584259033], [3.2580158710479736], [3.5587925910949707], [3.590726375579834], [3.322565793991089], [3.6165924072265625], [3.4069409370422363], [3.385782241821289], [3.0501911640167236], [3.0295517444610596], [3.492751121520996], [3.1723012924194336], [3.5812788009643555], [3.3360114097595215], [3.2515103816986084], [3.2187395095825195], [3.602872848510742], [3.575845241546631], [3.5302822589874268], [3.2808592319488525], [3.539818048477173], [3.0354936122894287], [3.32676100730896], [2.9964773654937744], [3.2565269470214844], [3.3738927841186523], [3.419703960418701], [3.4741342067718506], [3.3597793579101562], [3.3776819705963135], [3.394186496734619], [3.5813984870910645], [3.522024631500244], [3.4716224670410156], [3.20426082611084], [3.3280136585235596], [3.0883538722991943], [3.6459269523620605], [3.466392993927002], [2.9749224185943604], [3.347322940826416], [3.5988729000091553], [3.417090892791748], [3.2574875354766846], [3.2949039936065674], [3.56391978263855], [3.3340983390808105], [3.579115867614746], [3.5641040802001953], [3.5014848709106445], [3.5514183044433594], [3.7007853984832764], [3.3976235389709473], [3.6532554626464844], [3.416213035583496], [3.363119602203369], [3.210549831390381], [3.337995767593384], [3.4870314598083496], [3.2141504287719727], [3.415205240249634], [3.421645164489746], [3.546293020248413], [2.9625084400177], [3.4843268394470215], [3.6470539569854736], [3.3742823600769043], [3.560816764831543], [3.4681649208068848], [3.469210624694824], [3.333159923553467], [3.416996955871582], [3.0565900802612305], [3.052187442779541], [3.0043447017669678], [3.6673450469970703], [3.4191181659698486], [3.3296728134155273], [3.3485238552093506], [2.745900869369507], [3.6836085319519043], [3.350083112716675], [3.4411468505859375], [3.672912120819092], [3.1324210166931152], [3.381673812866211], [3.5074610710144043], [3.4451422691345215], [3.347156047821045], [3.171724796295166], [3.392458438873291], [3.47763729095459], [3.552976131439209], [3.438075065612793], [3.531299591064453], [3.4339678287506104], [3.4454948902130127], [3.695117950439453], [3.524077892303467], [3.3708877563476562], [3.5293684005737305], [3.3119988441467285], [3.4633307456970215], [3.3792872428894043], [3.1297855377197266], [3.7185680866241455], [3.5314600467681885], [3.564788579940796], [3.2509520053863525], [3.243640899658203], [3.271343946456909], [3.7896604537963867], [3.639885425567627], [3.4624195098876953], [3.3520264625549316], [3.505242347717285], [3.233628749847412], [3.4272284507751465], [3.5944337844848633], [3.111603021621704], [3.508678913116455], [3.572422742843628], [3.1244382858276367], [3.1100573539733887], [3.3226633071899414], [3.3475325107574463], [3.1825623512268066], [3.4336869716644287], [3.163429021835327], [3.437673330307007], [3.5292906761169434], [3.318296432495117], [3.1820623874664307], [3.27498722076416], [2.918452501296997], [3.4052963256835938], [3.6022987365722656], [3.9043474197387695], [3.1847968101501465], [3.414175510406494], [3.63077449798584], [3.3335225582122803], [3.5147457122802734], [3.167595386505127], [3.2498598098754883], [3.5024752616882324], [3.5445752143859863], [3.1898157596588135], [3.2239151000976562], [3.254324436187744], [3.778308868408203], [3.230764389038086], [3.199509620666504], [3.5526294708251953], [3.2198798656463623], [3.714334726333618], [3.3563547134399414], [3.383654832839966], [3.5710067749023438], [3.5778555870056152], [3.4778847694396973], [3.4713499546051025], [3.2065553665161133], [3.230316162109375], [3.3882668018341064], [3.3881430625915527], [3.572979211807251], [3.532273292541504], [3.40803599357605], [2.9500091075897217], [3.313485860824585], [3.0934581756591797], [3.182403802871704], [3.459709405899048], [3.2345712184906006], [3.4788756370544434], [3.182521343231201], [3.375455856323242], [3.715787410736084], [3.2610230445861816], [3.458047389984131], [3.2259626388549805], [3.8862342834472656], [3.1905643939971924], [3.537508249282837], [3.7566943168640137], [3.683427095413208], [3.2372658252716064], [3.373124599456787], [2.826077461242676], [3.8911561965942383], [2.9587528705596924], [3.1543259620666504], [3.4305551052093506], [3.234079122543335], [3.867433547973633], [3.069584846496582], [3.651052951812744], [3.398866891860962], [3.348027467727661], [3.43472957611084], [3.2658114433288574], [3.433619976043701], [2.925452709197998], [3.318952798843384], [3.421757459640503], [3.5923209190368652], [3.524044990539551], [3.2618470191955566], [3.378666877746582], [3.3687987327575684], [3.4011921882629395], [3.16739559173584], [2.8747239112854004], [3.3592848777770996], [3.6378984451293945], [3.8103713989257812], [3.443678855895996], [3.5308642387390137], [2.9903616905212402], [3.511077880859375], [3.517881393432617], [3.4639124870300293], [2.8509302139282227], [3.0504651069641113], [3.4884707927703857], [3.2789535522460938], [3.356287717819214], [3.401869058609009], [3.0497288703918457], [3.496551275253296], [3.300379753112793], [3.5220754146575928], [2.960455894470215], [3.052558183670044], [3.437206983566284], [3.6637847423553467], [3.6641695499420166], [3.2795846462249756], [3.1484904289245605], [3.3229928016662598], [3.354590654373169], [3.763484001159668], [3.3840134143829346], [3.202580213546753], [3.2875826358795166], [3.110847234725952], [3.482583999633789], [3.142537832260132], [3.4759762287139893], [3.4978320598602295], [3.3441522121429443], [3.224545955657959], [3.6106929779052734], [3.2156479358673096], [3.6155624389648438], [3.525859832763672], [3.6420745849609375], [3.156290292739868], [3.460094928741455], [3.358675241470337], [3.5881032943725586], [3.2444796562194824], [3.3007049560546875], [3.139651298522949], [3.310382843017578], [3.252042770385742], [3.14432692527771], [3.3875670433044434], [2.620584011077881], [3.359527111053467], [3.7488744258880615], [3.645577907562256], [3.3399178981781006], [3.0686092376708984], [3.608816146850586], [3.492689609527588], [3.4625680446624756], [3.5931882858276367], [2.7671918869018555], [3.535658836364746], [3.4450860023498535], [3.4635026454925537], [3.350672960281372], [3.0691962242126465], [3.2820076942443848], [3.2223803997039795], [3.7694711685180664], [3.4981307983398438], [2.745344877243042], [3.5058462619781494], [3.540496826171875], [3.401514768600464], [3.697633743286133], [3.2450742721557617], [3.3648314476013184], [3.4068331718444824], [3.228102445602417], [3.2823920249938965], [3.369474411010742], [3.6722843647003174], [3.4999806880950928], [3.5233092308044434], [3.213595151901245], [3.1903560161590576], [3.5486302375793457], [3.500986099243164], [3.279510021209717], [3.1123206615448], [3.3141472339630127], [3.3992533683776855], [3.5606532096862793], [3.634948253631592], [3.1887757778167725], [3.6611180305480957], [3.3850290775299072], [3.5203871726989746], [3.3178539276123047], [3.379365921020508], [3.337900161743164], [3.101072311401367], [3.0471861362457275], [3.5626111030578613], [3.7107691764831543], [3.100470781326294], [3.420921802520752], [3.388023853302002], [3.3793787956237793], [3.355128288269043], [3.473050117492676], [3.5205280780792236], [3.2934281826019287], [3.559502601623535], [3.6765635013580322], [3.0988378524780273], [3.8237452507019043], [3.3541975021362305], [3.569769859313965], [3.5003645420074463], [3.2487220764160156], [3.279109477996826], [3.7561159133911133], [3.2870032787323], [3.448725938796997], [3.621967315673828], [3.661562442779541], [3.56787109375], [3.6367692947387695], [3.421903133392334], [3.137685537338257], [3.5353879928588867], [3.7294087409973145], [3.480677604675293], [3.6247050762176514], [3.1578829288482666], [3.537377119064331], [3.4860575199127197], [3.323417901992798], [3.2186243534088135], [3.2278692722320557], [3.572223663330078], [3.3700218200683594], [3.345147132873535], [3.4327101707458496], [3.181095600128174], [3.707320213317871], [3.601799964904785], [3.246478319168091], [3.572739839553833], [3.1335995197296143], [3.9720749855041504], [3.4300894737243652], [3.6810383796691895], [3.1996874809265137], [3.1853928565979004], [3.5410163402557373], [3.475020408630371], [3.4676973819732666], [3.3714065551757812], [3.262758731842041], [3.4939217567443848], [3.425765037536621], [3.390836715698242], [3.211453676223755], [3.364023447036743], [3.4688518047332764], [3.2496538162231445], [3.4431707859039307], [3.401691436767578], [3.211599111557007], [3.539402961730957], [3.5867655277252197], [3.459658145904541], [3.228032350540161], [3.330105781555176], [3.451847791671753], [3.2902979850769043], [3.8144690990448], [3.563324451446533], [3.273855686187744], [3.4889209270477295], [3.251962661743164], [3.611469268798828], [2.8845155239105225], [3.311652660369873], [3.419997453689575], [3.304234743118286], [3.5855531692504883], [2.948281764984131], [3.1860873699188232], [3.500397205352783], [3.1887197494506836], [3.3914849758148193], [3.305880546569824], [3.0000646114349365], [3.344083309173584], [3.1700778007507324], [3.288832664489746], [3.2791247367858887], [3.3426034450531006], [3.290984630584717], [3.700164556503296], [3.371075391769409], [3.4239048957824707], [3.155745506286621], [3.609015464782715], [3.2423882484436035], [3.3058619499206543], [3.3842763900756836], [3.1960465908050537], [3.1891376972198486], [3.4139156341552734], [3.2094578742980957], [3.2864742279052734], [3.1435842514038086], [3.738340139389038], [3.2211320400238037], [3.544666290283203], [3.2846016883850098], [2.950761318206787], [3.548351764678955], [3.491089344024658], [3.289181709289551], [3.189063549041748], [3.034914255142212], [3.5217034816741943], [3.3635733127593994], [3.574489116668701], [3.4246535301208496], [2.8529958724975586], [3.3196144104003906], [3.713888645172119], [3.6104259490966797], [3.379380702972412], [3.2776474952697754], [3.640399932861328], [3.4771838188171387], [3.0365676879882812], [3.299205780029297], [2.997276782989502], [3.4924983978271484], [3.3934879302978516], [3.34076189994812], [3.1539018154144287], [3.171032190322876], [3.301598310470581], [3.8103432655334473], [3.4810147285461426], [3.276745080947876], [3.245250701904297], [3.401543140411377], [3.4047393798828125], [3.7320685386657715], [3.543980121612549], [2.9536983966827393], [3.5421884059906006], [3.2810349464416504], [3.740159273147583], [3.388468027114868], [3.588749408721924], [3.5368099212646484], [3.5622975826263428], [3.624192237854004], [3.278580904006958], [3.4885876178741455], [3.2357048988342285], [3.2490272521972656], [3.481637954711914], [2.906522750854492], [3.297147274017334], [3.221680164337158], [3.7739641666412354], [3.4126970767974854], [3.1042518615722656], [2.8333487510681152], [3.527113437652588], [3.4302353858947754], [3.500896692276001], [3.2569642066955566], [3.1116018295288086], [3.6134371757507324], [3.3899645805358887], [3.134225606918335], [3.3602843284606934], [3.1452271938323975], [3.314822196960449], [3.2381093502044678], [3.3397560119628906], [3.1978583335876465], [3.0668742656707764], [3.561720371246338], [3.3476369380950928], [3.448263645172119], [3.4182639122009277], [2.7576637268066406], [3.5196104049682617], [3.401226758956909], [3.6548352241516113], [3.2418978214263916], [3.3469667434692383], [3.393150568008423], [3.3921656608581543], [3.243495464324951], [3.135371685028076], [3.555140733718872], [3.155763626098633], [3.3367772102355957], [3.405579090118408], [3.417840003967285], [3.379209041595459], [3.568817377090454], [3.417880058288574], [3.456122875213623], [3.302649974822998], [3.5027899742126465], [3.7512097358703613], [3.3445324897766113], [3.2611312866210938], [3.2023489475250244], [3.371730089187622], [3.340519905090332], [3.596933364868164], [3.2744762897491455], [3.3408989906311035], [3.3073477745056152], [3.6963553428649902], [3.4030532836914062], [3.3741161823272705], [3.576597213745117], [3.1735901832580566], [3.3464901447296143], [3.3893659114837646], [3.5886011123657227], [3.4695677757263184], [3.1026298999786377], [3.705397844314575], [3.4349303245544434], [3.3925232887268066], [3.3313393592834473], [3.08050799369812], [3.5188469886779785], [3.4990086555480957], [3.577819347381592]]\n",
            "[0.0, 1.0, 1.0, 0.0, 0.0, 0.0, 0.0, 0.0, 1.0, 0.0, 0.0, 1.0, 0.0, 0.0, 0.0, 1.0, 0.0, 1.0, 1.0, 0.0, 0.0, 0.0, 0.0, 1.0, 0.0, 0.0, 1.0, 0.0, 1.0, 0.0, 0.0, 1.0, 1.0, 0.0, 1.0, 1.0, 0.0, 0.0, 1.0, 1.0, 1.0, 1.0, 0.0, 1.0, 1.0, 0.0, 1.0, 0.0, 0.0, 0.0, 0.0, 0.0, 0.0, 1.0, 0.0, 0.0, 1.0, 0.0, 1.0, 0.0, 0.0, 1.0, 0.0, 0.0, 0.0, 0.0, 0.0, 0.0, 1.0, 0.0, 1.0, 1.0, 0.0, 1.0, 1.0, 0.0, 0.0, 1.0, 1.0, 0.0, 1.0, 1.0, 1.0, 1.0, 0.0, 1.0, 1.0, 1.0, 1.0, 1.0, 0.0, 1.0, 0.0, 0.0, 0.0, 1.0, 0.0, 1.0, 1.0, 0.0, 0.0, 1.0, 1.0, 0.0, 1.0, 0.0, 1.0, 0.0, 1.0, 0.0, 1.0, 0.0, 0.0, 1.0, 1.0, 1.0, 0.0, 0.0, 1.0, 0.0, 0.0, 0.0, 1.0, 0.0, 0.0, 1.0, 1.0, 0.0, 0.0, 1.0, 0.0, 0.0, 1.0, 1.0, 0.0, 1.0, 1.0, 0.0, 0.0, 0.0, 0.0, 0.0, 1.0, 0.0, 1.0, 1.0, 0.0, 1.0, 0.0, 1.0, 1.0, 1.0, 1.0, 1.0, 1.0, 0.0, 0.0, 1.0, 0.0, 1.0, 0.0, 0.0, 1.0, 1.0, 0.0, 1.0, 0.0, 0.0, 1.0, 0.0, 0.0, 1.0, 0.0, 0.0, 1.0, 0.0, 1.0, 0.0, 1.0, 1.0, 1.0, 0.0, 1.0, 1.0, 1.0, 0.0, 1.0, 0.0, 1.0, 0.0, 0.0, 0.0, 0.0, 1.0, 0.0, 0.0, 0.0, 1.0, 0.0, 0.0, 0.0, 1.0, 1.0, 0.0, 0.0, 1.0, 1.0, 0.0, 0.0, 1.0, 0.0, 0.0, 0.0, 1.0, 1.0, 0.0, 0.0, 1.0, 0.0, 0.0, 0.0, 0.0, 0.0, 1.0, 0.0, 1.0, 1.0, 0.0, 1.0, 0.0, 1.0, 0.0, 0.0, 1.0, 1.0, 1.0, 0.0, 0.0, 0.0, 1.0, 1.0, 1.0, 0.0, 1.0, 0.0, 1.0, 1.0, 0.0, 0.0, 0.0, 0.0, 1.0, 1.0, 0.0, 0.0, 0.0, 0.0, 1.0, 1.0, 1.0, 1.0, 1.0, 0.0, 1.0, 0.0, 0.0, 0.0, 0.0, 0.0, 0.0, 1.0, 0.0, 1.0, 0.0, 1.0, 0.0, 1.0, 1.0, 1.0, 1.0, 0.0, 0.0, 0.0, 0.0, 1.0, 0.0, 1.0, 1.0, 0.0, 1.0, 0.0, 1.0, 1.0, 0.0, 0.0, 1.0, 1.0, 1.0, 0.0, 1.0, 1.0, 0.0, 0.0, 1.0, 1.0, 0.0, 0.0, 0.0, 1.0, 0.0, 1.0, 1.0, 0.0, 1.0, 0.0, 1.0, 1.0, 0.0, 1.0, 0.0, 0.0, 1.0, 1.0, 0.0, 0.0, 1.0, 1.0, 0.0, 1.0, 0.0, 1.0, 1.0, 1.0, 1.0, 0.0, 0.0, 0.0, 0.0, 1.0, 1.0, 0.0, 0.0, 0.0, 0.0, 0.0, 1.0, 0.0, 1.0, 1.0, 1.0, 0.0, 0.0, 0.0, 1.0, 0.0, 0.0, 1.0, 0.0, 1.0, 0.0, 1.0, 0.0, 0.0, 0.0, 0.0, 0.0, 0.0, 1.0, 1.0, 0.0, 1.0, 1.0, 1.0, 1.0, 0.0, 1.0, 1.0, 1.0, 1.0, 1.0, 0.0, 0.0, 1.0, 0.0, 1.0, 0.0, 1.0, 0.0, 1.0, 0.0, 0.0, 1.0, 1.0, 0.0, 0.0, 1.0, 0.0, 1.0, 0.0, 1.0, 1.0, 1.0, 0.0, 0.0, 0.0, 0.0, 0.0, 0.0, 0.0, 0.0, 0.0, 1.0, 1.0, 0.0, 1.0, 0.0, 0.0, 0.0, 0.0, 1.0, 1.0, 1.0, 0.0, 0.0, 0.0, 1.0, 1.0, 0.0, 1.0, 0.0, 1.0, 1.0, 1.0, 0.0, 1.0, 1.0, 1.0, 1.0, 1.0, 1.0, 0.0, 1.0, 1.0, 1.0, 1.0, 1.0, 0.0, 1.0, 1.0, 1.0, 0.0, 1.0, 0.0, 1.0, 0.0, 1.0, 0.0, 1.0, 1.0, 1.0, 1.0, 1.0, 0.0, 0.0, 0.0, 1.0, 1.0, 1.0, 1.0, 1.0, 1.0, 0.0, 0.0, 1.0, 1.0, 0.0, 0.0, 1.0, 1.0, 1.0, 1.0, 0.0, 0.0, 1.0, 0.0, 0.0, 1.0, 1.0, 1.0, 0.0, 1.0, 1.0, 0.0, 1.0, 1.0, 1.0, 1.0, 0.0, 0.0, 1.0, 0.0, 1.0, 0.0, 1.0, 0.0, 1.0, 0.0, 0.0, 1.0, 0.0, 0.0, 0.0, 0.0, 1.0, 1.0, 1.0, 0.0, 0.0, 1.0, 1.0, 1.0, 1.0, 1.0, 1.0, 1.0, 1.0, 0.0, 0.0, 1.0, 0.0, 1.0, 1.0, 1.0, 1.0, 0.0, 1.0, 1.0, 0.0, 1.0, 0.0, 0.0, 1.0, 1.0, 1.0, 1.0, 1.0, 0.0, 0.0, 1.0, 1.0, 1.0, 1.0, 1.0, 1.0, 0.0, 1.0, 0.0, 1.0, 0.0, 0.0, 1.0, 0.0, 1.0, 1.0, 1.0, 1.0, 0.0, 0.0, 1.0, 1.0, 0.0, 1.0, 1.0, 0.0, 0.0, 1.0, 0.0, 1.0, 0.0, 0.0, 1.0, 0.0, 1.0, 0.0, 0.0, 1.0, 1.0, 0.0, 1.0, 1.0, 0.0, 0.0, 1.0, 1.0, 0.0, 1.0, 1.0, 0.0, 1.0, 1.0, 0.0, 0.0, 1.0, 1.0, 1.0, 1.0, 0.0, 0.0, 0.0, 0.0, 1.0, 1.0, 1.0, 0.0, 1.0, 0.0, 0.0, 0.0, 1.0, 1.0, 1.0, 0.0, 1.0, 1.0, 1.0, 0.0, 0.0, 0.0, 0.0, 1.0, 1.0, 0.0, 1.0, 0.0, 0.0, 1.0, 0.0, 0.0, 1.0, 0.0, 0.0, 1.0, 1.0, 1.0, 0.0, 1.0, 0.0, 1.0, 0.0, 0.0, 1.0, 1.0, 1.0, 0.0, 1.0, 0.0, 1.0, 1.0, 1.0, 1.0, 0.0, 1.0, 0.0, 0.0, 1.0, 0.0, 1.0, 0.0, 0.0, 0.0, 0.0, 1.0, 0.0, 1.0, 0.0, 0.0, 0.0, 0.0, 0.0, 1.0, 0.0, 1.0, 1.0, 1.0, 1.0, 1.0, 0.0, 1.0, 1.0, 0.0, 1.0, 1.0, 0.0, 0.0, 0.0, 0.0, 0.0, 0.0, 0.0, 1.0, 0.0, 1.0, 0.0, 1.0, 1.0, 1.0, 0.0, 0.0, 1.0, 0.0, 1.0, 1.0, 0.0, 0.0, 1.0, 1.0, 1.0, 0.0, 1.0, 1.0, 0.0, 0.0, 1.0, 1.0, 0.0, 0.0, 0.0, 1.0, 1.0, 1.0, 0.0, 0.0, 0.0, 0.0, 0.0, 1.0, 0.0, 1.0, 1.0, 0.0, 0.0, 0.0, 1.0, 1.0, 1.0, 1.0, 1.0, 1.0, 0.0, 0.0, 0.0, 1.0, 0.0, 1.0, 0.0, 0.0, 1.0, 1.0, 1.0, 0.0, 0.0, 1.0, 0.0, 0.0, 0.0, 1.0, 0.0, 0.0, 1.0, 1.0, 1.0, 1.0, 0.0, 1.0, 0.0, 0.0, 0.0, 0.0, 0.0, 0.0, 0.0, 1.0, 0.0, 1.0, 0.0, 0.0, 0.0, 0.0, 0.0, 1.0, 1.0, 1.0, 1.0, 0.0, 0.0, 0.0, 1.0, 1.0, 1.0, 0.0, 0.0, 1.0, 1.0, 1.0, 0.0, 1.0, 1.0, 1.0, 0.0, 1.0, 0.0, 0.0, 0.0, 0.0, 0.0, 0.0, 1.0, 0.0, 0.0, 1.0, 0.0, 1.0, 1.0, 0.0, 0.0, 1.0, 0.0, 0.0, 0.0, 0.0, 1.0, 1.0, 0.0, 1.0, 0.0, 1.0, 0.0, 0.0, 0.0, 1.0, 0.0, 0.0, 1.0, 1.0, 1.0, 1.0, 0.0, 0.0, 1.0, 1.0, 1.0, 0.0, 0.0, 1.0, 0.0, 1.0, 0.0, 0.0, 0.0, 0.0, 1.0, 1.0, 1.0, 1.0, 1.0, 0.0, 0.0, 0.0, 0.0, 1.0, 1.0, 0.0, 0.0, 0.0, 1.0, 0.0, 0.0, 1.0, 0.0, 1.0, 1.0, 0.0, 1.0, 0.0, 0.0, 0.0, 1.0, 1.0, 1.0, 1.0, 0.0, 1.0, 0.0, 1.0, 1.0, 1.0, 0.0, 0.0, 0.0, 0.0, 0.0, 0.0, 1.0, 1.0, 1.0, 1.0, 0.0, 0.0, 0.0, 0.0, 1.0, 0.0, 1.0, 1.0, 0.0, 1.0, 0.0, 0.0, 1.0, 1.0, 1.0, 0.0, 1.0, 0.0, 0.0, 1.0, 1.0, 0.0, 0.0, 1.0, 0.0, 1.0, 0.0, 1.0, 0.0, 0.0, 0.0, 0.0, 0.0, 1.0, 0.0, 0.0, 1.0, 0.0, 0.0, 1.0, 1.0, 1.0, 0.0, 1.0, 1.0, 0.0, 0.0, 1.0, 0.0, 1.0, 0.0, 0.0, 0.0, 1.0, 0.0, 0.0, 0.0, 0.0, 1.0, 1.0, 1.0, 1.0, 1.0, 0.0, 1.0, 0.0, 1.0, 1.0, 1.0, 1.0, 0.0, 0.0, 1.0, 1.0, 0.0, 0.0, 0.0, 1.0, 0.0, 0.0, 1.0, 1.0, 1.0, 1.0, 0.0, 1.0, 0.0, 1.0, 0.0, 1.0, 0.0, 0.0, 1.0, 1.0, 0.0, 1.0, 1.0, 0.0, 0.0, 1.0, 0.0, 0.0, 1.0, 1.0, 0.0, 1.0, 1.0, 0.0, 0.0, 1.0, 0.0, 0.0, 1.0, 1.0, 0.0, 0.0, 1.0, 1.0, 1.0, 0.0, 0.0, 1.0, 0.0, 1.0, 0.0, 0.0, 0.0, 1.0, 0.0, 1.0, 1.0, 1.0, 0.0, 0.0, 1.0, 0.0, 1.0, 0.0, 1.0, 0.0, 0.0, 1.0, 0.0, 0.0, 1.0, 0.0, 1.0, 0.0, 0.0, 1.0, 1.0, 1.0, 1.0, 1.0, 0.0, 0.0, 1.0, 0.0, 1.0, 0.0, 1.0, 0.0, 1.0, 0.0, 0.0, 0.0, 1.0, 0.0, 0.0, 1.0, 0.0, 1.0, 0.0, 1.0, 1.0, 0.0, 0.0, 1.0, 1.0, 0.0, 1.0, 1.0, 0.0, 1.0, 0.0, 1.0, 0.0, 1.0, 1.0, 0.0, 0.0, 0.0, 1.0, 1.0, 0.0, 1.0, 0.0, 1.0, 1.0, 0.0, 0.0, 0.0, 1.0, 1.0, 0.0, 0.0, 0.0, 0.0, 0.0, 0.0, 1.0, 1.0, 0.0, 0.0, 1.0, 1.0, 0.0, 1.0, 0.0, 0.0, 0.0, 1.0, 0.0, 0.0, 0.0, 0.0, 1.0, 1.0, 1.0, 1.0, 0.0, 0.0, 1.0, 1.0, 0.0, 1.0, 0.0, 0.0, 0.0, 0.0, 0.0, 0.0, 0.0, 0.0, 1.0, 0.0, 1.0, 1.0, 0.0, 1.0, 0.0, 0.0, 0.0, 1.0, 1.0, 1.0, 0.0, 1.0, 1.0, 1.0, 0.0, 0.0, 1.0, 0.0, 1.0, 1.0, 1.0, 1.0, 0.0, 1.0, 0.0, 1.0, 0.0, 0.0, 0.0, 0.0, 1.0, 0.0, 1.0, 0.0, 1.0, 0.0, 0.0, 1.0, 1.0, 0.0, 0.0, 0.0, 1.0, 0.0, 1.0, 0.0, 1.0, 1.0, 0.0, 0.0, 0.0, 0.0, 1.0, 0.0, 1.0, 0.0, 0.0, 1.0, 1.0, 0.0, 0.0, 1.0, 0.0, 1.0, 1.0, 0.0, 1.0, 0.0, 0.0, 1.0, 0.0, 1.0, 0.0, 1.0, 1.0, 0.0, 1.0, 1.0, 1.0, 1.0, 0.0, 1.0, 1.0, 0.0, 1.0, 0.0, 0.0, 1.0, 0.0, 0.0, 1.0, 0.0, 1.0, 1.0, 1.0, 0.0, 0.0, 1.0, 1.0, 0.0, 0.0, 0.0, 0.0, 1.0, 0.0, 0.0, 0.0, 0.0, 1.0, 0.0, 1.0, 1.0, 1.0, 0.0, 1.0, 1.0, 1.0, 0.0, 1.0, 0.0, 1.0, 1.0, 0.0, 1.0, 1.0, 0.0, 1.0, 0.0, 1.0, 1.0, 0.0, 1.0, 0.0, 0.0, 0.0, 1.0, 1.0, 1.0, 1.0, 1.0, 0.0, 0.0, 0.0, 1.0, 1.0, 0.0, 1.0, 0.0, 0.0, 0.0, 0.0, 0.0, 1.0, 1.0, 1.0, 1.0, 1.0, 0.0, 1.0, 0.0, 1.0, 0.0, 1.0, 1.0, 0.0, 0.0, 0.0, 0.0, 0.0, 1.0, 1.0, 0.0, 0.0, 1.0, 1.0, 0.0, 1.0, 1.0, 1.0, 0.0, 1.0, 1.0, 1.0, 0.0, 0.0, 0.0, 0.0, 0.0, 0.0, 1.0, 1.0, 0.0, 1.0, 1.0, 0.0, 1.0, 1.0, 1.0, 0.0, 1.0, 0.0, 0.0, 1.0, 0.0, 1.0, 0.0, 0.0, 1.0, 0.0, 1.0, 1.0, 1.0, 0.0, 1.0, 1.0, 1.0, 0.0, 0.0, 1.0, 1.0, 1.0, 1.0, 1.0, 0.0, 0.0, 1.0, 1.0, 1.0, 1.0, 1.0, 0.0, 1.0, 1.0, 1.0, 1.0, 0.0, 1.0, 1.0, 0.0, 0.0, 1.0, 0.0, 0.0, 0.0, 0.0, 0.0, 0.0, 1.0, 0.0, 0.0, 0.0, 0.0, 1.0, 0.0, 1.0, 0.0, 0.0, 1.0, 0.0, 0.0, 1.0, 0.0, 1.0, 0.0, 0.0, 0.0, 0.0, 0.0, 0.0, 0.0, 1.0, 1.0, 1.0, 0.0, 0.0, 1.0, 1.0, 0.0, 0.0, 0.0, 0.0, 1.0, 0.0, 1.0, 1.0, 0.0, 1.0, 1.0, 0.0, 1.0, 1.0, 1.0, 1.0, 0.0, 1.0, 0.0, 1.0, 1.0, 1.0, 1.0, 0.0, 0.0, 1.0, 0.0, 0.0, 1.0, 0.0, 1.0, 0.0, 0.0, 0.0, 0.0, 0.0, 0.0, 1.0, 1.0, 0.0, 0.0, 0.0, 0.0, 0.0, 0.0, 1.0, 1.0, 0.0, 0.0, 0.0, 1.0, 1.0, 1.0, 0.0, 0.0, 1.0, 0.0, 1.0, 0.0, 1.0, 0.0, 1.0, 1.0, 1.0, 1.0, 1.0, 0.0, 1.0, 0.0, 0.0, 1.0, 1.0, 1.0, 1.0, 1.0, 0.0, 1.0, 0.0, 1.0, 0.0, 0.0, 1.0, 1.0, 1.0, 0.0, 1.0, 1.0, 1.0, 1.0, 1.0, 0.0, 1.0, 1.0, 0.0, 0.0, 1.0, 0.0, 1.0, 0.0, 0.0, 1.0, 0.0, 1.0, 0.0, 0.0, 1.0, 0.0, 0.0, 0.0, 0.0, 0.0, 1.0, 1.0, 1.0, 1.0, 0.0, 1.0, 1.0, 1.0, 0.0, 0.0, 0.0, 1.0, 1.0, 1.0, 1.0, 0.0, 1.0, 0.0, 0.0, 1.0, 1.0, 1.0, 1.0, 1.0, 0.0, 1.0, 0.0, 0.0, 1.0, 0.0, 1.0, 1.0, 0.0, 0.0, 1.0, 1.0, 1.0, 0.0, 1.0, 1.0, 0.0, 0.0, 0.0, 0.0, 0.0, 1.0, 0.0, 1.0, 0.0, 0.0, 0.0, 0.0, 1.0, 1.0, 0.0, 1.0, 0.0, 0.0, 0.0, 0.0, 1.0, 1.0, 1.0, 0.0, 0.0, 0.0, 1.0, 0.0, 0.0, 1.0, 1.0, 1.0, 1.0, 1.0, 0.0, 0.0, 0.0, 1.0, 0.0, 1.0, 1.0, 1.0, 1.0, 0.0, 1.0, 1.0, 0.0, 1.0, 1.0, 0.0, 0.0, 1.0, 1.0, 0.0, 0.0, 1.0, 1.0, 0.0, 0.0, 0.0, 0.0, 0.0, 0.0, 1.0, 0.0, 0.0, 0.0, 0.0, 1.0, 1.0, 0.0, 0.0, 0.0, 1.0, 1.0, 0.0, 0.0, 0.0, 1.0, 1.0, 1.0, 0.0, 1.0, 1.0, 0.0, 0.0, 1.0, 1.0, 0.0, 0.0, 0.0, 0.0, 0.0, 0.0, 1.0, 1.0, 1.0, 0.0, 0.0, 1.0, 1.0, 0.0, 1.0, 0.0, 0.0, 0.0, 0.0, 1.0, 1.0, 1.0, 0.0, 1.0, 1.0, 0.0, 1.0, 1.0, 0.0, 0.0, 0.0, 1.0, 1.0, 0.0, 1.0, 1.0, 1.0, 1.0, 0.0, 1.0, 1.0, 1.0, 0.0, 0.0, 1.0, 0.0, 1.0, 0.0, 0.0, 1.0, 0.0, 1.0, 1.0, 0.0, 1.0, 1.0, 0.0, 0.0, 0.0, 1.0, 1.0, 0.0, 0.0, 0.0, 0.0, 0.0, 1.0, 0.0, 0.0, 1.0, 1.0, 0.0, 0.0, 0.0, 1.0, 1.0, 1.0, 1.0, 0.0, 0.0, 1.0, 1.0, 0.0, 0.0, 0.0, 1.0, 1.0, 1.0, 1.0, 1.0, 1.0, 1.0, 0.0, 0.0, 0.0, 1.0, 0.0, 0.0, 0.0, 0.0, 1.0, 1.0, 0.0, 1.0, 0.0, 0.0, 1.0, 1.0, 0.0, 1.0, 1.0, 1.0, 0.0, 0.0, 0.0, 0.0, 1.0, 0.0, 0.0, 0.0, 1.0, 0.0, 0.0, 1.0, 0.0, 0.0, 0.0, 0.0, 0.0, 0.0, 0.0, 0.0, 1.0, 0.0, 0.0, 0.0, 1.0, 1.0, 1.0, 0.0, 0.0, 1.0, 1.0, 1.0, 0.0, 1.0, 1.0, 1.0, 1.0, 0.0, 1.0, 0.0, 0.0, 1.0, 1.0, 0.0, 0.0, 1.0, 1.0, 0.0, 0.0, 1.0, 1.0, 1.0, 1.0, 0.0, 0.0, 0.0, 1.0, 0.0, 0.0, 1.0, 0.0, 0.0, 1.0, 1.0, 0.0, 0.0, 0.0, 1.0, 1.0, 0.0, 0.0, 1.0, 1.0, 0.0, 1.0, 1.0, 0.0, 1.0, 0.0, 0.0, 1.0, 0.0, 0.0, 1.0, 0.0, 0.0, 1.0, 1.0, 1.0, 0.0, 1.0, 1.0, 0.0, 0.0, 1.0, 0.0, 1.0, 0.0, 1.0, 1.0, 1.0, 1.0, 0.0, 1.0, 1.0, 0.0, 0.0, 0.0, 1.0, 1.0, 1.0, 0.0, 0.0, 1.0, 0.0, 0.0, 1.0, 0.0, 1.0, 0.0, 0.0, 1.0, 0.0, 0.0, 1.0, 0.0, 1.0, 1.0, 0.0, 1.0, 1.0, 1.0, 1.0, 1.0, 0.0, 0.0, 0.0, 1.0, 1.0, 1.0, 0.0, 1.0, 0.0, 0.0, 1.0, 1.0, 1.0, 1.0, 1.0, 1.0, 0.0, 1.0, 0.0, 0.0, 0.0, 0.0, 0.0, 0.0, 1.0, 1.0, 1.0, 1.0, 1.0, 0.0, 0.0, 1.0, 0.0, 0.0, 0.0, 1.0, 0.0, 1.0, 0.0, 0.0, 0.0, 1.0, 1.0, 1.0, 1.0, 1.0, 0.0, 1.0, 0.0, 1.0, 0.0, 1.0, 0.0, 0.0, 1.0, 0.0, 1.0, 1.0, 0.0, 1.0, 1.0, 1.0, 1.0, 0.0, 1.0, 0.0, 0.0, 1.0, 0.0, 1.0, 0.0, 0.0, 1.0, 1.0, 1.0, 1.0, 1.0, 0.0, 1.0, 1.0, 1.0, 0.0, 1.0, 0.0, 1.0, 0.0, 0.0, 1.0, 1.0, 1.0, 0.0, 1.0, 1.0, 0.0, 1.0, 0.0, 1.0, 1.0, 0.0, 0.0, 1.0, 0.0, 1.0, 0.0, 1.0, 1.0, 1.0, 0.0, 0.0, 0.0, 1.0, 1.0, 1.0, 1.0, 0.0, 0.0, 1.0, 1.0, 1.0, 1.0, 0.0, 0.0, 0.0, 0.0, 0.0, 0.0, 0.0, 1.0, 0.0, 0.0, 0.0, 0.0, 1.0, 1.0, 1.0, 0.0, 1.0, 0.0, 1.0, 1.0, 1.0, 1.0, 1.0, 1.0, 1.0, 1.0, 0.0, 0.0, 1.0, 1.0, 1.0, 0.0, 0.0, 0.0, 1.0, 1.0, 1.0, 1.0, 1.0, 0.0, 1.0, 1.0, 0.0, 0.0, 1.0, 1.0, 0.0, 0.0, 1.0, 1.0, 0.0, 1.0, 1.0, 0.0, 0.0, 1.0, 1.0, 0.0, 1.0, 1.0, 0.0, 0.0, 1.0, 0.0, 0.0, 0.0, 1.0, 1.0, 0.0, 0.0, 0.0, 1.0, 1.0, 0.0, 0.0, 0.0, 1.0, 1.0, 1.0, 1.0, 1.0, 0.0, 0.0, 0.0, 0.0, 0.0, 0.0, 1.0, 1.0, 1.0, 0.0, 0.0, 1.0, 0.0, 1.0, 1.0, 0.0, 1.0, 1.0, 1.0, 1.0, 1.0, 0.0, 0.0, 0.0, 0.0, 1.0, 1.0, 0.0, 1.0, 1.0, 1.0, 0.0, 1.0, 0.0, 1.0, 1.0, 0.0, 0.0, 1.0, 0.0, 1.0, 0.0, 1.0, 1.0, 0.0, 0.0, 0.0, 0.0, 1.0, 0.0, 1.0, 0.0, 0.0, 1.0, 0.0, 0.0, 0.0, 1.0, 1.0, 0.0, 0.0, 0.0, 1.0, 1.0, 1.0, 0.0, 0.0, 0.0, 1.0, 0.0, 0.0, 1.0, 1.0, 1.0, 0.0, 0.0, 0.0, 1.0, 0.0, 0.0, 1.0, 1.0, 0.0, 0.0, 1.0, 1.0, 0.0, 1.0, 1.0, 0.0, 1.0, 1.0, 0.0, 0.0, 0.0, 1.0, 1.0, 1.0, 1.0, 1.0, 0.0, 1.0, 1.0, 1.0, 0.0, 0.0, 1.0, 0.0, 1.0, 1.0, 1.0, 1.0, 0.0, 0.0, 1.0, 1.0, 0.0, 1.0, 1.0, 0.0, 0.0, 0.0, 0.0, 0.0, 1.0, 0.0, 0.0, 0.0, 1.0, 0.0, 1.0, 1.0, 1.0, 0.0, 1.0, 0.0, 1.0, 1.0, 0.0, 0.0, 0.0, 1.0, 1.0, 1.0, 0.0, 1.0, 0.0, 0.0, 0.0, 0.0, 1.0, 1.0, 0.0, 0.0, 0.0, 1.0, 0.0, 1.0, 0.0, 1.0, 1.0, 1.0, 0.0, 1.0, 0.0, 0.0, 0.0, 0.0, 1.0, 0.0, 1.0, 0.0, 1.0, 0.0, 0.0, 1.0, 1.0, 1.0, 1.0, 0.0, 1.0, 1.0, 1.0, 0.0, 0.0, 1.0, 1.0, 0.0, 1.0, 0.0, 1.0, 0.0, 0.0, 0.0, 0.0, 0.0, 1.0, 1.0, 0.0, 1.0, 1.0, 0.0, 1.0, 0.0, 0.0, 0.0, 1.0, 0.0, 0.0, 0.0, 0.0, 1.0, 0.0, 1.0, 0.0, 0.0, 1.0, 1.0, 1.0, 1.0, 0.0, 0.0, 1.0, 1.0, 0.0, 0.0, 1.0, 0.0, 0.0, 0.0, 0.0, 0.0, 1.0, 1.0, 1.0, 0.0, 1.0, 1.0, 0.0, 1.0, 1.0, 0.0, 1.0, 0.0, 0.0, 0.0, 1.0, 0.0, 1.0, 1.0, 1.0, 1.0, 1.0, 1.0, 0.0, 0.0, 1.0, 1.0, 0.0, 0.0, 0.0, 1.0, 1.0, 1.0, 1.0, 1.0, 0.0, 1.0, 1.0, 1.0, 0.0, 1.0, 0.0, 1.0, 1.0, 0.0, 0.0, 0.0, 0.0, 0.0, 1.0, 1.0, 0.0, 1.0, 1.0, 1.0, 0.0, 1.0, 0.0, 0.0, 0.0, 1.0, 0.0, 1.0, 0.0, 1.0, 1.0, 1.0, 1.0, 0.0, 0.0, 0.0, 0.0, 0.0, 1.0, 1.0, 1.0, 1.0, 1.0, 0.0, 0.0, 0.0, 0.0, 1.0, 0.0, 0.0, 0.0, 1.0, 1.0, 1.0, 1.0, 0.0, 0.0, 0.0, 0.0, 0.0, 0.0, 1.0, 1.0, 0.0, 1.0, 0.0, 0.0, 0.0, 1.0, 1.0, 1.0, 1.0, 0.0, 0.0, 1.0, 0.0, 1.0, 1.0, 1.0, 1.0, 1.0, 1.0, 0.0, 0.0, 0.0, 0.0, 0.0, 1.0, 0.0, 0.0, 1.0, 0.0, 0.0, 1.0, 0.0, 0.0, 0.0, 1.0, 1.0, 1.0, 1.0, 0.0, 1.0, 1.0, 1.0, 1.0, 0.0, 1.0, 1.0, 1.0, 1.0, 1.0, 1.0, 0.0, 0.0, 1.0, 0.0, 0.0, 1.0, 1.0, 1.0, 1.0, 0.0, 1.0, 1.0, 0.0, 0.0, 0.0, 0.0, 0.0, 0.0, 1.0, 1.0, 0.0, 1.0, 1.0, 0.0, 1.0, 1.0, 1.0, 1.0, 0.0, 0.0, 1.0, 1.0, 0.0, 0.0, 1.0, 0.0, 0.0, 1.0, 1.0, 0.0, 1.0, 1.0, 0.0, 0.0, 0.0, 1.0, 1.0, 1.0, 1.0, 1.0, 1.0, 0.0, 1.0, 0.0, 1.0, 0.0, 1.0, 0.0, 0.0, 1.0, 1.0, 1.0, 1.0, 1.0, 1.0, 0.0, 0.0, 1.0, 1.0, 0.0, 0.0, 1.0, 1.0, 0.0, 1.0, 1.0, 0.0, 1.0, 1.0, 1.0, 1.0, 0.0, 0.0, 0.0, 1.0, 0.0, 1.0, 0.0, 0.0, 0.0, 1.0, 1.0, 0.0, 0.0, 0.0, 0.0, 1.0, 0.0, 0.0, 0.0, 0.0, 0.0, 1.0, 0.0, 1.0, 0.0, 0.0, 0.0, 1.0, 1.0, 0.0, 0.0, 0.0, 0.0, 1.0, 0.0, 0.0, 0.0, 0.0, 1.0, 1.0, 1.0, 0.0, 1.0, 1.0, 1.0, 0.0, 0.0, 1.0, 1.0, 0.0, 0.0, 0.0, 0.0, 1.0, 0.0, 0.0, 1.0, 0.0, 1.0, 1.0, 1.0, 1.0, 0.0, 0.0, 0.0, 0.0, 0.0, 0.0, 0.0, 0.0, 1.0, 1.0, 1.0, 1.0, 1.0, 1.0, 0.0, 0.0, 1.0, 1.0, 0.0, 1.0, 0.0, 1.0, 0.0, 0.0, 1.0, 1.0, 1.0, 1.0, 1.0, 1.0, 1.0, 1.0, 1.0, 1.0, 1.0, 1.0, 1.0, 0.0, 0.0, 1.0, 1.0, 0.0, 0.0, 1.0, 1.0, 1.0, 0.0, 0.0, 0.0, 1.0, 1.0, 1.0, 1.0, 1.0, 0.0, 1.0, 1.0, 0.0, 0.0, 0.0, 1.0, 0.0, 1.0, 0.0, 0.0, 0.0, 0.0, 1.0, 1.0, 0.0, 1.0, 1.0, 0.0, 1.0, 0.0, 1.0, 1.0, 0.0, 0.0, 1.0, 1.0, 0.0, 0.0, 1.0, 0.0, 1.0, 1.0, 0.0, 1.0, 1.0, 1.0, 1.0, 1.0, 1.0, 0.0, 1.0, 1.0, 0.0, 1.0, 0.0, 1.0, 0.0, 1.0, 0.0, 1.0, 0.0, 0.0, 0.0, 1.0, 1.0, 0.0, 1.0, 0.0, 0.0, 1.0, 0.0, 1.0, 1.0, 0.0, 1.0, 1.0, 0.0, 1.0, 0.0, 1.0, 0.0, 0.0, 0.0, 1.0, 1.0, 1.0, 1.0, 1.0, 0.0, 1.0, 0.0, 1.0, 1.0, 0.0, 1.0, 0.0, 1.0, 1.0, 0.0, 0.0, 1.0, 1.0, 1.0, 0.0, 1.0, 0.0, 1.0, 0.0, 0.0, 0.0, 0.0, 0.0, 1.0, 0.0, 1.0, 1.0, 0.0, 0.0, 1.0, 0.0, 0.0, 1.0, 1.0, 1.0, 1.0, 0.0, 1.0, 1.0, 1.0, 1.0, 0.0, 1.0, 0.0, 1.0, 0.0, 1.0, 1.0, 0.0, 0.0, 1.0, 1.0, 0.0, 1.0, 0.0, 0.0, 1.0, 0.0, 0.0, 1.0, 0.0, 1.0, 0.0, 1.0, 0.0, 0.0, 1.0, 1.0, 1.0, 1.0, 0.0, 1.0, 1.0, 0.0, 0.0, 1.0, 0.0, 1.0, 1.0, 0.0, 0.0, 1.0, 0.0, 0.0, 1.0, 0.0, 0.0, 0.0, 0.0, 0.0, 0.0, 1.0, 0.0, 1.0, 0.0, 1.0, 0.0, 1.0, 0.0, 1.0, 1.0, 1.0, 0.0, 0.0, 1.0, 0.0, 1.0, 0.0, 0.0, 1.0, 0.0, 0.0, 0.0, 1.0, 0.0, 1.0, 0.0, 0.0, 1.0, 0.0, 0.0, 0.0, 1.0, 1.0, 1.0, 0.0, 0.0, 0.0, 0.0, 1.0, 1.0, 0.0, 1.0, 0.0, 0.0, 1.0, 1.0, 0.0, 1.0, 1.0, 0.0, 1.0, 0.0, 1.0, 0.0, 0.0, 0.0, 0.0, 1.0, 1.0, 1.0, 0.0, 0.0, 0.0, 1.0, 1.0, 0.0, 0.0, 1.0, 1.0, 1.0, 1.0, 0.0, 1.0, 1.0, 0.0, 1.0, 0.0, 0.0, 0.0, 0.0, 1.0, 0.0, 0.0, 1.0, 0.0, 1.0, 1.0, 1.0, 1.0, 0.0, 1.0, 0.0, 1.0, 0.0, 0.0, 1.0, 1.0, 1.0, 0.0, 0.0, 0.0, 1.0, 1.0, 0.0, 0.0, 1.0, 0.0, 1.0, 0.0, 0.0, 1.0, 1.0, 0.0, 0.0, 1.0, 0.0, 0.0, 1.0, 1.0, 0.0, 1.0, 0.0, 0.0, 0.0, 0.0, 0.0, 1.0, 1.0, 0.0, 1.0, 1.0, 0.0, 1.0, 1.0, 0.0, 1.0, 1.0, 1.0, 1.0, 1.0, 0.0, 0.0, 1.0, 1.0, 1.0, 1.0, 0.0, 0.0, 1.0, 0.0, 1.0, 1.0, 0.0, 0.0, 0.0, 1.0, 0.0, 0.0, 0.0, 1.0, 0.0, 0.0, 1.0, 1.0, 1.0, 0.0, 0.0, 1.0, 0.0, 0.0, 1.0, 1.0, 1.0, 0.0, 0.0, 1.0, 1.0, 1.0, 0.0, 1.0, 0.0, 1.0, 0.0, 1.0, 0.0, 1.0, 0.0, 0.0, 1.0, 0.0, 0.0, 0.0, 0.0, 1.0, 0.0, 1.0, 0.0, 1.0, 0.0, 1.0, 1.0, 0.0, 1.0, 1.0, 1.0, 0.0, 0.0, 0.0, 1.0, 1.0, 1.0, 1.0, 0.0, 1.0, 0.0, 1.0, 0.0, 1.0, 1.0, 0.0, 0.0, 0.0, 1.0, 0.0, 0.0, 0.0, 1.0, 1.0, 1.0, 0.0, 1.0, 1.0, 0.0, 0.0, 0.0, 1.0, 0.0, 1.0, 1.0, 1.0, 0.0, 1.0, 1.0, 0.0, 1.0, 0.0, 0.0, 0.0, 1.0, 1.0, 0.0, 1.0, 0.0, 1.0, 0.0, 1.0, 0.0, 0.0, 0.0, 0.0, 1.0, 0.0, 0.0, 1.0, 0.0, 0.0, 0.0, 0.0, 0.0, 1.0, 1.0, 1.0, 1.0, 0.0, 1.0, 1.0, 1.0, 1.0, 1.0, 1.0, 1.0, 0.0, 1.0, 1.0, 0.0, 0.0, 1.0, 0.0, 0.0, 1.0, 1.0, 0.0, 1.0, 1.0, 0.0, 1.0, 1.0, 0.0, 0.0, 0.0, 1.0, 0.0, 1.0, 0.0, 0.0, 0.0, 1.0, 1.0, 0.0, 1.0, 0.0, 1.0, 0.0, 0.0, 1.0, 1.0, 0.0, 0.0, 1.0, 1.0, 0.0, 1.0, 0.0, 0.0, 1.0, 1.0, 1.0, 0.0, 1.0, 1.0, 1.0, 0.0, 0.0, 1.0, 0.0, 0.0, 1.0, 1.0, 0.0, 0.0, 1.0, 1.0, 1.0, 0.0, 1.0, 0.0, 0.0, 1.0, 0.0, 0.0, 1.0, 1.0, 0.0, 0.0, 0.0, 1.0, 0.0, 1.0, 0.0, 0.0, 0.0, 0.0, 1.0, 1.0, 1.0, 0.0, 1.0, 1.0, 1.0, 1.0, 0.0, 1.0, 1.0, 0.0, 0.0, 1.0, 0.0, 0.0, 1.0, 0.0, 1.0, 1.0, 1.0, 0.0, 1.0, 1.0, 0.0, 0.0, 0.0, 1.0, 0.0, 1.0, 0.0, 0.0, 1.0, 1.0, 1.0, 1.0, 0.0, 0.0, 1.0, 1.0, 0.0, 0.0, 1.0, 0.0, 0.0, 0.0, 0.0, 1.0, 0.0, 1.0, 0.0, 0.0, 1.0, 0.0, 0.0, 1.0, 1.0, 1.0, 1.0, 0.0, 1.0, 0.0, 1.0, 1.0, 1.0, 1.0, 0.0, 0.0, 1.0, 1.0, 1.0, 1.0, 0.0, 0.0, 1.0, 1.0, 0.0, 0.0, 0.0, 1.0, 1.0, 0.0, 0.0, 1.0, 1.0, 1.0, 0.0, 0.0, 1.0, 1.0, 0.0, 0.0, 0.0, 0.0, 0.0, 0.0, 1.0, 0.0, 0.0, 0.0, 0.0, 1.0, 1.0, 1.0, 1.0, 0.0, 1.0, 1.0, 0.0, 1.0, 1.0, 0.0, 0.0, 1.0, 1.0, 0.0, 0.0, 1.0, 1.0, 1.0, 0.0, 1.0, 0.0, 1.0, 1.0, 1.0, 1.0, 1.0, 0.0, 1.0, 1.0, 0.0, 1.0, 0.0, 0.0, 1.0, 1.0, 0.0, 1.0, 1.0, 1.0, 1.0, 0.0, 1.0, 0.0, 0.0, 0.0, 0.0, 1.0, 0.0, 1.0, 1.0, 0.0, 1.0, 0.0, 0.0, 1.0, 0.0, 0.0, 1.0, 0.0, 0.0, 0.0, 0.0, 1.0, 1.0, 1.0, 1.0, 1.0, 1.0, 1.0, 0.0, 1.0, 0.0, 0.0, 1.0, 1.0, 1.0, 0.0, 0.0, 1.0, 1.0, 0.0, 0.0, 1.0, 1.0, 0.0, 1.0, 1.0, 1.0, 1.0, 0.0, 0.0, 0.0, 1.0, 0.0, 0.0, 1.0, 0.0, 0.0, 0.0, 1.0, 1.0, 0.0, 1.0, 1.0, 0.0, 0.0, 0.0, 1.0, 1.0, 0.0, 1.0, 0.0, 0.0, 1.0, 1.0, 1.0, 0.0, 0.0, 0.0, 1.0, 1.0, 1.0, 1.0, 0.0, 0.0, 1.0, 0.0, 1.0, 0.0, 1.0, 1.0, 0.0, 0.0, 0.0, 1.0, 0.0, 1.0, 0.0, 1.0, 0.0, 0.0, 1.0, 1.0, 1.0, 1.0, 0.0, 0.0, 1.0, 1.0, 1.0, 0.0, 0.0, 1.0, 1.0, 1.0, 0.0, 0.0, 1.0, 1.0, 1.0, 1.0, 1.0, 0.0, 0.0, 1.0, 1.0, 1.0, 1.0, 1.0, 0.0, 1.0, 1.0, 0.0, 1.0, 0.0, 0.0, 1.0, 0.0, 1.0, 1.0, 1.0, 0.0, 0.0, 0.0, 0.0, 0.0, 0.0, 0.0, 1.0, 0.0, 1.0, 0.0, 1.0, 0.0, 0.0, 0.0, 1.0, 0.0, 1.0, 0.0, 1.0, 0.0, 0.0, 0.0, 0.0, 1.0, 1.0, 0.0, 0.0, 0.0, 0.0, 0.0, 1.0, 0.0, 0.0, 1.0, 0.0, 0.0, 1.0, 1.0, 1.0, 0.0, 1.0, 0.0, 0.0, 1.0, 1.0, 0.0, 0.0, 0.0, 0.0, 0.0, 0.0, 0.0, 0.0, 0.0, 0.0, 1.0, 0.0, 0.0, 1.0, 0.0, 1.0, 0.0, 0.0, 1.0, 0.0, 1.0, 1.0, 1.0, 1.0, 1.0, 0.0, 1.0, 1.0, 0.0, 1.0, 1.0, 1.0, 1.0, 0.0, 0.0, 1.0, 0.0, 1.0, 0.0, 1.0, 1.0, 0.0, 1.0, 1.0, 1.0, 0.0, 1.0, 1.0, 1.0, 0.0, 0.0, 1.0, 1.0, 1.0, 1.0, 0.0, 0.0, 0.0, 1.0, 1.0, 0.0, 0.0, 1.0, 1.0, 1.0, 1.0, 1.0, 0.0, 1.0, 1.0, 0.0, 1.0, 1.0, 0.0, 1.0, 0.0, 1.0, 1.0, 1.0, 1.0, 1.0, 1.0, 0.0, 0.0, 1.0, 1.0, 0.0, 1.0, 1.0, 1.0, 0.0, 0.0, 1.0, 1.0, 1.0, 0.0, 0.0, 1.0, 1.0, 0.0, 1.0, 1.0, 1.0, 1.0, 1.0, 0.0, 0.0, 0.0, 1.0, 0.0, 0.0, 1.0, 0.0, 0.0, 1.0, 1.0, 1.0, 0.0, 0.0, 0.0, 1.0, 0.0, 1.0, 0.0, 1.0, 1.0, 1.0, 1.0, 1.0, 1.0, 0.0, 0.0, 0.0, 1.0, 1.0, 0.0, 0.0, 0.0, 1.0, 1.0, 1.0, 0.0, 1.0, 0.0, 1.0, 1.0, 0.0, 1.0, 1.0, 0.0, 1.0, 1.0, 1.0, 1.0, 0.0, 0.0, 0.0, 1.0, 0.0, 1.0, 1.0, 0.0, 0.0, 0.0, 0.0, 1.0, 1.0, 1.0, 0.0, 0.0, 0.0, 0.0, 0.0, 1.0, 1.0, 0.0, 0.0, 0.0, 1.0, 1.0, 1.0, 0.0, 1.0, 1.0, 1.0, 0.0, 0.0, 0.0, 0.0, 0.0, 1.0, 0.0, 0.0, 1.0, 1.0, 1.0, 0.0, 0.0, 1.0, 1.0, 0.0, 1.0, 0.0, 1.0, 0.0, 0.0, 1.0, 0.0, 1.0, 0.0, 0.0, 1.0, 0.0, 0.0, 1.0, 1.0, 1.0, 1.0, 0.0, 1.0, 1.0, 0.0, 0.0, 0.0, 0.0, 0.0, 1.0, 1.0, 0.0, 0.0, 1.0, 0.0, 0.0, 0.0, 0.0, 0.0, 1.0, 1.0, 0.0, 0.0, 1.0, 1.0, 1.0, 0.0, 0.0, 1.0, 1.0, 1.0, 1.0, 1.0, 0.0, 1.0, 0.0, 1.0, 1.0, 1.0, 1.0, 1.0, 0.0, 0.0, 1.0, 0.0, 1.0, 0.0, 0.0, 1.0, 1.0, 0.0, 1.0, 1.0, 1.0, 1.0, 1.0, 1.0, 0.0, 0.0, 1.0, 0.0, 1.0, 1.0, 0.0, 0.0, 1.0, 1.0, 0.0, 0.0, 0.0, 1.0, 0.0, 1.0, 0.0, 0.0, 0.0, 1.0, 1.0, 1.0, 1.0, 1.0, 1.0, 0.0, 0.0, 1.0, 1.0, 1.0, 0.0, 1.0, 0.0, 1.0, 0.0, 0.0, 0.0, 1.0, 0.0, 0.0, 1.0, 0.0, 0.0, 1.0, 1.0, 0.0, 0.0, 0.0, 0.0, 0.0, 0.0, 0.0, 0.0, 1.0, 0.0, 0.0, 1.0, 1.0, 1.0, 0.0, 0.0, 0.0, 1.0, 1.0, 1.0, 1.0, 0.0, 0.0, 0.0, 1.0, 1.0, 1.0, 1.0, 0.0, 0.0, 0.0, 1.0, 1.0, 1.0, 1.0, 1.0, 1.0, 0.0, 0.0, 0.0, 1.0, 0.0, 1.0, 1.0, 0.0, 0.0, 1.0, 1.0, 1.0, 0.0, 0.0, 1.0, 1.0, 1.0, 0.0, 1.0, 0.0, 1.0, 0.0, 0.0, 1.0, 1.0, 1.0, 0.0, 1.0, 1.0, 1.0, 0.0, 1.0, 0.0, 0.0, 0.0, 1.0, 1.0, 0.0, 1.0, 1.0, 0.0, 1.0, 1.0, 1.0, 1.0, 0.0, 0.0, 1.0, 0.0, 1.0, 0.0, 1.0, 0.0, 0.0, 0.0, 1.0, 0.0, 1.0, 0.0, 1.0, 0.0, 1.0, 0.0, 1.0, 1.0, 1.0, 0.0, 0.0, 1.0, 0.0, 1.0, 1.0, 1.0, 0.0, 0.0, 1.0, 0.0, 0.0, 1.0, 1.0, 1.0, 0.0, 0.0, 0.0, 0.0, 1.0, 1.0, 1.0, 1.0, 1.0, 1.0, 0.0, 1.0, 1.0, 0.0, 0.0, 0.0, 0.0, 0.0, 0.0, 1.0, 0.0, 0.0, 1.0, 1.0, 0.0, 1.0, 1.0, 1.0, 1.0, 0.0, 0.0, 0.0, 1.0, 1.0, 1.0, 1.0, 1.0, 0.0, 0.0, 0.0, 1.0, 0.0, 1.0, 0.0, 0.0, 0.0, 1.0, 0.0, 0.0, 1.0, 1.0, 1.0, 0.0, 1.0, 0.0, 1.0, 1.0, 0.0, 0.0, 1.0, 0.0, 0.0, 1.0, 0.0, 0.0, 1.0, 0.0, 0.0, 1.0, 0.0, 1.0, 0.0, 1.0, 1.0, 1.0, 0.0, 0.0, 0.0, 1.0, 1.0, 0.0, 0.0, 1.0, 1.0, 0.0, 0.0, 1.0, 0.0, 0.0, 0.0, 0.0, 1.0, 0.0, 0.0, 1.0, 0.0, 1.0, 0.0, 0.0, 1.0, 1.0, 0.0, 1.0, 1.0, 0.0, 1.0, 0.0, 1.0, 1.0, 0.0, 0.0, 1.0, 1.0, 0.0, 0.0, 1.0, 0.0, 0.0, 1.0, 1.0, 1.0, 0.0, 0.0, 1.0, 1.0, 1.0, 1.0, 0.0, 0.0, 1.0, 0.0, 0.0, 1.0, 1.0, 0.0, 0.0, 1.0, 1.0, 0.0, 1.0, 1.0, 0.0, 0.0, 1.0, 0.0, 0.0, 1.0, 0.0, 1.0, 1.0, 0.0, 0.0, 1.0, 0.0, 0.0, 1.0, 1.0, 1.0, 1.0, 0.0, 0.0, 1.0, 0.0, 1.0, 0.0, 0.0, 1.0, 0.0, 0.0, 0.0, 1.0, 0.0, 0.0, 1.0, 1.0, 1.0, 0.0, 0.0, 1.0, 1.0, 1.0, 1.0, 0.0, 0.0, 0.0, 0.0, 1.0, 0.0, 0.0, 0.0, 0.0, 0.0, 1.0, 0.0, 1.0, 1.0, 1.0, 1.0, 0.0, 0.0, 1.0, 0.0, 1.0, 0.0, 0.0, 0.0, 0.0, 0.0, 0.0, 1.0, 1.0, 1.0, 1.0, 0.0, 0.0, 0.0, 1.0, 1.0, 0.0, 1.0, 0.0, 1.0, 1.0, 1.0, 1.0, 0.0, 1.0, 0.0, 1.0, 1.0, 1.0, 1.0, 1.0, 0.0, 0.0, 1.0, 0.0, 0.0, 0.0, 1.0, 0.0, 1.0, 1.0, 0.0, 1.0, 0.0, 0.0, 0.0, 1.0, 1.0, 0.0, 1.0, 0.0, 1.0, 0.0, 0.0, 1.0, 0.0, 1.0, 1.0, 0.0, 1.0, 0.0, 1.0, 0.0, 1.0, 0.0, 1.0, 1.0, 1.0, 1.0, 0.0, 0.0, 0.0, 1.0, 1.0, 1.0, 1.0, 0.0, 0.0, 0.0, 0.0, 0.0, 1.0, 0.0, 1.0, 0.0, 0.0, 1.0, 0.0, 0.0, 1.0, 1.0, 0.0, 1.0, 0.0, 1.0, 0.0, 1.0, 1.0, 1.0, 1.0, 0.0, 0.0, 1.0, 0.0, 1.0, 0.0, 1.0, 0.0, 1.0, 1.0, 0.0, 1.0, 0.0, 0.0, 0.0, 0.0, 0.0, 1.0, 0.0, 0.0, 1.0, 0.0, 0.0, 1.0, 0.0, 0.0, 1.0, 0.0, 1.0, 1.0, 0.0, 0.0, 1.0, 1.0, 1.0, 1.0, 0.0, 1.0, 0.0, 1.0, 1.0, 0.0, 1.0, 1.0, 1.0, 1.0, 1.0, 1.0, 0.0, 0.0, 0.0, 0.0, 1.0, 0.0, 1.0, 0.0, 1.0, 0.0, 1.0, 0.0, 1.0, 0.0, 1.0, 0.0, 1.0, 1.0, 1.0, 0.0, 1.0, 1.0, 1.0, 1.0, 1.0, 0.0, 0.0, 0.0, 1.0, 0.0, 1.0, 1.0, 1.0, 1.0, 1.0, 1.0, 0.0, 1.0, 0.0, 1.0, 0.0, 0.0, 0.0, 0.0, 1.0, 1.0, 0.0, 1.0, 1.0, 0.0, 1.0, 0.0, 1.0, 1.0, 1.0, 1.0, 0.0, 1.0, 1.0, 1.0, 1.0, 0.0, 0.0, 0.0, 0.0, 0.0, 1.0, 0.0, 0.0, 0.0, 0.0, 1.0, 0.0, 0.0, 0.0, 1.0, 1.0, 1.0, 1.0, 0.0, 1.0, 0.0, 0.0, 0.0, 0.0, 1.0, 0.0, 1.0, 1.0, 1.0, 0.0, 0.0, 1.0, 1.0, 1.0, 1.0, 0.0, 0.0, 0.0, 1.0, 0.0, 0.0, 0.0, 1.0, 0.0, 0.0, 1.0, 0.0, 1.0, 1.0, 1.0, 0.0, 0.0, 0.0, 0.0, 0.0, 1.0, 1.0, 1.0, 1.0, 0.0, 0.0, 0.0, 1.0, 0.0, 0.0, 0.0, 1.0, 0.0, 1.0, 1.0, 0.0, 0.0, 0.0, 0.0, 0.0, 1.0, 1.0, 0.0, 1.0, 0.0, 0.0, 0.0, 1.0, 0.0, 0.0, 1.0, 1.0, 0.0, 0.0, 1.0, 1.0, 1.0, 1.0, 0.0, 0.0, 0.0, 0.0, 1.0, 1.0, 0.0, 0.0, 0.0, 0.0, 1.0, 0.0, 0.0, 0.0, 0.0, 0.0, 1.0, 0.0, 1.0, 0.0, 0.0, 0.0, 0.0, 0.0, 1.0, 0.0, 0.0, 1.0, 0.0, 1.0, 0.0, 1.0, 1.0, 1.0, 0.0, 1.0, 1.0, 0.0, 0.0, 1.0, 0.0, 1.0, 1.0, 1.0, 0.0, 1.0, 1.0, 1.0, 1.0, 0.0, 1.0, 1.0, 0.0, 0.0, 0.0, 1.0, 1.0, 1.0, 0.0, 0.0, 1.0, 1.0, 1.0, 1.0, 1.0, 1.0, 1.0, 0.0, 0.0, 1.0, 0.0, 0.0, 0.0, 1.0, 1.0, 1.0, 1.0, 0.0, 1.0, 1.0, 1.0, 0.0, 1.0, 0.0, 0.0, 0.0, 1.0, 0.0, 1.0, 1.0, 0.0, 0.0, 0.0, 1.0, 1.0, 1.0, 1.0, 1.0, 1.0, 1.0, 1.0, 0.0, 1.0, 1.0, 1.0, 1.0, 0.0, 1.0, 1.0, 1.0, 1.0, 0.0, 0.0, 0.0, 1.0, 1.0, 1.0, 0.0, 0.0, 1.0, 1.0, 1.0, 1.0, 1.0, 1.0, 0.0, 0.0, 0.0, 0.0, 0.0, 0.0, 0.0, 0.0, 1.0, 0.0, 1.0, 1.0, 1.0, 1.0, 1.0, 1.0, 1.0, 1.0, 1.0, 0.0, 1.0, 0.0, 1.0, 1.0, 1.0, 0.0, 0.0, 1.0, 1.0, 1.0, 1.0, 1.0, 0.0, 0.0, 0.0, 1.0, 1.0, 0.0, 1.0, 1.0, 0.0, 0.0, 1.0, 1.0, 1.0, 0.0, 0.0, 1.0, 0.0, 1.0, 0.0, 0.0, 0.0, 0.0, 1.0, 1.0, 0.0, 0.0, 1.0, 1.0, 0.0, 0.0, 0.0, 0.0, 0.0, 0.0, 0.0, 1.0, 1.0, 0.0, 0.0, 1.0, 0.0, 1.0, 0.0, 1.0, 0.0, 0.0, 0.0, 0.0, 1.0, 1.0, 1.0, 1.0, 0.0, 1.0, 0.0, 1.0, 1.0, 0.0, 0.0, 0.0, 1.0, 1.0, 0.0, 0.0, 0.0, 0.0, 0.0, 0.0, 0.0, 0.0, 0.0, 0.0, 0.0, 1.0, 1.0, 1.0, 1.0, 0.0, 0.0, 0.0, 1.0, 0.0, 0.0, 0.0, 1.0, 0.0, 0.0, 0.0, 0.0, 1.0, 0.0, 0.0, 0.0, 0.0, 0.0, 0.0, 0.0, 1.0, 1.0, 1.0, 1.0, 0.0, 0.0, 0.0, 0.0, 1.0, 1.0, 0.0, 1.0, 1.0, 1.0, 1.0, 1.0, 1.0, 0.0, 0.0, 0.0, 1.0, 0.0, 0.0, 0.0, 0.0, 1.0, 0.0, 1.0, 0.0, 0.0, 0.0, 1.0, 1.0, 1.0, 0.0, 1.0, 1.0, 1.0, 0.0, 1.0, 0.0, 0.0, 1.0, 1.0, 0.0, 1.0, 1.0, 0.0, 0.0, 1.0, 1.0, 0.0, 1.0, 1.0, 0.0, 1.0, 0.0, 1.0, 1.0, 0.0, 1.0, 0.0, 1.0, 1.0, 1.0, 1.0, 1.0, 0.0, 0.0, 1.0, 1.0, 1.0, 0.0, 1.0, 0.0, 0.0, 0.0, 0.0, 1.0, 1.0, 0.0, 0.0, 0.0, 1.0, 0.0, 0.0, 1.0, 1.0, 1.0, 1.0, 0.0, 1.0, 1.0, 1.0, 0.0, 0.0, 0.0, 1.0, 1.0, 1.0, 1.0, 0.0, 1.0, 1.0, 1.0, 0.0, 1.0, 0.0, 1.0, 0.0, 1.0, 1.0, 1.0, 0.0, 1.0, 0.0, 1.0, 1.0, 1.0, 0.0, 1.0, 1.0, 1.0, 0.0, 1.0, 0.0, 0.0, 0.0, 0.0, 1.0, 0.0, 0.0, 0.0, 0.0, 0.0, 0.0, 1.0, 1.0, 1.0, 0.0, 1.0, 1.0, 0.0, 0.0, 0.0, 0.0, 0.0, 1.0, 0.0, 1.0, 0.0, 0.0, 0.0, 0.0, 1.0, 0.0, 1.0, 1.0, 1.0, 0.0, 1.0, 0.0, 0.0, 1.0, 1.0, 0.0, 0.0, 1.0, 0.0, 1.0, 1.0, 0.0, 1.0, 0.0, 0.0, 0.0, 1.0, 0.0, 1.0, 1.0, 1.0, 0.0, 1.0, 1.0, 1.0, 1.0, 0.0, 0.0, 0.0, 0.0, 0.0, 1.0, 0.0, 0.0, 1.0, 0.0, 1.0, 1.0, 1.0, 1.0, 1.0, 1.0, 0.0, 0.0, 0.0, 1.0, 1.0, 1.0, 0.0, 0.0, 0.0, 0.0, 1.0, 1.0, 1.0, 0.0, 1.0, 0.0, 0.0, 0.0, 0.0, 1.0, 1.0, 1.0, 1.0, 0.0, 0.0, 1.0, 1.0, 1.0, 0.0, 1.0, 0.0, 0.0, 0.0, 0.0, 0.0, 1.0, 1.0, 0.0, 1.0, 0.0, 1.0, 1.0, 0.0, 0.0, 0.0, 0.0, 1.0, 1.0, 0.0, 0.0, 1.0, 1.0, 0.0, 0.0, 0.0, 0.0, 1.0, 0.0, 0.0, 1.0, 0.0, 0.0, 1.0, 0.0, 1.0, 0.0, 0.0, 0.0, 0.0, 0.0, 0.0, 0.0, 1.0, 1.0, 0.0, 0.0, 0.0, 0.0, 0.0, 0.0, 0.0, 0.0, 1.0, 0.0, 1.0, 1.0, 0.0, 1.0, 1.0, 0.0, 1.0, 0.0, 0.0, 0.0, 0.0, 1.0, 0.0, 1.0, 1.0, 1.0, 0.0, 1.0, 0.0, 1.0, 0.0, 0.0, 1.0, 0.0, 1.0, 1.0, 1.0, 0.0, 0.0, 1.0, 0.0, 1.0, 0.0, 0.0, 0.0, 0.0, 0.0, 0.0, 1.0, 0.0, 1.0, 0.0, 0.0, 1.0, 0.0, 0.0, 0.0, 1.0, 0.0, 0.0, 1.0, 1.0, 1.0, 0.0, 1.0, 1.0, 1.0, 1.0, 0.0, 0.0, 1.0, 1.0, 0.0, 0.0, 1.0, 0.0, 0.0, 1.0, 1.0, 1.0, 0.0, 1.0, 0.0, 0.0, 0.0, 1.0, 1.0, 0.0, 0.0, 1.0, 0.0, 1.0, 0.0, 1.0, 1.0, 0.0, 1.0, 0.0, 1.0, 1.0, 0.0, 1.0, 0.0, 1.0, 0.0, 0.0, 1.0, 1.0, 0.0, 1.0, 0.0, 1.0, 1.0, 1.0, 1.0, 1.0, 0.0, 1.0, 0.0, 1.0, 0.0, 1.0, 1.0, 1.0, 0.0, 0.0, 0.0, 0.0, 1.0, 0.0, 0.0, 0.0, 1.0, 1.0, 0.0, 1.0, 1.0, 1.0, 0.0, 1.0, 1.0, 1.0, 1.0, 1.0, 1.0, 0.0, 1.0, 0.0, 1.0, 0.0, 0.0, 1.0, 1.0, 0.0, 0.0, 1.0, 0.0, 1.0, 1.0, 1.0, 1.0, 1.0, 0.0, 1.0, 1.0, 0.0, 1.0, 1.0, 0.0, 1.0, 0.0, 1.0, 0.0, 0.0, 0.0, 0.0, 0.0, 0.0, 1.0, 1.0, 1.0, 0.0, 0.0, 1.0, 0.0, 0.0, 1.0, 1.0, 1.0, 1.0, 0.0, 0.0, 1.0, 0.0, 1.0, 0.0, 0.0, 0.0, 1.0, 0.0, 0.0, 0.0, 0.0, 1.0, 1.0, 0.0, 1.0, 0.0, 1.0, 0.0, 0.0, 1.0, 1.0, 1.0, 1.0, 1.0, 0.0, 0.0, 0.0, 1.0, 1.0, 0.0, 0.0, 0.0, 0.0, 1.0, 1.0, 0.0, 0.0, 1.0, 0.0, 0.0, 0.0, 1.0, 1.0, 1.0, 0.0, 1.0, 1.0, 1.0, 1.0, 0.0, 1.0, 0.0, 0.0, 1.0, 1.0, 0.0, 0.0, 0.0, 1.0, 1.0, 0.0, 0.0, 1.0, 0.0, 0.0, 1.0, 1.0, 0.0, 1.0, 1.0, 1.0, 0.0, 1.0, 0.0, 0.0, 0.0, 1.0, 0.0, 0.0, 0.0, 1.0, 0.0, 0.0, 1.0, 1.0, 0.0, 0.0, 1.0, 0.0, 1.0, 1.0, 0.0, 0.0, 1.0, 1.0, 0.0, 0.0, 1.0, 1.0, 0.0, 1.0, 1.0, 1.0, 1.0, 0.0, 1.0, 0.0, 0.0, 1.0, 0.0, 0.0, 0.0, 1.0, 1.0, 0.0, 0.0, 1.0, 0.0, 0.0, 0.0, 0.0, 0.0, 0.0, 1.0, 1.0, 0.0, 1.0, 1.0, 1.0, 0.0, 1.0, 0.0, 1.0, 0.0, 1.0, 0.0, 1.0, 1.0, 1.0, 1.0, 0.0, 0.0, 1.0, 1.0, 0.0, 1.0, 0.0, 1.0, 1.0, 0.0, 1.0, 1.0, 1.0, 0.0, 0.0, 0.0, 1.0, 0.0, 1.0, 1.0, 0.0, 0.0, 0.0, 1.0, 0.0, 1.0, 0.0, 1.0, 1.0, 1.0, 1.0, 0.0, 0.0, 0.0, 0.0, 0.0, 0.0, 1.0, 1.0, 1.0, 0.0, 1.0, 1.0, 1.0, 0.0, 1.0, 1.0, 1.0, 0.0, 0.0, 1.0, 1.0, 1.0, 0.0, 1.0, 0.0, 1.0, 1.0, 0.0, 0.0, 0.0, 1.0, 1.0, 1.0, 0.0, 1.0, 1.0, 0.0, 1.0, 0.0, 0.0, 0.0, 0.0, 0.0, 0.0, 0.0, 0.0, 0.0, 1.0, 1.0, 0.0, 0.0, 0.0, 1.0, 1.0, 1.0, 1.0, 0.0, 1.0, 0.0, 0.0, 0.0, 0.0, 0.0, 0.0, 1.0, 1.0, 1.0, 1.0, 0.0, 1.0, 1.0, 1.0, 1.0, 0.0, 1.0, 1.0, 1.0, 0.0, 0.0, 1.0, 0.0, 0.0, 0.0, 0.0, 1.0, 1.0, 0.0, 0.0, 0.0, 0.0, 0.0, 0.0, 0.0, 1.0, 0.0, 0.0, 1.0, 1.0, 1.0, 0.0, 1.0, 1.0, 0.0, 0.0, 0.0, 0.0, 0.0, 0.0, 0.0, 1.0, 1.0, 0.0, 0.0, 0.0, 1.0, 1.0, 1.0, 0.0, 0.0, 0.0, 1.0, 0.0, 1.0, 1.0, 0.0, 1.0, 0.0, 0.0, 1.0, 1.0, 0.0, 0.0, 0.0, 0.0, 0.0, 0.0, 0.0, 1.0, 0.0, 1.0, 0.0, 1.0, 1.0, 0.0, 1.0, 1.0, 0.0, 0.0, 1.0, 1.0, 0.0, 0.0, 1.0, 1.0, 1.0, 1.0, 1.0, 0.0, 0.0, 1.0, 1.0, 0.0, 0.0, 0.0, 1.0, 0.0, 1.0, 0.0, 1.0, 1.0, 0.0, 0.0, 0.0, 1.0, 0.0, 1.0, 0.0, 1.0, 0.0, 0.0, 0.0, 1.0, 0.0, 1.0, 0.0, 1.0, 1.0, 0.0, 1.0, 1.0, 0.0, 0.0, 1.0, 1.0, 0.0, 1.0, 0.0, 0.0, 1.0, 0.0, 1.0, 0.0, 1.0, 1.0, 1.0, 1.0, 1.0, 0.0, 0.0, 1.0, 1.0, 1.0, 1.0, 1.0, 1.0, 0.0, 0.0, 0.0, 0.0, 1.0, 1.0, 0.0, 1.0, 0.0, 1.0, 0.0, 1.0, 0.0, 0.0, 0.0, 0.0, 0.0, 1.0, 1.0, 0.0, 1.0, 1.0, 1.0, 0.0, 0.0, 1.0, 0.0, 0.0, 0.0, 0.0, 1.0, 0.0, 1.0, 0.0, 1.0, 0.0, 1.0, 0.0, 1.0, 0.0, 1.0, 1.0, 0.0, 0.0, 0.0, 1.0, 0.0, 0.0, 1.0, 1.0, 1.0, 1.0, 1.0, 1.0, 1.0, 0.0, 1.0, 1.0, 1.0, 1.0, 1.0, 1.0, 1.0, 0.0, 1.0, 1.0, 0.0, 0.0, 1.0, 1.0, 0.0, 1.0, 0.0, 1.0, 1.0, 1.0, 0.0, 0.0, 1.0, 1.0, 1.0, 1.0, 0.0, 0.0, 1.0, 1.0, 0.0, 1.0, 0.0, 0.0, 1.0, 0.0, 1.0, 0.0, 1.0, 1.0, 0.0, 0.0, 1.0, 0.0, 0.0, 1.0, 0.0, 0.0, 1.0, 0.0, 1.0, 0.0, 0.0, 1.0, 0.0, 0.0, 0.0, 1.0, 1.0, 0.0, 1.0, 1.0, 0.0, 1.0, 1.0, 0.0, 1.0, 0.0, 0.0, 1.0, 1.0, 1.0, 0.0, 0.0, 0.0, 1.0, 1.0, 1.0, 0.0, 1.0, 0.0, 0.0, 1.0, 0.0, 1.0, 1.0, 0.0, 1.0, 0.0, 1.0, 1.0, 0.0, 0.0, 0.0, 1.0, 1.0, 1.0, 1.0, 1.0, 0.0, 1.0, 0.0, 0.0, 0.0, 0.0, 1.0, 1.0, 0.0, 1.0, 0.0, 0.0, 0.0, 0.0, 0.0, 0.0, 0.0, 0.0, 1.0, 0.0, 1.0, 0.0, 0.0, 1.0, 0.0, 1.0, 1.0, 0.0, 0.0, 0.0, 1.0, 1.0, 0.0, 1.0, 1.0, 0.0, 1.0, 1.0, 1.0, 0.0, 1.0, 1.0, 0.0, 0.0, 0.0, 0.0, 0.0, 1.0, 0.0, 1.0, 0.0, 1.0, 0.0, 0.0, 0.0, 1.0, 0.0, 0.0, 1.0, 0.0, 1.0, 0.0, 1.0, 1.0, 1.0, 0.0, 1.0, 1.0, 0.0, 0.0, 1.0, 1.0, 0.0, 0.0, 0.0, 0.0, 0.0, 1.0, 0.0, 1.0, 1.0, 0.0, 1.0, 0.0, 1.0, 0.0, 1.0, 1.0, 0.0, 0.0, 1.0, 0.0, 1.0, 1.0, 1.0, 1.0, 1.0, 1.0, 0.0, 0.0, 1.0, 0.0, 1.0, 1.0, 0.0, 0.0, 0.0, 0.0, 0.0, 0.0, 0.0, 0.0, 1.0, 0.0, 1.0, 1.0, 1.0, 0.0, 0.0, 1.0, 1.0, 0.0, 0.0, 1.0, 0.0, 1.0, 0.0, 0.0, 1.0, 1.0, 0.0, 0.0, 1.0, 1.0, 0.0, 0.0, 1.0, 1.0, 1.0, 0.0, 0.0, 1.0, 0.0, 1.0, 0.0, 0.0, 1.0, 1.0, 1.0, 1.0, 0.0, 0.0, 0.0, 0.0, 1.0, 1.0, 0.0, 0.0, 1.0, 0.0, 1.0, 0.0, 0.0, 1.0, 1.0, 1.0, 1.0, 1.0, 0.0, 1.0, 1.0, 0.0, 0.0, 0.0, 0.0, 0.0, 1.0, 0.0, 1.0, 0.0, 1.0, 0.0, 1.0, 1.0, 0.0, 0.0, 1.0, 1.0, 1.0, 1.0, 1.0, 1.0, 1.0, 0.0, 0.0, 0.0, 0.0, 1.0, 0.0, 1.0, 0.0, 1.0, 1.0, 1.0, 1.0, 1.0, 0.0, 0.0, 1.0, 1.0, 0.0, 0.0, 0.0, 0.0, 1.0, 0.0, 0.0, 1.0, 0.0, 1.0, 1.0, 1.0, 1.0, 0.0, 0.0, 1.0, 0.0, 0.0, 1.0, 1.0, 0.0, 1.0, 1.0, 0.0, 0.0, 1.0, 0.0, 0.0, 1.0, 0.0, 0.0, 1.0, 0.0, 1.0, 1.0, 1.0, 1.0, 0.0, 0.0, 0.0, 1.0, 1.0, 1.0, 1.0, 0.0, 1.0, 1.0, 0.0, 1.0, 1.0, 0.0, 0.0, 1.0, 1.0, 0.0, 1.0, 1.0, 1.0, 0.0, 0.0, 1.0, 0.0, 0.0, 0.0, 0.0, 0.0, 1.0, 0.0, 1.0, 0.0, 1.0, 1.0, 0.0, 0.0, 0.0, 0.0, 1.0, 0.0, 1.0, 0.0, 1.0, 1.0, 1.0, 0.0, 1.0, 1.0, 0.0, 0.0, 1.0, 1.0, 1.0, 0.0, 0.0, 0.0, 0.0, 1.0, 1.0, 1.0, 0.0, 1.0, 0.0, 1.0, 0.0, 0.0, 1.0, 0.0, 0.0, 1.0, 1.0, 0.0, 0.0, 0.0, 1.0, 0.0, 0.0, 0.0, 0.0, 1.0, 0.0, 0.0, 1.0, 1.0, 1.0, 1.0, 0.0, 1.0, 1.0, 1.0, 0.0, 0.0, 1.0, 1.0, 1.0, 0.0, 1.0, 0.0, 1.0, 0.0, 1.0, 1.0, 1.0, 1.0, 0.0, 1.0, 1.0, 1.0, 1.0, 1.0, 1.0, 1.0, 1.0, 0.0, 0.0, 1.0, 0.0, 1.0, 0.0, 0.0, 1.0, 0.0, 0.0, 1.0, 0.0, 1.0, 1.0, 0.0, 1.0, 0.0, 0.0, 1.0, 1.0, 1.0, 0.0, 0.0, 1.0, 0.0, 0.0, 0.0, 0.0, 1.0, 0.0, 0.0, 1.0, 0.0, 1.0, 1.0, 0.0, 0.0, 0.0, 1.0, 1.0, 0.0, 0.0, 0.0, 1.0, 1.0, 1.0, 0.0, 0.0, 0.0, 0.0, 0.0, 0.0, 1.0, 0.0, 1.0, 0.0, 1.0, 1.0, 1.0, 0.0, 0.0, 0.0, 1.0, 0.0, 1.0, 1.0, 1.0, 0.0, 0.0, 1.0, 1.0, 0.0, 1.0, 0.0, 0.0, 1.0, 0.0, 0.0, 1.0, 1.0, 1.0, 1.0, 1.0, 0.0, 0.0, 0.0, 0.0, 1.0, 0.0, 0.0, 0.0, 0.0, 1.0, 0.0, 0.0, 0.0, 1.0, 0.0, 0.0, 0.0, 1.0, 1.0, 1.0, 1.0, 1.0, 0.0, 1.0, 1.0, 0.0, 1.0, 1.0, 0.0, 1.0, 1.0, 0.0, 0.0, 1.0, 1.0, 0.0, 1.0, 1.0, 0.0, 0.0, 1.0, 1.0, 0.0, 1.0, 1.0, 0.0, 0.0, 0.0, 0.0, 1.0, 1.0, 0.0, 0.0, 1.0, 0.0, 0.0, 0.0, 1.0, 1.0, 0.0, 1.0, 1.0, 1.0, 1.0, 0.0, 0.0, 0.0, 0.0, 1.0, 0.0, 0.0, 1.0, 0.0, 0.0, 0.0, 1.0, 1.0, 1.0, 0.0, 0.0, 1.0, 0.0, 1.0, 1.0, 1.0, 0.0, 1.0, 0.0, 1.0, 1.0, 0.0, 0.0, 0.0, 1.0, 1.0, 0.0, 0.0, 0.0, 1.0, 1.0, 0.0, 1.0, 1.0, 0.0, 1.0, 1.0, 1.0, 1.0, 0.0, 1.0, 1.0, 1.0, 1.0, 0.0, 0.0, 1.0, 1.0, 1.0, 1.0, 1.0, 1.0, 1.0, 1.0, 1.0, 1.0, 0.0, 0.0, 0.0, 1.0, 1.0, 0.0, 0.0, 1.0, 0.0, 0.0, 0.0, 1.0, 0.0, 1.0, 1.0, 0.0, 1.0, 0.0, 0.0, 0.0, 1.0, 0.0, 1.0, 0.0, 1.0, 1.0, 0.0, 0.0, 1.0, 1.0, 1.0, 0.0, 0.0, 1.0, 0.0, 0.0, 1.0, 0.0, 1.0, 0.0, 1.0, 0.0, 1.0, 0.0, 0.0, 0.0, 0.0, 0.0, 0.0, 1.0, 1.0, 0.0, 1.0, 1.0, 1.0, 1.0, 0.0, 0.0, 0.0, 1.0, 0.0, 0.0, 1.0, 0.0, 1.0, 0.0, 1.0, 0.0, 0.0, 0.0, 0.0, 0.0, 0.0, 0.0, 0.0, 1.0, 1.0, 0.0, 1.0, 0.0, 1.0, 1.0, 0.0, 1.0, 1.0, 0.0, 1.0, 1.0, 0.0, 0.0, 0.0, 0.0, 1.0, 1.0, 0.0, 0.0, 0.0, 0.0, 1.0, 0.0, 1.0, 1.0, 1.0, 0.0, 0.0, 0.0, 0.0, 1.0, 1.0, 1.0, 0.0, 0.0, 0.0, 0.0, 1.0, 1.0, 1.0, 0.0, 0.0, 1.0, 1.0, 1.0, 1.0, 0.0, 1.0, 1.0, 0.0, 0.0, 1.0, 0.0, 1.0, 0.0, 1.0, 1.0, 1.0, 0.0, 1.0, 1.0, 1.0, 1.0, 0.0, 0.0, 1.0, 0.0, 1.0, 1.0, 0.0, 1.0, 1.0, 0.0, 1.0, 1.0, 0.0, 1.0, 1.0, 1.0, 0.0, 0.0, 0.0, 0.0, 1.0, 0.0, 0.0, 0.0, 1.0, 1.0, 1.0, 0.0, 1.0, 0.0, 0.0, 1.0, 0.0, 0.0, 1.0, 1.0, 1.0, 0.0, 1.0, 1.0, 1.0, 0.0, 0.0, 0.0, 0.0, 1.0, 0.0, 0.0, 0.0, 0.0, 1.0, 1.0, 0.0, 1.0, 0.0, 0.0, 0.0, 1.0, 0.0, 1.0, 0.0, 0.0, 0.0, 1.0, 1.0, 1.0, 1.0, 0.0, 1.0, 0.0, 1.0, 0.0, 1.0, 1.0, 1.0, 1.0, 0.0, 0.0, 0.0, 1.0, 1.0, 0.0, 1.0, 0.0, 1.0, 0.0, 1.0, 1.0, 0.0, 1.0, 1.0, 1.0, 0.0, 1.0, 1.0, 1.0, 1.0, 0.0, 0.0, 0.0, 0.0, 0.0, 0.0, 1.0, 0.0, 0.0, 0.0, 1.0, 0.0, 1.0, 0.0, 0.0, 1.0, 1.0, 0.0, 1.0, 1.0, 1.0, 0.0, 0.0, 0.0, 0.0, 1.0, 0.0, 0.0, 0.0, 0.0, 1.0, 0.0, 1.0, 0.0, 0.0, 1.0, 0.0, 0.0, 0.0, 0.0, 0.0, 0.0, 1.0, 1.0, 1.0, 1.0, 1.0, 0.0, 1.0, 0.0, 1.0, 0.0, 1.0, 0.0, 1.0, 0.0, 1.0, 1.0, 0.0, 1.0, 0.0, 0.0, 1.0, 0.0, 1.0, 1.0, 1.0, 1.0, 0.0, 1.0, 0.0, 0.0, 0.0, 1.0, 0.0, 0.0, 1.0, 1.0, 0.0, 0.0, 0.0, 1.0, 1.0, 0.0, 1.0, 0.0, 1.0, 0.0, 1.0, 1.0, 0.0, 0.0, 0.0, 0.0, 1.0, 0.0, 1.0, 0.0, 0.0, 1.0, 1.0, 0.0, 1.0, 0.0, 0.0, 1.0, 0.0, 1.0, 0.0, 0.0, 0.0, 0.0, 1.0, 1.0, 0.0, 1.0, 0.0, 0.0, 1.0, 0.0, 1.0, 1.0, 1.0, 1.0, 1.0, 0.0, 0.0, 1.0, 0.0, 0.0, 1.0, 0.0, 0.0, 1.0, 1.0, 0.0, 1.0, 1.0, 1.0, 0.0, 1.0, 0.0, 0.0, 0.0, 0.0, 1.0, 1.0, 0.0, 1.0, 0.0, 0.0, 0.0, 0.0, 1.0, 1.0, 1.0, 1.0, 0.0, 0.0, 0.0, 1.0, 0.0, 1.0, 1.0, 0.0, 0.0, 1.0, 1.0, 1.0, 0.0, 1.0, 0.0, 0.0, 0.0, 0.0, 0.0, 1.0, 0.0, 0.0, 1.0, 1.0, 0.0, 0.0, 0.0, 1.0, 0.0, 0.0, 1.0, 1.0, 0.0, 0.0, 0.0, 1.0, 0.0, 1.0, 1.0, 0.0, 0.0, 1.0, 1.0, 1.0, 1.0, 0.0, 1.0, 0.0, 0.0, 1.0, 1.0, 1.0, 1.0, 1.0, 0.0, 1.0, 1.0, 1.0, 1.0, 1.0, 1.0, 1.0, 0.0, 0.0, 1.0, 0.0, 0.0, 0.0, 0.0, 0.0, 1.0, 1.0, 1.0, 1.0, 0.0, 1.0, 1.0, 1.0, 0.0, 0.0, 0.0, 1.0, 0.0, 0.0, 1.0, 0.0, 0.0, 0.0, 1.0, 0.0, 1.0, 1.0, 1.0, 0.0, 0.0, 1.0, 0.0, 0.0, 1.0, 0.0, 0.0, 1.0, 0.0, 1.0, 1.0, 0.0, 0.0, 0.0, 1.0, 0.0, 0.0, 1.0, 0.0, 0.0, 0.0, 1.0, 1.0, 1.0, 1.0, 0.0, 1.0, 1.0, 1.0, 0.0, 0.0, 0.0, 1.0, 0.0, 1.0, 0.0, 1.0, 1.0, 1.0, 0.0, 1.0, 1.0, 0.0, 0.0, 1.0, 1.0, 0.0, 1.0, 1.0, 1.0, 1.0, 1.0, 0.0, 1.0, 1.0, 1.0, 1.0, 1.0, 0.0, 1.0, 0.0, 0.0, 1.0, 1.0, 0.0, 0.0, 1.0, 0.0, 1.0, 1.0, 1.0, 0.0, 0.0, 1.0, 1.0, 0.0, 0.0, 0.0, 0.0, 0.0, 1.0, 0.0, 1.0, 0.0, 1.0, 0.0, 0.0, 0.0, 0.0, 0.0, 0.0, 0.0, 0.0, 1.0, 1.0, 0.0, 1.0, 0.0, 1.0, 0.0, 1.0, 1.0, 0.0, 1.0, 0.0, 0.0, 0.0, 1.0, 0.0, 0.0, 0.0, 0.0, 1.0, 1.0, 1.0, 0.0, 1.0, 0.0, 0.0, 0.0, 1.0, 1.0, 1.0, 0.0, 1.0, 0.0, 1.0, 0.0, 1.0, 1.0, 1.0, 0.0, 1.0, 1.0, 0.0, 0.0, 0.0, 0.0, 1.0, 0.0, 0.0, 0.0, 0.0, 0.0, 1.0, 0.0, 1.0, 1.0, 0.0, 1.0, 0.0, 0.0, 1.0, 1.0, 0.0, 1.0, 0.0, 1.0, 1.0, 0.0, 0.0, 1.0, 1.0, 0.0, 1.0, 1.0, 1.0, 1.0, 0.0, 1.0, 0.0, 0.0, 1.0, 1.0, 1.0, 0.0, 0.0, 0.0, 1.0, 0.0, 1.0, 1.0, 0.0, 0.0, 0.0, 0.0, 1.0, 0.0, 1.0, 0.0, 0.0, 1.0, 1.0, 0.0, 0.0, 1.0, 0.0, 0.0, 1.0, 1.0, 1.0, 0.0, 1.0, 0.0, 1.0, 1.0, 0.0, 1.0, 1.0, 0.0, 0.0, 0.0, 1.0, 1.0, 0.0, 1.0, 0.0, 1.0, 0.0, 0.0, 0.0, 0.0, 0.0, 0.0, 1.0, 1.0, 1.0, 1.0, 1.0, 0.0, 1.0, 1.0, 1.0, 1.0, 1.0, 1.0, 0.0, 1.0, 0.0, 0.0, 1.0, 1.0, 0.0, 0.0, 1.0, 1.0, 1.0, 0.0, 0.0, 1.0, 0.0, 1.0, 1.0, 1.0, 0.0, 0.0, 0.0, 0.0, 0.0, 1.0, 0.0, 0.0, 1.0, 1.0, 0.0, 0.0, 1.0, 1.0, 1.0, 0.0, 0.0, 1.0, 1.0, 1.0, 1.0, 1.0, 0.0, 1.0, 0.0, 1.0, 0.0, 1.0, 0.0, 1.0, 1.0, 1.0, 0.0, 1.0, 1.0, 0.0, 1.0, 0.0, 0.0, 1.0, 0.0, 1.0, 1.0, 1.0, 0.0, 0.0, 0.0, 0.0, 1.0, 1.0, 0.0, 1.0, 1.0, 0.0, 0.0, 0.0, 0.0, 0.0, 1.0, 0.0, 1.0, 1.0, 1.0, 1.0, 1.0, 0.0, 0.0, 0.0, 1.0, 0.0, 0.0, 0.0, 1.0, 0.0, 0.0, 0.0, 1.0, 1.0, 1.0, 0.0, 1.0, 0.0, 0.0, 0.0, 0.0, 0.0, 0.0, 0.0, 0.0, 1.0, 1.0, 0.0, 0.0, 0.0, 0.0, 1.0, 0.0, 1.0, 0.0, 0.0, 1.0, 0.0, 0.0, 1.0, 0.0, 0.0, 1.0, 0.0, 0.0, 1.0, 0.0, 0.0, 1.0, 0.0, 0.0, 1.0, 1.0, 0.0, 0.0, 1.0, 0.0, 0.0, 0.0, 1.0, 0.0, 0.0, 0.0, 1.0, 0.0, 0.0, 0.0, 0.0, 0.0, 0.0, 1.0, 0.0, 1.0, 0.0, 1.0, 0.0, 0.0, 1.0, 1.0, 1.0, 1.0, 0.0, 0.0, 0.0, 0.0, 1.0, 0.0, 0.0, 0.0, 0.0, 0.0, 0.0, 1.0, 1.0, 0.0, 1.0, 1.0, 1.0, 0.0, 1.0, 0.0, 1.0, 0.0, 0.0, 0.0, 1.0, 1.0, 1.0, 0.0, 1.0, 0.0, 0.0, 1.0, 1.0, 0.0, 0.0, 0.0, 1.0, 0.0, 0.0, 0.0, 0.0, 0.0, 1.0, 0.0, 0.0, 1.0, 0.0, 1.0, 0.0, 0.0, 1.0, 0.0, 1.0, 0.0, 0.0, 1.0, 0.0, 1.0, 1.0, 1.0, 0.0, 0.0, 1.0, 1.0, 1.0, 1.0, 1.0, 0.0, 0.0, 1.0, 1.0, 1.0, 0.0, 0.0, 1.0, 1.0, 0.0, 0.0, 0.0, 1.0, 0.0, 1.0, 1.0, 1.0, 1.0, 0.0, 1.0, 0.0, 1.0, 1.0, 0.0, 1.0, 1.0, 0.0, 1.0, 1.0, 1.0, 0.0, 1.0, 0.0, 0.0, 0.0, 0.0, 0.0, 1.0, 1.0, 0.0, 0.0, 0.0, 1.0, 1.0, 0.0, 1.0, 1.0, 0.0, 0.0, 1.0, 0.0, 1.0, 1.0, 1.0, 1.0, 0.0, 0.0, 1.0, 0.0, 1.0, 0.0, 0.0, 1.0, 0.0, 0.0, 1.0, 0.0, 1.0, 0.0, 1.0, 0.0, 0.0, 0.0, 1.0, 0.0, 0.0, 1.0, 1.0, 1.0, 0.0, 1.0, 0.0, 1.0, 1.0, 1.0, 0.0, 1.0, 0.0, 0.0, 0.0, 1.0, 1.0, 1.0, 0.0, 0.0, 0.0, 1.0, 0.0, 0.0, 0.0, 0.0, 1.0, 0.0, 1.0, 0.0, 0.0, 1.0, 1.0, 0.0, 1.0, 0.0, 0.0, 1.0, 0.0, 1.0, 0.0, 1.0, 1.0, 1.0, 1.0, 0.0, 1.0, 1.0, 0.0, 1.0, 0.0, 0.0, 0.0, 0.0, 0.0, 0.0, 0.0, 1.0, 1.0, 1.0, 1.0, 0.0, 0.0, 0.0, 0.0, 1.0, 0.0, 0.0, 0.0, 1.0, 0.0, 0.0, 0.0, 0.0, 0.0, 1.0, 1.0, 1.0, 0.0, 1.0, 1.0, 1.0, 0.0, 1.0, 0.0, 0.0, 1.0, 1.0, 0.0, 0.0, 1.0, 0.0, 0.0, 0.0, 0.0, 1.0, 1.0, 1.0, 0.0, 1.0, 0.0, 1.0, 0.0, 1.0, 0.0, 1.0, 0.0, 1.0, 0.0, 1.0, 0.0, 0.0, 0.0, 0.0, 1.0, 1.0, 1.0, 0.0, 1.0, 1.0, 1.0, 1.0, 0.0, 1.0, 0.0, 0.0, 0.0, 1.0, 0.0, 0.0, 1.0, 0.0, 1.0, 0.0, 0.0, 1.0, 0.0, 0.0, 1.0, 0.0, 1.0, 0.0, 1.0, 1.0, 1.0, 0.0, 0.0, 1.0, 1.0, 0.0, 0.0, 0.0, 0.0, 1.0, 1.0, 1.0, 1.0, 1.0, 1.0, 1.0, 0.0, 0.0, 1.0, 1.0, 1.0, 0.0, 0.0, 0.0, 0.0, 0.0, 1.0, 1.0, 1.0, 0.0, 1.0, 0.0, 0.0, 0.0, 1.0, 1.0, 0.0, 1.0, 0.0, 0.0, 0.0, 1.0, 1.0, 0.0, 0.0, 0.0, 0.0, 1.0, 1.0, 0.0, 1.0, 0.0, 1.0, 0.0, 0.0, 0.0, 1.0, 1.0, 1.0, 0.0, 1.0, 1.0, 1.0, 0.0, 0.0, 0.0, 0.0, 0.0, 1.0, 0.0, 0.0, 0.0, 1.0, 0.0, 1.0, 0.0, 1.0, 1.0, 0.0, 0.0, 0.0, 1.0, 1.0, 0.0, 1.0, 1.0, 0.0, 1.0, 1.0, 1.0, 0.0, 0.0, 1.0, 1.0, 1.0, 1.0, 1.0, 0.0, 0.0, 0.0, 0.0, 1.0, 1.0, 0.0, 1.0, 0.0, 0.0, 0.0, 0.0, 0.0, 0.0, 0.0, 0.0, 1.0, 1.0, 0.0, 0.0, 0.0, 0.0, 0.0, 1.0, 1.0, 0.0, 1.0, 1.0, 0.0, 0.0, 0.0, 1.0, 0.0, 0.0, 0.0, 0.0, 0.0, 1.0, 0.0, 0.0, 0.0, 0.0, 1.0, 0.0, 0.0, 1.0, 0.0, 1.0, 0.0, 1.0, 1.0, 1.0, 0.0, 1.0, 1.0, 0.0, 1.0, 1.0, 1.0, 1.0, 0.0, 0.0, 0.0, 1.0, 1.0, 0.0, 0.0, 0.0, 1.0, 1.0, 1.0, 1.0, 0.0, 1.0, 1.0, 1.0, 1.0, 0.0, 1.0, 1.0, 0.0, 1.0, 1.0, 0.0, 0.0, 1.0, 0.0, 0.0, 1.0, 1.0, 0.0, 0.0, 0.0, 1.0, 0.0, 0.0, 0.0, 1.0, 1.0, 0.0, 1.0, 1.0, 0.0, 1.0, 0.0, 0.0, 1.0, 0.0, 0.0, 0.0, 0.0, 0.0, 0.0, 0.0, 1.0, 1.0, 0.0, 0.0, 0.0, 0.0, 0.0, 1.0, 1.0, 0.0, 0.0, 1.0, 0.0, 0.0, 0.0, 1.0, 0.0, 0.0, 0.0, 1.0, 0.0, 1.0, 1.0, 0.0, 1.0, 0.0, 0.0, 1.0, 1.0, 1.0, 0.0, 0.0, 1.0, 1.0, 0.0, 1.0, 0.0, 1.0, 0.0, 0.0, 1.0, 0.0, 1.0, 1.0, 0.0, 0.0, 0.0, 0.0, 0.0, 1.0, 1.0, 1.0, 0.0, 1.0, 0.0, 1.0, 1.0, 0.0, 0.0, 0.0, 0.0, 1.0, 0.0, 0.0, 0.0, 0.0, 1.0, 1.0, 0.0, 1.0, 1.0, 0.0, 1.0, 0.0, 0.0, 0.0, 1.0, 1.0, 1.0, 0.0, 1.0, 0.0, 0.0, 0.0, 1.0, 1.0, 1.0, 1.0, 0.0, 0.0, 0.0, 1.0, 0.0, 1.0, 0.0, 1.0, 1.0, 0.0, 1.0, 1.0, 0.0, 0.0, 0.0, 0.0, 0.0, 1.0, 1.0, 1.0, 0.0, 0.0, 0.0, 1.0, 0.0, 1.0, 0.0, 0.0, 1.0, 0.0, 1.0, 0.0, 1.0, 0.0, 1.0, 0.0, 1.0, 0.0, 1.0, 0.0, 1.0, 1.0, 1.0, 0.0, 1.0, 1.0, 1.0, 0.0, 0.0, 1.0, 1.0, 1.0, 1.0, 0.0, 0.0, 0.0, 1.0, 0.0, 0.0, 1.0, 1.0, 0.0, 1.0, 1.0, 0.0, 0.0, 0.0, 1.0, 0.0, 1.0, 0.0, 0.0, 1.0, 0.0, 0.0, 0.0, 0.0, 1.0, 0.0, 1.0, 0.0, 0.0, 0.0, 0.0, 1.0, 1.0, 0.0, 0.0, 0.0, 0.0, 1.0, 0.0, 0.0, 0.0, 1.0, 0.0, 1.0, 0.0, 0.0, 1.0, 1.0, 0.0, 0.0, 0.0, 1.0, 0.0, 0.0, 1.0, 0.0, 0.0, 0.0, 0.0, 1.0, 0.0, 1.0, 1.0, 0.0, 1.0, 1.0, 1.0, 0.0, 0.0, 1.0, 0.0, 1.0, 0.0, 0.0, 0.0, 0.0, 0.0, 0.0, 1.0, 0.0, 0.0, 0.0, 0.0, 0.0, 1.0, 1.0, 1.0, 1.0, 1.0, 1.0, 0.0, 1.0, 1.0, 0.0, 0.0, 0.0, 1.0, 1.0, 0.0, 1.0, 1.0, 1.0, 1.0, 1.0, 1.0, 1.0, 1.0, 1.0, 1.0, 1.0, 1.0, 0.0, 1.0, 1.0, 0.0, 1.0, 0.0, 0.0, 0.0, 1.0, 1.0, 0.0, 1.0, 1.0, 1.0, 1.0, 0.0, 1.0, 1.0, 1.0, 0.0, 1.0, 1.0, 0.0, 1.0, 0.0, 1.0, 1.0, 0.0, 1.0, 0.0, 0.0, 1.0, 0.0, 0.0, 0.0, 1.0, 1.0, 0.0, 1.0, 1.0, 1.0, 1.0, 1.0, 0.0, 1.0, 1.0, 1.0, 0.0, 0.0, 1.0, 0.0, 1.0, 1.0, 0.0, 1.0, 0.0, 1.0, 0.0, 1.0, 1.0, 1.0, 1.0, 1.0, 0.0, 1.0, 0.0, 1.0, 0.0, 1.0, 0.0, 1.0, 0.0, 0.0, 1.0, 1.0, 1.0, 1.0, 1.0, 0.0, 1.0, 0.0, 1.0, 1.0, 1.0, 1.0, 1.0, 0.0, 1.0, 1.0, 1.0, 0.0, 0.0, 0.0, 0.0, 0.0, 1.0, 0.0, 0.0, 1.0, 0.0, 0.0, 0.0, 1.0, 0.0, 0.0, 0.0, 0.0, 1.0, 0.0, 0.0, 1.0, 0.0, 0.0, 0.0, 1.0, 1.0, 1.0, 0.0, 1.0, 1.0, 0.0, 1.0, 0.0, 1.0, 0.0, 1.0, 0.0, 1.0, 0.0, 1.0, 1.0, 0.0, 1.0, 0.0, 1.0, 0.0, 0.0, 1.0, 1.0, 1.0, 0.0, 0.0, 0.0, 0.0, 1.0, 0.0, 1.0, 1.0, 1.0, 0.0, 1.0, 1.0, 0.0, 1.0, 1.0, 1.0, 1.0, 0.0, 0.0, 1.0, 0.0, 0.0, 0.0, 0.0, 0.0, 0.0, 1.0, 1.0, 0.0, 0.0, 0.0, 1.0, 0.0, 1.0, 1.0, 1.0, 0.0, 0.0, 1.0, 1.0, 1.0, 0.0, 1.0, 1.0, 1.0, 0.0, 1.0, 0.0, 1.0, 1.0, 0.0, 0.0, 1.0, 1.0, 0.0, 1.0, 1.0, 0.0, 0.0, 1.0, 1.0, 0.0, 0.0, 0.0, 0.0, 1.0, 0.0, 1.0, 1.0, 1.0, 0.0, 0.0, 0.0, 1.0, 0.0, 0.0, 0.0, 1.0, 0.0, 0.0, 1.0, 1.0, 1.0, 0.0, 1.0, 1.0, 1.0, 1.0, 0.0, 0.0, 1.0, 1.0, 1.0, 0.0, 1.0, 0.0, 1.0, 1.0, 1.0, 1.0, 0.0, 0.0, 1.0, 1.0, 1.0, 0.0, 0.0, 1.0, 0.0, 0.0, 1.0, 0.0, 1.0, 0.0, 1.0, 0.0, 0.0, 0.0, 1.0, 1.0, 1.0, 0.0, 0.0, 0.0, 0.0, 0.0, 1.0, 1.0, 0.0, 1.0, 1.0, 1.0, 1.0, 0.0, 1.0, 0.0, 0.0, 1.0, 0.0, 1.0, 0.0, 0.0, 1.0, 1.0, 0.0, 0.0, 0.0, 1.0, 0.0, 1.0, 0.0, 1.0, 0.0, 0.0, 1.0, 0.0, 1.0, 0.0, 1.0, 0.0, 1.0, 0.0, 1.0, 0.0, 1.0, 1.0, 0.0, 0.0, 1.0, 1.0, 0.0, 0.0, 0.0, 1.0, 0.0, 0.0, 0.0, 0.0, 1.0, 0.0, 1.0, 1.0, 0.0, 1.0, 0.0, 0.0, 0.0, 0.0, 1.0, 0.0, 1.0, 0.0, 0.0, 0.0, 1.0, 0.0, 1.0, 0.0, 1.0, 1.0, 0.0, 1.0, 1.0, 1.0, 0.0, 0.0, 1.0, 1.0, 0.0, 1.0, 0.0, 1.0, 0.0, 1.0, 1.0, 1.0, 0.0, 0.0, 0.0, 1.0, 0.0, 0.0, 0.0, 0.0, 0.0, 0.0, 0.0, 1.0, 0.0, 1.0, 1.0, 1.0, 0.0, 1.0, 1.0, 0.0, 0.0, 1.0, 1.0, 0.0, 0.0, 1.0, 1.0, 0.0, 0.0, 0.0, 1.0, 1.0, 0.0, 0.0, 0.0, 1.0, 1.0, 0.0, 1.0, 1.0, 1.0, 1.0, 0.0, 1.0, 1.0, 1.0, 0.0, 1.0, 1.0, 0.0, 0.0, 1.0, 0.0, 1.0, 0.0, 1.0, 1.0, 0.0, 1.0, 1.0, 1.0, 1.0, 1.0, 0.0, 0.0, 1.0, 0.0, 0.0, 0.0, 1.0, 0.0, 0.0, 0.0, 1.0, 0.0, 1.0, 0.0, 1.0, 0.0, 0.0, 1.0, 0.0, 1.0, 1.0, 0.0, 0.0, 1.0, 1.0, 1.0, 1.0, 1.0, 1.0, 0.0, 1.0, 0.0, 1.0, 1.0, 0.0, 1.0, 1.0, 0.0, 1.0, 0.0, 1.0, 1.0, 1.0, 0.0, 1.0, 0.0, 0.0, 0.0, 1.0, 0.0, 0.0, 0.0, 1.0, 1.0, 0.0, 0.0, 0.0, 1.0, 1.0, 0.0, 0.0, 1.0, 1.0, 1.0, 1.0, 1.0, 1.0, 1.0, 0.0, 1.0, 0.0, 1.0, 0.0, 1.0, 0.0, 0.0, 1.0, 0.0, 1.0, 0.0, 0.0, 0.0, 1.0, 1.0, 1.0, 0.0, 0.0, 1.0, 1.0, 1.0, 1.0, 0.0, 1.0, 1.0, 1.0, 0.0, 0.0, 1.0, 1.0, 1.0, 1.0, 0.0, 1.0, 0.0, 0.0, 0.0, 0.0, 0.0, 1.0, 0.0, 0.0, 0.0, 0.0, 0.0, 1.0, 1.0, 0.0, 1.0, 1.0, 1.0, 1.0, 1.0, 0.0, 0.0, 0.0, 0.0, 0.0, 1.0, 1.0, 1.0, 0.0, 0.0, 1.0, 1.0, 1.0, 0.0, 1.0, 0.0, 1.0, 1.0, 1.0, 0.0, 1.0, 0.0, 0.0, 1.0, 1.0, 1.0, 1.0, 1.0, 1.0, 0.0, 0.0, 1.0, 0.0, 1.0, 1.0, 0.0, 0.0, 0.0, 0.0, 0.0, 0.0, 1.0, 1.0, 0.0, 0.0, 1.0, 1.0, 0.0, 1.0, 0.0, 1.0, 0.0, 0.0, 0.0, 0.0, 0.0, 0.0, 1.0, 1.0, 0.0, 1.0, 0.0, 1.0, 1.0, 1.0, 0.0, 0.0, 1.0, 1.0, 1.0, 1.0, 0.0, 0.0, 1.0, 0.0, 1.0, 1.0, 1.0, 0.0, 1.0, 1.0, 0.0, 1.0, 1.0, 0.0, 0.0, 1.0, 0.0, 0.0, 0.0, 0.0, 0.0, 1.0, 0.0, 0.0, 1.0, 0.0, 1.0, 0.0, 0.0, 1.0, 0.0, 0.0, 0.0, 1.0, 0.0, 0.0, 0.0, 0.0, 0.0, 1.0, 0.0, 0.0, 0.0, 0.0, 1.0, 0.0, 1.0, 1.0, 0.0, 0.0, 1.0, 0.0, 0.0, 0.0, 0.0, 1.0, 0.0, 1.0, 0.0, 0.0, 1.0, 1.0, 0.0, 1.0, 1.0, 0.0, 1.0, 1.0, 1.0, 0.0, 1.0, 0.0, 1.0, 1.0, 0.0, 0.0, 1.0, 0.0, 0.0, 0.0, 1.0, 0.0, 1.0, 0.0, 0.0, 0.0, 1.0, 0.0, 1.0, 1.0, 0.0, 1.0, 1.0, 0.0, 1.0, 1.0, 0.0, 1.0, 0.0, 1.0, 0.0, 1.0, 0.0, 0.0, 1.0, 0.0, 1.0, 1.0, 1.0, 1.0, 0.0, 1.0, 1.0, 0.0, 0.0, 0.0, 0.0, 1.0, 1.0, 1.0, 1.0, 1.0, 1.0, 0.0, 0.0, 0.0, 0.0, 1.0, 0.0, 0.0, 0.0, 1.0, 0.0, 1.0, 1.0, 1.0, 0.0, 1.0, 1.0, 0.0, 0.0, 0.0, 0.0, 1.0, 0.0, 1.0, 0.0, 1.0, 0.0, 1.0, 0.0, 0.0, 0.0, 0.0, 0.0, 0.0, 1.0, 0.0, 1.0, 1.0, 1.0, 0.0, 0.0, 0.0, 1.0, 1.0, 0.0, 1.0, 1.0, 0.0, 0.0, 0.0, 0.0, 0.0, 0.0, 1.0, 1.0, 1.0, 0.0, 1.0, 1.0, 0.0, 0.0, 0.0, 1.0, 1.0, 0.0, 1.0, 1.0, 1.0, 1.0, 0.0, 0.0, 1.0, 0.0, 0.0, 0.0, 1.0, 1.0, 1.0, 1.0, 0.0, 1.0, 1.0, 1.0, 1.0, 0.0, 0.0, 0.0, 0.0, 1.0, 1.0, 1.0, 1.0, 0.0, 1.0, 0.0, 0.0, 0.0, 0.0, 0.0, 1.0, 1.0, 1.0, 1.0, 1.0, 0.0, 0.0, 1.0, 1.0, 0.0, 1.0, 0.0, 1.0, 0.0, 0.0, 0.0, 0.0, 1.0, 1.0, 0.0, 0.0, 0.0, 0.0, 0.0, 1.0, 1.0, 1.0, 1.0, 1.0, 1.0, 0.0, 0.0, 0.0, 1.0, 1.0, 1.0, 0.0, 1.0, 1.0, 0.0, 0.0, 0.0, 0.0, 1.0, 1.0, 1.0, 1.0, 1.0, 0.0, 0.0, 0.0, 0.0, 1.0, 0.0, 1.0, 0.0, 1.0, 0.0, 1.0, 1.0, 0.0, 1.0, 0.0, 1.0, 0.0, 1.0, 1.0, 1.0, 1.0, 1.0, 1.0, 0.0, 1.0, 1.0, 1.0, 0.0, 1.0, 0.0, 1.0, 0.0, 1.0, 1.0, 1.0, 0.0, 1.0, 1.0, 0.0, 0.0, 1.0, 1.0, 0.0, 0.0, 1.0, 0.0, 0.0, 0.0, 0.0, 1.0, 1.0, 1.0, 0.0, 0.0, 1.0, 0.0, 0.0, 1.0, 0.0, 0.0, 1.0, 0.0, 0.0, 0.0, 0.0, 0.0, 1.0, 0.0, 1.0, 0.0, 0.0, 1.0, 0.0, 1.0, 0.0, 0.0, 0.0, 1.0, 1.0, 1.0, 1.0, 0.0, 1.0, 0.0, 1.0, 0.0, 1.0, 0.0, 1.0, 0.0, 0.0, 0.0, 1.0, 1.0, 0.0, 0.0, 0.0, 0.0, 0.0, 1.0, 1.0, 1.0, 0.0, 1.0, 0.0, 0.0, 1.0, 1.0, 0.0, 1.0, 0.0, 1.0, 0.0, 1.0, 1.0, 1.0, 1.0, 0.0, 1.0, 1.0, 0.0, 0.0, 0.0, 1.0, 1.0, 1.0, 0.0, 1.0, 0.0, 0.0, 0.0, 1.0, 1.0, 0.0, 0.0, 1.0, 0.0, 1.0, 0.0, 1.0, 0.0, 0.0, 0.0, 0.0, 0.0, 1.0, 1.0, 1.0, 1.0, 0.0, 0.0, 1.0, 0.0, 0.0, 1.0, 1.0, 1.0, 0.0, 1.0, 0.0, 0.0, 1.0, 0.0, 0.0, 1.0, 1.0, 1.0, 1.0, 0.0, 1.0, 1.0, 1.0, 1.0, 0.0, 1.0, 1.0, 0.0, 0.0, 1.0, 1.0, 1.0, 1.0, 1.0, 0.0, 1.0, 0.0, 1.0, 1.0, 1.0, 0.0, 1.0, 0.0, 0.0, 0.0, 1.0, 0.0, 1.0, 1.0, 0.0, 1.0, 0.0, 0.0, 1.0, 0.0, 1.0, 0.0, 1.0, 1.0, 1.0, 1.0, 1.0, 0.0, 0.0, 1.0, 1.0, 1.0, 1.0, 1.0, 1.0, 0.0, 1.0, 1.0, 1.0, 0.0, 1.0, 1.0, 1.0, 1.0, 1.0, 0.0, 0.0, 0.0, 1.0, 1.0, 0.0, 0.0, 0.0, 0.0, 1.0, 0.0, 1.0, 0.0, 0.0, 1.0, 1.0, 0.0, 1.0, 0.0, 0.0, 0.0, 1.0, 1.0, 0.0, 1.0, 0.0, 1.0, 1.0, 0.0, 0.0, 0.0, 0.0, 0.0, 0.0, 0.0, 1.0, 0.0, 0.0, 1.0, 1.0, 1.0, 0.0, 1.0, 1.0, 1.0, 0.0, 1.0, 1.0, 1.0, 0.0, 1.0, 0.0, 0.0, 1.0, 0.0, 0.0, 1.0, 0.0, 1.0, 0.0, 1.0, 0.0, 0.0, 1.0, 0.0, 1.0, 0.0, 0.0, 0.0, 0.0, 1.0, 0.0, 0.0, 0.0, 1.0, 0.0, 1.0, 0.0, 0.0, 0.0, 1.0, 0.0, 1.0, 0.0, 1.0, 1.0, 1.0, 1.0, 0.0, 1.0, 1.0, 0.0, 1.0, 1.0, 1.0, 1.0, 1.0, 1.0, 1.0, 0.0, 1.0, 1.0, 1.0, 1.0, 0.0, 1.0, 1.0, 0.0, 1.0, 1.0, 0.0, 0.0, 1.0, 0.0, 0.0, 0.0, 0.0, 0.0, 1.0, 1.0, 0.0, 1.0, 0.0, 1.0, 1.0, 1.0, 1.0, 1.0, 1.0, 1.0, 1.0, 1.0, 0.0, 0.0, 0.0, 0.0, 0.0, 1.0, 0.0, 0.0, 0.0, 1.0, 1.0, 1.0, 1.0, 1.0, 0.0, 0.0, 0.0, 0.0, 1.0, 1.0, 0.0, 0.0, 1.0, 0.0, 0.0, 1.0, 1.0, 1.0, 1.0, 1.0, 0.0, 1.0, 1.0, 1.0, 0.0, 0.0, 1.0, 1.0, 1.0, 0.0, 0.0, 0.0, 0.0, 0.0, 1.0, 1.0, 1.0, 0.0, 1.0, 0.0, 0.0, 0.0, 1.0, 0.0, 0.0, 0.0, 0.0, 0.0, 0.0, 0.0, 0.0, 0.0, 0.0, 0.0, 1.0, 1.0, 1.0, 1.0, 0.0, 1.0, 1.0, 1.0, 0.0, 0.0, 1.0, 1.0, 0.0, 1.0, 0.0, 1.0, 0.0, 0.0, 1.0, 0.0, 0.0, 0.0, 1.0, 0.0, 0.0, 0.0, 0.0, 0.0, 0.0, 1.0, 1.0, 0.0, 1.0, 0.0, 1.0, 0.0, 0.0, 1.0, 1.0, 0.0, 0.0, 1.0, 1.0, 0.0, 0.0, 1.0, 1.0, 0.0, 0.0, 0.0, 1.0, 0.0, 1.0, 0.0, 0.0, 0.0, 1.0, 1.0, 0.0, 1.0, 1.0, 1.0, 0.0, 1.0, 0.0, 0.0, 1.0, 1.0, 1.0, 0.0, 1.0, 1.0, 1.0, 1.0, 0.0, 0.0, 1.0, 0.0, 0.0, 0.0, 0.0, 1.0, 1.0, 1.0, 1.0, 0.0, 1.0, 0.0, 0.0, 1.0, 1.0, 1.0, 1.0, 1.0, 1.0, 0.0, 1.0, 0.0, 0.0, 1.0, 1.0, 1.0, 1.0, 1.0, 1.0, 0.0, 1.0, 0.0, 0.0, 0.0, 0.0, 0.0, 0.0, 1.0, 0.0, 0.0, 1.0, 1.0, 0.0, 0.0, 0.0, 0.0, 1.0, 0.0, 0.0, 1.0, 1.0, 1.0, 1.0, 1.0, 0.0, 0.0, 0.0, 1.0, 0.0, 1.0, 0.0, 1.0, 0.0, 0.0, 1.0, 0.0, 1.0, 0.0, 1.0, 1.0, 1.0, 1.0, 0.0, 0.0, 1.0, 1.0, 0.0, 1.0, 0.0, 1.0, 1.0, 0.0, 0.0, 1.0, 1.0, 1.0, 0.0, 0.0, 1.0, 1.0, 1.0, 0.0, 0.0, 0.0, 0.0, 0.0, 0.0, 1.0, 0.0, 1.0, 1.0, 1.0, 1.0, 1.0, 1.0, 1.0, 0.0, 0.0, 1.0, 1.0, 0.0, 1.0, 0.0, 1.0, 1.0, 0.0, 0.0, 1.0, 1.0, 1.0, 1.0, 1.0, 0.0, 1.0, 1.0, 0.0, 0.0, 0.0, 1.0, 0.0, 0.0, 0.0, 1.0, 0.0, 1.0, 1.0, 1.0, 0.0, 1.0, 0.0, 1.0, 1.0, 0.0, 1.0, 0.0, 0.0, 1.0, 0.0, 0.0, 1.0, 1.0, 1.0, 0.0, 1.0, 0.0, 1.0, 1.0, 1.0, 0.0, 0.0, 0.0, 1.0, 1.0, 0.0, 1.0, 1.0, 0.0, 0.0, 0.0, 0.0, 1.0, 0.0, 0.0, 1.0, 0.0, 1.0, 1.0, 1.0, 1.0, 0.0, 1.0, 1.0, 0.0, 0.0, 0.0, 1.0, 1.0, 1.0, 1.0, 1.0, 1.0, 1.0, 1.0, 0.0, 1.0, 1.0, 0.0, 0.0, 1.0, 0.0, 1.0, 0.0, 0.0, 1.0, 0.0, 1.0, 0.0, 0.0, 1.0, 1.0, 1.0, 1.0, 1.0, 0.0, 1.0, 1.0, 1.0, 0.0, 1.0, 1.0, 0.0, 0.0, 0.0, 0.0, 0.0, 0.0, 1.0, 1.0, 1.0, 0.0, 0.0, 1.0, 0.0, 0.0, 0.0, 1.0, 1.0, 1.0, 0.0, 1.0, 0.0, 0.0, 0.0, 1.0, 1.0, 1.0, 0.0, 0.0, 0.0, 0.0, 1.0, 0.0, 1.0, 0.0, 0.0, 1.0, 0.0, 1.0, 0.0, 1.0, 1.0, 0.0, 0.0, 0.0, 0.0, 1.0, 1.0, 1.0, 1.0, 0.0, 1.0, 0.0, 0.0, 1.0, 0.0, 1.0, 0.0, 0.0, 0.0, 0.0, 1.0, 0.0, 0.0, 0.0, 0.0, 0.0, 1.0, 1.0, 1.0, 1.0, 0.0, 0.0, 0.0, 0.0, 0.0, 0.0, 0.0, 1.0, 1.0, 1.0, 0.0, 1.0, 0.0, 1.0, 1.0, 0.0, 1.0, 1.0, 0.0, 0.0, 1.0, 0.0, 1.0, 0.0, 0.0, 1.0, 0.0, 0.0, 1.0, 1.0, 1.0, 1.0, 1.0, 0.0, 0.0, 0.0, 0.0, 1.0, 1.0, 0.0, 1.0, 0.0, 1.0, 1.0, 0.0, 1.0, 0.0, 1.0, 0.0, 0.0, 1.0, 0.0, 0.0, 1.0, 1.0, 1.0, 0.0, 1.0, 0.0, 0.0, 1.0, 0.0, 0.0, 0.0, 1.0, 0.0, 1.0, 1.0, 1.0, 1.0, 1.0, 0.0, 1.0, 0.0, 0.0, 0.0, 1.0, 1.0, 1.0, 0.0, 0.0, 1.0, 1.0, 1.0, 1.0, 1.0, 0.0, 1.0, 0.0, 1.0, 0.0, 0.0, 0.0, 1.0, 1.0, 1.0, 1.0, 0.0, 0.0, 0.0, 0.0, 1.0, 0.0, 0.0, 0.0, 1.0, 1.0, 0.0, 0.0, 1.0, 0.0, 0.0, 1.0, 1.0, 0.0, 0.0, 0.0, 0.0, 0.0, 1.0, 0.0, 1.0, 0.0, 1.0, 1.0, 0.0, 1.0, 1.0, 1.0, 1.0, 1.0, 0.0, 0.0, 0.0, 0.0, 1.0, 1.0, 0.0, 0.0, 1.0, 1.0, 0.0, 0.0, 1.0, 0.0, 0.0, 1.0, 1.0, 0.0, 1.0, 0.0, 1.0, 1.0, 0.0, 0.0, 0.0, 1.0, 1.0, 1.0, 0.0, 0.0, 0.0, 0.0, 1.0, 1.0, 0.0, 0.0, 0.0, 1.0, 0.0, 0.0, 0.0, 0.0, 1.0, 1.0, 0.0, 1.0, 1.0, 1.0, 1.0, 1.0, 1.0, 0.0, 0.0, 1.0, 0.0, 1.0, 0.0, 1.0, 1.0, 1.0, 1.0, 0.0, 0.0, 0.0, 0.0, 0.0, 0.0, 1.0, 0.0, 0.0, 1.0, 1.0, 0.0, 0.0, 0.0, 1.0, 0.0, 0.0, 0.0, 0.0, 1.0, 1.0, 1.0, 1.0, 1.0, 0.0, 0.0, 0.0, 0.0, 1.0, 1.0, 1.0, 1.0, 1.0, 0.0, 1.0, 0.0, 0.0, 0.0, 1.0, 0.0, 0.0, 1.0, 1.0, 1.0, 0.0, 1.0, 1.0, 1.0, 0.0, 0.0, 1.0, 1.0, 1.0, 1.0, 1.0, 0.0, 1.0, 1.0, 0.0, 0.0, 0.0, 0.0, 1.0, 1.0, 1.0, 0.0, 0.0, 0.0, 1.0, 0.0, 0.0, 1.0, 1.0, 1.0, 1.0, 1.0, 0.0, 1.0, 1.0, 1.0, 0.0, 0.0, 0.0, 0.0, 1.0, 1.0, 1.0, 0.0, 0.0, 1.0, 0.0, 0.0, 1.0, 1.0, 0.0, 0.0, 1.0, 1.0, 1.0, 0.0, 0.0, 0.0, 0.0, 1.0, 1.0, 1.0, 0.0, 1.0, 1.0, 1.0, 1.0, 1.0, 0.0, 1.0, 0.0, 0.0, 1.0, 1.0, 1.0, 1.0, 0.0, 0.0, 0.0, 1.0, 0.0, 1.0, 1.0, 1.0, 1.0, 0.0, 1.0, 0.0, 0.0, 0.0, 0.0, 1.0, 0.0, 1.0, 0.0, 0.0, 1.0, 1.0, 1.0, 1.0, 1.0, 0.0, 0.0, 0.0, 1.0, 1.0, 0.0, 0.0, 1.0, 0.0, 0.0, 0.0, 1.0, 1.0, 1.0, 1.0, 1.0, 1.0, 1.0, 0.0, 0.0, 0.0, 1.0, 1.0, 1.0, 0.0, 1.0, 1.0, 0.0, 0.0, 0.0, 0.0, 0.0, 1.0, 1.0, 0.0, 1.0, 1.0, 0.0, 0.0, 1.0, 1.0, 0.0, 0.0, 1.0, 0.0, 1.0, 1.0, 0.0, 0.0, 1.0, 1.0, 0.0, 0.0, 0.0, 0.0, 1.0, 1.0, 1.0, 1.0, 0.0, 0.0, 0.0, 0.0, 0.0, 1.0, 1.0, 0.0, 1.0, 1.0, 1.0, 0.0, 1.0, 1.0, 1.0, 1.0, 1.0, 0.0, 0.0, 0.0, 1.0, 0.0, 1.0, 0.0, 1.0, 0.0, 0.0, 0.0, 1.0, 1.0, 1.0, 0.0, 1.0, 0.0, 1.0, 1.0, 0.0, 1.0, 0.0, 1.0, 0.0, 0.0, 1.0, 1.0, 1.0, 0.0, 1.0, 0.0, 1.0, 0.0, 0.0, 0.0, 1.0, 1.0, 1.0, 1.0, 1.0, 1.0, 0.0, 1.0, 1.0, 0.0, 0.0, 1.0, 1.0, 0.0, 1.0, 1.0, 0.0, 1.0, 1.0, 0.0, 1.0, 0.0, 0.0, 0.0, 1.0, 0.0, 1.0, 1.0, 0.0, 1.0, 0.0, 1.0, 0.0, 1.0, 0.0, 1.0, 0.0, 0.0, 0.0, 0.0, 1.0, 1.0, 1.0, 1.0, 1.0, 0.0, 1.0, 1.0, 1.0, 1.0, 1.0, 1.0, 0.0, 0.0, 1.0, 0.0, 0.0, 0.0, 0.0, 0.0, 1.0, 1.0, 0.0, 1.0, 1.0, 1.0, 1.0, 1.0, 1.0, 0.0, 1.0, 1.0, 0.0, 1.0, 0.0, 0.0, 0.0, 1.0, 1.0, 0.0, 0.0, 0.0, 0.0, 1.0, 1.0, 1.0, 0.0, 1.0, 0.0, 0.0, 0.0, 1.0, 0.0, 1.0, 0.0, 0.0, 1.0, 1.0, 1.0, 0.0, 0.0, 1.0, 0.0, 1.0, 1.0, 0.0, 0.0, 0.0, 0.0, 1.0, 1.0, 0.0, 0.0, 1.0, 1.0, 0.0, 1.0, 1.0, 1.0, 0.0, 1.0, 0.0, 1.0, 0.0, 0.0, 0.0, 1.0, 0.0, 0.0, 1.0, 1.0, 1.0, 0.0, 1.0, 0.0, 0.0, 1.0, 1.0, 1.0, 1.0, 0.0, 0.0, 1.0, 1.0, 1.0, 1.0, 0.0, 1.0, 1.0, 1.0, 1.0, 1.0, 0.0, 1.0, 1.0, 0.0, 1.0, 1.0, 0.0, 0.0, 0.0, 0.0, 1.0, 0.0, 1.0, 1.0, 1.0, 1.0, 1.0, 1.0, 1.0, 0.0, 1.0, 0.0, 0.0, 1.0, 0.0, 0.0, 0.0, 0.0, 1.0, 1.0, 0.0, 1.0, 0.0, 1.0, 1.0, 1.0, 1.0, 1.0, 0.0, 1.0, 0.0, 0.0, 0.0, 1.0, 1.0, 0.0, 1.0, 1.0, 1.0, 0.0, 1.0, 1.0, 0.0, 0.0, 1.0, 1.0, 0.0, 1.0, 1.0, 1.0, 0.0, 1.0, 0.0, 0.0, 1.0, 1.0, 1.0, 1.0, 0.0, 0.0, 1.0, 1.0, 1.0, 1.0, 1.0, 1.0, 0.0, 1.0, 0.0, 0.0, 1.0, 0.0, 0.0, 0.0, 1.0, 0.0, 0.0, 0.0, 1.0, 0.0, 1.0, 0.0, 0.0, 1.0, 0.0, 1.0, 0.0, 1.0, 0.0, 1.0, 1.0, 0.0, 1.0, 0.0, 0.0, 1.0, 0.0, 0.0, 0.0, 0.0, 1.0, 0.0, 0.0, 0.0, 0.0, 0.0, 1.0, 0.0, 1.0, 1.0, 0.0, 1.0, 1.0, 1.0, 1.0, 1.0, 1.0, 0.0, 0.0, 1.0, 0.0, 1.0, 0.0, 1.0, 1.0, 0.0, 0.0, 0.0, 1.0, 0.0, 0.0, 0.0, 0.0, 0.0, 1.0, 0.0, 1.0, 1.0, 0.0, 0.0, 0.0, 1.0, 1.0, 0.0, 0.0, 1.0, 1.0, 1.0, 1.0, 1.0, 0.0, 1.0, 1.0, 0.0, 1.0, 0.0, 1.0, 1.0, 1.0, 0.0, 0.0, 0.0, 1.0, 1.0, 0.0, 0.0, 1.0, 1.0, 1.0, 1.0, 1.0, 0.0, 0.0, 1.0, 0.0, 1.0, 1.0, 0.0, 0.0, 1.0, 1.0, 1.0, 0.0, 0.0, 0.0, 1.0, 1.0, 0.0, 0.0, 1.0, 0.0, 1.0, 1.0, 1.0, 0.0, 1.0, 1.0, 0.0, 1.0, 0.0, 0.0, 1.0, 0.0, 0.0, 0.0, 1.0, 1.0, 1.0, 1.0, 1.0, 0.0, 0.0, 1.0, 1.0, 0.0, 0.0, 1.0, 1.0, 0.0, 0.0, 0.0, 1.0, 0.0, 0.0, 1.0, 1.0, 0.0, 1.0, 1.0, 0.0, 1.0, 0.0, 0.0, 0.0, 0.0, 0.0, 0.0, 0.0, 1.0, 0.0, 1.0, 0.0, 1.0, 1.0, 1.0, 0.0, 0.0, 1.0, 1.0, 1.0, 1.0, 0.0, 0.0, 1.0, 1.0, 1.0, 1.0, 1.0, 1.0, 0.0, 1.0, 1.0, 0.0, 1.0, 0.0, 1.0, 0.0, 0.0, 0.0, 1.0, 0.0, 0.0, 1.0, 0.0, 0.0, 1.0, 0.0, 0.0, 1.0, 1.0, 0.0, 0.0, 0.0, 0.0, 1.0, 1.0, 0.0, 0.0, 0.0, 1.0, 0.0, 0.0, 1.0, 0.0, 1.0, 0.0, 0.0, 0.0, 0.0, 1.0, 0.0, 1.0, 1.0, 1.0, 1.0, 1.0, 0.0, 1.0, 0.0, 0.0, 1.0, 0.0, 1.0, 1.0, 0.0, 1.0, 0.0, 0.0, 0.0, 0.0, 1.0, 0.0, 1.0, 1.0, 0.0, 1.0, 0.0, 1.0, 0.0, 1.0, 1.0, 0.0, 1.0, 1.0, 1.0, 0.0, 0.0, 0.0, 0.0, 0.0, 1.0, 1.0, 0.0, 1.0, 1.0, 0.0, 0.0, 0.0, 1.0, 0.0, 0.0, 1.0, 0.0, 0.0, 0.0, 1.0, 0.0, 0.0, 1.0, 0.0, 0.0, 1.0, 0.0, 0.0, 0.0, 0.0, 0.0, 0.0, 0.0, 1.0, 0.0, 1.0, 1.0, 0.0, 0.0, 0.0, 0.0, 1.0, 0.0, 1.0, 1.0, 1.0, 0.0, 0.0, 0.0, 1.0, 1.0, 1.0, 1.0, 1.0, 0.0, 1.0, 1.0, 0.0, 1.0, 0.0, 1.0, 0.0, 0.0, 0.0, 0.0, 0.0, 1.0, 1.0, 0.0, 0.0, 1.0, 0.0, 1.0, 1.0, 1.0, 1.0, 0.0, 0.0, 1.0, 1.0, 1.0, 0.0, 1.0, 1.0, 1.0, 0.0, 0.0, 1.0, 1.0, 1.0, 0.0, 1.0, 0.0, 0.0, 1.0, 0.0, 1.0, 1.0, 0.0, 1.0, 0.0, 1.0, 1.0, 1.0, 1.0, 1.0, 1.0, 0.0, 0.0, 0.0, 0.0, 0.0, 1.0, 0.0, 0.0, 0.0, 1.0, 1.0, 0.0, 0.0, 0.0, 1.0, 0.0, 0.0, 0.0, 0.0, 1.0, 0.0, 1.0, 1.0, 0.0, 0.0, 0.0, 1.0, 1.0, 1.0, 1.0, 1.0, 0.0, 0.0, 0.0, 1.0, 0.0, 0.0, 1.0, 1.0, 1.0, 1.0, 0.0, 0.0, 1.0, 1.0, 1.0, 1.0, 1.0, 1.0, 0.0, 0.0, 0.0, 0.0, 1.0, 1.0, 1.0, 0.0, 0.0, 1.0, 1.0, 0.0, 1.0, 1.0, 0.0, 0.0, 0.0, 0.0, 1.0, 0.0, 1.0, 1.0, 0.0, 0.0, 1.0, 0.0, 0.0, 1.0, 1.0, 1.0, 0.0, 0.0, 1.0, 1.0, 1.0, 0.0, 0.0, 1.0, 1.0, 0.0, 0.0, 0.0, 1.0, 1.0, 1.0, 1.0, 1.0, 1.0, 0.0, 1.0, 0.0, 1.0, 1.0, 1.0, 1.0, 0.0, 0.0, 0.0, 1.0, 0.0, 1.0, 1.0, 1.0, 1.0, 1.0, 1.0, 1.0, 1.0, 0.0, 1.0, 1.0, 0.0, 1.0, 1.0, 1.0, 1.0, 0.0, 0.0, 1.0, 1.0, 1.0, 1.0, 1.0, 1.0, 0.0, 1.0, 1.0, 1.0, 1.0, 0.0, 1.0, 1.0, 0.0, 1.0, 1.0, 1.0, 0.0, 1.0, 1.0, 0.0, 1.0, 1.0, 1.0, 1.0, 0.0, 0.0, 0.0, 0.0, 1.0, 0.0, 0.0, 1.0, 1.0, 1.0, 1.0, 0.0, 0.0, 1.0, 0.0, 1.0, 0.0, 0.0, 0.0, 1.0, 1.0, 0.0, 1.0, 1.0, 1.0, 1.0, 0.0, 0.0, 1.0, 0.0, 0.0, 0.0, 1.0, 1.0, 1.0, 1.0, 1.0, 0.0, 0.0, 1.0, 1.0, 1.0, 1.0, 0.0, 1.0, 1.0, 0.0, 1.0, 1.0, 0.0, 1.0, 1.0, 0.0, 1.0, 1.0, 0.0, 1.0, 1.0, 1.0, 1.0, 0.0, 0.0, 0.0, 1.0, 0.0, 0.0, 0.0, 1.0, 0.0, 0.0, 0.0, 1.0, 1.0, 1.0, 1.0, 0.0, 1.0, 1.0, 0.0, 1.0, 0.0, 1.0, 0.0, 1.0, 1.0, 1.0, 1.0, 1.0, 0.0, 0.0, 0.0, 1.0, 0.0, 1.0, 0.0, 1.0, 0.0, 1.0, 0.0, 1.0, 0.0, 1.0, 0.0, 0.0, 1.0, 0.0, 1.0, 1.0, 0.0, 0.0, 1.0, 0.0, 1.0, 1.0, 0.0, 0.0, 0.0, 1.0, 1.0, 1.0, 1.0, 1.0, 0.0, 1.0, 1.0, 1.0, 0.0, 1.0, 1.0, 1.0, 0.0, 0.0, 1.0, 0.0, 0.0, 0.0, 0.0, 1.0, 0.0, 1.0, 1.0, 0.0, 0.0, 0.0, 1.0, 1.0, 1.0, 1.0, 0.0, 1.0, 0.0, 1.0, 0.0, 1.0, 1.0, 1.0, 1.0, 0.0, 0.0, 1.0, 0.0, 1.0, 0.0, 0.0, 1.0, 1.0, 1.0, 0.0, 0.0, 0.0, 1.0, 0.0, 0.0, 0.0, 0.0, 0.0, 0.0, 0.0, 0.0, 1.0, 0.0, 1.0, 1.0, 1.0, 0.0, 1.0, 0.0, 0.0, 0.0, 0.0, 1.0, 1.0, 1.0, 0.0, 0.0, 0.0, 0.0, 1.0, 1.0, 1.0, 0.0, 1.0, 1.0, 1.0, 0.0, 1.0, 1.0, 1.0, 1.0, 1.0, 1.0, 0.0, 0.0, 0.0, 0.0, 0.0, 0.0, 0.0, 0.0, 0.0, 1.0, 1.0, 1.0, 1.0, 0.0, 0.0, 0.0, 1.0, 1.0, 1.0, 1.0, 1.0, 1.0, 0.0, 0.0, 0.0, 0.0, 1.0, 0.0, 1.0, 0.0, 1.0, 0.0, 0.0, 1.0, 0.0, 0.0, 1.0, 0.0, 1.0, 0.0, 1.0, 0.0, 0.0, 0.0, 0.0, 1.0, 0.0, 1.0, 0.0, 0.0, 0.0, 1.0, 1.0, 0.0, 0.0, 1.0, 0.0, 1.0, 1.0, 1.0, 0.0, 0.0, 1.0, 1.0, 1.0, 1.0, 1.0, 0.0, 1.0, 1.0, 1.0, 0.0, 0.0, 1.0, 1.0, 1.0, 1.0, 0.0, 1.0, 1.0, 1.0, 1.0, 1.0, 0.0, 0.0, 0.0, 0.0, 1.0, 1.0, 0.0, 1.0, 1.0, 0.0, 1.0, 1.0, 1.0, 0.0, 0.0, 1.0, 0.0, 0.0, 0.0, 0.0, 0.0, 1.0, 0.0, 0.0, 1.0, 0.0, 1.0, 1.0, 0.0, 0.0, 1.0, 0.0, 0.0, 0.0, 1.0, 1.0, 0.0, 0.0, 0.0, 0.0, 1.0, 0.0, 1.0, 0.0, 0.0, 1.0, 0.0, 1.0, 0.0, 0.0, 1.0, 1.0, 1.0, 1.0, 0.0, 0.0, 0.0, 1.0, 1.0, 1.0, 1.0, 0.0, 0.0, 0.0, 1.0, 1.0, 1.0, 1.0, 0.0, 0.0, 0.0, 1.0, 0.0, 0.0, 1.0, 1.0, 0.0, 0.0, 1.0, 1.0, 1.0, 0.0, 0.0, 0.0, 1.0, 1.0, 1.0, 0.0, 0.0, 0.0, 1.0, 1.0, 0.0, 1.0, 1.0, 0.0, 1.0, 1.0, 0.0, 1.0, 1.0, 1.0, 1.0, 1.0, 1.0, 1.0, 1.0, 0.0, 0.0, 1.0, 1.0, 1.0, 0.0, 1.0, 1.0, 1.0, 0.0, 0.0, 0.0, 1.0, 1.0, 0.0, 1.0, 0.0, 1.0, 1.0, 0.0, 0.0, 0.0, 0.0, 1.0, 1.0, 1.0, 0.0, 1.0, 0.0, 0.0, 1.0, 0.0, 0.0, 0.0, 0.0, 1.0, 0.0, 0.0, 1.0, 1.0, 0.0, 0.0, 1.0, 0.0, 0.0, 0.0, 1.0, 0.0, 0.0, 0.0, 0.0, 0.0, 1.0, 0.0, 1.0, 0.0, 0.0, 0.0, 1.0, 0.0, 1.0, 1.0, 1.0, 0.0, 0.0, 1.0, 0.0, 1.0, 1.0, 0.0, 1.0, 1.0, 1.0, 1.0, 0.0, 1.0, 1.0, 0.0, 0.0, 1.0, 1.0, 0.0, 1.0, 0.0, 0.0, 0.0, 0.0, 1.0, 1.0, 1.0, 1.0, 1.0, 1.0, 1.0, 0.0, 1.0, 0.0, 1.0, 0.0, 0.0, 1.0, 0.0, 0.0, 0.0, 0.0, 1.0, 0.0, 0.0, 0.0, 1.0, 1.0, 1.0, 1.0, 0.0, 1.0, 0.0, 1.0, 1.0, 1.0, 0.0, 1.0, 1.0, 0.0, 0.0, 0.0, 1.0, 0.0, 0.0, 1.0, 0.0, 1.0, 1.0, 1.0, 0.0, 0.0, 0.0, 1.0, 0.0, 1.0, 0.0, 0.0, 1.0, 1.0, 1.0, 0.0, 1.0, 1.0, 0.0, 0.0, 1.0, 0.0, 1.0, 1.0, 1.0, 0.0, 0.0, 0.0, 1.0, 0.0, 0.0, 1.0, 1.0, 0.0, 1.0, 1.0, 0.0, 1.0, 0.0, 1.0, 1.0, 1.0, 0.0, 1.0, 1.0, 1.0, 0.0, 0.0, 1.0, 0.0, 0.0, 0.0, 0.0, 1.0, 1.0, 1.0, 1.0, 1.0, 1.0, 0.0, 0.0, 1.0, 1.0, 1.0, 0.0, 1.0, 0.0, 0.0, 1.0, 1.0, 1.0, 0.0, 1.0, 1.0, 1.0, 1.0, 1.0, 0.0, 0.0, 1.0, 1.0, 0.0, 1.0, 1.0, 1.0, 1.0, 0.0, 1.0, 1.0, 1.0, 1.0, 0.0, 1.0, 1.0, 0.0, 0.0, 1.0, 1.0, 0.0, 1.0, 0.0, 1.0, 0.0, 1.0, 0.0, 0.0, 1.0, 0.0, 1.0, 0.0, 0.0, 0.0, 0.0, 1.0, 0.0, 0.0, 1.0, 1.0, 1.0, 1.0, 1.0, 0.0, 1.0, 0.0, 1.0, 1.0, 1.0, 1.0, 0.0, 0.0, 0.0, 1.0, 0.0, 0.0, 0.0, 1.0, 0.0, 1.0, 1.0, 1.0, 1.0, 0.0, 1.0, 1.0, 1.0, 0.0, 0.0, 1.0, 0.0, 1.0, 0.0, 1.0, 1.0, 1.0, 1.0, 0.0, 1.0, 1.0, 1.0, 1.0, 1.0, 0.0, 1.0, 1.0, 1.0, 0.0, 1.0, 0.0, 0.0, 0.0, 1.0, 1.0, 0.0, 0.0, 1.0, 0.0, 1.0, 0.0, 1.0, 1.0, 1.0, 0.0, 1.0, 0.0, 0.0, 1.0, 1.0, 1.0, 1.0, 0.0, 0.0, 1.0, 1.0, 0.0, 1.0, 0.0, 1.0, 1.0, 0.0, 1.0, 0.0, 1.0, 0.0, 1.0, 0.0, 1.0, 1.0, 0.0, 1.0, 0.0, 1.0, 1.0, 0.0, 0.0, 0.0, 1.0, 0.0, 1.0, 0.0, 1.0, 1.0, 0.0, 1.0, 0.0, 1.0, 1.0, 0.0, 0.0, 1.0, 1.0, 0.0, 0.0, 0.0, 0.0, 1.0, 0.0, 1.0, 1.0, 0.0, 0.0, 1.0, 1.0, 0.0, 0.0, 0.0, 0.0, 0.0, 1.0, 0.0, 1.0, 0.0, 1.0, 1.0, 1.0, 1.0, 1.0, 1.0, 0.0, 1.0, 0.0, 0.0, 0.0, 1.0, 0.0, 0.0, 0.0, 1.0, 1.0, 1.0, 0.0, 1.0, 1.0, 0.0, 1.0, 1.0, 0.0, 0.0, 0.0, 0.0, 0.0, 0.0, 1.0, 1.0, 0.0, 1.0, 0.0, 0.0, 0.0, 1.0, 0.0, 0.0, 1.0, 0.0, 1.0, 0.0, 1.0, 0.0, 1.0, 0.0, 0.0, 1.0, 0.0, 1.0, 0.0, 1.0, 0.0, 0.0, 1.0, 0.0, 1.0, 1.0, 1.0, 0.0, 1.0, 1.0, 1.0, 1.0, 0.0, 1.0, 0.0, 1.0, 1.0, 1.0, 0.0, 1.0, 0.0, 1.0, 1.0, 0.0, 1.0, 0.0, 0.0, 0.0, 1.0, 1.0, 0.0, 0.0, 1.0, 1.0, 1.0, 0.0, 0.0, 0.0, 1.0, 1.0, 1.0, 0.0, 1.0, 1.0, 0.0, 0.0, 1.0, 0.0, 0.0, 1.0, 0.0, 1.0, 0.0, 1.0, 1.0, 1.0, 0.0, 0.0, 1.0, 1.0, 1.0, 0.0, 1.0, 1.0, 0.0, 0.0, 1.0, 1.0, 0.0, 0.0, 1.0, 0.0, 1.0, 1.0, 1.0, 1.0, 1.0, 1.0, 0.0, 1.0, 1.0, 0.0, 1.0, 1.0, 1.0, 1.0, 0.0, 1.0, 1.0, 1.0, 0.0, 1.0, 0.0, 1.0, 0.0, 0.0, 0.0, 1.0, 1.0, 0.0, 1.0, 0.0, 1.0, 0.0, 0.0, 0.0, 1.0, 0.0, 0.0, 1.0, 0.0, 0.0, 0.0, 0.0, 1.0, 0.0, 0.0, 1.0, 1.0, 1.0, 1.0, 0.0, 0.0, 1.0, 1.0, 1.0, 0.0, 0.0, 1.0, 0.0, 1.0, 1.0, 1.0, 0.0, 1.0, 1.0, 1.0, 1.0, 1.0, 1.0, 1.0, 1.0, 1.0, 0.0, 0.0, 0.0, 0.0, 0.0, 0.0, 1.0, 1.0, 1.0, 1.0, 1.0, 0.0, 1.0, 0.0, 1.0, 0.0, 1.0, 0.0, 0.0, 0.0, 1.0, 1.0, 0.0, 0.0, 0.0, 1.0, 0.0, 1.0, 0.0, 0.0, 1.0, 1.0, 1.0, 0.0, 1.0, 0.0, 1.0, 1.0, 1.0, 1.0, 0.0, 1.0, 0.0, 0.0, 1.0, 1.0, 1.0, 0.0, 0.0, 1.0, 1.0, 1.0, 0.0, 1.0, 1.0, 0.0, 0.0, 0.0, 0.0, 0.0, 0.0, 0.0, 0.0, 0.0, 1.0, 1.0, 1.0, 1.0, 0.0, 1.0, 1.0, 0.0, 0.0, 1.0, 0.0, 0.0, 1.0, 1.0, 0.0, 1.0, 0.0, 0.0, 1.0, 1.0, 1.0, 0.0, 0.0, 1.0, 1.0, 1.0, 0.0, 1.0, 1.0, 1.0, 0.0, 1.0, 1.0, 1.0, 0.0, 1.0, 1.0, 1.0, 0.0, 1.0, 0.0, 1.0, 0.0, 1.0, 0.0, 0.0, 0.0, 0.0, 0.0, 1.0, 0.0, 0.0, 1.0, 1.0, 1.0, 1.0, 1.0, 0.0, 0.0, 0.0, 0.0, 0.0, 1.0, 1.0, 0.0, 0.0, 1.0, 0.0, 0.0, 1.0, 1.0, 0.0, 1.0, 1.0, 0.0, 0.0, 1.0, 1.0, 1.0, 0.0, 1.0, 1.0, 0.0, 1.0, 0.0, 1.0, 1.0, 0.0, 0.0, 0.0, 0.0, 0.0, 1.0, 0.0, 0.0, 1.0, 0.0, 1.0, 0.0, 0.0, 1.0, 1.0, 1.0, 1.0, 0.0, 1.0, 1.0, 1.0, 1.0, 0.0, 0.0, 0.0, 0.0, 0.0, 1.0, 0.0, 1.0, 0.0, 0.0, 1.0, 1.0, 1.0, 1.0, 1.0, 1.0, 0.0, 0.0, 1.0, 1.0, 1.0, 0.0, 1.0, 1.0, 0.0, 1.0, 0.0, 0.0, 1.0, 0.0, 1.0, 1.0, 1.0, 0.0, 1.0, 0.0, 0.0, 1.0, 1.0, 0.0, 0.0, 0.0, 1.0, 0.0, 0.0, 0.0, 1.0, 0.0, 1.0, 1.0, 0.0, 1.0, 0.0, 0.0, 1.0, 0.0, 0.0, 1.0, 1.0, 1.0, 0.0, 0.0, 0.0, 1.0, 1.0, 1.0, 0.0, 0.0, 1.0, 1.0, 1.0, 0.0, 0.0, 1.0, 1.0, 0.0, 0.0, 1.0, 1.0, 1.0, 1.0, 0.0, 0.0, 1.0, 1.0, 1.0, 1.0, 1.0, 1.0, 0.0, 0.0, 0.0, 0.0, 1.0, 1.0, 0.0, 0.0, 1.0, 1.0, 0.0, 0.0, 0.0, 0.0, 0.0, 0.0, 1.0, 0.0, 0.0, 1.0, 1.0, 1.0, 1.0, 1.0, 1.0, 1.0, 0.0, 0.0, 1.0, 1.0, 0.0, 1.0, 0.0, 1.0, 0.0, 1.0, 0.0, 0.0, 0.0, 1.0, 0.0, 0.0, 0.0, 0.0, 1.0, 0.0, 1.0, 1.0, 0.0, 1.0, 1.0, 0.0, 0.0, 1.0, 0.0, 1.0, 1.0, 0.0, 0.0, 1.0, 1.0, 1.0, 0.0, 0.0, 0.0, 1.0, 0.0, 1.0, 0.0, 0.0, 0.0, 0.0, 0.0, 0.0, 1.0, 0.0, 0.0, 0.0, 1.0, 0.0, 1.0, 0.0, 0.0, 1.0, 1.0, 0.0, 0.0, 0.0, 1.0, 0.0, 1.0, 1.0, 1.0, 0.0, 0.0, 1.0, 0.0, 0.0, 0.0, 1.0, 1.0, 0.0, 0.0, 1.0, 0.0, 1.0, 1.0, 0.0, 0.0, 0.0, 1.0, 1.0, 1.0, 1.0, 0.0, 1.0, 0.0, 1.0, 1.0, 0.0, 1.0, 1.0, 0.0, 1.0, 1.0, 0.0, 1.0, 0.0, 0.0, 1.0, 0.0, 1.0, 1.0, 0.0, 0.0, 0.0, 0.0, 1.0, 0.0, 0.0, 1.0, 1.0, 0.0, 0.0, 1.0, 1.0, 1.0, 1.0, 0.0, 1.0, 0.0, 0.0, 0.0, 1.0, 1.0, 1.0, 1.0, 1.0, 1.0, 0.0, 0.0, 1.0, 0.0, 0.0, 0.0, 0.0, 1.0, 1.0, 0.0, 1.0, 0.0, 1.0, 0.0, 1.0, 1.0, 1.0, 0.0, 1.0, 0.0, 0.0, 0.0, 0.0, 1.0, 1.0, 1.0, 1.0, 0.0, 0.0, 0.0, 0.0, 1.0, 1.0, 0.0, 1.0, 0.0, 0.0, 1.0, 1.0, 1.0, 1.0, 0.0, 1.0, 1.0, 0.0, 0.0, 1.0, 1.0, 0.0, 1.0, 1.0, 0.0, 0.0, 1.0, 0.0, 0.0, 0.0, 1.0, 0.0, 1.0, 1.0, 0.0, 0.0, 0.0, 0.0, 1.0, 0.0, 1.0, 1.0, 0.0, 0.0, 0.0, 0.0, 0.0, 0.0, 1.0, 0.0, 0.0, 1.0, 1.0, 0.0, 1.0, 0.0, 0.0, 1.0, 1.0, 0.0, 0.0, 1.0, 1.0, 0.0, 1.0, 1.0, 1.0, 1.0, 0.0, 0.0, 0.0, 0.0, 1.0, 0.0, 0.0, 0.0, 1.0, 1.0, 1.0, 0.0, 1.0, 1.0, 0.0, 0.0, 0.0, 0.0, 0.0, 0.0, 0.0, 1.0, 1.0, 1.0, 1.0, 1.0, 1.0, 0.0, 0.0, 0.0, 1.0, 0.0, 0.0, 0.0, 1.0, 0.0, 1.0, 0.0, 1.0, 1.0, 0.0, 1.0, 0.0, 0.0, 1.0, 1.0, 0.0, 1.0, 1.0, 0.0, 0.0, 1.0, 1.0, 0.0, 0.0, 0.0, 1.0, 1.0, 0.0, 1.0, 0.0, 1.0, 1.0, 1.0, 1.0, 0.0, 1.0, 0.0, 0.0, 1.0, 0.0, 1.0, 1.0, 0.0, 0.0, 0.0, 0.0, 0.0, 1.0, 0.0, 1.0, 0.0, 1.0, 0.0, 0.0, 1.0, 1.0, 0.0, 0.0, 0.0, 1.0, 1.0, 0.0, 1.0, 0.0, 0.0, 1.0, 0.0, 0.0, 0.0, 1.0, 1.0, 0.0, 1.0, 1.0, 0.0, 0.0, 0.0, 1.0, 1.0, 1.0, 1.0, 1.0, 1.0, 1.0, 1.0, 1.0, 0.0, 0.0, 1.0, 1.0, 0.0, 0.0, 0.0, 1.0, 1.0, 0.0, 1.0, 1.0, 0.0, 1.0, 1.0, 1.0, 0.0, 1.0, 0.0, 0.0, 1.0, 0.0, 0.0, 1.0, 1.0, 1.0, 1.0, 0.0, 0.0, 0.0, 0.0, 1.0, 0.0, 1.0, 1.0, 0.0, 1.0, 1.0, 1.0, 0.0, 0.0, 1.0, 0.0, 0.0, 0.0, 1.0, 1.0, 0.0, 0.0, 1.0, 0.0, 1.0, 0.0, 1.0, 1.0, 0.0, 1.0, 1.0, 0.0, 1.0, 1.0, 1.0, 0.0, 1.0, 1.0, 0.0, 1.0, 1.0, 1.0, 0.0, 0.0, 1.0, 1.0, 1.0, 1.0, 0.0, 0.0, 0.0, 0.0, 1.0, 1.0, 1.0, 1.0, 0.0, 0.0, 0.0, 0.0, 0.0, 0.0, 1.0, 1.0, 1.0, 0.0, 0.0, 1.0, 0.0, 0.0, 1.0, 1.0, 0.0, 1.0, 0.0, 1.0, 0.0, 0.0, 1.0, 0.0, 1.0, 0.0, 1.0, 0.0, 0.0, 0.0, 0.0, 1.0, 0.0, 0.0, 0.0, 1.0, 0.0, 1.0, 0.0, 1.0, 0.0, 1.0, 0.0, 0.0, 0.0, 0.0, 0.0, 1.0, 1.0, 0.0, 0.0, 1.0, 1.0, 1.0, 1.0, 1.0, 1.0, 1.0, 1.0, 1.0, 1.0, 1.0, 0.0, 0.0, 1.0, 0.0, 1.0, 0.0, 1.0, 1.0, 0.0, 0.0, 0.0, 1.0, 0.0, 1.0, 1.0, 1.0, 0.0, 0.0, 0.0, 0.0, 1.0, 0.0, 0.0, 0.0, 0.0, 0.0, 0.0, 0.0, 1.0, 0.0, 0.0, 1.0, 0.0, 0.0, 1.0, 0.0, 0.0, 1.0, 0.0, 0.0, 1.0, 1.0, 0.0, 1.0, 0.0, 1.0, 0.0, 1.0, 0.0, 0.0, 1.0, 0.0, 0.0, 1.0, 1.0, 1.0, 1.0, 0.0, 1.0, 1.0, 0.0, 0.0, 0.0, 0.0, 0.0, 0.0, 0.0, 0.0, 1.0, 0.0, 1.0, 0.0, 1.0, 1.0, 0.0, 0.0, 1.0, 1.0, 0.0, 1.0, 1.0, 0.0, 1.0, 1.0, 1.0, 1.0, 0.0, 1.0, 1.0, 1.0, 1.0, 0.0, 0.0, 1.0, 0.0, 1.0, 1.0, 0.0, 1.0, 1.0, 0.0, 0.0, 0.0, 1.0, 1.0, 1.0, 1.0, 0.0, 1.0, 0.0, 0.0, 0.0, 0.0, 0.0, 1.0, 1.0, 0.0, 1.0, 0.0, 0.0, 0.0, 0.0, 0.0, 1.0, 0.0, 0.0, 1.0, 0.0, 0.0, 1.0, 1.0, 1.0, 0.0, 1.0, 0.0, 1.0, 1.0, 0.0, 0.0, 0.0, 0.0, 1.0, 1.0, 1.0, 0.0, 0.0, 1.0, 1.0, 0.0, 0.0, 1.0, 1.0, 0.0, 0.0, 0.0, 1.0, 0.0, 1.0, 1.0, 0.0, 1.0, 1.0, 0.0, 1.0, 1.0, 0.0, 1.0, 1.0, 0.0, 1.0, 1.0, 0.0, 0.0, 0.0, 1.0, 0.0, 1.0, 1.0, 1.0, 1.0, 1.0, 0.0, 0.0, 1.0, 0.0, 0.0, 1.0, 0.0, 0.0, 0.0, 1.0, 0.0, 0.0, 0.0, 1.0, 0.0, 0.0, 1.0, 0.0, 1.0, 1.0, 1.0, 0.0, 0.0, 0.0, 0.0, 1.0, 1.0, 1.0, 0.0, 1.0, 0.0, 1.0, 0.0, 1.0, 0.0, 0.0, 0.0, 0.0, 0.0, 1.0, 1.0, 0.0, 1.0, 1.0, 1.0, 0.0, 1.0, 1.0, 1.0, 1.0, 1.0, 1.0, 1.0, 0.0, 0.0, 0.0, 1.0, 0.0, 1.0, 0.0, 0.0, 1.0, 0.0, 0.0, 1.0, 1.0, 0.0, 0.0, 0.0, 0.0, 1.0, 0.0, 0.0, 0.0, 1.0, 1.0, 1.0, 0.0, 0.0, 1.0, 1.0, 1.0, 1.0, 0.0, 0.0, 1.0, 1.0, 1.0, 1.0, 1.0, 0.0, 0.0, 1.0, 1.0, 1.0, 0.0, 0.0, 1.0, 0.0, 1.0, 0.0, 0.0, 0.0, 1.0, 1.0, 1.0, 1.0, 0.0, 0.0, 0.0, 0.0, 0.0, 0.0, 0.0, 0.0, 0.0, 1.0, 1.0, 1.0, 0.0, 0.0, 0.0, 0.0, 1.0, 0.0, 0.0, 1.0, 1.0, 0.0, 1.0, 0.0, 0.0, 0.0, 0.0, 1.0, 0.0, 0.0, 0.0, 0.0, 1.0, 1.0, 1.0, 0.0, 0.0, 0.0, 1.0, 0.0, 1.0, 0.0, 0.0, 0.0, 1.0, 0.0, 0.0, 0.0, 0.0, 0.0, 0.0, 1.0, 0.0, 1.0, 0.0, 1.0, 1.0, 1.0, 0.0, 1.0, 0.0, 1.0, 1.0, 0.0, 0.0, 0.0, 0.0, 1.0, 0.0, 1.0, 1.0, 1.0, 1.0, 1.0, 1.0, 0.0, 0.0, 1.0, 0.0, 1.0, 0.0, 0.0, 0.0, 1.0, 1.0, 1.0, 1.0, 0.0, 1.0, 1.0, 1.0, 0.0, 0.0, 0.0, 1.0, 0.0, 1.0, 0.0, 0.0, 1.0, 1.0, 0.0, 0.0, 1.0, 0.0, 0.0, 0.0, 1.0, 1.0, 1.0, 1.0, 0.0, 0.0, 0.0, 1.0, 1.0, 0.0, 1.0, 1.0, 0.0, 0.0, 0.0, 1.0, 0.0, 0.0, 1.0, 1.0, 0.0, 0.0, 1.0, 1.0, 0.0, 1.0, 1.0, 0.0, 0.0, 0.0, 0.0, 1.0, 0.0, 1.0, 1.0, 0.0, 0.0, 0.0, 1.0, 0.0, 1.0, 1.0, 1.0, 0.0, 0.0, 0.0, 1.0, 0.0, 1.0, 1.0, 1.0, 0.0, 1.0, 1.0, 0.0, 0.0, 0.0, 1.0, 0.0, 1.0, 0.0, 1.0, 0.0, 1.0, 1.0, 0.0, 0.0, 1.0, 0.0, 0.0, 0.0, 1.0, 0.0, 0.0, 0.0, 0.0, 0.0, 1.0, 0.0, 1.0, 1.0, 0.0, 1.0, 1.0, 1.0, 0.0, 1.0, 1.0, 0.0, 1.0, 1.0, 0.0, 0.0, 1.0, 1.0, 1.0, 1.0, 0.0, 0.0, 0.0, 1.0, 0.0, 0.0, 0.0, 0.0, 0.0, 0.0, 1.0, 1.0, 1.0, 0.0, 1.0, 0.0, 0.0, 1.0, 1.0, 0.0, 0.0, 1.0, 1.0, 0.0, 0.0, 1.0, 1.0, 0.0, 0.0, 0.0, 1.0, 1.0, 0.0, 1.0, 1.0, 0.0, 1.0, 1.0, 1.0, 1.0, 1.0, 1.0, 1.0, 0.0, 1.0, 1.0, 0.0, 0.0, 0.0, 0.0, 0.0, 1.0, 0.0, 1.0, 0.0, 0.0, 1.0, 0.0, 0.0, 0.0, 0.0, 1.0, 1.0, 1.0, 0.0, 0.0, 0.0, 1.0, 1.0, 1.0, 0.0, 0.0, 0.0, 0.0, 1.0, 1.0, 0.0, 0.0, 1.0, 0.0, 0.0, 1.0, 1.0, 0.0, 1.0, 0.0, 0.0, 1.0, 0.0, 1.0, 0.0, 1.0, 1.0, 0.0, 0.0, 1.0, 1.0, 0.0, 0.0, 1.0, 1.0, 0.0, 0.0, 0.0, 0.0, 0.0, 0.0, 0.0, 1.0, 0.0, 0.0, 0.0, 0.0, 1.0, 0.0, 1.0, 1.0, 0.0, 0.0, 1.0, 0.0, 1.0, 1.0, 1.0, 1.0, 1.0, 1.0, 1.0, 0.0, 1.0, 0.0, 1.0, 0.0, 1.0, 1.0, 0.0, 0.0, 0.0, 0.0, 1.0, 0.0, 1.0, 1.0, 1.0, 1.0, 0.0, 1.0, 1.0, 1.0, 0.0, 0.0, 1.0, 1.0, 1.0, 1.0, 1.0, 0.0, 0.0, 0.0, 1.0, 0.0, 0.0, 1.0, 0.0, 1.0, 1.0, 0.0, 0.0, 0.0, 0.0, 0.0, 1.0, 0.0, 0.0, 0.0, 0.0, 0.0, 0.0, 0.0, 0.0, 0.0, 1.0, 1.0, 0.0, 1.0, 1.0, 0.0, 1.0, 1.0, 0.0, 1.0, 1.0, 0.0, 0.0, 1.0, 0.0, 0.0, 1.0, 0.0, 0.0, 0.0, 0.0, 1.0, 0.0, 1.0, 1.0, 1.0, 0.0, 1.0, 0.0, 0.0, 0.0, 1.0, 0.0, 1.0, 0.0, 0.0, 1.0, 1.0, 0.0, 0.0, 0.0, 0.0, 1.0, 0.0, 0.0, 1.0, 1.0, 1.0, 1.0, 0.0, 0.0, 0.0, 1.0, 0.0, 0.0, 1.0, 1.0, 0.0, 0.0, 0.0, 1.0, 1.0, 1.0, 0.0, 1.0, 0.0, 1.0, 1.0, 0.0, 1.0, 0.0, 0.0, 0.0, 0.0, 0.0, 0.0, 0.0, 0.0, 1.0, 1.0, 1.0, 1.0, 1.0, 0.0, 0.0, 1.0, 0.0, 0.0, 1.0, 1.0, 0.0, 1.0, 0.0, 0.0, 1.0, 1.0, 1.0, 1.0, 0.0, 0.0, 1.0, 1.0, 0.0, 0.0, 1.0, 1.0, 0.0, 0.0, 0.0, 1.0, 0.0, 1.0, 0.0, 1.0, 0.0, 0.0, 1.0, 1.0, 1.0, 0.0, 1.0, 1.0, 0.0, 0.0, 1.0, 1.0, 0.0, 1.0, 1.0, 0.0, 0.0, 0.0, 1.0, 0.0, 0.0, 0.0, 1.0, 0.0, 0.0, 1.0, 0.0, 0.0, 1.0, 0.0, 0.0, 0.0, 0.0, 1.0, 1.0, 0.0, 0.0, 1.0, 1.0, 1.0, 1.0, 1.0, 1.0, 0.0, 0.0, 0.0, 1.0, 1.0, 0.0, 1.0, 1.0, 1.0, 0.0, 0.0, 1.0, 0.0, 0.0, 1.0, 1.0, 1.0, 1.0, 0.0, 0.0, 1.0, 1.0, 1.0, 0.0, 0.0, 0.0, 0.0, 1.0, 1.0, 1.0, 1.0, 1.0, 0.0, 0.0, 0.0, 0.0, 0.0, 1.0, 1.0, 0.0, 0.0, 1.0, 1.0, 0.0, 1.0, 0.0, 0.0, 0.0, 0.0, 0.0, 0.0, 0.0, 0.0, 1.0, 1.0, 1.0, 0.0, 1.0, 1.0, 0.0, 0.0, 1.0, 0.0, 1.0, 1.0, 1.0, 1.0, 0.0, 0.0, 0.0, 0.0, 1.0, 1.0, 0.0, 0.0, 0.0, 0.0, 0.0, 0.0, 0.0, 1.0, 1.0, 0.0, 0.0, 1.0, 1.0, 1.0, 1.0, 0.0, 0.0, 0.0, 1.0, 0.0, 0.0, 0.0, 0.0, 0.0, 0.0, 1.0, 0.0, 1.0, 0.0, 1.0, 0.0, 0.0, 0.0, 0.0, 1.0, 1.0, 1.0, 1.0, 0.0, 0.0, 0.0, 1.0, 0.0, 1.0, 0.0, 0.0, 1.0, 1.0, 1.0, 0.0, 1.0, 1.0, 1.0, 0.0, 1.0, 0.0, 0.0, 0.0, 1.0, 1.0, 1.0, 1.0, 1.0, 1.0, 1.0, 0.0, 0.0, 1.0, 1.0, 0.0, 1.0, 1.0, 1.0, 1.0, 0.0, 0.0, 0.0, 1.0, 1.0, 0.0, 0.0, 0.0, 1.0, 1.0, 0.0, 1.0, 1.0, 0.0, 0.0, 0.0, 1.0, 1.0, 1.0, 1.0, 0.0, 0.0, 0.0, 0.0, 1.0, 0.0, 0.0, 0.0, 1.0, 1.0, 0.0, 0.0, 0.0, 0.0, 1.0, 1.0, 1.0, 1.0, 1.0, 0.0, 1.0, 0.0, 1.0, 1.0, 1.0, 1.0, 0.0, 0.0, 1.0, 0.0, 1.0, 0.0, 0.0, 1.0, 1.0, 1.0, 1.0, 1.0, 0.0, 1.0, 0.0, 1.0, 1.0, 1.0, 0.0, 1.0, 1.0, 0.0, 0.0, 1.0, 0.0, 1.0, 1.0, 0.0, 0.0, 0.0, 1.0, 1.0, 0.0, 0.0, 0.0, 1.0, 1.0, 1.0, 0.0, 0.0, 0.0, 0.0, 0.0, 0.0, 1.0, 0.0, 0.0, 1.0, 1.0, 0.0, 0.0, 1.0, 1.0, 0.0, 1.0, 1.0, 0.0, 0.0, 0.0, 1.0, 1.0, 0.0, 1.0, 0.0, 1.0, 0.0, 1.0, 0.0, 1.0, 1.0, 0.0, 0.0, 1.0, 1.0, 1.0, 1.0, 0.0, 0.0, 1.0, 0.0, 1.0, 1.0, 0.0, 1.0, 1.0, 0.0, 1.0, 0.0, 0.0, 0.0, 0.0, 0.0, 1.0, 1.0, 1.0, 1.0, 1.0, 1.0, 0.0, 0.0, 0.0, 0.0, 0.0, 0.0, 0.0, 1.0, 1.0, 1.0, 0.0, 1.0, 0.0, 0.0, 0.0, 1.0, 1.0, 1.0, 1.0, 1.0, 1.0, 0.0, 0.0, 0.0, 0.0, 1.0, 1.0, 0.0, 1.0, 1.0, 1.0, 1.0, 0.0, 1.0, 1.0, 0.0, 1.0, 1.0, 0.0, 1.0, 0.0, 1.0, 1.0, 0.0, 1.0, 0.0, 1.0, 0.0, 0.0, 1.0, 0.0, 1.0, 1.0, 1.0, 1.0, 1.0, 1.0, 0.0, 0.0, 0.0, 0.0, 1.0, 1.0, 0.0, 1.0, 1.0, 1.0, 0.0, 0.0, 0.0, 0.0, 0.0, 0.0, 1.0, 0.0, 0.0, 0.0, 1.0, 1.0, 0.0, 0.0, 1.0, 0.0, 1.0, 1.0, 1.0, 1.0, 0.0, 0.0, 0.0, 0.0, 0.0, 1.0, 0.0, 1.0, 0.0, 0.0, 1.0, 0.0, 0.0, 1.0, 1.0, 0.0, 1.0, 0.0, 1.0, 1.0, 1.0, 0.0, 1.0, 1.0, 0.0, 1.0, 1.0, 0.0, 1.0, 0.0, 0.0, 0.0, 0.0, 0.0, 1.0, 1.0, 1.0, 1.0, 0.0, 0.0, 1.0, 1.0, 1.0, 1.0, 1.0, 0.0, 1.0, 0.0, 0.0, 0.0, 1.0, 1.0, 0.0, 1.0, 1.0, 1.0, 1.0, 1.0, 0.0, 0.0, 1.0, 0.0, 1.0, 0.0, 0.0, 1.0, 0.0, 0.0, 1.0, 1.0, 1.0, 0.0, 0.0, 0.0, 1.0, 0.0, 1.0, 0.0, 0.0, 1.0, 0.0, 0.0, 1.0, 1.0, 1.0, 0.0, 1.0, 0.0, 1.0, 0.0, 1.0, 1.0, 1.0, 1.0, 1.0, 1.0, 0.0, 1.0, 0.0, 0.0, 1.0, 1.0, 1.0, 1.0, 0.0, 0.0, 1.0, 1.0, 0.0, 1.0, 1.0, 1.0, 0.0, 1.0, 0.0, 0.0, 0.0, 1.0, 0.0, 1.0, 0.0, 1.0, 1.0, 0.0, 1.0, 0.0, 1.0, 0.0, 1.0, 1.0, 1.0, 1.0, 0.0, 0.0, 0.0, 1.0, 0.0, 0.0, 0.0, 0.0, 1.0, 1.0, 0.0, 0.0, 0.0, 1.0, 0.0, 1.0, 1.0, 0.0, 0.0, 0.0, 0.0, 0.0, 1.0, 0.0, 0.0, 0.0, 1.0, 1.0, 0.0, 0.0, 1.0, 0.0, 1.0, 1.0, 0.0, 0.0, 1.0, 0.0, 0.0, 1.0, 0.0, 1.0, 1.0, 1.0, 0.0, 1.0, 1.0, 0.0, 0.0, 0.0, 1.0, 0.0, 0.0, 1.0, 0.0, 1.0, 1.0, 1.0, 0.0, 0.0, 1.0, 0.0, 1.0, 0.0, 1.0, 0.0, 1.0, 1.0, 0.0, 1.0, 1.0, 1.0, 1.0, 1.0, 1.0, 1.0, 0.0, 1.0, 0.0, 1.0, 0.0, 1.0, 1.0, 1.0, 0.0, 1.0, 1.0, 1.0, 1.0, 1.0, 0.0, 0.0, 1.0, 0.0, 1.0, 1.0, 0.0, 1.0, 0.0, 1.0, 0.0, 0.0, 0.0, 0.0, 1.0, 1.0, 1.0, 1.0, 0.0, 1.0, 0.0, 0.0, 1.0, 0.0, 1.0, 1.0, 1.0, 0.0, 0.0, 1.0, 1.0, 1.0, 1.0, 0.0, 0.0, 0.0, 1.0, 0.0, 1.0, 1.0, 0.0, 1.0, 1.0, 1.0, 1.0, 1.0, 1.0, 1.0, 1.0, 1.0, 1.0, 1.0, 0.0, 1.0, 1.0, 1.0, 1.0, 1.0, 1.0, 0.0, 0.0, 1.0, 1.0, 1.0, 1.0, 1.0, 0.0, 1.0, 1.0, 1.0, 0.0, 1.0, 0.0, 0.0, 0.0, 1.0, 0.0, 1.0, 0.0, 1.0, 1.0, 0.0, 1.0, 1.0, 0.0, 0.0, 1.0, 0.0, 1.0, 0.0, 1.0, 0.0, 0.0, 1.0, 0.0, 1.0, 0.0, 1.0, 0.0, 0.0, 0.0, 1.0, 0.0, 1.0, 0.0, 0.0, 0.0, 0.0, 0.0, 0.0, 1.0, 1.0, 1.0, 1.0, 1.0, 1.0, 1.0, 0.0, 0.0, 0.0, 1.0, 1.0, 0.0, 0.0, 1.0, 1.0, 1.0, 0.0, 0.0, 1.0, 0.0, 1.0, 1.0, 1.0, 1.0, 0.0, 1.0, 1.0, 1.0, 1.0, 0.0, 0.0, 0.0, 0.0, 0.0, 0.0, 1.0, 1.0, 1.0, 1.0, 0.0, 0.0, 1.0, 0.0, 0.0, 0.0, 1.0, 0.0, 0.0, 0.0, 1.0, 1.0, 1.0, 0.0, 0.0, 1.0, 0.0, 0.0, 1.0, 0.0, 0.0, 0.0, 1.0, 0.0, 1.0, 0.0, 1.0, 0.0, 0.0, 1.0, 0.0, 0.0, 1.0, 1.0, 0.0, 1.0, 0.0, 1.0, 1.0, 0.0, 0.0, 0.0, 1.0, 0.0, 1.0, 1.0, 1.0, 1.0, 0.0, 0.0, 0.0, 0.0, 0.0, 0.0, 0.0, 0.0, 1.0, 0.0, 1.0, 0.0, 0.0, 1.0, 0.0, 0.0, 0.0, 0.0, 0.0, 0.0, 1.0, 0.0, 0.0, 0.0, 1.0, 1.0, 1.0, 0.0, 0.0, 1.0, 0.0, 1.0, 0.0, 0.0, 1.0, 0.0, 1.0, 0.0, 1.0, 1.0, 1.0, 1.0, 1.0, 1.0, 0.0, 1.0, 1.0, 0.0, 1.0, 0.0, 0.0, 0.0, 0.0, 0.0, 0.0, 0.0, 0.0, 1.0, 1.0, 1.0, 0.0, 0.0, 0.0, 1.0, 1.0, 1.0, 0.0, 0.0, 0.0, 1.0, 0.0, 1.0, 1.0, 1.0, 0.0, 1.0, 0.0, 1.0, 0.0, 1.0, 0.0, 1.0, 0.0, 1.0, 1.0, 0.0, 0.0, 1.0, 1.0, 0.0, 1.0, 1.0, 0.0, 1.0, 1.0, 0.0, 0.0, 0.0, 0.0, 1.0, 1.0, 1.0, 1.0, 1.0, 1.0, 1.0, 0.0, 0.0, 0.0, 0.0, 0.0, 0.0, 0.0, 0.0, 0.0, 1.0, 0.0, 0.0, 1.0, 1.0, 1.0, 0.0, 1.0, 1.0, 0.0, 1.0, 0.0, 1.0, 1.0, 0.0, 1.0, 1.0, 0.0, 0.0, 0.0, 0.0, 1.0, 0.0, 0.0, 1.0, 1.0, 1.0, 1.0, 1.0, 0.0, 0.0, 1.0, 0.0, 0.0, 0.0, 0.0, 1.0, 1.0, 1.0, 1.0, 1.0, 1.0, 0.0, 1.0, 0.0, 1.0, 0.0, 0.0, 0.0, 1.0, 1.0, 1.0, 0.0, 1.0, 1.0, 0.0, 0.0, 1.0, 0.0, 1.0, 0.0, 0.0, 0.0, 1.0, 1.0, 1.0, 1.0, 1.0, 0.0, 1.0, 0.0, 0.0, 1.0, 0.0, 0.0, 0.0, 0.0, 1.0, 1.0, 0.0, 1.0, 0.0, 0.0, 1.0, 0.0, 1.0, 1.0, 0.0, 0.0, 0.0, 0.0, 0.0, 1.0, 0.0, 0.0, 1.0, 0.0, 1.0, 0.0, 1.0, 0.0, 0.0, 0.0, 0.0, 0.0, 0.0, 0.0, 1.0, 0.0, 0.0, 1.0, 1.0, 0.0, 0.0, 0.0, 1.0, 1.0, 1.0, 1.0, 1.0, 0.0, 0.0, 1.0, 0.0, 0.0, 0.0, 1.0, 0.0, 0.0, 0.0, 1.0, 1.0, 0.0, 0.0, 0.0, 0.0, 0.0, 0.0, 1.0, 0.0, 0.0, 1.0, 0.0, 1.0, 1.0, 0.0, 0.0, 0.0, 1.0, 1.0, 1.0, 1.0, 0.0, 1.0, 1.0, 0.0, 0.0, 1.0, 0.0, 0.0, 1.0, 1.0, 0.0, 0.0, 0.0, 0.0, 0.0, 1.0, 1.0, 0.0, 0.0, 0.0, 0.0, 1.0, 0.0, 1.0, 1.0, 0.0, 0.0, 0.0, 0.0, 0.0, 0.0, 1.0, 1.0, 0.0, 0.0, 1.0, 1.0, 0.0, 1.0, 0.0, 1.0, 0.0, 1.0, 1.0, 1.0, 1.0, 0.0, 0.0, 0.0, 1.0, 0.0, 0.0, 0.0, 0.0, 1.0, 0.0, 1.0, 0.0, 0.0, 1.0, 1.0, 1.0, 1.0, 1.0, 1.0, 0.0, 0.0, 1.0, 1.0, 0.0, 1.0, 1.0, 0.0, 1.0, 0.0, 1.0, 1.0, 0.0, 1.0, 1.0, 1.0, 1.0, 0.0, 0.0, 1.0, 0.0, 0.0, 0.0, 1.0, 0.0, 0.0, 0.0, 0.0, 1.0, 1.0, 1.0, 0.0, 1.0, 0.0, 0.0, 1.0, 0.0, 1.0, 1.0, 1.0, 1.0, 1.0, 1.0, 0.0, 0.0, 1.0, 1.0, 1.0, 1.0, 0.0, 0.0, 0.0, 0.0, 0.0, 1.0, 0.0, 1.0, 0.0, 0.0, 0.0, 0.0, 1.0, 1.0, 0.0, 0.0, 1.0, 0.0, 0.0, 1.0, 0.0, 0.0, 1.0, 1.0, 1.0, 0.0, 0.0, 1.0, 0.0, 1.0, 0.0, 0.0, 0.0, 1.0, 0.0, 0.0, 1.0, 0.0, 1.0, 1.0, 1.0, 1.0, 1.0, 0.0, 1.0, 1.0, 1.0, 1.0, 1.0, 1.0, 0.0, 0.0, 0.0, 0.0, 1.0, 1.0, 1.0, 1.0, 0.0, 1.0, 1.0, 1.0, 0.0, 0.0, 1.0, 0.0, 0.0, 0.0, 0.0, 1.0, 1.0, 1.0, 0.0, 0.0, 1.0, 0.0, 0.0, 0.0, 1.0, 0.0, 1.0, 1.0, 0.0, 0.0, 1.0, 0.0, 0.0, 0.0, 0.0, 0.0, 1.0, 1.0, 0.0, 0.0, 0.0, 1.0, 0.0, 0.0, 0.0, 1.0, 0.0, 1.0, 1.0, 0.0, 0.0, 0.0, 0.0, 0.0, 1.0, 1.0, 0.0, 1.0, 0.0, 0.0, 0.0, 0.0, 1.0, 1.0, 0.0, 1.0, 1.0, 1.0, 0.0, 0.0, 0.0, 0.0, 1.0, 1.0, 1.0, 1.0, 0.0, 1.0, 1.0, 1.0, 1.0, 1.0, 0.0, 1.0, 1.0, 1.0, 0.0, 1.0, 1.0, 0.0, 0.0, 1.0, 0.0, 1.0, 1.0, 0.0, 0.0, 0.0, 0.0, 0.0, 0.0, 0.0, 1.0, 0.0, 1.0, 1.0, 1.0, 1.0, 0.0, 0.0, 1.0, 1.0, 0.0, 0.0, 1.0, 1.0, 1.0, 0.0, 0.0, 1.0, 1.0, 0.0, 0.0, 0.0, 0.0, 0.0, 0.0, 1.0, 1.0, 1.0, 0.0, 1.0, 0.0, 1.0, 0.0, 0.0, 0.0, 0.0, 0.0, 1.0, 0.0, 1.0, 1.0, 1.0, 1.0, 1.0, 1.0, 0.0, 1.0, 1.0, 1.0, 0.0, 1.0, 0.0, 0.0, 0.0, 0.0, 1.0, 1.0, 1.0, 1.0, 0.0, 0.0, 1.0, 0.0, 0.0, 1.0, 0.0, 1.0, 1.0, 1.0, 0.0, 0.0, 1.0, 1.0, 0.0, 1.0, 0.0, 1.0, 0.0, 1.0, 1.0, 0.0, 0.0, 1.0, 0.0, 1.0, 0.0, 1.0, 0.0, 1.0, 0.0, 1.0, 1.0, 0.0, 0.0, 1.0, 0.0, 0.0, 0.0, 0.0, 0.0, 0.0, 0.0, 1.0, 1.0, 1.0, 1.0, 0.0, 1.0, 0.0, 1.0, 1.0, 0.0, 0.0, 1.0, 0.0, 0.0, 1.0, 0.0, 0.0, 1.0, 1.0, 1.0, 0.0, 1.0, 1.0, 1.0, 1.0, 1.0, 0.0, 0.0, 1.0, 0.0, 0.0, 0.0, 0.0, 0.0, 1.0, 1.0, 0.0, 0.0, 0.0, 0.0, 1.0, 1.0, 0.0, 1.0, 1.0, 0.0, 0.0, 0.0, 1.0, 0.0, 0.0, 0.0, 1.0, 1.0, 0.0, 1.0, 0.0, 0.0, 0.0, 1.0, 0.0, 0.0, 1.0, 1.0, 0.0, 0.0, 1.0, 0.0, 0.0, 0.0, 1.0, 1.0, 0.0, 0.0, 0.0, 0.0, 1.0, 1.0, 0.0, 1.0, 0.0, 1.0, 0.0, 0.0, 0.0, 0.0, 1.0, 0.0, 1.0, 0.0, 0.0, 0.0, 1.0, 0.0, 0.0, 1.0, 1.0, 1.0, 1.0, 0.0, 1.0, 1.0, 1.0, 1.0, 0.0, 1.0, 0.0, 0.0, 1.0, 1.0, 1.0, 1.0, 1.0, 1.0, 0.0, 1.0, 0.0, 1.0, 0.0, 0.0, 0.0, 1.0, 1.0, 1.0, 1.0, 0.0, 0.0, 0.0, 0.0, 0.0, 0.0, 0.0, 0.0, 0.0, 1.0, 1.0, 1.0, 1.0, 0.0, 1.0, 1.0, 0.0, 0.0, 1.0, 1.0, 1.0, 0.0, 1.0, 1.0, 1.0, 1.0, 1.0, 1.0, 1.0, 0.0, 0.0, 1.0, 1.0, 1.0, 1.0, 1.0, 0.0, 0.0, 0.0, 0.0, 0.0, 1.0, 1.0, 1.0, 1.0, 0.0, 1.0, 0.0, 0.0, 0.0, 1.0, 1.0, 1.0, 0.0, 1.0, 0.0, 1.0, 1.0, 0.0, 1.0, 1.0, 0.0, 1.0, 0.0, 1.0, 0.0, 0.0, 0.0, 0.0, 1.0, 1.0, 1.0, 0.0, 0.0, 0.0, 1.0, 1.0, 1.0, 1.0, 0.0, 1.0, 0.0, 0.0, 1.0, 1.0, 0.0, 1.0, 1.0, 0.0, 1.0, 1.0, 0.0, 0.0, 1.0, 0.0, 1.0, 0.0, 0.0, 0.0, 0.0, 0.0, 0.0, 1.0, 0.0, 1.0, 0.0, 1.0, 1.0, 0.0, 1.0, 1.0, 0.0, 1.0, 0.0, 1.0, 1.0, 0.0, 1.0, 0.0, 1.0, 0.0, 1.0, 1.0, 0.0, 0.0, 1.0, 1.0, 0.0, 0.0, 1.0, 0.0, 1.0, 0.0, 1.0, 1.0, 1.0, 1.0, 0.0, 0.0, 0.0, 1.0, 0.0, 1.0, 1.0, 0.0, 0.0, 1.0, 1.0, 1.0, 1.0, 1.0, 0.0, 0.0, 1.0, 1.0, 0.0, 1.0, 0.0, 1.0, 0.0, 1.0, 1.0, 0.0, 1.0, 1.0, 0.0, 0.0, 1.0, 0.0, 1.0, 1.0, 1.0, 1.0, 0.0, 1.0, 1.0, 0.0, 1.0, 0.0, 0.0, 1.0, 0.0, 1.0, 1.0, 1.0, 0.0, 0.0, 1.0, 1.0, 0.0, 1.0, 1.0, 1.0, 1.0, 0.0, 0.0, 1.0, 1.0, 0.0, 0.0, 1.0, 0.0, 1.0, 1.0, 1.0, 0.0, 0.0, 0.0, 0.0, 1.0, 0.0, 0.0, 1.0, 1.0, 0.0, 0.0, 1.0, 1.0, 0.0, 0.0, 1.0, 1.0, 0.0, 0.0, 0.0, 1.0, 1.0, 1.0, 1.0, 0.0, 0.0, 1.0, 0.0, 1.0, 1.0, 0.0, 1.0, 0.0, 1.0, 0.0, 0.0, 1.0, 0.0, 1.0, 0.0, 0.0, 1.0, 0.0, 1.0, 1.0, 0.0, 1.0, 0.0, 1.0, 0.0, 0.0, 0.0, 0.0, 0.0, 1.0, 0.0, 1.0, 1.0, 1.0, 1.0, 1.0, 1.0, 0.0, 0.0, 1.0, 0.0, 0.0, 0.0, 1.0, 1.0, 0.0, 1.0, 1.0, 1.0, 0.0, 0.0, 0.0, 1.0, 0.0, 0.0, 0.0, 1.0, 1.0, 0.0, 1.0, 0.0, 1.0, 0.0, 1.0, 1.0, 0.0, 0.0, 1.0, 0.0, 0.0, 1.0, 0.0, 0.0, 0.0, 1.0, 0.0, 0.0, 0.0, 0.0, 1.0, 0.0, 1.0, 1.0, 0.0, 0.0, 0.0, 0.0, 0.0, 0.0, 0.0, 1.0, 0.0, 1.0, 0.0, 0.0, 1.0, 1.0, 1.0, 1.0, 0.0, 0.0, 0.0, 1.0, 0.0, 1.0, 1.0, 0.0, 0.0, 0.0, 1.0, 1.0, 1.0, 0.0, 0.0, 1.0, 1.0, 1.0, 1.0, 1.0, 0.0, 1.0, 1.0, 0.0, 1.0, 0.0, 0.0, 0.0, 0.0, 1.0, 1.0, 0.0, 0.0, 1.0, 0.0, 1.0, 0.0, 1.0, 1.0, 1.0, 1.0, 1.0, 1.0, 1.0, 0.0, 0.0, 0.0, 0.0, 0.0, 0.0, 1.0, 0.0, 0.0, 1.0, 0.0, 0.0, 0.0, 0.0, 1.0, 0.0, 1.0, 0.0, 0.0, 0.0, 1.0, 0.0, 1.0, 1.0, 0.0, 1.0, 1.0, 1.0, 0.0, 1.0, 0.0, 0.0, 0.0, 0.0, 1.0, 0.0, 0.0, 1.0, 0.0, 0.0, 1.0, 0.0, 1.0, 1.0, 1.0, 0.0, 1.0, 1.0, 1.0, 1.0, 0.0, 1.0, 1.0, 0.0, 1.0, 1.0, 1.0, 1.0, 0.0, 1.0, 0.0, 0.0, 1.0, 1.0, 0.0, 0.0, 0.0, 1.0, 1.0, 1.0, 1.0, 0.0, 0.0, 0.0, 0.0, 0.0, 1.0, 1.0, 0.0, 0.0, 1.0, 0.0, 0.0, 1.0, 1.0, 0.0, 0.0, 1.0, 1.0, 1.0, 1.0, 0.0, 0.0, 1.0, 0.0, 0.0, 1.0, 0.0, 0.0, 0.0, 0.0, 0.0, 1.0, 1.0, 1.0, 0.0, 0.0, 0.0, 0.0, 0.0, 1.0, 0.0, 1.0, 0.0, 1.0, 0.0, 0.0, 0.0, 1.0, 0.0, 1.0, 1.0, 0.0, 1.0, 0.0, 0.0, 1.0, 0.0, 0.0, 1.0, 1.0, 0.0, 1.0, 0.0, 1.0, 0.0, 0.0, 1.0, 1.0, 1.0, 1.0, 1.0, 0.0, 0.0, 1.0, 1.0, 1.0, 0.0, 0.0, 1.0, 0.0, 1.0, 0.0, 0.0, 1.0, 1.0, 1.0, 1.0, 0.0, 1.0, 1.0, 1.0, 0.0, 1.0, 1.0, 1.0, 1.0, 1.0, 1.0, 1.0, 1.0, 1.0, 0.0, 0.0, 0.0, 0.0, 0.0, 1.0, 0.0, 1.0, 0.0, 0.0, 1.0, 0.0, 0.0, 0.0, 1.0, 0.0, 0.0, 1.0, 0.0, 0.0, 0.0, 0.0, 1.0, 1.0, 1.0, 1.0, 0.0, 1.0, 1.0, 0.0, 0.0, 0.0, 0.0, 1.0, 1.0, 1.0, 0.0, 0.0, 0.0, 1.0, 0.0, 1.0, 1.0, 1.0, 0.0, 1.0, 1.0, 1.0, 1.0, 0.0, 1.0, 1.0, 1.0, 1.0, 0.0, 1.0, 0.0, 1.0, 1.0, 1.0, 0.0, 1.0, 1.0, 1.0, 0.0, 1.0, 0.0, 0.0, 0.0, 1.0, 1.0, 0.0, 0.0, 0.0, 1.0, 1.0, 1.0, 0.0, 1.0, 0.0, 0.0, 0.0, 0.0, 1.0, 0.0, 0.0, 1.0, 0.0, 1.0, 1.0, 0.0, 0.0, 1.0, 1.0, 0.0, 1.0, 0.0, 0.0, 1.0, 1.0, 0.0, 0.0, 0.0, 1.0, 1.0, 1.0, 1.0, 1.0, 0.0, 0.0, 0.0, 1.0, 0.0, 1.0, 0.0, 1.0, 0.0, 1.0, 1.0, 1.0, 0.0, 0.0, 0.0, 1.0, 0.0, 1.0, 1.0, 1.0, 0.0, 1.0, 0.0, 0.0, 0.0, 1.0, 1.0, 1.0, 0.0, 0.0, 0.0, 0.0, 0.0, 1.0, 1.0, 1.0, 0.0, 0.0, 1.0, 0.0, 1.0, 0.0, 1.0, 0.0, 0.0, 1.0, 1.0, 0.0, 0.0, 0.0, 0.0, 0.0, 1.0, 0.0, 0.0, 1.0, 1.0, 1.0, 0.0, 0.0, 1.0, 1.0, 1.0, 1.0, 1.0, 1.0, 0.0, 1.0, 1.0, 0.0, 0.0, 0.0, 1.0, 0.0, 1.0, 0.0, 1.0, 0.0, 0.0, 0.0, 0.0, 1.0, 1.0, 0.0, 0.0, 0.0, 0.0, 0.0, 0.0, 1.0, 0.0, 0.0, 0.0, 0.0, 1.0, 1.0, 1.0, 0.0, 0.0, 0.0, 1.0, 0.0, 0.0, 0.0, 0.0, 0.0, 1.0, 1.0, 0.0, 0.0, 0.0, 0.0, 1.0, 0.0, 0.0, 0.0, 0.0, 1.0, 1.0, 1.0, 0.0, 1.0, 0.0, 0.0, 1.0, 0.0, 1.0, 1.0, 1.0, 0.0, 1.0, 1.0, 0.0, 1.0, 1.0, 0.0, 0.0, 1.0, 1.0, 0.0, 1.0, 1.0, 0.0, 1.0, 0.0, 0.0, 0.0, 1.0, 1.0, 1.0, 1.0, 1.0, 1.0, 0.0, 0.0, 0.0, 0.0, 1.0, 0.0, 0.0, 1.0, 0.0, 0.0, 1.0, 0.0, 1.0, 0.0, 1.0, 1.0, 1.0, 1.0, 1.0, 0.0, 0.0, 0.0, 1.0, 0.0, 0.0, 1.0, 1.0, 1.0, 0.0, 1.0, 0.0, 1.0, 0.0, 0.0, 0.0, 0.0, 0.0, 1.0, 0.0, 1.0, 0.0, 0.0, 0.0, 0.0, 0.0, 0.0, 1.0, 0.0, 0.0, 0.0, 0.0, 0.0, 1.0, 0.0, 1.0, 0.0, 1.0, 1.0, 0.0, 1.0, 0.0, 0.0, 1.0, 0.0, 1.0, 0.0, 0.0, 1.0, 1.0, 1.0, 0.0, 1.0, 1.0, 0.0, 0.0, 0.0, 1.0, 0.0, 0.0, 1.0, 1.0, 0.0, 1.0, 0.0, 0.0, 1.0, 0.0, 1.0, 1.0, 0.0, 0.0, 0.0, 1.0, 1.0, 1.0, 1.0, 0.0, 1.0, 1.0, 1.0, 0.0, 0.0, 0.0, 1.0, 1.0, 0.0, 1.0, 0.0, 1.0, 1.0, 0.0, 0.0, 1.0, 1.0, 0.0, 1.0, 1.0, 0.0, 0.0, 0.0, 0.0, 0.0, 0.0, 0.0, 0.0, 0.0, 0.0, 1.0, 0.0, 0.0, 0.0, 1.0, 0.0, 1.0, 1.0, 0.0, 1.0, 0.0, 0.0, 1.0, 1.0, 1.0, 1.0, 0.0, 1.0, 1.0, 0.0, 1.0, 1.0, 0.0, 1.0, 1.0, 1.0, 0.0, 1.0, 0.0, 1.0, 0.0, 0.0, 1.0, 0.0, 1.0, 1.0, 1.0, 1.0, 0.0, 0.0, 0.0, 1.0, 0.0, 0.0, 1.0, 1.0, 0.0, 0.0, 1.0, 1.0, 0.0, 1.0, 0.0, 0.0, 1.0, 1.0, 0.0, 0.0, 0.0, 0.0, 1.0, 1.0, 0.0, 0.0, 1.0, 0.0, 1.0, 0.0, 1.0, 0.0, 0.0, 1.0, 1.0, 1.0, 1.0, 0.0, 0.0, 0.0, 1.0]\n"
          ]
        },
        {
          "output_type": "stream",
          "name": "stderr",
          "text": [
            "100%|██████████| 500/500 [00:56<00:00,  8.79it/s]\n"
          ]
        },
        {
          "output_type": "error",
          "ename": "AttributeError",
          "evalue": "ignored",
          "traceback": [
            "\u001b[0;31m---------------------------------------------------------------------------\u001b[0m",
            "\u001b[0;31mAttributeError\u001b[0m                            Traceback (most recent call last)",
            "\u001b[0;32m<ipython-input-41-4ed5612317ff>\u001b[0m in \u001b[0;36m<cell line: 13>\u001b[0;34m()\u001b[0m\n\u001b[1;32m     11\u001b[0m \u001b[0mtrained_classifier\u001b[0m \u001b[0;34m=\u001b[0m \u001b[0mmi_train\u001b[0m\u001b[0;34m.\u001b[0m\u001b[0mtrain_classifier\u001b[0m\u001b[0;34m(\u001b[0m\u001b[0mdf1\u001b[0m\u001b[0;34m.\u001b[0m\u001b[0mreset_index\u001b[0m\u001b[0;34m(\u001b[0m\u001b[0;34m)\u001b[0m\u001b[0;34m)\u001b[0m\u001b[0;34m,\u001b[0m \u001b[0mbatch_size\u001b[0m\u001b[0;34m\u001b[0m\u001b[0;34m\u001b[0m\u001b[0m\n\u001b[1;32m     12\u001b[0m \u001b[0mmi_test\u001b[0m \u001b[0;34m=\u001b[0m \u001b[0mMIAttack_test\u001b[0m\u001b[0;34m(\u001b[0m\u001b[0mtarget_model\u001b[0m\u001b[0;34m,\u001b[0m \u001b[0mtrained_classifier\u001b[0m\u001b[0;34m,\u001b[0m \u001b[0mbatch_size\u001b[0m\u001b[0;34m)\u001b[0m\u001b[0;34m\u001b[0m\u001b[0;34m\u001b[0m\u001b[0m\n\u001b[0;32m---> 13\u001b[0;31m \u001b[0mres\u001b[0m\u001b[0;34m,\u001b[0m \u001b[0mscore\u001b[0m \u001b[0;34m=\u001b[0m \u001b[0mmi_test\u001b[0m\u001b[0;34m.\u001b[0m\u001b[0mtest_classifier\u001b[0m\u001b[0;34m(\u001b[0m\u001b[0mtest_df\u001b[0m\u001b[0;34m)\u001b[0m\u001b[0;34m\u001b[0m\u001b[0;34m\u001b[0m\u001b[0m\n\u001b[0m",
            "\u001b[0;32m<ipython-input-28-47cf43d0c93e>\u001b[0m in \u001b[0;36mtest_classifier\u001b[0;34m(self, data, criteria)\u001b[0m\n\u001b[1;32m    126\u001b[0m     \u001b[0mscores\u001b[0m\u001b[0;34m=\u001b[0m \u001b[0;34m[\u001b[0m\u001b[0;34m[\u001b[0m\u001b[0mscore\u001b[0m\u001b[0;34m]\u001b[0m \u001b[0;32mfor\u001b[0m \u001b[0mscore\u001b[0m \u001b[0;32min\u001b[0m \u001b[0mscores\u001b[0m\u001b[0;34m]\u001b[0m\u001b[0;34m\u001b[0m\u001b[0;34m\u001b[0m\u001b[0m\n\u001b[1;32m    127\u001b[0m \u001b[0;34m\u001b[0m\u001b[0m\n\u001b[0;32m--> 128\u001b[0;31m     \u001b[0mres\u001b[0m \u001b[0;34m=\u001b[0m \u001b[0mself\u001b[0m\u001b[0;34m.\u001b[0m\u001b[0mclassifier\u001b[0m\u001b[0;34m.\u001b[0m\u001b[0mpredict\u001b[0m\u001b[0;34m(\u001b[0m\u001b[0mscores\u001b[0m\u001b[0;34m)\u001b[0m\u001b[0;34m\u001b[0m\u001b[0;34m\u001b[0m\u001b[0m\n\u001b[0m\u001b[1;32m    129\u001b[0m \u001b[0;34m\u001b[0m\u001b[0m\n\u001b[1;32m    130\u001b[0m     \u001b[0;31m#score = classifier.score(queries, labels)\u001b[0m\u001b[0;34m\u001b[0m\u001b[0;34m\u001b[0m\u001b[0m\n",
            "\u001b[0;31mAttributeError\u001b[0m: 'tuple' object has no attribute 'predict'"
          ]
        }
      ]
    },
    {
      "cell_type": "code",
      "source": [
        "s = [[sc] for sc in mi_train.scores]\n",
        "res = trained_classifier.predict(s)"
      ],
      "metadata": {
        "id": "fR_S1sq01nPk"
      },
      "execution_count": null,
      "outputs": []
    },
    {
      "cell_type": "code",
      "source": [
        "print(classification_report(res, mi_train.labels))"
      ],
      "metadata": {
        "colab": {
          "base_uri": "https://localhost:8080/"
        },
        "id": "ybK0rBV9279K",
        "outputId": "8f2af1a0-1600-4990-b3df-d230c3fd10df"
      },
      "execution_count": null,
      "outputs": [
        {
          "output_type": "stream",
          "name": "stdout",
          "text": [
            "              precision    recall  f1-score   support\n",
            "\n",
            "         0.0       0.51      0.52      0.52      7817\n",
            "         1.0       0.53      0.52      0.53      8183\n",
            "\n",
            "    accuracy                           0.52     16000\n",
            "   macro avg       0.52      0.52      0.52     16000\n",
            "weighted avg       0.52      0.52      0.52     16000\n",
            "\n"
          ]
        }
      ]
    },
    {
      "cell_type": "code",
      "source": [
        "train_df[train_df['present_label']==0]"
      ],
      "metadata": {
        "colab": {
          "base_uri": "https://localhost:8080/",
          "height": 49
        },
        "id": "KZF3fl-4hX5v",
        "outputId": "8b4aa8cb-f798-4259-bbcc-529ad3f8e701"
      },
      "execution_count": null,
      "outputs": [
        {
          "output_type": "execute_result",
          "data": {
            "text/plain": [
              "Empty DataFrame\n",
              "Columns: [wav, start, stop, spk_id, present_label]\n",
              "Index: []"
            ],
            "text/html": [
              "\n",
              "  <div id=\"df-9ef75847-e587-4693-9a3c-2308041310e8\">\n",
              "    <div class=\"colab-df-container\">\n",
              "      <div>\n",
              "<style scoped>\n",
              "    .dataframe tbody tr th:only-of-type {\n",
              "        vertical-align: middle;\n",
              "    }\n",
              "\n",
              "    .dataframe tbody tr th {\n",
              "        vertical-align: top;\n",
              "    }\n",
              "\n",
              "    .dataframe thead th {\n",
              "        text-align: right;\n",
              "    }\n",
              "</style>\n",
              "<table border=\"1\" class=\"dataframe\">\n",
              "  <thead>\n",
              "    <tr style=\"text-align: right;\">\n",
              "      <th></th>\n",
              "      <th>wav</th>\n",
              "      <th>start</th>\n",
              "      <th>stop</th>\n",
              "      <th>spk_id</th>\n",
              "      <th>present_label</th>\n",
              "    </tr>\n",
              "  </thead>\n",
              "  <tbody>\n",
              "  </tbody>\n",
              "</table>\n",
              "</div>\n",
              "      <button class=\"colab-df-convert\" onclick=\"convertToInteractive('df-9ef75847-e587-4693-9a3c-2308041310e8')\"\n",
              "              title=\"Convert this dataframe to an interactive table.\"\n",
              "              style=\"display:none;\">\n",
              "        \n",
              "  <svg xmlns=\"http://www.w3.org/2000/svg\" height=\"24px\"viewBox=\"0 0 24 24\"\n",
              "       width=\"24px\">\n",
              "    <path d=\"M0 0h24v24H0V0z\" fill=\"none\"/>\n",
              "    <path d=\"M18.56 5.44l.94 2.06.94-2.06 2.06-.94-2.06-.94-.94-2.06-.94 2.06-2.06.94zm-11 1L8.5 8.5l.94-2.06 2.06-.94-2.06-.94L8.5 2.5l-.94 2.06-2.06.94zm10 10l.94 2.06.94-2.06 2.06-.94-2.06-.94-.94-2.06-.94 2.06-2.06.94z\"/><path d=\"M17.41 7.96l-1.37-1.37c-.4-.4-.92-.59-1.43-.59-.52 0-1.04.2-1.43.59L10.3 9.45l-7.72 7.72c-.78.78-.78 2.05 0 2.83L4 21.41c.39.39.9.59 1.41.59.51 0 1.02-.2 1.41-.59l7.78-7.78 2.81-2.81c.8-.78.8-2.07 0-2.86zM5.41 20L4 18.59l7.72-7.72 1.47 1.35L5.41 20z\"/>\n",
              "  </svg>\n",
              "      </button>\n",
              "      \n",
              "  <style>\n",
              "    .colab-df-container {\n",
              "      display:flex;\n",
              "      flex-wrap:wrap;\n",
              "      gap: 12px;\n",
              "    }\n",
              "\n",
              "    .colab-df-convert {\n",
              "      background-color: #E8F0FE;\n",
              "      border: none;\n",
              "      border-radius: 50%;\n",
              "      cursor: pointer;\n",
              "      display: none;\n",
              "      fill: #1967D2;\n",
              "      height: 32px;\n",
              "      padding: 0 0 0 0;\n",
              "      width: 32px;\n",
              "    }\n",
              "\n",
              "    .colab-df-convert:hover {\n",
              "      background-color: #E2EBFA;\n",
              "      box-shadow: 0px 1px 2px rgba(60, 64, 67, 0.3), 0px 1px 3px 1px rgba(60, 64, 67, 0.15);\n",
              "      fill: #174EA6;\n",
              "    }\n",
              "\n",
              "    [theme=dark] .colab-df-convert {\n",
              "      background-color: #3B4455;\n",
              "      fill: #D2E3FC;\n",
              "    }\n",
              "\n",
              "    [theme=dark] .colab-df-convert:hover {\n",
              "      background-color: #434B5C;\n",
              "      box-shadow: 0px 1px 3px 1px rgba(0, 0, 0, 0.15);\n",
              "      filter: drop-shadow(0px 1px 2px rgba(0, 0, 0, 0.3));\n",
              "      fill: #FFFFFF;\n",
              "    }\n",
              "  </style>\n",
              "\n",
              "      <script>\n",
              "        const buttonEl =\n",
              "          document.querySelector('#df-9ef75847-e587-4693-9a3c-2308041310e8 button.colab-df-convert');\n",
              "        buttonEl.style.display =\n",
              "          google.colab.kernel.accessAllowed ? 'block' : 'none';\n",
              "\n",
              "        async function convertToInteractive(key) {\n",
              "          const element = document.querySelector('#df-9ef75847-e587-4693-9a3c-2308041310e8');\n",
              "          const dataTable =\n",
              "            await google.colab.kernel.invokeFunction('convertToInteractive',\n",
              "                                                     [key], {});\n",
              "          if (!dataTable) return;\n",
              "\n",
              "          const docLinkHtml = 'Like what you see? Visit the ' +\n",
              "            '<a target=\"_blank\" href=https://colab.research.google.com/notebooks/data_table.ipynb>data table notebook</a>'\n",
              "            + ' to learn more about interactive tables.';\n",
              "          element.innerHTML = '';\n",
              "          dataTable['output_type'] = 'display_data';\n",
              "          await google.colab.output.renderOutput(dataTable, element);\n",
              "          const docLink = document.createElement('div');\n",
              "          docLink.innerHTML = docLinkHtml;\n",
              "          element.appendChild(docLink);\n",
              "        }\n",
              "      </script>\n",
              "    </div>\n",
              "  </div>\n",
              "  "
            ]
          },
          "metadata": {},
          "execution_count": 40
        }
      ]
    },
    {
      "cell_type": "code",
      "source": [
        "train_df2"
      ],
      "metadata": {
        "colab": {
          "base_uri": "https://localhost:8080/",
          "height": 852
        },
        "id": "dND_wqLOyH8G",
        "outputId": "06374292-adb3-4000-af3a-5c93782281ee"
      },
      "execution_count": null,
      "outputs": [
        {
          "output_type": "execute_result",
          "data": {
            "text/plain": [
              "       Unnamed: 0                                 ID   duration  \\\n",
              "0          467062  id11083--KMGLj7Ql3ZY--00001_0_300  10.600062   \n",
              "1         1348641  id10780--9tFeMr459a8--00004_0_300   4.200062   \n",
              "2          255984  id10744--SY8uvIAIT4E--00003_0_300   7.000063   \n",
              "3           16199  id10004--lu_eVSfv3Tg--00036_0_300   4.320062   \n",
              "4         2065412  id10355--yI3OyR7_oJ4--00022_0_300   7.400062   \n",
              "...           ...                                ...        ...   \n",
              "19995     1556787  id11006--PpUmNsKnClc--00009_0_300   6.960063   \n",
              "19996     1895790  id10117--2qiHu6rrGvI--00001_0_300  12.080063   \n",
              "19997      187487  id10963--JRXqAuc9yZk--00007_0_300   6.120063   \n",
              "19998       31864  id10057--ncUmMIRWFts--00008_0_300   7.600062   \n",
              "19999     1853456  id10479--IIP-3AEYLj8--00003_0_300   8.000063   \n",
              "\n",
              "                                                     wav  start   stop  \\\n",
              "0      /localscratch/voxceleb1/wav/id11083/KMGLj7Ql3Z...      0  48000   \n",
              "1      /localscratch/voxceleb1/wav/id10780/9tFeMr459a...      0  48000   \n",
              "2      /localscratch/voxceleb1/wav/id10744/SY8uvIAIT4...      0  48000   \n",
              "3      /localscratch/voxceleb1/wav/id10004/lu_eVSfv3T...      0  48000   \n",
              "4      /localscratch/voxceleb1/wav/id10355/yI3OyR7_oJ...      0  48000   \n",
              "...                                                  ...    ...    ...   \n",
              "19995  /localscratch/voxceleb1/wav/id11006/PpUmNsKnCl...      0  48000   \n",
              "19996  /localscratch/voxceleb1/wav/id10117/2qiHu6rrGv...      0  48000   \n",
              "19997  /localscratch/voxceleb1/wav/id10963/JRXqAuc9yZ...      0  48000   \n",
              "19998  /localscratch/voxceleb1/wav/id10057/ncUmMIRWFt...      0  48000   \n",
              "19999  /localscratch/voxceleb1/wav/id10479/IIP-3AEYLj...      0  48000   \n",
              "\n",
              "        spk_id  present_label  \n",
              "0      id11083           True  \n",
              "1      id10780           True  \n",
              "2      id10744          False  \n",
              "3      id10004          False  \n",
              "4      id10355           True  \n",
              "...        ...            ...  \n",
              "19995  id11006           True  \n",
              "19996  id10117           True  \n",
              "19997  id10963          False  \n",
              "19998  id10057          False  \n",
              "19999  id10479           True  \n",
              "\n",
              "[20000 rows x 8 columns]"
            ],
            "text/html": [
              "\n",
              "  <div id=\"df-965ef6a0-0e49-4cf2-bfac-0d04fd6a030b\">\n",
              "    <div class=\"colab-df-container\">\n",
              "      <div>\n",
              "<style scoped>\n",
              "    .dataframe tbody tr th:only-of-type {\n",
              "        vertical-align: middle;\n",
              "    }\n",
              "\n",
              "    .dataframe tbody tr th {\n",
              "        vertical-align: top;\n",
              "    }\n",
              "\n",
              "    .dataframe thead th {\n",
              "        text-align: right;\n",
              "    }\n",
              "</style>\n",
              "<table border=\"1\" class=\"dataframe\">\n",
              "  <thead>\n",
              "    <tr style=\"text-align: right;\">\n",
              "      <th></th>\n",
              "      <th>Unnamed: 0</th>\n",
              "      <th>ID</th>\n",
              "      <th>duration</th>\n",
              "      <th>wav</th>\n",
              "      <th>start</th>\n",
              "      <th>stop</th>\n",
              "      <th>spk_id</th>\n",
              "      <th>present_label</th>\n",
              "    </tr>\n",
              "  </thead>\n",
              "  <tbody>\n",
              "    <tr>\n",
              "      <th>0</th>\n",
              "      <td>467062</td>\n",
              "      <td>id11083--KMGLj7Ql3ZY--00001_0_300</td>\n",
              "      <td>10.600062</td>\n",
              "      <td>/localscratch/voxceleb1/wav/id11083/KMGLj7Ql3Z...</td>\n",
              "      <td>0</td>\n",
              "      <td>48000</td>\n",
              "      <td>id11083</td>\n",
              "      <td>True</td>\n",
              "    </tr>\n",
              "    <tr>\n",
              "      <th>1</th>\n",
              "      <td>1348641</td>\n",
              "      <td>id10780--9tFeMr459a8--00004_0_300</td>\n",
              "      <td>4.200062</td>\n",
              "      <td>/localscratch/voxceleb1/wav/id10780/9tFeMr459a...</td>\n",
              "      <td>0</td>\n",
              "      <td>48000</td>\n",
              "      <td>id10780</td>\n",
              "      <td>True</td>\n",
              "    </tr>\n",
              "    <tr>\n",
              "      <th>2</th>\n",
              "      <td>255984</td>\n",
              "      <td>id10744--SY8uvIAIT4E--00003_0_300</td>\n",
              "      <td>7.000063</td>\n",
              "      <td>/localscratch/voxceleb1/wav/id10744/SY8uvIAIT4...</td>\n",
              "      <td>0</td>\n",
              "      <td>48000</td>\n",
              "      <td>id10744</td>\n",
              "      <td>False</td>\n",
              "    </tr>\n",
              "    <tr>\n",
              "      <th>3</th>\n",
              "      <td>16199</td>\n",
              "      <td>id10004--lu_eVSfv3Tg--00036_0_300</td>\n",
              "      <td>4.320062</td>\n",
              "      <td>/localscratch/voxceleb1/wav/id10004/lu_eVSfv3T...</td>\n",
              "      <td>0</td>\n",
              "      <td>48000</td>\n",
              "      <td>id10004</td>\n",
              "      <td>False</td>\n",
              "    </tr>\n",
              "    <tr>\n",
              "      <th>4</th>\n",
              "      <td>2065412</td>\n",
              "      <td>id10355--yI3OyR7_oJ4--00022_0_300</td>\n",
              "      <td>7.400062</td>\n",
              "      <td>/localscratch/voxceleb1/wav/id10355/yI3OyR7_oJ...</td>\n",
              "      <td>0</td>\n",
              "      <td>48000</td>\n",
              "      <td>id10355</td>\n",
              "      <td>True</td>\n",
              "    </tr>\n",
              "    <tr>\n",
              "      <th>...</th>\n",
              "      <td>...</td>\n",
              "      <td>...</td>\n",
              "      <td>...</td>\n",
              "      <td>...</td>\n",
              "      <td>...</td>\n",
              "      <td>...</td>\n",
              "      <td>...</td>\n",
              "      <td>...</td>\n",
              "    </tr>\n",
              "    <tr>\n",
              "      <th>19995</th>\n",
              "      <td>1556787</td>\n",
              "      <td>id11006--PpUmNsKnClc--00009_0_300</td>\n",
              "      <td>6.960063</td>\n",
              "      <td>/localscratch/voxceleb1/wav/id11006/PpUmNsKnCl...</td>\n",
              "      <td>0</td>\n",
              "      <td>48000</td>\n",
              "      <td>id11006</td>\n",
              "      <td>True</td>\n",
              "    </tr>\n",
              "    <tr>\n",
              "      <th>19996</th>\n",
              "      <td>1895790</td>\n",
              "      <td>id10117--2qiHu6rrGvI--00001_0_300</td>\n",
              "      <td>12.080063</td>\n",
              "      <td>/localscratch/voxceleb1/wav/id10117/2qiHu6rrGv...</td>\n",
              "      <td>0</td>\n",
              "      <td>48000</td>\n",
              "      <td>id10117</td>\n",
              "      <td>True</td>\n",
              "    </tr>\n",
              "    <tr>\n",
              "      <th>19997</th>\n",
              "      <td>187487</td>\n",
              "      <td>id10963--JRXqAuc9yZk--00007_0_300</td>\n",
              "      <td>6.120063</td>\n",
              "      <td>/localscratch/voxceleb1/wav/id10963/JRXqAuc9yZ...</td>\n",
              "      <td>0</td>\n",
              "      <td>48000</td>\n",
              "      <td>id10963</td>\n",
              "      <td>False</td>\n",
              "    </tr>\n",
              "    <tr>\n",
              "      <th>19998</th>\n",
              "      <td>31864</td>\n",
              "      <td>id10057--ncUmMIRWFts--00008_0_300</td>\n",
              "      <td>7.600062</td>\n",
              "      <td>/localscratch/voxceleb1/wav/id10057/ncUmMIRWFt...</td>\n",
              "      <td>0</td>\n",
              "      <td>48000</td>\n",
              "      <td>id10057</td>\n",
              "      <td>False</td>\n",
              "    </tr>\n",
              "    <tr>\n",
              "      <th>19999</th>\n",
              "      <td>1853456</td>\n",
              "      <td>id10479--IIP-3AEYLj8--00003_0_300</td>\n",
              "      <td>8.000063</td>\n",
              "      <td>/localscratch/voxceleb1/wav/id10479/IIP-3AEYLj...</td>\n",
              "      <td>0</td>\n",
              "      <td>48000</td>\n",
              "      <td>id10479</td>\n",
              "      <td>True</td>\n",
              "    </tr>\n",
              "  </tbody>\n",
              "</table>\n",
              "<p>20000 rows × 8 columns</p>\n",
              "</div>\n",
              "      <button class=\"colab-df-convert\" onclick=\"convertToInteractive('df-965ef6a0-0e49-4cf2-bfac-0d04fd6a030b')\"\n",
              "              title=\"Convert this dataframe to an interactive table.\"\n",
              "              style=\"display:none;\">\n",
              "        \n",
              "  <svg xmlns=\"http://www.w3.org/2000/svg\" height=\"24px\"viewBox=\"0 0 24 24\"\n",
              "       width=\"24px\">\n",
              "    <path d=\"M0 0h24v24H0V0z\" fill=\"none\"/>\n",
              "    <path d=\"M18.56 5.44l.94 2.06.94-2.06 2.06-.94-2.06-.94-.94-2.06-.94 2.06-2.06.94zm-11 1L8.5 8.5l.94-2.06 2.06-.94-2.06-.94L8.5 2.5l-.94 2.06-2.06.94zm10 10l.94 2.06.94-2.06 2.06-.94-2.06-.94-.94-2.06-.94 2.06-2.06.94z\"/><path d=\"M17.41 7.96l-1.37-1.37c-.4-.4-.92-.59-1.43-.59-.52 0-1.04.2-1.43.59L10.3 9.45l-7.72 7.72c-.78.78-.78 2.05 0 2.83L4 21.41c.39.39.9.59 1.41.59.51 0 1.02-.2 1.41-.59l7.78-7.78 2.81-2.81c.8-.78.8-2.07 0-2.86zM5.41 20L4 18.59l7.72-7.72 1.47 1.35L5.41 20z\"/>\n",
              "  </svg>\n",
              "      </button>\n",
              "      \n",
              "  <style>\n",
              "    .colab-df-container {\n",
              "      display:flex;\n",
              "      flex-wrap:wrap;\n",
              "      gap: 12px;\n",
              "    }\n",
              "\n",
              "    .colab-df-convert {\n",
              "      background-color: #E8F0FE;\n",
              "      border: none;\n",
              "      border-radius: 50%;\n",
              "      cursor: pointer;\n",
              "      display: none;\n",
              "      fill: #1967D2;\n",
              "      height: 32px;\n",
              "      padding: 0 0 0 0;\n",
              "      width: 32px;\n",
              "    }\n",
              "\n",
              "    .colab-df-convert:hover {\n",
              "      background-color: #E2EBFA;\n",
              "      box-shadow: 0px 1px 2px rgba(60, 64, 67, 0.3), 0px 1px 3px 1px rgba(60, 64, 67, 0.15);\n",
              "      fill: #174EA6;\n",
              "    }\n",
              "\n",
              "    [theme=dark] .colab-df-convert {\n",
              "      background-color: #3B4455;\n",
              "      fill: #D2E3FC;\n",
              "    }\n",
              "\n",
              "    [theme=dark] .colab-df-convert:hover {\n",
              "      background-color: #434B5C;\n",
              "      box-shadow: 0px 1px 3px 1px rgba(0, 0, 0, 0.15);\n",
              "      filter: drop-shadow(0px 1px 2px rgba(0, 0, 0, 0.3));\n",
              "      fill: #FFFFFF;\n",
              "    }\n",
              "  </style>\n",
              "\n",
              "      <script>\n",
              "        const buttonEl =\n",
              "          document.querySelector('#df-965ef6a0-0e49-4cf2-bfac-0d04fd6a030b button.colab-df-convert');\n",
              "        buttonEl.style.display =\n",
              "          google.colab.kernel.accessAllowed ? 'block' : 'none';\n",
              "\n",
              "        async function convertToInteractive(key) {\n",
              "          const element = document.querySelector('#df-965ef6a0-0e49-4cf2-bfac-0d04fd6a030b');\n",
              "          const dataTable =\n",
              "            await google.colab.kernel.invokeFunction('convertToInteractive',\n",
              "                                                     [key], {});\n",
              "          if (!dataTable) return;\n",
              "\n",
              "          const docLinkHtml = 'Like what you see? Visit the ' +\n",
              "            '<a target=\"_blank\" href=https://colab.research.google.com/notebooks/data_table.ipynb>data table notebook</a>'\n",
              "            + ' to learn more about interactive tables.';\n",
              "          element.innerHTML = '';\n",
              "          dataTable['output_type'] = 'display_data';\n",
              "          await google.colab.output.renderOutput(dataTable, element);\n",
              "          const docLink = document.createElement('div');\n",
              "          docLink.innerHTML = docLinkHtml;\n",
              "          element.appendChild(docLink);\n",
              "        }\n",
              "      </script>\n",
              "    </div>\n",
              "  </div>\n",
              "  "
            ]
          },
          "metadata": {},
          "execution_count": 45
        }
      ]
    },
    {
      "cell_type": "code",
      "source": [],
      "metadata": {
        "id": "oOCuCHws5WzX"
      },
      "execution_count": null,
      "outputs": []
    }
  ]
}