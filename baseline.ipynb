{
 "cells": [
  {
   "cell_type": "code",
   "execution_count": 27,
   "metadata": {
    "collapsed": true,
    "pycharm": {
     "name": "#%%\n"
    }
   },
   "outputs": [],
   "source": [
    "from speechbrain.nnet.losses import LogSoftmaxWrapper, AdditiveAngularMargin\n",
    "from speechbrain.pretrained import EncoderClassifier\n",
    "from data import create_dataloader\n",
    "import torch\n",
    "import numpy as np\n",
    "from sklearn.metrics import classification_report\n",
    "from sklearn.linear_model import LogisticRegression\n",
    "from sklearn.svm import SVC\n",
    "from sklearn.ensemble import RandomForestClassifier, AdaBoostClassifier, GradientBoostingClassifier\n",
    "from sklearn.neural_network import MLPClassifier"
   ]
  },
  {
   "cell_type": "code",
   "execution_count": 28,
   "outputs": [],
   "source": [
    "def compute_features(model, loader, criterion):\n",
    "    features=[]\n",
    "    labels=[]\n",
    "    lab2ind=model.hparams.label_encoder.lab2ind\n",
    "    for i, data in enumerate(loader):\n",
    "        x, label, y = data\n",
    "        x = x.cuda()\n",
    "        y = torch.tensor([[lab2ind[lab]] for lab in y]).cuda()\n",
    "        with torch.inference_mode():\n",
    "            pred, score, _, _ = model.classify_batch(x)\n",
    "            loss = criterion(pred, y)\n",
    "        features.append([loss,score])\n",
    "        labels.append(label)\n",
    "    return torch.tensor(features).numpy(), torch.tensor(labels).numpy()\n"
   ],
   "metadata": {
    "collapsed": false,
    "pycharm": {
     "name": "#%%\n"
    }
   }
  },
  {
   "cell_type": "code",
   "execution_count": 29,
   "outputs": [],
   "source": [
    "criterion=LogSoftmaxWrapper(AdditiveAngularMargin(margin=0.2, scale=30))\n",
    "model=EncoderClassifier.from_hparams(source=\"speechbrain/spkrec-ecapa-voxceleb\", run_opts={\"device\": \"cuda\"})\n",
    "model.eval()\n",
    "train_loader, val_loader, test_loader = create_dataloader(\n",
    "    root='split',\n",
    "    data_root='/home/baole/cmu/2023spring/11785/data/vox1/vox1_all',\n",
    "    batch_size=1\n",
    ")"
   ],
   "metadata": {
    "collapsed": false,
    "pycharm": {
     "name": "#%%\n"
    }
   }
  },
  {
   "cell_type": "code",
   "execution_count": 30,
   "outputs": [],
   "source": [
    "train_x, train_y=compute_features(model, train_loader, criterion)\n",
    "val_x, val_y=compute_features(model, val_loader, criterion)\n",
    "test_x, test_y=compute_features(model, test_loader, criterion)"
   ],
   "metadata": {
    "collapsed": false,
    "pycharm": {
     "name": "#%%\n"
    }
   }
  },
  {
   "cell_type": "code",
   "execution_count": 31,
   "outputs": [],
   "source": [
    "train=np.column_stack((train_x,train_y))\n",
    "np.save('train.npy',train)\n",
    "val=np.column_stack((val_x,val_y))\n",
    "np.save('val.npy',val)\n",
    "test=np.column_stack((test_x,test_y))\n",
    "np.save('test.npy',test)"
   ],
   "metadata": {
    "collapsed": false,
    "pycharm": {
     "name": "#%%\n"
    }
   }
  },
  {
   "cell_type": "code",
   "execution_count": 32,
   "outputs": [],
   "source": [
    "def classify(classifier, train, test):\n",
    "    classifier.fit(train[:,:-1], train[:,-1])\n",
    "    pred=classifier.predict(test[:,:-1])\n",
    "    print(classification_report(test[:,-1],pred))"
   ],
   "metadata": {
    "collapsed": false,
    "pycharm": {
     "name": "#%%\n"
    }
   }
  },
  {
   "cell_type": "code",
   "execution_count": 33,
   "outputs": [
    {
     "name": "stdout",
     "output_type": "stream",
     "text": [
      "              precision    recall  f1-score   support\n",
      "\n",
      "         0.0       0.55      0.40      0.46      2000\n",
      "         1.0       0.53      0.68      0.59      2000\n",
      "\n",
      "    accuracy                           0.54      4000\n",
      "   macro avg       0.54      0.54      0.53      4000\n",
      "weighted avg       0.54      0.54      0.53      4000\n",
      "\n"
     ]
    }
   ],
   "source": [
    "classify(LogisticRegression(),train,test)"
   ],
   "metadata": {
    "collapsed": false,
    "pycharm": {
     "name": "#%%\n"
    }
   }
  },
  {
   "cell_type": "code",
   "execution_count": 34,
   "outputs": [
    {
     "name": "stdout",
     "output_type": "stream",
     "text": [
      "              precision    recall  f1-score   support\n",
      "\n",
      "         0.0       0.57      0.28      0.38      2000\n",
      "         1.0       0.52      0.79      0.63      2000\n",
      "\n",
      "    accuracy                           0.54      4000\n",
      "   macro avg       0.55      0.54      0.50      4000\n",
      "weighted avg       0.55      0.54      0.50      4000\n",
      "\n"
     ]
    }
   ],
   "source": [
    "classify(SVC(),train,test)"
   ],
   "metadata": {
    "collapsed": false,
    "pycharm": {
     "name": "#%%\n"
    }
   }
  },
  {
   "cell_type": "code",
   "execution_count": 35,
   "outputs": [
    {
     "name": "stdout",
     "output_type": "stream",
     "text": [
      "              precision    recall  f1-score   support\n",
      "\n",
      "         0.0       0.50      0.51      0.51      2000\n",
      "         1.0       0.50      0.50      0.50      2000\n",
      "\n",
      "    accuracy                           0.50      4000\n",
      "   macro avg       0.50      0.50      0.50      4000\n",
      "weighted avg       0.50      0.50      0.50      4000\n",
      "\n"
     ]
    }
   ],
   "source": [
    "classify(RandomForestClassifier(),train,test)"
   ],
   "metadata": {
    "collapsed": false,
    "pycharm": {
     "name": "#%%\n"
    }
   }
  },
  {
   "cell_type": "code",
   "execution_count": 36,
   "outputs": [
    {
     "name": "stdout",
     "output_type": "stream",
     "text": [
      "              precision    recall  f1-score   support\n",
      "\n",
      "         0.0       0.56      0.32      0.40      2000\n",
      "         1.0       0.52      0.75      0.62      2000\n",
      "\n",
      "    accuracy                           0.53      4000\n",
      "   macro avg       0.54      0.53      0.51      4000\n",
      "weighted avg       0.54      0.53      0.51      4000\n",
      "\n"
     ]
    }
   ],
   "source": [
    "classify(AdaBoostClassifier(),train,test)"
   ],
   "metadata": {
    "collapsed": false,
    "pycharm": {
     "name": "#%%\n"
    }
   }
  },
  {
   "cell_type": "code",
   "execution_count": 37,
   "outputs": [
    {
     "name": "stdout",
     "output_type": "stream",
     "text": [
      "              precision    recall  f1-score   support\n",
      "\n",
      "         0.0       0.56      0.36      0.44      2000\n",
      "         1.0       0.53      0.71      0.60      2000\n",
      "\n",
      "    accuracy                           0.54      4000\n",
      "   macro avg       0.54      0.54      0.52      4000\n",
      "weighted avg       0.54      0.54      0.52      4000\n",
      "\n"
     ]
    }
   ],
   "source": [
    "classify(GradientBoostingClassifier(),train,test)"
   ],
   "metadata": {
    "collapsed": false,
    "pycharm": {
     "name": "#%%\n"
    }
   }
  },
  {
   "cell_type": "code",
   "execution_count": 38,
   "outputs": [
    {
     "name": "stdout",
     "output_type": "stream",
     "text": [
      "              precision    recall  f1-score   support\n",
      "\n",
      "         0.0       0.57      0.28      0.38      2000\n",
      "         1.0       0.52      0.79      0.63      2000\n",
      "\n",
      "    accuracy                           0.54      4000\n",
      "   macro avg       0.55      0.54      0.50      4000\n",
      "weighted avg       0.55      0.54      0.50      4000\n",
      "\n"
     ]
    }
   ],
   "source": [
    "classify(MLPClassifier(),train,test)"
   ],
   "metadata": {
    "collapsed": false,
    "pycharm": {
     "name": "#%%\n"
    }
   }
  }
 ],
 "metadata": {
  "kernelspec": {
   "display_name": "Python 3",
   "language": "python",
   "name": "python3"
  },
  "language_info": {
   "codemirror_mode": {
    "name": "ipython",
    "version": 2
   },
   "file_extension": ".py",
   "mimetype": "text/x-python",
   "name": "python",
   "nbconvert_exporter": "python",
   "pygments_lexer": "ipython2",
   "version": "2.7.6"
  }
 },
 "nbformat": 4,
 "nbformat_minor": 0
}