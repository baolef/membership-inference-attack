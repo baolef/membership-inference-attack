{
 "cells": [
  {
   "cell_type": "markdown",
   "source": [
    "# Baseline: ecapa"
   ],
   "metadata": {
    "collapsed": false,
    "pycharm": {
     "name": "#%% md\n"
    }
   }
  },
  {
   "cell_type": "code",
   "execution_count": 5,
   "outputs": [],
   "source": [
    "from speechbrain.nnet.losses import LogSoftmaxWrapper, AdditiveAngularMargin\n",
    "from speechbrain.pretrained import EncoderClassifier\n",
    "from data import create_dataloader\n",
    "import torch\n",
    "import numpy as np\n",
    "from sklearn.metrics import classification_report, RocCurveDisplay\n",
    "from sklearn.linear_model import LogisticRegression\n",
    "from sklearn.svm import SVC\n",
    "from sklearn.ensemble import RandomForestClassifier, AdaBoostClassifier, GradientBoostingClassifier\n",
    "from sklearn.neural_network import MLPClassifier\n",
    "import os\n",
    "import matplotlib.pyplot as plt"
   ],
   "metadata": {
    "collapsed": false,
    "pycharm": {
     "name": "#%%\n"
    }
   }
  },
  {
   "cell_type": "markdown",
   "source": [
    "## Configuration"
   ],
   "metadata": {
    "collapsed": false,
    "pycharm": {
     "name": "#%% md\n"
    }
   }
  },
  {
   "cell_type": "code",
   "execution_count": 6,
   "outputs": [],
   "source": [
    "model_name='spkrec-ecapa-voxceleb'\n",
    "dir='recording'\n",
    "root=os.path.join('dataset',model_name,dir)"
   ],
   "metadata": {
    "collapsed": false,
    "pycharm": {
     "name": "#%%\n"
    }
   }
  },
  {
   "cell_type": "markdown",
   "source": [
    "## Data preparation"
   ],
   "metadata": {
    "collapsed": false,
    "pycharm": {
     "name": "#%% md\n"
    }
   }
  },
  {
   "cell_type": "code",
   "execution_count": 7,
   "outputs": [],
   "source": [
    "def compute_features(model, loader, criterion):\n",
    "    features=[]\n",
    "    labels=[]\n",
    "    lab2ind=model.hparams.label_encoder.lab2ind\n",
    "    for i, data in enumerate(loader):\n",
    "\n",
    "        x, label, y = data\n",
    "        x = x.cuda()\n",
    "        with torch.inference_mode():\n",
    "            pred, score, _, _ = model.classify_batch(x)\n",
    "        features.append([score])\n",
    "        labels.append(label)\n",
    "    return torch.tensor(features).numpy(), torch.tensor(labels).numpy()\n"
   ],
   "metadata": {
    "collapsed": false,
    "pycharm": {
     "name": "#%%\n"
    }
   }
  },
  {
   "cell_type": "code",
   "execution_count": 8,
   "outputs": [
    {
     "ename": "KeyError",
     "evalue": "'label'",
     "output_type": "error",
     "traceback": [
      "\u001B[0;31m---------------------------------------------------------------------------\u001B[0m",
      "\u001B[0;31mKeyError\u001B[0m                                  Traceback (most recent call last)",
      "Cell \u001B[0;32mIn[8], line 10\u001B[0m\n\u001B[1;32m      8\u001B[0m model\u001B[38;5;241m=\u001B[39mEncoderClassifier\u001B[38;5;241m.\u001B[39mfrom_hparams(source\u001B[38;5;241m=\u001B[39m\u001B[38;5;124m\"\u001B[39m\u001B[38;5;124mspeechbrain/spkrec-ecapa-voxceleb\u001B[39m\u001B[38;5;124m\"\u001B[39m, run_opts\u001B[38;5;241m=\u001B[39m{\u001B[38;5;124m\"\u001B[39m\u001B[38;5;124mdevice\u001B[39m\u001B[38;5;124m\"\u001B[39m: \u001B[38;5;124m\"\u001B[39m\u001B[38;5;124mcuda\u001B[39m\u001B[38;5;124m\"\u001B[39m})\n\u001B[1;32m      9\u001B[0m model\u001B[38;5;241m.\u001B[39meval()\n\u001B[0;32m---> 10\u001B[0m train_loader, val_loader, test_loader \u001B[38;5;241m=\u001B[39m \u001B[43mcreate_dataloader\u001B[49m\u001B[43m(\u001B[49m\n\u001B[1;32m     11\u001B[0m \u001B[43m    \u001B[49m\u001B[43mroot\u001B[49m\u001B[38;5;241;43m=\u001B[39;49m\u001B[38;5;124;43m'\u001B[39;49m\u001B[38;5;124;43msplit/recording\u001B[39;49m\u001B[38;5;124;43m'\u001B[39;49m\u001B[43m,\u001B[49m\n\u001B[1;32m     12\u001B[0m \u001B[43m    \u001B[49m\u001B[43mdata_root\u001B[49m\u001B[38;5;241;43m=\u001B[39;49m\u001B[38;5;124;43m'\u001B[39;49m\u001B[38;5;124;43m/home/baole/cmu/2023spring/11785/data/vox1/vox1_all/wav/\u001B[39;49m\u001B[38;5;124;43m'\u001B[39;49m\u001B[43m,\u001B[49m\n\u001B[1;32m     13\u001B[0m \u001B[43m    \u001B[49m\u001B[43mbatch_size\u001B[49m\u001B[38;5;241;43m=\u001B[39;49m\u001B[38;5;241;43m1\u001B[39;49m\n\u001B[1;32m     14\u001B[0m \u001B[43m\u001B[49m\u001B[43m)\u001B[49m\n\u001B[1;32m     16\u001B[0m train_x, train_y\u001B[38;5;241m=\u001B[39mcompute_features(model, train_loader, criterion)\n\u001B[1;32m     17\u001B[0m val_x, val_y\u001B[38;5;241m=\u001B[39mcompute_features(model, val_loader, criterion)\n",
      "File \u001B[0;32m~/cmu/2023spring/11785/project/membership-inference-attack/data.py:41\u001B[0m, in \u001B[0;36mcreate_dataloader\u001B[0;34m(root, data_root, batch_size)\u001B[0m\n\u001B[1;32m     40\u001B[0m \u001B[38;5;28;01mdef\u001B[39;00m \u001B[38;5;21mcreate_dataloader\u001B[39m(root, data_root, batch_size):\n\u001B[0;32m---> 41\u001B[0m     train_data \u001B[38;5;241m=\u001B[39m \u001B[43mAudioDataset\u001B[49m\u001B[43m(\u001B[49m\u001B[43mos\u001B[49m\u001B[38;5;241;43m.\u001B[39;49m\u001B[43mpath\u001B[49m\u001B[38;5;241;43m.\u001B[39;49m\u001B[43mjoin\u001B[49m\u001B[43m(\u001B[49m\u001B[43mroot\u001B[49m\u001B[43m,\u001B[49m\u001B[43m \u001B[49m\u001B[38;5;124;43m'\u001B[39;49m\u001B[38;5;124;43mtrain.csv\u001B[39;49m\u001B[38;5;124;43m'\u001B[39;49m\u001B[43m)\u001B[49m\u001B[43m,\u001B[49m\u001B[43m \u001B[49m\u001B[43mdata_root\u001B[49m\u001B[43m)\u001B[49m\n\u001B[1;32m     42\u001B[0m     val_data \u001B[38;5;241m=\u001B[39m AudioDataset(os\u001B[38;5;241m.\u001B[39mpath\u001B[38;5;241m.\u001B[39mjoin(root, \u001B[38;5;124m'\u001B[39m\u001B[38;5;124mval.csv\u001B[39m\u001B[38;5;124m'\u001B[39m), data_root)\n\u001B[1;32m     43\u001B[0m     test_data \u001B[38;5;241m=\u001B[39m AudioDataset(os\u001B[38;5;241m.\u001B[39mpath\u001B[38;5;241m.\u001B[39mjoin(root, \u001B[38;5;124m'\u001B[39m\u001B[38;5;124mtest.csv\u001B[39m\u001B[38;5;124m'\u001B[39m), data_root)\n",
      "File \u001B[0;32m~/cmu/2023spring/11785/project/membership-inference-attack/data.py:25\u001B[0m, in \u001B[0;36mAudioDataset.__init__\u001B[0;34m(self, root, data_root)\u001B[0m\n\u001B[1;32m     22\u001B[0m         audio, _ \u001B[38;5;241m=\u001B[39m torchaudio\u001B[38;5;241m.\u001B[39mload(path, num_frames\u001B[38;5;241m=\u001B[39mnum_frames, frame_offset\u001B[38;5;241m=\u001B[39mstart)\n\u001B[1;32m     23\u001B[0m         \u001B[38;5;28mself\u001B[39m\u001B[38;5;241m.\u001B[39maudios\u001B[38;5;241m.\u001B[39mappend(audio\u001B[38;5;241m.\u001B[39mflatten())\n\u001B[0;32m---> 25\u001B[0m         \u001B[38;5;28mself\u001B[39m\u001B[38;5;241m.\u001B[39mlabels\u001B[38;5;241m.\u001B[39mappend([\u001B[38;5;28mfloat\u001B[39m(\u001B[43mrow\u001B[49m\u001B[43m[\u001B[49m\u001B[38;5;124;43m'\u001B[39;49m\u001B[38;5;124;43mlabel\u001B[39;49m\u001B[38;5;124;43m'\u001B[39;49m\u001B[43m]\u001B[49m)])\n\u001B[1;32m     26\u001B[0m         \u001B[38;5;28mself\u001B[39m\u001B[38;5;241m.\u001B[39mids\u001B[38;5;241m.\u001B[39mappend(row[\u001B[38;5;124m'\u001B[39m\u001B[38;5;124mspk_id\u001B[39m\u001B[38;5;124m'\u001B[39m])\n\u001B[1;32m     28\u001B[0m \u001B[38;5;28mself\u001B[39m\u001B[38;5;241m.\u001B[39mlength \u001B[38;5;241m=\u001B[39m \u001B[38;5;28mlen\u001B[39m(\u001B[38;5;28mself\u001B[39m\u001B[38;5;241m.\u001B[39maudios)\n",
      "\u001B[0;31mKeyError\u001B[0m: 'label'"
     ]
    }
   ],
   "source": [
    "if os.path.exists(root):\n",
    "    train=np.load(os.path.join(root,'train.npy'))\n",
    "    val=np.load(os.path.join(root,'val.npy'))\n",
    "    test=np.load(os.path.join(root,'test.npy'))\n",
    "else:\n",
    "    os.makedirs(root)\n",
    "    criterion=LogSoftmaxWrapper(AdditiveAngularMargin(margin=0.2, scale=30))\n",
    "    model=EncoderClassifier.from_hparams(source=\"speechbrain/spkrec-ecapa-voxceleb\", run_opts={\"device\": \"cuda\"})\n",
    "    model.eval()\n",
    "    train_loader, val_loader, test_loader = create_dataloader(\n",
    "        root='split/recording',\n",
    "        data_root='/home/baole/cmu/2023spring/11785/data/vox1/vox1_all/wav/',\n",
    "        batch_size=1\n",
    "    )\n",
    "\n",
    "    train_x, train_y=compute_features(model, train_loader, criterion)\n",
    "    val_x, val_y=compute_features(model, val_loader, criterion)\n",
    "    test_x, test_y=compute_features(model, test_loader, criterion)\n",
    "\n",
    "    train=np.column_stack((train_x,train_y))\n",
    "    np.save(os.path.join(root,'train.npy'),train)\n",
    "    val=np.column_stack((val_x,val_y))\n",
    "    np.save(os.path.join(root,'val.npy'),val)\n",
    "    test=np.column_stack((test_x,test_y))\n",
    "    np.save(os.path.join(root,'test.npy'),test)"
   ],
   "metadata": {
    "collapsed": false,
    "pycharm": {
     "name": "#%%\n"
    }
   }
  },
  {
   "cell_type": "markdown",
   "source": [
    "## Visualization"
   ],
   "metadata": {
    "collapsed": false,
    "pycharm": {
     "name": "#%% md\n"
    }
   }
  },
  {
   "cell_type": "code",
   "execution_count": null,
   "outputs": [],
   "source": [
    "def visualize(dataset):\n",
    "    plt.scatter(dataset[:,0],dataset[:,1])\n",
    "    plt.xlabel('confidence')\n",
    "    plt.ylabel('label (pos/neg)')\n",
    "    plt.show()"
   ],
   "metadata": {
    "collapsed": false,
    "pycharm": {
     "name": "#%%\n"
    }
   }
  },
  {
   "cell_type": "code",
   "execution_count": null,
   "outputs": [],
   "source": [
    "visualize(train)"
   ],
   "metadata": {
    "collapsed": false,
    "pycharm": {
     "name": "#%%\n"
    }
   }
  },
  {
   "cell_type": "code",
   "execution_count": null,
   "outputs": [],
   "source": [
    "visualize(val)"
   ],
   "metadata": {
    "collapsed": false,
    "pycharm": {
     "name": "#%%\n"
    }
   }
  },
  {
   "cell_type": "code",
   "execution_count": null,
   "outputs": [],
   "source": [
    "visualize(test)"
   ],
   "metadata": {
    "collapsed": false,
    "pycharm": {
     "name": "#%%\n"
    }
   }
  },
  {
   "cell_type": "markdown",
   "source": [
    "## Evaluation"
   ],
   "metadata": {
    "collapsed": false,
    "pycharm": {
     "name": "#%% md\n"
    }
   }
  },
  {
   "cell_type": "code",
   "execution_count": null,
   "outputs": [],
   "source": [
    "def classify(classifier, train, test):\n",
    "    classifier.fit(train[:,:-1], train[:,-1])\n",
    "    pred=classifier.predict(test[:,:-1])\n",
    "    print(classification_report(test[:,-1],pred))\n",
    "    RocCurveDisplay.from_estimator(classifier,test[:,:-1],test[:,-1])\n",
    "    plt.show()"
   ],
   "metadata": {
    "collapsed": false,
    "pycharm": {
     "name": "#%%\n"
    }
   }
  },
  {
   "cell_type": "code",
   "execution_count": null,
   "outputs": [],
   "source": [
    "classify(LogisticRegression(),train,test)"
   ],
   "metadata": {
    "collapsed": false,
    "pycharm": {
     "name": "#%%\n"
    }
   }
  },
  {
   "cell_type": "code",
   "execution_count": null,
   "outputs": [],
   "source": [
    "classify(SVC(),train,test)"
   ],
   "metadata": {
    "collapsed": false,
    "pycharm": {
     "name": "#%%\n"
    }
   }
  },
  {
   "cell_type": "code",
   "execution_count": null,
   "outputs": [],
   "source": [
    "classify(RandomForestClassifier(),train,test)"
   ],
   "metadata": {
    "collapsed": false,
    "pycharm": {
     "name": "#%%\n"
    }
   }
  },
  {
   "cell_type": "code",
   "execution_count": null,
   "outputs": [],
   "source": [
    "classify(AdaBoostClassifier(),train,test)"
   ],
   "metadata": {
    "collapsed": false,
    "pycharm": {
     "name": "#%%\n"
    }
   }
  },
  {
   "cell_type": "code",
   "execution_count": null,
   "outputs": [],
   "source": [
    "classify(GradientBoostingClassifier(),train,test)"
   ],
   "metadata": {
    "collapsed": false,
    "pycharm": {
     "name": "#%%\n"
    }
   }
  },
  {
   "cell_type": "code",
   "execution_count": null,
   "outputs": [],
   "source": [
    "classify(MLPClassifier(),train,test)"
   ],
   "metadata": {
    "collapsed": false,
    "pycharm": {
     "name": "#%%\n"
    }
   }
  },
  {
   "cell_type": "code",
   "execution_count": null,
   "outputs": [],
   "source": [],
   "metadata": {
    "collapsed": false,
    "pycharm": {
     "name": "#%%\n"
    }
   }
  }
 ],
 "metadata": {
  "kernelspec": {
   "display_name": "Python 3",
   "language": "python",
   "name": "python3"
  },
  "language_info": {
   "codemirror_mode": {
    "name": "ipython",
    "version": 2
   },
   "file_extension": ".py",
   "mimetype": "text/x-python",
   "name": "python",
   "nbconvert_exporter": "python",
   "pygments_lexer": "ipython2",
   "version": "2.7.6"
  }
 },
 "nbformat": 4,
 "nbformat_minor": 0
}